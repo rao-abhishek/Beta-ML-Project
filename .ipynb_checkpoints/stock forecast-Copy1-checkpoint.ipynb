{
 "cells": [
  {
   "cell_type": "code",
   "execution_count": 1,
   "id": "119ef146",
   "metadata": {},
   "outputs": [],
   "source": [
    "#import the libraries\n",
    "import pandas as pd\n",
    "import math\n",
    "import pandas_datareader as web\n",
    "import numpy as np\n",
    "from sklearn.preprocessing import MinMaxScaler\n",
    "from keras.models import Sequential\n",
    "from keras.layers import Dense, LSTM ,Dropout\n",
    "import matplotlib.pyplot as plt\n",
    "plt.style.use('fivethirtyeight')"
   ]
  },
  {
   "cell_type": "code",
   "execution_count": 2,
   "id": "86305e7d",
   "metadata": {},
   "outputs": [],
   "source": [
    "#MACRO DEF\n",
    "\n",
    "STOCK = 'MSFT'\n",
    "EPOCHS = 100\n",
    "model_path = 'machine learning model/'+STOCK+'_model.pkl'\n",
    "START_DATE = '2012-01-01'\n",
    "END_DATE = '2022-02-28'\n",
    "PREDICT_DATE = '2022-03-01'\n",
    "ERR_EPOCHS = 120"
   ]
  },
  {
   "cell_type": "code",
   "execution_count": 3,
   "id": "0baa4ed2",
   "metadata": {},
   "outputs": [
    {
     "data": {
      "text/html": [
       "<div>\n",
       "<style scoped>\n",
       "    .dataframe tbody tr th:only-of-type {\n",
       "        vertical-align: middle;\n",
       "    }\n",
       "\n",
       "    .dataframe tbody tr th {\n",
       "        vertical-align: top;\n",
       "    }\n",
       "\n",
       "    .dataframe thead th {\n",
       "        text-align: right;\n",
       "    }\n",
       "</style>\n",
       "<table border=\"1\" class=\"dataframe\">\n",
       "  <thead>\n",
       "    <tr style=\"text-align: right;\">\n",
       "      <th></th>\n",
       "      <th>High</th>\n",
       "      <th>Low</th>\n",
       "      <th>Open</th>\n",
       "      <th>Close</th>\n",
       "      <th>Volume</th>\n",
       "      <th>Adj Close</th>\n",
       "    </tr>\n",
       "    <tr>\n",
       "      <th>Date</th>\n",
       "      <th></th>\n",
       "      <th></th>\n",
       "      <th></th>\n",
       "      <th></th>\n",
       "      <th></th>\n",
       "      <th></th>\n",
       "    </tr>\n",
       "  </thead>\n",
       "  <tbody>\n",
       "    <tr>\n",
       "      <th>2012-01-03</th>\n",
       "      <td>26.959999</td>\n",
       "      <td>26.389999</td>\n",
       "      <td>26.549999</td>\n",
       "      <td>26.770000</td>\n",
       "      <td>64731500.0</td>\n",
       "      <td>21.623138</td>\n",
       "    </tr>\n",
       "    <tr>\n",
       "      <th>2012-01-04</th>\n",
       "      <td>27.469999</td>\n",
       "      <td>26.780001</td>\n",
       "      <td>26.820000</td>\n",
       "      <td>27.400000</td>\n",
       "      <td>80516100.0</td>\n",
       "      <td>22.132011</td>\n",
       "    </tr>\n",
       "    <tr>\n",
       "      <th>2012-01-05</th>\n",
       "      <td>27.730000</td>\n",
       "      <td>27.290001</td>\n",
       "      <td>27.379999</td>\n",
       "      <td>27.680000</td>\n",
       "      <td>56081400.0</td>\n",
       "      <td>22.358175</td>\n",
       "    </tr>\n",
       "    <tr>\n",
       "      <th>2012-01-06</th>\n",
       "      <td>28.190001</td>\n",
       "      <td>27.530001</td>\n",
       "      <td>27.530001</td>\n",
       "      <td>28.110001</td>\n",
       "      <td>99455500.0</td>\n",
       "      <td>22.705500</td>\n",
       "    </tr>\n",
       "    <tr>\n",
       "      <th>2012-01-09</th>\n",
       "      <td>28.100000</td>\n",
       "      <td>27.719999</td>\n",
       "      <td>28.049999</td>\n",
       "      <td>27.740000</td>\n",
       "      <td>59706800.0</td>\n",
       "      <td>22.406643</td>\n",
       "    </tr>\n",
       "    <tr>\n",
       "      <th>...</th>\n",
       "      <td>...</td>\n",
       "      <td>...</td>\n",
       "      <td>...</td>\n",
       "      <td>...</td>\n",
       "      <td>...</td>\n",
       "      <td>...</td>\n",
       "    </tr>\n",
       "    <tr>\n",
       "      <th>2022-02-22</th>\n",
       "      <td>291.540009</td>\n",
       "      <td>284.500000</td>\n",
       "      <td>285.000000</td>\n",
       "      <td>287.720001</td>\n",
       "      <td>41736100.0</td>\n",
       "      <td>287.720001</td>\n",
       "    </tr>\n",
       "    <tr>\n",
       "      <th>2022-02-23</th>\n",
       "      <td>291.700012</td>\n",
       "      <td>280.100006</td>\n",
       "      <td>290.179993</td>\n",
       "      <td>280.269989</td>\n",
       "      <td>37811200.0</td>\n",
       "      <td>280.269989</td>\n",
       "    </tr>\n",
       "    <tr>\n",
       "      <th>2022-02-24</th>\n",
       "      <td>295.160004</td>\n",
       "      <td>271.519989</td>\n",
       "      <td>272.510010</td>\n",
       "      <td>294.589996</td>\n",
       "      <td>56989700.0</td>\n",
       "      <td>294.589996</td>\n",
       "    </tr>\n",
       "    <tr>\n",
       "      <th>2022-02-25</th>\n",
       "      <td>297.630005</td>\n",
       "      <td>291.649994</td>\n",
       "      <td>295.140015</td>\n",
       "      <td>297.309998</td>\n",
       "      <td>32546700.0</td>\n",
       "      <td>297.309998</td>\n",
       "    </tr>\n",
       "    <tr>\n",
       "      <th>2022-02-28</th>\n",
       "      <td>299.140015</td>\n",
       "      <td>293.000000</td>\n",
       "      <td>294.309998</td>\n",
       "      <td>298.790009</td>\n",
       "      <td>34585700.0</td>\n",
       "      <td>298.790009</td>\n",
       "    </tr>\n",
       "  </tbody>\n",
       "</table>\n",
       "<p>2556 rows × 6 columns</p>\n",
       "</div>"
      ],
      "text/plain": [
       "                  High         Low        Open       Close      Volume  \\\n",
       "Date                                                                     \n",
       "2012-01-03   26.959999   26.389999   26.549999   26.770000  64731500.0   \n",
       "2012-01-04   27.469999   26.780001   26.820000   27.400000  80516100.0   \n",
       "2012-01-05   27.730000   27.290001   27.379999   27.680000  56081400.0   \n",
       "2012-01-06   28.190001   27.530001   27.530001   28.110001  99455500.0   \n",
       "2012-01-09   28.100000   27.719999   28.049999   27.740000  59706800.0   \n",
       "...                ...         ...         ...         ...         ...   \n",
       "2022-02-22  291.540009  284.500000  285.000000  287.720001  41736100.0   \n",
       "2022-02-23  291.700012  280.100006  290.179993  280.269989  37811200.0   \n",
       "2022-02-24  295.160004  271.519989  272.510010  294.589996  56989700.0   \n",
       "2022-02-25  297.630005  291.649994  295.140015  297.309998  32546700.0   \n",
       "2022-02-28  299.140015  293.000000  294.309998  298.790009  34585700.0   \n",
       "\n",
       "             Adj Close  \n",
       "Date                    \n",
       "2012-01-03   21.623138  \n",
       "2012-01-04   22.132011  \n",
       "2012-01-05   22.358175  \n",
       "2012-01-06   22.705500  \n",
       "2012-01-09   22.406643  \n",
       "...                ...  \n",
       "2022-02-22  287.720001  \n",
       "2022-02-23  280.269989  \n",
       "2022-02-24  294.589996  \n",
       "2022-02-25  297.309998  \n",
       "2022-02-28  298.790009  \n",
       "\n",
       "[2556 rows x 6 columns]"
      ]
     },
     "execution_count": 3,
     "metadata": {},
     "output_type": "execute_result"
    }
   ],
   "source": [
    "\n",
    "\n",
    "#get the stock data\n",
    "df = web.DataReader(STOCK, data_source='yahoo' , start=START_DATE , end=END_DATE)\n",
    "\n",
    "#show the data\n",
    "df\n"
   ]
  },
  {
   "cell_type": "code",
   "execution_count": 4,
   "id": "8728e389",
   "metadata": {},
   "outputs": [
    {
     "data": {
      "text/plain": [
       "(2556, 6)"
      ]
     },
     "execution_count": 4,
     "metadata": {},
     "output_type": "execute_result"
    }
   ],
   "source": [
    "#get the number of rows and column in the data set\n",
    "df.shape"
   ]
  },
  {
   "cell_type": "code",
   "execution_count": 5,
   "id": "ede5a4f5",
   "metadata": {},
   "outputs": [
    {
     "data": {
      "image/png": "[encoded data removed]",
      "text/plain": [
       "<Figure size 1152x576 with 1 Axes>"
      ]
     },
     "metadata": {},
     "output_type": "display_data"
    }
   ],
   "source": [
    "#Visualing the closing price history\n",
    "plt.figure(figsize=(16,8))\n",
    "plt.title('Close Price History')\n",
    "plt.plot(df['Close'])\n",
    "plt.xlabel('Date', fontsize=18)\n",
    "plt.ylabel('Closing Price USD($)', fontsize=18)\n",
    "plt.show()"
   ]
  },
  {
   "cell_type": "code",
   "execution_count": 6,
   "id": "860e4005",
   "metadata": {},
   "outputs": [
    {
     "data": {
      "text/plain": [
       "2045"
      ]
     },
     "execution_count": 6,
     "metadata": {},
     "output_type": "execute_result"
    }
   ],
   "source": [
    "#Create a new data\n",
    "data = df.filter(['Close'])\n",
    "#convert the dataframe to a numpy array\n",
    "dataset = data.values\n",
    "#get the number of rows to train the model on\n",
    "training_data_len = math.ceil(len(dataset)*0.8)\n",
    "training_data_len"
   ]
  },
  {
   "cell_type": "code",
   "execution_count": null,
   "id": "d71c5d95",
   "metadata": {},
   "outputs": [],
   "source": []
  },
  {
   "cell_type": "code",
   "execution_count": 7,
   "id": "83ae7dd3",
   "metadata": {},
   "outputs": [
    {
     "data": {
      "text/plain": [
       "array([[0.00126286],\n",
       "       [0.00325187],\n",
       "       [0.00413588],\n",
       "       ...,\n",
       "       [0.84681445],\n",
       "       [0.85540194],\n",
       "       [0.86007458]])"
      ]
     },
     "execution_count": 7,
     "metadata": {},
     "output_type": "execute_result"
    }
   ],
   "source": [
    "#Scale the data\n",
    "scaler = MinMaxScaler(feature_range=(0,1))\n",
    "scaled_data = scaler.fit_transform(dataset)\n",
    "\n",
    "scaled_data"
   ]
  },
  {
   "cell_type": "code",
   "execution_count": 8,
   "id": "22de3219",
   "metadata": {},
   "outputs": [
    {
     "name": "stdout",
     "output_type": "stream",
     "text": [
      "[array([0.00126286, 0.00325187, 0.00413588, 0.00549346, 0.00432531,\n",
      "       0.00464103, 0.00426217, 0.00514617, 0.00593547, 0.00596704,\n",
      "       0.00587232, 0.00552504, 0.01054492, 0.01060807, 0.00937677,\n",
      "       0.01007135, 0.00988192, 0.00902948, 0.01022921, 0.00997664,\n",
      "       0.01111321, 0.01130265, 0.01221822, 0.01209194, 0.01256551,\n",
      "       0.01354423, 0.01389152, 0.01303908, 0.01329166, 0.01224979,\n",
      "       0.01161836, 0.01553325, 0.01540696, 0.01600682, 0.0154701 ,\n",
      "       0.01578582, 0.0161331 , 0.01572267, 0.0173644 , 0.01695397,\n",
      "       0.01869041, 0.01802741, 0.01714339, 0.01638568, 0.01726968,\n",
      "       0.0178064 , 0.01774326, 0.01790112, 0.01989012, 0.02020585,\n",
      "       0.02045841, 0.01966912, 0.01840626, 0.01774326, 0.01749068,\n",
      "       0.01777483, 0.0178064 , 0.01963756, 0.01941656, 0.01837469])]\n",
      "[0.018153685590104426]\n",
      "\n",
      "[array([0.00126286, 0.00325187, 0.00413588, 0.00549346, 0.00432531,\n",
      "       0.00464103, 0.00426217, 0.00514617, 0.00593547, 0.00596704,\n",
      "       0.00587232, 0.00552504, 0.01054492, 0.01060807, 0.00937677,\n",
      "       0.01007135, 0.00988192, 0.00902948, 0.01022921, 0.00997664,\n",
      "       0.01111321, 0.01130265, 0.01221822, 0.01209194, 0.01256551,\n",
      "       0.01354423, 0.01389152, 0.01303908, 0.01329166, 0.01224979,\n",
      "       0.01161836, 0.01553325, 0.01540696, 0.01600682, 0.0154701 ,\n",
      "       0.01578582, 0.0161331 , 0.01572267, 0.0173644 , 0.01695397,\n",
      "       0.01869041, 0.01802741, 0.01714339, 0.01638568, 0.01726968,\n",
      "       0.0178064 , 0.01774326, 0.01790112, 0.01989012, 0.02020585,\n",
      "       0.02045841, 0.01966912, 0.01840626, 0.01774326, 0.01749068,\n",
      "       0.01777483, 0.0178064 , 0.01963756, 0.01941656, 0.01837469]), array([0.00325187, 0.00413588, 0.00549346, 0.00432531, 0.00464103,\n",
      "       0.00426217, 0.00514617, 0.00593547, 0.00596704, 0.00587232,\n",
      "       0.00552504, 0.01054492, 0.01060807, 0.00937677, 0.01007135,\n",
      "       0.00988192, 0.00902948, 0.01022921, 0.00997664, 0.01111321,\n",
      "       0.01130265, 0.01221822, 0.01209194, 0.01256551, 0.01354423,\n",
      "       0.01389152, 0.01303908, 0.01329166, 0.01224979, 0.01161836,\n",
      "       0.01553325, 0.01540696, 0.01600682, 0.0154701 , 0.01578582,\n",
      "       0.0161331 , 0.01572267, 0.0173644 , 0.01695397, 0.01869041,\n",
      "       0.01802741, 0.01714339, 0.01638568, 0.01726968, 0.0178064 ,\n",
      "       0.01774326, 0.01790112, 0.01989012, 0.02020585, 0.02045841,\n",
      "       0.01966912, 0.01840626, 0.01774326, 0.01749068, 0.01777483,\n",
      "       0.0178064 , 0.01963756, 0.01941656, 0.01837469, 0.01815369])]\n",
      "[0.018153685590104426, 0.01859568658932778]\n",
      "\n"
     ]
    }
   ],
   "source": [
    "#creating the training data set\n",
    "#create the scaled training data set\n",
    "train_data = scaled_data[0:training_data_len,:]\n",
    "#split the data into x_train and y_train data sets\n",
    "x_train = []\n",
    "y_train = []\n",
    "for i in range(60, len(train_data)):\n",
    "    x_train.append(train_data[i-60:i,0])\n",
    "    y_train.append(train_data[i,0])\n",
    "    if i<=61:\n",
    "        print(x_train)\n",
    "        print(y_train)\n",
    "        print()"
   ]
  },
  {
   "cell_type": "code",
   "execution_count": 9,
   "id": "d58092dc",
   "metadata": {},
   "outputs": [],
   "source": [
    "#Convert the X_train and Y_train to numpy arrays\n",
    "x_train , y_train = np.array(x_train), np.array(y_train)"
   ]
  },
  {
   "cell_type": "code",
   "execution_count": 10,
   "id": "de162dec",
   "metadata": {},
   "outputs": [
    {
     "data": {
      "text/plain": [
       "(1985, 60, 1)"
      ]
     },
     "execution_count": 10,
     "metadata": {},
     "output_type": "execute_result"
    }
   ],
   "source": [
    "#Reshape the data\n",
    "x_train = np.reshape(x_train,(x_train.shape[0],x_train.shape[1],1))\n",
    "x_train.shape"
   ]
  },
  {
   "cell_type": "code",
   "execution_count": 11,
   "id": "eefcb209",
   "metadata": {},
   "outputs": [],
   "source": [
    "#Building the LSTM model\n",
    "model = Sequential()\n",
    "model.add(LSTM(50, return_sequences=True, input_shape =(x_train.shape[1],1)))\n",
    "\n",
    "#adding a fourth fifth layer and some Dropout regularistion\n",
    "model.add(LSTM(units = 50, return_sequences = False))\n",
    "\n",
    "model.add(Dense(25))\n",
    "model.add(Dense(1))"
   ]
  },
  {
   "cell_type": "code",
   "execution_count": 12,
   "id": "eeab6098",
   "metadata": {},
   "outputs": [],
   "source": [
    "#compile the Model\n",
    "model.compile(optimizer='adam', loss='mean_squared_error')\n"
   ]
  },
  {
   "cell_type": "code",
   "execution_count": 13,
   "id": "febd0e6e",
   "metadata": {},
   "outputs": [
    {
     "data": {
      "text/plain": [
       "\"for i in range(10):\\n    model.fit(x_train, y_train, batch_size=32, epochs=i)\\n    #create the testing data set\\n    #create a new array containing scaled values from index 1543 to 2003\\n    test_data = scaled_data[training_data_len - 60: , :]\\n    #create the data sets x_test adn y_test\\n    x_test = []\\n    y_test = dataset[training_data_len:,:]\\n    for i in range(60, len(test_data)):\\n        x_test.append(test_data[i-60:i,0])\\n    #convert the data to a numpy array\\n    x_test = np.array(x_test)\\n    #resahpe the data\\n    x_test = np.reshape(x_test,(x_test.shape[0],x_test.shape[1],1))\\n    #get the models predicted price values\\n    predictions = model.predict(x_test)\\n    predictions = scaler.inverse_transform(predictions)\\n    #get the root mean squared error (RMSE)\\n    rmse =  np.sqrt(np.mean(predictions - y_test)**2)\\n    print(rmse)\\n    #plot the date\\n    train = data[:training_data_len]\\n    valid = data[training_data_len:]\\n    valid['Predictions'] = predictions\\n    #visualize the data\\n    plt.figure(figsize=(16,8))\\n    plt.title('Model')\\n    plt.xlabel('Date')\\n    plt.ylabel('Close Price USD ($)')\\n    plt.plot(train['Close'])\\n    plt.plot(valid[['Close', 'Predictions']])\\n    plt.legend(['Train', 'Val', 'Predictions'], loc='lower right')\\n    plt.show()\\n    print(valid)\""
      ]
     },
     "execution_count": 13,
     "metadata": {},
     "output_type": "execute_result"
    }
   ],
   "source": [
    "'''for i in range(10):\n",
    "    model.fit(x_train, y_train, batch_size=32, epochs=i)\n",
    "    #create the testing data set\n",
    "    #create a new array containing scaled values from index 1543 to 2003\n",
    "    test_data = scaled_data[training_data_len - 60: , :]\n",
    "    #create the data sets x_test adn y_test\n",
    "    x_test = []\n",
    "    y_test = dataset[training_data_len:,:]\n",
    "    for i in range(60, len(test_data)):\n",
    "        x_test.append(test_data[i-60:i,0])\n",
    "    #convert the data to a numpy array\n",
    "    x_test = np.array(x_test)\n",
    "    #resahpe the data\n",
    "    x_test = np.reshape(x_test,(x_test.shape[0],x_test.shape[1],1))\n",
    "    #get the models predicted price values\n",
    "    predictions = model.predict(x_test)\n",
    "    predictions = scaler.inverse_transform(predictions)\n",
    "    #get the root mean squared error (RMSE)\n",
    "    rmse =  np.sqrt(np.mean(predictions - y_test)**2)\n",
    "    print(rmse)\n",
    "    #plot the date\n",
    "    train = data[:training_data_len]\n",
    "    valid = data[training_data_len:]\n",
    "    valid['Predictions'] = predictions\n",
    "    #visualize the data\n",
    "    plt.figure(figsize=(16,8))\n",
    "    plt.title('Model')\n",
    "    plt.xlabel('Date')\n",
    "    plt.ylabel('Close Price USD ($)')\n",
    "    plt.plot(train['Close'])\n",
    "    plt.plot(valid[['Close', 'Predictions']])\n",
    "    plt.legend(['Train', 'Val', 'Predictions'], loc='lower right')\n",
    "    plt.show()\n",
    "    print(valid)'''\n",
    "    \n",
    "    \n",
    "    \n",
    "\n",
    "    "
   ]
  },
  {
   "cell_type": "code",
   "execution_count": 14,
   "id": "d81f2c4a",
   "metadata": {},
   "outputs": [
    {
     "data": {
      "text/plain": [
       "'rmse=10\\nwhile(rmse>0.1):\\n    #train the model\\n    model.fit(x_train, y_train, batch_size=32, epochs=1)\\n    #create the testing data set\\n    #create a new array containing scaled values from index 1543 to 2003\\n    test_data = scaled_data[training_data_len - 60: , :]\\n    #create the data sets x_test adn y_test\\n    x_test = []\\n    y_test = dataset[training_data_len:,:]\\n    for i in range(60, len(test_data)):\\n        x_test.append(test_data[i-60:i,0])\\n    #convert the data to a numpy array\\n    x_test = np.array(x_test)\\n    #resahpe the data\\n    x_test = np.reshape(x_test,(x_test.shape[0],x_test.shape[1],1))\\n    #get the models predicted price values\\n    predictions = model.predict(x_test)\\n    predictions = scaler.inverse_transform(predictions)\\n    #get the root mean squared error (RMSE)\\n    rmse =  np.sqrt(np.mean(predictions - y_test)**2)\\n    print(rmse)'"
      ]
     },
     "execution_count": 14,
     "metadata": {},
     "output_type": "execute_result"
    }
   ],
   "source": [
    "'''rmse=10\n",
    "while(rmse>0.1):\n",
    "    #train the model\n",
    "    model.fit(x_train, y_train, batch_size=32, epochs=1)\n",
    "    #create the testing data set\n",
    "    #create a new array containing scaled values from index 1543 to 2003\n",
    "    test_data = scaled_data[training_data_len - 60: , :]\n",
    "    #create the data sets x_test adn y_test\n",
    "    x_test = []\n",
    "    y_test = dataset[training_data_len:,:]\n",
    "    for i in range(60, len(test_data)):\n",
    "        x_test.append(test_data[i-60:i,0])\n",
    "    #convert the data to a numpy array\n",
    "    x_test = np.array(x_test)\n",
    "    #resahpe the data\n",
    "    x_test = np.reshape(x_test,(x_test.shape[0],x_test.shape[1],1))\n",
    "    #get the models predicted price values\n",
    "    predictions = model.predict(x_test)\n",
    "    predictions = scaler.inverse_transform(predictions)\n",
    "    #get the root mean squared error (RMSE)\n",
    "    rmse =  np.sqrt(np.mean(predictions - y_test)**2)\n",
    "    print(rmse)'''\n",
    "    \n",
    "    \n"
   ]
  },
  {
   "cell_type": "code",
   "execution_count": 15,
   "id": "8729081e",
   "metadata": {
    "scrolled": true
   },
   "outputs": [
    {
     "name": "stdout",
     "output_type": "stream",
     "text": [
      "Epoch 1/100\n",
      "63/63 [==============================] - 6s 41ms/step - loss: 0.0021\n",
      "Epoch 2/100\n",
      "63/63 [==============================] - 3s 44ms/step - loss: 4.9982e-05\n",
      "Epoch 3/100\n",
      "63/63 [==============================] - 3s 40ms/step - loss: 4.9261e-05\n",
      "Epoch 4/100\n",
      "63/63 [==============================] - 3s 41ms/step - loss: 4.2914e-05\n",
      "Epoch 5/100\n",
      "63/63 [==============================] - 2s 39ms/step - loss: 4.0576e-05\n",
      "Epoch 6/100\n",
      "63/63 [==============================] - 3s 41ms/step - loss: 4.2026e-05\n",
      "Epoch 7/100\n",
      "63/63 [==============================] - 3s 47ms/step - loss: 4.1689e-05\n",
      "Epoch 8/100\n",
      "63/63 [==============================] - 3s 40ms/step - loss: 4.3710e-05\n",
      "Epoch 9/100\n",
      "63/63 [==============================] - 2s 39ms/step - loss: 5.6900e-05\n",
      "Epoch 10/100\n",
      "63/63 [==============================] - 5s 73ms/step - loss: 4.7042e-05\n",
      "Epoch 11/100\n",
      "63/63 [==============================] - 5s 80ms/step - loss: 4.2967e-05\n",
      "Epoch 12/100\n",
      "63/63 [==============================] - 5s 78ms/step - loss: 4.5188e-05\n",
      "Epoch 13/100\n",
      "63/63 [==============================] - 4s 56ms/step - loss: 3.6744e-05\n",
      "Epoch 14/100\n",
      "63/63 [==============================] - 3s 42ms/step - loss: 4.1488e-05\n",
      "Epoch 15/100\n",
      "63/63 [==============================] - 3s 41ms/step - loss: 8.2934e-05\n",
      "Epoch 16/100\n",
      "63/63 [==============================] - 3s 43ms/step - loss: 4.2245e-05\n",
      "Epoch 17/100\n",
      "63/63 [==============================] - 3s 44ms/step - loss: 4.9679e-05\n",
      "Epoch 18/100\n",
      "63/63 [==============================] - 3s 41ms/step - loss: 3.5402e-05\n",
      "Epoch 19/100\n",
      "63/63 [==============================] - 5s 73ms/step - loss: 5.1234e-05\n",
      "Epoch 20/100\n",
      "63/63 [==============================] - 5s 80ms/step - loss: 3.4444e-05\n",
      "Epoch 21/100\n",
      "63/63 [==============================] - 5s 79ms/step - loss: 3.6466e-05\n",
      "Epoch 22/100\n",
      "63/63 [==============================] - 5s 81ms/step - loss: 3.5963e-05\n",
      "Epoch 23/100\n",
      "63/63 [==============================] - 5s 77ms/step - loss: 3.8084e-05\n",
      "Epoch 24/100\n",
      "63/63 [==============================] - 4s 60ms/step - loss: 3.7620e-05\n",
      "Epoch 25/100\n",
      "63/63 [==============================] - 3s 41ms/step - loss: 3.5222e-05\n",
      "Epoch 26/100\n",
      "63/63 [==============================] - 3s 40ms/step - loss: 3.5590e-05\n",
      "Epoch 27/100\n",
      "63/63 [==============================] - 2s 39ms/step - loss: 3.2142e-05\n",
      "Epoch 28/100\n",
      "63/63 [==============================] - 3s 44ms/step - loss: 3.2924e-05\n",
      "Epoch 29/100\n",
      "63/63 [==============================] - 3s 44ms/step - loss: 3.6671e-05\n",
      "Epoch 30/100\n",
      "63/63 [==============================] - 5s 83ms/step - loss: 3.5991e-05\n",
      "Epoch 31/100\n",
      "63/63 [==============================] - 5s 82ms/step - loss: 4.0603e-05\n",
      "Epoch 32/100\n",
      "63/63 [==============================] - 5s 77ms/step - loss: 3.8984e-05\n",
      "Epoch 33/100\n",
      "63/63 [==============================] - 5s 78ms/step - loss: 2.7986e-05\n",
      "Epoch 34/100\n",
      "63/63 [==============================] - 5s 80ms/step - loss: 2.9622e-05\n",
      "Epoch 35/100\n",
      "63/63 [==============================] - 5s 80ms/step - loss: 3.3695e-05\n",
      "Epoch 36/100\n",
      "63/63 [==============================] - 5s 76ms/step - loss: 3.5112e-05\n",
      "Epoch 37/100\n",
      "63/63 [==============================] - 3s 43ms/step - loss: 2.9404e-05\n",
      "Epoch 38/100\n",
      "63/63 [==============================] - 3s 47ms/step - loss: 2.7779e-05\n",
      "Epoch 39/100\n",
      "63/63 [==============================] - 3s 43ms/step - loss: 2.4523e-05\n",
      "Epoch 40/100\n",
      "63/63 [==============================] - 3s 40ms/step - loss: 2.4426e-05\n",
      "Epoch 41/100\n",
      "63/63 [==============================] - 4s 63ms/step - loss: 2.9197e-05\n",
      "Epoch 42/100\n",
      "63/63 [==============================] - 5s 78ms/step - loss: 3.6130e-05\n",
      "Epoch 43/100\n",
      "63/63 [==============================] - 5s 77ms/step - loss: 2.6408e-05\n",
      "Epoch 44/100\n",
      "63/63 [==============================] - 5s 77ms/step - loss: 2.7917e-05\n",
      "Epoch 45/100\n",
      "63/63 [==============================] - 5s 77ms/step - loss: 3.0055e-05\n",
      "Epoch 46/100\n",
      "63/63 [==============================] - 5s 79ms/step - loss: 2.4708e-05\n",
      "Epoch 47/100\n",
      "63/63 [==============================] - 3s 47ms/step - loss: 2.7963e-05\n",
      "Epoch 48/100\n",
      "63/63 [==============================] - 2s 39ms/step - loss: 3.0559e-05\n",
      "Epoch 49/100\n",
      "63/63 [==============================] - 3s 40ms/step - loss: 2.6409e-05\n",
      "Epoch 50/100\n",
      "63/63 [==============================] - 3s 49ms/step - loss: 2.2286e-05\n",
      "Epoch 51/100\n",
      "63/63 [==============================] - 5s 80ms/step - loss: 2.4843e-05\n",
      "Epoch 52/100\n",
      "63/63 [==============================] - 5s 80ms/step - loss: 2.2576e-05\n",
      "Epoch 53/100\n",
      "63/63 [==============================] - 5s 79ms/step - loss: 2.9038e-05\n",
      "Epoch 54/100\n",
      "63/63 [==============================] - 5s 81ms/step - loss: 2.2271e-05\n",
      "Epoch 55/100\n",
      "63/63 [==============================] - 5s 78ms/step - loss: 2.3125e-05\n",
      "Epoch 56/100\n",
      "63/63 [==============================] - 5s 79ms/step - loss: 2.1555e-05\n",
      "Epoch 57/100\n",
      "63/63 [==============================] - 3s 49ms/step - loss: 2.1498e-05\n",
      "Epoch 58/100\n",
      "63/63 [==============================] - 3s 41ms/step - loss: 2.3239e-05\n",
      "Epoch 59/100\n",
      "63/63 [==============================] - 3s 42ms/step - loss: 1.9044e-05\n",
      "Epoch 60/100\n",
      "63/63 [==============================] - 3s 42ms/step - loss: 1.9909e-05\n",
      "Epoch 61/100\n",
      "63/63 [==============================] - 3s 47ms/step - loss: 1.9738e-05\n",
      "Epoch 62/100\n",
      "63/63 [==============================] - 5s 80ms/step - loss: 2.0049e-05\n",
      "Epoch 63/100\n",
      "63/63 [==============================] - 5s 77ms/step - loss: 2.1796e-05\n",
      "Epoch 64/100\n",
      "63/63 [==============================] - 5s 78ms/step - loss: 3.0845e-05\n",
      "Epoch 65/100\n",
      "63/63 [==============================] - 5s 79ms/step - loss: 1.9771e-05\n",
      "Epoch 66/100\n",
      "63/63 [==============================] - 5s 78ms/step - loss: 2.1683e-05\n",
      "Epoch 67/100\n",
      "63/63 [==============================] - 5s 78ms/step - loss: 2.2851e-05\n",
      "Epoch 68/100\n",
      "63/63 [==============================] - 5s 79ms/step - loss: 2.3178e-05\n",
      "Epoch 69/100\n",
      "63/63 [==============================] - 3s 50ms/step - loss: 1.8511e-05\n",
      "Epoch 70/100\n",
      "63/63 [==============================] - 2s 39ms/step - loss: 2.1207e-05\n",
      "Epoch 71/100\n",
      "63/63 [==============================] - 2s 39ms/step - loss: 1.9115e-05\n",
      "Epoch 72/100\n",
      "63/63 [==============================] - 4s 61ms/step - loss: 1.7504e-05\n",
      "Epoch 73/100\n",
      "63/63 [==============================] - 5s 80ms/step - loss: 1.6198e-05\n",
      "Epoch 74/100\n",
      "63/63 [==============================] - 5s 79ms/step - loss: 1.5477e-05\n",
      "Epoch 75/100\n",
      "63/63 [==============================] - 5s 77ms/step - loss: 1.4641e-05\n",
      "Epoch 76/100\n",
      "63/63 [==============================] - 5s 78ms/step - loss: 1.6626e-05\n",
      "Epoch 77/100\n",
      "63/63 [==============================] - 4s 70ms/step - loss: 2.1283e-05\n",
      "Epoch 78/100\n",
      "63/63 [==============================] - 2s 39ms/step - loss: 1.5707e-05\n",
      "Epoch 79/100\n",
      "63/63 [==============================] - 2s 39ms/step - loss: 1.4075e-05\n",
      "Epoch 80/100\n",
      "63/63 [==============================] - 3s 44ms/step - loss: 2.3013e-05\n",
      "Epoch 81/100\n",
      "63/63 [==============================] - 2s 39ms/step - loss: 1.3990e-05\n",
      "Epoch 82/100\n",
      "63/63 [==============================] - 4s 67ms/step - loss: 1.5887e-05\n",
      "Epoch 83/100\n",
      "63/63 [==============================] - 5s 80ms/step - loss: 1.7716e-05\n",
      "Epoch 84/100\n",
      "63/63 [==============================] - 5s 79ms/step - loss: 1.5162e-05\n",
      "Epoch 85/100\n",
      "63/63 [==============================] - 5s 80ms/step - loss: 1.8809e-05\n",
      "Epoch 86/100\n",
      "63/63 [==============================] - 5s 77ms/step - loss: 1.8555e-05\n",
      "Epoch 87/100\n",
      "63/63 [==============================] - 5s 78ms/step - loss: 1.5708e-05\n",
      "Epoch 88/100\n",
      "63/63 [==============================] - 5s 78ms/step - loss: 1.4126e-05\n",
      "Epoch 89/100\n",
      "63/63 [==============================] - 5s 75ms/step - loss: 1.5045e-05\n",
      "Epoch 90/100\n",
      "63/63 [==============================] - 3s 41ms/step - loss: 1.3989e-05\n",
      "Epoch 91/100\n",
      "63/63 [==============================] - 3s 44ms/step - loss: 1.2868e-05\n",
      "Epoch 92/100\n",
      "63/63 [==============================] - 2s 39ms/step - loss: 1.5087e-05\n",
      "Epoch 93/100\n",
      "63/63 [==============================] - 3s 55ms/step - loss: 1.5759e-05\n",
      "Epoch 94/100\n",
      "63/63 [==============================] - 5s 79ms/step - loss: 1.8672e-05\n",
      "Epoch 95/100\n",
      "63/63 [==============================] - 5s 78ms/step - loss: 1.6626e-05\n",
      "Epoch 96/100\n"
     ]
    },
    {
     "name": "stdout",
     "output_type": "stream",
     "text": [
      "63/63 [==============================] - 5s 78ms/step - loss: 1.3975e-05\n",
      "Epoch 97/100\n",
      "63/63 [==============================] - 5s 77ms/step - loss: 1.3727e-05\n",
      "Epoch 98/100\n",
      "63/63 [==============================] - 5s 77ms/step - loss: 1.3316e-05\n",
      "Epoch 99/100\n",
      "63/63 [==============================] - 5s 79ms/step - loss: 1.2814e-05\n",
      "Epoch 100/100\n",
      "63/63 [==============================] - 4s 65ms/step - loss: 1.7897e-05\n"
     ]
    },
    {
     "data": {
      "text/plain": [
       "<keras.callbacks.History at 0x1cf74fae8c8>"
      ]
     },
     "execution_count": 15,
     "metadata": {},
     "output_type": "execute_result"
    }
   ],
   "source": [
    "#train the STOCK PRICE PREDICTION model\n",
    "model.fit(x_train, y_train, batch_size=32, epochs=EPOCHS)"
   ]
  },
  {
   "cell_type": "code",
   "execution_count": 16,
   "id": "1ffb2cf5",
   "metadata": {},
   "outputs": [],
   "source": [
    "#create the testing data set\n",
    "#create a new array containing scaled values from index 1543 to 2003\n",
    "test_data = scaled_data[training_data_len - 60: , :]\n",
    "#create the data sets x_test adn y_test\n",
    "x_test = []\n",
    "y_test = dataset[training_data_len:,:]\n",
    "for i in range(60, len(test_data)):\n",
    "    x_test.append(test_data[i-60:i,0])\n",
    "\n",
    "    \n",
    "    \n"
   ]
  },
  {
   "cell_type": "code",
   "execution_count": 17,
   "id": "e47d88b9",
   "metadata": {},
   "outputs": [],
   "source": [
    "#convert the data to a numpy array\n",
    "x_test = np.array(x_test)"
   ]
  },
  {
   "cell_type": "code",
   "execution_count": 18,
   "id": "ab219d64",
   "metadata": {},
   "outputs": [],
   "source": [
    "#resahpe the data\n",
    "x_test = np.reshape(x_test,(x_test.shape[0],x_test.shape[1],1))"
   ]
  },
  {
   "cell_type": "code",
   "execution_count": 19,
   "id": "f0e9563d",
   "metadata": {},
   "outputs": [],
   "source": [
    "#get the models predicted price values\n",
    "predictions = model.predict(x_test)\n",
    "predictions = scaler.inverse_transform(predictions)"
   ]
  },
  {
   "cell_type": "code",
   "execution_count": 20,
   "id": "c366802e",
   "metadata": {},
   "outputs": [
    {
     "data": {
      "image/png": "[encoded data removed]",
      "text/plain": [
       "<Figure size 1800x720 with 1 Axes>"
      ]
     },
     "metadata": {},
     "output_type": "display_data"
    },
    {
     "name": "stdout",
     "output_type": "stream",
     "text": [
      "15.513394947387933\n"
     ]
    }
   ],
   "source": [
    "#get the root mean squared error (RMSE)\n",
    "error = []\n",
    "error.append(predictions - y_test)\n",
    "nperr = np.array(predictions - y_test)\n",
    "scaled_error = scaler.fit_transform(nperr)\n",
    "#print(nperr)\n",
    "plt.figure(figsize=(25,10))\n",
    "plt.plot(scaled_error, linewidth=3)\n",
    "plt.title(\"Scaled 1D Error\")\n",
    "plt.show()\n",
    "rmse =  np.sqrt(np.mean(predictions - y_test)**2)\n",
    "print(rmse)\n",
    "#print(predictions)"
   ]
  },
  {
   "cell_type": "code",
   "execution_count": 21,
   "id": "96c8f699",
   "metadata": {},
   "outputs": [
    {
     "data": {
      "text/plain": [
       "409"
      ]
     },
     "execution_count": 21,
     "metadata": {},
     "output_type": "execute_result"
    }
   ],
   "source": [
    "#THE ERROR MODEL\n",
    "nperr.shape\n",
    "\n",
    "training_errdata_len = math.ceil(len(nperr)*0.8)\n",
    "training_errdata_len\n"
   ]
  },
  {
   "cell_type": "code",
   "execution_count": 22,
   "id": "df163454",
   "metadata": {},
   "outputs": [],
   "source": [
    "#Scale the error data\n",
    "scaler = MinMaxScaler(feature_range=(0,1))\n",
    "scaled_errdata = scaler.fit_transform(nperr)\n"
   ]
  },
  {
   "cell_type": "code",
   "execution_count": 23,
   "id": "92b90450",
   "metadata": {},
   "outputs": [
    {
     "name": "stdout",
     "output_type": "stream",
     "text": [
      "[array([0.5023439 , 0.57443159, 0.62821765, 0.53807488, 0.43625394,\n",
      "       0.75186534, 0.44350719, 0.26062049, 0.66524735, 0.38360675,\n",
      "       0.57129211, 0.59950901, 0.74249621, 0.29817899, 0.64633973,\n",
      "       0.85870361, 0.12874901, 1.        , 0.35434721, 0.65065651,\n",
      "       0.5098675 , 0.65838687, 0.59186469, 0.27780568, 0.53651058,\n",
      "       0.32882362, 0.63070149, 0.28430467, 0.51786447, 0.61312556,\n",
      "       0.42726602, 0.50891328, 0.23876144, 0.49601087, 0.44581861,\n",
      "       0.46563761, 0.45655855, 0.28027932, 0.48037841, 0.34349505,\n",
      "       0.40097694, 0.51666302, 0.60843504, 0.33552188, 0.48906333,\n",
      "       0.3968914 , 0.46756476, 0.55761639, 0.30283244, 0.405678  ,\n",
      "       0.55752695, 0.36946854, 0.40046956, 0.40683218, 0.41960401,\n",
      "       0.41642338, 0.39124529, 0.52676772, 0.50689227, 0.43035177])]\n",
      "[0.38934331039140474]\n",
      "\n",
      "[array([0.5023439 , 0.57443159, 0.62821765, 0.53807488, 0.43625394,\n",
      "       0.75186534, 0.44350719, 0.26062049, 0.66524735, 0.38360675,\n",
      "       0.57129211, 0.59950901, 0.74249621, 0.29817899, 0.64633973,\n",
      "       0.85870361, 0.12874901, 1.        , 0.35434721, 0.65065651,\n",
      "       0.5098675 , 0.65838687, 0.59186469, 0.27780568, 0.53651058,\n",
      "       0.32882362, 0.63070149, 0.28430467, 0.51786447, 0.61312556,\n",
      "       0.42726602, 0.50891328, 0.23876144, 0.49601087, 0.44581861,\n",
      "       0.46563761, 0.45655855, 0.28027932, 0.48037841, 0.34349505,\n",
      "       0.40097694, 0.51666302, 0.60843504, 0.33552188, 0.48906333,\n",
      "       0.3968914 , 0.46756476, 0.55761639, 0.30283244, 0.405678  ,\n",
      "       0.55752695, 0.36946854, 0.40046956, 0.40683218, 0.41960401,\n",
      "       0.41642338, 0.39124529, 0.52676772, 0.50689227, 0.43035177]), array([0.57443159, 0.62821765, 0.53807488, 0.43625394, 0.75186534,\n",
      "       0.44350719, 0.26062049, 0.66524735, 0.38360675, 0.57129211,\n",
      "       0.59950901, 0.74249621, 0.29817899, 0.64633973, 0.85870361,\n",
      "       0.12874901, 1.        , 0.35434721, 0.65065651, 0.5098675 ,\n",
      "       0.65838687, 0.59186469, 0.27780568, 0.53651058, 0.32882362,\n",
      "       0.63070149, 0.28430467, 0.51786447, 0.61312556, 0.42726602,\n",
      "       0.50891328, 0.23876144, 0.49601087, 0.44581861, 0.46563761,\n",
      "       0.45655855, 0.28027932, 0.48037841, 0.34349505, 0.40097694,\n",
      "       0.51666302, 0.60843504, 0.33552188, 0.48906333, 0.3968914 ,\n",
      "       0.46756476, 0.55761639, 0.30283244, 0.405678  , 0.55752695,\n",
      "       0.36946854, 0.40046956, 0.40683218, 0.41960401, 0.41642338,\n",
      "       0.39124529, 0.52676772, 0.50689227, 0.43035177, 0.38934331])]\n",
      "[0.38934331039140474, 0.40929493272321105]\n",
      "\n"
     ]
    }
   ],
   "source": [
    "#creating the error training data set\n",
    "#create the scaled training data set\n",
    "train_errdata = scaled_errdata[0:training_errdata_len,:]\n",
    "#split the data into x_errtrain and y_errtrain data sets\n",
    "x_errtrain = []\n",
    "y_errtrain = []\n",
    "for i in range(60, len(train_errdata)):\n",
    "    x_errtrain.append(train_errdata[i-60:i,0])\n",
    "    y_errtrain.append(train_errdata[i,0])\n",
    "    if i<=61:\n",
    "        print(x_errtrain)\n",
    "        print(y_errtrain)\n",
    "        print()"
   ]
  },
  {
   "cell_type": "code",
   "execution_count": 24,
   "id": "6b815916",
   "metadata": {},
   "outputs": [],
   "source": [
    "#Convert the X_errtrain and Y_errtrain to numpy arrays\n",
    "x_errtrain , y_errtrain = np.array(x_errtrain), np.array(y_errtrain)"
   ]
  },
  {
   "cell_type": "code",
   "execution_count": 25,
   "id": "5de8b91d",
   "metadata": {},
   "outputs": [
    {
     "data": {
      "text/plain": [
       "(349, 60, 1)"
      ]
     },
     "execution_count": 25,
     "metadata": {},
     "output_type": "execute_result"
    }
   ],
   "source": [
    "#Reshape the error data\n",
    "x_errtrain = np.reshape(x_errtrain,(x_errtrain.shape[0],x_errtrain.shape[1],1))\n",
    "x_errtrain.shape"
   ]
  },
  {
   "cell_type": "code",
   "execution_count": 26,
   "id": "5fe46185",
   "metadata": {},
   "outputs": [],
   "source": [
    "#Building the LSTM error model\n",
    "errmodel = Sequential()\n",
    "errmodel.add(LSTM(50, return_sequences=True, input_shape =(x_train.shape[1],1)))\n",
    "\n",
    "#adding a fourth fifth layer and some Dropout regularistion\n",
    "errmodel.add(LSTM(units = 50, return_sequences = True))\n",
    "\n",
    "#adding a fourth fifth layer and some Dropout regularistion\n",
    "errmodel.add(LSTM(units = 50, return_sequences = True))\n",
    "\n",
    "#adding a fourth fifth layer and some Dropout regularistion\n",
    "errmodel.add(LSTM(units = 50, return_sequences = False))\n",
    "\n",
    "errmodel.add(Dense(25))\n",
    "errmodel.add(Dense(1))"
   ]
  },
  {
   "cell_type": "code",
   "execution_count": 27,
   "id": "54e950ba",
   "metadata": {},
   "outputs": [],
   "source": [
    "#compile the error Model\n",
    "errmodel.compile(optimizer='adam', loss='mean_squared_error')\n"
   ]
  },
  {
   "cell_type": "code",
   "execution_count": null,
   "id": "59f6d657",
   "metadata": {},
   "outputs": [
    {
     "name": "stdout",
     "output_type": "stream",
     "text": [
      "Epoch 1/120\n",
      "63/63 [==============================] - 11s 80ms/step - loss: 0.0021\n",
      "Epoch 2/120\n",
      "63/63 [==============================] - 9s 144ms/step - loss: 9.9174e-05\n",
      "Epoch 3/120\n",
      "63/63 [==============================] - 10s 159ms/step - loss: 1.2107e-04\n",
      "Epoch 4/120\n",
      "63/63 [==============================] - 10s 159ms/step - loss: 8.1882e-05\n",
      "Epoch 5/120\n",
      "63/63 [==============================] - 10s 155ms/step - loss: 7.8247e-05\n",
      "Epoch 6/120\n",
      "63/63 [==============================] - 10s 161ms/step - loss: 1.0588e-04\n",
      "Epoch 7/120\n",
      "63/63 [==============================] - 10s 154ms/step - loss: 8.1325e-05\n",
      "Epoch 8/120\n",
      "63/63 [==============================] - 10s 157ms/step - loss: 9.2320e-05\n",
      "Epoch 9/120\n",
      "63/63 [==============================] - 5s 81ms/step - loss: 1.0107e-04\n",
      "Epoch 10/120\n",
      "63/63 [==============================] - 6s 89ms/step - loss: 8.9584e-05\n",
      "Epoch 11/120\n",
      "63/63 [==============================] - 10s 157ms/step - loss: 8.6711e-05\n",
      "Epoch 12/120\n",
      "63/63 [==============================] - 10s 156ms/step - loss: 1.2166e-04\n",
      "Epoch 13/120\n",
      "63/63 [==============================] - 10s 152ms/step - loss: 7.1625e-05\n",
      "Epoch 14/120\n",
      "63/63 [==============================] - 8s 132ms/step - loss: 7.9594e-05\n",
      "Epoch 15/120\n",
      "63/63 [==============================] - 5s 80ms/step - loss: 1.0992e-04\n",
      "Epoch 16/120\n",
      "63/63 [==============================] - 8s 121ms/step - loss: 6.9843e-05\n",
      "Epoch 17/120\n",
      "63/63 [==============================] - 10s 154ms/step - loss: 6.2362e-05\n",
      "Epoch 18/120\n",
      "63/63 [==============================] - 10s 159ms/step - loss: 6.8393e-05\n",
      "Epoch 19/120\n",
      "63/63 [==============================] - 10s 154ms/step - loss: 7.9791e-05\n",
      "Epoch 20/120\n",
      "63/63 [==============================] - 8s 132ms/step - loss: 6.4562e-05\n",
      "Epoch 21/120\n",
      "63/63 [==============================] - 6s 93ms/step - loss: 5.7648e-05\n",
      "Epoch 22/120\n",
      "63/63 [==============================] - 5s 81ms/step - loss: 6.3621e-05\n",
      "Epoch 23/120\n",
      "63/63 [==============================] - 10s 158ms/step - loss: 7.0558e-05\n",
      "Epoch 24/120\n",
      "63/63 [==============================] - 10s 160ms/step - loss: 5.7438e-05\n",
      "Epoch 25/120\n",
      "63/63 [==============================] - 10s 154ms/step - loss: 5.4883e-05\n",
      "Epoch 26/120\n",
      "63/63 [==============================] - 10s 155ms/step - loss: 1.1704e-04\n",
      "Epoch 27/120\n",
      "63/63 [==============================] - 10s 158ms/step - loss: 5.3841e-05\n",
      "Epoch 28/120\n",
      "63/63 [==============================] - 10s 157ms/step - loss: 6.3961e-05\n",
      "Epoch 29/120\n",
      "63/63 [==============================] - 10s 160ms/step - loss: 5.9716e-05\n",
      "Epoch 30/120\n",
      "63/63 [==============================] - 10s 151ms/step - loss: 5.3309e-05\n",
      "Epoch 31/120\n",
      "63/63 [==============================] - 10s 156ms/step - loss: 4.5603e-05\n",
      "Epoch 32/120\n",
      "63/63 [==============================] - 7s 107ms/step - loss: 4.8800e-05\n",
      "Epoch 33/120\n",
      "63/63 [==============================] - 6s 90ms/step - loss: 6.9572e-05\n",
      "Epoch 34/120\n",
      "63/63 [==============================] - 10s 154ms/step - loss: 6.0206e-05\n",
      "Epoch 35/120\n",
      "63/63 [==============================] - 10s 157ms/step - loss: 4.4733e-05\n",
      "Epoch 36/120\n",
      "63/63 [==============================] - 10s 161ms/step - loss: 9.2820e-05\n",
      "Epoch 37/120\n",
      "63/63 [==============================] - 10s 155ms/step - loss: 4.6575e-05\n",
      "Epoch 38/120\n",
      "63/63 [==============================] - 10s 156ms/step - loss: 4.9422e-05\n",
      "Epoch 39/120\n",
      "63/63 [==============================] - 7s 108ms/step - loss: 6.1196e-05\n",
      "Epoch 40/120\n",
      "63/63 [==============================] - 5s 80ms/step - loss: 8.1470e-05\n",
      "Epoch 41/120\n",
      "63/63 [==============================] - 7s 106ms/step - loss: 5.3287e-05\n",
      "Epoch 42/120\n",
      "63/63 [==============================] - 10s 158ms/step - loss: 4.5041e-05\n",
      "Epoch 43/120\n",
      "63/63 [==============================] - 10s 159ms/step - loss: 5.9486e-05\n",
      "Epoch 44/120\n",
      "63/63 [==============================] - 10s 160ms/step - loss: 4.1687e-05\n",
      "Epoch 45/120\n",
      "63/63 [==============================] - 5s 85ms/step - loss: 4.7177e-05\n",
      "Epoch 46/120\n",
      "63/63 [==============================] - 6s 94ms/step - loss: 5.0902e-05\n",
      "Epoch 47/120\n",
      "63/63 [==============================] - 6s 93ms/step - loss: 7.8575e-05\n",
      "Epoch 48/120\n",
      "63/63 [==============================] - 10s 158ms/step - loss: 4.6364e-05\n",
      "Epoch 49/120\n",
      "63/63 [==============================] - 10s 160ms/step - loss: 8.0036e-05\n",
      "Epoch 50/120\n",
      "63/63 [==============================] - 10s 160ms/step - loss: 3.9710e-05\n",
      "Epoch 51/120\n",
      "63/63 [==============================] - 9s 151ms/step - loss: 5.1682e-05\n",
      "Epoch 52/120\n",
      "63/63 [==============================] - 5s 81ms/step - loss: 4.3616e-05\n",
      "Epoch 53/120\n",
      "63/63 [==============================] - 5s 86ms/step - loss: 5.9865e-05\n",
      "Epoch 54/120\n",
      "63/63 [==============================] - 8s 134ms/step - loss: 4.7287e-05\n",
      "Epoch 55/120\n",
      "63/63 [==============================] - 10s 160ms/step - loss: 5.0687e-05\n",
      "Epoch 56/120\n",
      "63/63 [==============================] - 10s 157ms/step - loss: 4.7264e-05\n",
      "Epoch 57/120\n",
      "63/63 [==============================] - 10s 158ms/step - loss: 4.0503e-05\n",
      "Epoch 58/120\n",
      "63/63 [==============================] - 10s 161ms/step - loss: 5.8266e-05\n",
      "Epoch 59/120\n",
      "63/63 [==============================] - 10s 159ms/step - loss: 3.6928e-05\n",
      "Epoch 60/120\n",
      "63/63 [==============================] - 10s 156ms/step - loss: 3.5162e-05\n",
      "Epoch 61/120\n",
      "63/63 [==============================] - 8s 121ms/step - loss: 4.9993e-05\n",
      "Epoch 62/120\n",
      "63/63 [==============================] - 5s 79ms/step - loss: 3.3368e-05\n",
      "Epoch 63/120\n",
      "63/63 [==============================] - 7s 117ms/step - loss: 4.1237e-05\n",
      "Epoch 64/120\n",
      "63/63 [==============================] - 10s 159ms/step - loss: 3.1036e-05\n",
      "Epoch 65/120\n",
      "63/63 [==============================] - 10s 158ms/step - loss: 2.9191e-05\n",
      "Epoch 66/120\n",
      "63/63 [==============================] - 10s 157ms/step - loss: 3.1124e-05\n",
      "Epoch 67/120\n",
      "63/63 [==============================] - 10s 156ms/step - loss: 6.8687e-05\n",
      "Epoch 68/120\n",
      "63/63 [==============================] - 10s 157ms/step - loss: 4.9584e-05\n",
      "Epoch 69/120\n",
      "35/63 [===============>..............] - ETA: 4s - loss: 2.6887e-05"
     ]
    }
   ],
   "source": [
    "#train the error model\n",
    "errmodel.fit(x_train, y_train, batch_size=32, epochs=ERR_EPOCHS)"
   ]
  },
  {
   "cell_type": "code",
   "execution_count": null,
   "id": "ef9a6d44",
   "metadata": {},
   "outputs": [],
   "source": [
    "#create the testing error data set\n",
    "#create a new array containing scaled values \n",
    "test_errdata = scaled_errdata[training_errdata_len - 60: , :]\n",
    "#create the data sets x_errtest adn y_errtest\n",
    "x_errtest = []\n",
    "y_errtest = nperr[training_errdata_len:,:]\n",
    "for i in range(60, len(test_errdata)):\n",
    "    x_errtest.append(test_errdata[i-60:i,0])\n"
   ]
  },
  {
   "cell_type": "code",
   "execution_count": null,
   "id": "c218aeb1",
   "metadata": {},
   "outputs": [],
   "source": [
    "#convert the error data to a numpy array\n",
    "x_errtest = np.array(x_errtest)\n",
    "\n"
   ]
  },
  {
   "cell_type": "code",
   "execution_count": null,
   "id": "bc78bf34",
   "metadata": {},
   "outputs": [],
   "source": [
    "#resahpe the error data\n",
    "x_errtest = np.reshape(x_errtest,(x_errtest.shape[0],x_errtest.shape[1],1))\n"
   ]
  },
  {
   "cell_type": "code",
   "execution_count": null,
   "id": "18cb1fee",
   "metadata": {},
   "outputs": [],
   "source": [
    "#get the models predicted error values\n",
    "errpredictions = errmodel.predict(x_errtest)\n",
    "errpredictions = scaler.inverse_transform(errpredictions)"
   ]
  },
  {
   "cell_type": "code",
   "execution_count": null,
   "id": "0d748183",
   "metadata": {},
   "outputs": [],
   "source": [
    "#get the root mean squared error (RMSE)\n",
    "error2d = []\n",
    "print(errpredictions.shape)\n",
    "error2d.append(errpredictions - y_errtest)\n",
    "nperr2d = np.array(errpredictions - y_errtest)\n",
    "scaled_error2d = scaler.fit_transform(nperr2d)\n",
    "#print(nperr)\n",
    "plt.figure(figsize=(25,10))\n",
    "plt.plot(scaled_error2d)\n",
    "plt.title('scaled 2D Error')\n",
    "plt.show()\n",
    "rmse2d =  np.sqrt(np.mean(errpredictions - y_errtest)**2)\n",
    "print(rmse2d)\n",
    "#print(errpredictions)"
   ]
  },
  {
   "cell_type": "code",
   "execution_count": null,
   "id": "06ae90fd",
   "metadata": {
    "scrolled": true
   },
   "outputs": [],
   "source": [
    "#plot the error data\n",
    "print(nperr.shape)\n",
    "dfnperr = pd.DataFrame(nperr, columns = ['Error'])\n",
    "errtrain = dfnperr[:training_errdata_len]\n",
    "errvalid = dfnperr[training_errdata_len:]\n",
    "errvalid['Error Predictions'] = errpredictions\n",
    "errvalid['Error2d'] = nperr2d\n",
    "print(errvalid)\n",
    "#visualize the data\n",
    "plt.figure(figsize=(16,8))\n",
    "plt.title('Error Model')\n",
    "plt.xlabel('Date')\n",
    "plt.ylabel('Error Close Price USD ($)')\n",
    "plt.plot(errtrain['Error'])\n",
    "plt.plot(errvalid[['Error', 'Error Predictions']])\n",
    "plt.legend(['Error Train', 'Error Val', ' Error Predictions'], loc='lower right')\n",
    "plt.show()"
   ]
  },
  {
   "cell_type": "code",
   "execution_count": null,
   "id": "30fda6a3",
   "metadata": {},
   "outputs": [],
   "source": [
    "#plot the date\n",
    "train = data[:training_data_len]\n",
    "valid = data[training_data_len:]\n",
    "valid['Predictions'] = predictions\n",
    "valid['Error'] = nperr\n",
    "#visualize the data\n",
    "plt.figure(figsize=(16,8))\n",
    "plt.title('Price Model')\n",
    "plt.xlabel('Date')\n",
    "plt.ylabel('Close Price USD ($)')\n",
    "plt.plot(train['Close'])\n",
    "plt.plot(valid[['Close', 'Predictions']])\n",
    "plt.legend(['Train', 'Val', 'Predictions'], loc='lower right')\n",
    "plt.show()\n",
    "\n"
   ]
  },
  {
   "cell_type": "code",
   "execution_count": null,
   "id": "94010774",
   "metadata": {},
   "outputs": [],
   "source": [
    "#show the valid and predicted prices\n",
    "valid"
   ]
  },
  {
   "cell_type": "code",
   "execution_count": null,
   "id": "be8deaf4",
   "metadata": {},
   "outputs": [],
   "source": [
    "#get the Quote\n",
    "apple_quote = web.DataReader(STOCK, data_source = 'yahoo', start=START_DATE, end=END_DATE)\n",
    "#create new data frame\n",
    "new_df = apple_quote.filter(['Close'])\n",
    "#get the last 60 days closing price values and convert the dataframe to an array\n",
    "last_60_days = new_df[-60:].values\n",
    "last_60_days_error = dfnperr[-60:].values\n",
    "#scale the data to be values between 0 and 1\n",
    "last_60_days_scaled = scaler.transform(last_60_days)\n",
    "last_60_days_scaled_error = scaler.transform(last_60_days_error)\n",
    "#create the empty list\n",
    "x_test = []\n",
    "x_errtest=[]\n",
    "#append the past 60 days\n",
    "x_test.append(last_60_days_scaled)\n",
    "x_errtest.append(last_60_days_scaled_error)\n",
    "#convert the x_test data set to a numpy array\n",
    "x_test = np.array(x_test)\n",
    "x_test = np.reshape(x_test,(x_test.shape[0],x_test.shape[1],1))\n",
    "#print(x_test.shape)\n",
    "#print(x_errtest.shape)\n",
    "x_errtest = np.array(x_errtest)\n",
    "x_errtest = np.reshape(x_errtest,(x_errtest.shape[0],x_errtest.shape[1],1))\n",
    "\n",
    "#get the predicted scaled price\n",
    "pred_price = model.predict(x_test)\n",
    "pred_error = model.predict(x_errtest)\n",
    "#undo the scaling\n",
    "pred_price = scaler.inverse_transform(pred_price)\n",
    "pred_error = scaler.inverse_transform(pred_error)\n",
    "print(pred_price)\n",
    "print(pred_error)\n",
    "new_df.tail()\n",
    "dfnperr.tail()"
   ]
  },
  {
   "cell_type": "code",
   "execution_count": null,
   "id": "4d33171b",
   "metadata": {},
   "outputs": [],
   "source": [
    "print(\"Prediction with 1-degree of correction\")\n",
    "print(pred_price[0][0]-pred_error[0][0])"
   ]
  },
  {
   "cell_type": "code",
   "execution_count": null,
   "id": "c2efab6b",
   "metadata": {
    "scrolled": true
   },
   "outputs": [],
   "source": [
    "apple_quote2 = web.DataReader(STOCK, data_source = 'yahoo', start='2022-03-04', end=PREDICT_DATE)\n",
    "print(apple_quote2['Close'])"
   ]
  },
  {
   "cell_type": "code",
   "execution_count": null,
   "id": "cecaa1e6",
   "metadata": {},
   "outputs": [],
   "source": []
  },
  {
   "cell_type": "code",
   "execution_count": null,
   "id": "bfd5c96d",
   "metadata": {},
   "outputs": [],
   "source": [
    "import joblib\n",
    "\n",
    "joblib.dump(model,model_path)\n",
    "    \n"
   ]
  },
  {
   "cell_type": "code",
   "execution_count": null,
   "id": "d61f3ac3",
   "metadata": {},
   "outputs": [],
   "source": [
    "import winsound\n",
    "frequency = 2500  # Set Frequency To 2500 Hertz\n",
    "duration = 1000  # Set Duration To 1000 ms == 1 second\n",
    "winsound.Beep(frequency, duration)"
   ]
  },
  {
   "cell_type": "code",
   "execution_count": null,
   "id": "c0c6008f",
   "metadata": {},
   "outputs": [],
   "source": []
  }
 ],
 "metadata": {
  "kernelspec": {
   "display_name": "Python 3 (ipykernel)",
   "language": "python",
   "name": "python3"
  },
  "language_info": {
   "codemirror_mode": {
    "name": "ipython",
    "version": 3
   },
   "file_extension": ".py",
   "mimetype": "text/x-python",
   "name": "python",
   "nbconvert_exporter": "python",
   "pygments_lexer": "ipython3",
   "version": "3.7.9"
  }
 },
 "nbformat": 4,
 "nbformat_minor": 5
}
