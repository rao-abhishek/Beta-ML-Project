{
 "cells": [
  {
   "cell_type": "code",
   "execution_count": 1,
   "id": "4769d1e3",
   "metadata": {},
   "outputs": [],
   "source": [
    "#import the libraries\n",
    "import math\n",
    "import pandas_datareader as web\n",
    "import numpy as np\n",
    "from sklearn.preprocessing import MinMaxScaler\n",
    "from keras.models import Sequential\n",
    "from keras.layers import Dense, LSTM\n",
    "from keras.models import load_model\n",
    "import matplotlib.pyplot as plt\n",
    "import pandas as pd\n",
    "import joblib\n",
    "import pickle\n",
    "plt.style.use('fivethirtyeight')"
   ]
  },
  {
   "cell_type": "code",
   "execution_count": 2,
   "id": "74f82b53",
   "metadata": {},
   "outputs": [],
   "source": [
    "#MACRO DEF\n",
    "\n",
    "STOCK = 'GOOG'\n",
    "EPOCHS = 100\n",
    "model_path = 'machine learning model/'+STOCK+'_model.h5'\n",
    "error_model_path = \"machine learning model/\"+STOCK+\"_error_model.h5\"\n",
    "error_data = \"machine learning model/\"+STOCK+\"_error_data.csv\"\n",
    "START_DATE = '2012-01-01'\n",
    "END_DATE = '2022-03-08'\n",
    "PREDICT_DATE = '2022-03-10'\n",
    "ERR_EPOCHS = 120"
   ]
  },
  {
   "cell_type": "code",
   "execution_count": 3,
   "id": "f6971cb1",
   "metadata": {},
   "outputs": [],
   "source": [
    "#IMPORTING THE MODEL\n",
    "model = load_model(model_path)\n"
   ]
  },
  {
   "cell_type": "code",
   "execution_count": 4,
   "id": "fd13d6e0",
   "metadata": {},
   "outputs": [],
   "source": [
    "#DEFINING SCALER\n",
    "scaler = MinMaxScaler(feature_range=(0,1))"
   ]
  },
  {
   "cell_type": "code",
   "execution_count": 5,
   "id": "1381f4a8",
   "metadata": {},
   "outputs": [
    {
     "name": "stdout",
     "output_type": "stream",
     "text": [
      "[[2553.7842]]\n"
     ]
    }
   ],
   "source": [
    "#get the Quote\n",
    "stock_quote = web.DataReader(STOCK, data_source = 'yahoo', start=START_DATE, end=END_DATE)\n",
    "#create new data frame\n",
    "new_df = stock_quote.filter(['Close'])\n",
    "#get the last 60 days closing price values and convert the dataframe to an array\n",
    "last_60_days = new_df[-60:].values\n",
    "#scale the data to be values between 0 and 1\n",
    "last_60_days_scaled = scaler.fit_transform(last_60_days)\n",
    "#create the empty list\n",
    "x_test = []\n",
    "#append the past 60 days\n",
    "x_test.append(last_60_days_scaled)\n",
    "#convert the x_test data set to a numpy array\n",
    "x_test = np.array(x_test)\n",
    "x_test = np.reshape(x_test,(x_test.shape[0],x_test.shape[1],1))\n",
    "#get the predicted scaled price\n",
    "pred_price = model.predict(x_test)\n",
    "#undo the scaling\n",
    "pred_price = scaler.inverse_transform(pred_price)\n",
    "print(pred_price)\n"
   ]
  },
  {
   "cell_type": "code",
   "execution_count": 6,
   "id": "7349543d",
   "metadata": {
    "scrolled": true
   },
   "outputs": [
    {
     "name": "stdout",
     "output_type": "stream",
     "text": [
      "Date\n",
      "2012-01-03     331.462585\n",
      "2012-01-04     332.892242\n",
      "2012-01-05     328.274536\n",
      "2012-01-06     323.796326\n",
      "2012-01-09     310.067780\n",
      "                 ...     \n",
      "2022-03-04    2642.439941\n",
      "2022-03-07    2529.290039\n",
      "2022-03-08    2545.570068\n",
      "2022-03-09    2677.320068\n",
      "2022-03-10    2648.729980\n",
      "Name: Close, Length: 2564, dtype: float64\n"
     ]
    }
   ],
   "source": [
    "apple_quote2 = web.DataReader(STOCK, data_source = 'yahoo', start=START_DATE, end=PREDICT_DATE)\n",
    "print(apple_quote2['Close'])"
   ]
  },
  {
   "cell_type": "code",
   "execution_count": 7,
   "id": "7dd93163",
   "metadata": {},
   "outputs": [
    {
     "data": {
      "text/plain": [
       "(512, 2)"
      ]
     },
     "execution_count": 7,
     "metadata": {},
     "output_type": "execute_result"
    }
   ],
   "source": [
    "#IMPORTING THE error MODEL\n",
    "error_model = load_model(error_model_path)\n",
    "\n",
    "dfnperr = pd.read_csv(error_data, sep=\",\")\n",
    "\n",
    "dfnperr.shape"
   ]
  },
  {
   "cell_type": "code",
   "execution_count": 8,
   "id": "773bf93e",
   "metadata": {},
   "outputs": [],
   "source": [
    "#DEFINING SCALER\n",
    "errscaler = MinMaxScaler(feature_range=(0,1))"
   ]
  },
  {
   "cell_type": "code",
   "execution_count": 9,
   "id": "ba9c798f",
   "metadata": {},
   "outputs": [
    {
     "name": "stdout",
     "output_type": "stream",
     "text": [
      "[[-4.256888]]\n"
     ]
    },
    {
     "data": {
      "text/html": [
       "<div>\n",
       "<style scoped>\n",
       "    .dataframe tbody tr th:only-of-type {\n",
       "        vertical-align: middle;\n",
       "    }\n",
       "\n",
       "    .dataframe tbody tr th {\n",
       "        vertical-align: top;\n",
       "    }\n",
       "\n",
       "    .dataframe thead th {\n",
       "        text-align: right;\n",
       "    }\n",
       "</style>\n",
       "<table border=\"1\" class=\"dataframe\">\n",
       "  <thead>\n",
       "    <tr style=\"text-align: right;\">\n",
       "      <th></th>\n",
       "      <th>Unnamed: 0</th>\n",
       "      <th>Error</th>\n",
       "    </tr>\n",
       "  </thead>\n",
       "  <tbody>\n",
       "    <tr>\n",
       "      <th>507</th>\n",
       "      <td>507</td>\n",
       "      <td>-17.699463</td>\n",
       "    </tr>\n",
       "    <tr>\n",
       "      <th>508</th>\n",
       "      <td>508</td>\n",
       "      <td>-19.369629</td>\n",
       "    </tr>\n",
       "    <tr>\n",
       "      <th>509</th>\n",
       "      <td>509</td>\n",
       "      <td>62.985840</td>\n",
       "    </tr>\n",
       "    <tr>\n",
       "      <th>510</th>\n",
       "      <td>510</td>\n",
       "      <td>-103.729980</td>\n",
       "    </tr>\n",
       "    <tr>\n",
       "      <th>511</th>\n",
       "      <td>511</td>\n",
       "      <td>-78.492432</td>\n",
       "    </tr>\n",
       "  </tbody>\n",
       "</table>\n",
       "</div>"
      ],
      "text/plain": [
       "     Unnamed: 0       Error\n",
       "507         507  -17.699463\n",
       "508         508  -19.369629\n",
       "509         509   62.985840\n",
       "510         510 -103.729980\n",
       "511         511  -78.492432"
      ]
     },
     "execution_count": 9,
     "metadata": {},
     "output_type": "execute_result"
    }
   ],
   "source": [
    "#predict the error\n",
    "\n",
    "newdf = dfnperr.filter(['Error'])\n",
    "\n",
    "last_60_days_error = newdf[-60:].values\n",
    "\n",
    "\n",
    "#scale the data to be values between 0 and 1\n",
    "last_60_days_scaled_error = errscaler.fit_transform(last_60_days_error)\n",
    "\n",
    "#create the empty list\n",
    "x_errtest=[]\n",
    "\n",
    "#append the past 60 days \n",
    "x_errtest.append(last_60_days_scaled_error)\n",
    "\n",
    "#convert the x_test data set to a numpy array\n",
    "x_errtest = np.array(x_errtest)\n",
    "x_errtest = np.reshape(x_errtest,(x_errtest.shape[0],x_errtest.shape[1],1))\n",
    "\n",
    "pred_error = error_model.predict(x_errtest)\n",
    "\n",
    "#undo the scaling\n",
    "pred_error = errscaler.inverse_transform(pred_error)\n",
    "\n",
    "print(pred_error)\n",
    "\n",
    "dfnperr.tail()"
   ]
  },
  {
   "cell_type": "code",
   "execution_count": 10,
   "id": "04bb1815",
   "metadata": {},
   "outputs": [
    {
     "name": "stdout",
     "output_type": "stream",
     "text": [
      "the predicted value with 1D error correction \n",
      "2551.2726158189776\n"
     ]
    }
   ],
   "source": [
    "print(\"the predicted value with 1D error correction \")\n",
    "print(pred_price[0][0]-abs(pred_error[0][0])*0.59)"
   ]
  },
  {
   "cell_type": "code",
   "execution_count": null,
   "id": "dab9c8e1",
   "metadata": {},
   "outputs": [],
   "source": []
  }
 ],
 "metadata": {
  "kernelspec": {
   "display_name": "Python 3 (ipykernel)",
   "language": "python",
   "name": "python3"
  },
  "language_info": {
   "codemirror_mode": {
    "name": "ipython",
    "version": 3
   },
   "file_extension": ".py",
   "mimetype": "text/x-python",
   "name": "python",
   "nbconvert_exporter": "python",
   "pygments_lexer": "ipython3",
   "version": "3.7.9"
  }
 },
 "nbformat": 4,
 "nbformat_minor": 5
}
