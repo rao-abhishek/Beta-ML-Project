{
 "cells": [
  {
   "cell_type": "code",
   "execution_count": 1,
   "id": "119ef146",
   "metadata": {
    "id": "119ef146"
   },
   "outputs": [],
   "source": [
    "#import the libraries\n",
    "import math\n",
    "import pandas_datareader as web\n",
    "import numpy as np\n",
    "from sklearn.preprocessing import MinMaxScaler\n",
    "from keras.models import Sequential\n",
    "from keras.layers import Dense, LSTM\n",
    "from keras.models import load_model\n",
    "import matplotlib.pyplot as plt\n",
    "plt.style.use('fivethirtyeight')\n",
    "import pickle\n",
    "import pandas as pd"
   ]
  },
  {
   "cell_type": "code",
   "execution_count": 2,
   "id": "3c6186b8",
   "metadata": {},
   "outputs": [],
   "source": [
    "#MACRO DEF\n",
    "\n",
    "STOCK = 'HEG.BO'\n",
    "EPOCHS = 100\n",
    "model_path = \"machine learning model/\"+STOCK+\"_model.h5\"\n",
    "error_model_path = \"machine learning model/\"+STOCK+\"_error_model.h5\"\n",
    "error_data = \"machine learning model/\"+STOCK+\"_error_data.csv\"\n",
    "START_DATE = '2012-01-01'\n",
    "END_DATE = '2022-03-05'\n",
    "PREDICT_DATE = '2022-03-07'\n",
    "ERR_EPOCHS = 120"
   ]
  },
  {
   "cell_type": "code",
   "execution_count": 3,
   "id": "0baa4ed2",
   "metadata": {
    "id": "0baa4ed2",
    "outputId": "9b884812-40a4-4562-f722-55f12356c439"
   },
   "outputs": [
    {
     "data": {
      "text/html": [
       "<div>\n",
       "<style scoped>\n",
       "    .dataframe tbody tr th:only-of-type {\n",
       "        vertical-align: middle;\n",
       "    }\n",
       "\n",
       "    .dataframe tbody tr th {\n",
       "        vertical-align: top;\n",
       "    }\n",
       "\n",
       "    .dataframe thead th {\n",
       "        text-align: right;\n",
       "    }\n",
       "</style>\n",
       "<table border=\"1\" class=\"dataframe\">\n",
       "  <thead>\n",
       "    <tr style=\"text-align: right;\">\n",
       "      <th></th>\n",
       "      <th>High</th>\n",
       "      <th>Low</th>\n",
       "      <th>Open</th>\n",
       "      <th>Close</th>\n",
       "      <th>Volume</th>\n",
       "      <th>Adj Close</th>\n",
       "    </tr>\n",
       "    <tr>\n",
       "      <th>Date</th>\n",
       "      <th></th>\n",
       "      <th></th>\n",
       "      <th></th>\n",
       "      <th></th>\n",
       "      <th></th>\n",
       "      <th></th>\n",
       "    </tr>\n",
       "  </thead>\n",
       "  <tbody>\n",
       "    <tr>\n",
       "      <th>2012-01-02</th>\n",
       "      <td>156.850006</td>\n",
       "      <td>153.300003</td>\n",
       "      <td>153.300003</td>\n",
       "      <td>155.899994</td>\n",
       "      <td>908.0</td>\n",
       "      <td>124.298981</td>\n",
       "    </tr>\n",
       "    <tr>\n",
       "      <th>2012-01-03</th>\n",
       "      <td>160.500000</td>\n",
       "      <td>156.000000</td>\n",
       "      <td>157.899994</td>\n",
       "      <td>158.899994</td>\n",
       "      <td>899.0</td>\n",
       "      <td>126.690842</td>\n",
       "    </tr>\n",
       "    <tr>\n",
       "      <th>2012-01-04</th>\n",
       "      <td>163.899994</td>\n",
       "      <td>161.000000</td>\n",
       "      <td>163.000000</td>\n",
       "      <td>163.100006</td>\n",
       "      <td>1393.0</td>\n",
       "      <td>130.039551</td>\n",
       "    </tr>\n",
       "    <tr>\n",
       "      <th>2012-01-05</th>\n",
       "      <td>166.899994</td>\n",
       "      <td>161.000000</td>\n",
       "      <td>165.000000</td>\n",
       "      <td>165.899994</td>\n",
       "      <td>1433.0</td>\n",
       "      <td>132.271957</td>\n",
       "    </tr>\n",
       "    <tr>\n",
       "      <th>2012-01-06</th>\n",
       "      <td>167.949997</td>\n",
       "      <td>163.199997</td>\n",
       "      <td>165.000000</td>\n",
       "      <td>167.750000</td>\n",
       "      <td>310.0</td>\n",
       "      <td>133.746979</td>\n",
       "    </tr>\n",
       "    <tr>\n",
       "      <th>...</th>\n",
       "      <td>...</td>\n",
       "      <td>...</td>\n",
       "      <td>...</td>\n",
       "      <td>...</td>\n",
       "      <td>...</td>\n",
       "      <td>...</td>\n",
       "    </tr>\n",
       "    <tr>\n",
       "      <th>2022-02-25</th>\n",
       "      <td>1176.949951</td>\n",
       "      <td>1094.900024</td>\n",
       "      <td>1094.900024</td>\n",
       "      <td>1144.849976</td>\n",
       "      <td>65435.0</td>\n",
       "      <td>1144.849976</td>\n",
       "    </tr>\n",
       "    <tr>\n",
       "      <th>2022-02-28</th>\n",
       "      <td>1236.250000</td>\n",
       "      <td>1113.050049</td>\n",
       "      <td>1147.000000</td>\n",
       "      <td>1134.150024</td>\n",
       "      <td>41184.0</td>\n",
       "      <td>1134.150024</td>\n",
       "    </tr>\n",
       "    <tr>\n",
       "      <th>2022-03-02</th>\n",
       "      <td>1160.250000</td>\n",
       "      <td>1116.750000</td>\n",
       "      <td>1134.000000</td>\n",
       "      <td>1125.650024</td>\n",
       "      <td>31652.0</td>\n",
       "      <td>1125.650024</td>\n",
       "    </tr>\n",
       "    <tr>\n",
       "      <th>2022-03-03</th>\n",
       "      <td>1167.400024</td>\n",
       "      <td>1090.000000</td>\n",
       "      <td>1150.000000</td>\n",
       "      <td>1106.650024</td>\n",
       "      <td>28832.0</td>\n",
       "      <td>1106.650024</td>\n",
       "    </tr>\n",
       "    <tr>\n",
       "      <th>2022-03-04</th>\n",
       "      <td>1169.050049</td>\n",
       "      <td>1083.150024</td>\n",
       "      <td>1100.000000</td>\n",
       "      <td>1142.050049</td>\n",
       "      <td>54586.0</td>\n",
       "      <td>1142.050049</td>\n",
       "    </tr>\n",
       "  </tbody>\n",
       "</table>\n",
       "<p>2508 rows × 6 columns</p>\n",
       "</div>"
      ],
      "text/plain": [
       "                   High          Low         Open        Close   Volume  \\\n",
       "Date                                                                      \n",
       "2012-01-02   156.850006   153.300003   153.300003   155.899994    908.0   \n",
       "2012-01-03   160.500000   156.000000   157.899994   158.899994    899.0   \n",
       "2012-01-04   163.899994   161.000000   163.000000   163.100006   1393.0   \n",
       "2012-01-05   166.899994   161.000000   165.000000   165.899994   1433.0   \n",
       "2012-01-06   167.949997   163.199997   165.000000   167.750000    310.0   \n",
       "...                 ...          ...          ...          ...      ...   \n",
       "2022-02-25  1176.949951  1094.900024  1094.900024  1144.849976  65435.0   \n",
       "2022-02-28  1236.250000  1113.050049  1147.000000  1134.150024  41184.0   \n",
       "2022-03-02  1160.250000  1116.750000  1134.000000  1125.650024  31652.0   \n",
       "2022-03-03  1167.400024  1090.000000  1150.000000  1106.650024  28832.0   \n",
       "2022-03-04  1169.050049  1083.150024  1100.000000  1142.050049  54586.0   \n",
       "\n",
       "              Adj Close  \n",
       "Date                     \n",
       "2012-01-02   124.298981  \n",
       "2012-01-03   126.690842  \n",
       "2012-01-04   130.039551  \n",
       "2012-01-05   132.271957  \n",
       "2012-01-06   133.746979  \n",
       "...                 ...  \n",
       "2022-02-25  1144.849976  \n",
       "2022-02-28  1134.150024  \n",
       "2022-03-02  1125.650024  \n",
       "2022-03-03  1106.650024  \n",
       "2022-03-04  1142.050049  \n",
       "\n",
       "[2508 rows x 6 columns]"
      ]
     },
     "execution_count": 3,
     "metadata": {},
     "output_type": "execute_result"
    }
   ],
   "source": [
    "#get the stock data\n",
    "df = web.DataReader(STOCK, data_source='yahoo' , start=START_DATE , end=END_DATE)\n",
    "\n",
    "#show the data\n",
    "df\n"
   ]
  },
  {
   "cell_type": "code",
   "execution_count": 4,
   "id": "8728e389",
   "metadata": {
    "id": "8728e389",
    "outputId": "e7a718db-fa12-4da6-edda-fb36457372bd"
   },
   "outputs": [
    {
     "data": {
      "text/plain": [
       "(2508, 6)"
      ]
     },
     "execution_count": 4,
     "metadata": {},
     "output_type": "execute_result"
    }
   ],
   "source": [
    "#get the number of rows and column in the data set\n",
    "df.shape"
   ]
  },
  {
   "cell_type": "code",
   "execution_count": 5,
   "id": "ede5a4f5",
   "metadata": {
    "id": "ede5a4f5",
    "outputId": "0b002ebf-5dfe-41fe-d4d0-3f53cbffafc7"
   },
   "outputs": [
    {
     "data": {
      "image/png": "[encoded data removed]",
      "text/plain": [
       "<Figure size 1152x576 with 1 Axes>"
      ]
     },
     "metadata": {},
     "output_type": "display_data"
    }
   ],
   "source": [
    "#Visualing the closing price history\n",
    "plt.figure(figsize=(16,8))\n",
    "plt.title('Close Price History')\n",
    "plt.plot(df['Close'])\n",
    "plt.xlabel('Date', fontsize=18)\n",
    "plt.ylabel('Closing Price USD($)', fontsize=18)\n",
    "plt.show()"
   ]
  },
  {
   "cell_type": "code",
   "execution_count": 6,
   "id": "860e4005",
   "metadata": {
    "id": "860e4005",
    "outputId": "3f34f0f3-065f-4c1b-c72a-8c1d7f2ed887"
   },
   "outputs": [
    {
     "data": {
      "text/plain": [
       "2007"
      ]
     },
     "execution_count": 6,
     "metadata": {},
     "output_type": "execute_result"
    }
   ],
   "source": [
    "#Create a new data\n",
    "data = df.filter(['Close'])\n",
    "#convert the dataframe to a numpy array\n",
    "dataset = data.values\n",
    "#get the number of rows to train the model on\n",
    "training_data_len = math.ceil(len(dataset)*.8)\n",
    "training_data_len"
   ]
  },
  {
   "cell_type": "code",
   "execution_count": 7,
   "id": "83ae7dd3",
   "metadata": {
    "id": "83ae7dd3",
    "outputId": "b2b3173d-5c6a-495e-a268-4051931aa6ac"
   },
   "outputs": [
    {
     "data": {
      "text/plain": [
       "array([[0.00800976],\n",
       "       [0.00865745],\n",
       "       [0.00956421],\n",
       "       ...,\n",
       "       [0.21737536],\n",
       "       [0.21327332],\n",
       "       [0.22091606]])"
      ]
     },
     "execution_count": 7,
     "metadata": {},
     "output_type": "execute_result"
    }
   ],
   "source": [
    "#Scale the data\n",
    "scaler = MinMaxScaler(feature_range=(0,1))\n",
    "scaled_data = scaler.fit_transform(dataset)\n",
    "\n",
    "scaled_data"
   ]
  },
  {
   "cell_type": "code",
   "execution_count": 8,
   "id": "22de3219",
   "metadata": {
    "id": "22de3219",
    "outputId": "b1fd5125-11fa-43c5-86bf-d71a87b0857a"
   },
   "outputs": [
    {
     "name": "stdout",
     "output_type": "stream",
     "text": [
      "[array([0.00800976, 0.00865745, 0.00956421, 0.01016872, 0.01056813,\n",
      "       0.01153967, 0.01219815, 0.01790861, 0.01531785, 0.01450824,\n",
      "       0.01386055, 0.01473493, 0.01315889, 0.01408724, 0.01512355,\n",
      "       0.01460539, 0.01460539, 0.01483209, 0.01565249, 0.01502639,\n",
      "       0.01554455, 0.01588998, 0.01666721, 0.0173149 , 0.01867504,\n",
      "       0.0181461 , 0.01849153, 0.022097  , 0.02036983, 0.02096354,\n",
      "       0.02171918, 0.0216868 , 0.02232369, 0.02202144, 0.02449345,\n",
      "       0.02459061, 0.02746203, 0.02761316, 0.02509796, 0.02635016,\n",
      "       0.02631778, 0.02624222, 0.0260695 , 0.02582121, 0.02510876,\n",
      "       0.0246122 , 0.02589678, 0.02573486, 0.0264797 , 0.02572406,\n",
      "       0.0250116 , 0.02375941, 0.02169759, 0.0219027 , 0.02279866,\n",
      "       0.02183793, 0.02131978, 0.02191349, 0.02120103, 0.02019711])]\n",
      "[0.020542546922996934]\n",
      "\n",
      "[array([0.00800976, 0.00865745, 0.00956421, 0.01016872, 0.01056813,\n",
      "       0.01153967, 0.01219815, 0.01790861, 0.01531785, 0.01450824,\n",
      "       0.01386055, 0.01473493, 0.01315889, 0.01408724, 0.01512355,\n",
      "       0.01460539, 0.01460539, 0.01483209, 0.01565249, 0.01502639,\n",
      "       0.01554455, 0.01588998, 0.01666721, 0.0173149 , 0.01867504,\n",
      "       0.0181461 , 0.01849153, 0.022097  , 0.02036983, 0.02096354,\n",
      "       0.02171918, 0.0216868 , 0.02232369, 0.02202144, 0.02449345,\n",
      "       0.02459061, 0.02746203, 0.02761316, 0.02509796, 0.02635016,\n",
      "       0.02631778, 0.02624222, 0.0260695 , 0.02582121, 0.02510876,\n",
      "       0.0246122 , 0.02589678, 0.02573486, 0.0264797 , 0.02572406,\n",
      "       0.0250116 , 0.02375941, 0.02169759, 0.0219027 , 0.02279866,\n",
      "       0.02183793, 0.02131978, 0.02191349, 0.02120103, 0.02019711]), array([0.00865745, 0.00956421, 0.01016872, 0.01056813, 0.01153967,\n",
      "       0.01219815, 0.01790861, 0.01531785, 0.01450824, 0.01386055,\n",
      "       0.01473493, 0.01315889, 0.01408724, 0.01512355, 0.01460539,\n",
      "       0.01460539, 0.01483209, 0.01565249, 0.01502639, 0.01554455,\n",
      "       0.01588998, 0.01666721, 0.0173149 , 0.01867504, 0.0181461 ,\n",
      "       0.01849153, 0.022097  , 0.02036983, 0.02096354, 0.02171918,\n",
      "       0.0216868 , 0.02232369, 0.02202144, 0.02449345, 0.02459061,\n",
      "       0.02746203, 0.02761316, 0.02509796, 0.02635016, 0.02631778,\n",
      "       0.02624222, 0.0260695 , 0.02582121, 0.02510876, 0.0246122 ,\n",
      "       0.02589678, 0.02573486, 0.0264797 , 0.02572406, 0.0250116 ,\n",
      "       0.02375941, 0.02169759, 0.0219027 , 0.02279866, 0.02183793,\n",
      "       0.02131978, 0.02191349, 0.02120103, 0.02019711, 0.02054255])]\n",
      "[0.020542546922996934, 0.020758443383750737]\n",
      "\n"
     ]
    }
   ],
   "source": [
    "#creating the training data set\n",
    "#create the scaled training data set\n",
    "train_data = scaled_data[0:training_data_len,:]\n",
    "#split the data into x_train and y_train data sets\n",
    "x_train = []\n",
    "y_train = []\n",
    "for i in range(60, len(train_data)):\n",
    "    x_train.append(train_data[i-60:i,0])\n",
    "    y_train.append(train_data[i,0])\n",
    "    if i<=61:\n",
    "        print(x_train)\n",
    "        print(y_train)\n",
    "        print()"
   ]
  },
  {
   "cell_type": "code",
   "execution_count": 9,
   "id": "d58092dc",
   "metadata": {
    "id": "d58092dc"
   },
   "outputs": [],
   "source": [
    "#Convert the X_train and Y_train to numpy arrays\n",
    "x_train , y_train = np.array(x_train), np.array(y_train)"
   ]
  },
  {
   "cell_type": "code",
   "execution_count": 10,
   "id": "de162dec",
   "metadata": {
    "id": "de162dec",
    "outputId": "14201c32-f5ea-4645-ae7d-57a36706f4c6"
   },
   "outputs": [
    {
     "data": {
      "text/plain": [
       "(1947, 60, 1)"
      ]
     },
     "execution_count": 10,
     "metadata": {},
     "output_type": "execute_result"
    }
   ],
   "source": [
    "#Reshape the data\n",
    "x_train = np.reshape(x_train,(x_train.shape[0],x_train.shape[1],1))\n",
    "x_train.shape"
   ]
  },
  {
   "cell_type": "code",
   "execution_count": 11,
   "id": "eefcb209",
   "metadata": {
    "id": "eefcb209"
   },
   "outputs": [],
   "source": [
    "#Building the LSTM model\n",
    "model = Sequential()\n",
    "model.add(LSTM(50, return_sequences=True, input_shape =(x_train.shape[1],1)))\n",
    "model.add(LSTM(50, return_sequences=True))\n",
    "model.add(LSTM(50, return_sequences=True))\n",
    "model.add(LSTM(50, return_sequences=False))\n",
    "model.add(Dense(25))\n",
    "model.add(Dense(1))"
   ]
  },
  {
   "cell_type": "code",
   "execution_count": 12,
   "id": "eeab6098",
   "metadata": {
    "id": "eeab6098"
   },
   "outputs": [],
   "source": [
    "#compile the Model\n",
    "model.compile(optimizer='adam', loss='mean_squared_error')\n"
   ]
  },
  {
   "cell_type": "code",
   "execution_count": null,
   "id": "8729081e",
   "metadata": {
    "id": "8729081e",
    "outputId": "95c61fc5-cbb8-42a5-a649-7ee43b055955",
    "scrolled": true
   },
   "outputs": [
    {
     "name": "stdout",
     "output_type": "stream",
     "text": [
      "Epoch 1/100\n",
      "61/61 [==============================] - 118s 248ms/step - loss: 0.0066\n",
      "Epoch 2/100\n",
      "61/61 [==============================] - 15s 249ms/step - loss: 0.0030\n",
      "Epoch 3/100\n",
      "61/61 [==============================] - 14s 233ms/step - loss: 0.0019\n",
      "Epoch 4/100\n",
      "61/61 [==============================] - 12s 196ms/step - loss: 0.0017\n",
      "Epoch 5/100\n",
      "61/61 [==============================] - 11s 178ms/step - loss: 0.0014\n",
      "Epoch 6/100\n",
      "61/61 [==============================] - 11s 179ms/step - loss: 0.0013\n",
      "Epoch 7/100\n",
      "61/61 [==============================] - 11s 176ms/step - loss: 9.9458e-04\n",
      "Epoch 8/100\n",
      "61/61 [==============================] - 11s 178ms/step - loss: 9.4910e-04\n",
      "Epoch 9/100\n",
      "61/61 [==============================] - 11s 182ms/step - loss: 8.8341e-04\n",
      "Epoch 10/100\n",
      "61/61 [==============================] - 11s 176ms/step - loss: 8.2923e-04\n",
      "Epoch 11/100\n",
      "61/61 [==============================] - 11s 177ms/step - loss: 8.5510e-04\n",
      "Epoch 12/100\n",
      "61/61 [==============================] - 11s 179ms/step - loss: 7.4034e-04\n",
      "Epoch 13/100\n",
      "61/61 [==============================] - 11s 177ms/step - loss: 7.7077e-04\n",
      "Epoch 14/100\n",
      "61/61 [==============================] - 13s 216ms/step - loss: 6.5218e-04\n",
      "Epoch 15/100\n",
      "61/61 [==============================] - 14s 232ms/step - loss: 6.2447e-04\n",
      "Epoch 16/100\n",
      "61/61 [==============================] - 14s 230ms/step - loss: 5.9011e-04\n",
      "Epoch 17/100\n",
      "61/61 [==============================] - 14s 229ms/step - loss: 5.6828e-04\n",
      "Epoch 18/100\n",
      "61/61 [==============================] - 14s 233ms/step - loss: 5.1371e-04\n",
      "Epoch 19/100\n",
      "61/61 [==============================] - 14s 230ms/step - loss: 5.2066e-04\n",
      "Epoch 20/100\n",
      "61/61 [==============================] - 14s 236ms/step - loss: 5.5306e-04\n",
      "Epoch 21/100\n",
      "61/61 [==============================] - 15s 246ms/step - loss: 3.4290e-04\n",
      "Epoch 22/100\n",
      "61/61 [==============================] - 14s 237ms/step - loss: 4.2983e-04\n",
      "Epoch 23/100\n",
      "61/61 [==============================] - 14s 232ms/step - loss: 3.7375e-04\n",
      "Epoch 24/100\n",
      "61/61 [==============================] - 13s 217ms/step - loss: 3.2877e-04\n",
      "Epoch 25/100\n",
      "61/61 [==============================] - 11s 180ms/step - loss: 3.3990e-04\n",
      "Epoch 26/100\n",
      "61/61 [==============================] - 11s 181ms/step - loss: 2.8708e-04\n",
      "Epoch 27/100\n",
      "61/61 [==============================] - 11s 183ms/step - loss: 2.8781e-04\n",
      "Epoch 28/100\n",
      "61/61 [==============================] - 11s 179ms/step - loss: 2.5748e-04\n",
      "Epoch 29/100\n",
      "61/61 [==============================] - 11s 177ms/step - loss: 2.5075e-04\n",
      "Epoch 30/100\n",
      "61/61 [==============================] - 11s 176ms/step - loss: 2.4358e-04\n",
      "Epoch 31/100\n",
      "61/61 [==============================] - 11s 182ms/step - loss: 2.3953e-04\n",
      "Epoch 32/100\n",
      "61/61 [==============================] - 11s 179ms/step - loss: 1.9595e-04\n",
      "Epoch 33/100\n",
      "61/61 [==============================] - 11s 178ms/step - loss: 2.6635e-04\n",
      "Epoch 34/100\n",
      "61/61 [==============================] - 11s 178ms/step - loss: 1.7260e-04\n",
      "Epoch 35/100\n",
      "61/61 [==============================] - 11s 176ms/step - loss: 2.4208e-04\n",
      "Epoch 36/100\n",
      "61/61 [==============================] - 11s 177ms/step - loss: 2.9972e-04\n",
      "Epoch 37/100\n",
      "61/61 [==============================] - 11s 175ms/step - loss: 2.2767e-04\n",
      "Epoch 38/100\n",
      "61/61 [==============================] - 10s 170ms/step - loss: 1.8532e-04\n",
      "Epoch 39/100\n",
      "61/61 [==============================] - 10s 164ms/step - loss: 2.0684e-04\n",
      "Epoch 40/100\n",
      "61/61 [==============================] - 10s 165ms/step - loss: 2.9100e-04\n",
      "Epoch 41/100\n",
      "61/61 [==============================] - 10s 170ms/step - loss: 1.8834e-04\n",
      "Epoch 42/100\n",
      "61/61 [==============================] - 11s 177ms/step - loss: 1.9408e-04\n",
      "Epoch 43/100\n",
      "61/61 [==============================] - 11s 177ms/step - loss: 2.5772e-04\n",
      "Epoch 44/100\n",
      "61/61 [==============================] - 11s 178ms/step - loss: 3.1944e-04\n",
      "Epoch 45/100\n",
      "61/61 [==============================] - 11s 177ms/step - loss: 1.7693e-04\n",
      "Epoch 46/100\n",
      "61/61 [==============================] - 11s 178ms/step - loss: 2.0588e-04\n",
      "Epoch 47/100\n",
      "61/61 [==============================] - 11s 177ms/step - loss: 1.7431e-04\n",
      "Epoch 48/100\n",
      "61/61 [==============================] - 11s 176ms/step - loss: 1.7907e-04\n",
      "Epoch 49/100\n",
      "61/61 [==============================] - 11s 176ms/step - loss: 1.8259e-04\n",
      "Epoch 50/100\n",
      "61/61 [==============================] - 11s 175ms/step - loss: 2.2840e-04\n",
      "Epoch 51/100\n",
      "61/61 [==============================] - 11s 176ms/step - loss: 2.0981e-04\n",
      "Epoch 52/100\n",
      "61/61 [==============================] - 10s 163ms/step - loss: 2.2371e-04\n",
      "Epoch 53/100\n",
      "61/61 [==============================] - 10s 163ms/step - loss: 2.2122e-04\n",
      "Epoch 54/100\n",
      "61/61 [==============================] - 10s 163ms/step - loss: 1.8682e-04\n",
      "Epoch 55/100\n",
      "61/61 [==============================] - 10s 164ms/step - loss: 1.6385e-04\n",
      "Epoch 56/100\n",
      "61/61 [==============================] - 10s 166ms/step - loss: 2.7115e-04\n",
      "Epoch 57/100\n",
      "61/61 [==============================] - 10s 166ms/step - loss: 2.7381e-04\n",
      "Epoch 58/100\n",
      "61/61 [==============================] - 10s 160ms/step - loss: 1.9275e-04\n",
      "Epoch 59/100\n",
      "61/61 [==============================] - 10s 167ms/step - loss: 1.8266e-04\n",
      "Epoch 60/100\n",
      "61/61 [==============================] - 10s 164ms/step - loss: 1.7701e-04\n",
      "Epoch 61/100\n",
      "61/61 [==============================] - 10s 167ms/step - loss: 1.7708e-04\n",
      "Epoch 62/100\n",
      "61/61 [==============================] - 11s 173ms/step - loss: 1.8586e-04\n",
      "Epoch 63/100\n",
      "61/61 [==============================] - 1804s 30s/step - loss: 1.9072e-04\n",
      "Epoch 64/100\n",
      "61/61 [==============================] - 8s 132ms/step - loss: 1.9066e-04\n",
      "Epoch 65/100\n",
      "61/61 [==============================] - 6s 99ms/step - loss: 1.9603e-04\n",
      "Epoch 66/100\n",
      "61/61 [==============================] - 5s 88ms/step - loss: 1.7361e-04\n",
      "Epoch 67/100\n",
      "61/61 [==============================] - 5s 90ms/step - loss: 2.1496e-04\n",
      "Epoch 68/100\n",
      "61/61 [==============================] - 6s 93ms/step - loss: 1.8320e-04\n",
      "Epoch 69/100\n",
      "61/61 [==============================] - 6s 92ms/step - loss: 2.6584e-04\n",
      "Epoch 70/100\n",
      "61/61 [==============================] - 6s 92ms/step - loss: 1.9500e-04\n",
      "Epoch 71/100\n",
      "61/61 [==============================] - 6s 94ms/step - loss: 1.9058e-04\n",
      "Epoch 72/100\n",
      "61/61 [==============================] - 6s 95ms/step - loss: 1.7701e-04\n",
      "Epoch 73/100\n",
      "61/61 [==============================] - 5s 89ms/step - loss: 1.6851e-04\n",
      "Epoch 74/100\n",
      "61/61 [==============================] - 6s 96ms/step - loss: 2.1970e-04\n",
      "Epoch 75/100\n",
      "61/61 [==============================] - 6s 92ms/step - loss: 2.3753e-04\n",
      "Epoch 76/100\n",
      "61/61 [==============================] - 6s 98ms/step - loss: 2.0146e-04\n",
      "Epoch 77/100\n",
      "61/61 [==============================] - 6s 101ms/step - loss: 1.5234e-04\n",
      "Epoch 78/100\n",
      "61/61 [==============================] - 7s 108ms/step - loss: 1.9486e-04\n",
      "Epoch 79/100\n",
      "61/61 [==============================] - 6s 105ms/step - loss: 1.5642e-04\n",
      "Epoch 80/100\n",
      "61/61 [==============================] - 9s 151ms/step - loss: 2.0497e-04\n",
      "Epoch 81/100\n",
      "61/61 [==============================] - 11s 184ms/step - loss: 1.6231e-04\n",
      "Epoch 82/100\n",
      "61/61 [==============================] - 11s 184ms/step - loss: 1.5798e-04\n",
      "Epoch 83/100\n",
      "61/61 [==============================] - 11s 185ms/step - loss: 2.0937e-04\n",
      "Epoch 84/100\n",
      "61/61 [==============================] - 12s 189ms/step - loss: 2.2506e-04\n",
      "Epoch 85/100\n",
      "61/61 [==============================] - 12s 195ms/step - loss: 1.9627e-04\n",
      "Epoch 86/100\n",
      "38/61 [=================>............] - ETA: 4s - loss: 2.1626e-04"
     ]
    }
   ],
   "source": [
    "#train the model\n",
    "model.fit(x_train, y_train, batch_size=32, epochs=EPOCHS)"
   ]
  },
  {
   "cell_type": "code",
   "execution_count": null,
   "id": "1ffb2cf5",
   "metadata": {
    "id": "1ffb2cf5"
   },
   "outputs": [],
   "source": [
    "#create the testing data set\n",
    "#create a new array containing scaled values from index 1543 to 2003\n",
    "test_data = scaled_data[training_data_len - 60: , :]\n",
    "#create the data sets x_test adn y_test\n",
    "x_test = []\n",
    "y_test = dataset[training_data_len:,:]\n",
    "for i in range(60, len(test_data)):\n",
    "    x_test.append(test_data[i-60:i,0])\n",
    "    \n",
    "    \n"
   ]
  },
  {
   "cell_type": "code",
   "execution_count": null,
   "id": "e47d88b9",
   "metadata": {
    "id": "e47d88b9"
   },
   "outputs": [],
   "source": [
    "#convert the data to a numpy array\n",
    "x_test = np.array(x_test)"
   ]
  },
  {
   "cell_type": "code",
   "execution_count": null,
   "id": "ab219d64",
   "metadata": {
    "id": "ab219d64"
   },
   "outputs": [],
   "source": [
    "#resahpe the data\n",
    "x_test = np.reshape(x_test,(x_test.shape[0],x_test.shape[1],1))"
   ]
  },
  {
   "cell_type": "code",
   "execution_count": null,
   "id": "f0e9563d",
   "metadata": {
    "id": "f0e9563d"
   },
   "outputs": [],
   "source": [
    "#get the models predicted price values\n",
    "predictions = model.predict(x_test)\n",
    "predictions = scaler.inverse_transform(predictions)"
   ]
  },
  {
   "cell_type": "code",
   "execution_count": null,
   "id": "c366802e",
   "metadata": {
    "id": "c366802e",
    "outputId": "f50b6f6e-e0a7-41fa-ac47-e5623cd84398"
   },
   "outputs": [],
   "source": [
    "#get the root mean squared error (RMSE)\n",
    "rmse =  np.sqrt(np.mean(predictions - y_test)**2)\n",
    "rmse"
   ]
  },
  {
   "cell_type": "code",
   "execution_count": null,
   "id": "30fda6a3",
   "metadata": {
    "id": "30fda6a3",
    "outputId": "ea646a8d-4c11-4038-aa38-e998e92d3d07"
   },
   "outputs": [],
   "source": [
    "#plot the date\n",
    "train = data[:training_data_len]\n",
    "valid = data[training_data_len:]\n",
    "valid['Predictions'] = predictions\n",
    "#visualize the data\n",
    "plt.figure(figsize=(16,8))\n",
    "plt.title('Model')\n",
    "plt.xlabel('Date')\n",
    "plt.ylabel('Close Price USD ($)')\n",
    "plt.plot(train['Close'])\n",
    "plt.plot(valid[['Close', 'Predictions']])\n",
    "plt.legend(['Train', 'Val', 'Predictions'], loc='lower right')\n",
    "plt.show()"
   ]
  },
  {
   "cell_type": "code",
   "execution_count": null,
   "id": "94010774",
   "metadata": {
    "id": "94010774",
    "outputId": "52e5e20d-08d8-4359-96a1-e9c494ef7704"
   },
   "outputs": [],
   "source": [
    "#show the valid and predicted prices\n",
    "valid"
   ]
  },
  {
   "cell_type": "code",
   "execution_count": null,
   "id": "be8deaf4",
   "metadata": {
    "id": "be8deaf4",
    "outputId": "b9b9bea2-8f3f-4d3c-c9f8-88087470817f"
   },
   "outputs": [],
   "source": [
    "#get the Quote\n",
    "stock_quote = web.DataReader(STOCK, data_source = 'yahoo', start=START_DATE, end=END_DATE)\n",
    "#create new data frame\n",
    "new_df = stock_quote.filter(['Close'])\n",
    "#get the last 60 days closing price values and convert the dataframe to an array\n",
    "last_60_days = new_df[-60:].values\n",
    "#scale the data to be values between 0 and 1\n",
    "last_60_days_scaled = scaler.fit_transform(last_60_days)\n",
    "#create the empty list\n",
    "x_test = []\n",
    "#append the past 60 days\n",
    "x_test.append(last_60_days_scaled)\n",
    "#convert the x_test data set to a numpy array\n",
    "x_test = np.array(x_test)\n",
    "x_test = np.reshape(x_test,(x_test.shape[0],x_test.shape[1],1))\n",
    "#get the predicted scaled price\n",
    "pred_price = model.predict(x_test)\n",
    "#undo the scaling\n",
    "pred_price = scaler.inverse_transform(pred_price)\n",
    "print(pred_price)\n"
   ]
  },
  {
   "cell_type": "code",
   "execution_count": null,
   "id": "c2efab6b",
   "metadata": {
    "id": "c2efab6b",
    "outputId": "598b1ec6-771b-46c3-c09e-ab3bad3f1d95"
   },
   "outputs": [],
   "source": [
    "stock_quote2 = web.DataReader(STOCK, data_source = 'yahoo', start=START_DATE, end=PREDICT_DATE)\n",
    "print(stock_quote2['Close'])"
   ]
  },
  {
   "cell_type": "code",
   "execution_count": null,
   "id": "bfd5c96d",
   "metadata": {
    "id": "bfd5c96d"
   },
   "outputs": [],
   "source": [
    "model.save(model_path)\n",
    "loaded_model = load_model(model_path)\n",
    "\n"
   ]
  },
  {
   "cell_type": "code",
   "execution_count": null,
   "id": "fd10c5ed",
   "metadata": {},
   "outputs": [],
   "source": [
    "#The Error model\n",
    "nperr = np.array(predictions - y_test)\n",
    "nperr.shape\n",
    "#np.savetxt(error_data,nperr,delimiter=\",\")\n",
    "scaled_error = scaler.fit_transform(nperr)\n",
    "plt.figure(figsize=(25,10))\n",
    "plt.plot(nperr, linewidth=3)\n",
    "x = np.linspace(0, 600, 600)\n",
    "y = np.linspace(0, 0, 600)\n",
    "plt.plot(x,y)\n",
    "plt.title(\"1D error\")\n",
    "plt.show()"
   ]
  },
  {
   "cell_type": "code",
   "execution_count": null,
   "id": "6feb9472",
   "metadata": {},
   "outputs": [],
   "source": [
    "\n",
    "nperr.shape\n",
    "print(type(nperr))\n",
    "training_errdata_len = math.ceil(len(nperr)*0.8)\n",
    "training_errdata_len"
   ]
  },
  {
   "cell_type": "code",
   "execution_count": null,
   "id": "e1df5ec4",
   "metadata": {},
   "outputs": [],
   "source": [
    "#Scale the error data\n",
    "errscaler = MinMaxScaler(feature_range=(0,1))\n",
    "scaled_errdata = errscaler.fit_transform(nperr)\n"
   ]
  },
  {
   "cell_type": "code",
   "execution_count": null,
   "id": "934d1f90",
   "metadata": {},
   "outputs": [],
   "source": [
    "#creating the error training data set\n",
    "#create the scaled error training data set\n",
    "train_errdata = scaled_errdata[0:training_errdata_len,:]\n",
    "#split the data into x_errtrain and y_errtrain data sets\n",
    "x_errtrain = []\n",
    "y_errtrain = []\n",
    "for i in range(60, len(train_errdata)):\n",
    "    x_errtrain.append(train_errdata[i-60:i,0])\n",
    "    y_errtrain.append(train_errdata[i,0])\n",
    "    if i<=61:\n",
    "        print(x_errtrain)\n",
    "        print(y_errtrain)\n",
    "        print()"
   ]
  },
  {
   "cell_type": "code",
   "execution_count": null,
   "id": "abf268a8",
   "metadata": {},
   "outputs": [],
   "source": [
    "#Convert the X_errtrain and Y_errtrain to numpy arrays\n",
    "x_errtrain , y_errtrain = np.array(x_errtrain), np.array(y_errtrain)"
   ]
  },
  {
   "cell_type": "code",
   "execution_count": null,
   "id": "08b7bd68",
   "metadata": {},
   "outputs": [],
   "source": [
    "#Reshape the error data\n",
    "x_errtrain = np.reshape(x_errtrain,(x_errtrain.shape[0],x_errtrain.shape[1],1))\n",
    "x_errtrain.shape"
   ]
  },
  {
   "cell_type": "code",
   "execution_count": null,
   "id": "832e09a0",
   "metadata": {},
   "outputs": [],
   "source": [
    "#Building the LSTM error model\n",
    "errmodel = Sequential()\n",
    "errmodel.add(LSTM(50, return_sequences=True, input_shape =(x_errtrain.shape[1],1)))\n",
    "\n",
    "#adding a fourth fifth layer and some Dropout regularistion\n",
    "errmodel.add(LSTM(units = 50, return_sequences = False))\n",
    "\n",
    "errmodel.add(Dense(25))\n",
    "errmodel.add(Dense(1))"
   ]
  },
  {
   "cell_type": "code",
   "execution_count": null,
   "id": "55c08af4",
   "metadata": {},
   "outputs": [],
   "source": [
    "#compile the error Model\n",
    "errmodel.compile(optimizer='adam', loss='mean_squared_error')\n"
   ]
  },
  {
   "cell_type": "code",
   "execution_count": null,
   "id": "c705a4bc",
   "metadata": {},
   "outputs": [],
   "source": [
    "#train the error model\n",
    "errmodel.fit(x_errtrain, y_errtrain, batch_size=32, epochs=ERR_EPOCHS)"
   ]
  },
  {
   "cell_type": "code",
   "execution_count": null,
   "id": "690b77bc",
   "metadata": {},
   "outputs": [],
   "source": [
    "#create the testing error data set\n",
    "#create a new array containing scaled values \n",
    "test_errdata = scaled_errdata[training_errdata_len - 60: , :]\n",
    "#create the data sets x_errtest adn y_errtest\n",
    "x_errtest = []\n",
    "y_errtest = nperr[training_errdata_len:,:]\n",
    "for i in range(60, len(test_errdata)):\n",
    "    x_errtest.append(test_errdata[i-60:i,0])\n"
   ]
  },
  {
   "cell_type": "code",
   "execution_count": null,
   "id": "56ad178c",
   "metadata": {},
   "outputs": [],
   "source": [
    "#convert the error data to a numpy array\n",
    "x_errtest = np.array(x_errtest)\n",
    "\n"
   ]
  },
  {
   "cell_type": "code",
   "execution_count": null,
   "id": "6bece4eb",
   "metadata": {},
   "outputs": [],
   "source": [
    "#resahpe the error data\n",
    "x_errtest = np.reshape(x_errtest,(x_errtest.shape[0],x_errtest.shape[1],1))\n"
   ]
  },
  {
   "cell_type": "code",
   "execution_count": null,
   "id": "25ba1e63",
   "metadata": {},
   "outputs": [],
   "source": [
    "#get the models predicted error values\n",
    "errpredictions = errmodel.predict(x_errtest)\n",
    "errpredictions = errscaler.inverse_transform(errpredictions)"
   ]
  },
  {
   "cell_type": "code",
   "execution_count": null,
   "id": "3f615e97",
   "metadata": {},
   "outputs": [],
   "source": [
    "#get the root mean squared error (RMSE)\n",
    "error2d = []\n",
    "print(errpredictions.shape)\n",
    "error2d.append(errpredictions - y_errtest)\n",
    "nperr2d = np.array(errpredictions - y_errtest)\n",
    "scaled_error2d = errscaler.fit_transform(nperr2d)\n",
    "#print(nperr)\n",
    "plt.figure(figsize=(25,10))\n",
    "plt.plot(scaled_error2d)\n",
    "plt.title('scaled 2D Error')\n",
    "plt.show()\n",
    "rmse2d =  np.sqrt(np.mean(errpredictions - y_errtest)**2)\n",
    "print(rmse2d)\n",
    "#print(errpredictions)"
   ]
  },
  {
   "cell_type": "code",
   "execution_count": null,
   "id": "c620316c",
   "metadata": {},
   "outputs": [],
   "source": [
    "#plot the error data\n",
    "print(nperr.shape)\n",
    "dfnperr = pd.DataFrame(nperr, columns = ['Error'])\n",
    "dfnperr.to_csv(error_data)\n",
    "errtrain = dfnperr[:training_errdata_len]\n",
    "errvalid = dfnperr[training_errdata_len:]\n",
    "errvalid['Error Predictions'] = errpredictions\n",
    "errvalid['Error2d'] = nperr2d\n",
    "print(errvalid)\n",
    "#visualize the data\n",
    "plt.figure(figsize=(16,8))\n",
    "plt.title('Error Model')\n",
    "plt.xlabel('Date')\n",
    "plt.ylabel('Error Close Price USD ($)')\n",
    "plt.plot(errtrain['Error'])\n",
    "plt.plot(errvalid[['Error', 'Error Predictions']])\n",
    "plt.legend(['Error Train', 'Error Val', ' Error Predictions'], loc='lower right')\n",
    "plt.show()"
   ]
  },
  {
   "cell_type": "code",
   "execution_count": null,
   "id": "a50f5de7",
   "metadata": {},
   "outputs": [],
   "source": [
    "#predict the error\n",
    "last_60_days_error = dfnperr[-60:].values\n",
    "print(last_60_days_error)\n",
    "\n",
    "#scale the data to be values between 0 and 1\n",
    "last_60_days_scaled_error = errscaler.transform(last_60_days_error)\n",
    "\n",
    "\n",
    "#create the empty list\n",
    "x_errtest=[]\n",
    "\n",
    "#append the past 60 days \n",
    "x_errtest.append(last_60_days_scaled_error)\n",
    "\n",
    "#convert the x_test data set to a numpy array\n",
    "x_errtest = np.array(x_errtest)\n",
    "x_errtest = np.reshape(x_errtest,(x_errtest.shape[0],x_errtest.shape[1],1))\n",
    "\n",
    "pred_error = model.predict(x_errtest)\n",
    "\n",
    "#undo the scaling\n",
    "pred_error = errscaler.inverse_transform(pred_error)\n",
    "\n",
    "print(pred_error)\n",
    "\n",
    "dfnperr.tail()"
   ]
  },
  {
   "cell_type": "code",
   "execution_count": null,
   "id": "17560455",
   "metadata": {},
   "outputs": [],
   "source": [
    "print(\"the predicted value with 1D error correction \")\n",
    "print(pred_price[0][0]-pred_error[0][0])"
   ]
  },
  {
   "cell_type": "code",
   "execution_count": null,
   "id": "f901a9b7",
   "metadata": {},
   "outputs": [],
   "source": [
    "model.save(error_model_path)\n",
    "loaded_model = load_model(error_model_path)\n"
   ]
  },
  {
   "cell_type": "code",
   "execution_count": null,
   "id": "7b7a7951",
   "metadata": {
    "scrolled": true
   },
   "outputs": [],
   "source": [
    "stock_quote2 = web.DataReader(STOCK, data_source = 'yahoo', start=START_DATE, end=PREDICT_DATE)\n",
    "print(stock_quote2['Close'])"
   ]
  },
  {
   "cell_type": "code",
   "execution_count": null,
   "id": "2d66ed1a",
   "metadata": {},
   "outputs": [],
   "source": []
  }
 ],
 "metadata": {
  "colab": {
   "name": "apple stock forecast-checkpoint.ipynb",
   "provenance": []
  },
  "kernelspec": {
   "display_name": "Python 3 (ipykernel)",
   "language": "python",
   "name": "python3"
  },
  "language_info": {
   "codemirror_mode": {
    "name": "ipython",
    "version": 3
   },
   "file_extension": ".py",
   "mimetype": "text/x-python",
   "name": "python",
   "nbconvert_exporter": "python",
   "pygments_lexer": "ipython3",
   "version": "3.7.9"
  }
 },
 "nbformat": 4,
 "nbformat_minor": 5
}
