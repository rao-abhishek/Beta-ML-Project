{
 "cells": [
  {
   "cell_type": "code",
   "execution_count": 1,
   "id": "119ef146",
   "metadata": {
    "id": "119ef146"
   },
   "outputs": [],
   "source": [
    "#import the libraries\n",
    "import math\n",
    "import pandas_datareader as web\n",
    "import numpy as np\n",
    "from sklearn.preprocessing import MinMaxScaler\n",
    "from keras.models import Sequential\n",
    "from keras.layers import Dense, LSTM\n",
    "from keras.models import load_model\n",
    "import matplotlib.pyplot as plt\n",
    "plt.style.use('fivethirtyeight')\n",
    "import pickle\n",
    "import pandas as pd"
   ]
  },
  {
   "cell_type": "code",
   "execution_count": 2,
   "id": "f6a35eb3",
   "metadata": {},
   "outputs": [],
   "source": [
    "#MACRO DEF\n",
    "\n",
    "STOCK = 'ONGC.BO'\n",
    "EPOCHS = 100\n",
    "model_path = \"machine learning model/\"+STOCK+\"_model.h5\"\n",
    "error_model_path = \"machine learning model/\"+STOCK+\"_error_model.h5\"\n",
    "error_data = \"machine learning model/\"+STOCK+\"_error_data.csv\"\n",
    "START_DATE = '2012-01-01'\n",
    "END_DATE = '2022-03-05'\n",
    "PREDICT_DATE = '2022-03-07'\n",
    "ERR_EPOCHS = 120"
   ]
  },
  {
   "cell_type": "code",
   "execution_count": 3,
   "id": "0baa4ed2",
   "metadata": {
    "id": "0baa4ed2",
    "outputId": "9b884812-40a4-4562-f722-55f12356c439"
   },
   "outputs": [
    {
     "data": {
      "text/html": [
       "<div>\n",
       "<style scoped>\n",
       "    .dataframe tbody tr th:only-of-type {\n",
       "        vertical-align: middle;\n",
       "    }\n",
       "\n",
       "    .dataframe tbody tr th {\n",
       "        vertical-align: top;\n",
       "    }\n",
       "\n",
       "    .dataframe thead th {\n",
       "        text-align: right;\n",
       "    }\n",
       "</style>\n",
       "<table border=\"1\" class=\"dataframe\">\n",
       "  <thead>\n",
       "    <tr style=\"text-align: right;\">\n",
       "      <th></th>\n",
       "      <th>High</th>\n",
       "      <th>Low</th>\n",
       "      <th>Open</th>\n",
       "      <th>Close</th>\n",
       "      <th>Volume</th>\n",
       "      <th>Adj Close</th>\n",
       "    </tr>\n",
       "    <tr>\n",
       "      <th>Date</th>\n",
       "      <th></th>\n",
       "      <th></th>\n",
       "      <th></th>\n",
       "      <th></th>\n",
       "      <th></th>\n",
       "      <th></th>\n",
       "    </tr>\n",
       "  </thead>\n",
       "  <tbody>\n",
       "    <tr>\n",
       "      <th>2012-01-02</th>\n",
       "      <td>175.266663</td>\n",
       "      <td>170.899994</td>\n",
       "      <td>172.666672</td>\n",
       "      <td>172.366669</td>\n",
       "      <td>183568.0</td>\n",
       "      <td>111.582535</td>\n",
       "    </tr>\n",
       "    <tr>\n",
       "      <th>2012-01-03</th>\n",
       "      <td>176.166672</td>\n",
       "      <td>173.166672</td>\n",
       "      <td>174.000000</td>\n",
       "      <td>175.433334</td>\n",
       "      <td>430885.0</td>\n",
       "      <td>113.567741</td>\n",
       "    </tr>\n",
       "    <tr>\n",
       "      <th>2012-01-04</th>\n",
       "      <td>178.466660</td>\n",
       "      <td>174.399994</td>\n",
       "      <td>176.066666</td>\n",
       "      <td>177.300003</td>\n",
       "      <td>388765.0</td>\n",
       "      <td>114.776146</td>\n",
       "    </tr>\n",
       "    <tr>\n",
       "      <th>2012-01-05</th>\n",
       "      <td>180.100006</td>\n",
       "      <td>174.333328</td>\n",
       "      <td>178.933334</td>\n",
       "      <td>174.866669</td>\n",
       "      <td>603528.0</td>\n",
       "      <td>113.200905</td>\n",
       "    </tr>\n",
       "    <tr>\n",
       "      <th>2012-01-06</th>\n",
       "      <td>172.333328</td>\n",
       "      <td>169.033340</td>\n",
       "      <td>171.666672</td>\n",
       "      <td>170.533340</td>\n",
       "      <td>305928.0</td>\n",
       "      <td>113.090355</td>\n",
       "    </tr>\n",
       "    <tr>\n",
       "      <th>...</th>\n",
       "      <td>...</td>\n",
       "      <td>...</td>\n",
       "      <td>...</td>\n",
       "      <td>...</td>\n",
       "      <td>...</td>\n",
       "      <td>...</td>\n",
       "    </tr>\n",
       "    <tr>\n",
       "      <th>2022-02-25</th>\n",
       "      <td>160.399994</td>\n",
       "      <td>157.000000</td>\n",
       "      <td>159.550003</td>\n",
       "      <td>159.399994</td>\n",
       "      <td>812157.0</td>\n",
       "      <td>159.399994</td>\n",
       "    </tr>\n",
       "    <tr>\n",
       "      <th>2022-02-28</th>\n",
       "      <td>161.550003</td>\n",
       "      <td>155.800003</td>\n",
       "      <td>160.899994</td>\n",
       "      <td>160.600006</td>\n",
       "      <td>624125.0</td>\n",
       "      <td>160.600006</td>\n",
       "    </tr>\n",
       "    <tr>\n",
       "      <th>2022-03-02</th>\n",
       "      <td>168.350006</td>\n",
       "      <td>161.850006</td>\n",
       "      <td>166.500000</td>\n",
       "      <td>163.050003</td>\n",
       "      <td>1448343.0</td>\n",
       "      <td>163.050003</td>\n",
       "    </tr>\n",
       "    <tr>\n",
       "      <th>2022-03-03</th>\n",
       "      <td>171.899994</td>\n",
       "      <td>162.899994</td>\n",
       "      <td>168.800003</td>\n",
       "      <td>170.100006</td>\n",
       "      <td>2748803.0</td>\n",
       "      <td>170.100006</td>\n",
       "    </tr>\n",
       "    <tr>\n",
       "      <th>2022-03-04</th>\n",
       "      <td>170.699997</td>\n",
       "      <td>163.949997</td>\n",
       "      <td>170.699997</td>\n",
       "      <td>165.149994</td>\n",
       "      <td>1769083.0</td>\n",
       "      <td>165.149994</td>\n",
       "    </tr>\n",
       "  </tbody>\n",
       "</table>\n",
       "<p>2508 rows × 6 columns</p>\n",
       "</div>"
      ],
      "text/plain": [
       "                  High         Low        Open       Close     Volume  \\\n",
       "Date                                                                    \n",
       "2012-01-02  175.266663  170.899994  172.666672  172.366669   183568.0   \n",
       "2012-01-03  176.166672  173.166672  174.000000  175.433334   430885.0   \n",
       "2012-01-04  178.466660  174.399994  176.066666  177.300003   388765.0   \n",
       "2012-01-05  180.100006  174.333328  178.933334  174.866669   603528.0   \n",
       "2012-01-06  172.333328  169.033340  171.666672  170.533340   305928.0   \n",
       "...                ...         ...         ...         ...        ...   \n",
       "2022-02-25  160.399994  157.000000  159.550003  159.399994   812157.0   \n",
       "2022-02-28  161.550003  155.800003  160.899994  160.600006   624125.0   \n",
       "2022-03-02  168.350006  161.850006  166.500000  163.050003  1448343.0   \n",
       "2022-03-03  171.899994  162.899994  168.800003  170.100006  2748803.0   \n",
       "2022-03-04  170.699997  163.949997  170.699997  165.149994  1769083.0   \n",
       "\n",
       "             Adj Close  \n",
       "Date                    \n",
       "2012-01-02  111.582535  \n",
       "2012-01-03  113.567741  \n",
       "2012-01-04  114.776146  \n",
       "2012-01-05  113.200905  \n",
       "2012-01-06  113.090355  \n",
       "...                ...  \n",
       "2022-02-25  159.399994  \n",
       "2022-02-28  160.600006  \n",
       "2022-03-02  163.050003  \n",
       "2022-03-03  170.100006  \n",
       "2022-03-04  165.149994  \n",
       "\n",
       "[2508 rows x 6 columns]"
      ]
     },
     "execution_count": 3,
     "metadata": {},
     "output_type": "execute_result"
    }
   ],
   "source": [
    "#get the stock data\n",
    "df = web.DataReader(STOCK, data_source='yahoo' , start=START_DATE , end=END_DATE)\n",
    "\n",
    "#show the data\n",
    "df\n"
   ]
  },
  {
   "cell_type": "code",
   "execution_count": 4,
   "id": "8728e389",
   "metadata": {
    "id": "8728e389",
    "outputId": "e7a718db-fa12-4da6-edda-fb36457372bd"
   },
   "outputs": [
    {
     "data": {
      "text/plain": [
       "(2508, 6)"
      ]
     },
     "execution_count": 4,
     "metadata": {},
     "output_type": "execute_result"
    }
   ],
   "source": [
    "#get the number of rows and column in the data set\n",
    "df.shape"
   ]
  },
  {
   "cell_type": "code",
   "execution_count": 5,
   "id": "ede5a4f5",
   "metadata": {
    "id": "ede5a4f5",
    "outputId": "0b002ebf-5dfe-41fe-d4d0-3f53cbffafc7"
   },
   "outputs": [
    {
     "data": {
      "image/png": "[encoded data removed]",
      "text/plain": [
       "<Figure size 1152x576 with 1 Axes>"
      ]
     },
     "metadata": {},
     "output_type": "display_data"
    }
   ],
   "source": [
    "#Visualing the closing price history\n",
    "plt.figure(figsize=(16,8))\n",
    "plt.title('Close Price History')\n",
    "plt.plot(df['Close'])\n",
    "plt.xlabel('Date', fontsize=18)\n",
    "plt.ylabel('Closing Price USD($)', fontsize=18)\n",
    "plt.show()"
   ]
  },
  {
   "cell_type": "code",
   "execution_count": 6,
   "id": "860e4005",
   "metadata": {
    "id": "860e4005",
    "outputId": "3f34f0f3-065f-4c1b-c72a-8c1d7f2ed887"
   },
   "outputs": [
    {
     "data": {
      "text/plain": [
       "2007"
      ]
     },
     "execution_count": 6,
     "metadata": {},
     "output_type": "execute_result"
    }
   ],
   "source": [
    "#Create a new data\n",
    "data = df.filter(['Close'])\n",
    "#convert the dataframe to a numpy array\n",
    "dataset = data.values\n",
    "#get the number of rows to train the model on\n",
    "training_data_len = math.ceil(len(dataset)*.8)\n",
    "training_data_len"
   ]
  },
  {
   "cell_type": "code",
   "execution_count": 7,
   "id": "83ae7dd3",
   "metadata": {
    "id": "83ae7dd3",
    "outputId": "b2b3173d-5c6a-495e-a268-4051931aa6ac"
   },
   "outputs": [
    {
     "data": {
      "text/plain": [
       "array([[0.45055826],\n",
       "       [0.46286019],\n",
       "       [0.47034833],\n",
       "       ...,\n",
       "       [0.41318446],\n",
       "       [0.44146554],\n",
       "       [0.42160857]])"
      ]
     },
     "execution_count": 7,
     "metadata": {},
     "output_type": "execute_result"
    }
   ],
   "source": [
    "#Scale the data\n",
    "scaler = MinMaxScaler(feature_range=(0,1))\n",
    "scaled_data = scaler.fit_transform(dataset)\n",
    "\n",
    "scaled_data"
   ]
  },
  {
   "cell_type": "code",
   "execution_count": 8,
   "id": "22de3219",
   "metadata": {
    "id": "22de3219",
    "outputId": "b1fd5125-11fa-43c5-86bf-d71a87b0857a"
   },
   "outputs": [
    {
     "name": "stdout",
     "output_type": "stream",
     "text": [
      "[array([0.45055826, 0.46286019, 0.47034833, 0.46058701, 0.44320386,\n",
      "       0.44641301, 0.45818008, 0.45202915, 0.44815133, 0.45376747,\n",
      "       0.44507587, 0.45911612, 0.47583072, 0.48572572, 0.49455101,\n",
      "       0.49481844, 0.49508587, 0.48786522, 0.5040449 , 0.49722536,\n",
      "       0.49682419, 0.48706287, 0.49575447, 0.50966103, 0.51621314,\n",
      "       0.52570703, 0.51581197, 0.51180047, 0.51180047, 0.50979472,\n",
      "       0.49722536, 0.50484719, 0.50885868, 0.51139935, 0.53921236,\n",
      "       0.54068325, 0.53479975, 0.51928861, 0.50979472, 0.5174166 ,\n",
      "       0.54362503, 0.52891618, 0.51180047, 0.51688168, 0.51220164,\n",
      "       0.50457976, 0.51554454, 0.50257401, 0.52798021, 0.54496218,\n",
      "       0.52570703, 0.49000465, 0.48853376, 0.48719661, 0.484656  ,\n",
      "       0.48305137, 0.47395865, 0.45884869, 0.46847626, 0.44895362])]\n",
      "[0.45684293689002553]\n",
      "\n",
      "[array([0.45055826, 0.46286019, 0.47034833, 0.46058701, 0.44320386,\n",
      "       0.44641301, 0.45818008, 0.45202915, 0.44815133, 0.45376747,\n",
      "       0.44507587, 0.45911612, 0.47583072, 0.48572572, 0.49455101,\n",
      "       0.49481844, 0.49508587, 0.48786522, 0.5040449 , 0.49722536,\n",
      "       0.49682419, 0.48706287, 0.49575447, 0.50966103, 0.51621314,\n",
      "       0.52570703, 0.51581197, 0.51180047, 0.51180047, 0.50979472,\n",
      "       0.49722536, 0.50484719, 0.50885868, 0.51139935, 0.53921236,\n",
      "       0.54068325, 0.53479975, 0.51928861, 0.50979472, 0.5174166 ,\n",
      "       0.54362503, 0.52891618, 0.51180047, 0.51688168, 0.51220164,\n",
      "       0.50457976, 0.51554454, 0.50257401, 0.52798021, 0.54496218,\n",
      "       0.52570703, 0.49000465, 0.48853376, 0.48719661, 0.484656  ,\n",
      "       0.48305137, 0.47395865, 0.45884869, 0.46847626, 0.44895362]), array([0.46286019, 0.47034833, 0.46058701, 0.44320386, 0.44641301,\n",
      "       0.45818008, 0.45202915, 0.44815133, 0.45376747, 0.44507587,\n",
      "       0.45911612, 0.47583072, 0.48572572, 0.49455101, 0.49481844,\n",
      "       0.49508587, 0.48786522, 0.5040449 , 0.49722536, 0.49682419,\n",
      "       0.48706287, 0.49575447, 0.50966103, 0.51621314, 0.52570703,\n",
      "       0.51581197, 0.51180047, 0.51180047, 0.50979472, 0.49722536,\n",
      "       0.50484719, 0.50885868, 0.51139935, 0.53921236, 0.54068325,\n",
      "       0.53479975, 0.51928861, 0.50979472, 0.5174166 , 0.54362503,\n",
      "       0.52891618, 0.51180047, 0.51688168, 0.51220164, 0.50457976,\n",
      "       0.51554454, 0.50257401, 0.52798021, 0.54496218, 0.52570703,\n",
      "       0.49000465, 0.48853376, 0.48719661, 0.484656  , 0.48305137,\n",
      "       0.47395865, 0.45884869, 0.46847626, 0.44895362, 0.45684294])]\n",
      "[0.45684293689002553, 0.47395865158075745]\n",
      "\n"
     ]
    }
   ],
   "source": [
    "#creating the training data set\n",
    "#create the scaled training data set\n",
    "train_data = scaled_data[0:training_data_len,:]\n",
    "#split the data into x_train and y_train data sets\n",
    "x_train = []\n",
    "y_train = []\n",
    "for i in range(60, len(train_data)):\n",
    "    x_train.append(train_data[i-60:i,0])\n",
    "    y_train.append(train_data[i,0])\n",
    "    if i<=61:\n",
    "        print(x_train)\n",
    "        print(y_train)\n",
    "        print()"
   ]
  },
  {
   "cell_type": "code",
   "execution_count": 9,
   "id": "d58092dc",
   "metadata": {
    "id": "d58092dc"
   },
   "outputs": [],
   "source": [
    "#Convert the X_train and Y_train to numpy arrays\n",
    "x_train , y_train = np.array(x_train), np.array(y_train)"
   ]
  },
  {
   "cell_type": "code",
   "execution_count": 10,
   "id": "de162dec",
   "metadata": {
    "id": "de162dec",
    "outputId": "14201c32-f5ea-4645-ae7d-57a36706f4c6"
   },
   "outputs": [
    {
     "data": {
      "text/plain": [
       "(1947, 60, 1)"
      ]
     },
     "execution_count": 10,
     "metadata": {},
     "output_type": "execute_result"
    }
   ],
   "source": [
    "#Reshape the data\n",
    "x_train = np.reshape(x_train,(x_train.shape[0],x_train.shape[1],1))\n",
    "x_train.shape"
   ]
  },
  {
   "cell_type": "code",
   "execution_count": 11,
   "id": "eefcb209",
   "metadata": {
    "id": "eefcb209"
   },
   "outputs": [],
   "source": [
    "#Building the LSTM model\n",
    "model = Sequential()\n",
    "model.add(LSTM(50, return_sequences=True, input_shape =(x_train.shape[1],1)))\n",
    "model.add(LSTM(50, return_sequences=True))\n",
    "model.add(LSTM(50, return_sequences=True))\n",
    "model.add(LSTM(50, return_sequences=False))\n",
    "model.add(Dense(25))\n",
    "model.add(Dense(1))"
   ]
  },
  {
   "cell_type": "code",
   "execution_count": 12,
   "id": "eeab6098",
   "metadata": {
    "id": "eeab6098"
   },
   "outputs": [],
   "source": [
    "#compile the Model\n",
    "model.compile(optimizer='adam', loss='mean_squared_error')\n"
   ]
  },
  {
   "cell_type": "code",
   "execution_count": null,
   "id": "8729081e",
   "metadata": {
    "id": "8729081e",
    "outputId": "95c61fc5-cbb8-42a5-a649-7ee43b055955",
    "scrolled": true
   },
   "outputs": [
    {
     "name": "stdout",
     "output_type": "stream",
     "text": [
      "Epoch 1/100\n",
      "61/61 [==============================] - 14s 94ms/step - loss: 0.0215\n",
      "Epoch 2/100\n",
      "61/61 [==============================] - 6s 104ms/step - loss: 0.0019\n",
      "Epoch 3/100\n",
      "61/61 [==============================] - 6s 92ms/step - loss: 0.0019\n",
      "Epoch 4/100\n",
      "61/61 [==============================] - 8s 131ms/step - loss: 0.0017\n",
      "Epoch 5/100\n",
      "61/61 [==============================] - 10s 170ms/step - loss: 0.0014\n",
      "Epoch 6/100\n",
      "61/61 [==============================] - 10s 172ms/step - loss: 0.0014\n",
      "Epoch 7/100\n",
      "61/61 [==============================] - 11s 176ms/step - loss: 0.0013\n",
      "Epoch 8/100\n",
      "61/61 [==============================] - 12s 197ms/step - loss: 0.0015\n",
      "Epoch 9/100\n",
      "61/61 [==============================] - 10s 161ms/step - loss: 0.0012\n",
      "Epoch 10/100\n",
      "61/61 [==============================] - 10s 167ms/step - loss: 0.0012\n",
      "Epoch 11/100\n",
      "61/61 [==============================] - 11s 187ms/step - loss: 0.0010\n",
      "Epoch 12/100\n",
      "61/61 [==============================] - 11s 180ms/step - loss: 0.0012\n",
      "Epoch 13/100\n",
      "61/61 [==============================] - 12s 198ms/step - loss: 9.7579e-04\n",
      "Epoch 14/100\n",
      "61/61 [==============================] - 10s 171ms/step - loss: 9.6050e-04\n",
      "Epoch 15/100\n",
      "61/61 [==============================] - 12s 189ms/step - loss: 9.9318e-04\n",
      "Epoch 16/100\n",
      "61/61 [==============================] - 12s 194ms/step - loss: 9.7930e-04\n",
      "Epoch 17/100\n",
      "61/61 [==============================] - 11s 175ms/step - loss: 0.0011\n",
      "Epoch 18/100\n",
      "61/61 [==============================] - 12s 200ms/step - loss: 9.4323e-04\n",
      "Epoch 19/100\n",
      "61/61 [==============================] - 11s 187ms/step - loss: 9.6687e-04\n",
      "Epoch 20/100\n",
      "61/61 [==============================] - 11s 178ms/step - loss: 8.4279e-04\n",
      "Epoch 21/100\n",
      "61/61 [==============================] - 10s 168ms/step - loss: 8.5520e-04\n",
      "Epoch 22/100\n",
      "61/61 [==============================] - 11s 183ms/step - loss: 7.1539e-04\n",
      "Epoch 23/100\n",
      "61/61 [==============================] - 11s 187ms/step - loss: 6.8282e-04\n",
      "Epoch 24/100\n",
      "61/61 [==============================] - 13s 207ms/step - loss: 8.0305e-04\n",
      "Epoch 25/100\n",
      "61/61 [==============================] - 11s 178ms/step - loss: 6.1195e-04\n",
      "Epoch 26/100\n",
      "61/61 [==============================] - 10s 164ms/step - loss: 6.3979e-04\n",
      "Epoch 27/100\n",
      "61/61 [==============================] - 10s 167ms/step - loss: 6.6397e-04\n",
      "Epoch 28/100\n",
      "61/61 [==============================] - 12s 190ms/step - loss: 5.7331e-04\n",
      "Epoch 29/100\n",
      "61/61 [==============================] - 11s 183ms/step - loss: 5.5956e-04\n",
      "Epoch 30/100\n",
      "61/61 [==============================] - 11s 186ms/step - loss: 5.3019e-04\n",
      "Epoch 31/100\n",
      "61/61 [==============================] - 11s 179ms/step - loss: 4.9629e-04\n",
      "Epoch 32/100\n",
      "61/61 [==============================] - 11s 182ms/step - loss: 5.3948e-04\n",
      "Epoch 33/100\n",
      "61/61 [==============================] - 11s 175ms/step - loss: 5.0527e-04\n",
      "Epoch 34/100\n",
      "55/61 [==========================>...] - ETA: 1s - loss: 4.1606e-04"
     ]
    }
   ],
   "source": [
    "#train the model\n",
    "model.fit(x_train, y_train, batch_size=32, epochs=EPOCHS)"
   ]
  },
  {
   "cell_type": "code",
   "execution_count": null,
   "id": "1ffb2cf5",
   "metadata": {
    "id": "1ffb2cf5"
   },
   "outputs": [],
   "source": [
    "#create the testing data set\n",
    "#create a new array containing scaled values from index 1543 to 2003\n",
    "test_data = scaled_data[training_data_len - 60: , :]\n",
    "#create the data sets x_test adn y_test\n",
    "x_test = []\n",
    "y_test = dataset[training_data_len:,:]\n",
    "for i in range(60, len(test_data)):\n",
    "    x_test.append(test_data[i-60:i,0])\n",
    "    \n",
    "    \n"
   ]
  },
  {
   "cell_type": "code",
   "execution_count": null,
   "id": "e47d88b9",
   "metadata": {
    "id": "e47d88b9"
   },
   "outputs": [],
   "source": [
    "#convert the data to a numpy array\n",
    "x_test = np.array(x_test)"
   ]
  },
  {
   "cell_type": "code",
   "execution_count": null,
   "id": "ab219d64",
   "metadata": {
    "id": "ab219d64"
   },
   "outputs": [],
   "source": [
    "#resahpe the data\n",
    "x_test = np.reshape(x_test,(x_test.shape[0],x_test.shape[1],1))"
   ]
  },
  {
   "cell_type": "code",
   "execution_count": null,
   "id": "f0e9563d",
   "metadata": {
    "id": "f0e9563d"
   },
   "outputs": [],
   "source": [
    "#get the models predicted price values\n",
    "predictions = model.predict(x_test)\n",
    "predictions = scaler.inverse_transform(predictions)"
   ]
  },
  {
   "cell_type": "code",
   "execution_count": null,
   "id": "c366802e",
   "metadata": {
    "id": "c366802e",
    "outputId": "f50b6f6e-e0a7-41fa-ac47-e5623cd84398"
   },
   "outputs": [],
   "source": [
    "#get the root mean squared error (RMSE)\n",
    "rmse =  np.sqrt(np.mean(predictions - y_test)**2)\n",
    "rmse"
   ]
  },
  {
   "cell_type": "code",
   "execution_count": null,
   "id": "30fda6a3",
   "metadata": {
    "id": "30fda6a3",
    "outputId": "ea646a8d-4c11-4038-aa38-e998e92d3d07"
   },
   "outputs": [],
   "source": [
    "#plot the date\n",
    "train = data[:training_data_len]\n",
    "valid = data[training_data_len:]\n",
    "valid['Predictions'] = predictions\n",
    "#visualize the data\n",
    "plt.figure(figsize=(16,8))\n",
    "plt.title('Model')\n",
    "plt.xlabel('Date')\n",
    "plt.ylabel('Close Price USD ($)')\n",
    "plt.plot(train['Close'])\n",
    "plt.plot(valid[['Close', 'Predictions']])\n",
    "plt.legend(['Train', 'Val', 'Predictions'], loc='lower right')\n",
    "plt.show()"
   ]
  },
  {
   "cell_type": "code",
   "execution_count": null,
   "id": "94010774",
   "metadata": {
    "id": "94010774",
    "outputId": "52e5e20d-08d8-4359-96a1-e9c494ef7704"
   },
   "outputs": [],
   "source": [
    "#show the valid and predicted prices\n",
    "valid"
   ]
  },
  {
   "cell_type": "code",
   "execution_count": null,
   "id": "be8deaf4",
   "metadata": {
    "id": "be8deaf4",
    "outputId": "b9b9bea2-8f3f-4d3c-c9f8-88087470817f"
   },
   "outputs": [],
   "source": [
    "#get the Quote\n",
    "stock_quote = web.DataReader(STOCK, data_source = 'yahoo', start=START_DATE, end=END_DATE)\n",
    "#create new data frame\n",
    "new_df = stock_quote.filter(['Close'])\n",
    "#get the last 60 days closing price values and convert the dataframe to an array\n",
    "last_60_days = new_df[-60:].values\n",
    "#scale the data to be values between 0 and 1\n",
    "last_60_days_scaled = scaler.fit_transform(last_60_days)\n",
    "#create the empty list\n",
    "x_test = []\n",
    "#append the past 60 days\n",
    "x_test.append(last_60_days_scaled)\n",
    "#convert the x_test data set to a numpy array\n",
    "x_test = np.array(x_test)\n",
    "x_test = np.reshape(x_test,(x_test.shape[0],x_test.shape[1],1))\n",
    "#get the predicted scaled price\n",
    "pred_price = model.predict(x_test)\n",
    "#undo the scaling\n",
    "pred_price = scaler.inverse_transform(pred_price)\n",
    "print(pred_price)\n"
   ]
  },
  {
   "cell_type": "code",
   "execution_count": null,
   "id": "c2efab6b",
   "metadata": {
    "id": "c2efab6b",
    "outputId": "598b1ec6-771b-46c3-c09e-ab3bad3f1d95"
   },
   "outputs": [],
   "source": [
    "stock_quote2 = web.DataReader(STOCK, data_source = 'yahoo', start=START_DATE, end=PREDICT_DATE)\n",
    "print(stock_quote2['Close'])"
   ]
  },
  {
   "cell_type": "code",
   "execution_count": null,
   "id": "bfd5c96d",
   "metadata": {
    "id": "bfd5c96d"
   },
   "outputs": [],
   "source": [
    "model.save(model_path)\n",
    "loaded_model = load_model(model_path)\n",
    "\n"
   ]
  },
  {
   "cell_type": "code",
   "execution_count": null,
   "id": "d600d6ef",
   "metadata": {},
   "outputs": [],
   "source": [
    "#The Error model\n",
    "nperr = np.array(predictions - y_test)\n",
    "nperr.shape\n",
    "#np.savetxt(error_data,nperr,delimiter=\",\")\n",
    "scaled_error = scaler.fit_transform(nperr)\n",
    "plt.figure(figsize=(25,10))\n",
    "plt.plot(nperr, linewidth=3)\n",
    "x = np.linspace(0, 600, 600)\n",
    "y = np.linspace(0, 0, 600)\n",
    "plt.plot(x,y)\n",
    "plt.title(\"1D error\")\n",
    "plt.show()"
   ]
  },
  {
   "cell_type": "code",
   "execution_count": null,
   "id": "46ecd322",
   "metadata": {},
   "outputs": [],
   "source": [
    "\n",
    "nperr.shape\n",
    "print(type(nperr))\n",
    "training_errdata_len = math.ceil(len(nperr)*0.8)\n",
    "training_errdata_len"
   ]
  },
  {
   "cell_type": "code",
   "execution_count": null,
   "id": "1c224393",
   "metadata": {},
   "outputs": [],
   "source": [
    "#Scale the error data\n",
    "errscaler = MinMaxScaler(feature_range=(0,1))\n",
    "scaled_errdata = errscaler.fit_transform(nperr)\n"
   ]
  },
  {
   "cell_type": "code",
   "execution_count": null,
   "id": "2475fff7",
   "metadata": {},
   "outputs": [],
   "source": [
    "#creating the error training data set\n",
    "#create the scaled error training data set\n",
    "train_errdata = scaled_errdata[0:training_errdata_len,:]\n",
    "#split the data into x_errtrain and y_errtrain data sets\n",
    "x_errtrain = []\n",
    "y_errtrain = []\n",
    "for i in range(60, len(train_errdata)):\n",
    "    x_errtrain.append(train_errdata[i-60:i,0])\n",
    "    y_errtrain.append(train_errdata[i,0])\n",
    "    if i<=61:\n",
    "        print(x_errtrain)\n",
    "        print(y_errtrain)\n",
    "        print()"
   ]
  },
  {
   "cell_type": "code",
   "execution_count": null,
   "id": "b8da2e2d",
   "metadata": {},
   "outputs": [],
   "source": [
    "#Convert the X_errtrain and Y_errtrain to numpy arrays\n",
    "x_errtrain , y_errtrain = np.array(x_errtrain), np.array(y_errtrain)"
   ]
  },
  {
   "cell_type": "code",
   "execution_count": null,
   "id": "7851e3c6",
   "metadata": {},
   "outputs": [],
   "source": [
    "#Reshape the error data\n",
    "x_errtrain = np.reshape(x_errtrain,(x_errtrain.shape[0],x_errtrain.shape[1],1))\n",
    "x_errtrain.shape"
   ]
  },
  {
   "cell_type": "code",
   "execution_count": null,
   "id": "49a7145e",
   "metadata": {},
   "outputs": [],
   "source": [
    "#Building the LSTM error model\n",
    "errmodel = Sequential()\n",
    "errmodel.add(LSTM(50, return_sequences=True, input_shape =(x_errtrain.shape[1],1)))\n",
    "\n",
    "#adding a fourth fifth layer and some Dropout regularistion\n",
    "errmodel.add(LSTM(units = 50, return_sequences = False))\n",
    "\n",
    "errmodel.add(Dense(25))\n",
    "errmodel.add(Dense(1))"
   ]
  },
  {
   "cell_type": "code",
   "execution_count": null,
   "id": "6711f84b",
   "metadata": {},
   "outputs": [],
   "source": [
    "#compile the error Model\n",
    "errmodel.compile(optimizer='adam', loss='mean_squared_error')\n"
   ]
  },
  {
   "cell_type": "code",
   "execution_count": null,
   "id": "30cd8df8",
   "metadata": {},
   "outputs": [],
   "source": [
    "#train the error model\n",
    "errmodel.fit(x_errtrain, y_errtrain, batch_size=32, epochs=ERR_EPOCHS)"
   ]
  },
  {
   "cell_type": "code",
   "execution_count": null,
   "id": "4f9bbdc9",
   "metadata": {},
   "outputs": [],
   "source": [
    "#create the testing error data set\n",
    "#create a new array containing scaled values \n",
    "test_errdata = scaled_errdata[training_errdata_len - 60: , :]\n",
    "#create the data sets x_errtest adn y_errtest\n",
    "x_errtest = []\n",
    "y_errtest = nperr[training_errdata_len:,:]\n",
    "for i in range(60, len(test_errdata)):\n",
    "    x_errtest.append(test_errdata[i-60:i,0])\n"
   ]
  },
  {
   "cell_type": "code",
   "execution_count": null,
   "id": "ede88693",
   "metadata": {},
   "outputs": [],
   "source": [
    "#convert the error data to a numpy array\n",
    "x_errtest = np.array(x_errtest)\n",
    "\n"
   ]
  },
  {
   "cell_type": "code",
   "execution_count": null,
   "id": "fc23830c",
   "metadata": {},
   "outputs": [],
   "source": [
    "#resahpe the error data\n",
    "x_errtest = np.reshape(x_errtest,(x_errtest.shape[0],x_errtest.shape[1],1))\n"
   ]
  },
  {
   "cell_type": "code",
   "execution_count": null,
   "id": "52bd4f69",
   "metadata": {},
   "outputs": [],
   "source": [
    "#get the models predicted error values\n",
    "errpredictions = errmodel.predict(x_errtest)\n",
    "errpredictions = errscaler.inverse_transform(errpredictions)"
   ]
  },
  {
   "cell_type": "code",
   "execution_count": null,
   "id": "a4a0aae7",
   "metadata": {},
   "outputs": [],
   "source": [
    "#get the root mean squared error (RMSE)\n",
    "error2d = []\n",
    "print(errpredictions.shape)\n",
    "error2d.append(errpredictions - y_errtest)\n",
    "nperr2d = np.array(errpredictions - y_errtest)\n",
    "scaled_error2d = errscaler.fit_transform(nperr2d)\n",
    "#print(nperr)\n",
    "plt.figure(figsize=(25,10))\n",
    "plt.plot(scaled_error2d)\n",
    "plt.title('scaled 2D Error')\n",
    "plt.show()\n",
    "rmse2d =  np.sqrt(np.mean(errpredictions - y_errtest)**2)\n",
    "print(rmse2d)\n",
    "#print(errpredictions)"
   ]
  },
  {
   "cell_type": "code",
   "execution_count": null,
   "id": "bf89a420",
   "metadata": {},
   "outputs": [],
   "source": [
    "#plot the error data\n",
    "print(nperr.shape)\n",
    "dfnperr = pd.DataFrame(nperr, columns = ['Error'])\n",
    "dfnperr.to_csv(error_data)\n",
    "errtrain = dfnperr[:training_errdata_len]\n",
    "errvalid = dfnperr[training_errdata_len:]\n",
    "errvalid['Error Predictions'] = errpredictions\n",
    "errvalid['Error2d'] = nperr2d\n",
    "print(errvalid)\n",
    "#visualize the data\n",
    "plt.figure(figsize=(16,8))\n",
    "plt.title('Error Model')\n",
    "plt.xlabel('Date')\n",
    "plt.ylabel('Error Close Price USD ($)')\n",
    "plt.plot(errtrain['Error'])\n",
    "plt.plot(errvalid[['Error', 'Error Predictions']])\n",
    "plt.legend(['Error Train', 'Error Val', ' Error Predictions'], loc='lower right')\n",
    "plt.show()"
   ]
  },
  {
   "cell_type": "code",
   "execution_count": null,
   "id": "e4e298b0",
   "metadata": {},
   "outputs": [],
   "source": [
    "#predict the error\n",
    "last_60_days_error = dfnperr[-60:].values\n",
    "print(last_60_days_error)\n",
    "\n",
    "#scale the data to be values between 0 and 1\n",
    "last_60_days_scaled_error = errscaler.transform(last_60_days_error)\n",
    "\n",
    "\n",
    "#create the empty list\n",
    "x_errtest=[]\n",
    "\n",
    "#append the past 60 days \n",
    "x_errtest.append(last_60_days_scaled_error)\n",
    "\n",
    "#convert the x_test data set to a numpy array\n",
    "x_errtest = np.array(x_errtest)\n",
    "x_errtest = np.reshape(x_errtest,(x_errtest.shape[0],x_errtest.shape[1],1))\n",
    "\n",
    "pred_error = model.predict(x_errtest)\n",
    "\n",
    "#undo the scaling\n",
    "pred_error = errscaler.inverse_transform(pred_error)\n",
    "\n",
    "print(pred_error)\n",
    "\n",
    "dfnperr.tail()"
   ]
  },
  {
   "cell_type": "code",
   "execution_count": null,
   "id": "5006fdb1",
   "metadata": {},
   "outputs": [],
   "source": [
    "print(\"the predicted value with 1D error correction \")\n",
    "print(pred_price[0][0]-pred_error[0][0])"
   ]
  },
  {
   "cell_type": "code",
   "execution_count": null,
   "id": "b666a83a",
   "metadata": {},
   "outputs": [],
   "source": [
    "model.save(error_model_path)\n",
    "loaded_model = load_model(error_model_path)\n"
   ]
  },
  {
   "cell_type": "code",
   "execution_count": null,
   "id": "4851644f",
   "metadata": {
    "scrolled": true
   },
   "outputs": [],
   "source": [
    "stock_quote2 = web.DataReader(STOCK, data_source = 'yahoo', start=START_DATE, end=PREDICT_DATE)\n",
    "print(stock_quote2['Close'])"
   ]
  },
  {
   "cell_type": "code",
   "execution_count": null,
   "id": "f6b07344",
   "metadata": {},
   "outputs": [],
   "source": []
  }
 ],
 "metadata": {
  "colab": {
   "name": "apple stock forecast-checkpoint.ipynb",
   "provenance": []
  },
  "kernelspec": {
   "display_name": "Python 3 (ipykernel)",
   "language": "python",
   "name": "python3"
  },
  "language_info": {
   "codemirror_mode": {
    "name": "ipython",
    "version": 3
   },
   "file_extension": ".py",
   "mimetype": "text/x-python",
   "name": "python",
   "nbconvert_exporter": "python",
   "pygments_lexer": "ipython3",
   "version": "3.7.9"
  }
 },
 "nbformat": 4,
 "nbformat_minor": 5
}
