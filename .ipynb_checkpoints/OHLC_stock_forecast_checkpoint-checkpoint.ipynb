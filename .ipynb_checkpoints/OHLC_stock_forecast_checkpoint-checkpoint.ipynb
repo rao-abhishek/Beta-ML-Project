{
 "cells": [
  {
   "cell_type": "code",
   "execution_count": 1,
   "id": "119ef146",
   "metadata": {
    "id": "119ef146"
   },
   "outputs": [],
   "source": [
    "#import the libraries\n",
    "import math\n",
    "import pandas_datareader as web\n",
    "import numpy as np\n",
    "from sklearn.preprocessing import MinMaxScaler\n",
    "from keras.models import Sequential\n",
    "from keras.layers import Dense, LSTM\n",
    "from keras.models import load_model\n",
    "import matplotlib.pyplot as plt\n",
    "plt.style.use('fivethirtyeight')\n",
    "import pickle\n",
    "import pandas as pd"
   ]
  },
  {
   "cell_type": "code",
   "execution_count": 2,
   "id": "3c6186b8",
   "metadata": {},
   "outputs": [],
   "source": [
    "#MACRO DEF\n",
    "\n",
    "STOCK = 'GOOG'\n",
    "EPOCHS = 100\n",
    "open_model_path = \"machine learning model/\"+STOCK+\"_open_model.h5\"\n",
    "high_model_path = \"machine learning model/\"+STOCK+\"_high_model.h5\"\n",
    "low_model_path = \"machine learning model/\"+STOCK+\"_low_model.h5\"\n",
    "close_model_path = \"machine learning model/\"+STOCK+\"_close_model.h5\"\n",
    "error_model_path = \"machine learning model/\"+STOCK+\"_error_model.h5\"\n",
    "error_data = \"machine learning model/\"+STOCK+\"_error_data.csv\"\n",
    "START_DATE = '2012-01-01'\n",
    "END_DATE = '2022-03-11'\n",
    "PREDICT_DATE = '2022-03-11'\n",
    "ERR_EPOCHS = 120"
   ]
  },
  {
   "cell_type": "code",
   "execution_count": 3,
   "id": "0baa4ed2",
   "metadata": {
    "id": "0baa4ed2",
    "outputId": "9b884812-40a4-4562-f722-55f12356c439"
   },
   "outputs": [
    {
     "data": {
      "text/html": [
       "<div>\n",
       "<style scoped>\n",
       "    .dataframe tbody tr th:only-of-type {\n",
       "        vertical-align: middle;\n",
       "    }\n",
       "\n",
       "    .dataframe tbody tr th {\n",
       "        vertical-align: top;\n",
       "    }\n",
       "\n",
       "    .dataframe thead th {\n",
       "        text-align: right;\n",
       "    }\n",
       "</style>\n",
       "<table border=\"1\" class=\"dataframe\">\n",
       "  <thead>\n",
       "    <tr style=\"text-align: right;\">\n",
       "      <th></th>\n",
       "      <th>High</th>\n",
       "      <th>Low</th>\n",
       "      <th>Open</th>\n",
       "      <th>Close</th>\n",
       "      <th>Volume</th>\n",
       "      <th>Adj Close</th>\n",
       "    </tr>\n",
       "    <tr>\n",
       "      <th>Date</th>\n",
       "      <th></th>\n",
       "      <th></th>\n",
       "      <th></th>\n",
       "      <th></th>\n",
       "      <th></th>\n",
       "      <th></th>\n",
       "    </tr>\n",
       "  </thead>\n",
       "  <tbody>\n",
       "    <tr>\n",
       "      <th>2012-01-03</th>\n",
       "      <td>332.827484</td>\n",
       "      <td>324.966949</td>\n",
       "      <td>325.250885</td>\n",
       "      <td>331.462585</td>\n",
       "      <td>7380561.0</td>\n",
       "      <td>331.462585</td>\n",
       "    </tr>\n",
       "    <tr>\n",
       "      <th>2012-01-04</th>\n",
       "      <td>333.873566</td>\n",
       "      <td>329.076538</td>\n",
       "      <td>331.273315</td>\n",
       "      <td>332.892242</td>\n",
       "      <td>5749470.0</td>\n",
       "      <td>332.892242</td>\n",
       "    </tr>\n",
       "    <tr>\n",
       "      <th>2012-01-05</th>\n",
       "      <td>330.745270</td>\n",
       "      <td>326.889740</td>\n",
       "      <td>329.828735</td>\n",
       "      <td>328.274536</td>\n",
       "      <td>6590410.0</td>\n",
       "      <td>328.274536</td>\n",
       "    </tr>\n",
       "    <tr>\n",
       "      <th>2012-01-06</th>\n",
       "      <td>328.767700</td>\n",
       "      <td>323.681763</td>\n",
       "      <td>328.344299</td>\n",
       "      <td>323.796326</td>\n",
       "      <td>5405987.0</td>\n",
       "      <td>323.796326</td>\n",
       "    </tr>\n",
       "    <tr>\n",
       "      <th>2012-01-09</th>\n",
       "      <td>322.291962</td>\n",
       "      <td>309.455078</td>\n",
       "      <td>322.042908</td>\n",
       "      <td>310.067780</td>\n",
       "      <td>11688849.0</td>\n",
       "      <td>310.067780</td>\n",
       "    </tr>\n",
       "    <tr>\n",
       "      <th>...</th>\n",
       "      <td>...</td>\n",
       "      <td>...</td>\n",
       "      <td>...</td>\n",
       "      <td>...</td>\n",
       "      <td>...</td>\n",
       "      <td>...</td>\n",
       "    </tr>\n",
       "    <tr>\n",
       "      <th>2022-03-08</th>\n",
       "      <td>2624.929932</td>\n",
       "      <td>2517.215088</td>\n",
       "      <td>2525.010010</td>\n",
       "      <td>2545.570068</td>\n",
       "      <td>1762500.0</td>\n",
       "      <td>2545.570068</td>\n",
       "    </tr>\n",
       "    <tr>\n",
       "      <th>2022-03-09</th>\n",
       "      <td>2683.969971</td>\n",
       "      <td>2601.760010</td>\n",
       "      <td>2628.000000</td>\n",
       "      <td>2677.320068</td>\n",
       "      <td>1612900.0</td>\n",
       "      <td>2677.320068</td>\n",
       "    </tr>\n",
       "    <tr>\n",
       "      <th>2022-03-10</th>\n",
       "      <td>2670.770020</td>\n",
       "      <td>2628.020020</td>\n",
       "      <td>2629.250000</td>\n",
       "      <td>2653.639893</td>\n",
       "      <td>1213300.0</td>\n",
       "      <td>2653.639893</td>\n",
       "    </tr>\n",
       "    <tr>\n",
       "      <th>2022-03-11</th>\n",
       "      <td>2684.000000</td>\n",
       "      <td>2605.929932</td>\n",
       "      <td>2679.989990</td>\n",
       "      <td>2609.510010</td>\n",
       "      <td>1328500.0</td>\n",
       "      <td>2609.510010</td>\n",
       "    </tr>\n",
       "    <tr>\n",
       "      <th>2022-03-11</th>\n",
       "      <td>2684.000000</td>\n",
       "      <td>2605.929932</td>\n",
       "      <td>2679.989990</td>\n",
       "      <td>2609.510010</td>\n",
       "      <td>1329990.0</td>\n",
       "      <td>2609.510010</td>\n",
       "    </tr>\n",
       "  </tbody>\n",
       "</table>\n",
       "<p>2566 rows × 6 columns</p>\n",
       "</div>"
      ],
      "text/plain": [
       "                   High          Low         Open        Close      Volume  \\\n",
       "Date                                                                         \n",
       "2012-01-03   332.827484   324.966949   325.250885   331.462585   7380561.0   \n",
       "2012-01-04   333.873566   329.076538   331.273315   332.892242   5749470.0   \n",
       "2012-01-05   330.745270   326.889740   329.828735   328.274536   6590410.0   \n",
       "2012-01-06   328.767700   323.681763   328.344299   323.796326   5405987.0   \n",
       "2012-01-09   322.291962   309.455078   322.042908   310.067780  11688849.0   \n",
       "...                 ...          ...          ...          ...         ...   \n",
       "2022-03-08  2624.929932  2517.215088  2525.010010  2545.570068   1762500.0   \n",
       "2022-03-09  2683.969971  2601.760010  2628.000000  2677.320068   1612900.0   \n",
       "2022-03-10  2670.770020  2628.020020  2629.250000  2653.639893   1213300.0   \n",
       "2022-03-11  2684.000000  2605.929932  2679.989990  2609.510010   1328500.0   \n",
       "2022-03-11  2684.000000  2605.929932  2679.989990  2609.510010   1329990.0   \n",
       "\n",
       "              Adj Close  \n",
       "Date                     \n",
       "2012-01-03   331.462585  \n",
       "2012-01-04   332.892242  \n",
       "2012-01-05   328.274536  \n",
       "2012-01-06   323.796326  \n",
       "2012-01-09   310.067780  \n",
       "...                 ...  \n",
       "2022-03-08  2545.570068  \n",
       "2022-03-09  2677.320068  \n",
       "2022-03-10  2653.639893  \n",
       "2022-03-11  2609.510010  \n",
       "2022-03-11  2609.510010  \n",
       "\n",
       "[2566 rows x 6 columns]"
      ]
     },
     "execution_count": 3,
     "metadata": {},
     "output_type": "execute_result"
    }
   ],
   "source": [
    "#get the stock data\n",
    "df = web.DataReader(STOCK, data_source='yahoo' , start=START_DATE , end=END_DATE)\n",
    "\n",
    "#show the data\n",
    "df\n"
   ]
  },
  {
   "cell_type": "code",
   "execution_count": 4,
   "id": "8728e389",
   "metadata": {
    "id": "8728e389",
    "outputId": "e7a718db-fa12-4da6-edda-fb36457372bd"
   },
   "outputs": [
    {
     "data": {
      "text/plain": [
       "(2566, 6)"
      ]
     },
     "execution_count": 4,
     "metadata": {},
     "output_type": "execute_result"
    }
   ],
   "source": [
    "#get the number of rows and column in the data set\n",
    "df.shape"
   ]
  },
  {
   "cell_type": "code",
   "execution_count": 5,
   "id": "ede5a4f5",
   "metadata": {
    "id": "ede5a4f5",
    "outputId": "0b002ebf-5dfe-41fe-d4d0-3f53cbffafc7"
   },
   "outputs": [
    {
     "data": {
      "image/png": "[encoded data removed]",
      "text/plain": [
       "<Figure size 1152x576 with 1 Axes>"
      ]
     },
     "metadata": {},
     "output_type": "display_data"
    }
   ],
   "source": [
    "#Visualing the closing price history\n",
    "plt.figure(figsize=(16,8))\n",
    "plt.title('Close Price History')\n",
    "plt.plot(df['Close'])\n",
    "plt.xlabel('Date', fontsize=18)\n",
    "plt.ylabel('Closing Price USD($)', fontsize=18)\n",
    "plt.show()"
   ]
  },
  {
   "cell_type": "code",
   "execution_count": 6,
   "id": "860e4005",
   "metadata": {
    "id": "860e4005",
    "outputId": "3f34f0f3-065f-4c1b-c72a-8c1d7f2ed887"
   },
   "outputs": [
    {
     "data": {
      "text/plain": [
       "2053"
      ]
     },
     "execution_count": 6,
     "metadata": {},
     "output_type": "execute_result"
    }
   ],
   "source": [
    "#Create a new data\n",
    "data = df.filter(['Close'])\n",
    "#convert the dataframe to a numpy array\n",
    "dataset = data.values\n",
    "#get the number of rows to train the model on\n",
    "training_data_len = math.ceil(len(dataset)*.8)\n",
    "training_data_len"
   ]
  },
  {
   "cell_type": "code",
   "execution_count": 7,
   "id": "83ae7dd3",
   "metadata": {
    "id": "83ae7dd3",
    "outputId": "b2b3173d-5c6a-495e-a268-4051931aa6ac"
   },
   "outputs": [
    {
     "data": {
      "text/plain": [
       "array([[0.01936668],\n",
       "       [0.01988928],\n",
       "       [0.01820133],\n",
       "       ...,\n",
       "       [0.86820916],\n",
       "       [0.85207804],\n",
       "       [0.85207804]])"
      ]
     },
     "execution_count": 7,
     "metadata": {},
     "output_type": "execute_result"
    }
   ],
   "source": [
    "#Scale the data\n",
    "scaler = MinMaxScaler(feature_range=(0,1))\n",
    "scaled_data = scaler.fit_transform(dataset)\n",
    "\n",
    "scaled_data"
   ]
  },
  {
   "cell_type": "code",
   "execution_count": 8,
   "id": "22de3219",
   "metadata": {
    "id": "22de3219",
    "outputId": "b1fd5125-11fa-43c5-86bf-d71a87b0857a"
   },
   "outputs": [
    {
     "name": "stdout",
     "output_type": "stream",
     "text": [
      "[array([0.01936668, 0.01988928, 0.01820133, 0.01656438, 0.01154608,\n",
      "       0.01166991, 0.01218339, 0.01285346, 0.01200677, 0.01266046,\n",
      "       0.01344889, 0.01466159, 0.0049054 , 0.00481982, 0.00398405,\n",
      "       0.00190099, 0.00164789, 0.00381107, 0.00339409, 0.00383474,\n",
      "       0.00396584, 0.00474517, 0.00678818, 0.00911159, 0.00868915,\n",
      "       0.00924999, 0.00954314, 0.00853257, 0.00967788, 0.0092336 ,\n",
      "       0.00846884, 0.00864364, 0.00830132, 0.01000564, 0.0089022 ,\n",
      "       0.00856898, 0.00925909, 0.00915165, 0.01080499, 0.0107795 ,\n",
      "       0.01153516, 0.01132577, 0.01005116, 0.00835958, 0.00869462,\n",
      "       0.00875653, 0.00750196, 0.00839417, 0.01069393, 0.01036799,\n",
      "       0.01130391, 0.01201587, 0.01364372, 0.0135545 , 0.01473624,\n",
      "       0.0158415 , 0.01521149, 0.01643874, 0.01601813, 0.01760956])]\n",
      "[0.016271218787306516]\n",
      "\n",
      "[array([0.01936668, 0.01988928, 0.01820133, 0.01656438, 0.01154608,\n",
      "       0.01166991, 0.01218339, 0.01285346, 0.01200677, 0.01266046,\n",
      "       0.01344889, 0.01466159, 0.0049054 , 0.00481982, 0.00398405,\n",
      "       0.00190099, 0.00164789, 0.00381107, 0.00339409, 0.00383474,\n",
      "       0.00396584, 0.00474517, 0.00678818, 0.00911159, 0.00868915,\n",
      "       0.00924999, 0.00954314, 0.00853257, 0.00967788, 0.0092336 ,\n",
      "       0.00846884, 0.00864364, 0.00830132, 0.01000564, 0.0089022 ,\n",
      "       0.00856898, 0.00925909, 0.00915165, 0.01080499, 0.0107795 ,\n",
      "       0.01153516, 0.01132577, 0.01005116, 0.00835958, 0.00869462,\n",
      "       0.00875653, 0.00750196, 0.00839417, 0.01069393, 0.01036799,\n",
      "       0.01130391, 0.01201587, 0.01364372, 0.0135545 , 0.01473624,\n",
      "       0.0158415 , 0.01521149, 0.01643874, 0.01601813, 0.01760956]), array([0.01988928, 0.01820133, 0.01656438, 0.01154608, 0.01166991,\n",
      "       0.01218339, 0.01285346, 0.01200677, 0.01266046, 0.01344889,\n",
      "       0.01466159, 0.0049054 , 0.00481982, 0.00398405, 0.00190099,\n",
      "       0.00164789, 0.00381107, 0.00339409, 0.00383474, 0.00396584,\n",
      "       0.00474517, 0.00678818, 0.00911159, 0.00868915, 0.00924999,\n",
      "       0.00954314, 0.00853257, 0.00967788, 0.0092336 , 0.00846884,\n",
      "       0.00864364, 0.00830132, 0.01000564, 0.0089022 , 0.00856898,\n",
      "       0.00925909, 0.00915165, 0.01080499, 0.0107795 , 0.01153516,\n",
      "       0.01132577, 0.01005116, 0.00835958, 0.00869462, 0.00875653,\n",
      "       0.00750196, 0.00839417, 0.01069393, 0.01036799, 0.01130391,\n",
      "       0.01201587, 0.01364372, 0.0135545 , 0.01473624, 0.0158415 ,\n",
      "       0.01521149, 0.01643874, 0.01601813, 0.01760956, 0.01627122])]\n",
      "[0.016271218787306516, 0.014965667792724943]\n",
      "\n"
     ]
    }
   ],
   "source": [
    "#creating the training data set\n",
    "#create the scaled training data set\n",
    "train_data = scaled_data[0:training_data_len,:]\n",
    "#split the data into x_train and y_train data sets\n",
    "x_train = []\n",
    "y_train = []\n",
    "for i in range(60, len(train_data)):\n",
    "    x_train.append(train_data[i-60:i,0])\n",
    "    y_train.append(train_data[i,0])\n",
    "    if i<=61:\n",
    "        print(x_train)\n",
    "        print(y_train)\n",
    "        print()"
   ]
  },
  {
   "cell_type": "code",
   "execution_count": 9,
   "id": "d58092dc",
   "metadata": {
    "id": "d58092dc"
   },
   "outputs": [],
   "source": [
    "#Convert the X_train and Y_train to numpy arrays\n",
    "x_train , y_train = np.array(x_train), np.array(y_train)"
   ]
  },
  {
   "cell_type": "code",
   "execution_count": 10,
   "id": "de162dec",
   "metadata": {
    "id": "de162dec",
    "outputId": "14201c32-f5ea-4645-ae7d-57a36706f4c6"
   },
   "outputs": [
    {
     "data": {
      "text/plain": [
       "(1993, 60, 1)"
      ]
     },
     "execution_count": 10,
     "metadata": {},
     "output_type": "execute_result"
    }
   ],
   "source": [
    "#Reshape the data\n",
    "x_train = np.reshape(x_train,(x_train.shape[0],x_train.shape[1],1))\n",
    "x_train.shape"
   ]
  },
  {
   "cell_type": "code",
   "execution_count": 11,
   "id": "eefcb209",
   "metadata": {
    "id": "eefcb209"
   },
   "outputs": [],
   "source": [
    "#Building the LSTM model\n",
    "close_model = Sequential()\n",
    "close_model.add(LSTM(50, return_sequences=True, input_shape =(x_train.shape[1],1)))\n",
    "close_model.add(LSTM(50, return_sequences=True))\n",
    "close_model.add(LSTM(50, return_sequences=True))\n",
    "close_model.add(LSTM(50, return_sequences=False))\n",
    "close_model.add(Dense(25))\n",
    "close_model.add(Dense(1))"
   ]
  },
  {
   "cell_type": "code",
   "execution_count": 12,
   "id": "eeab6098",
   "metadata": {
    "id": "eeab6098"
   },
   "outputs": [],
   "source": [
    "#compile the Model\n",
    "close_model.compile(optimizer='adam', loss='mean_squared_error')\n"
   ]
  },
  {
   "cell_type": "code",
   "execution_count": 13,
   "id": "8729081e",
   "metadata": {
    "id": "8729081e",
    "outputId": "95c61fc5-cbb8-42a5-a649-7ee43b055955",
    "scrolled": true
   },
   "outputs": [
    {
     "name": "stdout",
     "output_type": "stream",
     "text": [
      "Epoch 1/100\n",
      "63/63 [==============================] - 22s 169ms/step - loss: 0.0022\n",
      "Epoch 2/100\n",
      "63/63 [==============================] - 11s 169ms/step - loss: 1.9025e-04\n",
      "Epoch 3/100\n",
      "63/63 [==============================] - 11s 173ms/step - loss: 1.6332e-04\n",
      "Epoch 4/100\n",
      "63/63 [==============================] - 11s 171ms/step - loss: 1.7652e-04\n",
      "Epoch 5/100\n",
      "63/63 [==============================] - 11s 169ms/step - loss: 1.7275e-04\n",
      "Epoch 6/100\n",
      "63/63 [==============================] - 9s 150ms/step - loss: 1.7217e-04\n",
      "Epoch 7/100\n",
      "63/63 [==============================] - 10s 151ms/step - loss: 1.5231e-04\n",
      "Epoch 8/100\n",
      "63/63 [==============================] - 9s 151ms/step - loss: 1.5436e-04\n",
      "Epoch 9/100\n",
      "63/63 [==============================] - 9s 150ms/step - loss: 1.6357e-04\n",
      "Epoch 10/100\n",
      "63/63 [==============================] - 10s 153ms/step - loss: 1.4139e-04\n",
      "Epoch 11/100\n",
      "63/63 [==============================] - 10s 152ms/step - loss: 1.4962e-04\n",
      "Epoch 12/100\n",
      "63/63 [==============================] - 10s 151ms/step - loss: 1.4514e-04\n",
      "Epoch 13/100\n",
      "63/63 [==============================] - 10s 151ms/step - loss: 1.4347e-04\n",
      "Epoch 14/100\n",
      "63/63 [==============================] - 10s 152ms/step - loss: 1.3179e-04\n",
      "Epoch 15/100\n",
      "63/63 [==============================] - 10s 156ms/step - loss: 1.2547e-04\n",
      "Epoch 16/100\n",
      "63/63 [==============================] - 9s 150ms/step - loss: 1.4722e-04\n",
      "Epoch 17/100\n",
      "63/63 [==============================] - 10s 152ms/step - loss: 1.4082e-04\n",
      "Epoch 18/100\n",
      "63/63 [==============================] - 9s 151ms/step - loss: 1.3021e-04\n",
      "Epoch 19/100\n",
      "63/63 [==============================] - 10s 152ms/step - loss: 1.3103e-04\n",
      "Epoch 20/100\n",
      "63/63 [==============================] - 8s 124ms/step - loss: 1.2016e-04\n",
      "Epoch 21/100\n",
      "63/63 [==============================] - 5s 86ms/step - loss: 1.2078e-04\n",
      "Epoch 22/100\n",
      "63/63 [==============================] - 9s 138ms/step - loss: 1.1099e-04\n",
      "Epoch 23/100\n",
      "63/63 [==============================] - 10s 159ms/step - loss: 1.0390e-04\n",
      "Epoch 24/100\n",
      "63/63 [==============================] - 10s 160ms/step - loss: 1.2497e-04\n",
      "Epoch 25/100\n",
      "63/63 [==============================] - 10s 162ms/step - loss: 1.1924e-04\n",
      "Epoch 26/100\n",
      "63/63 [==============================] - 10s 157ms/step - loss: 1.2577e-04\n",
      "Epoch 27/100\n",
      "63/63 [==============================] - 10s 156ms/step - loss: 9.5829e-05\n",
      "Epoch 28/100\n",
      "63/63 [==============================] - 10s 152ms/step - loss: 1.1388e-04\n",
      "Epoch 29/100\n",
      "63/63 [==============================] - 10s 151ms/step - loss: 1.0917e-04\n",
      "Epoch 30/100\n",
      "63/63 [==============================] - 10s 155ms/step - loss: 9.8265e-05\n",
      "Epoch 31/100\n",
      "63/63 [==============================] - 10s 151ms/step - loss: 9.6687e-05\n",
      "Epoch 32/100\n",
      "63/63 [==============================] - 10s 151ms/step - loss: 7.7958e-05\n",
      "Epoch 33/100\n",
      "63/63 [==============================] - 9s 151ms/step - loss: 6.7256e-05\n",
      "Epoch 34/100\n",
      "63/63 [==============================] - 10s 151ms/step - loss: 6.2790e-05\n",
      "Epoch 35/100\n",
      "63/63 [==============================] - 10s 152ms/step - loss: 6.4463e-05\n",
      "Epoch 36/100\n",
      "63/63 [==============================] - 10s 151ms/step - loss: 6.6604e-05\n",
      "Epoch 37/100\n",
      "63/63 [==============================] - 8s 122ms/step - loss: 7.6831e-05\n",
      "Epoch 38/100\n",
      "63/63 [==============================] - 5s 87ms/step - loss: 8.3642e-05\n",
      "Epoch 39/100\n",
      "63/63 [==============================] - 9s 145ms/step - loss: 6.3073e-05\n",
      "Epoch 40/100\n",
      "63/63 [==============================] - 10s 151ms/step - loss: 5.4057e-05\n",
      "Epoch 41/100\n",
      "63/63 [==============================] - 10s 152ms/step - loss: 5.1591e-05\n",
      "Epoch 42/100\n",
      "63/63 [==============================] - 10s 151ms/step - loss: 4.6651e-05\n",
      "Epoch 43/100\n",
      "63/63 [==============================] - 10s 156ms/step - loss: 4.8224e-05\n",
      "Epoch 44/100\n",
      "63/63 [==============================] - 10s 151ms/step - loss: 4.8288e-05\n",
      "Epoch 45/100\n",
      "63/63 [==============================] - 9s 151ms/step - loss: 4.1906e-05\n",
      "Epoch 46/100\n",
      "63/63 [==============================] - 10s 151ms/step - loss: 4.9536e-05\n",
      "Epoch 47/100\n",
      "63/63 [==============================] - 9s 151ms/step - loss: 4.3730e-05\n",
      "Epoch 48/100\n",
      "63/63 [==============================] - 10s 158ms/step - loss: 4.1423e-05\n",
      "Epoch 49/100\n",
      "63/63 [==============================] - 9s 150ms/step - loss: 3.5723e-05\n",
      "Epoch 50/100\n",
      "63/63 [==============================] - 10s 154ms/step - loss: 4.3567e-05\n",
      "Epoch 51/100\n",
      "63/63 [==============================] - 10s 153ms/step - loss: 3.4851e-05\n",
      "Epoch 52/100\n",
      "63/63 [==============================] - 10s 152ms/step - loss: 4.0014e-05\n",
      "Epoch 53/100\n",
      "63/63 [==============================] - 10s 151ms/step - loss: 4.1388e-05\n",
      "Epoch 54/100\n",
      "63/63 [==============================] - 9s 151ms/step - loss: 7.2423e-05\n",
      "Epoch 55/100\n",
      "63/63 [==============================] - 9s 150ms/step - loss: 4.1111e-05\n",
      "Epoch 56/100\n",
      "63/63 [==============================] - 10s 152ms/step - loss: 4.0583e-05\n",
      "Epoch 57/100\n",
      "63/63 [==============================] - 7s 108ms/step - loss: 3.1610e-05\n",
      "Epoch 58/100\n",
      "63/63 [==============================] - 7s 112ms/step - loss: 3.4061e-05\n",
      "Epoch 59/100\n",
      "63/63 [==============================] - 10s 152ms/step - loss: 2.7961e-05\n",
      "Epoch 60/100\n",
      "63/63 [==============================] - 10s 151ms/step - loss: 3.1434e-05\n",
      "Epoch 61/100\n",
      "63/63 [==============================] - 9s 150ms/step - loss: 4.7619e-05\n",
      "Epoch 62/100\n",
      "63/63 [==============================] - 10s 151ms/step - loss: 3.8354e-05\n",
      "Epoch 63/100\n",
      "63/63 [==============================] - 10s 152ms/step - loss: 3.2800e-05\n",
      "Epoch 64/100\n",
      "63/63 [==============================] - 10s 152ms/step - loss: 2.8240e-05\n",
      "Epoch 65/100\n",
      "63/63 [==============================] - 10s 151ms/step - loss: 4.6123e-05\n",
      "Epoch 66/100\n",
      "63/63 [==============================] - 9s 151ms/step - loss: 2.8304e-05\n",
      "Epoch 67/100\n",
      "63/63 [==============================] - 10s 151ms/step - loss: 3.3438e-05\n",
      "Epoch 68/100\n",
      "63/63 [==============================] - 10s 153ms/step - loss: 2.8844e-05\n",
      "Epoch 69/100\n",
      "63/63 [==============================] - 10s 164ms/step - loss: 3.0556e-05\n",
      "Epoch 70/100\n",
      "63/63 [==============================] - 10s 161ms/step - loss: 3.0311e-05\n",
      "Epoch 71/100\n",
      "63/63 [==============================] - 11s 169ms/step - loss: 3.4879e-05\n",
      "Epoch 72/100\n",
      "63/63 [==============================] - 10s 163ms/step - loss: 3.9767e-05\n",
      "Epoch 73/100\n",
      "63/63 [==============================] - 10s 160ms/step - loss: 4.1175e-05\n",
      "Epoch 74/100\n",
      "63/63 [==============================] - 10s 158ms/step - loss: 3.1215e-05\n",
      "Epoch 75/100\n",
      "63/63 [==============================] - 10s 162ms/step - loss: 3.4511e-05\n",
      "Epoch 76/100\n",
      "63/63 [==============================] - 11s 171ms/step - loss: 2.7158e-05\n",
      "Epoch 77/100\n",
      "63/63 [==============================] - 10s 162ms/step - loss: 3.1113e-05\n",
      "Epoch 78/100\n",
      "63/63 [==============================] - 10s 153ms/step - loss: 2.8471e-05\n",
      "Epoch 79/100\n",
      "63/63 [==============================] - 10s 156ms/step - loss: 2.9553e-05\n",
      "Epoch 80/100\n",
      "63/63 [==============================] - 10s 152ms/step - loss: 2.7991e-05\n",
      "Epoch 81/100\n",
      "63/63 [==============================] - 10s 152ms/step - loss: 2.8168e-05\n",
      "Epoch 82/100\n",
      "63/63 [==============================] - 10s 152ms/step - loss: 2.7416e-05\n",
      "Epoch 83/100\n",
      "63/63 [==============================] - 10s 152ms/step - loss: 3.2290e-05\n",
      "Epoch 84/100\n",
      "63/63 [==============================] - 10s 152ms/step - loss: 3.0060e-05\n",
      "Epoch 85/100\n",
      "63/63 [==============================] - 10s 151ms/step - loss: 2.4944e-05\n",
      "Epoch 86/100\n",
      "63/63 [==============================] - 10s 151ms/step - loss: 3.0095e-05\n",
      "Epoch 87/100\n",
      "63/63 [==============================] - 10s 154ms/step - loss: 2.7988e-05\n",
      "Epoch 88/100\n",
      "63/63 [==============================] - 10s 155ms/step - loss: 3.0156e-05\n",
      "Epoch 89/100\n",
      "63/63 [==============================] - 10s 153ms/step - loss: 3.7636e-05\n",
      "Epoch 90/100\n",
      "63/63 [==============================] - 10s 152ms/step - loss: 3.1218e-05\n",
      "Epoch 91/100\n",
      "63/63 [==============================] - 10s 152ms/step - loss: 3.3334e-05\n",
      "Epoch 92/100\n",
      "63/63 [==============================] - 10s 153ms/step - loss: 2.7036e-05\n",
      "Epoch 93/100\n",
      "63/63 [==============================] - 10s 152ms/step - loss: 2.7350e-05\n",
      "Epoch 94/100\n"
     ]
    },
    {
     "name": "stdout",
     "output_type": "stream",
     "text": [
      "63/63 [==============================] - 10s 152ms/step - loss: 3.2535e-05\n",
      "Epoch 95/100\n",
      "63/63 [==============================] - 10s 154ms/step - loss: 2.9638e-05\n",
      "Epoch 96/100\n",
      "63/63 [==============================] - 10s 157ms/step - loss: 3.4520e-05\n",
      "Epoch 97/100\n",
      "63/63 [==============================] - 10s 157ms/step - loss: 2.6256e-05\n",
      "Epoch 98/100\n",
      "63/63 [==============================] - 10s 157ms/step - loss: 3.1002e-05\n",
      "Epoch 99/100\n",
      "63/63 [==============================] - 10s 155ms/step - loss: 2.5602e-05\n",
      "Epoch 100/100\n",
      "63/63 [==============================] - 10s 153ms/step - loss: 3.7914e-05\n"
     ]
    },
    {
     "data": {
      "text/plain": [
       "<keras.callbacks.History at 0x1c7ffa6f348>"
      ]
     },
     "execution_count": 13,
     "metadata": {},
     "output_type": "execute_result"
    }
   ],
   "source": [
    "#train the model\n",
    "close_model.fit(x_train, y_train, batch_size=32, epochs=EPOCHS)"
   ]
  },
  {
   "cell_type": "code",
   "execution_count": 14,
   "id": "1ffb2cf5",
   "metadata": {
    "id": "1ffb2cf5"
   },
   "outputs": [],
   "source": [
    "#create the testing data set\n",
    "#create a new array containing scaled values from index 1543 to 2003\n",
    "test_data = scaled_data[training_data_len - 60: , :]\n",
    "#create the data sets x_test adn y_test\n",
    "x_test = []\n",
    "y_test = dataset[training_data_len:,:]\n",
    "for i in range(60, len(test_data)):\n",
    "    x_test.append(test_data[i-60:i,0])\n",
    "    \n",
    "    \n"
   ]
  },
  {
   "cell_type": "code",
   "execution_count": 15,
   "id": "e47d88b9",
   "metadata": {
    "id": "e47d88b9"
   },
   "outputs": [],
   "source": [
    "#convert the data to a numpy array\n",
    "x_test = np.array(x_test)"
   ]
  },
  {
   "cell_type": "code",
   "execution_count": 16,
   "id": "ab219d64",
   "metadata": {
    "id": "ab219d64"
   },
   "outputs": [],
   "source": [
    "#resahpe the data\n",
    "x_test = np.reshape(x_test,(x_test.shape[0],x_test.shape[1],1))"
   ]
  },
  {
   "cell_type": "code",
   "execution_count": 17,
   "id": "f0e9563d",
   "metadata": {
    "id": "f0e9563d"
   },
   "outputs": [],
   "source": [
    "#get the models predicted price values\n",
    "predictions = close_model.predict(x_test)\n",
    "predictions = scaler.inverse_transform(predictions)"
   ]
  },
  {
   "cell_type": "code",
   "execution_count": 18,
   "id": "c366802e",
   "metadata": {
    "id": "c366802e",
    "outputId": "f50b6f6e-e0a7-41fa-ac47-e5623cd84398"
   },
   "outputs": [
    {
     "data": {
      "text/plain": [
       "18.968211748446638"
      ]
     },
     "execution_count": 18,
     "metadata": {},
     "output_type": "execute_result"
    }
   ],
   "source": [
    "#get the root mean squared error (RMSE)\n",
    "rmse =  np.sqrt(np.mean(predictions - y_test)**2)\n",
    "rmse"
   ]
  },
  {
   "cell_type": "code",
   "execution_count": 19,
   "id": "30fda6a3",
   "metadata": {
    "id": "30fda6a3",
    "outputId": "ea646a8d-4c11-4038-aa38-e998e92d3d07"
   },
   "outputs": [
    {
     "name": "stderr",
     "output_type": "stream",
     "text": [
      "C:\\Users\\Abhishek Rao\\AppData\\Local\\Packages\\PythonSoftwareFoundation.Python.3.7_qbz5n2kfra8p0\\LocalCache\\local-packages\\Python37\\site-packages\\ipykernel_launcher.py:4: SettingWithCopyWarning: \n",
      "A value is trying to be set on a copy of a slice from a DataFrame.\n",
      "Try using .loc[row_indexer,col_indexer] = value instead\n",
      "\n",
      "See the caveats in the documentation: https://pandas.pydata.org/pandas-docs/stable/user_guide/indexing.html#returning-a-view-versus-a-copy\n",
      "  after removing the cwd from sys.path.\n"
     ]
    },
    {
     "data": {
      "image/png": "[encoded data removed]",
      "text/plain": [
       "<Figure size 1152x576 with 1 Axes>"
      ]
     },
     "metadata": {},
     "output_type": "display_data"
    }
   ],
   "source": [
    "#plot the date\n",
    "train = data[:training_data_len]\n",
    "valid = data[training_data_len:]\n",
    "valid['Predictions'] = predictions\n",
    "#visualize the data\n",
    "plt.figure(figsize=(16,8))\n",
    "plt.title('Model')\n",
    "plt.xlabel('Date')\n",
    "plt.ylabel('Close Price USD ($)')\n",
    "plt.plot(train['Close'])\n",
    "plt.plot(valid[['Close', 'Predictions']])\n",
    "plt.legend(['Train', 'Val', 'Predictions'], loc='lower right')\n",
    "plt.show()"
   ]
  },
  {
   "cell_type": "code",
   "execution_count": 20,
   "id": "94010774",
   "metadata": {
    "id": "94010774",
    "outputId": "52e5e20d-08d8-4359-96a1-e9c494ef7704"
   },
   "outputs": [
    {
     "data": {
      "text/html": [
       "<div>\n",
       "<style scoped>\n",
       "    .dataframe tbody tr th:only-of-type {\n",
       "        vertical-align: middle;\n",
       "    }\n",
       "\n",
       "    .dataframe tbody tr th {\n",
       "        vertical-align: top;\n",
       "    }\n",
       "\n",
       "    .dataframe thead th {\n",
       "        text-align: right;\n",
       "    }\n",
       "</style>\n",
       "<table border=\"1\" class=\"dataframe\">\n",
       "  <thead>\n",
       "    <tr style=\"text-align: right;\">\n",
       "      <th></th>\n",
       "      <th>Close</th>\n",
       "      <th>Predictions</th>\n",
       "    </tr>\n",
       "    <tr>\n",
       "      <th>Date</th>\n",
       "      <th></th>\n",
       "      <th></th>\n",
       "    </tr>\n",
       "  </thead>\n",
       "  <tbody>\n",
       "    <tr>\n",
       "      <th>2020-03-03</th>\n",
       "      <td>1341.390015</td>\n",
       "      <td>1414.510742</td>\n",
       "    </tr>\n",
       "    <tr>\n",
       "      <th>2020-03-04</th>\n",
       "      <td>1386.520020</td>\n",
       "      <td>1350.442993</td>\n",
       "    </tr>\n",
       "    <tr>\n",
       "      <th>2020-03-05</th>\n",
       "      <td>1319.040039</td>\n",
       "      <td>1424.663574</td>\n",
       "    </tr>\n",
       "    <tr>\n",
       "      <th>2020-03-06</th>\n",
       "      <td>1298.410034</td>\n",
       "      <td>1320.377930</td>\n",
       "    </tr>\n",
       "    <tr>\n",
       "      <th>2020-03-09</th>\n",
       "      <td>1215.560059</td>\n",
       "      <td>1325.659790</td>\n",
       "    </tr>\n",
       "    <tr>\n",
       "      <th>...</th>\n",
       "      <td>...</td>\n",
       "      <td>...</td>\n",
       "    </tr>\n",
       "    <tr>\n",
       "      <th>2022-03-08</th>\n",
       "      <td>2545.570068</td>\n",
       "      <td>2427.301514</td>\n",
       "    </tr>\n",
       "    <tr>\n",
       "      <th>2022-03-09</th>\n",
       "      <td>2677.320068</td>\n",
       "      <td>2580.470947</td>\n",
       "    </tr>\n",
       "    <tr>\n",
       "      <th>2022-03-10</th>\n",
       "      <td>2653.639893</td>\n",
       "      <td>2675.218018</td>\n",
       "    </tr>\n",
       "    <tr>\n",
       "      <th>2022-03-11</th>\n",
       "      <td>2609.510010</td>\n",
       "      <td>2544.857910</td>\n",
       "    </tr>\n",
       "    <tr>\n",
       "      <th>2022-03-11</th>\n",
       "      <td>2609.510010</td>\n",
       "      <td>2587.033691</td>\n",
       "    </tr>\n",
       "  </tbody>\n",
       "</table>\n",
       "<p>513 rows × 2 columns</p>\n",
       "</div>"
      ],
      "text/plain": [
       "                  Close  Predictions\n",
       "Date                                \n",
       "2020-03-03  1341.390015  1414.510742\n",
       "2020-03-04  1386.520020  1350.442993\n",
       "2020-03-05  1319.040039  1424.663574\n",
       "2020-03-06  1298.410034  1320.377930\n",
       "2020-03-09  1215.560059  1325.659790\n",
       "...                 ...          ...\n",
       "2022-03-08  2545.570068  2427.301514\n",
       "2022-03-09  2677.320068  2580.470947\n",
       "2022-03-10  2653.639893  2675.218018\n",
       "2022-03-11  2609.510010  2544.857910\n",
       "2022-03-11  2609.510010  2587.033691\n",
       "\n",
       "[513 rows x 2 columns]"
      ]
     },
     "execution_count": 20,
     "metadata": {},
     "output_type": "execute_result"
    }
   ],
   "source": [
    "#show the valid and predicted prices\n",
    "valid"
   ]
  },
  {
   "cell_type": "code",
   "execution_count": 21,
   "id": "be8deaf4",
   "metadata": {
    "id": "be8deaf4",
    "outputId": "b9b9bea2-8f3f-4d3c-c9f8-88087470817f"
   },
   "outputs": [
    {
     "name": "stdout",
     "output_type": "stream",
     "text": [
      "[[2615.5603]]\n"
     ]
    }
   ],
   "source": [
    "#get the Quote\n",
    "stock_quote = web.DataReader(STOCK, data_source = 'yahoo', start=START_DATE, end=END_DATE)\n",
    "#create new data frame\n",
    "new_df = stock_quote.filter(['Close'])\n",
    "#get the last 60 days closing price values and convert the dataframe to an array\n",
    "last_60_days = new_df[-60:].values\n",
    "#scale the data to be values between 0 and 1\n",
    "last_60_days_scaled = scaler.fit_transform(last_60_days)\n",
    "#create the empty list\n",
    "x_test = []\n",
    "#append the past 60 days\n",
    "x_test.append(last_60_days_scaled)\n",
    "#convert the x_test data set to a numpy array\n",
    "x_test = np.array(x_test)\n",
    "x_test = np.reshape(x_test,(x_test.shape[0],x_test.shape[1],1))\n",
    "#get the predicted scaled price\n",
    "close_pred_price = close_model.predict(x_test)\n",
    "#undo the scaling\n",
    "close_pred_price = scaler.inverse_transform(close_pred_price)\n",
    "print(close_pred_price)\n"
   ]
  },
  {
   "cell_type": "code",
   "execution_count": 22,
   "id": "c2efab6b",
   "metadata": {
    "id": "c2efab6b",
    "outputId": "598b1ec6-771b-46c3-c09e-ab3bad3f1d95",
    "scrolled": true
   },
   "outputs": [
    {
     "name": "stdout",
     "output_type": "stream",
     "text": [
      "Date\n",
      "2012-01-03     331.462585\n",
      "2012-01-04     332.892242\n",
      "2012-01-05     328.274536\n",
      "2012-01-06     323.796326\n",
      "2012-01-09     310.067780\n",
      "                 ...     \n",
      "2022-03-08    2545.570068\n",
      "2022-03-09    2677.320068\n",
      "2022-03-10    2653.639893\n",
      "2022-03-11    2609.510010\n",
      "2022-03-11    2609.510010\n",
      "Name: Close, Length: 2566, dtype: float64\n"
     ]
    }
   ],
   "source": [
    "stock_quote2 = web.DataReader(STOCK, data_source = 'yahoo', start=START_DATE, end=PREDICT_DATE)\n",
    "print(stock_quote2['Close'])"
   ]
  },
  {
   "cell_type": "code",
   "execution_count": 23,
   "id": "bfd5c96d",
   "metadata": {
    "id": "bfd5c96d"
   },
   "outputs": [],
   "source": [
    "close_model.save(close_model_path)\n",
    "loaded_close_model = load_model(close_model_path)\n"
   ]
  },
  {
   "cell_type": "code",
   "execution_count": 24,
   "id": "7b7a7951",
   "metadata": {
    "scrolled": true
   },
   "outputs": [
    {
     "name": "stdout",
     "output_type": "stream",
     "text": [
      "Date\n",
      "2012-01-03     331.462585\n",
      "2012-01-04     332.892242\n",
      "2012-01-05     328.274536\n",
      "2012-01-06     323.796326\n",
      "2012-01-09     310.067780\n",
      "                 ...     \n",
      "2022-03-08    2545.570068\n",
      "2022-03-09    2677.320068\n",
      "2022-03-10    2653.639893\n",
      "2022-03-11    2609.510010\n",
      "2022-03-11    2609.510010\n",
      "Name: Close, Length: 2566, dtype: float64\n"
     ]
    }
   ],
   "source": [
    "stock_quote2 = web.DataReader(STOCK, data_source = 'yahoo', start=START_DATE, end=PREDICT_DATE)\n",
    "print(stock_quote2['Close'])"
   ]
  },
  {
   "cell_type": "code",
   "execution_count": 25,
   "id": "2d66ed1a",
   "metadata": {},
   "outputs": [],
   "source": [
    "import winsound\n",
    "frequency = 2500  # Set Frequency To 2500 Hertz\n",
    "duration = 1000  # Set Duration To 1000 ms == 1 second\n",
    "winsound.Beep(frequency, duration)"
   ]
  },
  {
   "cell_type": "code",
   "execution_count": 26,
   "id": "d4c78d70",
   "metadata": {},
   "outputs": [
    {
     "data": {
      "image/png": "[encoded data removed]",
      "text/plain": [
       "<Figure size 1152x576 with 1 Axes>"
      ]
     },
     "metadata": {},
     "output_type": "display_data"
    }
   ],
   "source": [
    "#Visualing the closing price history\n",
    "plt.figure(figsize=(16,8))\n",
    "plt.title('Open Price History')\n",
    "plt.plot(df['Open'])\n",
    "plt.xlabel('Date', fontsize=18)\n",
    "plt.ylabel('Open Price USD($)', fontsize=18)\n",
    "plt.show()"
   ]
  },
  {
   "cell_type": "code",
   "execution_count": 27,
   "id": "331b2ed1",
   "metadata": {},
   "outputs": [
    {
     "data": {
      "text/plain": [
       "2053"
      ]
     },
     "execution_count": 27,
     "metadata": {},
     "output_type": "execute_result"
    }
   ],
   "source": [
    "#Create a new data\n",
    "data = df.filter(['Open'])\n",
    "#convert the dataframe to a numpy array\n",
    "dataset = data.values\n",
    "#get the number of rows to train the model on\n",
    "training_data_len = math.ceil(len(dataset)*.8)\n",
    "training_data_len"
   ]
  },
  {
   "cell_type": "code",
   "execution_count": 28,
   "id": "b77d1605",
   "metadata": {},
   "outputs": [
    {
     "data": {
      "text/plain": [
       "array([[0.01672395],\n",
       "       [0.01890746],\n",
       "       [0.01838371],\n",
       "       ...,\n",
       "       [0.8520673 ],\n",
       "       [0.87046371],\n",
       "       [0.87046371]])"
      ]
     },
     "execution_count": 28,
     "metadata": {},
     "output_type": "execute_result"
    }
   ],
   "source": [
    "#Scale the data\n",
    "scaler = MinMaxScaler(feature_range=(0,1))\n",
    "scaled_data = scaler.fit_transform(dataset)\n",
    "\n",
    "scaled_data"
   ]
  },
  {
   "cell_type": "code",
   "execution_count": 29,
   "id": "82c8b5ad",
   "metadata": {},
   "outputs": [
    {
     "name": "stdout",
     "output_type": "stream",
     "text": [
      "[array([0.01672395, 0.01890746, 0.01838371, 0.01784551, 0.01556086,\n",
      "       0.01253574, 0.01140696, 0.01280122, 0.01190543, 0.01293849,\n",
      "       0.01197225, 0.01456573, 0.00545244, 0.0046343 , 0.0046921 ,\n",
      "       0.00310098, 0.00210223, 0.00188551, 0.0031985 , 0.00409249,\n",
      "       0.00444286, 0.00443022, 0.00547592, 0.00626155, 0.00845408,\n",
      "       0.00872318, 0.00933362, 0.00858593, 0.0090591 , 0.00924693,\n",
      "       0.00949798, 0.00767206, 0.00806036, 0.0078617 , 0.00932279,\n",
      "       0.008427  , 0.00849021, 0.00835294, 0.0089688 , 0.010522  ,\n",
      "       0.01118302, 0.01113606, 0.01085251, 0.00861663, 0.00879723,\n",
      "       0.00897603, 0.00859856, 0.00716276, 0.00874304, 0.00987182,\n",
      "       0.0101608 , 0.01093559, 0.01133833, 0.01274704, 0.01341348,\n",
      "       0.01411602, 0.01557892, 0.01528996, 0.01565658, 0.0165596 ])]\n",
      "[0.016814249727392233]\n",
      "\n",
      "[array([0.01672395, 0.01890746, 0.01838371, 0.01784551, 0.01556086,\n",
      "       0.01253574, 0.01140696, 0.01280122, 0.01190543, 0.01293849,\n",
      "       0.01197225, 0.01456573, 0.00545244, 0.0046343 , 0.0046921 ,\n",
      "       0.00310098, 0.00210223, 0.00188551, 0.0031985 , 0.00409249,\n",
      "       0.00444286, 0.00443022, 0.00547592, 0.00626155, 0.00845408,\n",
      "       0.00872318, 0.00933362, 0.00858593, 0.0090591 , 0.00924693,\n",
      "       0.00949798, 0.00767206, 0.00806036, 0.0078617 , 0.00932279,\n",
      "       0.008427  , 0.00849021, 0.00835294, 0.0089688 , 0.010522  ,\n",
      "       0.01118302, 0.01113606, 0.01085251, 0.00861663, 0.00879723,\n",
      "       0.00897603, 0.00859856, 0.00716276, 0.00874304, 0.00987182,\n",
      "       0.0101608 , 0.01093559, 0.01133833, 0.01274704, 0.01341348,\n",
      "       0.01411602, 0.01557892, 0.01528996, 0.01565658, 0.0165596 ]), array([0.01890746, 0.01838371, 0.01784551, 0.01556086, 0.01253574,\n",
      "       0.01140696, 0.01280122, 0.01190543, 0.01293849, 0.01197225,\n",
      "       0.01456573, 0.00545244, 0.0046343 , 0.0046921 , 0.00310098,\n",
      "       0.00210223, 0.00188551, 0.0031985 , 0.00409249, 0.00444286,\n",
      "       0.00443022, 0.00547592, 0.00626155, 0.00845408, 0.00872318,\n",
      "       0.00933362, 0.00858593, 0.0090591 , 0.00924693, 0.00949798,\n",
      "       0.00767206, 0.00806036, 0.0078617 , 0.00932279, 0.008427  ,\n",
      "       0.00849021, 0.00835294, 0.0089688 , 0.010522  , 0.01118302,\n",
      "       0.01113606, 0.01085251, 0.00861663, 0.00879723, 0.00897603,\n",
      "       0.00859856, 0.00716276, 0.00874304, 0.00987182, 0.0101608 ,\n",
      "       0.01093559, 0.01133833, 0.01274704, 0.01341348, 0.01411602,\n",
      "       0.01557892, 0.01528996, 0.01565658, 0.0165596 , 0.01681425])]\n",
      "[0.016814249727392233, 0.016509034804304393]\n",
      "\n"
     ]
    }
   ],
   "source": [
    "#creating the training data set\n",
    "#create the scaled training data set\n",
    "train_data = scaled_data[0:training_data_len,:]\n",
    "#split the data into x_train and y_train data sets\n",
    "x_train = []\n",
    "y_train = []\n",
    "for i in range(60, len(train_data)):\n",
    "    x_train.append(train_data[i-60:i,0])\n",
    "    y_train.append(train_data[i,0])\n",
    "    if i<=61:\n",
    "        print(x_train)\n",
    "        print(y_train)\n",
    "        print()"
   ]
  },
  {
   "cell_type": "code",
   "execution_count": 30,
   "id": "4dbe3bac",
   "metadata": {},
   "outputs": [],
   "source": [
    "#Convert the X_train and Y_train to numpy arrays\n",
    "x_train , y_train = np.array(x_train), np.array(y_train)"
   ]
  },
  {
   "cell_type": "code",
   "execution_count": 31,
   "id": "b36aa47e",
   "metadata": {},
   "outputs": [
    {
     "data": {
      "text/plain": [
       "(1993, 60, 1)"
      ]
     },
     "execution_count": 31,
     "metadata": {},
     "output_type": "execute_result"
    }
   ],
   "source": [
    "#Reshape the data\n",
    "x_train = np.reshape(x_train,(x_train.shape[0],x_train.shape[1],1))\n",
    "x_train.shape"
   ]
  },
  {
   "cell_type": "code",
   "execution_count": 32,
   "id": "b3f05b1c",
   "metadata": {},
   "outputs": [],
   "source": [
    "#Building the LSTM model\n",
    "open_model = Sequential()\n",
    "open_model.add(LSTM(50, return_sequences=True, input_shape =(x_train.shape[1],1)))\n",
    "open_model.add(LSTM(50, return_sequences=True))\n",
    "open_model.add(LSTM(50, return_sequences=True))\n",
    "open_model.add(LSTM(50, return_sequences=False))\n",
    "open_model.add(Dense(25))\n",
    "open_model.add(Dense(1))"
   ]
  },
  {
   "cell_type": "code",
   "execution_count": 33,
   "id": "54697987",
   "metadata": {},
   "outputs": [],
   "source": [
    "#compile the Model\n",
    "open_model.compile(optimizer='adam', loss='mean_squared_error')"
   ]
  },
  {
   "cell_type": "code",
   "execution_count": 34,
   "id": "34dbc876",
   "metadata": {},
   "outputs": [
    {
     "name": "stdout",
     "output_type": "stream",
     "text": [
      "Epoch 1/100\n",
      "63/63 [==============================] - 16s 147ms/step - loss: 0.0036\n",
      "Epoch 2/100\n",
      "63/63 [==============================] - 9s 146ms/step - loss: 1.7254e-04\n",
      "Epoch 3/100\n",
      "63/63 [==============================] - 9s 146ms/step - loss: 1.5963e-04\n",
      "Epoch 4/100\n",
      "63/63 [==============================] - 9s 146ms/step - loss: 1.7236e-04\n",
      "Epoch 5/100\n",
      "63/63 [==============================] - 9s 146ms/step - loss: 1.6016e-04\n",
      "Epoch 6/100\n",
      "63/63 [==============================] - 9s 147ms/step - loss: 1.7121e-04\n",
      "Epoch 7/100\n",
      "63/63 [==============================] - 9s 146ms/step - loss: 1.8434e-04\n",
      "Epoch 8/100\n",
      "63/63 [==============================] - 9s 146ms/step - loss: 1.9195e-04\n",
      "Epoch 9/100\n",
      "63/63 [==============================] - 10s 151ms/step - loss: 1.3695e-04\n",
      "Epoch 10/100\n",
      "63/63 [==============================] - 9s 146ms/step - loss: 1.3646e-04\n",
      "Epoch 11/100\n",
      "63/63 [==============================] - 9s 146ms/step - loss: 1.6547e-04\n",
      "Epoch 12/100\n",
      "63/63 [==============================] - 10s 151ms/step - loss: 1.4457e-04\n",
      "Epoch 13/100\n",
      "63/63 [==============================] - 9s 150ms/step - loss: 1.3022e-04\n",
      "Epoch 14/100\n",
      "63/63 [==============================] - 9s 147ms/step - loss: 1.5085e-04\n",
      "Epoch 15/100\n",
      "63/63 [==============================] - 9s 146ms/step - loss: 1.3610e-04\n",
      "Epoch 16/100\n",
      "63/63 [==============================] - 9s 146ms/step - loss: 1.8369e-04\n",
      "Epoch 17/100\n",
      "63/63 [==============================] - 9s 146ms/step - loss: 1.3600e-04\n",
      "Epoch 18/100\n",
      "63/63 [==============================] - 9s 146ms/step - loss: 1.3117e-04\n",
      "Epoch 19/100\n",
      "63/63 [==============================] - 9s 145ms/step - loss: 1.2966e-04\n",
      "Epoch 20/100\n",
      "63/63 [==============================] - 9s 149ms/step - loss: 1.1970e-04\n",
      "Epoch 21/100\n",
      "63/63 [==============================] - 10s 154ms/step - loss: 1.1326e-04\n",
      "Epoch 22/100\n",
      "63/63 [==============================] - 9s 147ms/step - loss: 1.0540e-04\n",
      "Epoch 23/100\n",
      "63/63 [==============================] - 9s 148ms/step - loss: 1.4617e-04\n",
      "Epoch 24/100\n",
      "63/63 [==============================] - 9s 148ms/step - loss: 1.0508e-04\n",
      "Epoch 25/100\n",
      "63/63 [==============================] - 9s 147ms/step - loss: 1.1375e-04\n",
      "Epoch 26/100\n",
      "63/63 [==============================] - 9s 149ms/step - loss: 1.0022e-04\n",
      "Epoch 27/100\n",
      "63/63 [==============================] - 9s 147ms/step - loss: 9.4645e-05\n",
      "Epoch 28/100\n",
      "63/63 [==============================] - 9s 147ms/step - loss: 9.7699e-05\n",
      "Epoch 29/100\n",
      "63/63 [==============================] - 9s 150ms/step - loss: 9.4404e-05\n",
      "Epoch 30/100\n",
      "63/63 [==============================] - 9s 149ms/step - loss: 1.0861e-04\n",
      "Epoch 31/100\n",
      "63/63 [==============================] - 9s 147ms/step - loss: 8.5150e-05\n",
      "Epoch 32/100\n",
      "63/63 [==============================] - 9s 148ms/step - loss: 7.9120e-05\n",
      "Epoch 33/100\n",
      "63/63 [==============================] - 9s 147ms/step - loss: 6.7259e-05\n",
      "Epoch 34/100\n",
      "63/63 [==============================] - 9s 148ms/step - loss: 7.1999e-05\n",
      "Epoch 35/100\n",
      "63/63 [==============================] - 9s 147ms/step - loss: 7.6021e-05\n",
      "Epoch 36/100\n",
      "63/63 [==============================] - 9s 147ms/step - loss: 5.7868e-05\n",
      "Epoch 37/100\n",
      "63/63 [==============================] - 9s 147ms/step - loss: 6.7558e-05\n",
      "Epoch 38/100\n",
      "63/63 [==============================] - 9s 148ms/step - loss: 6.1271e-05\n",
      "Epoch 39/100\n",
      "63/63 [==============================] - 5s 80ms/step - loss: 7.7096e-05\n",
      "Epoch 40/100\n",
      "63/63 [==============================] - 9s 145ms/step - loss: 5.4045e-05\n",
      "Epoch 41/100\n",
      "63/63 [==============================] - 9s 147ms/step - loss: 4.9473e-05\n",
      "Epoch 42/100\n",
      "63/63 [==============================] - 10s 152ms/step - loss: 6.4663e-05\n",
      "Epoch 43/100\n",
      "63/63 [==============================] - 9s 147ms/step - loss: 5.2551e-05\n",
      "Epoch 44/100\n",
      "63/63 [==============================] - 9s 148ms/step - loss: 5.3481e-05\n",
      "Epoch 45/100\n",
      "63/63 [==============================] - 9s 148ms/step - loss: 5.9923e-05\n",
      "Epoch 46/100\n",
      "63/63 [==============================] - 9s 147ms/step - loss: 4.9743e-05\n",
      "Epoch 47/100\n",
      "63/63 [==============================] - 10s 151ms/step - loss: 5.0085e-05\n",
      "Epoch 48/100\n",
      "63/63 [==============================] - 10s 153ms/step - loss: 4.6248e-05\n",
      "Epoch 49/100\n",
      "63/63 [==============================] - 9s 147ms/step - loss: 5.3814e-05\n",
      "Epoch 50/100\n",
      "63/63 [==============================] - 9s 148ms/step - loss: 4.2466e-05\n",
      "Epoch 51/100\n",
      "63/63 [==============================] - 9s 148ms/step - loss: 4.6402e-05\n",
      "Epoch 52/100\n",
      "63/63 [==============================] - 9s 149ms/step - loss: 5.5067e-05\n",
      "Epoch 53/100\n",
      "63/63 [==============================] - 9s 146ms/step - loss: 4.4569e-05\n",
      "Epoch 54/100\n",
      "63/63 [==============================] - 9s 146ms/step - loss: 8.1258e-05\n",
      "Epoch 55/100\n",
      "63/63 [==============================] - 9s 146ms/step - loss: 4.0464e-05\n",
      "Epoch 56/100\n",
      "63/63 [==============================] - 9s 145ms/step - loss: 3.6678e-05\n",
      "Epoch 57/100\n",
      "63/63 [==============================] - 9s 147ms/step - loss: 3.2942e-05\n",
      "Epoch 58/100\n",
      "63/63 [==============================] - 9s 145ms/step - loss: 3.5309e-05\n",
      "Epoch 59/100\n",
      "63/63 [==============================] - 9s 147ms/step - loss: 3.8018e-05\n",
      "Epoch 60/100\n",
      "63/63 [==============================] - 9s 146ms/step - loss: 3.1129e-05\n",
      "Epoch 61/100\n",
      "63/63 [==============================] - 9s 149ms/step - loss: 3.2309e-05\n",
      "Epoch 62/100\n",
      "63/63 [==============================] - 9s 146ms/step - loss: 2.6550e-05\n",
      "Epoch 63/100\n",
      "63/63 [==============================] - 10s 151ms/step - loss: 3.3010e-05\n",
      "Epoch 64/100\n",
      "63/63 [==============================] - 9s 150ms/step - loss: 3.3706e-05\n",
      "Epoch 65/100\n",
      "63/63 [==============================] - 9s 147ms/step - loss: 3.5713e-05\n",
      "Epoch 66/100\n",
      "63/63 [==============================] - 9s 149ms/step - loss: 3.2652e-05\n",
      "Epoch 67/100\n",
      "63/63 [==============================] - 9s 139ms/step - loss: 3.1462e-05\n",
      "Epoch 68/100\n",
      "63/63 [==============================] - 5s 78ms/step - loss: 2.8519e-05\n",
      "Epoch 69/100\n",
      "63/63 [==============================] - 8s 123ms/step - loss: 3.3101e-05\n",
      "Epoch 70/100\n",
      "63/63 [==============================] - 9s 147ms/step - loss: 3.3875e-05\n",
      "Epoch 71/100\n",
      "63/63 [==============================] - 9s 146ms/step - loss: 2.9427e-05\n",
      "Epoch 72/100\n",
      "63/63 [==============================] - 9s 146ms/step - loss: 3.3998e-05\n",
      "Epoch 73/100\n",
      "63/63 [==============================] - 9s 146ms/step - loss: 2.9416e-05\n",
      "Epoch 74/100\n",
      "63/63 [==============================] - 9s 146ms/step - loss: 6.3107e-05\n",
      "Epoch 75/100\n",
      "63/63 [==============================] - 9s 148ms/step - loss: 2.9260e-05\n",
      "Epoch 76/100\n",
      "63/63 [==============================] - 9s 146ms/step - loss: 3.1095e-05\n",
      "Epoch 77/100\n",
      "63/63 [==============================] - 9s 147ms/step - loss: 2.7702e-05\n",
      "Epoch 78/100\n",
      "63/63 [==============================] - 9s 146ms/step - loss: 3.6099e-05\n",
      "Epoch 79/100\n",
      "63/63 [==============================] - 9s 147ms/step - loss: 3.2723e-05\n",
      "Epoch 80/100\n",
      "63/63 [==============================] - 9s 147ms/step - loss: 2.9568e-05\n",
      "Epoch 81/100\n",
      "63/63 [==============================] - 9s 149ms/step - loss: 3.1452e-05\n",
      "Epoch 82/100\n",
      "63/63 [==============================] - 9s 147ms/step - loss: 3.4780e-05\n",
      "Epoch 83/100\n",
      "63/63 [==============================] - 9s 147ms/step - loss: 2.8775e-05\n",
      "Epoch 84/100\n",
      "63/63 [==============================] - 9s 147ms/step - loss: 3.5270e-05\n",
      "Epoch 85/100\n",
      "63/63 [==============================] - 9s 146ms/step - loss: 2.7165e-05\n",
      "Epoch 86/100\n",
      "63/63 [==============================] - 9s 146ms/step - loss: 3.2012e-05\n",
      "Epoch 87/100\n",
      "63/63 [==============================] - 9s 147ms/step - loss: 3.8532e-05\n",
      "Epoch 88/100\n",
      "63/63 [==============================] - 9s 150ms/step - loss: 3.2974e-05\n",
      "Epoch 89/100\n",
      "63/63 [==============================] - 10s 160ms/step - loss: 4.4014e-05\n",
      "Epoch 90/100\n",
      "63/63 [==============================] - 9s 151ms/step - loss: 3.6095e-05\n",
      "Epoch 91/100\n",
      "63/63 [==============================] - 9s 150ms/step - loss: 3.1678e-05\n",
      "Epoch 92/100\n",
      "63/63 [==============================] - 9s 147ms/step - loss: 2.4251e-05\n",
      "Epoch 93/100\n",
      "63/63 [==============================] - 9s 148ms/step - loss: 2.6496e-05\n",
      "Epoch 94/100\n",
      "63/63 [==============================] - 9s 148ms/step - loss: 2.8085e-05\n",
      "Epoch 95/100\n"
     ]
    },
    {
     "name": "stdout",
     "output_type": "stream",
     "text": [
      "63/63 [==============================] - 9s 147ms/step - loss: 3.1524e-05\n",
      "Epoch 96/100\n",
      "63/63 [==============================] - 9s 147ms/step - loss: 2.9653e-05\n",
      "Epoch 97/100\n",
      "63/63 [==============================] - 9s 147ms/step - loss: 2.5129e-05\n",
      "Epoch 98/100\n",
      "63/63 [==============================] - 7s 104ms/step - loss: 3.1037e-05\n",
      "Epoch 99/100\n",
      "63/63 [==============================] - 7s 111ms/step - loss: 3.2303e-05\n",
      "Epoch 100/100\n",
      "63/63 [==============================] - 9s 146ms/step - loss: 3.1279e-05\n"
     ]
    },
    {
     "data": {
      "text/plain": [
       "<keras.callbacks.History at 0x1c80be80d08>"
      ]
     },
     "execution_count": 34,
     "metadata": {},
     "output_type": "execute_result"
    }
   ],
   "source": [
    "#train the model\n",
    "open_model.fit(x_train, y_train, batch_size=32, epochs=EPOCHS)"
   ]
  },
  {
   "cell_type": "code",
   "execution_count": 35,
   "id": "db1b5095",
   "metadata": {},
   "outputs": [],
   "source": [
    "#create the testing data set\n",
    "#create a new array containing scaled values from index 1543 to 2003\n",
    "test_data = scaled_data[training_data_len - 60: , :]\n",
    "#create the data sets x_test adn y_test\n",
    "x_test = []\n",
    "y_test = dataset[training_data_len:,:]\n",
    "for i in range(60, len(test_data)):\n",
    "    x_test.append(test_data[i-60:i,0])\n",
    "    \n",
    "    \n"
   ]
  },
  {
   "cell_type": "code",
   "execution_count": 36,
   "id": "44ac460e",
   "metadata": {},
   "outputs": [],
   "source": [
    "#convert the data to a numpy array\n",
    "x_test = np.array(x_test)"
   ]
  },
  {
   "cell_type": "code",
   "execution_count": 37,
   "id": "e17f395e",
   "metadata": {},
   "outputs": [],
   "source": [
    "#resahpe the data\n",
    "x_test = np.reshape(x_test,(x_test.shape[0],x_test.shape[1],1))"
   ]
  },
  {
   "cell_type": "code",
   "execution_count": 38,
   "id": "c24335ff",
   "metadata": {},
   "outputs": [],
   "source": [
    "#get the models predicted price values\n",
    "predictions = open_model.predict(x_test)\n",
    "predictions = scaler.inverse_transform(predictions)"
   ]
  },
  {
   "cell_type": "code",
   "execution_count": 39,
   "id": "0a278b2f",
   "metadata": {},
   "outputs": [
    {
     "data": {
      "text/plain": [
       "23.17662503426535"
      ]
     },
     "execution_count": 39,
     "metadata": {},
     "output_type": "execute_result"
    }
   ],
   "source": [
    "#get the root mean squared error (RMSE)\n",
    "rmse =  np.sqrt(np.mean(predictions - y_test)**2)\n",
    "rmse"
   ]
  },
  {
   "cell_type": "code",
   "execution_count": 40,
   "id": "4caf49e0",
   "metadata": {},
   "outputs": [
    {
     "name": "stderr",
     "output_type": "stream",
     "text": [
      "C:\\Users\\Abhishek Rao\\AppData\\Local\\Packages\\PythonSoftwareFoundation.Python.3.7_qbz5n2kfra8p0\\LocalCache\\local-packages\\Python37\\site-packages\\ipykernel_launcher.py:4: SettingWithCopyWarning: \n",
      "A value is trying to be set on a copy of a slice from a DataFrame.\n",
      "Try using .loc[row_indexer,col_indexer] = value instead\n",
      "\n",
      "See the caveats in the documentation: https://pandas.pydata.org/pandas-docs/stable/user_guide/indexing.html#returning-a-view-versus-a-copy\n",
      "  after removing the cwd from sys.path.\n"
     ]
    },
    {
     "data": {
      "image/png": "[encoded data removed]",
      "text/plain": [
       "<Figure size 1152x576 with 1 Axes>"
      ]
     },
     "metadata": {},
     "output_type": "display_data"
    }
   ],
   "source": [
    "#plot the date\n",
    "train = data[:training_data_len]\n",
    "valid = data[training_data_len:]\n",
    "valid['Predictions'] = predictions\n",
    "#visualize the data\n",
    "plt.figure(figsize=(16,8))\n",
    "plt.title('Model')\n",
    "plt.xlabel('Date')\n",
    "plt.ylabel('Open Price USD ($)')\n",
    "plt.plot(train['Open'])\n",
    "plt.plot(valid[['Open', 'Predictions']])\n",
    "plt.legend(['Train', 'Val', 'Predictions'], loc='lower right')\n",
    "plt.show()"
   ]
  },
  {
   "cell_type": "code",
   "execution_count": 41,
   "id": "882613c6",
   "metadata": {},
   "outputs": [
    {
     "data": {
      "text/html": [
       "<div>\n",
       "<style scoped>\n",
       "    .dataframe tbody tr th:only-of-type {\n",
       "        vertical-align: middle;\n",
       "    }\n",
       "\n",
       "    .dataframe tbody tr th {\n",
       "        vertical-align: top;\n",
       "    }\n",
       "\n",
       "    .dataframe thead th {\n",
       "        text-align: right;\n",
       "    }\n",
       "</style>\n",
       "<table border=\"1\" class=\"dataframe\">\n",
       "  <thead>\n",
       "    <tr style=\"text-align: right;\">\n",
       "      <th></th>\n",
       "      <th>Open</th>\n",
       "      <th>Predictions</th>\n",
       "    </tr>\n",
       "    <tr>\n",
       "      <th>Date</th>\n",
       "      <th></th>\n",
       "      <th></th>\n",
       "    </tr>\n",
       "  </thead>\n",
       "  <tbody>\n",
       "    <tr>\n",
       "      <th>2020-03-03</th>\n",
       "      <td>1399.420044</td>\n",
       "      <td>1377.230347</td>\n",
       "    </tr>\n",
       "    <tr>\n",
       "      <th>2020-03-04</th>\n",
       "      <td>1359.229980</td>\n",
       "      <td>1422.323853</td>\n",
       "    </tr>\n",
       "    <tr>\n",
       "      <th>2020-03-05</th>\n",
       "      <td>1350.199951</td>\n",
       "      <td>1376.457153</td>\n",
       "    </tr>\n",
       "    <tr>\n",
       "      <th>2020-03-06</th>\n",
       "      <td>1277.060059</td>\n",
       "      <td>1366.789062</td>\n",
       "    </tr>\n",
       "    <tr>\n",
       "      <th>2020-03-09</th>\n",
       "      <td>1205.300049</td>\n",
       "      <td>1289.257935</td>\n",
       "    </tr>\n",
       "    <tr>\n",
       "      <th>...</th>\n",
       "      <td>...</td>\n",
       "      <td>...</td>\n",
       "    </tr>\n",
       "    <tr>\n",
       "      <th>2022-03-08</th>\n",
       "      <td>2525.010010</td>\n",
       "      <td>2597.874756</td>\n",
       "    </tr>\n",
       "    <tr>\n",
       "      <th>2022-03-09</th>\n",
       "      <td>2628.000000</td>\n",
       "      <td>2449.888184</td>\n",
       "    </tr>\n",
       "    <tr>\n",
       "      <th>2022-03-10</th>\n",
       "      <td>2629.250000</td>\n",
       "      <td>2645.677979</td>\n",
       "    </tr>\n",
       "    <tr>\n",
       "      <th>2022-03-11</th>\n",
       "      <td>2679.989990</td>\n",
       "      <td>2558.001465</td>\n",
       "    </tr>\n",
       "    <tr>\n",
       "      <th>2022-03-11</th>\n",
       "      <td>2679.989990</td>\n",
       "      <td>2658.637695</td>\n",
       "    </tr>\n",
       "  </tbody>\n",
       "</table>\n",
       "<p>513 rows × 2 columns</p>\n",
       "</div>"
      ],
      "text/plain": [
       "                   Open  Predictions\n",
       "Date                                \n",
       "2020-03-03  1399.420044  1377.230347\n",
       "2020-03-04  1359.229980  1422.323853\n",
       "2020-03-05  1350.199951  1376.457153\n",
       "2020-03-06  1277.060059  1366.789062\n",
       "2020-03-09  1205.300049  1289.257935\n",
       "...                 ...          ...\n",
       "2022-03-08  2525.010010  2597.874756\n",
       "2022-03-09  2628.000000  2449.888184\n",
       "2022-03-10  2629.250000  2645.677979\n",
       "2022-03-11  2679.989990  2558.001465\n",
       "2022-03-11  2679.989990  2658.637695\n",
       "\n",
       "[513 rows x 2 columns]"
      ]
     },
     "execution_count": 41,
     "metadata": {},
     "output_type": "execute_result"
    }
   ],
   "source": [
    "#show the valid and predicted prices\n",
    "valid"
   ]
  },
  {
   "cell_type": "code",
   "execution_count": 42,
   "id": "9bd8be1a",
   "metadata": {},
   "outputs": [
    {
     "name": "stdout",
     "output_type": "stream",
     "text": [
      "[[2686.2703]]\n"
     ]
    }
   ],
   "source": [
    "#get the Quote\n",
    "stock_quote = web.DataReader(STOCK, data_source = 'yahoo', start=START_DATE, end=END_DATE)\n",
    "#create new data frame\n",
    "new_df = stock_quote.filter(['Open'])\n",
    "#get the last 60 days closing price values and convert the dataframe to an array\n",
    "last_60_days = new_df[-60:].values\n",
    "#scale the data to be values between 0 and 1\n",
    "last_60_days_scaled = scaler.fit_transform(last_60_days)\n",
    "#create the empty list\n",
    "x_test = []\n",
    "#append the past 60 days\n",
    "x_test.append(last_60_days_scaled)\n",
    "#convert the x_test data set to a numpy array\n",
    "x_test = np.array(x_test)\n",
    "x_test = np.reshape(x_test,(x_test.shape[0],x_test.shape[1],1))\n",
    "#get the predicted scaled price\n",
    "pred_open_price = open_model.predict(x_test)\n",
    "#undo the scaling\n",
    "pred_open_price = scaler.inverse_transform(pred_open_price)\n",
    "print(pred_open_price)\n"
   ]
  },
  {
   "cell_type": "code",
   "execution_count": 43,
   "id": "58e072fe",
   "metadata": {},
   "outputs": [
    {
     "name": "stdout",
     "output_type": "stream",
     "text": [
      "Date\n",
      "2012-01-03     325.250885\n",
      "2012-01-04     331.273315\n",
      "2012-01-05     329.828735\n",
      "2012-01-06     328.344299\n",
      "2012-01-09     322.042908\n",
      "                 ...     \n",
      "2022-03-08    2525.010010\n",
      "2022-03-09    2628.000000\n",
      "2022-03-10    2629.250000\n",
      "2022-03-11    2679.989990\n",
      "2022-03-11    2679.989990\n",
      "Name: Open, Length: 2566, dtype: float64\n"
     ]
    }
   ],
   "source": [
    "stock_quote2 = web.DataReader(STOCK, data_source = 'yahoo', start=START_DATE, end=PREDICT_DATE)\n",
    "print(stock_quote2['Open'])"
   ]
  },
  {
   "cell_type": "code",
   "execution_count": 44,
   "id": "02916840",
   "metadata": {},
   "outputs": [],
   "source": [
    "open_model.save(open_model_path)\n",
    "loaded_open_model = load_model(open_model_path)\n"
   ]
  },
  {
   "cell_type": "code",
   "execution_count": 45,
   "id": "45962c4c",
   "metadata": {},
   "outputs": [],
   "source": [
    "import winsound\n",
    "frequency = 2500  # Set Frequency To 2500 Hertz\n",
    "duration = 1000  # Set Duration To 1000 ms == 1 second\n",
    "winsound.Beep(frequency, duration)"
   ]
  },
  {
   "cell_type": "code",
   "execution_count": null,
   "id": "06caa9ee",
   "metadata": {},
   "outputs": [],
   "source": [
    "print(\"Open price : \"+pred_open_price)\n",
    "print(\"close price : \"+pred_close_price)"
   ]
  }
 ],
 "metadata": {
  "colab": {
   "name": "apple stock forecast-checkpoint.ipynb",
   "provenance": []
  },
  "kernelspec": {
   "display_name": "Python 3 (ipykernel)",
   "language": "python",
   "name": "python3"
  },
  "language_info": {
   "codemirror_mode": {
    "name": "ipython",
    "version": 3
   },
   "file_extension": ".py",
   "mimetype": "text/x-python",
   "name": "python",
   "nbconvert_exporter": "python",
   "pygments_lexer": "ipython3",
   "version": "3.7.9"
  }
 },
 "nbformat": 4,
 "nbformat_minor": 5
}
