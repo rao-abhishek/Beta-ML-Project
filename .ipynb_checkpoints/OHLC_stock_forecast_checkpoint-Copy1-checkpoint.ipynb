{
 "cells": [
  {
   "cell_type": "code",
   "execution_count": 1,
   "id": "119ef146",
   "metadata": {
    "id": "119ef146"
   },
   "outputs": [],
   "source": [
    "#import the libraries\n",
    "import math\n",
    "import pandas_datareader as web\n",
    "import numpy as np\n",
    "from sklearn.preprocessing import MinMaxScaler\n",
    "from keras.models import Sequential\n",
    "from keras.layers import Dense, LSTM\n",
    "from keras.models import load_model\n",
    "import matplotlib.pyplot as plt\n",
    "plt.style.use('fivethirtyeight')\n",
    "import pickle\n",
    "import pandas as pd"
   ]
  },
  {
   "cell_type": "code",
   "execution_count": 2,
   "id": "3c6186b8",
   "metadata": {},
   "outputs": [],
   "source": [
    "#MACRO DEF\n",
    "\n",
    "STOCK = 'GOOG'\n",
    "EPOCHS = 100\n",
    "open_model_path = \"machine learning model/\"+STOCK+\"_open_model.h5\"\n",
    "high_model_path = \"machine learning model/\"+STOCK+\"_high_model.h5\"\n",
    "low_model_path = \"machine learning model/\"+STOCK+\"_low_model.h5\"\n",
    "close_model_path = \"machine learning model/\"+STOCK+\"_close_model.h5\"\n",
    "error_model_path = \"machine learning model/\"+STOCK+\"_error_model.h5\"\n",
    "error_data = \"machine learning model/\"+STOCK+\"_error_data.csv\"\n",
    "START_DATE = '2012-01-01'\n",
    "END_DATE = '2022-03-11'\n",
    "PREDICT_DATE = '2022-03-11'\n",
    "ERR_EPOCHS = 120"
   ]
  },
  {
   "cell_type": "code",
   "execution_count": 3,
   "id": "0baa4ed2",
   "metadata": {
    "id": "0baa4ed2",
    "outputId": "9b884812-40a4-4562-f722-55f12356c439"
   },
   "outputs": [
    {
     "data": {
      "text/html": [
       "<div>\n",
       "<style scoped>\n",
       "    .dataframe tbody tr th:only-of-type {\n",
       "        vertical-align: middle;\n",
       "    }\n",
       "\n",
       "    .dataframe tbody tr th {\n",
       "        vertical-align: top;\n",
       "    }\n",
       "\n",
       "    .dataframe thead th {\n",
       "        text-align: right;\n",
       "    }\n",
       "</style>\n",
       "<table border=\"1\" class=\"dataframe\">\n",
       "  <thead>\n",
       "    <tr style=\"text-align: right;\">\n",
       "      <th></th>\n",
       "      <th>High</th>\n",
       "      <th>Low</th>\n",
       "      <th>Open</th>\n",
       "      <th>Close</th>\n",
       "      <th>Volume</th>\n",
       "      <th>Adj Close</th>\n",
       "    </tr>\n",
       "    <tr>\n",
       "      <th>Date</th>\n",
       "      <th></th>\n",
       "      <th></th>\n",
       "      <th></th>\n",
       "      <th></th>\n",
       "      <th></th>\n",
       "      <th></th>\n",
       "    </tr>\n",
       "  </thead>\n",
       "  <tbody>\n",
       "    <tr>\n",
       "      <th>2012-01-03</th>\n",
       "      <td>332.827484</td>\n",
       "      <td>324.966949</td>\n",
       "      <td>325.250885</td>\n",
       "      <td>331.462585</td>\n",
       "      <td>7380561.0</td>\n",
       "      <td>331.462585</td>\n",
       "    </tr>\n",
       "    <tr>\n",
       "      <th>2012-01-04</th>\n",
       "      <td>333.873566</td>\n",
       "      <td>329.076538</td>\n",
       "      <td>331.273315</td>\n",
       "      <td>332.892242</td>\n",
       "      <td>5749470.0</td>\n",
       "      <td>332.892242</td>\n",
       "    </tr>\n",
       "    <tr>\n",
       "      <th>2012-01-05</th>\n",
       "      <td>330.745270</td>\n",
       "      <td>326.889740</td>\n",
       "      <td>329.828735</td>\n",
       "      <td>328.274536</td>\n",
       "      <td>6590410.0</td>\n",
       "      <td>328.274536</td>\n",
       "    </tr>\n",
       "    <tr>\n",
       "      <th>2012-01-06</th>\n",
       "      <td>328.767700</td>\n",
       "      <td>323.681763</td>\n",
       "      <td>328.344299</td>\n",
       "      <td>323.796326</td>\n",
       "      <td>5405987.0</td>\n",
       "      <td>323.796326</td>\n",
       "    </tr>\n",
       "    <tr>\n",
       "      <th>2012-01-09</th>\n",
       "      <td>322.291962</td>\n",
       "      <td>309.455078</td>\n",
       "      <td>322.042908</td>\n",
       "      <td>310.067780</td>\n",
       "      <td>11688849.0</td>\n",
       "      <td>310.067780</td>\n",
       "    </tr>\n",
       "    <tr>\n",
       "      <th>...</th>\n",
       "      <td>...</td>\n",
       "      <td>...</td>\n",
       "      <td>...</td>\n",
       "      <td>...</td>\n",
       "      <td>...</td>\n",
       "      <td>...</td>\n",
       "    </tr>\n",
       "    <tr>\n",
       "      <th>2022-03-08</th>\n",
       "      <td>2624.929932</td>\n",
       "      <td>2517.215088</td>\n",
       "      <td>2525.010010</td>\n",
       "      <td>2545.570068</td>\n",
       "      <td>1762500.0</td>\n",
       "      <td>2545.570068</td>\n",
       "    </tr>\n",
       "    <tr>\n",
       "      <th>2022-03-09</th>\n",
       "      <td>2683.969971</td>\n",
       "      <td>2601.760010</td>\n",
       "      <td>2628.000000</td>\n",
       "      <td>2677.320068</td>\n",
       "      <td>1612900.0</td>\n",
       "      <td>2677.320068</td>\n",
       "    </tr>\n",
       "    <tr>\n",
       "      <th>2022-03-10</th>\n",
       "      <td>2670.770020</td>\n",
       "      <td>2628.020020</td>\n",
       "      <td>2629.250000</td>\n",
       "      <td>2653.639893</td>\n",
       "      <td>1213300.0</td>\n",
       "      <td>2653.639893</td>\n",
       "    </tr>\n",
       "    <tr>\n",
       "      <th>2022-03-11</th>\n",
       "      <td>2684.000000</td>\n",
       "      <td>2605.929932</td>\n",
       "      <td>2679.989990</td>\n",
       "      <td>2609.510010</td>\n",
       "      <td>1328500.0</td>\n",
       "      <td>2609.510010</td>\n",
       "    </tr>\n",
       "    <tr>\n",
       "      <th>2022-03-11</th>\n",
       "      <td>2684.000000</td>\n",
       "      <td>2605.929932</td>\n",
       "      <td>2679.989990</td>\n",
       "      <td>2609.510010</td>\n",
       "      <td>1329990.0</td>\n",
       "      <td>2609.510010</td>\n",
       "    </tr>\n",
       "  </tbody>\n",
       "</table>\n",
       "<p>2566 rows × 6 columns</p>\n",
       "</div>"
      ],
      "text/plain": [
       "                   High          Low         Open        Close      Volume  \\\n",
       "Date                                                                         \n",
       "2012-01-03   332.827484   324.966949   325.250885   331.462585   7380561.0   \n",
       "2012-01-04   333.873566   329.076538   331.273315   332.892242   5749470.0   \n",
       "2012-01-05   330.745270   326.889740   329.828735   328.274536   6590410.0   \n",
       "2012-01-06   328.767700   323.681763   328.344299   323.796326   5405987.0   \n",
       "2012-01-09   322.291962   309.455078   322.042908   310.067780  11688849.0   \n",
       "...                 ...          ...          ...          ...         ...   \n",
       "2022-03-08  2624.929932  2517.215088  2525.010010  2545.570068   1762500.0   \n",
       "2022-03-09  2683.969971  2601.760010  2628.000000  2677.320068   1612900.0   \n",
       "2022-03-10  2670.770020  2628.020020  2629.250000  2653.639893   1213300.0   \n",
       "2022-03-11  2684.000000  2605.929932  2679.989990  2609.510010   1328500.0   \n",
       "2022-03-11  2684.000000  2605.929932  2679.989990  2609.510010   1329990.0   \n",
       "\n",
       "              Adj Close  \n",
       "Date                     \n",
       "2012-01-03   331.462585  \n",
       "2012-01-04   332.892242  \n",
       "2012-01-05   328.274536  \n",
       "2012-01-06   323.796326  \n",
       "2012-01-09   310.067780  \n",
       "...                 ...  \n",
       "2022-03-08  2545.570068  \n",
       "2022-03-09  2677.320068  \n",
       "2022-03-10  2653.639893  \n",
       "2022-03-11  2609.510010  \n",
       "2022-03-11  2609.510010  \n",
       "\n",
       "[2566 rows x 6 columns]"
      ]
     },
     "execution_count": 3,
     "metadata": {},
     "output_type": "execute_result"
    }
   ],
   "source": [
    "#get the stock data\n",
    "df = web.DataReader(STOCK, data_source='yahoo' , start=START_DATE , end=END_DATE)\n",
    "\n",
    "#show the data\n",
    "df\n"
   ]
  },
  {
   "cell_type": "code",
   "execution_count": 4,
   "id": "8728e389",
   "metadata": {
    "id": "8728e389",
    "outputId": "e7a718db-fa12-4da6-edda-fb36457372bd"
   },
   "outputs": [
    {
     "data": {
      "text/plain": [
       "(2566, 6)"
      ]
     },
     "execution_count": 4,
     "metadata": {},
     "output_type": "execute_result"
    }
   ],
   "source": [
    "#get the number of rows and column in the data set\n",
    "df.shape"
   ]
  },
  {
   "cell_type": "code",
   "execution_count": 5,
   "id": "ede5a4f5",
   "metadata": {
    "id": "ede5a4f5",
    "outputId": "0b002ebf-5dfe-41fe-d4d0-3f53cbffafc7"
   },
   "outputs": [
    {
     "data": {
      "image/png": "[encoded data removed]",
      "text/plain": [
       "<Figure size 1152x576 with 1 Axes>"
      ]
     },
     "metadata": {},
     "output_type": "display_data"
    }
   ],
   "source": [
    "#Visualing the closing price history\n",
    "plt.figure(figsize=(16,8))\n",
    "plt.title('Close Price History')\n",
    "plt.plot(df['Close'])\n",
    "plt.xlabel('Date', fontsize=18)\n",
    "plt.ylabel('Closing Price USD($)', fontsize=18)\n",
    "plt.show()"
   ]
  },
  {
   "cell_type": "code",
   "execution_count": 6,
   "id": "860e4005",
   "metadata": {
    "id": "860e4005",
    "outputId": "3f34f0f3-065f-4c1b-c72a-8c1d7f2ed887"
   },
   "outputs": [
    {
     "data": {
      "text/plain": [
       "2053"
      ]
     },
     "execution_count": 6,
     "metadata": {},
     "output_type": "execute_result"
    }
   ],
   "source": [
    "#Create a new data\n",
    "data = df.filter(['Close'])\n",
    "#convert the dataframe to a numpy array\n",
    "dataset = data.values\n",
    "#get the number of rows to train the model on\n",
    "training_data_len = math.ceil(len(dataset)*.8)\n",
    "training_data_len"
   ]
  },
  {
   "cell_type": "code",
   "execution_count": 7,
   "id": "83ae7dd3",
   "metadata": {
    "id": "83ae7dd3",
    "outputId": "b2b3173d-5c6a-495e-a268-4051931aa6ac"
   },
   "outputs": [
    {
     "data": {
      "text/plain": [
       "array([[0.01936668],\n",
       "       [0.01988928],\n",
       "       [0.01820133],\n",
       "       ...,\n",
       "       [0.86820916],\n",
       "       [0.85207804],\n",
       "       [0.85207804]])"
      ]
     },
     "execution_count": 7,
     "metadata": {},
     "output_type": "execute_result"
    }
   ],
   "source": [
    "#Scale the data\n",
    "scaler = MinMaxScaler(feature_range=(0,1))\n",
    "scaled_data = scaler.fit_transform(dataset)\n",
    "\n",
    "scaled_data"
   ]
  },
  {
   "cell_type": "code",
   "execution_count": 8,
   "id": "22de3219",
   "metadata": {
    "id": "22de3219",
    "outputId": "b1fd5125-11fa-43c5-86bf-d71a87b0857a"
   },
   "outputs": [
    {
     "name": "stdout",
     "output_type": "stream",
     "text": [
      "[array([0.01936668, 0.01988928, 0.01820133, 0.01656438, 0.01154608,\n",
      "       0.01166991, 0.01218339, 0.01285346, 0.01200677, 0.01266046,\n",
      "       0.01344889, 0.01466159, 0.0049054 , 0.00481982, 0.00398405,\n",
      "       0.00190099, 0.00164789, 0.00381107, 0.00339409, 0.00383474,\n",
      "       0.00396584, 0.00474517, 0.00678818, 0.00911159, 0.00868915,\n",
      "       0.00924999, 0.00954314, 0.00853257, 0.00967788, 0.0092336 ,\n",
      "       0.00846884, 0.00864364, 0.00830132, 0.01000564, 0.0089022 ,\n",
      "       0.00856898, 0.00925909, 0.00915165, 0.01080499, 0.0107795 ,\n",
      "       0.01153516, 0.01132577, 0.01005116, 0.00835958, 0.00869462,\n",
      "       0.00875653, 0.00750196, 0.00839417, 0.01069393, 0.01036799,\n",
      "       0.01130391, 0.01201587, 0.01364372, 0.0135545 , 0.01473624,\n",
      "       0.0158415 , 0.01521149, 0.01643874, 0.01601813, 0.01760956])]\n",
      "[0.016271218787306516]\n",
      "\n",
      "[array([0.01936668, 0.01988928, 0.01820133, 0.01656438, 0.01154608,\n",
      "       0.01166991, 0.01218339, 0.01285346, 0.01200677, 0.01266046,\n",
      "       0.01344889, 0.01466159, 0.0049054 , 0.00481982, 0.00398405,\n",
      "       0.00190099, 0.00164789, 0.00381107, 0.00339409, 0.00383474,\n",
      "       0.00396584, 0.00474517, 0.00678818, 0.00911159, 0.00868915,\n",
      "       0.00924999, 0.00954314, 0.00853257, 0.00967788, 0.0092336 ,\n",
      "       0.00846884, 0.00864364, 0.00830132, 0.01000564, 0.0089022 ,\n",
      "       0.00856898, 0.00925909, 0.00915165, 0.01080499, 0.0107795 ,\n",
      "       0.01153516, 0.01132577, 0.01005116, 0.00835958, 0.00869462,\n",
      "       0.00875653, 0.00750196, 0.00839417, 0.01069393, 0.01036799,\n",
      "       0.01130391, 0.01201587, 0.01364372, 0.0135545 , 0.01473624,\n",
      "       0.0158415 , 0.01521149, 0.01643874, 0.01601813, 0.01760956]), array([0.01988928, 0.01820133, 0.01656438, 0.01154608, 0.01166991,\n",
      "       0.01218339, 0.01285346, 0.01200677, 0.01266046, 0.01344889,\n",
      "       0.01466159, 0.0049054 , 0.00481982, 0.00398405, 0.00190099,\n",
      "       0.00164789, 0.00381107, 0.00339409, 0.00383474, 0.00396584,\n",
      "       0.00474517, 0.00678818, 0.00911159, 0.00868915, 0.00924999,\n",
      "       0.00954314, 0.00853257, 0.00967788, 0.0092336 , 0.00846884,\n",
      "       0.00864364, 0.00830132, 0.01000564, 0.0089022 , 0.00856898,\n",
      "       0.00925909, 0.00915165, 0.01080499, 0.0107795 , 0.01153516,\n",
      "       0.01132577, 0.01005116, 0.00835958, 0.00869462, 0.00875653,\n",
      "       0.00750196, 0.00839417, 0.01069393, 0.01036799, 0.01130391,\n",
      "       0.01201587, 0.01364372, 0.0135545 , 0.01473624, 0.0158415 ,\n",
      "       0.01521149, 0.01643874, 0.01601813, 0.01760956, 0.01627122])]\n",
      "[0.016271218787306516, 0.014965667792724943]\n",
      "\n"
     ]
    }
   ],
   "source": [
    "#creating the training data set\n",
    "#create the scaled training data set\n",
    "train_data = scaled_data[0:training_data_len,:]\n",
    "#split the data into x_train and y_train data sets\n",
    "x_train = []\n",
    "y_train = []\n",
    "for i in range(60, len(train_data)):\n",
    "    x_train.append(train_data[i-60:i,0])\n",
    "    y_train.append(train_data[i,0])\n",
    "    if i<=61:\n",
    "        print(x_train)\n",
    "        print(y_train)\n",
    "        print()"
   ]
  },
  {
   "cell_type": "code",
   "execution_count": 9,
   "id": "d58092dc",
   "metadata": {
    "id": "d58092dc"
   },
   "outputs": [],
   "source": [
    "#Convert the X_train and Y_train to numpy arrays\n",
    "x_train , y_train = np.array(x_train), np.array(y_train)"
   ]
  },
  {
   "cell_type": "code",
   "execution_count": 10,
   "id": "de162dec",
   "metadata": {
    "id": "de162dec",
    "outputId": "14201c32-f5ea-4645-ae7d-57a36706f4c6"
   },
   "outputs": [
    {
     "data": {
      "text/plain": [
       "(1993, 60, 1)"
      ]
     },
     "execution_count": 10,
     "metadata": {},
     "output_type": "execute_result"
    }
   ],
   "source": [
    "#Reshape the data\n",
    "x_train = np.reshape(x_train,(x_train.shape[0],x_train.shape[1],1))\n",
    "x_train.shape"
   ]
  },
  {
   "cell_type": "code",
   "execution_count": 11,
   "id": "eefcb209",
   "metadata": {
    "id": "eefcb209"
   },
   "outputs": [],
   "source": [
    "#Building the LSTM model\n",
    "close_model = Sequential()\n",
    "close_model.add(LSTM(50, return_sequences=True, input_shape =(x_train.shape[1],1)))\n",
    "close_model.add(LSTM(50, return_sequences=True))\n",
    "close_model.add(LSTM(50, return_sequences=True))\n",
    "close_model.add(LSTM(50, return_sequences=False))\n",
    "close_model.add(Dense(25))\n",
    "close_model.add(Dense(1))"
   ]
  },
  {
   "cell_type": "code",
   "execution_count": 12,
   "id": "eeab6098",
   "metadata": {
    "id": "eeab6098"
   },
   "outputs": [],
   "source": [
    "#compile the Model\n",
    "close_model.compile(optimizer='adam', loss='mean_squared_error')\n"
   ]
  },
  {
   "cell_type": "code",
   "execution_count": 13,
   "id": "8729081e",
   "metadata": {
    "id": "8729081e",
    "outputId": "95c61fc5-cbb8-42a5-a649-7ee43b055955",
    "scrolled": true
   },
   "outputs": [
    {
     "name": "stdout",
     "output_type": "stream",
     "text": [
      "Epoch 1/100\n",
      "63/63 [==============================] - 11s 82ms/step - loss: 0.0029\n",
      "Epoch 2/100\n",
      "63/63 [==============================] - 5s 82ms/step - loss: 2.0032e-04\n",
      "Epoch 3/100\n",
      "63/63 [==============================] - 6s 90ms/step - loss: 1.8190e-04\n",
      "Epoch 4/100\n",
      "63/63 [==============================] - 10s 152ms/step - loss: 1.7013e-04\n",
      "Epoch 5/100\n",
      "63/63 [==============================] - 7s 110ms/step - loss: 1.6637e-04\n",
      "Epoch 6/100\n",
      "63/63 [==============================] - 5s 83ms/step - loss: 1.9679e-04\n",
      "Epoch 7/100\n",
      "63/63 [==============================] - 7s 112ms/step - loss: 1.5841e-04\n",
      "Epoch 8/100\n",
      "63/63 [==============================] - 9s 151ms/step - loss: 1.5400e-04\n",
      "Epoch 9/100\n",
      "63/63 [==============================] - 10s 152ms/step - loss: 1.7177e-04\n",
      "Epoch 10/100\n",
      "63/63 [==============================] - 5s 78ms/step - loss: 1.5804e-04\n",
      "Epoch 11/100\n",
      "63/63 [==============================] - 9s 143ms/step - loss: 1.4912e-04\n",
      "Epoch 12/100\n",
      "63/63 [==============================] - 9s 147ms/step - loss: 1.4394e-04\n",
      "Epoch 13/100\n",
      "63/63 [==============================] - 5s 80ms/step - loss: 1.7879e-04\n",
      "Epoch 14/100\n",
      "63/63 [==============================] - 8s 132ms/step - loss: 1.3648e-04\n",
      "Epoch 15/100\n",
      "63/63 [==============================] - 10s 152ms/step - loss: 1.3144e-04\n",
      "Epoch 16/100\n",
      "63/63 [==============================] - 10s 152ms/step - loss: 1.3233e-04\n",
      "Epoch 17/100\n",
      "63/63 [==============================] - 6s 98ms/step - loss: 1.3730e-04\n",
      "Epoch 18/100\n",
      "63/63 [==============================] - 7s 111ms/step - loss: 1.3371e-04\n",
      "Epoch 19/100\n",
      "63/63 [==============================] - 10s 152ms/step - loss: 1.5516e-04\n",
      "Epoch 20/100\n",
      "63/63 [==============================] - 10s 152ms/step - loss: 1.2423e-04\n",
      "Epoch 21/100\n",
      "63/63 [==============================] - 7s 113ms/step - loss: 1.3029e-04\n",
      "Epoch 22/100\n",
      "63/63 [==============================] - 5s 86ms/step - loss: 1.2721e-04\n",
      "Epoch 23/100\n",
      "63/63 [==============================] - 10s 160ms/step - loss: 1.0943e-04\n",
      "Epoch 24/100\n",
      "63/63 [==============================] - 10s 156ms/step - loss: 1.2386e-04\n",
      "Epoch 25/100\n",
      "63/63 [==============================] - 10s 153ms/step - loss: 1.0389e-04\n",
      "Epoch 26/100\n",
      "63/63 [==============================] - 10s 157ms/step - loss: 1.1801e-04\n",
      "Epoch 27/100\n",
      "63/63 [==============================] - 10s 154ms/step - loss: 1.0291e-04\n",
      "Epoch 28/100\n",
      "63/63 [==============================] - 6s 87ms/step - loss: 1.1421e-04\n",
      "Epoch 29/100\n",
      "63/63 [==============================] - 9s 137ms/step - loss: 1.1133e-04\n",
      "Epoch 30/100\n",
      "63/63 [==============================] - 10s 153ms/step - loss: 1.6809e-04\n",
      "Epoch 31/100\n",
      "63/63 [==============================] - 10s 154ms/step - loss: 1.1853e-04\n",
      "Epoch 32/100\n",
      "63/63 [==============================] - 9s 136ms/step - loss: 8.0900e-05\n",
      "Epoch 33/100\n",
      "63/63 [==============================] - 5s 80ms/step - loss: 9.4206e-05\n",
      "Epoch 34/100\n",
      "63/63 [==============================] - 10s 152ms/step - loss: 8.5383e-05\n",
      "Epoch 35/100\n",
      "63/63 [==============================] - 10s 153ms/step - loss: 7.9449e-05\n",
      "Epoch 36/100\n",
      "63/63 [==============================] - 10s 153ms/step - loss: 7.8177e-05\n",
      "Epoch 37/100\n",
      "63/63 [==============================] - 7s 104ms/step - loss: 7.1995e-05\n",
      "Epoch 38/100\n",
      "63/63 [==============================] - 5s 86ms/step - loss: 6.2809e-05\n",
      "Epoch 39/100\n",
      "63/63 [==============================] - 8s 132ms/step - loss: 7.2526e-05\n",
      "Epoch 40/100\n",
      "63/63 [==============================] - 10s 153ms/step - loss: 9.4032e-05\n",
      "Epoch 41/100\n",
      "63/63 [==============================] - 10s 153ms/step - loss: 6.1856e-05\n",
      "Epoch 42/100\n",
      "63/63 [==============================] - 10s 153ms/step - loss: 5.5886e-05\n",
      "Epoch 43/100\n",
      "63/63 [==============================] - 10s 152ms/step - loss: 5.4947e-05\n",
      "Epoch 44/100\n",
      "63/63 [==============================] - 10s 154ms/step - loss: 5.2627e-05\n",
      "Epoch 45/100\n",
      "63/63 [==============================] - 10s 155ms/step - loss: 5.1171e-05\n",
      "Epoch 46/100\n",
      "63/63 [==============================] - 8s 133ms/step - loss: 5.0865e-05\n",
      "Epoch 47/100\n",
      "63/63 [==============================] - 6s 90ms/step - loss: 4.7873e-05\n",
      "Epoch 48/100\n",
      "63/63 [==============================] - 10s 152ms/step - loss: 4.2637e-05\n",
      "Epoch 49/100\n",
      "63/63 [==============================] - 10s 153ms/step - loss: 4.3891e-05\n",
      "Epoch 50/100\n",
      "63/63 [==============================] - 10s 152ms/step - loss: 3.9391e-05\n",
      "Epoch 51/100\n",
      "63/63 [==============================] - 10s 155ms/step - loss: 4.6475e-05\n",
      "Epoch 52/100\n",
      "63/63 [==============================] - 10s 161ms/step - loss: 3.7901e-05\n",
      "Epoch 53/100\n",
      "63/63 [==============================] - 10s 153ms/step - loss: 4.0405e-05\n",
      "Epoch 54/100\n",
      "63/63 [==============================] - 10s 152ms/step - loss: 3.6985e-05\n",
      "Epoch 55/100\n",
      "63/63 [==============================] - 9s 150ms/step - loss: 3.6921e-05\n",
      "Epoch 56/100\n",
      "63/63 [==============================] - 5s 79ms/step - loss: 3.1931e-05\n",
      "Epoch 57/100\n",
      "63/63 [==============================] - 7s 118ms/step - loss: 3.4768e-05\n",
      "Epoch 58/100\n",
      "63/63 [==============================] - 10s 155ms/step - loss: 3.2824e-05\n",
      "Epoch 59/100\n",
      "63/63 [==============================] - 10s 154ms/step - loss: 3.2885e-05\n",
      "Epoch 60/100\n",
      "63/63 [==============================] - 10s 154ms/step - loss: 2.7667e-05\n",
      "Epoch 61/100\n",
      "63/63 [==============================] - 10s 152ms/step - loss: 3.2075e-05\n",
      "Epoch 62/100\n",
      "63/63 [==============================] - 10s 154ms/step - loss: 3.1271e-05\n",
      "Epoch 63/100\n",
      "63/63 [==============================] - 6s 93ms/step - loss: 3.0435e-05\n",
      "Epoch 64/100\n",
      "63/63 [==============================] - 7s 105ms/step - loss: 3.5892e-05\n",
      "Epoch 65/100\n",
      "63/63 [==============================] - 9s 135ms/step - loss: 3.3795e-05\n",
      "Epoch 66/100\n",
      "63/63 [==============================] - 6s 93ms/step - loss: 3.7971e-05\n",
      "Epoch 67/100\n",
      "63/63 [==============================] - 5s 87ms/step - loss: 2.5530e-05\n",
      "Epoch 68/100\n",
      "63/63 [==============================] - 6s 90ms/step - loss: 2.7078e-05\n",
      "Epoch 69/100\n",
      "63/63 [==============================] - 5s 84ms/step - loss: 3.6874e-05\n",
      "Epoch 70/100\n",
      "63/63 [==============================] - 6s 92ms/step - loss: 3.7100e-05\n",
      "Epoch 71/100\n",
      "63/63 [==============================] - 5s 86ms/step - loss: 2.9662e-05\n",
      "Epoch 72/100\n",
      "63/63 [==============================] - 5s 84ms/step - loss: 2.5883e-05\n",
      "Epoch 73/100\n",
      "63/63 [==============================] - 6s 89ms/step - loss: 2.8326e-05\n",
      "Epoch 74/100\n",
      "63/63 [==============================] - 5s 85ms/step - loss: 3.4127e-05\n",
      "Epoch 75/100\n",
      "63/63 [==============================] - 6s 88ms/step - loss: 3.8251e-05\n",
      "Epoch 76/100\n",
      "63/63 [==============================] - 6s 90ms/step - loss: 2.8205e-05\n",
      "Epoch 77/100\n",
      "63/63 [==============================] - 6s 90ms/step - loss: 3.3314e-05\n",
      "Epoch 78/100\n",
      "63/63 [==============================] - 6s 91ms/step - loss: 2.9205e-05\n",
      "Epoch 79/100\n",
      "63/63 [==============================] - 5s 87ms/step - loss: 3.3300e-05\n",
      "Epoch 80/100\n",
      "63/63 [==============================] - 6s 87ms/step - loss: 5.6907e-05\n",
      "Epoch 81/100\n",
      "63/63 [==============================] - 6s 89ms/step - loss: 2.9373e-05\n",
      "Epoch 82/100\n",
      "63/63 [==============================] - 7s 104ms/step - loss: 2.7387e-05\n",
      "Epoch 83/100\n",
      "63/63 [==============================] - 5s 85ms/step - loss: 2.6544e-05\n",
      "Epoch 84/100\n",
      "63/63 [==============================] - 5s 85ms/step - loss: 3.2399e-05\n",
      "Epoch 85/100\n",
      "63/63 [==============================] - 6s 89ms/step - loss: 2.5066e-05\n",
      "Epoch 86/100\n",
      "63/63 [==============================] - 6s 89ms/step - loss: 2.7730e-05\n",
      "Epoch 87/100\n",
      "63/63 [==============================] - 6s 88ms/step - loss: 3.1138e-05\n",
      "Epoch 88/100\n",
      "63/63 [==============================] - 6s 91ms/step - loss: 3.1938e-05\n",
      "Epoch 89/100\n",
      "63/63 [==============================] - 6s 98ms/step - loss: 2.9686e-05\n",
      "Epoch 90/100\n",
      "63/63 [==============================] - 6s 95ms/step - loss: 2.7903e-05\n",
      "Epoch 91/100\n",
      "63/63 [==============================] - 6s 92ms/step - loss: 2.8194e-05\n",
      "Epoch 92/100\n",
      "63/63 [==============================] - 6s 92ms/step - loss: 3.0746e-05\n",
      "Epoch 93/100\n",
      "63/63 [==============================] - 6s 91ms/step - loss: 2.8472e-05\n",
      "Epoch 94/100\n",
      "63/63 [==============================] - 7s 109ms/step - loss: 3.6786e-05\n",
      "Epoch 95/100\n"
     ]
    },
    {
     "name": "stdout",
     "output_type": "stream",
     "text": [
      "63/63 [==============================] - 5s 83ms/step - loss: 2.9029e-05\n",
      "Epoch 96/100\n",
      "63/63 [==============================] - 5s 84ms/step - loss: 2.9905e-05\n",
      "Epoch 97/100\n",
      "63/63 [==============================] - 6s 90ms/step - loss: 3.5510e-05\n",
      "Epoch 98/100\n",
      "63/63 [==============================] - 6s 89ms/step - loss: 2.8810e-05\n",
      "Epoch 99/100\n",
      "63/63 [==============================] - 6s 88ms/step - loss: 2.8953e-05\n",
      "Epoch 100/100\n",
      "63/63 [==============================] - 5s 86ms/step - loss: 3.0844e-05\n"
     ]
    },
    {
     "data": {
      "text/plain": [
       "<keras.callbacks.History at 0x1e1f3a8cd48>"
      ]
     },
     "execution_count": 13,
     "metadata": {},
     "output_type": "execute_result"
    }
   ],
   "source": [
    "#train the model\n",
    "close_model.fit(x_train, y_train, batch_size=32, epochs=EPOCHS)"
   ]
  },
  {
   "cell_type": "code",
   "execution_count": 14,
   "id": "1ffb2cf5",
   "metadata": {
    "id": "1ffb2cf5"
   },
   "outputs": [],
   "source": [
    "#create the testing data set\n",
    "#create a new array containing scaled values from index 1543 to 2003\n",
    "test_data = scaled_data[training_data_len - 60: , :]\n",
    "#create the data sets x_test adn y_test\n",
    "x_test = []\n",
    "y_test = dataset[training_data_len:,:]\n",
    "for i in range(60, len(test_data)):\n",
    "    x_test.append(test_data[i-60:i,0])\n",
    "    \n",
    "    \n"
   ]
  },
  {
   "cell_type": "code",
   "execution_count": 15,
   "id": "e47d88b9",
   "metadata": {
    "id": "e47d88b9"
   },
   "outputs": [],
   "source": [
    "#convert the data to a numpy array\n",
    "x_test = np.array(x_test)"
   ]
  },
  {
   "cell_type": "code",
   "execution_count": 16,
   "id": "ab219d64",
   "metadata": {
    "id": "ab219d64"
   },
   "outputs": [],
   "source": [
    "#resahpe the data\n",
    "x_test = np.reshape(x_test,(x_test.shape[0],x_test.shape[1],1))"
   ]
  },
  {
   "cell_type": "code",
   "execution_count": 17,
   "id": "f0e9563d",
   "metadata": {
    "id": "f0e9563d"
   },
   "outputs": [],
   "source": [
    "#get the models predicted price values\n",
    "predictions = close_model.predict(x_test)\n",
    "predictions = scaler.inverse_transform(predictions)"
   ]
  },
  {
   "cell_type": "code",
   "execution_count": 18,
   "id": "c366802e",
   "metadata": {
    "id": "c366802e",
    "outputId": "f50b6f6e-e0a7-41fa-ac47-e5623cd84398"
   },
   "outputs": [
    {
     "data": {
      "text/plain": [
       "36.62258952774732"
      ]
     },
     "execution_count": 18,
     "metadata": {},
     "output_type": "execute_result"
    }
   ],
   "source": [
    "#get the root mean squared error (RMSE)\n",
    "rmse =  np.sqrt(np.mean(predictions - y_test)**2)\n",
    "rmse"
   ]
  },
  {
   "cell_type": "code",
   "execution_count": 19,
   "id": "30fda6a3",
   "metadata": {
    "id": "30fda6a3",
    "outputId": "ea646a8d-4c11-4038-aa38-e998e92d3d07"
   },
   "outputs": [
    {
     "name": "stderr",
     "output_type": "stream",
     "text": [
      "C:\\Users\\Abhishek Rao\\AppData\\Local\\Packages\\PythonSoftwareFoundation.Python.3.7_qbz5n2kfra8p0\\LocalCache\\local-packages\\Python37\\site-packages\\ipykernel_launcher.py:4: SettingWithCopyWarning: \n",
      "A value is trying to be set on a copy of a slice from a DataFrame.\n",
      "Try using .loc[row_indexer,col_indexer] = value instead\n",
      "\n",
      "See the caveats in the documentation: https://pandas.pydata.org/pandas-docs/stable/user_guide/indexing.html#returning-a-view-versus-a-copy\n",
      "  after removing the cwd from sys.path.\n"
     ]
    },
    {
     "data": {
      "image/png": "[encoded data removed]",
      "text/plain": [
       "<Figure size 1152x576 with 1 Axes>"
      ]
     },
     "metadata": {},
     "output_type": "display_data"
    }
   ],
   "source": [
    "#plot the date\n",
    "train = data[:training_data_len]\n",
    "valid = data[training_data_len:]\n",
    "valid['Predictions'] = predictions\n",
    "#visualize the data\n",
    "plt.figure(figsize=(16,8))\n",
    "plt.title('Model')\n",
    "plt.xlabel('Date')\n",
    "plt.ylabel('Close Price USD ($)')\n",
    "plt.plot(train['Close'])\n",
    "plt.plot(valid[['Close', 'Predictions']])\n",
    "plt.legend(['Train', 'Val', 'Predictions'], loc='lower right')\n",
    "plt.show()"
   ]
  },
  {
   "cell_type": "code",
   "execution_count": 20,
   "id": "94010774",
   "metadata": {
    "id": "94010774",
    "outputId": "52e5e20d-08d8-4359-96a1-e9c494ef7704"
   },
   "outputs": [
    {
     "data": {
      "text/html": [
       "<div>\n",
       "<style scoped>\n",
       "    .dataframe tbody tr th:only-of-type {\n",
       "        vertical-align: middle;\n",
       "    }\n",
       "\n",
       "    .dataframe tbody tr th {\n",
       "        vertical-align: top;\n",
       "    }\n",
       "\n",
       "    .dataframe thead th {\n",
       "        text-align: right;\n",
       "    }\n",
       "</style>\n",
       "<table border=\"1\" class=\"dataframe\">\n",
       "  <thead>\n",
       "    <tr style=\"text-align: right;\">\n",
       "      <th></th>\n",
       "      <th>Close</th>\n",
       "      <th>Predictions</th>\n",
       "    </tr>\n",
       "    <tr>\n",
       "      <th>Date</th>\n",
       "      <th></th>\n",
       "      <th></th>\n",
       "    </tr>\n",
       "  </thead>\n",
       "  <tbody>\n",
       "    <tr>\n",
       "      <th>2020-03-03</th>\n",
       "      <td>1341.390015</td>\n",
       "      <td>1402.383911</td>\n",
       "    </tr>\n",
       "    <tr>\n",
       "      <th>2020-03-04</th>\n",
       "      <td>1386.520020</td>\n",
       "      <td>1339.423828</td>\n",
       "    </tr>\n",
       "    <tr>\n",
       "      <th>2020-03-05</th>\n",
       "      <td>1319.040039</td>\n",
       "      <td>1410.911621</td>\n",
       "    </tr>\n",
       "    <tr>\n",
       "      <th>2020-03-06</th>\n",
       "      <td>1298.410034</td>\n",
       "      <td>1306.084106</td>\n",
       "    </tr>\n",
       "    <tr>\n",
       "      <th>2020-03-09</th>\n",
       "      <td>1215.560059</td>\n",
       "      <td>1313.956787</td>\n",
       "    </tr>\n",
       "    <tr>\n",
       "      <th>...</th>\n",
       "      <td>...</td>\n",
       "      <td>...</td>\n",
       "    </tr>\n",
       "    <tr>\n",
       "      <th>2022-03-08</th>\n",
       "      <td>2545.570068</td>\n",
       "      <td>2400.576660</td>\n",
       "    </tr>\n",
       "    <tr>\n",
       "      <th>2022-03-09</th>\n",
       "      <td>2677.320068</td>\n",
       "      <td>2577.314697</td>\n",
       "    </tr>\n",
       "    <tr>\n",
       "      <th>2022-03-10</th>\n",
       "      <td>2653.639893</td>\n",
       "      <td>2651.200928</td>\n",
       "    </tr>\n",
       "    <tr>\n",
       "      <th>2022-03-11</th>\n",
       "      <td>2609.510010</td>\n",
       "      <td>2524.907471</td>\n",
       "    </tr>\n",
       "    <tr>\n",
       "      <th>2022-03-11</th>\n",
       "      <td>2609.510010</td>\n",
       "      <td>2562.727539</td>\n",
       "    </tr>\n",
       "  </tbody>\n",
       "</table>\n",
       "<p>513 rows × 2 columns</p>\n",
       "</div>"
      ],
      "text/plain": [
       "                  Close  Predictions\n",
       "Date                                \n",
       "2020-03-03  1341.390015  1402.383911\n",
       "2020-03-04  1386.520020  1339.423828\n",
       "2020-03-05  1319.040039  1410.911621\n",
       "2020-03-06  1298.410034  1306.084106\n",
       "2020-03-09  1215.560059  1313.956787\n",
       "...                 ...          ...\n",
       "2022-03-08  2545.570068  2400.576660\n",
       "2022-03-09  2677.320068  2577.314697\n",
       "2022-03-10  2653.639893  2651.200928\n",
       "2022-03-11  2609.510010  2524.907471\n",
       "2022-03-11  2609.510010  2562.727539\n",
       "\n",
       "[513 rows x 2 columns]"
      ]
     },
     "execution_count": 20,
     "metadata": {},
     "output_type": "execute_result"
    }
   ],
   "source": [
    "#show the valid and predicted prices\n",
    "valid"
   ]
  },
  {
   "cell_type": "code",
   "execution_count": 21,
   "id": "be8deaf4",
   "metadata": {
    "id": "be8deaf4",
    "outputId": "b9b9bea2-8f3f-4d3c-c9f8-88087470817f"
   },
   "outputs": [
    {
     "name": "stdout",
     "output_type": "stream",
     "text": [
      "[[2614.3704]]\n"
     ]
    }
   ],
   "source": [
    "#get the Quote\n",
    "stock_quote = web.DataReader(STOCK, data_source = 'yahoo', start=START_DATE, end=END_DATE)\n",
    "#create new data frame\n",
    "new_df = stock_quote.filter(['Close'])\n",
    "#get the last 60 days closing price values and convert the dataframe to an array\n",
    "last_60_days = new_df[-60:].values\n",
    "#scale the data to be values between 0 and 1\n",
    "last_60_days_scaled = scaler.fit_transform(last_60_days)\n",
    "#create the empty list\n",
    "x_test = []\n",
    "#append the past 60 days\n",
    "x_test.append(last_60_days_scaled)\n",
    "#convert the x_test data set to a numpy array\n",
    "x_test = np.array(x_test)\n",
    "x_test = np.reshape(x_test,(x_test.shape[0],x_test.shape[1],1))\n",
    "#get the predicted scaled price\n",
    "close_pred_price = close_model.predict(x_test)\n",
    "#undo the scaling\n",
    "close_pred_price = scaler.inverse_transform(close_pred_price)\n",
    "print(close_pred_price)\n"
   ]
  },
  {
   "cell_type": "code",
   "execution_count": 22,
   "id": "c2efab6b",
   "metadata": {
    "id": "c2efab6b",
    "outputId": "598b1ec6-771b-46c3-c09e-ab3bad3f1d95",
    "scrolled": true
   },
   "outputs": [
    {
     "name": "stdout",
     "output_type": "stream",
     "text": [
      "Date\n",
      "2012-01-03     331.462585\n",
      "2012-01-04     332.892242\n",
      "2012-01-05     328.274536\n",
      "2012-01-06     323.796326\n",
      "2012-01-09     310.067780\n",
      "                 ...     \n",
      "2022-03-08    2545.570068\n",
      "2022-03-09    2677.320068\n",
      "2022-03-10    2653.639893\n",
      "2022-03-11    2609.510010\n",
      "2022-03-11    2609.510010\n",
      "Name: Close, Length: 2566, dtype: float64\n"
     ]
    }
   ],
   "source": [
    "stock_quote2 = web.DataReader(STOCK, data_source = 'yahoo', start=START_DATE, end=PREDICT_DATE)\n",
    "print(stock_quote2['Close'])"
   ]
  },
  {
   "cell_type": "code",
   "execution_count": 23,
   "id": "bfd5c96d",
   "metadata": {
    "id": "bfd5c96d"
   },
   "outputs": [],
   "source": [
    "close_model.save(close_model_path)\n",
    "loaded_close_model = load_model(close_model_path)\n"
   ]
  },
  {
   "cell_type": "code",
   "execution_count": 24,
   "id": "7b7a7951",
   "metadata": {
    "scrolled": true
   },
   "outputs": [
    {
     "name": "stdout",
     "output_type": "stream",
     "text": [
      "Date\n",
      "2012-01-03     331.462585\n",
      "2012-01-04     332.892242\n",
      "2012-01-05     328.274536\n",
      "2012-01-06     323.796326\n",
      "2012-01-09     310.067780\n",
      "                 ...     \n",
      "2022-03-08    2545.570068\n",
      "2022-03-09    2677.320068\n",
      "2022-03-10    2653.639893\n",
      "2022-03-11    2609.510010\n",
      "2022-03-11    2609.510010\n",
      "Name: Close, Length: 2566, dtype: float64\n"
     ]
    }
   ],
   "source": [
    "stock_quote2 = web.DataReader(STOCK, data_source = 'yahoo', start=START_DATE, end=PREDICT_DATE)\n",
    "print(stock_quote2['Close'])"
   ]
  },
  {
   "cell_type": "code",
   "execution_count": 25,
   "id": "2d66ed1a",
   "metadata": {},
   "outputs": [],
   "source": [
    "import winsound\n",
    "frequency = 2500  # Set Frequency To 2500 Hertz\n",
    "duration = 1000  # Set Duration To 1000 ms == 1 second\n",
    "winsound.Beep(frequency, duration)"
   ]
  },
  {
   "cell_type": "code",
   "execution_count": 26,
   "id": "c97e41ba",
   "metadata": {},
   "outputs": [
    {
     "data": {
      "image/png": "[encoded data removed]",
      "text/plain": [
       "<Figure size 1152x576 with 1 Axes>"
      ]
     },
     "metadata": {},
     "output_type": "display_data"
    }
   ],
   "source": [
    "#Visualing the closing price history\n",
    "plt.figure(figsize=(16,8))\n",
    "plt.title('Open Price History')\n",
    "plt.plot(df['Open'])\n",
    "plt.xlabel('Date', fontsize=18)\n",
    "plt.ylabel('Open Price USD($)', fontsize=18)\n",
    "plt.show()"
   ]
  },
  {
   "cell_type": "code",
   "execution_count": 27,
   "id": "2bace870",
   "metadata": {},
   "outputs": [
    {
     "data": {
      "text/plain": [
       "2053"
      ]
     },
     "execution_count": 27,
     "metadata": {},
     "output_type": "execute_result"
    }
   ],
   "source": [
    "#Create a new data\n",
    "data = df.filter(['Open'])\n",
    "#convert the dataframe to a numpy array\n",
    "dataset = data.values\n",
    "#get the number of rows to train the model on\n",
    "training_data_len = math.ceil(len(dataset)*.8)\n",
    "training_data_len"
   ]
  },
  {
   "cell_type": "code",
   "execution_count": 28,
   "id": "9418c0a7",
   "metadata": {},
   "outputs": [
    {
     "data": {
      "text/plain": [
       "array([[0.01672395],\n",
       "       [0.01890746],\n",
       "       [0.01838371],\n",
       "       ...,\n",
       "       [0.8520673 ],\n",
       "       [0.87046371],\n",
       "       [0.87046371]])"
      ]
     },
     "execution_count": 28,
     "metadata": {},
     "output_type": "execute_result"
    }
   ],
   "source": [
    "#Scale the data\n",
    "scaler = MinMaxScaler(feature_range=(0,1))\n",
    "scaled_data = scaler.fit_transform(dataset)\n",
    "\n",
    "scaled_data"
   ]
  },
  {
   "cell_type": "code",
   "execution_count": 29,
   "id": "e7d82de6",
   "metadata": {},
   "outputs": [
    {
     "name": "stdout",
     "output_type": "stream",
     "text": [
      "[array([0.01672395, 0.01890746, 0.01838371, 0.01784551, 0.01556086,\n",
      "       0.01253574, 0.01140696, 0.01280122, 0.01190543, 0.01293849,\n",
      "       0.01197225, 0.01456573, 0.00545244, 0.0046343 , 0.0046921 ,\n",
      "       0.00310098, 0.00210223, 0.00188551, 0.0031985 , 0.00409249,\n",
      "       0.00444286, 0.00443022, 0.00547592, 0.00626155, 0.00845408,\n",
      "       0.00872318, 0.00933362, 0.00858593, 0.0090591 , 0.00924693,\n",
      "       0.00949798, 0.00767206, 0.00806036, 0.0078617 , 0.00932279,\n",
      "       0.008427  , 0.00849021, 0.00835294, 0.0089688 , 0.010522  ,\n",
      "       0.01118302, 0.01113606, 0.01085251, 0.00861663, 0.00879723,\n",
      "       0.00897603, 0.00859856, 0.00716276, 0.00874304, 0.00987182,\n",
      "       0.0101608 , 0.01093559, 0.01133833, 0.01274704, 0.01341348,\n",
      "       0.01411602, 0.01557892, 0.01528996, 0.01565658, 0.0165596 ])]\n",
      "[0.016814249727392233]\n",
      "\n",
      "[array([0.01672395, 0.01890746, 0.01838371, 0.01784551, 0.01556086,\n",
      "       0.01253574, 0.01140696, 0.01280122, 0.01190543, 0.01293849,\n",
      "       0.01197225, 0.01456573, 0.00545244, 0.0046343 , 0.0046921 ,\n",
      "       0.00310098, 0.00210223, 0.00188551, 0.0031985 , 0.00409249,\n",
      "       0.00444286, 0.00443022, 0.00547592, 0.00626155, 0.00845408,\n",
      "       0.00872318, 0.00933362, 0.00858593, 0.0090591 , 0.00924693,\n",
      "       0.00949798, 0.00767206, 0.00806036, 0.0078617 , 0.00932279,\n",
      "       0.008427  , 0.00849021, 0.00835294, 0.0089688 , 0.010522  ,\n",
      "       0.01118302, 0.01113606, 0.01085251, 0.00861663, 0.00879723,\n",
      "       0.00897603, 0.00859856, 0.00716276, 0.00874304, 0.00987182,\n",
      "       0.0101608 , 0.01093559, 0.01133833, 0.01274704, 0.01341348,\n",
      "       0.01411602, 0.01557892, 0.01528996, 0.01565658, 0.0165596 ]), array([0.01890746, 0.01838371, 0.01784551, 0.01556086, 0.01253574,\n",
      "       0.01140696, 0.01280122, 0.01190543, 0.01293849, 0.01197225,\n",
      "       0.01456573, 0.00545244, 0.0046343 , 0.0046921 , 0.00310098,\n",
      "       0.00210223, 0.00188551, 0.0031985 , 0.00409249, 0.00444286,\n",
      "       0.00443022, 0.00547592, 0.00626155, 0.00845408, 0.00872318,\n",
      "       0.00933362, 0.00858593, 0.0090591 , 0.00924693, 0.00949798,\n",
      "       0.00767206, 0.00806036, 0.0078617 , 0.00932279, 0.008427  ,\n",
      "       0.00849021, 0.00835294, 0.0089688 , 0.010522  , 0.01118302,\n",
      "       0.01113606, 0.01085251, 0.00861663, 0.00879723, 0.00897603,\n",
      "       0.00859856, 0.00716276, 0.00874304, 0.00987182, 0.0101608 ,\n",
      "       0.01093559, 0.01133833, 0.01274704, 0.01341348, 0.01411602,\n",
      "       0.01557892, 0.01528996, 0.01565658, 0.0165596 , 0.01681425])]\n",
      "[0.016814249727392233, 0.016509034804304393]\n",
      "\n"
     ]
    }
   ],
   "source": [
    "#creating the training data set\n",
    "#create the scaled training data set\n",
    "train_data = scaled_data[0:training_data_len,:]\n",
    "#split the data into x_train and y_train data sets\n",
    "x_train = []\n",
    "y_train = []\n",
    "for i in range(60, len(train_data)):\n",
    "    x_train.append(train_data[i-60:i,0])\n",
    "    y_train.append(train_data[i,0])\n",
    "    if i<=61:\n",
    "        print(x_train)\n",
    "        print(y_train)\n",
    "        print()"
   ]
  },
  {
   "cell_type": "code",
   "execution_count": 30,
   "id": "185a6181",
   "metadata": {},
   "outputs": [],
   "source": [
    "#Convert the X_train and Y_train to numpy arrays\n",
    "x_train , y_train = np.array(x_train), np.array(y_train)"
   ]
  },
  {
   "cell_type": "code",
   "execution_count": 31,
   "id": "5e140f5b",
   "metadata": {},
   "outputs": [
    {
     "data": {
      "text/plain": [
       "(1993, 60, 1)"
      ]
     },
     "execution_count": 31,
     "metadata": {},
     "output_type": "execute_result"
    }
   ],
   "source": [
    "#Reshape the data\n",
    "x_train = np.reshape(x_train,(x_train.shape[0],x_train.shape[1],1))\n",
    "x_train.shape"
   ]
  },
  {
   "cell_type": "code",
   "execution_count": 32,
   "id": "1b9701c7",
   "metadata": {},
   "outputs": [],
   "source": [
    "#Building the LSTM model\n",
    "open_model = Sequential()\n",
    "open_model.add(LSTM(50, return_sequences=True, input_shape =(x_train.shape[1],1)))\n",
    "open_model.add(LSTM(50, return_sequences=True))\n",
    "open_model.add(LSTM(50, return_sequences=True))\n",
    "open_model.add(LSTM(50, return_sequences=False))\n",
    "open_model.add(Dense(25))\n",
    "open_model.add(Dense(1))"
   ]
  },
  {
   "cell_type": "code",
   "execution_count": 33,
   "id": "5567866a",
   "metadata": {},
   "outputs": [],
   "source": [
    "#compile the Model\n",
    "open_model.compile(optimizer='adam', loss='mean_squared_error')"
   ]
  },
  {
   "cell_type": "code",
   "execution_count": 34,
   "id": "cdf519f5",
   "metadata": {},
   "outputs": [
    {
     "name": "stdout",
     "output_type": "stream",
     "text": [
      "Epoch 1/100\n",
      "63/63 [==============================] - 11s 78ms/step - loss: 0.0032\n",
      "Epoch 2/100\n",
      "63/63 [==============================] - 5s 86ms/step - loss: 1.9114e-04\n",
      "Epoch 3/100\n",
      "63/63 [==============================] - 5s 87ms/step - loss: 1.8311e-04\n",
      "Epoch 4/100\n",
      "63/63 [==============================] - 5s 79ms/step - loss: 1.9327e-04\n",
      "Epoch 5/100\n",
      "63/63 [==============================] - 6s 95ms/step - loss: 1.8663e-04\n",
      "Epoch 6/100\n",
      "63/63 [==============================] - 6s 99ms/step - loss: 1.9029e-04\n",
      "Epoch 7/100\n",
      "63/63 [==============================] - 5s 79ms/step - loss: 1.7967e-04\n",
      "Epoch 8/100\n",
      "63/63 [==============================] - 5s 78ms/step - loss: 1.5408e-04\n",
      "Epoch 9/100\n",
      "63/63 [==============================] - 5s 81ms/step - loss: 1.5943e-04\n",
      "Epoch 10/100\n",
      "63/63 [==============================] - 6s 91ms/step - loss: 1.5187e-04\n",
      "Epoch 11/100\n",
      "63/63 [==============================] - 5s 84ms/step - loss: 1.9547e-04\n",
      "Epoch 12/100\n",
      "63/63 [==============================] - 6s 88ms/step - loss: 1.3682e-04\n",
      "Epoch 13/100\n",
      "63/63 [==============================] - 7s 111ms/step - loss: 1.4802e-04\n",
      "Epoch 14/100\n",
      "63/63 [==============================] - 5s 85ms/step - loss: 1.4507e-04\n",
      "Epoch 15/100\n",
      "63/63 [==============================] - 5s 79ms/step - loss: 1.7745e-04\n",
      "Epoch 16/100\n",
      "63/63 [==============================] - 5s 79ms/step - loss: 1.6855e-04\n",
      "Epoch 17/100\n",
      "63/63 [==============================] - 5s 86ms/step - loss: 1.3577e-04\n",
      "Epoch 18/100\n",
      "63/63 [==============================] - 5s 84ms/step - loss: 1.5120e-04\n",
      "Epoch 19/100\n",
      "63/63 [==============================] - 5s 85ms/step - loss: 1.1833e-04\n",
      "Epoch 20/100\n",
      "63/63 [==============================] - 7s 106ms/step - loss: 1.2422e-04\n",
      "Epoch 21/100\n",
      "63/63 [==============================] - 6s 99ms/step - loss: 1.2019e-04\n",
      "Epoch 22/100\n",
      "63/63 [==============================] - 5s 80ms/step - loss: 1.3369e-04\n",
      "Epoch 23/100\n",
      "63/63 [==============================] - 5s 78ms/step - loss: 1.3357e-04\n",
      "Epoch 24/100\n",
      "63/63 [==============================] - 5s 79ms/step - loss: 1.1327e-04\n",
      "Epoch 25/100\n",
      "63/63 [==============================] - 5s 85ms/step - loss: 1.1341e-04\n",
      "Epoch 26/100\n",
      "63/63 [==============================] - 5s 86ms/step - loss: 1.1806e-04\n",
      "Epoch 27/100\n",
      "63/63 [==============================] - 5s 87ms/step - loss: 1.4555e-04\n",
      "Epoch 28/100\n",
      "63/63 [==============================] - 6s 93ms/step - loss: 1.0353e-04\n",
      "Epoch 29/100\n",
      "63/63 [==============================] - 5s 81ms/step - loss: 1.0234e-04\n",
      "Epoch 30/100\n",
      "63/63 [==============================] - 6s 101ms/step - loss: 9.6176e-05\n",
      "Epoch 31/100\n",
      "63/63 [==============================] - 5s 81ms/step - loss: 9.6031e-05\n",
      "Epoch 32/100\n",
      "63/63 [==============================] - 6s 92ms/step - loss: 8.0623e-05\n",
      "Epoch 33/100\n",
      "63/63 [==============================] - 6s 88ms/step - loss: 8.3094e-05\n",
      "Epoch 34/100\n",
      "63/63 [==============================] - 6s 97ms/step - loss: 8.8064e-05\n",
      "Epoch 35/100\n",
      "63/63 [==============================] - 5s 83ms/step - loss: 6.7931e-05\n",
      "Epoch 36/100\n",
      "63/63 [==============================] - 6s 88ms/step - loss: 6.5092e-05\n",
      "Epoch 37/100\n",
      "63/63 [==============================] - 6s 97ms/step - loss: 6.7146e-05\n",
      "Epoch 38/100\n",
      "63/63 [==============================] - 5s 80ms/step - loss: 5.7149e-05\n",
      "Epoch 39/100\n",
      "63/63 [==============================] - 5s 85ms/step - loss: 5.3522e-05\n",
      "Epoch 40/100\n",
      "63/63 [==============================] - 7s 110ms/step - loss: 5.9703e-05\n",
      "Epoch 41/100\n",
      "63/63 [==============================] - 5s 80ms/step - loss: 5.1775e-05\n",
      "Epoch 42/100\n",
      "63/63 [==============================] - 6s 100ms/step - loss: 5.0806e-05\n",
      "Epoch 43/100\n",
      "63/63 [==============================] - 5s 78ms/step - loss: 5.7036e-05\n",
      "Epoch 44/100\n",
      "63/63 [==============================] - 6s 91ms/step - loss: 5.4146e-05\n",
      "Epoch 45/100\n",
      "63/63 [==============================] - 5s 81ms/step - loss: 5.3599e-05\n",
      "Epoch 46/100\n",
      "63/63 [==============================] - 5s 84ms/step - loss: 4.3546e-05\n",
      "Epoch 47/100\n",
      "63/63 [==============================] - 6s 92ms/step - loss: 4.8734e-05\n",
      "Epoch 48/100\n",
      "63/63 [==============================] - 5s 81ms/step - loss: 5.2353e-05\n",
      "Epoch 49/100\n",
      "63/63 [==============================] - 6s 88ms/step - loss: 4.0926e-05\n",
      "Epoch 50/100\n",
      "63/63 [==============================] - 6s 90ms/step - loss: 4.2487e-05\n",
      "Epoch 51/100\n",
      "63/63 [==============================] - 6s 90ms/step - loss: 4.4972e-05\n",
      "Epoch 52/100\n",
      "63/63 [==============================] - 5s 86ms/step - loss: 4.1833e-05\n",
      "Epoch 53/100\n",
      "63/63 [==============================] - 6s 88ms/step - loss: 3.6882e-05\n",
      "Epoch 54/100\n",
      "63/63 [==============================] - 7s 104ms/step - loss: 4.3958e-05\n",
      "Epoch 55/100\n",
      "63/63 [==============================] - 5s 80ms/step - loss: 3.7508e-05\n",
      "Epoch 56/100\n",
      "63/63 [==============================] - 5s 85ms/step - loss: 5.7343e-05\n",
      "Epoch 57/100\n",
      "63/63 [==============================] - 6s 93ms/step - loss: 4.1324e-05\n",
      "Epoch 58/100\n",
      "63/63 [==============================] - 6s 93ms/step - loss: 3.7945e-05\n",
      "Epoch 59/100\n",
      "63/63 [==============================] - 5s 87ms/step - loss: 5.0094e-05\n",
      "Epoch 60/100\n",
      "63/63 [==============================] - 6s 93ms/step - loss: 5.1218e-05\n",
      "Epoch 61/100\n",
      "63/63 [==============================] - 6s 92ms/step - loss: 3.2275e-05\n",
      "Epoch 62/100\n",
      "63/63 [==============================] - 5s 78ms/step - loss: 3.6988e-05\n",
      "Epoch 63/100\n",
      "63/63 [==============================] - 6s 88ms/step - loss: 3.1498e-05\n",
      "Epoch 64/100\n",
      "63/63 [==============================] - 5s 85ms/step - loss: 3.1582e-05\n",
      "Epoch 65/100\n",
      "63/63 [==============================] - 5s 82ms/step - loss: 4.1928e-05\n",
      "Epoch 66/100\n",
      "63/63 [==============================] - 8s 124ms/step - loss: 3.2599e-05\n",
      "Epoch 67/100\n",
      "63/63 [==============================] - 7s 109ms/step - loss: 3.3302e-05\n",
      "Epoch 68/100\n",
      "63/63 [==============================] - 5s 78ms/step - loss: 2.9679e-05\n",
      "Epoch 69/100\n",
      "63/63 [==============================] - 7s 113ms/step - loss: 3.6003e-05\n",
      "Epoch 70/100\n",
      "63/63 [==============================] - 8s 123ms/step - loss: 2.7235e-05\n",
      "Epoch 71/100\n",
      "63/63 [==============================] - 5s 78ms/step - loss: 2.9957e-05\n",
      "Epoch 72/100\n",
      "63/63 [==============================] - 5s 86ms/step - loss: 4.1640e-05\n",
      "Epoch 73/100\n",
      "63/63 [==============================] - 5s 78ms/step - loss: 3.7220e-05\n",
      "Epoch 74/100\n",
      "63/63 [==============================] - 5s 79ms/step - loss: 3.9876e-05\n",
      "Epoch 75/100\n",
      "63/63 [==============================] - 5s 78ms/step - loss: 3.2158e-05\n",
      "Epoch 76/100\n",
      "63/63 [==============================] - 5s 82ms/step - loss: 2.7477e-05\n",
      "Epoch 77/100\n",
      "63/63 [==============================] - 6s 102ms/step - loss: 2.6711e-05\n",
      "Epoch 78/100\n",
      "63/63 [==============================] - 5s 79ms/step - loss: 2.7906e-05\n",
      "Epoch 79/100\n",
      "63/63 [==============================] - 5s 84ms/step - loss: 2.9057e-05\n",
      "Epoch 80/100\n",
      "63/63 [==============================] - 5s 86ms/step - loss: 4.6170e-05\n",
      "Epoch 81/100\n",
      "63/63 [==============================] - 6s 89ms/step - loss: 2.8963e-05\n",
      "Epoch 82/100\n",
      "63/63 [==============================] - 5s 85ms/step - loss: 2.7735e-05\n",
      "Epoch 83/100\n",
      "63/63 [==============================] - 5s 87ms/step - loss: 2.7895e-05\n",
      "Epoch 84/100\n",
      "63/63 [==============================] - 5s 87ms/step - loss: 2.9498e-05\n",
      "Epoch 85/100\n",
      "63/63 [==============================] - 5s 87ms/step - loss: 3.0871e-05\n",
      "Epoch 86/100\n",
      "63/63 [==============================] - 7s 105ms/step - loss: 3.2019e-05\n",
      "Epoch 87/100\n",
      "63/63 [==============================] - 7s 111ms/step - loss: 3.7330e-05\n",
      "Epoch 88/100\n",
      "63/63 [==============================] - 5s 79ms/step - loss: 3.4168e-05\n",
      "Epoch 89/100\n",
      "63/63 [==============================] - 5s 78ms/step - loss: 2.9286e-05\n",
      "Epoch 90/100\n",
      "63/63 [==============================] - 6s 93ms/step - loss: 3.1676e-05\n",
      "Epoch 91/100\n",
      "63/63 [==============================] - 7s 103ms/step - loss: 3.8149e-05\n",
      "Epoch 92/100\n",
      "63/63 [==============================] - 5s 82ms/step - loss: 2.9590e-05\n",
      "Epoch 93/100\n",
      "63/63 [==============================] - 5s 85ms/step - loss: 2.8029e-05\n",
      "Epoch 94/100\n",
      "63/63 [==============================] - 7s 111ms/step - loss: 2.9019e-05\n",
      "Epoch 95/100\n",
      "63/63 [==============================] - 6s 89ms/step - loss: 4.5073e-05\n",
      "Epoch 96/100\n"
     ]
    },
    {
     "name": "stdout",
     "output_type": "stream",
     "text": [
      "63/63 [==============================] - 5s 79ms/step - loss: 3.5561e-05\n",
      "Epoch 97/100\n",
      "63/63 [==============================] - 6s 94ms/step - loss: 3.9050e-05\n",
      "Epoch 98/100\n",
      "63/63 [==============================] - 7s 111ms/step - loss: 2.6925e-05\n",
      "Epoch 99/100\n",
      "63/63 [==============================] - 5s 79ms/step - loss: 3.1145e-05\n",
      "Epoch 100/100\n",
      "63/63 [==============================] - 5s 82ms/step - loss: 2.6776e-05\n"
     ]
    },
    {
     "data": {
      "text/plain": [
       "<keras.callbacks.History at 0x1e1fcab2408>"
      ]
     },
     "execution_count": 34,
     "metadata": {},
     "output_type": "execute_result"
    }
   ],
   "source": [
    "#train the model\n",
    "open_model.fit(x_train, y_train, batch_size=32, epochs=EPOCHS)"
   ]
  },
  {
   "cell_type": "code",
   "execution_count": 35,
   "id": "d29da702",
   "metadata": {},
   "outputs": [],
   "source": [
    "#create the testing data set\n",
    "#create a new array containing scaled values from index 1543 to 2003\n",
    "test_data = scaled_data[training_data_len - 60: , :]\n",
    "#create the data sets x_test adn y_test\n",
    "x_test = []\n",
    "y_test = dataset[training_data_len:,:]\n",
    "for i in range(60, len(test_data)):\n",
    "    x_test.append(test_data[i-60:i,0])\n",
    "    \n",
    "    \n"
   ]
  },
  {
   "cell_type": "code",
   "execution_count": 36,
   "id": "f58a96cf",
   "metadata": {},
   "outputs": [],
   "source": [
    "#convert the data to a numpy array\n",
    "x_test = np.array(x_test)"
   ]
  },
  {
   "cell_type": "code",
   "execution_count": 37,
   "id": "1ede7f02",
   "metadata": {},
   "outputs": [],
   "source": [
    "#resahpe the data\n",
    "x_test = np.reshape(x_test,(x_test.shape[0],x_test.shape[1],1))"
   ]
  },
  {
   "cell_type": "code",
   "execution_count": 38,
   "id": "95e9db7a",
   "metadata": {},
   "outputs": [],
   "source": [
    "#get the models predicted price values\n",
    "predictions = open_model.predict(x_test)\n",
    "predictions = scaler.inverse_transform(predictions)"
   ]
  },
  {
   "cell_type": "code",
   "execution_count": 39,
   "id": "198f2146",
   "metadata": {},
   "outputs": [
    {
     "data": {
      "text/plain": [
       "44.47285113418312"
      ]
     },
     "execution_count": 39,
     "metadata": {},
     "output_type": "execute_result"
    }
   ],
   "source": [
    "#get the root mean squared error (RMSE)\n",
    "rmse =  np.sqrt(np.mean(predictions - y_test)**2)\n",
    "rmse"
   ]
  },
  {
   "cell_type": "code",
   "execution_count": 40,
   "id": "0a377d74",
   "metadata": {},
   "outputs": [
    {
     "name": "stderr",
     "output_type": "stream",
     "text": [
      "C:\\Users\\Abhishek Rao\\AppData\\Local\\Packages\\PythonSoftwareFoundation.Python.3.7_qbz5n2kfra8p0\\LocalCache\\local-packages\\Python37\\site-packages\\ipykernel_launcher.py:4: SettingWithCopyWarning: \n",
      "A value is trying to be set on a copy of a slice from a DataFrame.\n",
      "Try using .loc[row_indexer,col_indexer] = value instead\n",
      "\n",
      "See the caveats in the documentation: https://pandas.pydata.org/pandas-docs/stable/user_guide/indexing.html#returning-a-view-versus-a-copy\n",
      "  after removing the cwd from sys.path.\n"
     ]
    },
    {
     "data": {
      "image/png": "[encoded data removed]",
      "text/plain": [
       "<Figure size 1152x576 with 1 Axes>"
      ]
     },
     "metadata": {},
     "output_type": "display_data"
    }
   ],
   "source": [
    "#plot the date\n",
    "train = data[:training_data_len]\n",
    "valid = data[training_data_len:]\n",
    "valid['Predictions'] = predictions\n",
    "#visualize the data\n",
    "plt.figure(figsize=(16,8))\n",
    "plt.title('Model')\n",
    "plt.xlabel('Date')\n",
    "plt.ylabel('Open Price USD ($)')\n",
    "plt.plot(train['Open'])\n",
    "plt.plot(valid[['Open', 'Predictions']])\n",
    "plt.legend(['Train', 'Val', 'Predictions'], loc='lower right')\n",
    "plt.show()"
   ]
  },
  {
   "cell_type": "code",
   "execution_count": 41,
   "id": "276bf692",
   "metadata": {},
   "outputs": [
    {
     "data": {
      "text/html": [
       "<div>\n",
       "<style scoped>\n",
       "    .dataframe tbody tr th:only-of-type {\n",
       "        vertical-align: middle;\n",
       "    }\n",
       "\n",
       "    .dataframe tbody tr th {\n",
       "        vertical-align: top;\n",
       "    }\n",
       "\n",
       "    .dataframe thead th {\n",
       "        text-align: right;\n",
       "    }\n",
       "</style>\n",
       "<table border=\"1\" class=\"dataframe\">\n",
       "  <thead>\n",
       "    <tr style=\"text-align: right;\">\n",
       "      <th></th>\n",
       "      <th>Open</th>\n",
       "      <th>Predictions</th>\n",
       "    </tr>\n",
       "    <tr>\n",
       "      <th>Date</th>\n",
       "      <th></th>\n",
       "      <th></th>\n",
       "    </tr>\n",
       "  </thead>\n",
       "  <tbody>\n",
       "    <tr>\n",
       "      <th>2020-03-03</th>\n",
       "      <td>1399.420044</td>\n",
       "      <td>1368.316895</td>\n",
       "    </tr>\n",
       "    <tr>\n",
       "      <th>2020-03-04</th>\n",
       "      <td>1359.229980</td>\n",
       "      <td>1417.693115</td>\n",
       "    </tr>\n",
       "    <tr>\n",
       "      <th>2020-03-05</th>\n",
       "      <td>1350.199951</td>\n",
       "      <td>1366.674072</td>\n",
       "    </tr>\n",
       "    <tr>\n",
       "      <th>2020-03-06</th>\n",
       "      <td>1277.060059</td>\n",
       "      <td>1355.094604</td>\n",
       "    </tr>\n",
       "    <tr>\n",
       "      <th>2020-03-09</th>\n",
       "      <td>1205.300049</td>\n",
       "      <td>1279.160278</td>\n",
       "    </tr>\n",
       "    <tr>\n",
       "      <th>...</th>\n",
       "      <td>...</td>\n",
       "      <td>...</td>\n",
       "    </tr>\n",
       "    <tr>\n",
       "      <th>2022-03-08</th>\n",
       "      <td>2525.010010</td>\n",
       "      <td>2566.617920</td>\n",
       "    </tr>\n",
       "    <tr>\n",
       "      <th>2022-03-09</th>\n",
       "      <td>2628.000000</td>\n",
       "      <td>2397.735596</td>\n",
       "    </tr>\n",
       "    <tr>\n",
       "      <th>2022-03-10</th>\n",
       "      <td>2629.250000</td>\n",
       "      <td>2642.687988</td>\n",
       "    </tr>\n",
       "    <tr>\n",
       "      <th>2022-03-11</th>\n",
       "      <td>2679.989990</td>\n",
       "      <td>2505.173584</td>\n",
       "    </tr>\n",
       "    <tr>\n",
       "      <th>2022-03-11</th>\n",
       "      <td>2679.989990</td>\n",
       "      <td>2635.104248</td>\n",
       "    </tr>\n",
       "  </tbody>\n",
       "</table>\n",
       "<p>513 rows × 2 columns</p>\n",
       "</div>"
      ],
      "text/plain": [
       "                   Open  Predictions\n",
       "Date                                \n",
       "2020-03-03  1399.420044  1368.316895\n",
       "2020-03-04  1359.229980  1417.693115\n",
       "2020-03-05  1350.199951  1366.674072\n",
       "2020-03-06  1277.060059  1355.094604\n",
       "2020-03-09  1205.300049  1279.160278\n",
       "...                 ...          ...\n",
       "2022-03-08  2525.010010  2566.617920\n",
       "2022-03-09  2628.000000  2397.735596\n",
       "2022-03-10  2629.250000  2642.687988\n",
       "2022-03-11  2679.989990  2505.173584\n",
       "2022-03-11  2679.989990  2635.104248\n",
       "\n",
       "[513 rows x 2 columns]"
      ]
     },
     "execution_count": 41,
     "metadata": {},
     "output_type": "execute_result"
    }
   ],
   "source": [
    "#show the valid and predicted prices\n",
    "valid"
   ]
  },
  {
   "cell_type": "code",
   "execution_count": 42,
   "id": "d9e8dc9b",
   "metadata": {},
   "outputs": [
    {
     "name": "stdout",
     "output_type": "stream",
     "text": [
      "[[2684.4014]]\n"
     ]
    }
   ],
   "source": [
    "#get the Quote\n",
    "stock_quote = web.DataReader(STOCK, data_source = 'yahoo', start=START_DATE, end=END_DATE)\n",
    "#create new data frame\n",
    "new_df = stock_quote.filter(['Open'])\n",
    "#get the last 60 days closing price values and convert the dataframe to an array\n",
    "last_60_days = new_df[-60:].values\n",
    "#scale the data to be values between 0 and 1\n",
    "last_60_days_scaled = scaler.fit_transform(last_60_days)\n",
    "#create the empty list\n",
    "x_test = []\n",
    "#append the past 60 days\n",
    "x_test.append(last_60_days_scaled)\n",
    "#convert the x_test data set to a numpy array\n",
    "x_test = np.array(x_test)\n",
    "x_test = np.reshape(x_test,(x_test.shape[0],x_test.shape[1],1))\n",
    "#get the predicted scaled price\n",
    "pred_open_price = open_model.predict(x_test)\n",
    "#undo the scaling\n",
    "pred_open_price = scaler.inverse_transform(pred_open_price)\n",
    "print(pred_open_price)\n"
   ]
  },
  {
   "cell_type": "code",
   "execution_count": 43,
   "id": "5255799d",
   "metadata": {},
   "outputs": [
    {
     "name": "stdout",
     "output_type": "stream",
     "text": [
      "Date\n",
      "2012-01-03     325.250885\n",
      "2012-01-04     331.273315\n",
      "2012-01-05     329.828735\n",
      "2012-01-06     328.344299\n",
      "2012-01-09     322.042908\n",
      "                 ...     \n",
      "2022-03-08    2525.010010\n",
      "2022-03-09    2628.000000\n",
      "2022-03-10    2629.250000\n",
      "2022-03-11    2679.989990\n",
      "2022-03-11    2679.989990\n",
      "Name: Open, Length: 2566, dtype: float64\n"
     ]
    }
   ],
   "source": [
    "stock_quote2 = web.DataReader(STOCK, data_source = 'yahoo', start=START_DATE, end=PREDICT_DATE)\n",
    "print(stock_quote2['Open'])"
   ]
  },
  {
   "cell_type": "code",
   "execution_count": 44,
   "id": "18e18353",
   "metadata": {},
   "outputs": [],
   "source": [
    "open_model.save(open_model_path)\n",
    "loaded_open_model = load_model(open_model_path)\n"
   ]
  },
  {
   "cell_type": "code",
   "execution_count": 45,
   "id": "41ac4212",
   "metadata": {},
   "outputs": [],
   "source": [
    "import winsound\n",
    "frequency = 2500  # Set Frequency To 2500 Hertz\n",
    "duration = 1000  # Set Duration To 1000 ms == 1 second\n",
    "winsound.Beep(frequency, duration)"
   ]
  },
  {
   "cell_type": "code",
   "execution_count": 46,
   "id": "43ff06d9",
   "metadata": {},
   "outputs": [
    {
     "name": "stdout",
     "output_type": "stream",
     "text": [
      "Open price : 2684.4014\n",
      "Close price : 2614.3704\n",
      "-70.031006\n"
     ]
    }
   ],
   "source": [
    "print(\"Open price : \", end=\"\") \n",
    "print(pred_open_price[0][0])\n",
    "print(\"Close price : \", end=\"\") \n",
    "print(close_pred_price[0][0])\n",
    "\n",
    "print(close_pred_price[0][0]-pred_open_price[0][0]   )"
   ]
  },
  {
   "cell_type": "code",
   "execution_count": 47,
   "id": "73881f41",
   "metadata": {},
   "outputs": [
    {
     "data": {
      "image/png": "[encoded data removed]",
      "text/plain": [
       "<Figure size 1152x576 with 1 Axes>"
      ]
     },
     "metadata": {},
     "output_type": "display_data"
    }
   ],
   "source": [
    "#Visualing the High price history\n",
    "plt.figure(figsize=(16,8))\n",
    "plt.title('High Price History')\n",
    "plt.plot(df['High'])\n",
    "plt.xlabel('Date', fontsize=18)\n",
    "plt.ylabel('High Price USD($)', fontsize=18)\n",
    "plt.show()"
   ]
  },
  {
   "cell_type": "code",
   "execution_count": 48,
   "id": "d99e90ff",
   "metadata": {},
   "outputs": [
    {
     "data": {
      "text/plain": [
       "2053"
      ]
     },
     "execution_count": 48,
     "metadata": {},
     "output_type": "execute_result"
    }
   ],
   "source": [
    "#Create a new data\n",
    "data = df.filter(['High'])\n",
    "#convert the dataframe to a numpy array\n",
    "dataset = data.values\n",
    "#get the number of rows to train the model on\n",
    "training_data_len = math.ceil(len(dataset)*.8)\n",
    "training_data_len"
   ]
  },
  {
   "cell_type": "code",
   "execution_count": 49,
   "id": "ab2252e7",
   "metadata": {},
   "outputs": [
    {
     "data": {
      "text/plain": [
       "array([[0.01869807],\n",
       "       [0.01907698],\n",
       "       [0.01794386],\n",
       "       ...,\n",
       "       [0.86553507],\n",
       "       [0.87032716],\n",
       "       [0.87032716]])"
      ]
     },
     "execution_count": 49,
     "metadata": {},
     "output_type": "execute_result"
    }
   ],
   "source": [
    "#Scale the data\n",
    "scaler = MinMaxScaler(feature_range=(0,1))\n",
    "scaled_data = scaler.fit_transform(dataset)\n",
    "\n",
    "scaled_data"
   ]
  },
  {
   "cell_type": "code",
   "execution_count": 50,
   "id": "6645de98",
   "metadata": {},
   "outputs": [
    {
     "name": "stdout",
     "output_type": "stream",
     "text": [
      "[array([0.01869807, 0.01907698, 0.01794386, 0.01722756, 0.01488195,\n",
      "       0.01250026, 0.01170456, 0.01233607, 0.01126431, 0.01217188,\n",
      "       0.01253635, 0.01379756, 0.00477781, 0.00435561, 0.00417879,\n",
      "       0.00256032, 0.0017971 , 0.00285082, 0.00279307, 0.0035148 ,\n",
      "       0.00378545, 0.00394964, 0.00587303, 0.00835576, 0.00809594,\n",
      "       0.00844959, 0.00901795, 0.0078686 , 0.00889886, 0.00856687,\n",
      "       0.00873467, 0.00799129, 0.00777838, 0.0096278 , 0.00942933,\n",
      "       0.00783432, 0.00850372, 0.00863182, 0.00996882, 0.01102073,\n",
      "       0.01103877, 0.01073203, 0.01045959, 0.00799129, 0.00842072,\n",
      "       0.00847665, 0.00854882, 0.00766472, 0.00962239, 0.01051192,\n",
      "       0.01064182, 0.01107666, 0.01312636, 0.01290804, 0.01495232,\n",
      "       0.01520672, 0.0151526 , 0.01533123, 0.01605476, 0.01697315])]\n",
      "[0.01661228528173976]\n",
      "\n",
      "[array([0.01869807, 0.01907698, 0.01794386, 0.01722756, 0.01488195,\n",
      "       0.01250026, 0.01170456, 0.01233607, 0.01126431, 0.01217188,\n",
      "       0.01253635, 0.01379756, 0.00477781, 0.00435561, 0.00417879,\n",
      "       0.00256032, 0.0017971 , 0.00285082, 0.00279307, 0.0035148 ,\n",
      "       0.00378545, 0.00394964, 0.00587303, 0.00835576, 0.00809594,\n",
      "       0.00844959, 0.00901795, 0.0078686 , 0.00889886, 0.00856687,\n",
      "       0.00873467, 0.00799129, 0.00777838, 0.0096278 , 0.00942933,\n",
      "       0.00783432, 0.00850372, 0.00863182, 0.00996882, 0.01102073,\n",
      "       0.01103877, 0.01073203, 0.01045959, 0.00799129, 0.00842072,\n",
      "       0.00847665, 0.00854882, 0.00766472, 0.00962239, 0.01051192,\n",
      "       0.01064182, 0.01107666, 0.01312636, 0.01290804, 0.01495232,\n",
      "       0.01520672, 0.0151526 , 0.01533123, 0.01605476, 0.01697315]), array([0.01907698, 0.01794386, 0.01722756, 0.01488195, 0.01250026,\n",
      "       0.01170456, 0.01233607, 0.01126431, 0.01217188, 0.01253635,\n",
      "       0.01379756, 0.00477781, 0.00435561, 0.00417879, 0.00256032,\n",
      "       0.0017971 , 0.00285082, 0.00279307, 0.0035148 , 0.00378545,\n",
      "       0.00394964, 0.00587303, 0.00835576, 0.00809594, 0.00844959,\n",
      "       0.00901795, 0.0078686 , 0.00889886, 0.00856687, 0.00873467,\n",
      "       0.00799129, 0.00777838, 0.0096278 , 0.00942933, 0.00783432,\n",
      "       0.00850372, 0.00863182, 0.00996882, 0.01102073, 0.01103877,\n",
      "       0.01073203, 0.01045959, 0.00799129, 0.00842072, 0.00847665,\n",
      "       0.00854882, 0.00766472, 0.00962239, 0.01051192, 0.01064182,\n",
      "       0.01107666, 0.01312636, 0.01290804, 0.01495232, 0.01520672,\n",
      "       0.0151526 , 0.01533123, 0.01605476, 0.01697315, 0.01661229])]\n",
      "[0.01661228528173976, 0.016052946211137994]\n",
      "\n"
     ]
    }
   ],
   "source": [
    "#creating the training data set\n",
    "#create the scaled training data set\n",
    "train_data = scaled_data[0:training_data_len,:]\n",
    "#split the data into x_train and y_train data sets\n",
    "x_train = []\n",
    "y_train = []\n",
    "for i in range(60, len(train_data)):\n",
    "    x_train.append(train_data[i-60:i,0])\n",
    "    y_train.append(train_data[i,0])\n",
    "    if i<=61:\n",
    "        print(x_train)\n",
    "        print(y_train)\n",
    "        print()"
   ]
  },
  {
   "cell_type": "code",
   "execution_count": 51,
   "id": "1b91b8a5",
   "metadata": {},
   "outputs": [],
   "source": [
    "#Convert the X_train and Y_train to numpy arrays\n",
    "x_train , y_train = np.array(x_train), np.array(y_train)"
   ]
  },
  {
   "cell_type": "code",
   "execution_count": 52,
   "id": "d352c9ae",
   "metadata": {},
   "outputs": [
    {
     "data": {
      "text/plain": [
       "(1993, 60, 1)"
      ]
     },
     "execution_count": 52,
     "metadata": {},
     "output_type": "execute_result"
    }
   ],
   "source": [
    "#Reshape the data\n",
    "x_train = np.reshape(x_train,(x_train.shape[0],x_train.shape[1],1))\n",
    "x_train.shape"
   ]
  },
  {
   "cell_type": "code",
   "execution_count": 53,
   "id": "ba730fef",
   "metadata": {},
   "outputs": [],
   "source": [
    "#Building the LSTM model\n",
    "high_model = Sequential()\n",
    "high_model.add(LSTM(50, return_sequences=True, input_shape =(x_train.shape[1],1)))\n",
    "high_model.add(LSTM(50, return_sequences=True))\n",
    "high_model.add(LSTM(50, return_sequences=True))\n",
    "high_model.add(LSTM(50, return_sequences=False))\n",
    "high_model.add(Dense(25))\n",
    "high_model.add(Dense(1))"
   ]
  },
  {
   "cell_type": "code",
   "execution_count": 54,
   "id": "9b85e4f0",
   "metadata": {},
   "outputs": [],
   "source": [
    "#compile the Model\n",
    "high_model.compile(optimizer='adam', loss='mean_squared_error')\n"
   ]
  },
  {
   "cell_type": "code",
   "execution_count": 55,
   "id": "331341d3",
   "metadata": {},
   "outputs": [
    {
     "name": "stdout",
     "output_type": "stream",
     "text": [
      "Epoch 1/100\n",
      "63/63 [==============================] - 12s 95ms/step - loss: 0.0032\n",
      "Epoch 2/100\n",
      "63/63 [==============================] - 6s 91ms/step - loss: 2.0179e-04\n",
      "Epoch 3/100\n",
      "63/63 [==============================] - 6s 95ms/step - loss: 1.5202e-04\n",
      "Epoch 4/100\n",
      "63/63 [==============================] - 5s 87ms/step - loss: 1.5360e-04\n",
      "Epoch 5/100\n",
      "63/63 [==============================] - 5s 82ms/step - loss: 1.5469e-04\n",
      "Epoch 6/100\n",
      "63/63 [==============================] - 7s 103ms/step - loss: 1.3181e-04\n",
      "Epoch 7/100\n",
      "63/63 [==============================] - 5s 84ms/step - loss: 1.3997e-04\n",
      "Epoch 8/100\n",
      "63/63 [==============================] - 5s 81ms/step - loss: 1.3627e-04\n",
      "Epoch 9/100\n",
      "63/63 [==============================] - 5s 83ms/step - loss: 1.6189e-04\n",
      "Epoch 10/100\n",
      "63/63 [==============================] - 6s 94ms/step - loss: 1.5159e-04\n",
      "Epoch 11/100\n",
      "63/63 [==============================] - 5s 81ms/step - loss: 1.4370e-04\n",
      "Epoch 12/100\n",
      "63/63 [==============================] - 6s 91ms/step - loss: 1.2112e-04\n",
      "Epoch 13/100\n",
      "63/63 [==============================] - 6s 95ms/step - loss: 1.1591e-04\n",
      "Epoch 14/100\n",
      "63/63 [==============================] - 5s 86ms/step - loss: 1.1681e-04\n",
      "Epoch 15/100\n",
      "63/63 [==============================] - 6s 89ms/step - loss: 1.2552e-04\n",
      "Epoch 16/100\n",
      "63/63 [==============================] - 5s 87ms/step - loss: 1.0861e-04\n",
      "Epoch 17/100\n",
      "63/63 [==============================] - 6s 94ms/step - loss: 1.0754e-04\n",
      "Epoch 18/100\n",
      "63/63 [==============================] - 6s 103ms/step - loss: 1.1220e-04\n",
      "Epoch 19/100\n",
      "63/63 [==============================] - 7s 117ms/step - loss: 1.1081e-04\n",
      "Epoch 20/100\n",
      "63/63 [==============================] - 7s 117ms/step - loss: 9.9089e-05\n",
      "Epoch 21/100\n",
      "63/63 [==============================] - 5s 82ms/step - loss: 1.0582e-04\n",
      "Epoch 22/100\n",
      "63/63 [==============================] - 5s 79ms/step - loss: 1.1818e-04\n",
      "Epoch 23/100\n",
      "63/63 [==============================] - 5s 80ms/step - loss: 1.0290e-04\n",
      "Epoch 24/100\n",
      "63/63 [==============================] - 5s 83ms/step - loss: 9.5294e-05\n",
      "Epoch 25/100\n",
      "63/63 [==============================] - 6s 89ms/step - loss: 8.8867e-05\n",
      "Epoch 26/100\n",
      "63/63 [==============================] - 5s 87ms/step - loss: 1.0644e-04\n",
      "Epoch 27/100\n",
      "63/63 [==============================] - 6s 90ms/step - loss: 1.0709e-04\n",
      "Epoch 28/100\n",
      "63/63 [==============================] - 6s 93ms/step - loss: 8.5324e-05\n",
      "Epoch 29/100\n",
      "63/63 [==============================] - 5s 84ms/step - loss: 7.8382e-05\n",
      "Epoch 30/100\n",
      "63/63 [==============================] - 6s 89ms/step - loss: 7.0997e-05\n",
      "Epoch 31/100\n",
      "63/63 [==============================] - 5s 87ms/step - loss: 6.6818e-05\n",
      "Epoch 32/100\n",
      "63/63 [==============================] - 7s 108ms/step - loss: 7.4223e-05\n",
      "Epoch 33/100\n",
      "63/63 [==============================] - 5s 82ms/step - loss: 6.6102e-05\n",
      "Epoch 34/100\n",
      "63/63 [==============================] - 6s 91ms/step - loss: 6.1673e-05\n",
      "Epoch 35/100\n",
      "63/63 [==============================] - 6s 92ms/step - loss: 4.8782e-05\n",
      "Epoch 36/100\n",
      "63/63 [==============================] - 6s 94ms/step - loss: 5.7700e-05\n",
      "Epoch 37/100\n",
      "63/63 [==============================] - 7s 109ms/step - loss: 5.7149e-05\n",
      "Epoch 38/100\n",
      "63/63 [==============================] - 6s 93ms/step - loss: 4.7977e-05\n",
      "Epoch 39/100\n",
      "63/63 [==============================] - 5s 80ms/step - loss: 4.0104e-05\n",
      "Epoch 40/100\n",
      "63/63 [==============================] - 6s 90ms/step - loss: 3.9192e-05\n",
      "Epoch 41/100\n",
      "63/63 [==============================] - 6s 90ms/step - loss: 6.0190e-05\n",
      "Epoch 42/100\n",
      "63/63 [==============================] - 6s 91ms/step - loss: 4.5176e-05\n",
      "Epoch 43/100\n",
      "63/63 [==============================] - 6s 103ms/step - loss: 3.9451e-05\n",
      "Epoch 44/100\n",
      "63/63 [==============================] - 6s 98ms/step - loss: 4.2529e-05\n",
      "Epoch 45/100\n",
      "63/63 [==============================] - 5s 81ms/step - loss: 4.1298e-05\n",
      "Epoch 46/100\n",
      "63/63 [==============================] - 6s 89ms/step - loss: 4.2807e-05\n",
      "Epoch 47/100\n",
      "63/63 [==============================] - 5s 86ms/step - loss: 3.1990e-05\n",
      "Epoch 48/100\n",
      "63/63 [==============================] - 5s 85ms/step - loss: 3.5256e-05\n",
      "Epoch 49/100\n",
      "63/63 [==============================] - 5s 86ms/step - loss: 2.7139e-05\n",
      "Epoch 50/100\n",
      "63/63 [==============================] - 5s 85ms/step - loss: 3.2673e-05\n",
      "Epoch 51/100\n",
      "63/63 [==============================] - 6s 89ms/step - loss: 2.7961e-05\n",
      "Epoch 52/100\n",
      "63/63 [==============================] - 5s 87ms/step - loss: 2.9797e-05\n",
      "Epoch 53/100\n",
      "63/63 [==============================] - 7s 106ms/step - loss: 3.8917e-05\n",
      "Epoch 54/100\n",
      "63/63 [==============================] - 5s 81ms/step - loss: 2.5292e-05\n",
      "Epoch 55/100\n",
      "63/63 [==============================] - 6s 89ms/step - loss: 3.4945e-05\n",
      "Epoch 56/100\n",
      "63/63 [==============================] - 6s 90ms/step - loss: 2.8995e-05\n",
      "Epoch 57/100\n",
      "63/63 [==============================] - 6s 90ms/step - loss: 2.6192e-05\n",
      "Epoch 58/100\n",
      "63/63 [==============================] - 6s 91ms/step - loss: 2.7200e-05\n",
      "Epoch 59/100\n",
      "63/63 [==============================] - 6s 94ms/step - loss: 3.3162e-05\n",
      "Epoch 60/100\n",
      "63/63 [==============================] - 7s 113ms/step - loss: 3.0863e-05\n",
      "Epoch 61/100\n",
      "63/63 [==============================] - 6s 87ms/step - loss: 3.6272e-05\n",
      "Epoch 62/100\n",
      "63/63 [==============================] - 6s 90ms/step - loss: 4.3995e-05\n",
      "Epoch 63/100\n",
      "63/63 [==============================] - 6s 88ms/step - loss: 2.4301e-05\n",
      "Epoch 64/100\n",
      "63/63 [==============================] - 6s 101ms/step - loss: 2.4330e-05\n",
      "Epoch 65/100\n",
      "63/63 [==============================] - 5s 86ms/step - loss: 2.6985e-05\n",
      "Epoch 66/100\n",
      "63/63 [==============================] - 6s 90ms/step - loss: 2.6364e-05\n",
      "Epoch 67/100\n",
      "63/63 [==============================] - 6s 95ms/step - loss: 2.8297e-05\n",
      "Epoch 68/100\n",
      "63/63 [==============================] - 6s 96ms/step - loss: 2.6637e-05\n",
      "Epoch 69/100\n",
      "63/63 [==============================] - 6s 90ms/step - loss: 3.1838e-05\n",
      "Epoch 70/100\n",
      "63/63 [==============================] - 6s 93ms/step - loss: 2.9596e-05\n",
      "Epoch 71/100\n",
      "63/63 [==============================] - 5s 86ms/step - loss: 2.9647e-05\n",
      "Epoch 72/100\n",
      "63/63 [==============================] - 6s 100ms/step - loss: 3.3181e-05\n",
      "Epoch 73/100\n",
      "63/63 [==============================] - 5s 80ms/step - loss: 2.2863e-05\n",
      "Epoch 74/100\n",
      "63/63 [==============================] - 6s 90ms/step - loss: 2.2538e-05\n",
      "Epoch 75/100\n",
      "63/63 [==============================] - 6s 91ms/step - loss: 2.4141e-05\n",
      "Epoch 76/100\n",
      "63/63 [==============================] - 5s 87ms/step - loss: 2.5250e-05\n",
      "Epoch 77/100\n",
      "63/63 [==============================] - 6s 100ms/step - loss: 2.1325e-05\n",
      "Epoch 78/100\n",
      "63/63 [==============================] - 5s 84ms/step - loss: 2.3027e-05\n",
      "Epoch 79/100\n",
      "63/63 [==============================] - 6s 90ms/step - loss: 2.8601e-05\n",
      "Epoch 80/100\n",
      "63/63 [==============================] - 6s 89ms/step - loss: 2.4383e-05\n",
      "Epoch 81/100\n",
      "63/63 [==============================] - 6s 90ms/step - loss: 2.3563e-05\n",
      "Epoch 82/100\n",
      "63/63 [==============================] - 6s 95ms/step - loss: 2.5979e-05\n",
      "Epoch 83/100\n",
      "63/63 [==============================] - 7s 106ms/step - loss: 2.3266e-05\n",
      "Epoch 84/100\n",
      "63/63 [==============================] - 6s 87ms/step - loss: 2.6230e-05\n",
      "Epoch 85/100\n",
      "63/63 [==============================] - 7s 105ms/step - loss: 2.2819e-05\n",
      "Epoch 86/100\n",
      "63/63 [==============================] - 7s 117ms/step - loss: 2.2495e-05\n",
      "Epoch 87/100\n",
      "63/63 [==============================] - 6s 91ms/step - loss: 2.6280e-05\n",
      "Epoch 88/100\n",
      "63/63 [==============================] - 5s 79ms/step - loss: 2.6933e-05\n",
      "Epoch 89/100\n",
      "63/63 [==============================] - 5s 82ms/step - loss: 2.0720e-05\n",
      "Epoch 90/100\n",
      "63/63 [==============================] - 5s 82ms/step - loss: 2.2234e-05\n",
      "Epoch 91/100\n",
      "63/63 [==============================] - 6s 89ms/step - loss: 2.0142e-05\n",
      "Epoch 92/100\n",
      "63/63 [==============================] - 5s 83ms/step - loss: 2.8266e-05\n",
      "Epoch 93/100\n",
      "63/63 [==============================] - 7s 105ms/step - loss: 2.2187e-05\n",
      "Epoch 94/100\n",
      "63/63 [==============================] - 6s 95ms/step - loss: 2.1771e-05\n",
      "Epoch 95/100\n",
      "63/63 [==============================] - 6s 97ms/step - loss: 2.1924e-05\n",
      "Epoch 96/100\n"
     ]
    },
    {
     "name": "stdout",
     "output_type": "stream",
     "text": [
      "63/63 [==============================] - 5s 80ms/step - loss: 2.6171e-05\n",
      "Epoch 97/100\n",
      "63/63 [==============================] - 6s 94ms/step - loss: 2.5826e-05\n",
      "Epoch 98/100\n",
      "63/63 [==============================] - 5s 84ms/step - loss: 2.5240e-05\n",
      "Epoch 99/100\n",
      "63/63 [==============================] - 6s 87ms/step - loss: 2.5814e-05\n",
      "Epoch 100/100\n",
      "63/63 [==============================] - 6s 98ms/step - loss: 1.9493e-05\n"
     ]
    },
    {
     "data": {
      "text/plain": [
       "<keras.callbacks.History at 0x1e20f991088>"
      ]
     },
     "execution_count": 55,
     "metadata": {},
     "output_type": "execute_result"
    }
   ],
   "source": [
    "#train the model\n",
    "high_model.fit(x_train, y_train, batch_size=32, epochs=EPOCHS)"
   ]
  },
  {
   "cell_type": "code",
   "execution_count": 56,
   "id": "65513be1",
   "metadata": {},
   "outputs": [],
   "source": [
    "#create the testing data set\n",
    "#create a new array containing scaled values from index 1543 to 2003\n",
    "test_data = scaled_data[training_data_len - 60: , :]\n",
    "#create the data sets x_test adn y_test\n",
    "x_test = []\n",
    "y_test = dataset[training_data_len:,:]\n",
    "for i in range(60, len(test_data)):\n",
    "    x_test.append(test_data[i-60:i,0])\n",
    "    \n",
    "    \n"
   ]
  },
  {
   "cell_type": "code",
   "execution_count": 57,
   "id": "923bd5ff",
   "metadata": {},
   "outputs": [],
   "source": [
    "#convert the data to a numpy array\n",
    "x_test = np.array(x_test)"
   ]
  },
  {
   "cell_type": "code",
   "execution_count": 58,
   "id": "91b49ed6",
   "metadata": {},
   "outputs": [],
   "source": [
    "#resahpe the data\n",
    "x_test = np.reshape(x_test,(x_test.shape[0],x_test.shape[1],1))"
   ]
  },
  {
   "cell_type": "code",
   "execution_count": 59,
   "id": "092bd834",
   "metadata": {},
   "outputs": [],
   "source": [
    "#get the models predicted price values\n",
    "predictions = high_model.predict(x_test)\n",
    "predictions = scaler.inverse_transform(predictions)"
   ]
  },
  {
   "cell_type": "code",
   "execution_count": 60,
   "id": "234abe82",
   "metadata": {},
   "outputs": [
    {
     "data": {
      "text/plain": [
       "46.75649899488304"
      ]
     },
     "execution_count": 60,
     "metadata": {},
     "output_type": "execute_result"
    }
   ],
   "source": [
    "#get the root mean squared error (RMSE)\n",
    "rmse =  np.sqrt(np.mean(predictions - y_test)**2)\n",
    "rmse"
   ]
  },
  {
   "cell_type": "code",
   "execution_count": 61,
   "id": "04aa9435",
   "metadata": {},
   "outputs": [
    {
     "name": "stderr",
     "output_type": "stream",
     "text": [
      "C:\\Users\\Abhishek Rao\\AppData\\Local\\Packages\\PythonSoftwareFoundation.Python.3.7_qbz5n2kfra8p0\\LocalCache\\local-packages\\Python37\\site-packages\\ipykernel_launcher.py:4: SettingWithCopyWarning: \n",
      "A value is trying to be set on a copy of a slice from a DataFrame.\n",
      "Try using .loc[row_indexer,col_indexer] = value instead\n",
      "\n",
      "See the caveats in the documentation: https://pandas.pydata.org/pandas-docs/stable/user_guide/indexing.html#returning-a-view-versus-a-copy\n",
      "  after removing the cwd from sys.path.\n"
     ]
    },
    {
     "data": {
      "image/png": "[encoded data removed]",
      "text/plain": [
       "<Figure size 1152x576 with 1 Axes>"
      ]
     },
     "metadata": {},
     "output_type": "display_data"
    }
   ],
   "source": [
    "#plot the date\n",
    "train = data[:training_data_len]\n",
    "valid = data[training_data_len:]\n",
    "valid['Predictions'] = predictions\n",
    "#visualize the data\n",
    "plt.figure(figsize=(16,8))\n",
    "plt.title('Model')\n",
    "plt.xlabel('Date')\n",
    "plt.ylabel('High Price USD ($)')\n",
    "plt.plot(train['High'])\n",
    "plt.plot(valid[['High', 'Predictions']])\n",
    "plt.legend(['Train', 'Val', 'Predictions'], loc='lower right')\n",
    "plt.show()"
   ]
  },
  {
   "cell_type": "code",
   "execution_count": 62,
   "id": "1c174818",
   "metadata": {},
   "outputs": [
    {
     "data": {
      "text/html": [
       "<div>\n",
       "<style scoped>\n",
       "    .dataframe tbody tr th:only-of-type {\n",
       "        vertical-align: middle;\n",
       "    }\n",
       "\n",
       "    .dataframe tbody tr th {\n",
       "        vertical-align: top;\n",
       "    }\n",
       "\n",
       "    .dataframe thead th {\n",
       "        text-align: right;\n",
       "    }\n",
       "</style>\n",
       "<table border=\"1\" class=\"dataframe\">\n",
       "  <thead>\n",
       "    <tr style=\"text-align: right;\">\n",
       "      <th></th>\n",
       "      <th>High</th>\n",
       "      <th>Predictions</th>\n",
       "    </tr>\n",
       "    <tr>\n",
       "      <th>Date</th>\n",
       "      <th></th>\n",
       "      <th></th>\n",
       "    </tr>\n",
       "  </thead>\n",
       "  <tbody>\n",
       "    <tr>\n",
       "      <th>2020-03-03</th>\n",
       "      <td>1410.150024</td>\n",
       "      <td>1418.611206</td>\n",
       "    </tr>\n",
       "    <tr>\n",
       "      <th>2020-03-04</th>\n",
       "      <td>1388.089966</td>\n",
       "      <td>1422.068848</td>\n",
       "    </tr>\n",
       "    <tr>\n",
       "      <th>2020-03-05</th>\n",
       "      <td>1358.910034</td>\n",
       "      <td>1389.799316</td>\n",
       "    </tr>\n",
       "    <tr>\n",
       "      <th>2020-03-06</th>\n",
       "      <td>1306.219971</td>\n",
       "      <td>1360.415894</td>\n",
       "    </tr>\n",
       "    <tr>\n",
       "      <th>2020-03-09</th>\n",
       "      <td>1254.760010</td>\n",
       "      <td>1303.269897</td>\n",
       "    </tr>\n",
       "    <tr>\n",
       "      <th>...</th>\n",
       "      <td>...</td>\n",
       "      <td>...</td>\n",
       "    </tr>\n",
       "    <tr>\n",
       "      <th>2022-03-08</th>\n",
       "      <td>2624.929932</td>\n",
       "      <td>2568.804443</td>\n",
       "    </tr>\n",
       "    <tr>\n",
       "      <th>2022-03-09</th>\n",
       "      <td>2683.969971</td>\n",
       "      <td>2552.271240</td>\n",
       "    </tr>\n",
       "    <tr>\n",
       "      <th>2022-03-10</th>\n",
       "      <td>2670.770020</td>\n",
       "      <td>2645.509521</td>\n",
       "    </tr>\n",
       "    <tr>\n",
       "      <th>2022-03-11</th>\n",
       "      <td>2684.000000</td>\n",
       "      <td>2546.036865</td>\n",
       "    </tr>\n",
       "    <tr>\n",
       "      <th>2022-03-11</th>\n",
       "      <td>2684.000000</td>\n",
       "      <td>2630.566162</td>\n",
       "    </tr>\n",
       "  </tbody>\n",
       "</table>\n",
       "<p>513 rows × 2 columns</p>\n",
       "</div>"
      ],
      "text/plain": [
       "                   High  Predictions\n",
       "Date                                \n",
       "2020-03-03  1410.150024  1418.611206\n",
       "2020-03-04  1388.089966  1422.068848\n",
       "2020-03-05  1358.910034  1389.799316\n",
       "2020-03-06  1306.219971  1360.415894\n",
       "2020-03-09  1254.760010  1303.269897\n",
       "...                 ...          ...\n",
       "2022-03-08  2624.929932  2568.804443\n",
       "2022-03-09  2683.969971  2552.271240\n",
       "2022-03-10  2670.770020  2645.509521\n",
       "2022-03-11  2684.000000  2546.036865\n",
       "2022-03-11  2684.000000  2630.566162\n",
       "\n",
       "[513 rows x 2 columns]"
      ]
     },
     "execution_count": 62,
     "metadata": {},
     "output_type": "execute_result"
    }
   ],
   "source": [
    "#show the valid and predicted prices\n",
    "valid"
   ]
  },
  {
   "cell_type": "code",
   "execution_count": 63,
   "id": "47c7456f",
   "metadata": {},
   "outputs": [
    {
     "name": "stdout",
     "output_type": "stream",
     "text": [
      "[[2685.3247]]\n"
     ]
    }
   ],
   "source": [
    "#get the Quote\n",
    "stock_quote = web.DataReader(STOCK, data_source = 'yahoo', start=START_DATE, end=END_DATE)\n",
    "#create new data frame\n",
    "new_df = stock_quote.filter(['High'])\n",
    "#get the last 60 days closing price values and convert the dataframe to an array\n",
    "last_60_days = new_df[-60:].values\n",
    "#scale the data to be values between 0 and 1\n",
    "last_60_days_scaled = scaler.fit_transform(last_60_days)\n",
    "#create the empty list\n",
    "x_test = []\n",
    "#append the past 60 days\n",
    "x_test.append(last_60_days_scaled)\n",
    "#convert the x_test data set to a numpy array\n",
    "x_test = np.array(x_test)\n",
    "x_test = np.reshape(x_test,(x_test.shape[0],x_test.shape[1],1))\n",
    "#get the predicted scaled price\n",
    "high_pred_price = high_model.predict(x_test)\n",
    "#undo the scaling\n",
    "high_pred_price = scaler.inverse_transform(high_pred_price)\n",
    "print(high_pred_price)\n"
   ]
  },
  {
   "cell_type": "code",
   "execution_count": 65,
   "id": "e59ebc11",
   "metadata": {},
   "outputs": [
    {
     "name": "stdout",
     "output_type": "stream",
     "text": [
      "Date\n",
      "2012-01-03     332.827484\n",
      "2012-01-04     333.873566\n",
      "2012-01-05     330.745270\n",
      "2012-01-06     328.767700\n",
      "2012-01-09     322.291962\n",
      "                 ...     \n",
      "2022-03-08    2624.929932\n",
      "2022-03-09    2683.969971\n",
      "2022-03-10    2670.770020\n",
      "2022-03-11    2684.000000\n",
      "2022-03-11    2684.000000\n",
      "Name: High, Length: 2566, dtype: float64\n"
     ]
    }
   ],
   "source": [
    "stock_quote2 = web.DataReader(STOCK, data_source = 'yahoo', start=START_DATE, end=PREDICT_DATE)\n",
    "print(stock_quote2['High'])"
   ]
  },
  {
   "cell_type": "code",
   "execution_count": 91,
   "id": "dcfc0012",
   "metadata": {},
   "outputs": [],
   "source": [
    "high_model.save(high_model_path)\n",
    "loaded_high_model = load_model(high_model_path)\n"
   ]
  },
  {
   "cell_type": "code",
   "execution_count": 67,
   "id": "cbdc5c74",
   "metadata": {},
   "outputs": [
    {
     "name": "stdout",
     "output_type": "stream",
     "text": [
      "Date\n",
      "2012-01-03     332.827484\n",
      "2012-01-04     333.873566\n",
      "2012-01-05     330.745270\n",
      "2012-01-06     328.767700\n",
      "2012-01-09     322.291962\n",
      "                 ...     \n",
      "2022-03-08    2624.929932\n",
      "2022-03-09    2683.969971\n",
      "2022-03-10    2670.770020\n",
      "2022-03-11    2684.000000\n",
      "2022-03-11    2684.000000\n",
      "Name: High, Length: 2566, dtype: float64\n"
     ]
    }
   ],
   "source": [
    "stock_quote2 = web.DataReader(STOCK, data_source = 'yahoo', start=START_DATE, end=PREDICT_DATE)\n",
    "print(stock_quote2['High'])"
   ]
  },
  {
   "cell_type": "code",
   "execution_count": 68,
   "id": "efb16e09",
   "metadata": {},
   "outputs": [],
   "source": [
    "import winsound\n",
    "frequency = 2500  # Set Frequency To 2500 Hertz\n",
    "duration = 1000  # Set Duration To 1000 ms == 1 second\n",
    "winsound.Beep(frequency, duration)"
   ]
  },
  {
   "cell_type": "code",
   "execution_count": 69,
   "id": "8fe8f664",
   "metadata": {},
   "outputs": [
    {
     "data": {
      "image/png": "[encoded data removed]",
      "text/plain": [
       "<Figure size 1152x576 with 1 Axes>"
      ]
     },
     "metadata": {},
     "output_type": "display_data"
    }
   ],
   "source": [
    "#Visualing the low price history\n",
    "plt.figure(figsize=(16,8))\n",
    "plt.title('Low Price History')\n",
    "plt.plot(df['Low'])\n",
    "plt.xlabel('Date', fontsize=18)\n",
    "plt.ylabel('Low Price USD($)', fontsize=18)\n",
    "plt.show()"
   ]
  },
  {
   "cell_type": "code",
   "execution_count": 70,
   "id": "430aeaef",
   "metadata": {},
   "outputs": [
    {
     "data": {
      "text/plain": [
       "2053"
      ]
     },
     "execution_count": 70,
     "metadata": {},
     "output_type": "execute_result"
    }
   ],
   "source": [
    "#Create a new data\n",
    "data = df.filter(['Low'])\n",
    "#convert the dataframe to a numpy array\n",
    "dataset = data.values\n",
    "#get the number of rows to train the model on\n",
    "training_data_len = math.ceil(len(dataset)*.8)\n",
    "training_data_len"
   ]
  },
  {
   "cell_type": "code",
   "execution_count": 71,
   "id": "259c8009",
   "metadata": {},
   "outputs": [
    {
     "data": {
      "text/plain": [
       "array([[0.01755027],\n",
       "       [0.01906086],\n",
       "       [0.01825705],\n",
       "       ...,\n",
       "       [0.8640963 ],\n",
       "       [0.85597652],\n",
       "       [0.85597652]])"
      ]
     },
     "execution_count": 71,
     "metadata": {},
     "output_type": "execute_result"
    }
   ],
   "source": [
    "#Scale the data\n",
    "scaler = MinMaxScaler(feature_range=(0,1))\n",
    "scaled_data = scaler.fit_transform(dataset)\n",
    "\n",
    "scaled_data"
   ]
  },
  {
   "cell_type": "code",
   "execution_count": 72,
   "id": "900063c9",
   "metadata": {},
   "outputs": [
    {
     "name": "stdout",
     "output_type": "stream",
     "text": [
      "[array([0.01755027, 0.01906086, 0.01825705, 0.01707787, 0.01184849,\n",
      "       0.0110575 , 0.01182835, 0.01281344, 0.01181736, 0.0126633 ,\n",
      "       0.01201146, 0.01372162, 0.00461049, 0.00487782, 0.00393302,\n",
      "       0.00180538, 0.0014703 , 0.00234553, 0.00309075, 0.00341118,\n",
      "       0.00414175, 0.00468007, 0.00577318, 0.00686447, 0.00864971,\n",
      "       0.00882915, 0.00960916, 0.00869365, 0.00979592, 0.00883281,\n",
      "       0.00842999, 0.00754561, 0.0084007 , 0.00848859, 0.00918986,\n",
      "       0.00802534, 0.00897014, 0.00888774, 0.00936747, 0.01079933,\n",
      "       0.01128454, 0.01168186, 0.01004495, 0.00683334, 0.00903423,\n",
      "       0.00912395, 0.00796125, 0.00782575, 0.00897746, 0.01042579,\n",
      "       0.01067664, 0.01163243, 0.01185033, 0.01295442, 0.01391388,\n",
      "       0.01363739, 0.0154501 , 0.01520108, 0.01616419, 0.01731407])]\n",
      "[0.016072647414620042]\n",
      "\n",
      "[array([0.01755027, 0.01906086, 0.01825705, 0.01707787, 0.01184849,\n",
      "       0.0110575 , 0.01182835, 0.01281344, 0.01181736, 0.0126633 ,\n",
      "       0.01201146, 0.01372162, 0.00461049, 0.00487782, 0.00393302,\n",
      "       0.00180538, 0.0014703 , 0.00234553, 0.00309075, 0.00341118,\n",
      "       0.00414175, 0.00468007, 0.00577318, 0.00686447, 0.00864971,\n",
      "       0.00882915, 0.00960916, 0.00869365, 0.00979592, 0.00883281,\n",
      "       0.00842999, 0.00754561, 0.0084007 , 0.00848859, 0.00918986,\n",
      "       0.00802534, 0.00897014, 0.00888774, 0.00936747, 0.01079933,\n",
      "       0.01128454, 0.01168186, 0.01004495, 0.00683334, 0.00903423,\n",
      "       0.00912395, 0.00796125, 0.00782575, 0.00897746, 0.01042579,\n",
      "       0.01067664, 0.01163243, 0.01185033, 0.01295442, 0.01391388,\n",
      "       0.01363739, 0.0154501 , 0.01520108, 0.01616419, 0.01731407]), array([0.01906086, 0.01825705, 0.01707787, 0.01184849, 0.0110575 ,\n",
      "       0.01182835, 0.01281344, 0.01181736, 0.0126633 , 0.01201146,\n",
      "       0.01372162, 0.00461049, 0.00487782, 0.00393302, 0.00180538,\n",
      "       0.0014703 , 0.00234553, 0.00309075, 0.00341118, 0.00414175,\n",
      "       0.00468007, 0.00577318, 0.00686447, 0.00864971, 0.00882915,\n",
      "       0.00960916, 0.00869365, 0.00979592, 0.00883281, 0.00842999,\n",
      "       0.00754561, 0.0084007 , 0.00848859, 0.00918986, 0.00802534,\n",
      "       0.00897014, 0.00888774, 0.00936747, 0.01079933, 0.01128454,\n",
      "       0.01168186, 0.01004495, 0.00683334, 0.00903423, 0.00912395,\n",
      "       0.00796125, 0.00782575, 0.00897746, 0.01042579, 0.01067664,\n",
      "       0.01163243, 0.01185033, 0.01295442, 0.01391388, 0.01363739,\n",
      "       0.0154501 , 0.01520108, 0.01616419, 0.01731407, 0.01607265])]\n",
      "[0.016072647414620042, 0.01546840470558189]\n",
      "\n"
     ]
    }
   ],
   "source": [
    "#creating the training data set\n",
    "#create the scaled training data set\n",
    "train_data = scaled_data[0:training_data_len,:]\n",
    "#split the data into x_train and y_train data sets\n",
    "x_train = []\n",
    "y_train = []\n",
    "for i in range(60, len(train_data)):\n",
    "    x_train.append(train_data[i-60:i,0])\n",
    "    y_train.append(train_data[i,0])\n",
    "    if i<=61:\n",
    "        print(x_train)\n",
    "        print(y_train)\n",
    "        print()"
   ]
  },
  {
   "cell_type": "code",
   "execution_count": 73,
   "id": "25b6e36b",
   "metadata": {},
   "outputs": [],
   "source": [
    "#Convert the X_train and Y_train to numpy arrays\n",
    "x_train , y_train = np.array(x_train), np.array(y_train)"
   ]
  },
  {
   "cell_type": "code",
   "execution_count": 74,
   "id": "cf8adf2a",
   "metadata": {},
   "outputs": [
    {
     "data": {
      "text/plain": [
       "(1993, 60, 1)"
      ]
     },
     "execution_count": 74,
     "metadata": {},
     "output_type": "execute_result"
    }
   ],
   "source": [
    "#Reshape the data\n",
    "x_train = np.reshape(x_train,(x_train.shape[0],x_train.shape[1],1))\n",
    "x_train.shape"
   ]
  },
  {
   "cell_type": "code",
   "execution_count": 75,
   "id": "de1bc0cf",
   "metadata": {},
   "outputs": [],
   "source": [
    "#Building the LSTM model\n",
    "low_model = Sequential()\n",
    "low_model.add(LSTM(50, return_sequences=True, input_shape =(x_train.shape[1],1)))\n",
    "low_model.add(LSTM(50, return_sequences=True))\n",
    "low_model.add(LSTM(50, return_sequences=True))\n",
    "low_model.add(LSTM(50, return_sequences=False))\n",
    "low_model.add(Dense(25))\n",
    "low_model.add(Dense(1))"
   ]
  },
  {
   "cell_type": "code",
   "execution_count": 76,
   "id": "f06c22e4",
   "metadata": {},
   "outputs": [],
   "source": [
    "#compile the Model\n",
    "low_model.compile(optimizer='adam', loss='mean_squared_error')"
   ]
  },
  {
   "cell_type": "code",
   "execution_count": 77,
   "id": "55574e3b",
   "metadata": {},
   "outputs": [
    {
     "name": "stdout",
     "output_type": "stream",
     "text": [
      "Epoch 1/100\n",
      "63/63 [==============================] - 12s 91ms/step - loss: 0.0029\n",
      "Epoch 2/100\n",
      "63/63 [==============================] - 5s 85ms/step - loss: 1.9301e-04\n",
      "Epoch 3/100\n",
      "63/63 [==============================] - 10s 162ms/step - loss: 1.9683e-04\n",
      "Epoch 4/100\n",
      "63/63 [==============================] - 10s 166ms/step - loss: 1.9559e-04\n",
      "Epoch 5/100\n",
      "63/63 [==============================] - 12s 194ms/step - loss: 1.7513e-04\n",
      "Epoch 6/100\n",
      "63/63 [==============================] - 11s 166ms/step - loss: 1.7321e-04\n",
      "Epoch 7/100\n",
      "63/63 [==============================] - 10s 156ms/step - loss: 1.9214e-04\n",
      "Epoch 8/100\n",
      "63/63 [==============================] - 10s 160ms/step - loss: 1.5456e-04\n",
      "Epoch 9/100\n",
      "63/63 [==============================] - 10s 158ms/step - loss: 1.6595e-04\n",
      "Epoch 10/100\n",
      "63/63 [==============================] - 10s 157ms/step - loss: 1.8241e-04\n",
      "Epoch 11/100\n",
      "63/63 [==============================] - 10s 163ms/step - loss: 1.7249e-04\n",
      "Epoch 12/100\n",
      "63/63 [==============================] - 10s 159ms/step - loss: 1.8002e-04\n",
      "Epoch 13/100\n",
      "63/63 [==============================] - 10s 156ms/step - loss: 1.5334e-04\n",
      "Epoch 14/100\n",
      "63/63 [==============================] - 10s 155ms/step - loss: 1.5091e-04\n",
      "Epoch 15/100\n",
      "63/63 [==============================] - 10s 157ms/step - loss: 2.4073e-04\n",
      "Epoch 16/100\n",
      "63/63 [==============================] - 11s 176ms/step - loss: 1.6613e-04\n",
      "Epoch 17/100\n",
      "63/63 [==============================] - 11s 174ms/step - loss: 1.4486e-04\n",
      "Epoch 18/100\n",
      "63/63 [==============================] - 10s 156ms/step - loss: 1.4144e-04\n",
      "Epoch 19/100\n",
      "63/63 [==============================] - 10s 157ms/step - loss: 1.3318e-04\n",
      "Epoch 20/100\n",
      "63/63 [==============================] - 10s 165ms/step - loss: 1.2799e-04\n",
      "Epoch 21/100\n",
      "63/63 [==============================] - 10s 158ms/step - loss: 1.4024e-04\n",
      "Epoch 22/100\n",
      "63/63 [==============================] - 10s 157ms/step - loss: 1.5381e-04\n",
      "Epoch 23/100\n",
      "63/63 [==============================] - 10s 157ms/step - loss: 1.3196e-04\n",
      "Epoch 24/100\n",
      "63/63 [==============================] - 10s 153ms/step - loss: 1.3789e-04\n",
      "Epoch 25/100\n",
      "63/63 [==============================] - 10s 156ms/step - loss: 1.2481e-04\n",
      "Epoch 26/100\n",
      "63/63 [==============================] - 10s 161ms/step - loss: 1.2757e-04\n",
      "Epoch 27/100\n",
      "63/63 [==============================] - 10s 160ms/step - loss: 1.4493e-04\n",
      "Epoch 28/100\n",
      "63/63 [==============================] - 10s 158ms/step - loss: 1.1376e-04\n",
      "Epoch 29/100\n",
      "63/63 [==============================] - 10s 153ms/step - loss: 1.0415e-04\n",
      "Epoch 30/100\n",
      "63/63 [==============================] - 8s 122ms/step - loss: 1.2230e-04\n",
      "Epoch 31/100\n",
      "63/63 [==============================] - 5s 83ms/step - loss: 1.0456e-04\n",
      "Epoch 32/100\n",
      "63/63 [==============================] - 9s 137ms/step - loss: 1.1773e-04\n",
      "Epoch 33/100\n",
      "63/63 [==============================] - 10s 158ms/step - loss: 9.3632e-05\n",
      "Epoch 34/100\n",
      "63/63 [==============================] - 10s 151ms/step - loss: 1.0216e-04\n",
      "Epoch 35/100\n",
      "63/63 [==============================] - 10s 153ms/step - loss: 1.0549e-04\n",
      "Epoch 36/100\n",
      "63/63 [==============================] - 10s 151ms/step - loss: 9.3312e-05\n",
      "Epoch 37/100\n",
      "63/63 [==============================] - 10s 152ms/step - loss: 9.1666e-05\n",
      "Epoch 38/100\n",
      "63/63 [==============================] - 10s 162ms/step - loss: 8.3003e-05\n",
      "Epoch 39/100\n",
      "63/63 [==============================] - 10s 157ms/step - loss: 8.4426e-05\n",
      "Epoch 40/100\n",
      "63/63 [==============================] - 10s 162ms/step - loss: 8.9111e-05\n",
      "Epoch 41/100\n",
      "63/63 [==============================] - 10s 160ms/step - loss: 7.6619e-05\n",
      "Epoch 42/100\n",
      "63/63 [==============================] - 10s 156ms/step - loss: 6.5395e-05\n",
      "Epoch 43/100\n",
      "63/63 [==============================] - 10s 157ms/step - loss: 6.5836e-05\n",
      "Epoch 44/100\n",
      "63/63 [==============================] - 8s 131ms/step - loss: 6.7965e-05\n",
      "Epoch 45/100\n",
      "63/63 [==============================] - 5s 84ms/step - loss: 7.4728e-05\n",
      "Epoch 46/100\n",
      "63/63 [==============================] - 7s 118ms/step - loss: 5.3828e-05\n",
      "Epoch 47/100\n",
      "63/63 [==============================] - 10s 155ms/step - loss: 5.5140e-05\n",
      "Epoch 48/100\n",
      "63/63 [==============================] - 10s 159ms/step - loss: 6.1060e-05\n",
      "Epoch 49/100\n",
      "63/63 [==============================] - 10s 156ms/step - loss: 5.9708e-05\n",
      "Epoch 50/100\n",
      "63/63 [==============================] - 10s 157ms/step - loss: 5.0839e-05\n",
      "Epoch 51/100\n",
      "63/63 [==============================] - 10s 161ms/step - loss: 4.2142e-05\n",
      "Epoch 52/100\n",
      "63/63 [==============================] - 10s 161ms/step - loss: 6.2760e-05\n",
      "Epoch 53/100\n",
      "63/63 [==============================] - 10s 157ms/step - loss: 4.1120e-05\n",
      "Epoch 54/100\n",
      "63/63 [==============================] - 10s 154ms/step - loss: 4.4589e-05\n",
      "Epoch 55/100\n",
      "63/63 [==============================] - 7s 116ms/step - loss: 4.5349e-05\n",
      "Epoch 56/100\n",
      "63/63 [==============================] - 6s 89ms/step - loss: 3.7016e-05\n",
      "Epoch 57/100\n",
      "63/63 [==============================] - 8s 128ms/step - loss: 3.9637e-05\n",
      "Epoch 58/100\n",
      "63/63 [==============================] - 10s 161ms/step - loss: 3.6245e-05\n",
      "Epoch 59/100\n",
      "63/63 [==============================] - 10s 161ms/step - loss: 3.6973e-05\n",
      "Epoch 60/100\n",
      "63/63 [==============================] - 10s 157ms/step - loss: 3.5256e-05\n",
      "Epoch 61/100\n",
      "63/63 [==============================] - 10s 154ms/step - loss: 4.4946e-05\n",
      "Epoch 62/100\n",
      "63/63 [==============================] - 10s 155ms/step - loss: 3.3012e-05\n",
      "Epoch 63/100\n",
      "63/63 [==============================] - 10s 160ms/step - loss: 3.4815e-05\n",
      "Epoch 64/100\n",
      "63/63 [==============================] - 10s 161ms/step - loss: 2.8164e-05\n",
      "Epoch 65/100\n",
      "63/63 [==============================] - 10s 160ms/step - loss: 2.7499e-05\n",
      "Epoch 66/100\n",
      "63/63 [==============================] - 10s 161ms/step - loss: 3.0935e-05\n",
      "Epoch 67/100\n",
      "63/63 [==============================] - 8s 119ms/step - loss: 3.5420e-05\n",
      "Epoch 68/100\n",
      "63/63 [==============================] - 5s 81ms/step - loss: 2.7873e-05\n",
      "Epoch 69/100\n",
      "63/63 [==============================] - 8s 130ms/step - loss: 2.6108e-05\n",
      "Epoch 70/100\n",
      "63/63 [==============================] - 10s 164ms/step - loss: 3.0803e-05\n",
      "Epoch 71/100\n",
      "63/63 [==============================] - 10s 157ms/step - loss: 3.1845e-05\n",
      "Epoch 72/100\n",
      "63/63 [==============================] - 10s 157ms/step - loss: 2.8282e-05\n",
      "Epoch 73/100\n",
      "63/63 [==============================] - 10s 156ms/step - loss: 4.1760e-05\n",
      "Epoch 74/100\n",
      "63/63 [==============================] - 10s 155ms/step - loss: 2.6462e-05\n",
      "Epoch 75/100\n",
      "63/63 [==============================] - 10s 155ms/step - loss: 2.1711e-05\n",
      "Epoch 76/100\n",
      "63/63 [==============================] - 10s 157ms/step - loss: 2.6296e-05\n",
      "Epoch 77/100\n",
      "63/63 [==============================] - 10s 159ms/step - loss: 2.6945e-05\n",
      "Epoch 78/100\n",
      "63/63 [==============================] - 10s 159ms/step - loss: 2.7356e-05\n",
      "Epoch 79/100\n",
      "63/63 [==============================] - 10s 159ms/step - loss: 2.5986e-05\n",
      "Epoch 80/100\n",
      "63/63 [==============================] - 9s 142ms/step - loss: 2.4218e-05\n",
      "Epoch 81/100\n",
      "63/63 [==============================] - 5s 80ms/step - loss: 3.5844e-05\n",
      "Epoch 82/100\n",
      "63/63 [==============================] - 7s 106ms/step - loss: 2.1930e-05\n",
      "Epoch 83/100\n",
      "63/63 [==============================] - 10s 151ms/step - loss: 2.5409e-05\n",
      "Epoch 84/100\n",
      "63/63 [==============================] - 10s 159ms/step - loss: 2.7231e-05\n",
      "Epoch 85/100\n",
      "63/63 [==============================] - 10s 158ms/step - loss: 2.0708e-05\n",
      "Epoch 86/100\n",
      "63/63 [==============================] - 10s 159ms/step - loss: 2.7035e-05\n",
      "Epoch 87/100\n",
      "63/63 [==============================] - 10s 154ms/step - loss: 2.6081e-05\n",
      "Epoch 88/100\n",
      "63/63 [==============================] - 6s 99ms/step - loss: 2.4641e-05\n",
      "Epoch 89/100\n",
      "63/63 [==============================] - 6s 102ms/step - loss: 3.1299e-05\n",
      "Epoch 90/100\n",
      "63/63 [==============================] - 10s 157ms/step - loss: 2.5160e-05\n",
      "Epoch 91/100\n",
      "63/63 [==============================] - 10s 159ms/step - loss: 3.0814e-05\n",
      "Epoch 92/100\n",
      "63/63 [==============================] - 10s 160ms/step - loss: 3.3203e-05\n",
      "Epoch 93/100\n",
      "63/63 [==============================] - 10s 160ms/step - loss: 2.4583e-05\n",
      "Epoch 94/100\n"
     ]
    },
    {
     "name": "stdout",
     "output_type": "stream",
     "text": [
      "63/63 [==============================] - 10s 157ms/step - loss: 2.9715e-05\n",
      "Epoch 95/100\n",
      "63/63 [==============================] - 10s 153ms/step - loss: 3.2342e-05\n",
      "Epoch 96/100\n",
      "63/63 [==============================] - 8s 128ms/step - loss: 2.2244e-05\n",
      "Epoch 97/100\n",
      "63/63 [==============================] - 5s 80ms/step - loss: 2.4293e-05\n",
      "Epoch 98/100\n",
      "63/63 [==============================] - 10s 156ms/step - loss: 2.9079e-05\n",
      "Epoch 99/100\n",
      "63/63 [==============================] - 10s 160ms/step - loss: 2.2895e-05\n",
      "Epoch 100/100\n",
      "63/63 [==============================] - 10s 157ms/step - loss: 2.2578e-05\n"
     ]
    },
    {
     "data": {
      "text/plain": [
       "<keras.callbacks.History at 0x1e21bec1dc8>"
      ]
     },
     "execution_count": 77,
     "metadata": {},
     "output_type": "execute_result"
    }
   ],
   "source": [
    "#train the model\n",
    "low_model.fit(x_train, y_train, batch_size=32, epochs=EPOCHS)"
   ]
  },
  {
   "cell_type": "code",
   "execution_count": 78,
   "id": "342e764d",
   "metadata": {},
   "outputs": [],
   "source": [
    "#create the testing data set\n",
    "#create a new array containing scaled values from index 1543 to 2003\n",
    "test_data = scaled_data[training_data_len - 60: , :]\n",
    "#create the data sets x_test adn y_test\n",
    "x_test = []\n",
    "y_test = dataset[training_data_len:,:]\n",
    "for i in range(60, len(test_data)):\n",
    "    x_test.append(test_data[i-60:i,0])\n",
    "    \n",
    "    \n"
   ]
  },
  {
   "cell_type": "code",
   "execution_count": 79,
   "id": "4cb0c323",
   "metadata": {},
   "outputs": [],
   "source": [
    "#convert the data to a numpy array\n",
    "x_test = np.array(x_test)"
   ]
  },
  {
   "cell_type": "code",
   "execution_count": 80,
   "id": "dccc6a4d",
   "metadata": {},
   "outputs": [],
   "source": [
    "#resahpe the data\n",
    "x_test = np.reshape(x_test,(x_test.shape[0],x_test.shape[1],1))"
   ]
  },
  {
   "cell_type": "code",
   "execution_count": 81,
   "id": "4262e03a",
   "metadata": {},
   "outputs": [],
   "source": [
    "#get the models predicted price values\n",
    "predictions = open_model.predict(x_test)\n",
    "predictions = scaler.inverse_transform(predictions)"
   ]
  },
  {
   "cell_type": "code",
   "execution_count": 82,
   "id": "1ccfe0e8",
   "metadata": {},
   "outputs": [
    {
     "data": {
      "text/plain": [
       "44.45065575315241"
      ]
     },
     "execution_count": 82,
     "metadata": {},
     "output_type": "execute_result"
    }
   ],
   "source": [
    "#get the root mean squared error (RMSE)\n",
    "rmse =  np.sqrt(np.mean(predictions - y_test)**2)\n",
    "rmse"
   ]
  },
  {
   "cell_type": "code",
   "execution_count": 83,
   "id": "e9106bb6",
   "metadata": {},
   "outputs": [
    {
     "name": "stderr",
     "output_type": "stream",
     "text": [
      "C:\\Users\\Abhishek Rao\\AppData\\Local\\Packages\\PythonSoftwareFoundation.Python.3.7_qbz5n2kfra8p0\\LocalCache\\local-packages\\Python37\\site-packages\\ipykernel_launcher.py:4: SettingWithCopyWarning: \n",
      "A value is trying to be set on a copy of a slice from a DataFrame.\n",
      "Try using .loc[row_indexer,col_indexer] = value instead\n",
      "\n",
      "See the caveats in the documentation: https://pandas.pydata.org/pandas-docs/stable/user_guide/indexing.html#returning-a-view-versus-a-copy\n",
      "  after removing the cwd from sys.path.\n"
     ]
    },
    {
     "data": {
      "image/png": "[encoded data removed]",
      "text/plain": [
       "<Figure size 1152x576 with 1 Axes>"
      ]
     },
     "metadata": {},
     "output_type": "display_data"
    }
   ],
   "source": [
    "#plot the date\n",
    "train = data[:training_data_len]\n",
    "valid = data[training_data_len:]\n",
    "valid['Predictions'] = predictions\n",
    "#visualize the data\n",
    "plt.figure(figsize=(16,8))\n",
    "plt.title('Model')\n",
    "plt.xlabel('Date')\n",
    "plt.ylabel('Low Price USD ($)')\n",
    "plt.plot(train['Low'])\n",
    "plt.plot(valid[['Low', 'Predictions']])\n",
    "plt.legend(['Train', 'Val', 'Predictions'], loc='lower right')\n",
    "plt.show()"
   ]
  },
  {
   "cell_type": "code",
   "execution_count": 84,
   "id": "4d12932d",
   "metadata": {},
   "outputs": [
    {
     "data": {
      "text/html": [
       "<div>\n",
       "<style scoped>\n",
       "    .dataframe tbody tr th:only-of-type {\n",
       "        vertical-align: middle;\n",
       "    }\n",
       "\n",
       "    .dataframe tbody tr th {\n",
       "        vertical-align: top;\n",
       "    }\n",
       "\n",
       "    .dataframe thead th {\n",
       "        text-align: right;\n",
       "    }\n",
       "</style>\n",
       "<table border=\"1\" class=\"dataframe\">\n",
       "  <thead>\n",
       "    <tr style=\"text-align: right;\">\n",
       "      <th></th>\n",
       "      <th>Low</th>\n",
       "      <th>Predictions</th>\n",
       "    </tr>\n",
       "    <tr>\n",
       "      <th>Date</th>\n",
       "      <th></th>\n",
       "      <th></th>\n",
       "    </tr>\n",
       "  </thead>\n",
       "  <tbody>\n",
       "    <tr>\n",
       "      <th>2020-03-03</th>\n",
       "      <td>1332.000000</td>\n",
       "      <td>1342.427979</td>\n",
       "    </tr>\n",
       "    <tr>\n",
       "      <th>2020-03-04</th>\n",
       "      <td>1343.109985</td>\n",
       "      <td>1346.713867</td>\n",
       "    </tr>\n",
       "    <tr>\n",
       "      <th>2020-03-05</th>\n",
       "      <td>1305.099976</td>\n",
       "      <td>1355.147583</td>\n",
       "    </tr>\n",
       "    <tr>\n",
       "      <th>2020-03-06</th>\n",
       "      <td>1261.050049</td>\n",
       "      <td>1310.825439</td>\n",
       "    </tr>\n",
       "    <tr>\n",
       "      <th>2020-03-09</th>\n",
       "      <td>1200.000000</td>\n",
       "      <td>1266.540161</td>\n",
       "    </tr>\n",
       "    <tr>\n",
       "      <th>...</th>\n",
       "      <td>...</td>\n",
       "      <td>...</td>\n",
       "    </tr>\n",
       "    <tr>\n",
       "      <th>2022-03-08</th>\n",
       "      <td>2517.215088</td>\n",
       "      <td>2437.418457</td>\n",
       "    </tr>\n",
       "    <tr>\n",
       "      <th>2022-03-09</th>\n",
       "      <td>2601.760010</td>\n",
       "      <td>2463.853760</td>\n",
       "    </tr>\n",
       "    <tr>\n",
       "      <th>2022-03-10</th>\n",
       "      <td>2628.020020</td>\n",
       "      <td>2565.390625</td>\n",
       "    </tr>\n",
       "    <tr>\n",
       "      <th>2022-03-11</th>\n",
       "      <td>2605.929932</td>\n",
       "      <td>2533.412109</td>\n",
       "    </tr>\n",
       "    <tr>\n",
       "      <th>2022-03-11</th>\n",
       "      <td>2605.929932</td>\n",
       "      <td>2514.146484</td>\n",
       "    </tr>\n",
       "  </tbody>\n",
       "</table>\n",
       "<p>513 rows × 2 columns</p>\n",
       "</div>"
      ],
      "text/plain": [
       "                    Low  Predictions\n",
       "Date                                \n",
       "2020-03-03  1332.000000  1342.427979\n",
       "2020-03-04  1343.109985  1346.713867\n",
       "2020-03-05  1305.099976  1355.147583\n",
       "2020-03-06  1261.050049  1310.825439\n",
       "2020-03-09  1200.000000  1266.540161\n",
       "...                 ...          ...\n",
       "2022-03-08  2517.215088  2437.418457\n",
       "2022-03-09  2601.760010  2463.853760\n",
       "2022-03-10  2628.020020  2565.390625\n",
       "2022-03-11  2605.929932  2533.412109\n",
       "2022-03-11  2605.929932  2514.146484\n",
       "\n",
       "[513 rows x 2 columns]"
      ]
     },
     "execution_count": 84,
     "metadata": {},
     "output_type": "execute_result"
    }
   ],
   "source": [
    "#show the valid and predicted prices\n",
    "valid"
   ]
  },
  {
   "cell_type": "code",
   "execution_count": 92,
   "id": "1dee5715",
   "metadata": {},
   "outputs": [
    {
     "name": "stdout",
     "output_type": "stream",
     "text": [
      "[[2608.7117]]\n"
     ]
    }
   ],
   "source": [
    "#get the Quote\n",
    "stock_quote = web.DataReader(STOCK, data_source = 'yahoo', start=START_DATE, end=END_DATE)\n",
    "#create new data frame\n",
    "new_df = stock_quote.filter(['Low'])\n",
    "#get the last 60 days closing price values and convert the dataframe to an array\n",
    "last_60_days = new_df[-60:].values\n",
    "#scale the data to be values between 0 and 1\n",
    "last_60_days_scaled = scaler.fit_transform(last_60_days)\n",
    "#create the empty list\n",
    "x_test = []\n",
    "#append the past 60 days\n",
    "x_test.append(last_60_days_scaled)\n",
    "#convert the x_test data set to a numpy array\n",
    "x_test = np.array(x_test)\n",
    "x_test = np.reshape(x_test,(x_test.shape[0],x_test.shape[1],1))\n",
    "#get the predicted scaled price\n",
    "low_pred_price = low_model.predict(x_test)\n",
    "#undo the scaling\n",
    "low_pred_price = scaler.inverse_transform(low_pred_price)\n",
    "print(low_pred_price)\n"
   ]
  },
  {
   "cell_type": "code",
   "execution_count": 86,
   "id": "448151a7",
   "metadata": {},
   "outputs": [
    {
     "name": "stdout",
     "output_type": "stream",
     "text": [
      "Date\n",
      "2012-01-03     324.966949\n",
      "2012-01-04     329.076538\n",
      "2012-01-05     326.889740\n",
      "2012-01-06     323.681763\n",
      "2012-01-09     309.455078\n",
      "                 ...     \n",
      "2022-03-08    2517.215088\n",
      "2022-03-09    2601.760010\n",
      "2022-03-10    2628.020020\n",
      "2022-03-11    2605.929932\n",
      "2022-03-11    2605.929932\n",
      "Name: Low, Length: 2566, dtype: float64\n"
     ]
    }
   ],
   "source": [
    "stock_quote2 = web.DataReader(STOCK, data_source = 'yahoo', start=START_DATE, end=PREDICT_DATE)\n",
    "print(stock_quote2['Low'])"
   ]
  },
  {
   "cell_type": "code",
   "execution_count": 87,
   "id": "67b06140",
   "metadata": {},
   "outputs": [],
   "source": [
    "low_model.save(low_model_path)\n",
    "loaded_low_model = load_model(low_model_path)\n"
   ]
  },
  {
   "cell_type": "code",
   "execution_count": 88,
   "id": "7b9cc069",
   "metadata": {},
   "outputs": [],
   "source": [
    "import winsound\n",
    "frequency = 2500  # Set Frequency To 2500 Hertz\n",
    "duration = 1000  # Set Duration To 1000 ms == 1 second\n",
    "winsound.Beep(frequency, duration)"
   ]
  },
  {
   "cell_type": "code",
   "execution_count": 90,
   "id": "04bd7362",
   "metadata": {},
   "outputs": [
    {
     "name": "stdout",
     "output_type": "stream",
     "text": [
      "Open price : 2684.4014\n",
      "Close price : 2614.3704\n",
      "High price : 2685.3247\n",
      "Low price : 2606.3425\n",
      "Open to Close: -70.031006\n"
     ]
    }
   ],
   "source": [
    "print(\"Open price : \", end=\"\") \n",
    "print(pred_open_price[0][0])\n",
    "print(\"Close price : \", end=\"\") \n",
    "print(close_pred_price[0][0])\n",
    "print(\"High price : \", end=\"\") \n",
    "print(high_pred_price[0][0])\n",
    "print(\"Low price : \", end=\"\") \n",
    "print(low_pred_price[0][0])\n",
    "\n",
    "print(\"Open to Close: \", end=\"\")\n",
    "print(close_pred_price[0][0]-pred_open_price[0][0]   )"
   ]
  },
  {
   "cell_type": "code",
   "execution_count": null,
   "id": "fb85a56b",
   "metadata": {},
   "outputs": [],
   "source": []
  }
 ],
 "metadata": {
  "colab": {
   "name": "apple stock forecast-checkpoint.ipynb",
   "provenance": []
  },
  "kernelspec": {
   "display_name": "Python 3 (ipykernel)",
   "language": "python",
   "name": "python3"
  },
  "language_info": {
   "codemirror_mode": {
    "name": "ipython",
    "version": 3
   },
   "file_extension": ".py",
   "mimetype": "text/x-python",
   "name": "python",
   "nbconvert_exporter": "python",
   "pygments_lexer": "ipython3",
   "version": "3.7.9"
  }
 },
 "nbformat": 4,
 "nbformat_minor": 5
}
