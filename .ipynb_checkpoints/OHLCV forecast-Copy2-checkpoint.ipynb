{
 "cells": [
  {
   "cell_type": "code",
   "execution_count": 6,
   "id": "119ef146",
   "metadata": {
    "id": "119ef146"
   },
   "outputs": [],
   "source": [
    "#import the libraries\n",
    "import math\n",
    "import pandas_datareader as web\n",
    "import numpy as np\n",
    "from sklearn.preprocessing import MinMaxScaler\n",
    "from keras.models import Sequential\n",
    "from keras.layers import Dense, LSTM\n",
    "from keras.models import load_model\n",
    "import matplotlib.pyplot as plt\n",
    "plt.style.use('fivethirtyeight')\n",
    "import pickle\n",
    "import pandas as pd\n",
    "import time\n",
    "\n",
    "start_time = time.time()\n"
   ]
  },
  {
   "cell_type": "code",
   "execution_count": 4,
   "id": "3c6186b8",
   "metadata": {},
   "outputs": [],
   "source": [
    "#MACRO DEF\n",
    "\n",
    "SOUND = 0\n",
    "STOCK = 'AAPL'\n",
    "EPOCHS = 100\n",
    "open_model_path = \"machine learning model/\"+STOCK+\"_open_model.h5\"\n",
    "high_model_path = \"machine learning model/\"+STOCK+\"_high_model.h5\"\n",
    "low_model_path = \"machine learning model/\"+STOCK+\"_low_model.h5\"\n",
    "close_model_path = \"machine learning model/\"+STOCK+\"_close_model.h5\"\n",
    "volume_model_path = \"machine learning model/\"+STOCK+\"_volume_model.h5\"\n",
    "error_model_path = \"machine learning model/\"+STOCK+\"_error_model.h5\"\n",
    "error_data = \"machine learning model/\"+STOCK+\"_error_data.csv\"\n",
    "START_DATE = '2012-01-01'\n",
    "END_DATE = '2022-03-11'\n",
    "PREDICT_DATE = '2022-03-11'\n",
    "ERR_EPOCHS = 120"
   ]
  },
  {
   "cell_type": "code",
   "execution_count": 3,
   "id": "0baa4ed2",
   "metadata": {
    "id": "0baa4ed2",
    "outputId": "9b884812-40a4-4562-f722-55f12356c439"
   },
   "outputs": [
    {
     "data": {
      "text/html": [
       "<div>\n",
       "<style scoped>\n",
       "    .dataframe tbody tr th:only-of-type {\n",
       "        vertical-align: middle;\n",
       "    }\n",
       "\n",
       "    .dataframe tbody tr th {\n",
       "        vertical-align: top;\n",
       "    }\n",
       "\n",
       "    .dataframe thead th {\n",
       "        text-align: right;\n",
       "    }\n",
       "</style>\n",
       "<table border=\"1\" class=\"dataframe\">\n",
       "  <thead>\n",
       "    <tr style=\"text-align: right;\">\n",
       "      <th></th>\n",
       "      <th>High</th>\n",
       "      <th>Low</th>\n",
       "      <th>Open</th>\n",
       "      <th>Close</th>\n",
       "      <th>Volume</th>\n",
       "      <th>Adj Close</th>\n",
       "    </tr>\n",
       "    <tr>\n",
       "      <th>Date</th>\n",
       "      <th></th>\n",
       "      <th></th>\n",
       "      <th></th>\n",
       "      <th></th>\n",
       "      <th></th>\n",
       "      <th></th>\n",
       "    </tr>\n",
       "  </thead>\n",
       "  <tbody>\n",
       "    <tr>\n",
       "      <th>2012-01-03</th>\n",
       "      <td>14.732143</td>\n",
       "      <td>14.607143</td>\n",
       "      <td>14.621429</td>\n",
       "      <td>14.686786</td>\n",
       "      <td>302220800.0</td>\n",
       "      <td>12.575918</td>\n",
       "    </tr>\n",
       "    <tr>\n",
       "      <th>2012-01-04</th>\n",
       "      <td>14.810000</td>\n",
       "      <td>14.617143</td>\n",
       "      <td>14.642857</td>\n",
       "      <td>14.765714</td>\n",
       "      <td>260022000.0</td>\n",
       "      <td>12.643504</td>\n",
       "    </tr>\n",
       "    <tr>\n",
       "      <th>2012-01-05</th>\n",
       "      <td>14.948214</td>\n",
       "      <td>14.738214</td>\n",
       "      <td>14.819643</td>\n",
       "      <td>14.929643</td>\n",
       "      <td>271269600.0</td>\n",
       "      <td>12.783870</td>\n",
       "    </tr>\n",
       "    <tr>\n",
       "      <th>2012-01-06</th>\n",
       "      <td>15.098214</td>\n",
       "      <td>14.972143</td>\n",
       "      <td>14.991786</td>\n",
       "      <td>15.085714</td>\n",
       "      <td>318292800.0</td>\n",
       "      <td>12.917511</td>\n",
       "    </tr>\n",
       "    <tr>\n",
       "      <th>2012-01-09</th>\n",
       "      <td>15.276786</td>\n",
       "      <td>15.048214</td>\n",
       "      <td>15.196429</td>\n",
       "      <td>15.061786</td>\n",
       "      <td>394024400.0</td>\n",
       "      <td>12.897019</td>\n",
       "    </tr>\n",
       "    <tr>\n",
       "      <th>...</th>\n",
       "      <td>...</td>\n",
       "      <td>...</td>\n",
       "      <td>...</td>\n",
       "      <td>...</td>\n",
       "      <td>...</td>\n",
       "      <td>...</td>\n",
       "    </tr>\n",
       "    <tr>\n",
       "      <th>2022-03-07</th>\n",
       "      <td>165.020004</td>\n",
       "      <td>159.039993</td>\n",
       "      <td>163.360001</td>\n",
       "      <td>159.300003</td>\n",
       "      <td>96418800.0</td>\n",
       "      <td>159.300003</td>\n",
       "    </tr>\n",
       "    <tr>\n",
       "      <th>2022-03-08</th>\n",
       "      <td>162.880005</td>\n",
       "      <td>155.800003</td>\n",
       "      <td>158.820007</td>\n",
       "      <td>157.440002</td>\n",
       "      <td>131148300.0</td>\n",
       "      <td>157.440002</td>\n",
       "    </tr>\n",
       "    <tr>\n",
       "      <th>2022-03-09</th>\n",
       "      <td>163.410004</td>\n",
       "      <td>159.410004</td>\n",
       "      <td>161.479996</td>\n",
       "      <td>162.949997</td>\n",
       "      <td>91454900.0</td>\n",
       "      <td>162.949997</td>\n",
       "    </tr>\n",
       "    <tr>\n",
       "      <th>2022-03-10</th>\n",
       "      <td>160.389999</td>\n",
       "      <td>155.979996</td>\n",
       "      <td>160.199997</td>\n",
       "      <td>158.520004</td>\n",
       "      <td>105342000.0</td>\n",
       "      <td>158.520004</td>\n",
       "    </tr>\n",
       "    <tr>\n",
       "      <th>2022-03-11</th>\n",
       "      <td>159.279999</td>\n",
       "      <td>154.500000</td>\n",
       "      <td>158.929993</td>\n",
       "      <td>154.729996</td>\n",
       "      <td>96836300.0</td>\n",
       "      <td>154.729996</td>\n",
       "    </tr>\n",
       "  </tbody>\n",
       "</table>\n",
       "<p>2565 rows × 6 columns</p>\n",
       "</div>"
      ],
      "text/plain": [
       "                  High         Low        Open       Close       Volume  \\\n",
       "Date                                                                      \n",
       "2012-01-03   14.732143   14.607143   14.621429   14.686786  302220800.0   \n",
       "2012-01-04   14.810000   14.617143   14.642857   14.765714  260022000.0   \n",
       "2012-01-05   14.948214   14.738214   14.819643   14.929643  271269600.0   \n",
       "2012-01-06   15.098214   14.972143   14.991786   15.085714  318292800.0   \n",
       "2012-01-09   15.276786   15.048214   15.196429   15.061786  394024400.0   \n",
       "...                ...         ...         ...         ...          ...   \n",
       "2022-03-07  165.020004  159.039993  163.360001  159.300003   96418800.0   \n",
       "2022-03-08  162.880005  155.800003  158.820007  157.440002  131148300.0   \n",
       "2022-03-09  163.410004  159.410004  161.479996  162.949997   91454900.0   \n",
       "2022-03-10  160.389999  155.979996  160.199997  158.520004  105342000.0   \n",
       "2022-03-11  159.279999  154.500000  158.929993  154.729996   96836300.0   \n",
       "\n",
       "             Adj Close  \n",
       "Date                    \n",
       "2012-01-03   12.575918  \n",
       "2012-01-04   12.643504  \n",
       "2012-01-05   12.783870  \n",
       "2012-01-06   12.917511  \n",
       "2012-01-09   12.897019  \n",
       "...                ...  \n",
       "2022-03-07  159.300003  \n",
       "2022-03-08  157.440002  \n",
       "2022-03-09  162.949997  \n",
       "2022-03-10  158.520004  \n",
       "2022-03-11  154.729996  \n",
       "\n",
       "[2565 rows x 6 columns]"
      ]
     },
     "execution_count": 3,
     "metadata": {},
     "output_type": "execute_result"
    }
   ],
   "source": [
    "#get the stock data\n",
    "df = web.DataReader(STOCK, data_source='yahoo' , start=START_DATE , end=END_DATE)\n",
    "\n",
    "#show the data\n",
    "df\n"
   ]
  },
  {
   "cell_type": "code",
   "execution_count": 4,
   "id": "8728e389",
   "metadata": {
    "id": "8728e389",
    "outputId": "e7a718db-fa12-4da6-edda-fb36457372bd"
   },
   "outputs": [
    {
     "data": {
      "text/plain": [
       "(2565, 6)"
      ]
     },
     "execution_count": 4,
     "metadata": {},
     "output_type": "execute_result"
    }
   ],
   "source": [
    "#get the number of rows and column in the data set\n",
    "df.shape"
   ]
  },
  {
   "cell_type": "code",
   "execution_count": 5,
   "id": "ede5a4f5",
   "metadata": {
    "id": "ede5a4f5",
    "outputId": "0b002ebf-5dfe-41fe-d4d0-3f53cbffafc7"
   },
   "outputs": [
    {
     "data": {
      "image/png": "[encoded data removed]",
      "text/plain": [
       "<Figure size 1152x576 with 1 Axes>"
      ]
     },
     "metadata": {},
     "output_type": "display_data"
    }
   ],
   "source": [
    "#Visualing the closing price history\n",
    "plt.figure(figsize=(16,8))\n",
    "plt.title('Close Price History')\n",
    "plt.plot(df['Close'])\n",
    "plt.xlabel('Date', fontsize=18)\n",
    "plt.ylabel('Closing Price USD($)', fontsize=18)\n",
    "plt.show()"
   ]
  },
  {
   "cell_type": "code",
   "execution_count": 6,
   "id": "860e4005",
   "metadata": {
    "id": "860e4005",
    "outputId": "3f34f0f3-065f-4c1b-c72a-8c1d7f2ed887"
   },
   "outputs": [
    {
     "data": {
      "text/plain": [
       "2052"
      ]
     },
     "execution_count": 6,
     "metadata": {},
     "output_type": "execute_result"
    }
   ],
   "source": [
    "#Create a new data\n",
    "data = df.filter(['Close'])\n",
    "#convert the dataframe to a numpy array\n",
    "dataset = data.values\n",
    "#get the number of rows to train the model on\n",
    "training_data_len = math.ceil(len(dataset)*.8)\n",
    "training_data_len"
   ]
  },
  {
   "cell_type": "code",
   "execution_count": 7,
   "id": "83ae7dd3",
   "metadata": {
    "id": "83ae7dd3",
    "outputId": "b2b3173d-5c6a-495e-a268-4051931aa6ac"
   },
   "outputs": [
    {
     "data": {
      "text/plain": [
       "array([[0.00439887],\n",
       "       [0.00486851],\n",
       "       [0.00584391],\n",
       "       ...,\n",
       "       [0.88658982],\n",
       "       [0.86023062],\n",
       "       [0.83767944]])"
      ]
     },
     "execution_count": 7,
     "metadata": {},
     "output_type": "execute_result"
    }
   ],
   "source": [
    "#Scale the data\n",
    "scaler = MinMaxScaler(feature_range=(0,1))\n",
    "scaled_data = scaler.fit_transform(dataset)\n",
    "\n",
    "scaled_data"
   ]
  },
  {
   "cell_type": "code",
   "execution_count": 8,
   "id": "22de3219",
   "metadata": {
    "id": "22de3219",
    "outputId": "b1fd5125-11fa-43c5-86bf-d71a87b0857a"
   },
   "outputs": [
    {
     "name": "stdout",
     "output_type": "stream",
     "text": [
      "[array([0.00439887, 0.00486851, 0.00584391, 0.00677256, 0.00663019,\n",
      "       0.00695107, 0.00680444, 0.00655793, 0.00622217, 0.00726133,\n",
      "       0.00819848, 0.00790947, 0.0063263 , 0.00783722, 0.00634968,\n",
      "       0.01192796, 0.01149658, 0.01205972, 0.01327737, 0.01401476,\n",
      "       0.01395314, 0.01372576, 0.01469479, 0.01560643, 0.01663922,\n",
      "       0.01830739, 0.02181161, 0.02186474, 0.02381555, 0.02527333,\n",
      "       0.0227679 , 0.02373267, 0.02371354, 0.02641875, 0.02603411,\n",
      "       0.026746  , 0.02802528, 0.02873719, 0.03078787, 0.03228178,\n",
      "       0.03271317, 0.03286405, 0.03030973, 0.02969346, 0.02978484,\n",
      "       0.03218616, 0.03286193, 0.03431335, 0.03773469, 0.04229932,\n",
      "       0.04144504, 0.04144716, 0.04474738, 0.04578017, 0.04504489,\n",
      "       0.04437338, 0.04367423, 0.04599691, 0.04759072, 0.04825798])]\n",
      "[0.04660893460974819]\n",
      "\n",
      "[array([0.00439887, 0.00486851, 0.00584391, 0.00677256, 0.00663019,\n",
      "       0.00695107, 0.00680444, 0.00655793, 0.00622217, 0.00726133,\n",
      "       0.00819848, 0.00790947, 0.0063263 , 0.00783722, 0.00634968,\n",
      "       0.01192796, 0.01149658, 0.01205972, 0.01327737, 0.01401476,\n",
      "       0.01395314, 0.01372576, 0.01469479, 0.01560643, 0.01663922,\n",
      "       0.01830739, 0.02181161, 0.02186474, 0.02381555, 0.02527333,\n",
      "       0.0227679 , 0.02373267, 0.02371354, 0.02641875, 0.02603411,\n",
      "       0.026746  , 0.02802528, 0.02873719, 0.03078787, 0.03228178,\n",
      "       0.03271317, 0.03286405, 0.03030973, 0.02969346, 0.02978484,\n",
      "       0.03218616, 0.03286193, 0.03431335, 0.03773469, 0.04229932,\n",
      "       0.04144504, 0.04144716, 0.04474738, 0.04578017, 0.04504489,\n",
      "       0.04437338, 0.04367423, 0.04599691, 0.04759072, 0.04825798]), array([0.00486851, 0.00584391, 0.00677256, 0.00663019, 0.00695107,\n",
      "       0.00680444, 0.00655793, 0.00622217, 0.00726133, 0.00819848,\n",
      "       0.00790947, 0.0063263 , 0.00783722, 0.00634968, 0.01192796,\n",
      "       0.01149658, 0.01205972, 0.01327737, 0.01401476, 0.01395314,\n",
      "       0.01372576, 0.01469479, 0.01560643, 0.01663922, 0.01830739,\n",
      "       0.02181161, 0.02186474, 0.02381555, 0.02527333, 0.0227679 ,\n",
      "       0.02373267, 0.02371354, 0.02641875, 0.02603411, 0.026746  ,\n",
      "       0.02802528, 0.02873719, 0.03078787, 0.03228178, 0.03271317,\n",
      "       0.03286405, 0.03030973, 0.02969346, 0.02978484, 0.03218616,\n",
      "       0.03286193, 0.03431335, 0.03773469, 0.04229932, 0.04144504,\n",
      "       0.04144716, 0.04474738, 0.04578017, 0.04504489, 0.04437338,\n",
      "       0.04367423, 0.04599691, 0.04759072, 0.04825798, 0.04660893])]\n",
      "[0.04660893460974819, 0.04441800167645807]\n",
      "\n"
     ]
    }
   ],
   "source": [
    "#creating the training data set\n",
    "#create the scaled training data set\n",
    "train_data = scaled_data[0:training_data_len,:]\n",
    "#split the data into x_train and y_train data sets\n",
    "x_train = []\n",
    "y_train = []\n",
    "for i in range(60, len(train_data)):\n",
    "    x_train.append(train_data[i-60:i,0])\n",
    "    y_train.append(train_data[i,0])\n",
    "    if i<=61:\n",
    "        print(x_train)\n",
    "        print(y_train)\n",
    "        print()"
   ]
  },
  {
   "cell_type": "code",
   "execution_count": 9,
   "id": "d58092dc",
   "metadata": {
    "id": "d58092dc"
   },
   "outputs": [],
   "source": [
    "#Convert the X_train and Y_train to numpy arrays\n",
    "x_train , y_train = np.array(x_train), np.array(y_train)"
   ]
  },
  {
   "cell_type": "code",
   "execution_count": 10,
   "id": "de162dec",
   "metadata": {
    "id": "de162dec",
    "outputId": "14201c32-f5ea-4645-ae7d-57a36706f4c6"
   },
   "outputs": [
    {
     "data": {
      "text/plain": [
       "(1992, 60, 1)"
      ]
     },
     "execution_count": 10,
     "metadata": {},
     "output_type": "execute_result"
    }
   ],
   "source": [
    "#Reshape the data\n",
    "x_train = np.reshape(x_train,(x_train.shape[0],x_train.shape[1],1))\n",
    "x_train.shape"
   ]
  },
  {
   "cell_type": "code",
   "execution_count": 11,
   "id": "eefcb209",
   "metadata": {
    "id": "eefcb209"
   },
   "outputs": [],
   "source": [
    "#Building the LSTM model\n",
    "close_model = Sequential()\n",
    "close_model.add(LSTM(50, return_sequences=True, input_shape =(x_train.shape[1],1)))\n",
    "close_model.add(LSTM(50, return_sequences=True))\n",
    "close_model.add(LSTM(50, return_sequences=True))\n",
    "close_model.add(LSTM(50, return_sequences=False))\n",
    "close_model.add(Dense(25))\n",
    "close_model.add(Dense(1))"
   ]
  },
  {
   "cell_type": "code",
   "execution_count": 12,
   "id": "eeab6098",
   "metadata": {
    "id": "eeab6098"
   },
   "outputs": [],
   "source": [
    "#compile the Model\n",
    "close_model.compile(optimizer='adam', loss='mean_squared_error')\n"
   ]
  },
  {
   "cell_type": "code",
   "execution_count": 13,
   "id": "8729081e",
   "metadata": {
    "id": "8729081e",
    "outputId": "95c61fc5-cbb8-42a5-a649-7ee43b055955",
    "scrolled": true
   },
   "outputs": [
    {
     "name": "stdout",
     "output_type": "stream",
     "text": [
      "Epoch 1/100\n",
      "63/63 [==============================] - 13s 84ms/step - loss: 0.0014\n",
      "Epoch 2/100\n",
      "63/63 [==============================] - 5s 87ms/step - loss: 1.4769e-04\n",
      "Epoch 3/100\n",
      "63/63 [==============================] - 5s 85ms/step - loss: 1.3902e-04\n",
      "Epoch 4/100\n",
      "63/63 [==============================] - 5s 85ms/step - loss: 1.1400e-04\n",
      "Epoch 5/100\n",
      "63/63 [==============================] - 5s 86ms/step - loss: 1.5676e-04\n",
      "Epoch 6/100\n",
      "63/63 [==============================] - 6s 91ms/step - loss: 1.0941e-04\n",
      "Epoch 7/100\n",
      "63/63 [==============================] - 7s 110ms/step - loss: 9.5111e-05\n",
      "Epoch 8/100\n",
      "63/63 [==============================] - 10s 164ms/step - loss: 9.3959e-05\n",
      "Epoch 9/100\n",
      "63/63 [==============================] - 7s 105ms/step - loss: 9.2552e-05\n",
      "Epoch 10/100\n",
      "63/63 [==============================] - 6s 96ms/step - loss: 1.1223e-04\n",
      "Epoch 11/100\n",
      "63/63 [==============================] - 6s 90ms/step - loss: 8.1747e-05\n",
      "Epoch 12/100\n",
      "63/63 [==============================] - 6s 103ms/step - loss: 8.9560e-05\n",
      "Epoch 13/100\n",
      "63/63 [==============================] - 10s 165ms/step - loss: 1.0403e-04\n",
      "Epoch 14/100\n",
      "63/63 [==============================] - 12s 194ms/step - loss: 6.7571e-05\n",
      "Epoch 15/100\n",
      "63/63 [==============================] - 9s 148ms/step - loss: 7.9408e-05\n",
      "Epoch 16/100\n",
      "63/63 [==============================] - 6s 94ms/step - loss: 6.7647e-05\n",
      "Epoch 17/100\n",
      "63/63 [==============================] - 10s 152ms/step - loss: 7.9831e-05\n",
      "Epoch 18/100\n",
      "63/63 [==============================] - 11s 178ms/step - loss: 6.3789e-05\n",
      "Epoch 19/100\n",
      "63/63 [==============================] - 9s 145ms/step - loss: 6.2225e-05\n",
      "Epoch 20/100\n",
      "63/63 [==============================] - 6s 89ms/step - loss: 6.3960e-05\n",
      "Epoch 21/100\n",
      "63/63 [==============================] - 8s 128ms/step - loss: 5.1091e-05\n",
      "Epoch 22/100\n",
      "63/63 [==============================] - 11s 168ms/step - loss: 6.4470e-05\n",
      "Epoch 23/100\n",
      "63/63 [==============================] - 9s 148ms/step - loss: 5.6829e-05\n",
      "Epoch 24/100\n",
      "63/63 [==============================] - 6s 91ms/step - loss: 4.8797e-05\n",
      "Epoch 25/100\n",
      "63/63 [==============================] - 6s 91ms/step - loss: 4.7362e-05\n",
      "Epoch 26/100\n",
      "63/63 [==============================] - 10s 164ms/step - loss: 3.8499e-05\n",
      "Epoch 27/100\n",
      "63/63 [==============================] - 11s 171ms/step - loss: 4.4635e-05\n",
      "Epoch 28/100\n",
      "63/63 [==============================] - 8s 133ms/step - loss: 5.0234e-05\n",
      "Epoch 29/100\n",
      "63/63 [==============================] - 6s 97ms/step - loss: 4.4388e-05\n",
      "Epoch 30/100\n",
      "63/63 [==============================] - 6s 93ms/step - loss: 3.3944e-05\n",
      "Epoch 31/100\n",
      "63/63 [==============================] - 6s 91ms/step - loss: 3.4626e-05\n",
      "Epoch 32/100\n",
      "63/63 [==============================] - 7s 120ms/step - loss: 3.4104e-05\n",
      "Epoch 33/100\n",
      "63/63 [==============================] - 11s 167ms/step - loss: 3.2997e-05\n",
      "Epoch 34/100\n",
      "63/63 [==============================] - 10s 164ms/step - loss: 3.2323e-05\n",
      "Epoch 35/100\n",
      "63/63 [==============================] - 10s 161ms/step - loss: 2.7165e-05\n",
      "Epoch 36/100\n",
      "63/63 [==============================] - 6s 92ms/step - loss: 4.9899e-05\n",
      "Epoch 37/100\n",
      "63/63 [==============================] - 6s 87ms/step - loss: 2.9347e-05\n",
      "Epoch 38/100\n",
      "63/63 [==============================] - 6s 89ms/step - loss: 3.1626e-05\n",
      "Epoch 39/100\n",
      "63/63 [==============================] - 8s 122ms/step - loss: 2.7468e-05\n",
      "Epoch 40/100\n",
      "63/63 [==============================] - 11s 170ms/step - loss: 3.6385e-05\n",
      "Epoch 41/100\n",
      "63/63 [==============================] - 10s 159ms/step - loss: 3.0452e-05\n",
      "Epoch 42/100\n",
      "63/63 [==============================] - 10s 163ms/step - loss: 3.0206e-05\n",
      "Epoch 43/100\n",
      "63/63 [==============================] - 9s 142ms/step - loss: 3.1671e-05\n",
      "Epoch 44/100\n",
      "63/63 [==============================] - 6s 89ms/step - loss: 2.8226e-05\n",
      "Epoch 45/100\n",
      "63/63 [==============================] - 9s 143ms/step - loss: 3.2621e-05\n",
      "Epoch 46/100\n",
      "63/63 [==============================] - 11s 168ms/step - loss: 2.8009e-05\n",
      "Epoch 47/100\n",
      "63/63 [==============================] - 11s 170ms/step - loss: 3.1129e-05\n",
      "Epoch 48/100\n",
      "63/63 [==============================] - 9s 140ms/step - loss: 3.0220e-05\n",
      "Epoch 49/100\n",
      "63/63 [==============================] - 6s 90ms/step - loss: 2.9249e-05\n",
      "Epoch 50/100\n",
      "63/63 [==============================] - 8s 121ms/step - loss: 2.7916e-05\n",
      "Epoch 51/100\n",
      "63/63 [==============================] - 10s 164ms/step - loss: 3.4821e-05\n",
      "Epoch 52/100\n",
      "63/63 [==============================] - 14s 217ms/step - loss: 2.3106e-05\n",
      "Epoch 53/100\n",
      "63/63 [==============================] - 13s 208ms/step - loss: 2.2298e-05\n",
      "Epoch 54/100\n",
      "63/63 [==============================] - 11s 178ms/step - loss: 2.2722e-05\n",
      "Epoch 55/100\n",
      "63/63 [==============================] - 11s 180ms/step - loss: 2.1528e-05\n",
      "Epoch 56/100\n",
      "63/63 [==============================] - 11s 167ms/step - loss: 4.1412e-05\n",
      "Epoch 57/100\n",
      "63/63 [==============================] - 12s 197ms/step - loss: 2.7206e-05\n",
      "Epoch 58/100\n",
      "63/63 [==============================] - 11s 170ms/step - loss: 2.2589e-05\n",
      "Epoch 59/100\n",
      "63/63 [==============================] - 13s 199ms/step - loss: 2.1934e-05\n",
      "Epoch 60/100\n",
      "63/63 [==============================] - 11s 182ms/step - loss: 3.0925e-05\n",
      "Epoch 61/100\n",
      "63/63 [==============================] - 11s 168ms/step - loss: 1.8976e-05\n",
      "Epoch 62/100\n",
      "63/63 [==============================] - 11s 175ms/step - loss: 2.1613e-05\n",
      "Epoch 63/100\n",
      "63/63 [==============================] - 11s 170ms/step - loss: 2.2083e-05\n",
      "Epoch 64/100\n",
      "63/63 [==============================] - 11s 172ms/step - loss: 2.1743e-05\n",
      "Epoch 65/100\n",
      "63/63 [==============================] - 10s 166ms/step - loss: 1.9942e-05\n",
      "Epoch 66/100\n",
      "63/63 [==============================] - 11s 172ms/step - loss: 2.3238e-05\n",
      "Epoch 67/100\n",
      "63/63 [==============================] - 12s 194ms/step - loss: 2.4774e-05\n",
      "Epoch 68/100\n",
      "63/63 [==============================] - 11s 177ms/step - loss: 1.8389e-05\n",
      "Epoch 69/100\n",
      "63/63 [==============================] - 11s 175ms/step - loss: 1.8291e-05\n",
      "Epoch 70/100\n",
      "63/63 [==============================] - 8s 121ms/step - loss: 1.9477e-05\n",
      "Epoch 71/100\n",
      "63/63 [==============================] - 6s 91ms/step - loss: 1.6880e-05\n",
      "Epoch 72/100\n",
      "63/63 [==============================] - 7s 110ms/step - loss: 1.7290e-05\n",
      "Epoch 73/100\n",
      "63/63 [==============================] - 11s 176ms/step - loss: 2.0995e-05\n",
      "Epoch 74/100\n",
      "63/63 [==============================] - 11s 171ms/step - loss: 2.6382e-05\n",
      "Epoch 75/100\n",
      "63/63 [==============================] - 10s 163ms/step - loss: 1.8819e-05\n",
      "Epoch 76/100\n",
      "63/63 [==============================] - 10s 165ms/step - loss: 1.8952e-05\n",
      "Epoch 77/100\n",
      "63/63 [==============================] - 10s 164ms/step - loss: 2.3487e-05\n",
      "Epoch 78/100\n",
      "63/63 [==============================] - 12s 187ms/step - loss: 1.9902e-05\n",
      "Epoch 79/100\n",
      "63/63 [==============================] - 11s 167ms/step - loss: 2.3146e-05\n",
      "Epoch 80/100\n",
      "63/63 [==============================] - 10s 163ms/step - loss: 1.6488e-05\n",
      "Epoch 81/100\n",
      "63/63 [==============================] - 10s 166ms/step - loss: 1.7756e-05\n",
      "Epoch 82/100\n",
      "63/63 [==============================] - 10s 163ms/step - loss: 1.7828e-05\n",
      "Epoch 83/100\n",
      "63/63 [==============================] - 8s 122ms/step - loss: 1.5904e-05\n",
      "Epoch 84/100\n",
      "63/63 [==============================] - 6s 89ms/step - loss: 2.2165e-05\n",
      "Epoch 85/100\n",
      "63/63 [==============================] - 8s 124ms/step - loss: 1.7791e-05\n",
      "Epoch 86/100\n",
      "63/63 [==============================] - 10s 161ms/step - loss: 3.0684e-05\n",
      "Epoch 87/100\n",
      "63/63 [==============================] - 10s 162ms/step - loss: 1.4836e-05\n",
      "Epoch 88/100\n",
      "63/63 [==============================] - 10s 160ms/step - loss: 1.9248e-05\n",
      "Epoch 89/100\n",
      "63/63 [==============================] - 10s 160ms/step - loss: 1.4201e-05\n",
      "Epoch 90/100\n",
      "63/63 [==============================] - 10s 162ms/step - loss: 1.7297e-05\n",
      "Epoch 91/100\n",
      "63/63 [==============================] - 6s 93ms/step - loss: 1.7210e-05\n",
      "Epoch 92/100\n",
      "63/63 [==============================] - 6s 90ms/step - loss: 2.9436e-05\n",
      "Epoch 93/100\n",
      "63/63 [==============================] - 11s 171ms/step - loss: 1.8602e-05\n",
      "Epoch 94/100\n",
      "63/63 [==============================] - 11s 182ms/step - loss: 1.7687e-05\n"
     ]
    },
    {
     "name": "stdout",
     "output_type": "stream",
     "text": [
      "Epoch 95/100\n",
      "63/63 [==============================] - 11s 173ms/step - loss: 1.5685e-05\n",
      "Epoch 96/100\n",
      "63/63 [==============================] - 11s 170ms/step - loss: 1.7242e-05\n",
      "Epoch 97/100\n",
      "63/63 [==============================] - 10s 163ms/step - loss: 1.5474e-05\n",
      "Epoch 98/100\n",
      "63/63 [==============================] - 11s 169ms/step - loss: 1.6772e-05\n",
      "Epoch 99/100\n",
      "63/63 [==============================] - 10s 163ms/step - loss: 1.9486e-05\n",
      "Epoch 100/100\n",
      "63/63 [==============================] - 11s 171ms/step - loss: 1.6837e-05\n"
     ]
    },
    {
     "data": {
      "text/plain": [
       "<keras.callbacks.History at 0x2291af8a388>"
      ]
     },
     "execution_count": 13,
     "metadata": {},
     "output_type": "execute_result"
    }
   ],
   "source": [
    "#train the model\n",
    "close_model.fit(x_train, y_train, batch_size=32, epochs=EPOCHS)"
   ]
  },
  {
   "cell_type": "code",
   "execution_count": 14,
   "id": "1ffb2cf5",
   "metadata": {
    "id": "1ffb2cf5"
   },
   "outputs": [],
   "source": [
    "#create the testing data set\n",
    "#create a new array containing scaled values from index 1543 to 2003\n",
    "test_data = scaled_data[training_data_len - 60: , :]\n",
    "#create the data sets x_test adn y_test\n",
    "x_test = []\n",
    "y_test = dataset[training_data_len:,:]\n",
    "for i in range(60, len(test_data)):\n",
    "    x_test.append(test_data[i-60:i,0])\n",
    "    \n",
    "    \n"
   ]
  },
  {
   "cell_type": "code",
   "execution_count": 15,
   "id": "e47d88b9",
   "metadata": {
    "id": "e47d88b9"
   },
   "outputs": [],
   "source": [
    "#convert the data to a numpy array\n",
    "x_test = np.array(x_test)"
   ]
  },
  {
   "cell_type": "code",
   "execution_count": 16,
   "id": "ab219d64",
   "metadata": {
    "id": "ab219d64"
   },
   "outputs": [],
   "source": [
    "#resahpe the data\n",
    "x_test = np.reshape(x_test,(x_test.shape[0],x_test.shape[1],1))"
   ]
  },
  {
   "cell_type": "code",
   "execution_count": 17,
   "id": "f0e9563d",
   "metadata": {
    "id": "f0e9563d"
   },
   "outputs": [],
   "source": [
    "#get the models predicted price values\n",
    "predictions = close_model.predict(x_test)\n",
    "predictions = scaler.inverse_transform(predictions)"
   ]
  },
  {
   "cell_type": "code",
   "execution_count": 18,
   "id": "c366802e",
   "metadata": {
    "id": "c366802e",
    "outputId": "f50b6f6e-e0a7-41fa-ac47-e5623cd84398"
   },
   "outputs": [
    {
     "data": {
      "text/plain": [
       "4.390116976018538"
      ]
     },
     "execution_count": 18,
     "metadata": {},
     "output_type": "execute_result"
    }
   ],
   "source": [
    "#get the root mean squared error (RMSE)\n",
    "rmse =  np.sqrt(np.mean(predictions - y_test)**2)\n",
    "rmse"
   ]
  },
  {
   "cell_type": "code",
   "execution_count": 19,
   "id": "30fda6a3",
   "metadata": {
    "id": "30fda6a3",
    "outputId": "ea646a8d-4c11-4038-aa38-e998e92d3d07"
   },
   "outputs": [
    {
     "name": "stderr",
     "output_type": "stream",
     "text": [
      "C:\\Users\\Abhishek Rao\\AppData\\Local\\Packages\\PythonSoftwareFoundation.Python.3.7_qbz5n2kfra8p0\\LocalCache\\local-packages\\Python37\\site-packages\\ipykernel_launcher.py:4: SettingWithCopyWarning: \n",
      "A value is trying to be set on a copy of a slice from a DataFrame.\n",
      "Try using .loc[row_indexer,col_indexer] = value instead\n",
      "\n",
      "See the caveats in the documentation: https://pandas.pydata.org/pandas-docs/stable/user_guide/indexing.html#returning-a-view-versus-a-copy\n",
      "  after removing the cwd from sys.path.\n"
     ]
    },
    {
     "data": {
      "image/png": "[encoded data removed]",
      "text/plain": [
       "<Figure size 1152x576 with 1 Axes>"
      ]
     },
     "metadata": {},
     "output_type": "display_data"
    }
   ],
   "source": [
    "#plot the date\n",
    "train = data[:training_data_len]\n",
    "valid = data[training_data_len:]\n",
    "valid['Predictions'] = predictions\n",
    "#visualize the data\n",
    "plt.figure(figsize=(16,8))\n",
    "plt.title('Model')\n",
    "plt.xlabel('Date')\n",
    "plt.ylabel('Close Price USD ($)')\n",
    "plt.plot(train['Close'])\n",
    "plt.plot(valid[['Close', 'Predictions']])\n",
    "plt.legend(['Train', 'Val', 'Predictions'], loc='lower right')\n",
    "plt.show()"
   ]
  },
  {
   "cell_type": "code",
   "execution_count": 20,
   "id": "94010774",
   "metadata": {
    "id": "94010774",
    "outputId": "52e5e20d-08d8-4359-96a1-e9c494ef7704"
   },
   "outputs": [
    {
     "data": {
      "text/html": [
       "<div>\n",
       "<style scoped>\n",
       "    .dataframe tbody tr th:only-of-type {\n",
       "        vertical-align: middle;\n",
       "    }\n",
       "\n",
       "    .dataframe tbody tr th {\n",
       "        vertical-align: top;\n",
       "    }\n",
       "\n",
       "    .dataframe thead th {\n",
       "        text-align: right;\n",
       "    }\n",
       "</style>\n",
       "<table border=\"1\" class=\"dataframe\">\n",
       "  <thead>\n",
       "    <tr style=\"text-align: right;\">\n",
       "      <th></th>\n",
       "      <th>Close</th>\n",
       "      <th>Predictions</th>\n",
       "    </tr>\n",
       "    <tr>\n",
       "      <th>Date</th>\n",
       "      <th></th>\n",
       "      <th></th>\n",
       "    </tr>\n",
       "  </thead>\n",
       "  <tbody>\n",
       "    <tr>\n",
       "      <th>2020-03-02</th>\n",
       "      <td>74.702499</td>\n",
       "      <td>67.937401</td>\n",
       "    </tr>\n",
       "    <tr>\n",
       "      <th>2020-03-03</th>\n",
       "      <td>72.330002</td>\n",
       "      <td>75.175636</td>\n",
       "    </tr>\n",
       "    <tr>\n",
       "      <th>2020-03-04</th>\n",
       "      <td>75.684998</td>\n",
       "      <td>70.557777</td>\n",
       "    </tr>\n",
       "    <tr>\n",
       "      <th>2020-03-05</th>\n",
       "      <td>73.230003</td>\n",
       "      <td>75.666428</td>\n",
       "    </tr>\n",
       "    <tr>\n",
       "      <th>2020-03-06</th>\n",
       "      <td>72.257500</td>\n",
       "      <td>72.664581</td>\n",
       "    </tr>\n",
       "    <tr>\n",
       "      <th>...</th>\n",
       "      <td>...</td>\n",
       "      <td>...</td>\n",
       "    </tr>\n",
       "    <tr>\n",
       "      <th>2022-03-07</th>\n",
       "      <td>159.300003</td>\n",
       "      <td>152.856628</td>\n",
       "    </tr>\n",
       "    <tr>\n",
       "      <th>2022-03-08</th>\n",
       "      <td>157.440002</td>\n",
       "      <td>150.100159</td>\n",
       "    </tr>\n",
       "    <tr>\n",
       "      <th>2022-03-09</th>\n",
       "      <td>162.949997</td>\n",
       "      <td>148.441284</td>\n",
       "    </tr>\n",
       "    <tr>\n",
       "      <th>2022-03-10</th>\n",
       "      <td>158.520004</td>\n",
       "      <td>155.765549</td>\n",
       "    </tr>\n",
       "    <tr>\n",
       "      <th>2022-03-11</th>\n",
       "      <td>154.729996</td>\n",
       "      <td>145.328964</td>\n",
       "    </tr>\n",
       "  </tbody>\n",
       "</table>\n",
       "<p>513 rows × 2 columns</p>\n",
       "</div>"
      ],
      "text/plain": [
       "                 Close  Predictions\n",
       "Date                               \n",
       "2020-03-02   74.702499    67.937401\n",
       "2020-03-03   72.330002    75.175636\n",
       "2020-03-04   75.684998    70.557777\n",
       "2020-03-05   73.230003    75.666428\n",
       "2020-03-06   72.257500    72.664581\n",
       "...                ...          ...\n",
       "2022-03-07  159.300003   152.856628\n",
       "2022-03-08  157.440002   150.100159\n",
       "2022-03-09  162.949997   148.441284\n",
       "2022-03-10  158.520004   155.765549\n",
       "2022-03-11  154.729996   145.328964\n",
       "\n",
       "[513 rows x 2 columns]"
      ]
     },
     "execution_count": 20,
     "metadata": {},
     "output_type": "execute_result"
    }
   ],
   "source": [
    "#show the valid and predicted prices\n",
    "valid"
   ]
  },
  {
   "cell_type": "code",
   "execution_count": 21,
   "id": "be8deaf4",
   "metadata": {
    "id": "be8deaf4",
    "outputId": "b9b9bea2-8f3f-4d3c-c9f8-88087470817f"
   },
   "outputs": [
    {
     "name": "stdout",
     "output_type": "stream",
     "text": [
      "[[154.65108]]\n"
     ]
    }
   ],
   "source": [
    "#get the Quote\n",
    "stock_quote = web.DataReader(STOCK, data_source = 'yahoo', start=START_DATE, end=END_DATE)\n",
    "#create new data frame\n",
    "new_df = stock_quote.filter(['Close'])\n",
    "#get the last 60 days closing price values and convert the dataframe to an array\n",
    "last_60_days = new_df[-60:].values\n",
    "#scale the data to be values between 0 and 1\n",
    "last_60_days_scaled = scaler.fit_transform(last_60_days)\n",
    "#create the empty list\n",
    "x_test = []\n",
    "#append the past 60 days\n",
    "x_test.append(last_60_days_scaled)\n",
    "#convert the x_test data set to a numpy array\n",
    "x_test = np.array(x_test)\n",
    "x_test = np.reshape(x_test,(x_test.shape[0],x_test.shape[1],1))\n",
    "#get the predicted scaled price\n",
    "close_pred_price = close_model.predict(x_test)\n",
    "#undo the scaling\n",
    "close_pred_price = scaler.inverse_transform(close_pred_price)\n",
    "print(close_pred_price)\n"
   ]
  },
  {
   "cell_type": "code",
   "execution_count": 22,
   "id": "c2efab6b",
   "metadata": {
    "id": "c2efab6b",
    "outputId": "598b1ec6-771b-46c3-c09e-ab3bad3f1d95",
    "scrolled": true
   },
   "outputs": [
    {
     "name": "stdout",
     "output_type": "stream",
     "text": [
      "Date\n",
      "2012-01-03     14.686786\n",
      "2012-01-04     14.765714\n",
      "2012-01-05     14.929643\n",
      "2012-01-06     15.085714\n",
      "2012-01-09     15.061786\n",
      "                 ...    \n",
      "2022-03-07    159.300003\n",
      "2022-03-08    157.440002\n",
      "2022-03-09    162.949997\n",
      "2022-03-10    158.520004\n",
      "2022-03-11    154.729996\n",
      "Name: Close, Length: 2565, dtype: float64\n"
     ]
    }
   ],
   "source": [
    "stock_quote2 = web.DataReader(STOCK, data_source = 'yahoo', start=START_DATE, end=PREDICT_DATE)\n",
    "print(stock_quote2['Close'])"
   ]
  },
  {
   "cell_type": "code",
   "execution_count": 23,
   "id": "bfd5c96d",
   "metadata": {
    "id": "bfd5c96d"
   },
   "outputs": [],
   "source": [
    "close_model.save(close_model_path)\n",
    "loaded_close_model = load_model(close_model_path)\n"
   ]
  },
  {
   "cell_type": "code",
   "execution_count": 24,
   "id": "7b7a7951",
   "metadata": {
    "scrolled": true
   },
   "outputs": [
    {
     "name": "stdout",
     "output_type": "stream",
     "text": [
      "Date\n",
      "2012-01-03     14.686786\n",
      "2012-01-04     14.765714\n",
      "2012-01-05     14.929643\n",
      "2012-01-06     15.085714\n",
      "2012-01-09     15.061786\n",
      "                 ...    \n",
      "2022-03-07    159.300003\n",
      "2022-03-08    157.440002\n",
      "2022-03-09    162.949997\n",
      "2022-03-10    158.520004\n",
      "2022-03-11    154.729996\n",
      "Name: Close, Length: 2565, dtype: float64\n"
     ]
    }
   ],
   "source": [
    "stock_quote2 = web.DataReader(STOCK, data_source = 'yahoo', start=START_DATE, end=PREDICT_DATE)\n",
    "print(stock_quote2['Close'])"
   ]
  },
  {
   "cell_type": "code",
   "execution_count": 25,
   "id": "2d66ed1a",
   "metadata": {},
   "outputs": [],
   "source": [
    "if(SOUND==1):\n",
    "    import winsound\n",
    "    frequency = 2500  # Set Frequency To 2500 Hertz\n",
    "    duration = 1000  # Set Duration To 1000 ms == 1 second\n",
    "    winsound.Beep(frequency, duration)\n",
    "    winsound.Beep(37, 50)\n",
    "\n"
   ]
  },
  {
   "cell_type": "code",
   "execution_count": 26,
   "id": "c97e41ba",
   "metadata": {},
   "outputs": [
    {
     "data": {
      "image/png": "[encoded data removed]",
      "text/plain": [
       "<Figure size 1152x576 with 1 Axes>"
      ]
     },
     "metadata": {},
     "output_type": "display_data"
    }
   ],
   "source": [
    "#Visualing the closing price history\n",
    "plt.figure(figsize=(16,8))\n",
    "plt.title('Open Price History')\n",
    "plt.plot(df['Open'])\n",
    "plt.xlabel('Date', fontsize=18)\n",
    "plt.ylabel('Open Price USD($)', fontsize=18)\n",
    "plt.show()"
   ]
  },
  {
   "cell_type": "code",
   "execution_count": 27,
   "id": "2bace870",
   "metadata": {},
   "outputs": [
    {
     "data": {
      "text/plain": [
       "2052"
      ]
     },
     "execution_count": 27,
     "metadata": {},
     "output_type": "execute_result"
    }
   ],
   "source": [
    "#Create a new data\n",
    "data = df.filter(['Open'])\n",
    "#convert the dataframe to a numpy array\n",
    "dataset = data.values\n",
    "#get the number of rows to train the model on\n",
    "training_data_len = math.ceil(len(dataset)*.8)\n",
    "training_data_len"
   ]
  },
  {
   "cell_type": "code",
   "execution_count": 28,
   "id": "9418c0a7",
   "metadata": {},
   "outputs": [
    {
     "data": {
      "text/plain": [
       "array([[0.00453481],\n",
       "       [0.00466177],\n",
       "       [0.00570924],\n",
       "       ...,\n",
       "       [0.87468439],\n",
       "       [0.86710028],\n",
       "       [0.8595754 ]])"
      ]
     },
     "execution_count": 28,
     "metadata": {},
     "output_type": "execute_result"
    }
   ],
   "source": [
    "#Scale the data\n",
    "scaler = MinMaxScaler(feature_range=(0,1))\n",
    "scaled_data = scaler.fit_transform(dataset)\n",
    "\n",
    "scaled_data"
   ]
  },
  {
   "cell_type": "code",
   "execution_count": 29,
   "id": "e7d82de6",
   "metadata": {},
   "outputs": [
    {
     "name": "stdout",
     "output_type": "stream",
     "text": [
      "[array([0.00453481, 0.00466177, 0.00570924, 0.00672921, 0.00794173,\n",
      "       0.00802849, 0.00734499, 0.00726035, 0.0067144 , 0.00766664,\n",
      "       0.00825068, 0.00892572, 0.00836283, 0.00734287, 0.00785709,\n",
      "       0.01406573, 0.01277914, 0.01192847, 0.01221837, 0.01430908,\n",
      "       0.01490582, 0.01437468, 0.01467094, 0.01489947, 0.01635324,\n",
      "       0.01746419, 0.01963531, 0.02179374, 0.02360723, 0.02469279,\n",
      "       0.02672425, 0.02190801, 0.0243648 , 0.02516257, 0.02647455,\n",
      "       0.02689777, 0.02786906, 0.0282161 , 0.02962331, 0.03250121,\n",
      "       0.03389995, 0.03306833, 0.03331803, 0.02871339, 0.03149395,\n",
      "       0.03104745, 0.03306198, 0.03407136, 0.03588275, 0.04022287,\n",
      "       0.04478518, 0.0416343 , 0.04452279, 0.04476402, 0.04544752,\n",
      "       0.04439793, 0.0449714 , 0.04482326, 0.04617546, 0.0487571 ])]\n",
      "[0.047572090040578996]\n",
      "\n",
      "[array([0.00453481, 0.00466177, 0.00570924, 0.00672921, 0.00794173,\n",
      "       0.00802849, 0.00734499, 0.00726035, 0.0067144 , 0.00766664,\n",
      "       0.00825068, 0.00892572, 0.00836283, 0.00734287, 0.00785709,\n",
      "       0.01406573, 0.01277914, 0.01192847, 0.01221837, 0.01430908,\n",
      "       0.01490582, 0.01437468, 0.01467094, 0.01489947, 0.01635324,\n",
      "       0.01746419, 0.01963531, 0.02179374, 0.02360723, 0.02469279,\n",
      "       0.02672425, 0.02190801, 0.0243648 , 0.02516257, 0.02647455,\n",
      "       0.02689777, 0.02786906, 0.0282161 , 0.02962331, 0.03250121,\n",
      "       0.03389995, 0.03306833, 0.03331803, 0.02871339, 0.03149395,\n",
      "       0.03104745, 0.03306198, 0.03407136, 0.03588275, 0.04022287,\n",
      "       0.04478518, 0.0416343 , 0.04452279, 0.04476402, 0.04544752,\n",
      "       0.04439793, 0.0449714 , 0.04482326, 0.04617546, 0.0487571 ]), array([0.00466177, 0.00570924, 0.00672921, 0.00794173, 0.00802849,\n",
      "       0.00734499, 0.00726035, 0.0067144 , 0.00766664, 0.00825068,\n",
      "       0.00892572, 0.00836283, 0.00734287, 0.00785709, 0.01406573,\n",
      "       0.01277914, 0.01192847, 0.01221837, 0.01430908, 0.01490582,\n",
      "       0.01437468, 0.01467094, 0.01489947, 0.01635324, 0.01746419,\n",
      "       0.01963531, 0.02179374, 0.02360723, 0.02469279, 0.02672425,\n",
      "       0.02190801, 0.0243648 , 0.02516257, 0.02647455, 0.02689777,\n",
      "       0.02786906, 0.0282161 , 0.02962331, 0.03250121, 0.03389995,\n",
      "       0.03306833, 0.03331803, 0.02871339, 0.03149395, 0.03104745,\n",
      "       0.03306198, 0.03407136, 0.03588275, 0.04022287, 0.04478518,\n",
      "       0.0416343 , 0.04452279, 0.04476402, 0.04544752, 0.04439793,\n",
      "       0.0449714 , 0.04482326, 0.04617546, 0.0487571 , 0.04757209])]\n",
      "[0.047572090040578996, 0.046723527845284885]\n",
      "\n"
     ]
    }
   ],
   "source": [
    "#creating the training data set\n",
    "#create the scaled training data set\n",
    "train_data = scaled_data[0:training_data_len,:]\n",
    "#split the data into x_train and y_train data sets\n",
    "x_train = []\n",
    "y_train = []\n",
    "for i in range(60, len(train_data)):\n",
    "    x_train.append(train_data[i-60:i,0])\n",
    "    y_train.append(train_data[i,0])\n",
    "    if i<=61:\n",
    "        print(x_train)\n",
    "        print(y_train)\n",
    "        print()"
   ]
  },
  {
   "cell_type": "code",
   "execution_count": 30,
   "id": "185a6181",
   "metadata": {},
   "outputs": [],
   "source": [
    "#Convert the X_train and Y_train to numpy arrays\n",
    "x_train , y_train = np.array(x_train), np.array(y_train)"
   ]
  },
  {
   "cell_type": "code",
   "execution_count": 31,
   "id": "5e140f5b",
   "metadata": {},
   "outputs": [
    {
     "data": {
      "text/plain": [
       "(1992, 60, 1)"
      ]
     },
     "execution_count": 31,
     "metadata": {},
     "output_type": "execute_result"
    }
   ],
   "source": [
    "#Reshape the data\n",
    "x_train = np.reshape(x_train,(x_train.shape[0],x_train.shape[1],1))\n",
    "x_train.shape"
   ]
  },
  {
   "cell_type": "code",
   "execution_count": 32,
   "id": "1b9701c7",
   "metadata": {},
   "outputs": [],
   "source": [
    "#Building the LSTM model\n",
    "open_model = Sequential()\n",
    "open_model.add(LSTM(50, return_sequences=True, input_shape =(x_train.shape[1],1)))\n",
    "open_model.add(LSTM(50, return_sequences=True))\n",
    "open_model.add(LSTM(50, return_sequences=True))\n",
    "open_model.add(LSTM(50, return_sequences=False))\n",
    "open_model.add(Dense(25))\n",
    "open_model.add(Dense(1))"
   ]
  },
  {
   "cell_type": "code",
   "execution_count": 33,
   "id": "5567866a",
   "metadata": {},
   "outputs": [],
   "source": [
    "#compile the Model\n",
    "open_model.compile(optimizer='adam', loss='mean_squared_error')"
   ]
  },
  {
   "cell_type": "code",
   "execution_count": 34,
   "id": "cdf519f5",
   "metadata": {},
   "outputs": [
    {
     "name": "stdout",
     "output_type": "stream",
     "text": [
      "Epoch 1/100\n",
      "63/63 [==============================] - 12s 86ms/step - loss: 0.0017\n",
      "Epoch 2/100\n",
      "63/63 [==============================] - 8s 129ms/step - loss: 1.9397e-04\n",
      "Epoch 3/100\n",
      "63/63 [==============================] - 10s 157ms/step - loss: 1.4222e-04\n",
      "Epoch 4/100\n",
      "63/63 [==============================] - 10s 157ms/step - loss: 1.3685e-04\n",
      "Epoch 5/100\n",
      "63/63 [==============================] - 10s 160ms/step - loss: 1.2470e-04\n",
      "Epoch 6/100\n",
      "63/63 [==============================] - 10s 156ms/step - loss: 1.3980e-04\n",
      "Epoch 7/100\n",
      "63/63 [==============================] - 11s 174ms/step - loss: 1.1118e-04\n",
      "Epoch 8/100\n",
      "63/63 [==============================] - 11s 170ms/step - loss: 9.1494e-05\n",
      "Epoch 9/100\n",
      "63/63 [==============================] - 11s 167ms/step - loss: 1.0642e-04\n",
      "Epoch 10/100\n",
      "63/63 [==============================] - 11s 176ms/step - loss: 1.0776e-04\n",
      "Epoch 11/100\n",
      "63/63 [==============================] - 10s 156ms/step - loss: 1.0899e-04\n",
      "Epoch 12/100\n",
      "63/63 [==============================] - 10s 157ms/step - loss: 1.0375e-04\n",
      "Epoch 13/100\n",
      "63/63 [==============================] - 10s 163ms/step - loss: 7.9065e-05\n",
      "Epoch 14/100\n",
      "63/63 [==============================] - 10s 165ms/step - loss: 6.7891e-05\n",
      "Epoch 15/100\n",
      "63/63 [==============================] - 10s 160ms/step - loss: 7.5411e-05\n",
      "Epoch 16/100\n",
      "63/63 [==============================] - 10s 156ms/step - loss: 7.3995e-05\n",
      "Epoch 17/100\n",
      "63/63 [==============================] - 10s 156ms/step - loss: 8.0160e-05\n",
      "Epoch 18/100\n",
      "63/63 [==============================] - 10s 158ms/step - loss: 6.4883e-05\n",
      "Epoch 19/100\n",
      "63/63 [==============================] - 10s 159ms/step - loss: 7.0606e-05\n",
      "Epoch 20/100\n",
      "63/63 [==============================] - 10s 165ms/step - loss: 5.8817e-05\n",
      "Epoch 21/100\n",
      "63/63 [==============================] - 8s 129ms/step - loss: 6.3637e-05\n",
      "Epoch 22/100\n",
      "63/63 [==============================] - 5s 83ms/step - loss: 6.5972e-05\n",
      "Epoch 23/100\n",
      "63/63 [==============================] - 8s 136ms/step - loss: 5.5629e-05\n",
      "Epoch 24/100\n",
      "63/63 [==============================] - 10s 159ms/step - loss: 5.0855e-05\n",
      "Epoch 25/100\n",
      "63/63 [==============================] - 10s 156ms/step - loss: 5.0707e-05\n",
      "Epoch 26/100\n",
      "63/63 [==============================] - 10s 160ms/step - loss: 5.7949e-05\n",
      "Epoch 27/100\n",
      "63/63 [==============================] - 10s 154ms/step - loss: 4.9342e-05\n",
      "Epoch 28/100\n",
      "63/63 [==============================] - 10s 153ms/step - loss: 4.4811e-05\n",
      "Epoch 29/100\n",
      "63/63 [==============================] - 10s 151ms/step - loss: 3.7964e-05\n",
      "Epoch 30/100\n",
      "63/63 [==============================] - 6s 99ms/step - loss: 3.7004e-05\n",
      "Epoch 31/100\n",
      "63/63 [==============================] - 5s 82ms/step - loss: 4.1281e-05\n",
      "Epoch 32/100\n",
      "63/63 [==============================] - 10s 158ms/step - loss: 4.2785e-05\n",
      "Epoch 33/100\n",
      "63/63 [==============================] - 10s 154ms/step - loss: 3.7204e-05\n",
      "Epoch 34/100\n",
      "63/63 [==============================] - 10s 151ms/step - loss: 3.2882e-05\n",
      "Epoch 35/100\n",
      "63/63 [==============================] - 10s 151ms/step - loss: 2.9448e-05\n",
      "Epoch 36/100\n",
      "63/63 [==============================] - 7s 103ms/step - loss: 3.7535e-05\n",
      "Epoch 37/100\n",
      "63/63 [==============================] - 6s 89ms/step - loss: 3.2085e-05\n",
      "Epoch 38/100\n",
      "63/63 [==============================] - 10s 161ms/step - loss: 2.9874e-05\n",
      "Epoch 39/100\n",
      "63/63 [==============================] - 10s 161ms/step - loss: 2.7136e-05\n",
      "Epoch 40/100\n",
      "63/63 [==============================] - 10s 158ms/step - loss: 2.9578e-05\n",
      "Epoch 41/100\n",
      "63/63 [==============================] - 10s 154ms/step - loss: 3.1345e-05\n",
      "Epoch 42/100\n",
      "63/63 [==============================] - 7s 108ms/step - loss: 2.8781e-05\n",
      "Epoch 43/100\n",
      "63/63 [==============================] - 5s 83ms/step - loss: 2.6241e-05\n",
      "Epoch 44/100\n",
      "63/63 [==============================] - 8s 121ms/step - loss: 2.9822e-05\n",
      "Epoch 45/100\n",
      "63/63 [==============================] - 10s 153ms/step - loss: 3.2453e-05\n",
      "Epoch 46/100\n",
      "63/63 [==============================] - 10s 156ms/step - loss: 3.4753e-05\n",
      "Epoch 47/100\n",
      "63/63 [==============================] - 10s 154ms/step - loss: 3.2919e-05\n",
      "Epoch 48/100\n",
      "63/63 [==============================] - 10s 153ms/step - loss: 2.7184e-05\n",
      "Epoch 49/100\n",
      "63/63 [==============================] - 8s 124ms/step - loss: 3.0560e-05\n",
      "Epoch 50/100\n",
      "63/63 [==============================] - 5s 81ms/step - loss: 4.6169e-05\n",
      "Epoch 51/100\n",
      "63/63 [==============================] - 8s 129ms/step - loss: 2.2311e-05\n",
      "Epoch 52/100\n",
      "63/63 [==============================] - 10s 154ms/step - loss: 2.5135e-05\n",
      "Epoch 53/100\n",
      "63/63 [==============================] - 10s 151ms/step - loss: 3.0436e-05\n",
      "Epoch 54/100\n",
      "63/63 [==============================] - 10s 155ms/step - loss: 2.3640e-05\n",
      "Epoch 55/100\n",
      "63/63 [==============================] - 10s 155ms/step - loss: 3.0419e-05\n",
      "Epoch 56/100\n",
      "63/63 [==============================] - 10s 151ms/step - loss: 2.5856e-05\n",
      "Epoch 57/100\n",
      "63/63 [==============================] - 7s 107ms/step - loss: 2.0862e-05\n",
      "Epoch 58/100\n",
      "63/63 [==============================] - 5s 82ms/step - loss: 3.3957e-05\n",
      "Epoch 59/100\n",
      "63/63 [==============================] - 8s 134ms/step - loss: 3.0980e-05\n",
      "Epoch 60/100\n",
      "63/63 [==============================] - 10s 157ms/step - loss: 2.0271e-05\n",
      "Epoch 61/100\n",
      "63/63 [==============================] - 11s 173ms/step - loss: 2.6650e-05\n",
      "Epoch 62/100\n",
      "63/63 [==============================] - 11s 173ms/step - loss: 2.2289e-05\n",
      "Epoch 63/100\n",
      "63/63 [==============================] - 10s 152ms/step - loss: 1.9510e-05\n",
      "Epoch 64/100\n",
      "63/63 [==============================] - 10s 153ms/step - loss: 2.3596e-05\n",
      "Epoch 65/100\n",
      "63/63 [==============================] - 10s 152ms/step - loss: 2.5935e-05\n",
      "Epoch 66/100\n",
      "63/63 [==============================] - 9s 150ms/step - loss: 1.8447e-05\n",
      "Epoch 67/100\n",
      "63/63 [==============================] - 10s 154ms/step - loss: 1.8215e-05\n",
      "Epoch 68/100\n",
      "63/63 [==============================] - 10s 156ms/step - loss: 1.8628e-05\n",
      "Epoch 69/100\n",
      "63/63 [==============================] - 10s 152ms/step - loss: 1.9077e-05\n",
      "Epoch 70/100\n",
      "63/63 [==============================] - 8s 123ms/step - loss: 2.6820e-05\n",
      "Epoch 71/100\n",
      "63/63 [==============================] - 6s 90ms/step - loss: 2.4027e-05\n",
      "Epoch 72/100\n",
      "63/63 [==============================] - 7s 113ms/step - loss: 1.6106e-05\n",
      "Epoch 73/100\n",
      "63/63 [==============================] - 10s 152ms/step - loss: 1.7726e-05\n",
      "Epoch 74/100\n",
      "63/63 [==============================] - 10s 155ms/step - loss: 2.5182e-05\n",
      "Epoch 75/100\n",
      "63/63 [==============================] - 10s 155ms/step - loss: 2.3022e-05\n",
      "Epoch 76/100\n",
      "63/63 [==============================] - 10s 151ms/step - loss: 1.7363e-05\n",
      "Epoch 77/100\n",
      "63/63 [==============================] - 10s 151ms/step - loss: 2.5627e-05\n",
      "Epoch 78/100\n",
      "63/63 [==============================] - 10s 153ms/step - loss: 2.2539e-05\n",
      "Epoch 79/100\n",
      "63/63 [==============================] - 10s 153ms/step - loss: 1.7115e-05\n",
      "Epoch 80/100\n",
      "63/63 [==============================] - 9s 144ms/step - loss: 2.3282e-05\n",
      "Epoch 81/100\n",
      "63/63 [==============================] - 5s 85ms/step - loss: 2.3422e-05\n",
      "Epoch 82/100\n",
      "63/63 [==============================] - 6s 92ms/step - loss: 2.8356e-05\n",
      "Epoch 83/100\n",
      "63/63 [==============================] - 9s 141ms/step - loss: 2.2216e-05\n",
      "Epoch 84/100\n",
      "63/63 [==============================] - 10s 152ms/step - loss: 1.7178e-05\n",
      "Epoch 85/100\n",
      "63/63 [==============================] - 10s 151ms/step - loss: 1.6851e-05\n",
      "Epoch 86/100\n",
      "63/63 [==============================] - 10s 151ms/step - loss: 2.2772e-05\n",
      "Epoch 87/100\n",
      "63/63 [==============================] - 10s 153ms/step - loss: 1.7472e-05\n",
      "Epoch 88/100\n",
      "63/63 [==============================] - 10s 153ms/step - loss: 2.2595e-05\n",
      "Epoch 89/100\n",
      "63/63 [==============================] - 10s 153ms/step - loss: 2.3188e-05\n",
      "Epoch 90/100\n",
      "63/63 [==============================] - 10s 158ms/step - loss: 1.9259e-05\n",
      "Epoch 91/100\n",
      "63/63 [==============================] - 9s 150ms/step - loss: 2.2533e-05\n",
      "Epoch 92/100\n",
      "63/63 [==============================] - 10s 152ms/step - loss: 2.1203e-05\n",
      "Epoch 93/100\n",
      "63/63 [==============================] - 10s 154ms/step - loss: 2.5425e-05\n",
      "Epoch 94/100\n",
      "63/63 [==============================] - 7s 115ms/step - loss: 2.0702e-05\n",
      "Epoch 95/100\n",
      "63/63 [==============================] - 5s 85ms/step - loss: 1.8164e-05\n",
      "Epoch 96/100\n",
      "63/63 [==============================] - 7s 114ms/step - loss: 1.9352e-05\n",
      "Epoch 97/100\n",
      "63/63 [==============================] - 10s 155ms/step - loss: 1.8120e-05\n",
      "Epoch 98/100\n",
      "63/63 [==============================] - 10s 154ms/step - loss: 2.2592e-05\n",
      "Epoch 99/100\n",
      "63/63 [==============================] - 10s 155ms/step - loss: 1.6795e-05\n",
      "Epoch 100/100\n",
      "63/63 [==============================] - 10s 153ms/step - loss: 1.6543e-05\n"
     ]
    },
    {
     "data": {
      "text/plain": [
       "<keras.callbacks.History at 0x22927a18148>"
      ]
     },
     "execution_count": 34,
     "metadata": {},
     "output_type": "execute_result"
    }
   ],
   "source": [
    "#train the model\n",
    "open_model.fit(x_train, y_train, batch_size=32, epochs=EPOCHS)"
   ]
  },
  {
   "cell_type": "code",
   "execution_count": 35,
   "id": "d29da702",
   "metadata": {},
   "outputs": [],
   "source": [
    "#create the testing data set\n",
    "#create a new array containing scaled values from index 1543 to 2003\n",
    "test_data = scaled_data[training_data_len - 60: , :]\n",
    "#create the data sets x_test adn y_test\n",
    "x_test = []\n",
    "y_test = dataset[training_data_len:,:]\n",
    "for i in range(60, len(test_data)):\n",
    "    x_test.append(test_data[i-60:i,0])\n",
    "    \n",
    "    \n"
   ]
  },
  {
   "cell_type": "code",
   "execution_count": 36,
   "id": "f58a96cf",
   "metadata": {},
   "outputs": [],
   "source": [
    "#convert the data to a numpy array\n",
    "x_test = np.array(x_test)"
   ]
  },
  {
   "cell_type": "code",
   "execution_count": 37,
   "id": "1ede7f02",
   "metadata": {},
   "outputs": [],
   "source": [
    "#resahpe the data\n",
    "x_test = np.reshape(x_test,(x_test.shape[0],x_test.shape[1],1))"
   ]
  },
  {
   "cell_type": "code",
   "execution_count": 38,
   "id": "95e9db7a",
   "metadata": {},
   "outputs": [],
   "source": [
    "#get the models predicted price values\n",
    "predictions = open_model.predict(x_test)\n",
    "predictions = scaler.inverse_transform(predictions)"
   ]
  },
  {
   "cell_type": "code",
   "execution_count": 39,
   "id": "198f2146",
   "metadata": {},
   "outputs": [
    {
     "data": {
      "text/plain": [
       "7.665593710559153"
      ]
     },
     "execution_count": 39,
     "metadata": {},
     "output_type": "execute_result"
    }
   ],
   "source": [
    "#get the root mean squared error (RMSE)\n",
    "rmse =  np.sqrt(np.mean(predictions - y_test)**2)\n",
    "rmse"
   ]
  },
  {
   "cell_type": "code",
   "execution_count": 40,
   "id": "0a377d74",
   "metadata": {},
   "outputs": [
    {
     "name": "stderr",
     "output_type": "stream",
     "text": [
      "C:\\Users\\Abhishek Rao\\AppData\\Local\\Packages\\PythonSoftwareFoundation.Python.3.7_qbz5n2kfra8p0\\LocalCache\\local-packages\\Python37\\site-packages\\ipykernel_launcher.py:4: SettingWithCopyWarning: \n",
      "A value is trying to be set on a copy of a slice from a DataFrame.\n",
      "Try using .loc[row_indexer,col_indexer] = value instead\n",
      "\n",
      "See the caveats in the documentation: https://pandas.pydata.org/pandas-docs/stable/user_guide/indexing.html#returning-a-view-versus-a-copy\n",
      "  after removing the cwd from sys.path.\n"
     ]
    },
    {
     "data": {
      "image/png": "[encoded data removed]",
      "text/plain": [
       "<Figure size 1152x576 with 1 Axes>"
      ]
     },
     "metadata": {},
     "output_type": "display_data"
    }
   ],
   "source": [
    "#plot the date\n",
    "train = data[:training_data_len]\n",
    "valid = data[training_data_len:]\n",
    "valid['Predictions'] = predictions\n",
    "#visualize the data\n",
    "plt.figure(figsize=(16,8))\n",
    "plt.title('Model')\n",
    "plt.xlabel('Date')\n",
    "plt.ylabel('Open Price USD ($)')\n",
    "plt.plot(train['Open'])\n",
    "plt.plot(valid[['Open', 'Predictions']])\n",
    "plt.legend(['Train', 'Val', 'Predictions'], loc='lower right')\n",
    "plt.show()"
   ]
  },
  {
   "cell_type": "code",
   "execution_count": 41,
   "id": "276bf692",
   "metadata": {},
   "outputs": [
    {
     "data": {
      "text/html": [
       "<div>\n",
       "<style scoped>\n",
       "    .dataframe tbody tr th:only-of-type {\n",
       "        vertical-align: middle;\n",
       "    }\n",
       "\n",
       "    .dataframe tbody tr th {\n",
       "        vertical-align: top;\n",
       "    }\n",
       "\n",
       "    .dataframe thead th {\n",
       "        text-align: right;\n",
       "    }\n",
       "</style>\n",
       "<table border=\"1\" class=\"dataframe\">\n",
       "  <thead>\n",
       "    <tr style=\"text-align: right;\">\n",
       "      <th></th>\n",
       "      <th>Open</th>\n",
       "      <th>Predictions</th>\n",
       "    </tr>\n",
       "    <tr>\n",
       "      <th>Date</th>\n",
       "      <th></th>\n",
       "      <th></th>\n",
       "    </tr>\n",
       "  </thead>\n",
       "  <tbody>\n",
       "    <tr>\n",
       "      <th>2020-03-02</th>\n",
       "      <td>70.570000</td>\n",
       "      <td>62.203041</td>\n",
       "    </tr>\n",
       "    <tr>\n",
       "      <th>2020-03-03</th>\n",
       "      <td>75.917503</td>\n",
       "      <td>68.313530</td>\n",
       "    </tr>\n",
       "    <tr>\n",
       "      <th>2020-03-04</th>\n",
       "      <td>74.110001</td>\n",
       "      <td>73.874947</td>\n",
       "    </tr>\n",
       "    <tr>\n",
       "      <th>2020-03-05</th>\n",
       "      <td>73.879997</td>\n",
       "      <td>72.524071</td>\n",
       "    </tr>\n",
       "    <tr>\n",
       "      <th>2020-03-06</th>\n",
       "      <td>70.500000</td>\n",
       "      <td>72.651314</td>\n",
       "    </tr>\n",
       "    <tr>\n",
       "      <th>...</th>\n",
       "      <td>...</td>\n",
       "      <td>...</td>\n",
       "    </tr>\n",
       "    <tr>\n",
       "      <th>2022-03-07</th>\n",
       "      <td>163.360001</td>\n",
       "      <td>147.135330</td>\n",
       "    </tr>\n",
       "    <tr>\n",
       "      <th>2022-03-08</th>\n",
       "      <td>158.820007</td>\n",
       "      <td>148.036148</td>\n",
       "    </tr>\n",
       "    <tr>\n",
       "      <th>2022-03-09</th>\n",
       "      <td>161.479996</td>\n",
       "      <td>142.855972</td>\n",
       "    </tr>\n",
       "    <tr>\n",
       "      <th>2022-03-10</th>\n",
       "      <td>160.199997</td>\n",
       "      <td>146.758514</td>\n",
       "    </tr>\n",
       "    <tr>\n",
       "      <th>2022-03-11</th>\n",
       "      <td>158.929993</td>\n",
       "      <td>143.776184</td>\n",
       "    </tr>\n",
       "  </tbody>\n",
       "</table>\n",
       "<p>513 rows × 2 columns</p>\n",
       "</div>"
      ],
      "text/plain": [
       "                  Open  Predictions\n",
       "Date                               \n",
       "2020-03-02   70.570000    62.203041\n",
       "2020-03-03   75.917503    68.313530\n",
       "2020-03-04   74.110001    73.874947\n",
       "2020-03-05   73.879997    72.524071\n",
       "2020-03-06   70.500000    72.651314\n",
       "...                ...          ...\n",
       "2022-03-07  163.360001   147.135330\n",
       "2022-03-08  158.820007   148.036148\n",
       "2022-03-09  161.479996   142.855972\n",
       "2022-03-10  160.199997   146.758514\n",
       "2022-03-11  158.929993   143.776184\n",
       "\n",
       "[513 rows x 2 columns]"
      ]
     },
     "execution_count": 41,
     "metadata": {},
     "output_type": "execute_result"
    }
   ],
   "source": [
    "#show the valid and predicted prices\n",
    "valid"
   ]
  },
  {
   "cell_type": "code",
   "execution_count": 42,
   "id": "d9e8dc9b",
   "metadata": {},
   "outputs": [
    {
     "name": "stdout",
     "output_type": "stream",
     "text": [
      "[[158.25209]]\n"
     ]
    }
   ],
   "source": [
    "#get the Quote\n",
    "stock_quote = web.DataReader(STOCK, data_source = 'yahoo', start=START_DATE, end=END_DATE)\n",
    "#create new data frame\n",
    "new_df = stock_quote.filter(['Open'])\n",
    "#get the last 60 days closing price values and convert the dataframe to an array\n",
    "last_60_days = new_df[-60:].values\n",
    "#scale the data to be values between 0 and 1\n",
    "last_60_days_scaled = scaler.fit_transform(last_60_days)\n",
    "#create the empty list\n",
    "x_test = []\n",
    "#append the past 60 days\n",
    "x_test.append(last_60_days_scaled)\n",
    "#convert the x_test data set to a numpy array\n",
    "x_test = np.array(x_test)\n",
    "x_test = np.reshape(x_test,(x_test.shape[0],x_test.shape[1],1))\n",
    "#get the predicted scaled price\n",
    "pred_open_price = open_model.predict(x_test)\n",
    "#undo the scaling\n",
    "pred_open_price = scaler.inverse_transform(pred_open_price)\n",
    "print(pred_open_price)\n"
   ]
  },
  {
   "cell_type": "code",
   "execution_count": 43,
   "id": "5255799d",
   "metadata": {},
   "outputs": [
    {
     "name": "stdout",
     "output_type": "stream",
     "text": [
      "Date\n",
      "2012-01-03     14.621429\n",
      "2012-01-04     14.642857\n",
      "2012-01-05     14.819643\n",
      "2012-01-06     14.991786\n",
      "2012-01-09     15.196429\n",
      "                 ...    \n",
      "2022-03-07    163.360001\n",
      "2022-03-08    158.820007\n",
      "2022-03-09    161.479996\n",
      "2022-03-10    160.199997\n",
      "2022-03-11    158.929993\n",
      "Name: Open, Length: 2565, dtype: float64\n"
     ]
    }
   ],
   "source": [
    "stock_quote2 = web.DataReader(STOCK, data_source = 'yahoo', start=START_DATE, end=PREDICT_DATE)\n",
    "print(stock_quote2['Open'])"
   ]
  },
  {
   "cell_type": "code",
   "execution_count": 44,
   "id": "18e18353",
   "metadata": {},
   "outputs": [],
   "source": [
    "open_model.save(open_model_path)\n",
    "loaded_open_model = load_model(open_model_path)\n"
   ]
  },
  {
   "cell_type": "code",
   "execution_count": 45,
   "id": "41ac4212",
   "metadata": {},
   "outputs": [],
   "source": [
    "if(SOUND==1):\n",
    "    import winsound\n",
    "    frequency = 2500  # Set Frequency To 2500 Hertz\n",
    "    duration = 1000  # Set Duration To 1000 ms == 1 second\n",
    "    winsound.Beep(frequency, duration)\n",
    "    winsound.Beep(37, 50)\n",
    "    winsound.Beep(frequency, duration)\n",
    "    winsound.Beep(37, 50)\n",
    "\n"
   ]
  },
  {
   "cell_type": "code",
   "execution_count": 46,
   "id": "43ff06d9",
   "metadata": {},
   "outputs": [
    {
     "name": "stdout",
     "output_type": "stream",
     "text": [
      "Open price : 158.25209\n",
      "Close price : 154.65108\n",
      "-3.6010132\n"
     ]
    }
   ],
   "source": [
    "print(\"Open price : \", end=\"\") \n",
    "print(pred_open_price[0][0])\n",
    "print(\"Close price : \", end=\"\") \n",
    "print(close_pred_price[0][0])\n",
    "\n",
    "print(close_pred_price[0][0]-pred_open_price[0][0]   )"
   ]
  },
  {
   "cell_type": "code",
   "execution_count": 47,
   "id": "73881f41",
   "metadata": {},
   "outputs": [
    {
     "data": {
      "image/png": "[encoded data removed]",
      "text/plain": [
       "<Figure size 1152x576 with 1 Axes>"
      ]
     },
     "metadata": {},
     "output_type": "display_data"
    }
   ],
   "source": [
    "#Visualing the High price history\n",
    "plt.figure(figsize=(16,8))\n",
    "plt.title('High Price History')\n",
    "plt.plot(df['High'])\n",
    "plt.xlabel('Date', fontsize=18)\n",
    "plt.ylabel('High Price USD($)', fontsize=18)\n",
    "plt.show()"
   ]
  },
  {
   "cell_type": "code",
   "execution_count": 48,
   "id": "d99e90ff",
   "metadata": {},
   "outputs": [
    {
     "data": {
      "text/plain": [
       "2052"
      ]
     },
     "execution_count": 48,
     "metadata": {},
     "output_type": "execute_result"
    }
   ],
   "source": [
    "#Create a new data\n",
    "data = df.filter(['High'])\n",
    "#convert the dataframe to a numpy array\n",
    "dataset = data.values\n",
    "#get the number of rows to train the model on\n",
    "training_data_len = math.ceil(len(dataset)*.8)\n",
    "training_data_len"
   ]
  },
  {
   "cell_type": "code",
   "execution_count": 49,
   "id": "ab2252e7",
   "metadata": {},
   "outputs": [
    {
     "data": {
      "text/plain": [
       "array([[0.00273148],\n",
       "       [0.00319307],\n",
       "       [0.00401251],\n",
       "       ...,\n",
       "       [0.8842108 ],\n",
       "       [0.86630584],\n",
       "       [0.85972488]])"
      ]
     },
     "execution_count": 49,
     "metadata": {},
     "output_type": "execute_result"
    }
   ],
   "source": [
    "#Scale the data\n",
    "scaler = MinMaxScaler(feature_range=(0,1))\n",
    "scaled_data = scaler.fit_transform(dataset)\n",
    "\n",
    "scaled_data"
   ]
  },
  {
   "cell_type": "code",
   "execution_count": 50,
   "id": "6645de98",
   "metadata": {},
   "outputs": [
    {
     "name": "stdout",
     "output_type": "stream",
     "text": [
      "[array([0.00273148, 0.00319307, 0.00401251, 0.00490183, 0.00596055,\n",
      "       0.00559   , 0.00492301, 0.00493359, 0.00441483, 0.00558788,\n",
      "       0.00632474, 0.00672705, 0.00590761, 0.00610877, 0.00539943,\n",
      "       0.01161406, 0.0104156 , 0.01034997, 0.01149761, 0.01241656,\n",
      "       0.01257538, 0.01219   , 0.01278924, 0.01384371, 0.01485373,\n",
      "       0.01634439, 0.02057077, 0.02075498, 0.02206991, 0.02328318,\n",
      "       0.02682563, 0.02229435, 0.02290417, 0.02440331, 0.02453882,\n",
      "       0.0250343 , 0.02610783, 0.02729359, 0.02875673, 0.03133999,\n",
      "       0.03146704, 0.03116847, 0.03131246, 0.02839253, 0.02925856,\n",
      "       0.03036174, 0.03136752, 0.03226954, 0.03569553, 0.04131517,\n",
      "       0.04243529, 0.04014635, 0.04280795, 0.04389419, 0.04447649,\n",
      "       0.04338602, 0.04281431, 0.04394713, 0.04588034, 0.04697505])]\n",
      "[0.04593962728574914]\n",
      "\n",
      "[array([0.00273148, 0.00319307, 0.00401251, 0.00490183, 0.00596055,\n",
      "       0.00559   , 0.00492301, 0.00493359, 0.00441483, 0.00558788,\n",
      "       0.00632474, 0.00672705, 0.00590761, 0.00610877, 0.00539943,\n",
      "       0.01161406, 0.0104156 , 0.01034997, 0.01149761, 0.01241656,\n",
      "       0.01257538, 0.01219   , 0.01278924, 0.01384371, 0.01485373,\n",
      "       0.01634439, 0.02057077, 0.02075498, 0.02206991, 0.02328318,\n",
      "       0.02682563, 0.02229435, 0.02290417, 0.02440331, 0.02453882,\n",
      "       0.0250343 , 0.02610783, 0.02729359, 0.02875673, 0.03133999,\n",
      "       0.03146704, 0.03116847, 0.03131246, 0.02839253, 0.02925856,\n",
      "       0.03036174, 0.03136752, 0.03226954, 0.03569553, 0.04131517,\n",
      "       0.04243529, 0.04014635, 0.04280795, 0.04389419, 0.04447649,\n",
      "       0.04338602, 0.04281431, 0.04394713, 0.04588034, 0.04697505]), array([0.00319307, 0.00401251, 0.00490183, 0.00596055, 0.00559   ,\n",
      "       0.00492301, 0.00493359, 0.00441483, 0.00558788, 0.00632474,\n",
      "       0.00672705, 0.00590761, 0.00610877, 0.00539943, 0.01161406,\n",
      "       0.0104156 , 0.01034997, 0.01149761, 0.01241656, 0.01257538,\n",
      "       0.01219   , 0.01278924, 0.01384371, 0.01485373, 0.01634439,\n",
      "       0.02057077, 0.02075498, 0.02206991, 0.02328318, 0.02682563,\n",
      "       0.02229435, 0.02290417, 0.02440331, 0.02453882, 0.0250343 ,\n",
      "       0.02610783, 0.02729359, 0.02875673, 0.03133999, 0.03146704,\n",
      "       0.03116847, 0.03131246, 0.02839253, 0.02925856, 0.03036174,\n",
      "       0.03136752, 0.03226954, 0.03569553, 0.04131517, 0.04243529,\n",
      "       0.04014635, 0.04280795, 0.04389419, 0.04447649, 0.04338602,\n",
      "       0.04281431, 0.04394713, 0.04588034, 0.04697505, 0.04593963])]\n",
      "[0.04593962728574914, 0.04466916652411658]\n",
      "\n"
     ]
    }
   ],
   "source": [
    "#creating the training data set\n",
    "#create the scaled training data set\n",
    "train_data = scaled_data[0:training_data_len,:]\n",
    "#split the data into x_train and y_train data sets\n",
    "x_train = []\n",
    "y_train = []\n",
    "for i in range(60, len(train_data)):\n",
    "    x_train.append(train_data[i-60:i,0])\n",
    "    y_train.append(train_data[i,0])\n",
    "    if i<=61:\n",
    "        print(x_train)\n",
    "        print(y_train)\n",
    "        print()"
   ]
  },
  {
   "cell_type": "code",
   "execution_count": 51,
   "id": "1b91b8a5",
   "metadata": {},
   "outputs": [],
   "source": [
    "#Convert the X_train and Y_train to numpy arrays\n",
    "x_train , y_train = np.array(x_train), np.array(y_train)"
   ]
  },
  {
   "cell_type": "code",
   "execution_count": 52,
   "id": "d352c9ae",
   "metadata": {},
   "outputs": [
    {
     "data": {
      "text/plain": [
       "(1992, 60, 1)"
      ]
     },
     "execution_count": 52,
     "metadata": {},
     "output_type": "execute_result"
    }
   ],
   "source": [
    "#Reshape the data\n",
    "x_train = np.reshape(x_train,(x_train.shape[0],x_train.shape[1],1))\n",
    "x_train.shape"
   ]
  },
  {
   "cell_type": "code",
   "execution_count": 53,
   "id": "ba730fef",
   "metadata": {},
   "outputs": [],
   "source": [
    "#Building the LSTM model\n",
    "high_model = Sequential()\n",
    "high_model.add(LSTM(50, return_sequences=True, input_shape =(x_train.shape[1],1)))\n",
    "high_model.add(LSTM(50, return_sequences=True))\n",
    "high_model.add(LSTM(50, return_sequences=True))\n",
    "high_model.add(LSTM(50, return_sequences=False))\n",
    "high_model.add(Dense(25))\n",
    "high_model.add(Dense(1))"
   ]
  },
  {
   "cell_type": "code",
   "execution_count": 54,
   "id": "9b85e4f0",
   "metadata": {},
   "outputs": [],
   "source": [
    "#compile the Model\n",
    "high_model.compile(optimizer='adam', loss='mean_squared_error')\n"
   ]
  },
  {
   "cell_type": "code",
   "execution_count": 55,
   "id": "331341d3",
   "metadata": {},
   "outputs": [
    {
     "name": "stdout",
     "output_type": "stream",
     "text": [
      "Epoch 1/100\n",
      "63/63 [==============================] - 11s 84ms/step - loss: 0.0012\n",
      "Epoch 2/100\n",
      "63/63 [==============================] - 10s 160ms/step - loss: 1.4203e-04\n",
      "Epoch 3/100\n",
      "63/63 [==============================] - 10s 155ms/step - loss: 1.6105e-04\n",
      "Epoch 4/100\n",
      "63/63 [==============================] - 10s 153ms/step - loss: 1.6432e-04\n",
      "Epoch 5/100\n",
      "63/63 [==============================] - 10s 155ms/step - loss: 1.1732e-04\n",
      "Epoch 6/100\n",
      "63/63 [==============================] - 10s 153ms/step - loss: 9.5069e-05\n",
      "Epoch 7/100\n",
      "63/63 [==============================] - 10s 152ms/step - loss: 1.0058e-04\n",
      "Epoch 8/100\n",
      "63/63 [==============================] - 7s 118ms/step - loss: 8.3867e-05\n",
      "Epoch 9/100\n",
      "63/63 [==============================] - 5s 81ms/step - loss: 8.1562e-05\n",
      "Epoch 10/100\n",
      "63/63 [==============================] - 10s 152ms/step - loss: 8.0910e-05\n",
      "Epoch 11/100\n",
      "63/63 [==============================] - 10s 156ms/step - loss: 6.8275e-05\n",
      "Epoch 12/100\n",
      "63/63 [==============================] - 10s 152ms/step - loss: 6.7773e-05\n",
      "Epoch 13/100\n",
      "63/63 [==============================] - 10s 156ms/step - loss: 7.0993e-05\n",
      "Epoch 14/100\n",
      "63/63 [==============================] - 10s 158ms/step - loss: 8.1714e-05\n",
      "Epoch 15/100\n",
      "63/63 [==============================] - 10s 153ms/step - loss: 7.4873e-05\n",
      "Epoch 16/100\n",
      "63/63 [==============================] - 9s 147ms/step - loss: 6.4087e-05\n",
      "Epoch 17/100\n",
      "63/63 [==============================] - 5s 81ms/step - loss: 6.0197e-05\n",
      "Epoch 18/100\n",
      "63/63 [==============================] - 9s 138ms/step - loss: 6.4875e-05\n",
      "Epoch 19/100\n",
      "63/63 [==============================] - 10s 153ms/step - loss: 5.8369e-05\n",
      "Epoch 20/100\n",
      "63/63 [==============================] - 10s 153ms/step - loss: 5.1483e-05\n",
      "Epoch 21/100\n",
      "63/63 [==============================] - 10s 153ms/step - loss: 6.8185e-05\n",
      "Epoch 22/100\n",
      "63/63 [==============================] - 10s 155ms/step - loss: 4.7347e-05\n",
      "Epoch 23/100\n",
      "63/63 [==============================] - 10s 158ms/step - loss: 5.2342e-05\n",
      "Epoch 24/100\n",
      "63/63 [==============================] - 9s 143ms/step - loss: 6.0911e-05\n",
      "Epoch 25/100\n",
      "63/63 [==============================] - 5s 81ms/step - loss: 4.1128e-05\n",
      "Epoch 26/100\n",
      "63/63 [==============================] - 8s 132ms/step - loss: 4.0403e-05\n",
      "Epoch 27/100\n",
      "63/63 [==============================] - 10s 158ms/step - loss: 4.6818e-05\n",
      "Epoch 28/100\n",
      "63/63 [==============================] - 10s 160ms/step - loss: 4.2329e-05\n",
      "Epoch 29/100\n",
      "63/63 [==============================] - 10s 151ms/step - loss: 4.1356e-05\n",
      "Epoch 30/100\n",
      "63/63 [==============================] - 10s 151ms/step - loss: 4.0515e-05\n",
      "Epoch 31/100\n",
      "63/63 [==============================] - 10s 160ms/step - loss: 4.3424e-05\n",
      "Epoch 32/100\n",
      "63/63 [==============================] - 10s 165ms/step - loss: 3.2876e-05\n",
      "Epoch 33/100\n",
      "63/63 [==============================] - 10s 162ms/step - loss: 3.1372e-05\n",
      "Epoch 34/100\n",
      "63/63 [==============================] - 10s 159ms/step - loss: 3.3383e-05\n",
      "Epoch 35/100\n",
      "63/63 [==============================] - 10s 161ms/step - loss: 2.9693e-05\n",
      "Epoch 36/100\n",
      "63/63 [==============================] - 10s 160ms/step - loss: 2.8760e-05\n",
      "Epoch 37/100\n",
      "63/63 [==============================] - 11s 181ms/step - loss: 3.3917e-05\n",
      "Epoch 38/100\n",
      "63/63 [==============================] - 12s 188ms/step - loss: 3.2957e-05\n",
      "Epoch 39/100\n",
      "63/63 [==============================] - 11s 171ms/step - loss: 2.7216e-05\n",
      "Epoch 40/100\n",
      "63/63 [==============================] - 10s 163ms/step - loss: 3.8451e-05\n",
      "Epoch 41/100\n",
      "63/63 [==============================] - 11s 167ms/step - loss: 2.6045e-05\n",
      "Epoch 42/100\n",
      "63/63 [==============================] - 10s 159ms/step - loss: 3.5163e-05\n",
      "Epoch 43/100\n",
      "63/63 [==============================] - 11s 182ms/step - loss: 2.8456e-05\n",
      "Epoch 44/100\n",
      "63/63 [==============================] - 12s 186ms/step - loss: 3.6432e-05\n",
      "Epoch 45/100\n",
      "63/63 [==============================] - 10s 153ms/step - loss: 2.7842e-05\n",
      "Epoch 46/100\n",
      "63/63 [==============================] - 10s 165ms/step - loss: 2.3277e-05\n",
      "Epoch 47/100\n",
      "63/63 [==============================] - 11s 171ms/step - loss: 2.6630e-05\n",
      "Epoch 48/100\n",
      "63/63 [==============================] - 10s 156ms/step - loss: 2.2249e-05\n",
      "Epoch 49/100\n",
      "63/63 [==============================] - 10s 156ms/step - loss: 2.9379e-05\n",
      "Epoch 50/100\n",
      "63/63 [==============================] - 11s 174ms/step - loss: 2.3708e-05\n",
      "Epoch 51/100\n",
      "63/63 [==============================] - 11s 176ms/step - loss: 2.3854e-05\n",
      "Epoch 52/100\n",
      "63/63 [==============================] - 11s 171ms/step - loss: 2.0953e-05\n",
      "Epoch 53/100\n",
      "63/63 [==============================] - 11s 178ms/step - loss: 2.3028e-05\n",
      "Epoch 54/100\n",
      "63/63 [==============================] - 11s 181ms/step - loss: 2.2848e-05\n",
      "Epoch 55/100\n",
      "63/63 [==============================] - 11s 169ms/step - loss: 2.2150e-05\n",
      "Epoch 56/100\n",
      "63/63 [==============================] - 10s 162ms/step - loss: 1.9033e-05\n",
      "Epoch 57/100\n",
      "63/63 [==============================] - 10s 153ms/step - loss: 2.5196e-05\n",
      "Epoch 58/100\n",
      "63/63 [==============================] - 10s 165ms/step - loss: 2.3821e-05\n",
      "Epoch 59/100\n",
      "63/63 [==============================] - 10s 163ms/step - loss: 1.8464e-05\n",
      "Epoch 60/100\n",
      "63/63 [==============================] - 11s 168ms/step - loss: 1.8918e-05\n",
      "Epoch 61/100\n",
      "63/63 [==============================] - 11s 172ms/step - loss: 2.0233e-05\n",
      "Epoch 62/100\n",
      "63/63 [==============================] - 11s 169ms/step - loss: 2.4276e-05\n",
      "Epoch 63/100\n",
      "63/63 [==============================] - 10s 166ms/step - loss: 1.8794e-05\n",
      "Epoch 64/100\n",
      "63/63 [==============================] - 10s 158ms/step - loss: 1.7101e-05\n",
      "Epoch 65/100\n",
      "63/63 [==============================] - 10s 165ms/step - loss: 1.6315e-05\n",
      "Epoch 66/100\n",
      "63/63 [==============================] - 10s 158ms/step - loss: 1.5715e-05\n",
      "Epoch 67/100\n",
      "63/63 [==============================] - 10s 163ms/step - loss: 1.5604e-05\n",
      "Epoch 68/100\n",
      "63/63 [==============================] - 10s 159ms/step - loss: 1.7304e-05\n",
      "Epoch 69/100\n",
      "63/63 [==============================] - 10s 156ms/step - loss: 2.8593e-05\n",
      "Epoch 70/100\n",
      "63/63 [==============================] - 10s 160ms/step - loss: 1.9874e-05\n",
      "Epoch 71/100\n",
      "63/63 [==============================] - 10s 159ms/step - loss: 1.5398e-05\n",
      "Epoch 72/100\n",
      "63/63 [==============================] - 11s 174ms/step - loss: 1.7529e-05\n",
      "Epoch 73/100\n",
      "63/63 [==============================] - 11s 167ms/step - loss: 2.1791e-05\n",
      "Epoch 74/100\n",
      "63/63 [==============================] - 10s 165ms/step - loss: 1.5654e-05\n",
      "Epoch 75/100\n",
      "63/63 [==============================] - 10s 160ms/step - loss: 1.1361e-05\n",
      "Epoch 76/100\n",
      "63/63 [==============================] - 10s 159ms/step - loss: 1.3774e-05\n",
      "Epoch 77/100\n",
      "63/63 [==============================] - 10s 161ms/step - loss: 1.3360e-05\n",
      "Epoch 78/100\n",
      "63/63 [==============================] - 10s 162ms/step - loss: 1.4317e-05\n",
      "Epoch 79/100\n",
      "63/63 [==============================] - 10s 164ms/step - loss: 1.2634e-05\n",
      "Epoch 80/100\n",
      "63/63 [==============================] - 10s 155ms/step - loss: 1.8126e-05\n",
      "Epoch 81/100\n",
      "63/63 [==============================] - 7s 106ms/step - loss: 1.4484e-05\n",
      "Epoch 82/100\n",
      "63/63 [==============================] - 5s 83ms/step - loss: 1.6318e-05\n",
      "Epoch 83/100\n",
      "63/63 [==============================] - 10s 157ms/step - loss: 1.5503e-05\n",
      "Epoch 84/100\n",
      "63/63 [==============================] - 10s 162ms/step - loss: 1.6122e-05\n",
      "Epoch 85/100\n",
      "63/63 [==============================] - 10s 152ms/step - loss: 1.4043e-05\n",
      "Epoch 86/100\n",
      "63/63 [==============================] - 10s 155ms/step - loss: 1.3779e-05\n",
      "Epoch 87/100\n",
      "63/63 [==============================] - 10s 153ms/step - loss: 1.5290e-05\n",
      "Epoch 88/100\n",
      "63/63 [==============================] - 10s 154ms/step - loss: 1.7727e-05\n",
      "Epoch 89/100\n",
      "63/63 [==============================] - 10s 164ms/step - loss: 1.6077e-05\n",
      "Epoch 90/100\n",
      "63/63 [==============================] - 10s 161ms/step - loss: 1.4572e-05\n",
      "Epoch 91/100\n",
      "63/63 [==============================] - 10s 157ms/step - loss: 1.4555e-05\n",
      "Epoch 92/100\n",
      "63/63 [==============================] - 11s 178ms/step - loss: 1.4800e-05\n",
      "Epoch 93/100\n",
      "63/63 [==============================] - 10s 157ms/step - loss: 1.3130e-05\n",
      "Epoch 94/100\n",
      "63/63 [==============================] - 10s 156ms/step - loss: 1.6284e-05\n",
      "Epoch 95/100\n",
      "63/63 [==============================] - 10s 157ms/step - loss: 1.1652e-05\n",
      "Epoch 96/100\n",
      "63/63 [==============================] - 10s 165ms/step - loss: 1.0677e-05\n",
      "Epoch 97/100\n",
      "63/63 [==============================] - 11s 169ms/step - loss: 1.4541e-05\n",
      "Epoch 98/100\n",
      "63/63 [==============================] - 11s 170ms/step - loss: 1.2859e-05\n",
      "Epoch 99/100\n",
      "63/63 [==============================] - 10s 164ms/step - loss: 1.5473e-05\n",
      "Epoch 100/100\n",
      "63/63 [==============================] - 10s 164ms/step - loss: 1.9788e-05\n"
     ]
    },
    {
     "data": {
      "text/plain": [
       "<keras.callbacks.History at 0x2293442bac8>"
      ]
     },
     "execution_count": 55,
     "metadata": {},
     "output_type": "execute_result"
    }
   ],
   "source": [
    "#train the model\n",
    "high_model.fit(x_train, y_train, batch_size=32, epochs=EPOCHS)"
   ]
  },
  {
   "cell_type": "code",
   "execution_count": 56,
   "id": "65513be1",
   "metadata": {},
   "outputs": [],
   "source": [
    "#create the testing data set\n",
    "#create a new array containing scaled values from index 1543 to 2003\n",
    "test_data = scaled_data[training_data_len - 60: , :]\n",
    "#create the data sets x_test adn y_test\n",
    "x_test = []\n",
    "y_test = dataset[training_data_len:,:]\n",
    "for i in range(60, len(test_data)):\n",
    "    x_test.append(test_data[i-60:i,0])\n",
    "    \n",
    "    \n"
   ]
  },
  {
   "cell_type": "code",
   "execution_count": 57,
   "id": "923bd5ff",
   "metadata": {},
   "outputs": [],
   "source": [
    "#convert the data to a numpy array\n",
    "x_test = np.array(x_test)"
   ]
  },
  {
   "cell_type": "code",
   "execution_count": 58,
   "id": "91b49ed6",
   "metadata": {},
   "outputs": [],
   "source": [
    "#resahpe the data\n",
    "x_test = np.reshape(x_test,(x_test.shape[0],x_test.shape[1],1))"
   ]
  },
  {
   "cell_type": "code",
   "execution_count": 59,
   "id": "092bd834",
   "metadata": {},
   "outputs": [],
   "source": [
    "#get the models predicted price values\n",
    "predictions = high_model.predict(x_test)\n",
    "predictions = scaler.inverse_transform(predictions)"
   ]
  },
  {
   "cell_type": "code",
   "execution_count": 60,
   "id": "234abe82",
   "metadata": {},
   "outputs": [
    {
     "data": {
      "text/plain": [
       "4.117880533080816"
      ]
     },
     "execution_count": 60,
     "metadata": {},
     "output_type": "execute_result"
    }
   ],
   "source": [
    "#get the root mean squared error (RMSE)\n",
    "rmse =  np.sqrt(np.mean(predictions - y_test)**2)\n",
    "rmse"
   ]
  },
  {
   "cell_type": "code",
   "execution_count": 61,
   "id": "04aa9435",
   "metadata": {},
   "outputs": [
    {
     "name": "stderr",
     "output_type": "stream",
     "text": [
      "C:\\Users\\Abhishek Rao\\AppData\\Local\\Packages\\PythonSoftwareFoundation.Python.3.7_qbz5n2kfra8p0\\LocalCache\\local-packages\\Python37\\site-packages\\ipykernel_launcher.py:4: SettingWithCopyWarning: \n",
      "A value is trying to be set on a copy of a slice from a DataFrame.\n",
      "Try using .loc[row_indexer,col_indexer] = value instead\n",
      "\n",
      "See the caveats in the documentation: https://pandas.pydata.org/pandas-docs/stable/user_guide/indexing.html#returning-a-view-versus-a-copy\n",
      "  after removing the cwd from sys.path.\n"
     ]
    },
    {
     "data": {
      "image/png": "[encoded data removed]",
      "text/plain": [
       "<Figure size 1152x576 with 1 Axes>"
      ]
     },
     "metadata": {},
     "output_type": "display_data"
    }
   ],
   "source": [
    "#plot the date\n",
    "train = data[:training_data_len]\n",
    "valid = data[training_data_len:]\n",
    "valid['Predictions'] = predictions\n",
    "#visualize the data\n",
    "plt.figure(figsize=(16,8))\n",
    "plt.title('Model')\n",
    "plt.xlabel('Date')\n",
    "plt.ylabel('High Price USD ($)')\n",
    "plt.plot(train['High'])\n",
    "plt.plot(valid[['High', 'Predictions']])\n",
    "plt.legend(['Train', 'Val', 'Predictions'], loc='lower right')\n",
    "plt.show()"
   ]
  },
  {
   "cell_type": "code",
   "execution_count": 62,
   "id": "1c174818",
   "metadata": {},
   "outputs": [
    {
     "data": {
      "text/html": [
       "<div>\n",
       "<style scoped>\n",
       "    .dataframe tbody tr th:only-of-type {\n",
       "        vertical-align: middle;\n",
       "    }\n",
       "\n",
       "    .dataframe tbody tr th {\n",
       "        vertical-align: top;\n",
       "    }\n",
       "\n",
       "    .dataframe thead th {\n",
       "        text-align: right;\n",
       "    }\n",
       "</style>\n",
       "<table border=\"1\" class=\"dataframe\">\n",
       "  <thead>\n",
       "    <tr style=\"text-align: right;\">\n",
       "      <th></th>\n",
       "      <th>High</th>\n",
       "      <th>Predictions</th>\n",
       "    </tr>\n",
       "    <tr>\n",
       "      <th>Date</th>\n",
       "      <th></th>\n",
       "      <th></th>\n",
       "    </tr>\n",
       "  </thead>\n",
       "  <tbody>\n",
       "    <tr>\n",
       "      <th>2020-03-02</th>\n",
       "      <td>75.360001</td>\n",
       "      <td>68.695847</td>\n",
       "    </tr>\n",
       "    <tr>\n",
       "      <th>2020-03-03</th>\n",
       "      <td>76.000000</td>\n",
       "      <td>76.174202</td>\n",
       "    </tr>\n",
       "    <tr>\n",
       "      <th>2020-03-04</th>\n",
       "      <td>75.849998</td>\n",
       "      <td>74.401489</td>\n",
       "    </tr>\n",
       "    <tr>\n",
       "      <th>2020-03-05</th>\n",
       "      <td>74.887497</td>\n",
       "      <td>75.203865</td>\n",
       "    </tr>\n",
       "    <tr>\n",
       "      <th>2020-03-06</th>\n",
       "      <td>72.705002</td>\n",
       "      <td>73.987045</td>\n",
       "    </tr>\n",
       "    <tr>\n",
       "      <th>...</th>\n",
       "      <td>...</td>\n",
       "      <td>...</td>\n",
       "    </tr>\n",
       "    <tr>\n",
       "      <th>2022-03-07</th>\n",
       "      <td>165.020004</td>\n",
       "      <td>153.291473</td>\n",
       "    </tr>\n",
       "    <tr>\n",
       "      <th>2022-03-08</th>\n",
       "      <td>162.880005</td>\n",
       "      <td>156.961319</td>\n",
       "    </tr>\n",
       "    <tr>\n",
       "      <th>2022-03-09</th>\n",
       "      <td>163.410004</td>\n",
       "      <td>151.552490</td>\n",
       "    </tr>\n",
       "    <tr>\n",
       "      <th>2022-03-10</th>\n",
       "      <td>160.389999</td>\n",
       "      <td>155.357925</td>\n",
       "    </tr>\n",
       "    <tr>\n",
       "      <th>2022-03-11</th>\n",
       "      <td>159.279999</td>\n",
       "      <td>148.327744</td>\n",
       "    </tr>\n",
       "  </tbody>\n",
       "</table>\n",
       "<p>513 rows × 2 columns</p>\n",
       "</div>"
      ],
      "text/plain": [
       "                  High  Predictions\n",
       "Date                               \n",
       "2020-03-02   75.360001    68.695847\n",
       "2020-03-03   76.000000    76.174202\n",
       "2020-03-04   75.849998    74.401489\n",
       "2020-03-05   74.887497    75.203865\n",
       "2020-03-06   72.705002    73.987045\n",
       "...                ...          ...\n",
       "2022-03-07  165.020004   153.291473\n",
       "2022-03-08  162.880005   156.961319\n",
       "2022-03-09  163.410004   151.552490\n",
       "2022-03-10  160.389999   155.357925\n",
       "2022-03-11  159.279999   148.327744\n",
       "\n",
       "[513 rows x 2 columns]"
      ]
     },
     "execution_count": 62,
     "metadata": {},
     "output_type": "execute_result"
    }
   ],
   "source": [
    "#show the valid and predicted prices\n",
    "valid"
   ]
  },
  {
   "cell_type": "code",
   "execution_count": 63,
   "id": "47c7456f",
   "metadata": {},
   "outputs": [
    {
     "name": "stdout",
     "output_type": "stream",
     "text": [
      "[[159.20877]]\n"
     ]
    }
   ],
   "source": [
    "#get the Quote\n",
    "stock_quote = web.DataReader(STOCK, data_source = 'yahoo', start=START_DATE, end=END_DATE)\n",
    "#create new data frame\n",
    "new_df = stock_quote.filter(['High'])\n",
    "#get the last 60 days closing price values and convert the dataframe to an array\n",
    "last_60_days = new_df[-60:].values\n",
    "#scale the data to be values between 0 and 1\n",
    "last_60_days_scaled = scaler.fit_transform(last_60_days)\n",
    "#create the empty list\n",
    "x_test = []\n",
    "#append the past 60 days\n",
    "x_test.append(last_60_days_scaled)\n",
    "#convert the x_test data set to a numpy array\n",
    "x_test = np.array(x_test)\n",
    "x_test = np.reshape(x_test,(x_test.shape[0],x_test.shape[1],1))\n",
    "#get the predicted scaled price\n",
    "high_pred_price = high_model.predict(x_test)\n",
    "#undo the scaling\n",
    "high_pred_price = scaler.inverse_transform(high_pred_price)\n",
    "print(high_pred_price)\n"
   ]
  },
  {
   "cell_type": "code",
   "execution_count": 64,
   "id": "e59ebc11",
   "metadata": {},
   "outputs": [
    {
     "name": "stdout",
     "output_type": "stream",
     "text": [
      "Date\n",
      "2012-01-03     14.732143\n",
      "2012-01-04     14.810000\n",
      "2012-01-05     14.948214\n",
      "2012-01-06     15.098214\n",
      "2012-01-09     15.276786\n",
      "                 ...    \n",
      "2022-03-07    165.020004\n",
      "2022-03-08    162.880005\n",
      "2022-03-09    163.410004\n",
      "2022-03-10    160.389999\n",
      "2022-03-11    159.279999\n",
      "Name: High, Length: 2565, dtype: float64\n"
     ]
    }
   ],
   "source": [
    "stock_quote2 = web.DataReader(STOCK, data_source = 'yahoo', start=START_DATE, end=PREDICT_DATE)\n",
    "print(stock_quote2['High'])"
   ]
  },
  {
   "cell_type": "code",
   "execution_count": 65,
   "id": "dcfc0012",
   "metadata": {},
   "outputs": [],
   "source": [
    "high_model.save(high_model_path)\n",
    "loaded_high_model = load_model(high_model_path)\n"
   ]
  },
  {
   "cell_type": "code",
   "execution_count": 66,
   "id": "cbdc5c74",
   "metadata": {},
   "outputs": [
    {
     "name": "stdout",
     "output_type": "stream",
     "text": [
      "Date\n",
      "2012-01-03     14.732143\n",
      "2012-01-04     14.810000\n",
      "2012-01-05     14.948214\n",
      "2012-01-06     15.098214\n",
      "2012-01-09     15.276786\n",
      "                 ...    \n",
      "2022-03-07    165.020004\n",
      "2022-03-08    162.880005\n",
      "2022-03-09    163.410004\n",
      "2022-03-10    160.389999\n",
      "2022-03-11    159.279999\n",
      "Name: High, Length: 2565, dtype: float64\n"
     ]
    }
   ],
   "source": [
    "stock_quote2 = web.DataReader(STOCK, data_source = 'yahoo', start=START_DATE, end=PREDICT_DATE)\n",
    "print(stock_quote2['High'])"
   ]
  },
  {
   "cell_type": "code",
   "execution_count": 67,
   "id": "efb16e09",
   "metadata": {},
   "outputs": [],
   "source": [
    "if(SOUND==1):\n",
    "    import winsound\n",
    "    frequency = 2500  # Set Frequency To 2500 Hertz\n",
    "    duration = 1000  # Set Duration To 1000 ms == 1 second\n",
    "    winsound.Beep(frequency, duration)\n",
    "    winsound.Beep(37, 50)\n",
    "    winsound.Beep(frequency, duration)\n",
    "    winsound.Beep(37, 50)\n",
    "    winsound.Beep(frequency, duration)\n",
    "    winsound.Beep(37, 50)\n"
   ]
  },
  {
   "cell_type": "code",
   "execution_count": 68,
   "id": "8fe8f664",
   "metadata": {},
   "outputs": [
    {
     "data": {
      "image/png": "[encoded data removed]",
      "text/plain": [
       "<Figure size 1152x576 with 1 Axes>"
      ]
     },
     "metadata": {},
     "output_type": "display_data"
    }
   ],
   "source": [
    "#Visualing the low price history\n",
    "plt.figure(figsize=(16,8))\n",
    "plt.title('Low Price History')\n",
    "plt.plot(df['Low'])\n",
    "plt.xlabel('Date', fontsize=18)\n",
    "plt.ylabel('Low Price USD($)', fontsize=18)\n",
    "plt.show()"
   ]
  },
  {
   "cell_type": "code",
   "execution_count": 69,
   "id": "430aeaef",
   "metadata": {},
   "outputs": [
    {
     "data": {
      "text/plain": [
       "2052"
      ]
     },
     "execution_count": 69,
     "metadata": {},
     "output_type": "execute_result"
    }
   ],
   "source": [
    "#Create a new data\n",
    "data = df.filter(['Low'])\n",
    "#convert the dataframe to a numpy array\n",
    "dataset = data.values\n",
    "#get the number of rows to train the model on\n",
    "training_data_len = math.ceil(len(dataset)*.8)\n",
    "training_data_len"
   ]
  },
  {
   "cell_type": "code",
   "execution_count": 70,
   "id": "259c8009",
   "metadata": {},
   "outputs": [
    {
     "data": {
      "text/plain": [
       "array([[0.00516171],\n",
       "       [0.00522217],\n",
       "       [0.00595431],\n",
       "       ...,\n",
       "       [0.8808102 ],\n",
       "       [0.86006833],\n",
       "       [0.85111854]])"
      ]
     },
     "execution_count": 70,
     "metadata": {},
     "output_type": "execute_result"
    }
   ],
   "source": [
    "#Scale the data\n",
    "scaler = MinMaxScaler(feature_range=(0,1))\n",
    "scaled_data = scaler.fit_transform(dataset)\n",
    "\n",
    "scaled_data"
   ]
  },
  {
   "cell_type": "code",
   "execution_count": 71,
   "id": "900063c9",
   "metadata": {},
   "outputs": [
    {
     "name": "stdout",
     "output_type": "stream",
     "text": [
      "[array([0.00516171, 0.00522217, 0.00595431, 0.00736892, 0.00782894,\n",
      "       0.00786133, 0.00738836, 0.00726741, 0.00724798, 0.00817665,\n",
      "       0.008898  , 0.00894335, 0.00748338, 0.00803411, 0.00744019,\n",
      "       0.01266236, 0.01253494, 0.01267101, 0.01302087, 0.01467952,\n",
      "       0.01521514, 0.01487606, 0.0152173 , 0.01578746, 0.01716534,\n",
      "       0.01827112, 0.02061656, 0.02234216, 0.02418655, 0.02524697,\n",
      "       0.02414336, 0.0219275 , 0.02487982, 0.02570483, 0.02677387,\n",
      "       0.02686675, 0.02884072, 0.02833103, 0.03039787, 0.03252518,\n",
      "       0.0331882 , 0.03399809, 0.03043026, 0.02831807, 0.02984714,\n",
      "       0.031752  , 0.03412552, 0.03496564, 0.03685538, 0.04109921,\n",
      "       0.04177952, 0.04166073, 0.04404721, 0.04457202, 0.04671661,\n",
      "       0.0454467 , 0.04520265, 0.04538839, 0.04772087, 0.04863874])]\n",
      "[0.047973560026183276]\n",
      "\n",
      "[array([0.00516171, 0.00522217, 0.00595431, 0.00736892, 0.00782894,\n",
      "       0.00786133, 0.00738836, 0.00726741, 0.00724798, 0.00817665,\n",
      "       0.008898  , 0.00894335, 0.00748338, 0.00803411, 0.00744019,\n",
      "       0.01266236, 0.01253494, 0.01267101, 0.01302087, 0.01467952,\n",
      "       0.01521514, 0.01487606, 0.0152173 , 0.01578746, 0.01716534,\n",
      "       0.01827112, 0.02061656, 0.02234216, 0.02418655, 0.02524697,\n",
      "       0.02414336, 0.0219275 , 0.02487982, 0.02570483, 0.02677387,\n",
      "       0.02686675, 0.02884072, 0.02833103, 0.03039787, 0.03252518,\n",
      "       0.0331882 , 0.03399809, 0.03043026, 0.02831807, 0.02984714,\n",
      "       0.031752  , 0.03412552, 0.03496564, 0.03685538, 0.04109921,\n",
      "       0.04177952, 0.04166073, 0.04404721, 0.04457202, 0.04671661,\n",
      "       0.0454467 , 0.04520265, 0.04538839, 0.04772087, 0.04863874]), array([0.00522217, 0.00595431, 0.00736892, 0.00782894, 0.00786133,\n",
      "       0.00738836, 0.00726741, 0.00724798, 0.00817665, 0.008898  ,\n",
      "       0.00894335, 0.00748338, 0.00803411, 0.00744019, 0.01266236,\n",
      "       0.01253494, 0.01267101, 0.01302087, 0.01467952, 0.01521514,\n",
      "       0.01487606, 0.0152173 , 0.01578746, 0.01716534, 0.01827112,\n",
      "       0.02061656, 0.02234216, 0.02418655, 0.02524697, 0.02414336,\n",
      "       0.0219275 , 0.02487982, 0.02570483, 0.02677387, 0.02686675,\n",
      "       0.02884072, 0.02833103, 0.03039787, 0.03252518, 0.0331882 ,\n",
      "       0.03399809, 0.03043026, 0.02831807, 0.02984714, 0.031752  ,\n",
      "       0.03412552, 0.03496564, 0.03685538, 0.04109921, 0.04177952,\n",
      "       0.04166073, 0.04404721, 0.04457202, 0.04671661, 0.0454467 ,\n",
      "       0.04520265, 0.04538839, 0.04772087, 0.04863874, 0.04797356])]\n",
      "[0.047973560026183276, 0.045967184728073596]\n",
      "\n"
     ]
    }
   ],
   "source": [
    "#creating the training data set\n",
    "#create the scaled training data set\n",
    "train_data = scaled_data[0:training_data_len,:]\n",
    "#split the data into x_train and y_train data sets\n",
    "x_train = []\n",
    "y_train = []\n",
    "for i in range(60, len(train_data)):\n",
    "    x_train.append(train_data[i-60:i,0])\n",
    "    y_train.append(train_data[i,0])\n",
    "    if i<=61:\n",
    "        print(x_train)\n",
    "        print(y_train)\n",
    "        print()"
   ]
  },
  {
   "cell_type": "code",
   "execution_count": 72,
   "id": "25b6e36b",
   "metadata": {},
   "outputs": [],
   "source": [
    "#Convert the X_train and Y_train to numpy arrays\n",
    "x_train , y_train = np.array(x_train), np.array(y_train)"
   ]
  },
  {
   "cell_type": "code",
   "execution_count": 73,
   "id": "cf8adf2a",
   "metadata": {},
   "outputs": [
    {
     "data": {
      "text/plain": [
       "(1992, 60, 1)"
      ]
     },
     "execution_count": 73,
     "metadata": {},
     "output_type": "execute_result"
    }
   ],
   "source": [
    "#Reshape the data\n",
    "x_train = np.reshape(x_train,(x_train.shape[0],x_train.shape[1],1))\n",
    "x_train.shape"
   ]
  },
  {
   "cell_type": "code",
   "execution_count": 74,
   "id": "de1bc0cf",
   "metadata": {},
   "outputs": [],
   "source": [
    "#Building the LSTM model\n",
    "low_model = Sequential()\n",
    "low_model.add(LSTM(50, return_sequences=True, input_shape =(x_train.shape[1],1)))\n",
    "low_model.add(LSTM(50, return_sequences=True))\n",
    "low_model.add(LSTM(50, return_sequences=True))\n",
    "low_model.add(LSTM(50, return_sequences=False))\n",
    "low_model.add(Dense(25))\n",
    "low_model.add(Dense(1))"
   ]
  },
  {
   "cell_type": "code",
   "execution_count": 75,
   "id": "f06c22e4",
   "metadata": {},
   "outputs": [],
   "source": [
    "#compile the Model\n",
    "low_model.compile(optimizer='adam', loss='mean_squared_error')"
   ]
  },
  {
   "cell_type": "code",
   "execution_count": 76,
   "id": "55574e3b",
   "metadata": {},
   "outputs": [
    {
     "name": "stdout",
     "output_type": "stream",
     "text": [
      "Epoch 1/100\n",
      "63/63 [==============================] - 12s 86ms/step - loss: 0.0019\n",
      "Epoch 2/100\n",
      "63/63 [==============================] - 10s 154ms/step - loss: 1.7959e-04\n",
      "Epoch 3/100\n",
      "63/63 [==============================] - 10s 159ms/step - loss: 1.6318e-04\n",
      "Epoch 4/100\n",
      "63/63 [==============================] - 10s 160ms/step - loss: 1.7220e-04\n",
      "Epoch 5/100\n",
      "63/63 [==============================] - 10s 163ms/step - loss: 1.4941e-04\n",
      "Epoch 6/100\n",
      "63/63 [==============================] - 11s 171ms/step - loss: 1.3059e-04\n",
      "Epoch 7/100\n",
      "63/63 [==============================] - 12s 189ms/step - loss: 1.1816e-04\n",
      "Epoch 8/100\n",
      "63/63 [==============================] - 12s 182ms/step - loss: 9.8512e-05\n",
      "Epoch 9/100\n",
      "63/63 [==============================] - 11s 170ms/step - loss: 9.8787e-05\n",
      "Epoch 10/100\n",
      "63/63 [==============================] - 10s 158ms/step - loss: 9.0535e-05\n",
      "Epoch 11/100\n",
      "63/63 [==============================] - 10s 161ms/step - loss: 1.0774e-04\n",
      "Epoch 12/100\n",
      "63/63 [==============================] - 10s 163ms/step - loss: 1.0819e-04\n",
      "Epoch 13/100\n",
      "63/63 [==============================] - 10s 165ms/step - loss: 8.5172e-05\n",
      "Epoch 14/100\n",
      "63/63 [==============================] - 10s 163ms/step - loss: 8.8293e-05\n",
      "Epoch 15/100\n",
      "63/63 [==============================] - 10s 160ms/step - loss: 8.5130e-05\n",
      "Epoch 16/100\n",
      "63/63 [==============================] - 10s 159ms/step - loss: 8.8518e-05\n",
      "Epoch 17/100\n",
      "63/63 [==============================] - 11s 168ms/step - loss: 9.9746e-05\n",
      "Epoch 18/100\n",
      "63/63 [==============================] - 11s 167ms/step - loss: 9.5218e-05\n",
      "Epoch 19/100\n",
      "63/63 [==============================] - 10s 159ms/step - loss: 6.9594e-05\n",
      "Epoch 20/100\n",
      "63/63 [==============================] - 10s 158ms/step - loss: 8.2916e-05\n",
      "Epoch 21/100\n",
      "63/63 [==============================] - 10s 158ms/step - loss: 7.0458e-05\n",
      "Epoch 22/100\n",
      "63/63 [==============================] - 10s 165ms/step - loss: 6.9128e-05\n",
      "Epoch 23/100\n",
      "63/63 [==============================] - 10s 157ms/step - loss: 7.7965e-05\n",
      "Epoch 24/100\n",
      "63/63 [==============================] - 10s 157ms/step - loss: 5.8587e-05\n",
      "Epoch 25/100\n",
      "63/63 [==============================] - 10s 167ms/step - loss: 4.5936e-05\n",
      "Epoch 26/100\n",
      "63/63 [==============================] - 10s 159ms/step - loss: 7.0618e-05\n",
      "Epoch 27/100\n",
      "63/63 [==============================] - 10s 159ms/step - loss: 4.6396e-05\n",
      "Epoch 28/100\n",
      "63/63 [==============================] - 10s 159ms/step - loss: 5.0527e-05\n",
      "Epoch 29/100\n",
      "63/63 [==============================] - 10s 159ms/step - loss: 3.8483e-05\n",
      "Epoch 30/100\n",
      "63/63 [==============================] - 10s 160ms/step - loss: 4.1809e-05\n",
      "Epoch 31/100\n",
      "63/63 [==============================] - 10s 159ms/step - loss: 4.8712e-05\n",
      "Epoch 32/100\n",
      "63/63 [==============================] - 10s 159ms/step - loss: 3.7884e-05\n",
      "Epoch 33/100\n",
      "63/63 [==============================] - 10s 155ms/step - loss: 3.7966e-05\n",
      "Epoch 34/100\n",
      "63/63 [==============================] - 10s 155ms/step - loss: 3.0762e-05\n",
      "Epoch 35/100\n",
      "63/63 [==============================] - 10s 154ms/step - loss: 3.5576e-05\n",
      "Epoch 36/100\n",
      "63/63 [==============================] - 10s 153ms/step - loss: 3.3140e-05\n",
      "Epoch 37/100\n",
      "63/63 [==============================] - 10s 156ms/step - loss: 4.8255e-05\n",
      "Epoch 38/100\n",
      "63/63 [==============================] - 11s 168ms/step - loss: 3.6541e-05\n",
      "Epoch 39/100\n",
      "63/63 [==============================] - 10s 157ms/step - loss: 3.3541e-05\n",
      "Epoch 40/100\n",
      "63/63 [==============================] - 10s 156ms/step - loss: 5.0564e-05\n",
      "Epoch 41/100\n",
      "63/63 [==============================] - 10s 160ms/step - loss: 3.7877e-05\n",
      "Epoch 42/100\n",
      "63/63 [==============================] - 11s 171ms/step - loss: 3.1891e-05\n",
      "Epoch 43/100\n",
      "63/63 [==============================] - 10s 164ms/step - loss: 3.0378e-05\n",
      "Epoch 44/100\n",
      "63/63 [==============================] - 10s 162ms/step - loss: 3.0774e-05\n",
      "Epoch 45/100\n",
      "63/63 [==============================] - 10s 166ms/step - loss: 2.8213e-05\n",
      "Epoch 46/100\n",
      "63/63 [==============================] - 10s 154ms/step - loss: 4.9114e-05\n",
      "Epoch 47/100\n",
      "63/63 [==============================] - 10s 155ms/step - loss: 2.6705e-05\n",
      "Epoch 48/100\n",
      "63/63 [==============================] - 10s 157ms/step - loss: 2.9004e-05\n",
      "Epoch 49/100\n",
      "63/63 [==============================] - 10s 155ms/step - loss: 2.9708e-05\n",
      "Epoch 50/100\n",
      "63/63 [==============================] - 10s 155ms/step - loss: 2.7707e-05\n",
      "Epoch 51/100\n",
      "63/63 [==============================] - 10s 154ms/step - loss: 3.4232e-05\n",
      "Epoch 52/100\n",
      "63/63 [==============================] - 11s 172ms/step - loss: 3.7810e-05\n",
      "Epoch 53/100\n",
      "63/63 [==============================] - 10s 162ms/step - loss: 2.4660e-05\n",
      "Epoch 54/100\n",
      "63/63 [==============================] - 10s 163ms/step - loss: 2.6672e-05\n",
      "Epoch 55/100\n",
      "63/63 [==============================] - 10s 156ms/step - loss: 3.3434e-05\n",
      "Epoch 56/100\n",
      "63/63 [==============================] - 10s 158ms/step - loss: 2.8774e-05\n",
      "Epoch 57/100\n",
      "63/63 [==============================] - 10s 156ms/step - loss: 2.7403e-05\n",
      "Epoch 58/100\n",
      "63/63 [==============================] - 10s 155ms/step - loss: 3.1344e-05\n",
      "Epoch 59/100\n",
      "63/63 [==============================] - 10s 157ms/step - loss: 2.6596e-05\n",
      "Epoch 60/100\n",
      "63/63 [==============================] - 10s 162ms/step - loss: 2.4303e-05\n",
      "Epoch 61/100\n",
      "63/63 [==============================] - 10s 161ms/step - loss: 3.2148e-05\n",
      "Epoch 62/100\n",
      "63/63 [==============================] - 10s 163ms/step - loss: 2.2706e-05\n",
      "Epoch 63/100\n",
      "63/63 [==============================] - 11s 172ms/step - loss: 2.9597e-05\n",
      "Epoch 64/100\n",
      "63/63 [==============================] - 11s 169ms/step - loss: 2.5806e-05\n",
      "Epoch 65/100\n",
      "63/63 [==============================] - 11s 172ms/step - loss: 2.5319e-05\n",
      "Epoch 66/100\n",
      "63/63 [==============================] - 11s 171ms/step - loss: 2.9201e-05\n",
      "Epoch 67/100\n",
      "63/63 [==============================] - 11s 171ms/step - loss: 2.5998e-05\n",
      "Epoch 68/100\n",
      "63/63 [==============================] - 11s 175ms/step - loss: 2.1494e-05\n",
      "Epoch 69/100\n",
      "63/63 [==============================] - 11s 172ms/step - loss: 2.0871e-05\n",
      "Epoch 70/100\n",
      "63/63 [==============================] - 11s 172ms/step - loss: 2.2401e-05\n",
      "Epoch 71/100\n",
      "63/63 [==============================] - 11s 168ms/step - loss: 1.7642e-05\n",
      "Epoch 72/100\n",
      "63/63 [==============================] - 10s 156ms/step - loss: 1.7844e-05\n",
      "Epoch 73/100\n",
      "63/63 [==============================] - 9s 149ms/step - loss: 1.9462e-05\n",
      "Epoch 74/100\n",
      "63/63 [==============================] - 10s 154ms/step - loss: 3.6300e-05\n",
      "Epoch 75/100\n",
      "63/63 [==============================] - 10s 166ms/step - loss: 2.0625e-05\n",
      "Epoch 76/100\n",
      "63/63 [==============================] - 10s 165ms/step - loss: 2.0457e-05\n",
      "Epoch 77/100\n",
      "63/63 [==============================] - 11s 168ms/step - loss: 1.8681e-05\n",
      "Epoch 78/100\n",
      "63/63 [==============================] - 10s 161ms/step - loss: 1.7255e-05\n",
      "Epoch 79/100\n",
      "63/63 [==============================] - 10s 165ms/step - loss: 1.5540e-05\n",
      "Epoch 80/100\n",
      "63/63 [==============================] - 10s 166ms/step - loss: 1.9533e-05\n",
      "Epoch 81/100\n",
      "63/63 [==============================] - 10s 164ms/step - loss: 1.4991e-05\n",
      "Epoch 82/100\n",
      "63/63 [==============================] - 10s 166ms/step - loss: 2.0855e-05\n",
      "Epoch 83/100\n",
      "63/63 [==============================] - 10s 166ms/step - loss: 1.5564e-05\n",
      "Epoch 84/100\n",
      "63/63 [==============================] - 10s 165ms/step - loss: 2.0993e-05\n",
      "Epoch 85/100\n",
      "63/63 [==============================] - 10s 161ms/step - loss: 1.6118e-05\n",
      "Epoch 86/100\n",
      "63/63 [==============================] - 10s 160ms/step - loss: 1.8755e-05\n",
      "Epoch 87/100\n",
      "63/63 [==============================] - 10s 166ms/step - loss: 1.8838e-05\n",
      "Epoch 88/100\n",
      "63/63 [==============================] - 10s 166ms/step - loss: 1.6611e-05\n",
      "Epoch 89/100\n",
      "63/63 [==============================] - 10s 165ms/step - loss: 1.6539e-05\n",
      "Epoch 90/100\n",
      "63/63 [==============================] - 10s 156ms/step - loss: 1.7764e-05\n",
      "Epoch 91/100\n",
      "63/63 [==============================] - 10s 161ms/step - loss: 1.6954e-05\n",
      "Epoch 92/100\n",
      "63/63 [==============================] - 10s 155ms/step - loss: 2.1177e-05\n",
      "Epoch 93/100\n",
      "63/63 [==============================] - 8s 122ms/step - loss: 1.4537e-05\n",
      "Epoch 94/100\n",
      "63/63 [==============================] - 10s 162ms/step - loss: 1.5586e-05\n",
      "Epoch 95/100\n",
      "63/63 [==============================] - 10s 154ms/step - loss: 1.6289e-05\n",
      "Epoch 96/100\n",
      "63/63 [==============================] - 10s 154ms/step - loss: 1.9604e-05\n",
      "Epoch 97/100\n",
      "63/63 [==============================] - 10s 153ms/step - loss: 1.8696e-05\n",
      "Epoch 98/100\n",
      "63/63 [==============================] - 10s 153ms/step - loss: 1.5442e-05\n",
      "Epoch 99/100\n",
      "63/63 [==============================] - 10s 152ms/step - loss: 1.8793e-05\n",
      "Epoch 100/100\n",
      "63/63 [==============================] - 10s 153ms/step - loss: 1.8776e-05\n"
     ]
    },
    {
     "data": {
      "text/plain": [
       "<keras.callbacks.History at 0x229340ca108>"
      ]
     },
     "execution_count": 76,
     "metadata": {},
     "output_type": "execute_result"
    }
   ],
   "source": [
    "#train the model\n",
    "low_model.fit(x_train, y_train, batch_size=32, epochs=EPOCHS)"
   ]
  },
  {
   "cell_type": "code",
   "execution_count": 77,
   "id": "342e764d",
   "metadata": {},
   "outputs": [],
   "source": [
    "#create the testing data set\n",
    "#create a new array containing scaled values from index 1543 to 2003\n",
    "test_data = scaled_data[training_data_len - 60: , :]\n",
    "#create the data sets x_test adn y_test\n",
    "x_test = []\n",
    "y_test = dataset[training_data_len:,:]\n",
    "for i in range(60, len(test_data)):\n",
    "    x_test.append(test_data[i-60:i,0])\n",
    "    \n",
    "    \n"
   ]
  },
  {
   "cell_type": "code",
   "execution_count": 78,
   "id": "4cb0c323",
   "metadata": {},
   "outputs": [],
   "source": [
    "#convert the data to a numpy array\n",
    "x_test = np.array(x_test)"
   ]
  },
  {
   "cell_type": "code",
   "execution_count": 79,
   "id": "dccc6a4d",
   "metadata": {},
   "outputs": [],
   "source": [
    "#resahpe the data\n",
    "x_test = np.reshape(x_test,(x_test.shape[0],x_test.shape[1],1))"
   ]
  },
  {
   "cell_type": "code",
   "execution_count": 80,
   "id": "4262e03a",
   "metadata": {},
   "outputs": [],
   "source": [
    "#get the models predicted price values\n",
    "predictions = open_model.predict(x_test)\n",
    "predictions = scaler.inverse_transform(predictions)"
   ]
  },
  {
   "cell_type": "code",
   "execution_count": 81,
   "id": "1ccfe0e8",
   "metadata": {},
   "outputs": [
    {
     "data": {
      "text/plain": [
       "7.698555944491083"
      ]
     },
     "execution_count": 81,
     "metadata": {},
     "output_type": "execute_result"
    }
   ],
   "source": [
    "#get the root mean squared error (RMSE)\n",
    "rmse =  np.sqrt(np.mean(predictions - y_test)**2)\n",
    "rmse"
   ]
  },
  {
   "cell_type": "code",
   "execution_count": 82,
   "id": "e9106bb6",
   "metadata": {},
   "outputs": [
    {
     "name": "stderr",
     "output_type": "stream",
     "text": [
      "C:\\Users\\Abhishek Rao\\AppData\\Local\\Packages\\PythonSoftwareFoundation.Python.3.7_qbz5n2kfra8p0\\LocalCache\\local-packages\\Python37\\site-packages\\ipykernel_launcher.py:4: SettingWithCopyWarning: \n",
      "A value is trying to be set on a copy of a slice from a DataFrame.\n",
      "Try using .loc[row_indexer,col_indexer] = value instead\n",
      "\n",
      "See the caveats in the documentation: https://pandas.pydata.org/pandas-docs/stable/user_guide/indexing.html#returning-a-view-versus-a-copy\n",
      "  after removing the cwd from sys.path.\n"
     ]
    },
    {
     "data": {
      "image/png": "[encoded data removed]",
      "text/plain": [
       "<Figure size 1152x576 with 1 Axes>"
      ]
     },
     "metadata": {},
     "output_type": "display_data"
    }
   ],
   "source": [
    "#plot the date\n",
    "train = data[:training_data_len]\n",
    "valid = data[training_data_len:]\n",
    "valid['Predictions'] = predictions\n",
    "#visualize the data\n",
    "plt.figure(figsize=(16,8))\n",
    "plt.title('Model')\n",
    "plt.xlabel('Date')\n",
    "plt.ylabel('Low Price USD ($)')\n",
    "plt.plot(train['Low'])\n",
    "plt.plot(valid[['Low', 'Predictions']])\n",
    "plt.legend(['Train', 'Val', 'Predictions'], loc='lower right')\n",
    "plt.show()"
   ]
  },
  {
   "cell_type": "code",
   "execution_count": 83,
   "id": "4d12932d",
   "metadata": {},
   "outputs": [
    {
     "data": {
      "text/html": [
       "<div>\n",
       "<style scoped>\n",
       "    .dataframe tbody tr th:only-of-type {\n",
       "        vertical-align: middle;\n",
       "    }\n",
       "\n",
       "    .dataframe tbody tr th {\n",
       "        vertical-align: top;\n",
       "    }\n",
       "\n",
       "    .dataframe thead th {\n",
       "        text-align: right;\n",
       "    }\n",
       "</style>\n",
       "<table border=\"1\" class=\"dataframe\">\n",
       "  <thead>\n",
       "    <tr style=\"text-align: right;\">\n",
       "      <th></th>\n",
       "      <th>Low</th>\n",
       "      <th>Predictions</th>\n",
       "    </tr>\n",
       "    <tr>\n",
       "      <th>Date</th>\n",
       "      <th></th>\n",
       "      <th></th>\n",
       "    </tr>\n",
       "  </thead>\n",
       "  <tbody>\n",
       "    <tr>\n",
       "      <th>2020-03-02</th>\n",
       "      <td>69.430000</td>\n",
       "      <td>61.935154</td>\n",
       "    </tr>\n",
       "    <tr>\n",
       "      <th>2020-03-03</th>\n",
       "      <td>71.449997</td>\n",
       "      <td>67.178215</td>\n",
       "    </tr>\n",
       "    <tr>\n",
       "      <th>2020-03-04</th>\n",
       "      <td>73.282501</td>\n",
       "      <td>69.415565</td>\n",
       "    </tr>\n",
       "    <tr>\n",
       "      <th>2020-03-05</th>\n",
       "      <td>72.852501</td>\n",
       "      <td>71.661858</td>\n",
       "    </tr>\n",
       "    <tr>\n",
       "      <th>2020-03-06</th>\n",
       "      <td>70.307503</td>\n",
       "      <td>71.569397</td>\n",
       "    </tr>\n",
       "    <tr>\n",
       "      <th>...</th>\n",
       "      <td>...</td>\n",
       "      <td>...</td>\n",
       "    </tr>\n",
       "    <tr>\n",
       "      <th>2022-03-07</th>\n",
       "      <td>159.039993</td>\n",
       "      <td>145.242401</td>\n",
       "    </tr>\n",
       "    <tr>\n",
       "      <th>2022-03-08</th>\n",
       "      <td>155.800003</td>\n",
       "      <td>143.642792</td>\n",
       "    </tr>\n",
       "    <tr>\n",
       "      <th>2022-03-09</th>\n",
       "      <td>159.410004</td>\n",
       "      <td>140.473251</td>\n",
       "    </tr>\n",
       "    <tr>\n",
       "      <th>2022-03-10</th>\n",
       "      <td>155.979996</td>\n",
       "      <td>144.568680</td>\n",
       "    </tr>\n",
       "    <tr>\n",
       "      <th>2022-03-11</th>\n",
       "      <td>154.500000</td>\n",
       "      <td>139.387894</td>\n",
       "    </tr>\n",
       "  </tbody>\n",
       "</table>\n",
       "<p>513 rows × 2 columns</p>\n",
       "</div>"
      ],
      "text/plain": [
       "                   Low  Predictions\n",
       "Date                               \n",
       "2020-03-02   69.430000    61.935154\n",
       "2020-03-03   71.449997    67.178215\n",
       "2020-03-04   73.282501    69.415565\n",
       "2020-03-05   72.852501    71.661858\n",
       "2020-03-06   70.307503    71.569397\n",
       "...                ...          ...\n",
       "2022-03-07  159.039993   145.242401\n",
       "2022-03-08  155.800003   143.642792\n",
       "2022-03-09  159.410004   140.473251\n",
       "2022-03-10  155.979996   144.568680\n",
       "2022-03-11  154.500000   139.387894\n",
       "\n",
       "[513 rows x 2 columns]"
      ]
     },
     "execution_count": 83,
     "metadata": {},
     "output_type": "execute_result"
    }
   ],
   "source": [
    "#show the valid and predicted prices\n",
    "valid"
   ]
  },
  {
   "cell_type": "code",
   "execution_count": 84,
   "id": "1dee5715",
   "metadata": {},
   "outputs": [
    {
     "name": "stdout",
     "output_type": "stream",
     "text": [
      "[[154.27248]]\n"
     ]
    }
   ],
   "source": [
    "#get the Quote\n",
    "stock_quote = web.DataReader(STOCK, data_source = 'yahoo', start=START_DATE, end=END_DATE)\n",
    "#create new data frame\n",
    "new_df = stock_quote.filter(['Low'])\n",
    "#get the last 60 days closing price values and convert the dataframe to an array\n",
    "last_60_days = new_df[-60:].values\n",
    "#scale the data to be values between 0 and 1\n",
    "last_60_days_scaled = scaler.fit_transform(last_60_days)\n",
    "#create the empty list\n",
    "x_test = []\n",
    "#append the past 60 days\n",
    "x_test.append(last_60_days_scaled)\n",
    "#convert the x_test data set to a numpy array\n",
    "x_test = np.array(x_test)\n",
    "x_test = np.reshape(x_test,(x_test.shape[0],x_test.shape[1],1))\n",
    "#get the predicted scaled price\n",
    "low_pred_price = low_model.predict(x_test)\n",
    "#undo the scaling\n",
    "low_pred_price = scaler.inverse_transform(low_pred_price)\n",
    "print(low_pred_price)\n"
   ]
  },
  {
   "cell_type": "code",
   "execution_count": 85,
   "id": "448151a7",
   "metadata": {},
   "outputs": [
    {
     "name": "stdout",
     "output_type": "stream",
     "text": [
      "Date\n",
      "2012-01-03     14.607143\n",
      "2012-01-04     14.617143\n",
      "2012-01-05     14.738214\n",
      "2012-01-06     14.972143\n",
      "2012-01-09     15.048214\n",
      "                 ...    \n",
      "2022-03-07    159.039993\n",
      "2022-03-08    155.800003\n",
      "2022-03-09    159.410004\n",
      "2022-03-10    155.979996\n",
      "2022-03-11    154.500000\n",
      "Name: Low, Length: 2565, dtype: float64\n"
     ]
    }
   ],
   "source": [
    "stock_quote2 = web.DataReader(STOCK, data_source = 'yahoo', start=START_DATE, end=PREDICT_DATE)\n",
    "print(stock_quote2['Low'])"
   ]
  },
  {
   "cell_type": "code",
   "execution_count": 86,
   "id": "67b06140",
   "metadata": {},
   "outputs": [],
   "source": [
    "low_model.save(low_model_path)\n",
    "loaded_low_model = load_model(low_model_path)\n"
   ]
  },
  {
   "cell_type": "code",
   "execution_count": 127,
   "id": "7b9cc069",
   "metadata": {},
   "outputs": [],
   "source": [
    "if(SOUND==1):\n",
    "    import winsound\n",
    "    frequency = 2500  # Set Frequency To 2500 Hertz\n",
    "    duration = 500  # Set Duration To 1000 ms == 1 second\n",
    "    winsound.Beep(frequency, duration)\n",
    "    winsound.Beep(37, 50)\n",
    "    winsound.Beep(frequency, duration)\n",
    "    winsound.Beep(37, 50)\n",
    "    winsound.Beep(frequency, duration)\n",
    "    winsound.Beep(37, 50)\n",
    "    winsound.Beep(frequency, duration)\n",
    "    winsound.Beep(37, 50)\n"
   ]
  },
  {
   "cell_type": "code",
   "execution_count": 88,
   "id": "04bd7362",
   "metadata": {},
   "outputs": [
    {
     "name": "stdout",
     "output_type": "stream",
     "text": [
      "Open price : 158.25209\n",
      "Close price : 154.65108\n",
      "High price : 159.20877\n",
      "Low price : 154.27248\n",
      "Open to Close: -3.6010132\n"
     ]
    }
   ],
   "source": [
    "print(\"Open price : \", end=\"\") \n",
    "print(pred_open_price[0][0])\n",
    "print(\"Close price : \", end=\"\") \n",
    "print(close_pred_price[0][0])\n",
    "print(\"High price : \", end=\"\") \n",
    "print(high_pred_price[0][0])\n",
    "print(\"Low price : \", end=\"\") \n",
    "print(low_pred_price[0][0])\n",
    "\n",
    "print(\"Open to Close: \", end=\"\")\n",
    "print(close_pred_price[0][0]-pred_open_price[0][0]   )"
   ]
  },
  {
   "cell_type": "code",
   "execution_count": 89,
   "id": "fb85a56b",
   "metadata": {},
   "outputs": [
    {
     "data": {
      "image/png": "[encoded data removed]",
      "text/plain": [
       "<Figure size 1152x576 with 1 Axes>"
      ]
     },
     "metadata": {},
     "output_type": "display_data"
    }
   ],
   "source": [
    "#Visualing the Volume history\n",
    "plt.figure(figsize=(16,8))\n",
    "plt.title('Volume Price History')\n",
    "plt.plot(df['Volume'])\n",
    "plt.xlabel('Date', fontsize=18)\n",
    "plt.ylabel('Volume count', fontsize=18)\n",
    "plt.show()"
   ]
  },
  {
   "cell_type": "code",
   "execution_count": 90,
   "id": "44d02a26",
   "metadata": {},
   "outputs": [
    {
     "data": {
      "text/plain": [
       "2052"
      ]
     },
     "execution_count": 90,
     "metadata": {},
     "output_type": "execute_result"
    }
   ],
   "source": [
    "#Create a new data\n",
    "data = df.filter(['Volume'])\n",
    "#convert the dataframe to a numpy array\n",
    "dataset = data.values\n",
    "#get the number of rows to train the model on\n",
    "training_data_len = math.ceil(len(dataset)*.8)\n",
    "training_data_len"
   ]
  },
  {
   "cell_type": "code",
   "execution_count": 91,
   "id": "a5e32af5",
   "metadata": {},
   "outputs": [
    {
     "data": {
      "text/plain": [
       "array([[0.17829311],\n",
       "       [0.14949083],\n",
       "       [0.15716774],\n",
       "       ...,\n",
       "       [0.03443738],\n",
       "       [0.04391586],\n",
       "       [0.03811039]])"
      ]
     },
     "execution_count": 91,
     "metadata": {},
     "output_type": "execute_result"
    }
   ],
   "source": [
    "#Scale the data\n",
    "scaler = MinMaxScaler(feature_range=(0,1))\n",
    "scaled_data = scaler.fit_transform(dataset)\n",
    "\n",
    "scaled_data"
   ]
  },
  {
   "cell_type": "code",
   "execution_count": 92,
   "id": "51524980",
   "metadata": {},
   "outputs": [
    {
     "name": "stdout",
     "output_type": "stream",
     "text": [
      "[array([0.17829311, 0.14949083, 0.15716774, 0.18926286, 0.24095255,\n",
      "       0.14824479, 0.11881948, 0.11711478, 0.12628426, 0.1378025 ,\n",
      "       0.16093644, 0.15066233, 0.25456918, 0.18091515, 0.34579966,\n",
      "       0.62610162, 0.19314814, 0.17657885, 0.23093071, 0.23935487,\n",
      "       0.15633259, 0.09951158, 0.16763105, 0.14224965, 0.18785055,\n",
      "       0.25041635, 0.5755261 , 0.40290352, 0.32503549, 0.28625532,\n",
      "       1.        , 0.61670853, 0.33772333, 0.38535765, 0.30188817,\n",
      "       0.35971634, 0.25531834, 0.34576144, 0.38180299, 0.62179972,\n",
      "       0.43837365, 0.26667604, 0.52427405, 0.52503467, 0.51703669,\n",
      "       0.32451758, 0.2579442 , 0.25000164, 0.44355084, 0.94043082,\n",
      "       0.76356749, 0.53544256, 0.58714372, 0.52941875, 0.41159905,\n",
      "       0.39783144, 0.26584089, 0.37863247, 0.38640494, 0.41939254])]\n",
      "[0.3871617341924211]\n",
      "\n",
      "[array([0.17829311, 0.14949083, 0.15716774, 0.18926286, 0.24095255,\n",
      "       0.14824479, 0.11881948, 0.11711478, 0.12628426, 0.1378025 ,\n",
      "       0.16093644, 0.15066233, 0.25456918, 0.18091515, 0.34579966,\n",
      "       0.62610162, 0.19314814, 0.17657885, 0.23093071, 0.23935487,\n",
      "       0.15633259, 0.09951158, 0.16763105, 0.14224965, 0.18785055,\n",
      "       0.25041635, 0.5755261 , 0.40290352, 0.32503549, 0.28625532,\n",
      "       1.        , 0.61670853, 0.33772333, 0.38535765, 0.30188817,\n",
      "       0.35971634, 0.25531834, 0.34576144, 0.38180299, 0.62179972,\n",
      "       0.43837365, 0.26667604, 0.52427405, 0.52503467, 0.51703669,\n",
      "       0.32451758, 0.2579442 , 0.25000164, 0.44355084, 0.94043082,\n",
      "       0.76356749, 0.53544256, 0.58714372, 0.52941875, 0.41159905,\n",
      "       0.39783144, 0.26584089, 0.37863247, 0.38640494, 0.41939254]), array([0.14949083, 0.15716774, 0.18926286, 0.24095255, 0.14824479,\n",
      "       0.11881948, 0.11711478, 0.12628426, 0.1378025 , 0.16093644,\n",
      "       0.15066233, 0.25456918, 0.18091515, 0.34579966, 0.62610162,\n",
      "       0.19314814, 0.17657885, 0.23093071, 0.23935487, 0.15633259,\n",
      "       0.09951158, 0.16763105, 0.14224965, 0.18785055, 0.25041635,\n",
      "       0.5755261 , 0.40290352, 0.32503549, 0.28625532, 1.        ,\n",
      "       0.61670853, 0.33772333, 0.38535765, 0.30188817, 0.35971634,\n",
      "       0.25531834, 0.34576144, 0.38180299, 0.62179972, 0.43837365,\n",
      "       0.26667604, 0.52427405, 0.52503467, 0.51703669, 0.32451758,\n",
      "       0.2579442 , 0.25000164, 0.44355084, 0.94043082, 0.76356749,\n",
      "       0.53544256, 0.58714372, 0.52941875, 0.41159905, 0.39783144,\n",
      "       0.26584089, 0.37863247, 0.38640494, 0.41939254, 0.38716173])]\n",
      "[0.3871617341924211, 0.47097712132794584]\n",
      "\n"
     ]
    }
   ],
   "source": [
    "#creating the training data set\n",
    "#create the scaled training data set\n",
    "train_data = scaled_data[0:training_data_len,:]\n",
    "#split the data into x_train and y_train data sets\n",
    "x_train = []\n",
    "y_train = []\n",
    "for i in range(60, len(train_data)):\n",
    "    x_train.append(train_data[i-60:i,0])\n",
    "    y_train.append(train_data[i,0])\n",
    "    if i<=61:\n",
    "        print(x_train)\n",
    "        print(y_train)\n",
    "        print()"
   ]
  },
  {
   "cell_type": "code",
   "execution_count": 93,
   "id": "145b2978",
   "metadata": {},
   "outputs": [],
   "source": [
    "#Convert the X_train and Y_train to numpy arrays\n",
    "x_train , y_train = np.array(x_train), np.array(y_train)"
   ]
  },
  {
   "cell_type": "code",
   "execution_count": 94,
   "id": "60407981",
   "metadata": {},
   "outputs": [
    {
     "data": {
      "text/plain": [
       "(1992, 60, 1)"
      ]
     },
     "execution_count": 94,
     "metadata": {},
     "output_type": "execute_result"
    }
   ],
   "source": [
    "#Reshape the data\n",
    "x_train = np.reshape(x_train,(x_train.shape[0],x_train.shape[1],1))\n",
    "x_train.shape"
   ]
  },
  {
   "cell_type": "code",
   "execution_count": 95,
   "id": "f5b69cfb",
   "metadata": {},
   "outputs": [],
   "source": [
    "#Building the LSTM model\n",
    "volume_model = Sequential()\n",
    "volume_model.add(LSTM(50, return_sequences=True, input_shape =(x_train.shape[1],1)))\n",
    "volume_model.add(LSTM(50, return_sequences=True))\n",
    "volume_model.add(LSTM(50, return_sequences=True))\n",
    "volume_model.add(LSTM(50, return_sequences=False))\n",
    "volume_model.add(Dense(25))\n",
    "volume_model.add(Dense(1))"
   ]
  },
  {
   "cell_type": "code",
   "execution_count": 96,
   "id": "3f69e705",
   "metadata": {},
   "outputs": [],
   "source": [
    "#compile the Model\n",
    "volume_model.compile(optimizer='adam', loss='mean_squared_error')\n"
   ]
  },
  {
   "cell_type": "code",
   "execution_count": 97,
   "id": "f040989f",
   "metadata": {},
   "outputs": [
    {
     "name": "stdout",
     "output_type": "stream",
     "text": [
      "Epoch 1/100\n",
      "63/63 [==============================] - 11s 86ms/step - loss: 0.0072\n",
      "Epoch 2/100\n",
      "63/63 [==============================] - 10s 156ms/step - loss: 0.0056\n",
      "Epoch 3/100\n",
      "63/63 [==============================] - 10s 153ms/step - loss: 0.0057\n",
      "Epoch 4/100\n",
      "63/63 [==============================] - 10s 152ms/step - loss: 0.0055\n",
      "Epoch 5/100\n",
      "63/63 [==============================] - 10s 152ms/step - loss: 0.0055\n",
      "Epoch 6/100\n",
      "63/63 [==============================] - 10s 153ms/step - loss: 0.0056\n",
      "Epoch 7/100\n",
      "63/63 [==============================] - 10s 153ms/step - loss: 0.0051\n",
      "Epoch 8/100\n",
      "63/63 [==============================] - 10s 153ms/step - loss: 0.0051\n",
      "Epoch 9/100\n",
      "63/63 [==============================] - 10s 153ms/step - loss: 0.0052\n",
      "Epoch 10/100\n",
      "63/63 [==============================] - 10s 152ms/step - loss: 0.0051\n",
      "Epoch 11/100\n",
      "63/63 [==============================] - 10s 152ms/step - loss: 0.0048\n",
      "Epoch 12/100\n",
      "63/63 [==============================] - 10s 153ms/step - loss: 0.0049\n",
      "Epoch 13/100\n",
      "63/63 [==============================] - 10s 151ms/step - loss: 0.0047\n",
      "Epoch 14/100\n",
      "63/63 [==============================] - 10s 153ms/step - loss: 0.0045\n",
      "Epoch 15/100\n",
      "63/63 [==============================] - 10s 153ms/step - loss: 0.0042\n",
      "Epoch 16/100\n",
      "63/63 [==============================] - 10s 153ms/step - loss: 0.0039\n",
      "Epoch 17/100\n",
      "63/63 [==============================] - 10s 154ms/step - loss: 0.0037\n",
      "Epoch 18/100\n",
      "63/63 [==============================] - 10s 163ms/step - loss: 0.0037\n",
      "Epoch 19/100\n",
      "63/63 [==============================] - 10s 164ms/step - loss: 0.0037\n",
      "Epoch 20/100\n",
      "63/63 [==============================] - 11s 173ms/step - loss: 0.0036\n",
      "Epoch 21/100\n",
      "63/63 [==============================] - 11s 179ms/step - loss: 0.0038\n",
      "Epoch 22/100\n",
      "63/63 [==============================] - 12s 193ms/step - loss: 0.0036\n",
      "Epoch 23/100\n",
      "63/63 [==============================] - 12s 191ms/step - loss: 0.0037\n",
      "Epoch 24/100\n",
      "63/63 [==============================] - 11s 179ms/step - loss: 0.0036\n",
      "Epoch 25/100\n",
      "63/63 [==============================] - 11s 175ms/step - loss: 0.0037\n",
      "Epoch 26/100\n",
      "63/63 [==============================] - 11s 171ms/step - loss: 0.0036\n",
      "Epoch 27/100\n",
      "63/63 [==============================] - 11s 173ms/step - loss: 0.0038\n",
      "Epoch 28/100\n",
      "63/63 [==============================] - 11s 176ms/step - loss: 0.0036\n",
      "Epoch 29/100\n",
      "63/63 [==============================] - 11s 182ms/step - loss: 0.0036\n",
      "Epoch 30/100\n",
      "63/63 [==============================] - 11s 179ms/step - loss: 0.0035\n",
      "Epoch 31/100\n",
      "63/63 [==============================] - 11s 179ms/step - loss: 0.0037\n",
      "Epoch 32/100\n",
      "63/63 [==============================] - 12s 190ms/step - loss: 0.0037\n",
      "Epoch 33/100\n",
      "63/63 [==============================] - 12s 196ms/step - loss: 0.0035\n",
      "Epoch 34/100\n",
      "63/63 [==============================] - 12s 183ms/step - loss: 0.0036\n",
      "Epoch 35/100\n",
      "63/63 [==============================] - 11s 173ms/step - loss: 0.0036\n",
      "Epoch 36/100\n",
      "63/63 [==============================] - 11s 170ms/step - loss: 0.0035\n",
      "Epoch 37/100\n",
      "63/63 [==============================] - 11s 172ms/step - loss: 0.0035\n",
      "Epoch 38/100\n",
      "63/63 [==============================] - 10s 165ms/step - loss: 0.0035\n",
      "Epoch 39/100\n",
      "63/63 [==============================] - 11s 170ms/step - loss: 0.0037\n",
      "Epoch 40/100\n",
      "63/63 [==============================] - 11s 181ms/step - loss: 0.0036\n",
      "Epoch 41/100\n",
      "63/63 [==============================] - 11s 180ms/step - loss: 0.0036\n",
      "Epoch 42/100\n",
      "63/63 [==============================] - 11s 172ms/step - loss: 0.0035\n",
      "Epoch 43/100\n",
      "63/63 [==============================] - 11s 174ms/step - loss: 0.0035\n",
      "Epoch 44/100\n",
      "63/63 [==============================] - 11s 168ms/step - loss: 0.0036\n",
      "Epoch 45/100\n",
      "63/63 [==============================] - 10s 166ms/step - loss: 0.0035\n",
      "Epoch 46/100\n",
      "63/63 [==============================] - 10s 165ms/step - loss: 0.0035\n",
      "Epoch 47/100\n",
      "63/63 [==============================] - 11s 170ms/step - loss: 0.0035\n",
      "Epoch 48/100\n",
      "63/63 [==============================] - 11s 168ms/step - loss: 0.0036\n",
      "Epoch 49/100\n",
      "63/63 [==============================] - 11s 171ms/step - loss: 0.0036\n",
      "Epoch 50/100\n",
      "63/63 [==============================] - 11s 173ms/step - loss: 0.0035\n",
      "Epoch 51/100\n",
      "63/63 [==============================] - 12s 185ms/step - loss: 0.0035\n",
      "Epoch 52/100\n",
      "63/63 [==============================] - 11s 181ms/step - loss: 0.0036\n",
      "Epoch 53/100\n",
      "63/63 [==============================] - 12s 185ms/step - loss: 0.0035\n",
      "Epoch 54/100\n",
      "63/63 [==============================] - 10s 166ms/step - loss: 0.0035\n",
      "Epoch 55/100\n",
      "63/63 [==============================] - 10s 161ms/step - loss: 0.0036\n",
      "Epoch 56/100\n",
      "63/63 [==============================] - 10s 152ms/step - loss: 0.0035\n",
      "Epoch 57/100\n",
      "63/63 [==============================] - 10s 160ms/step - loss: 0.0035\n",
      "Epoch 58/100\n",
      "63/63 [==============================] - 10s 161ms/step - loss: 0.0035\n",
      "Epoch 59/100\n",
      "63/63 [==============================] - 10s 153ms/step - loss: 0.0034\n",
      "Epoch 60/100\n",
      "63/63 [==============================] - 10s 160ms/step - loss: 0.0038\n",
      "Epoch 61/100\n",
      "63/63 [==============================] - 10s 159ms/step - loss: 0.0035\n",
      "Epoch 62/100\n",
      "63/63 [==============================] - 10s 154ms/step - loss: 0.0035\n",
      "Epoch 63/100\n",
      "63/63 [==============================] - 11s 173ms/step - loss: 0.0036\n",
      "Epoch 64/100\n",
      "63/63 [==============================] - 11s 172ms/step - loss: 0.0034\n",
      "Epoch 65/100\n",
      "63/63 [==============================] - 10s 164ms/step - loss: 0.0035\n",
      "Epoch 66/100\n",
      "63/63 [==============================] - 10s 156ms/step - loss: 0.0035\n",
      "Epoch 67/100\n",
      "63/63 [==============================] - 10s 155ms/step - loss: 0.0035\n",
      "Epoch 68/100\n",
      "63/63 [==============================] - 10s 155ms/step - loss: 0.0037\n",
      "Epoch 69/100\n",
      "63/63 [==============================] - 10s 157ms/step - loss: 0.0035\n",
      "Epoch 70/100\n",
      "63/63 [==============================] - 10s 158ms/step - loss: 0.0035\n",
      "Epoch 71/100\n",
      "63/63 [==============================] - 10s 155ms/step - loss: 0.0035\n",
      "Epoch 72/100\n",
      "63/63 [==============================] - 11s 169ms/step - loss: 0.0036\n",
      "Epoch 73/100\n",
      "63/63 [==============================] - 11s 171ms/step - loss: 0.0036\n",
      "Epoch 74/100\n",
      "63/63 [==============================] - 10s 164ms/step - loss: 0.0035\n",
      "Epoch 75/100\n",
      "63/63 [==============================] - 10s 159ms/step - loss: 0.0034\n",
      "Epoch 76/100\n",
      "63/63 [==============================] - 10s 163ms/step - loss: 0.0034\n",
      "Epoch 77/100\n",
      "63/63 [==============================] - 10s 157ms/step - loss: 0.0035\n",
      "Epoch 78/100\n",
      "63/63 [==============================] - 10s 156ms/step - loss: 0.0034\n",
      "Epoch 79/100\n",
      "63/63 [==============================] - 10s 164ms/step - loss: 0.0034\n",
      "Epoch 80/100\n",
      "63/63 [==============================] - 11s 180ms/step - loss: 0.0035\n",
      "Epoch 81/100\n",
      "63/63 [==============================] - 11s 179ms/step - loss: 0.0036\n",
      "Epoch 82/100\n",
      "63/63 [==============================] - 11s 172ms/step - loss: 0.0035\n",
      "Epoch 83/100\n",
      "63/63 [==============================] - 11s 167ms/step - loss: 0.0036\n",
      "Epoch 84/100\n",
      "63/63 [==============================] - 11s 167ms/step - loss: 0.0035\n",
      "Epoch 85/100\n",
      "63/63 [==============================] - 10s 166ms/step - loss: 0.0035\n",
      "Epoch 86/100\n",
      "63/63 [==============================] - 11s 171ms/step - loss: 0.0035\n",
      "Epoch 87/100\n",
      "63/63 [==============================] - 11s 176ms/step - loss: 0.0035\n",
      "Epoch 88/100\n",
      "63/63 [==============================] - 11s 171ms/step - loss: 0.0034\n",
      "Epoch 89/100\n",
      "63/63 [==============================] - 11s 167ms/step - loss: 0.0035\n",
      "Epoch 90/100\n",
      "63/63 [==============================] - 10s 155ms/step - loss: 0.0034\n",
      "Epoch 91/100\n",
      "63/63 [==============================] - 10s 154ms/step - loss: 0.0034\n",
      "Epoch 92/100\n",
      "63/63 [==============================] - 10s 157ms/step - loss: 0.0034\n",
      "Epoch 93/100\n",
      "63/63 [==============================] - 10s 156ms/step - loss: 0.0035\n",
      "Epoch 94/100\n",
      "63/63 [==============================] - 10s 161ms/step - loss: 0.0034\n",
      "Epoch 95/100\n",
      "63/63 [==============================] - 10s 161ms/step - loss: 0.0035\n",
      "Epoch 96/100\n",
      "63/63 [==============================] - 10s 162ms/step - loss: 0.0034\n",
      "Epoch 97/100\n",
      "63/63 [==============================] - 10s 159ms/step - loss: 0.0034\n",
      "Epoch 98/100\n",
      "63/63 [==============================] - 10s 161ms/step - loss: 0.0034\n",
      "Epoch 99/100\n",
      "63/63 [==============================] - 10s 162ms/step - loss: 0.0034\n",
      "Epoch 100/100\n",
      "63/63 [==============================] - 10s 157ms/step - loss: 0.0037\n"
     ]
    },
    {
     "data": {
      "text/plain": [
       "<keras.callbacks.History at 0x229344106c8>"
      ]
     },
     "execution_count": 97,
     "metadata": {},
     "output_type": "execute_result"
    }
   ],
   "source": [
    "#train the model\n",
    "volume_model.fit(x_train, y_train, batch_size=32, epochs=EPOCHS)"
   ]
  },
  {
   "cell_type": "code",
   "execution_count": 98,
   "id": "2c268ec8",
   "metadata": {},
   "outputs": [],
   "source": [
    "#create the testing data set\n",
    "#create a new array containing scaled values from index 1543 to 2003\n",
    "test_data = scaled_data[training_data_len - 60: , :]\n",
    "#create the data sets x_test adn y_test\n",
    "x_test = []\n",
    "y_test = dataset[training_data_len:,:]\n",
    "for i in range(60, len(test_data)):\n",
    "    x_test.append(test_data[i-60:i,0])\n",
    "    \n",
    "    \n"
   ]
  },
  {
   "cell_type": "code",
   "execution_count": 99,
   "id": "c030680c",
   "metadata": {},
   "outputs": [],
   "source": [
    "#convert the data to a numpy array\n",
    "x_test = np.array(x_test)"
   ]
  },
  {
   "cell_type": "code",
   "execution_count": 100,
   "id": "2af3f595",
   "metadata": {},
   "outputs": [],
   "source": [
    "#resahpe the data\n",
    "x_test = np.reshape(x_test,(x_test.shape[0],x_test.shape[1],1))"
   ]
  },
  {
   "cell_type": "code",
   "execution_count": 101,
   "id": "cc5d41b3",
   "metadata": {},
   "outputs": [],
   "source": [
    "#get the models predicted price values\n",
    "predictions = volume_model.predict(x_test)\n",
    "predictions = scaler.inverse_transform(predictions)"
   ]
  },
  {
   "cell_type": "code",
   "execution_count": 102,
   "id": "db5003cd",
   "metadata": {},
   "outputs": [
    {
     "data": {
      "text/plain": [
       "1317444.678362573"
      ]
     },
     "execution_count": 102,
     "metadata": {},
     "output_type": "execute_result"
    }
   ],
   "source": [
    "#get the root mean squared error (RMSE)\n",
    "rmse =  np.sqrt(np.mean(predictions - y_test)**2)\n",
    "rmse"
   ]
  },
  {
   "cell_type": "code",
   "execution_count": 103,
   "id": "cb47ea60",
   "metadata": {},
   "outputs": [
    {
     "name": "stderr",
     "output_type": "stream",
     "text": [
      "C:\\Users\\Abhishek Rao\\AppData\\Local\\Packages\\PythonSoftwareFoundation.Python.3.7_qbz5n2kfra8p0\\LocalCache\\local-packages\\Python37\\site-packages\\ipykernel_launcher.py:4: SettingWithCopyWarning: \n",
      "A value is trying to be set on a copy of a slice from a DataFrame.\n",
      "Try using .loc[row_indexer,col_indexer] = value instead\n",
      "\n",
      "See the caveats in the documentation: https://pandas.pydata.org/pandas-docs/stable/user_guide/indexing.html#returning-a-view-versus-a-copy\n",
      "  after removing the cwd from sys.path.\n"
     ]
    },
    {
     "data": {
      "image/png": "[encoded data removed]",
      "text/plain": [
       "<Figure size 1152x576 with 1 Axes>"
      ]
     },
     "metadata": {},
     "output_type": "display_data"
    }
   ],
   "source": [
    "#plot the date\n",
    "train = data[:training_data_len]\n",
    "valid = data[training_data_len:]\n",
    "valid['Predictions'] = predictions\n",
    "#visualize the data\n",
    "plt.figure(figsize=(16,8))\n",
    "plt.title('Model')\n",
    "plt.xlabel('Date')\n",
    "plt.ylabel('Volume Count')\n",
    "plt.plot(train['Volume'])\n",
    "plt.plot(valid[['Volume', 'Predictions']])\n",
    "plt.legend(['Train', 'Val', 'Predictions'], loc='lower right')\n",
    "plt.show()"
   ]
  },
  {
   "cell_type": "code",
   "execution_count": 104,
   "id": "f94b16a5",
   "metadata": {},
   "outputs": [
    {
     "data": {
      "text/html": [
       "<div>\n",
       "<style scoped>\n",
       "    .dataframe tbody tr th:only-of-type {\n",
       "        vertical-align: middle;\n",
       "    }\n",
       "\n",
       "    .dataframe tbody tr th {\n",
       "        vertical-align: top;\n",
       "    }\n",
       "\n",
       "    .dataframe thead th {\n",
       "        text-align: right;\n",
       "    }\n",
       "</style>\n",
       "<table border=\"1\" class=\"dataframe\">\n",
       "  <thead>\n",
       "    <tr style=\"text-align: right;\">\n",
       "      <th></th>\n",
       "      <th>Volume</th>\n",
       "      <th>Predictions</th>\n",
       "    </tr>\n",
       "    <tr>\n",
       "      <th>Date</th>\n",
       "      <th></th>\n",
       "      <th></th>\n",
       "    </tr>\n",
       "  </thead>\n",
       "  <tbody>\n",
       "    <tr>\n",
       "      <th>2020-03-02</th>\n",
       "      <td>341397200.0</td>\n",
       "      <td>276033920.0</td>\n",
       "    </tr>\n",
       "    <tr>\n",
       "      <th>2020-03-03</th>\n",
       "      <td>319475600.0</td>\n",
       "      <td>255271824.0</td>\n",
       "    </tr>\n",
       "    <tr>\n",
       "      <th>2020-03-04</th>\n",
       "      <td>219178400.0</td>\n",
       "      <td>247419264.0</td>\n",
       "    </tr>\n",
       "    <tr>\n",
       "      <th>2020-03-05</th>\n",
       "      <td>187572800.0</td>\n",
       "      <td>211949936.0</td>\n",
       "    </tr>\n",
       "    <tr>\n",
       "      <th>2020-03-06</th>\n",
       "      <td>226176800.0</td>\n",
       "      <td>191378688.0</td>\n",
       "    </tr>\n",
       "    <tr>\n",
       "      <th>...</th>\n",
       "      <td>...</td>\n",
       "      <td>...</td>\n",
       "    </tr>\n",
       "    <tr>\n",
       "      <th>2022-03-07</th>\n",
       "      <td>96418800.0</td>\n",
       "      <td>90984272.0</td>\n",
       "    </tr>\n",
       "    <tr>\n",
       "      <th>2022-03-08</th>\n",
       "      <td>131148300.0</td>\n",
       "      <td>95914008.0</td>\n",
       "    </tr>\n",
       "    <tr>\n",
       "      <th>2022-03-09</th>\n",
       "      <td>91454900.0</td>\n",
       "      <td>112205320.0</td>\n",
       "    </tr>\n",
       "    <tr>\n",
       "      <th>2022-03-10</th>\n",
       "      <td>105342000.0</td>\n",
       "      <td>96118640.0</td>\n",
       "    </tr>\n",
       "    <tr>\n",
       "      <th>2022-03-11</th>\n",
       "      <td>96836300.0</td>\n",
       "      <td>103028904.0</td>\n",
       "    </tr>\n",
       "  </tbody>\n",
       "</table>\n",
       "<p>513 rows × 2 columns</p>\n",
       "</div>"
      ],
      "text/plain": [
       "                 Volume  Predictions\n",
       "Date                                \n",
       "2020-03-02  341397200.0  276033920.0\n",
       "2020-03-03  319475600.0  255271824.0\n",
       "2020-03-04  219178400.0  247419264.0\n",
       "2020-03-05  187572800.0  211949936.0\n",
       "2020-03-06  226176800.0  191378688.0\n",
       "...                 ...          ...\n",
       "2022-03-07   96418800.0   90984272.0\n",
       "2022-03-08  131148300.0   95914008.0\n",
       "2022-03-09   91454900.0  112205320.0\n",
       "2022-03-10  105342000.0   96118640.0\n",
       "2022-03-11   96836300.0  103028904.0\n",
       "\n",
       "[513 rows x 2 columns]"
      ]
     },
     "execution_count": 104,
     "metadata": {},
     "output_type": "execute_result"
    }
   ],
   "source": [
    "#show the valid and predicted prices\n",
    "valid"
   ]
  },
  {
   "cell_type": "code",
   "execution_count": 105,
   "id": "00279864",
   "metadata": {},
   "outputs": [
    {
     "name": "stdout",
     "output_type": "stream",
     "text": [
      "[[91203408.]]\n"
     ]
    }
   ],
   "source": [
    "#get the Quote\n",
    "stock_quote = web.DataReader(STOCK, data_source = 'yahoo', start=START_DATE, end=END_DATE)\n",
    "#create new data frame\n",
    "new_df = stock_quote.filter(['Volume'])\n",
    "#get the last 60 days closing price values and convert the dataframe to an array\n",
    "last_60_days = new_df[-60:].values\n",
    "#scale the data to be values between 0 and 1\n",
    "last_60_days_scaled = scaler.fit_transform(last_60_days)\n",
    "#create the empty list\n",
    "x_test = []\n",
    "#append the past 60 days\n",
    "x_test.append(last_60_days_scaled)\n",
    "#convert the x_test data set to a numpy array\n",
    "x_test = np.array(x_test)\n",
    "x_test = np.reshape(x_test,(x_test.shape[0],x_test.shape[1],1))\n",
    "#get the predicted scaled price\n",
    "volume_pred_price = volume_model.predict(x_test)\n",
    "#undo the scaling\n",
    "volume_pred_price = scaler.inverse_transform(volume_pred_price)\n",
    "print(volume_pred_price)\n"
   ]
  },
  {
   "cell_type": "code",
   "execution_count": 106,
   "id": "2ea88ce3",
   "metadata": {},
   "outputs": [
    {
     "name": "stdout",
     "output_type": "stream",
     "text": [
      "Date\n",
      "2012-01-03    302220800.0\n",
      "2012-01-04    260022000.0\n",
      "2012-01-05    271269600.0\n",
      "2012-01-06    318292800.0\n",
      "2012-01-09    394024400.0\n",
      "                 ...     \n",
      "2022-03-07     96418800.0\n",
      "2022-03-08    131148300.0\n",
      "2022-03-09     91454900.0\n",
      "2022-03-10    105342000.0\n",
      "2022-03-11     96836300.0\n",
      "Name: Volume, Length: 2565, dtype: float64\n"
     ]
    }
   ],
   "source": [
    "stock_quote2 = web.DataReader(STOCK, data_source = 'yahoo', start=START_DATE, end=PREDICT_DATE)\n",
    "print(stock_quote2['Volume'])"
   ]
  },
  {
   "cell_type": "code",
   "execution_count": 107,
   "id": "81fce5ab",
   "metadata": {},
   "outputs": [],
   "source": [
    "volume_model.save(volume_model_path)\n",
    "loaded_volume_model = load_model(volume_model_path)\n"
   ]
  },
  {
   "cell_type": "code",
   "execution_count": 108,
   "id": "cf3eb296",
   "metadata": {},
   "outputs": [
    {
     "name": "stdout",
     "output_type": "stream",
     "text": [
      "Date\n",
      "2012-01-03    302220800.0\n",
      "2012-01-04    260022000.0\n",
      "2012-01-05    271269600.0\n",
      "2012-01-06    318292800.0\n",
      "2012-01-09    394024400.0\n",
      "                 ...     \n",
      "2022-03-07     96418800.0\n",
      "2022-03-08    131148300.0\n",
      "2022-03-09     91454900.0\n",
      "2022-03-10    105342000.0\n",
      "2022-03-11     96836300.0\n",
      "Name: Volume, Length: 2565, dtype: float64\n"
     ]
    }
   ],
   "source": [
    "stock_quote2 = web.DataReader(STOCK, data_source = 'yahoo', start=START_DATE, end=PREDICT_DATE)\n",
    "print(stock_quote2['Volume'])"
   ]
  },
  {
   "cell_type": "code",
   "execution_count": 5,
   "id": "fe8fd121",
   "metadata": {},
   "outputs": [],
   "source": [
    "if(SOUND==1):\n",
    "    import winsound\n",
    "    frequency = 2500  # Set Frequency To 2500 Hertz\n",
    "    duration = 500 # Set Duration To 1000 ms == 1 second\n",
    "    winsound.Beep(2000, 300)\n",
    "    winsound.Beep(frequency, duration)\n",
    "    winsound.Beep(2000, 300)\n",
    "    winsound.Beep(frequency, duration)\n"
   ]
  },
  {
   "cell_type": "code",
   "execution_count": 3,
   "id": "de8a4c23",
   "metadata": {},
   "outputs": [
    {
     "name": "stdout",
     "output_type": "stream",
     "text": [
      "Time taken is :0.06907685995101928\n"
     ]
    }
   ],
   "source": [
    "exe_time = time.time() - start_time\n",
    "print(\"Time taken is :\", end=\"\")\n",
    "print(exe_time/60)"
   ]
  },
  {
   "cell_type": "code",
   "execution_count": null,
   "id": "e7626ebc",
   "metadata": {},
   "outputs": [],
   "source": []
  }
 ],
 "metadata": {
  "colab": {
   "name": "apple stock forecast-checkpoint.ipynb",
   "provenance": []
  },
  "kernelspec": {
   "display_name": "Python 3 (ipykernel)",
   "language": "python",
   "name": "python3"
  },
  "language_info": {
   "codemirror_mode": {
    "name": "ipython",
    "version": 3
   },
   "file_extension": ".py",
   "mimetype": "text/x-python",
   "name": "python",
   "nbconvert_exporter": "python",
   "pygments_lexer": "ipython3",
   "version": "3.7.9"
  }
 },
 "nbformat": 4,
 "nbformat_minor": 5
}
