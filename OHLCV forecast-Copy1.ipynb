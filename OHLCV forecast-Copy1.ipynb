{
 "cells": [
  {
   "cell_type": "code",
   "execution_count": 1,
   "id": "119ef146",
   "metadata": {
    "id": "119ef146"
   },
   "outputs": [],
   "source": [
    "#import the libraries\n",
    "import math\n",
    "import pandas_datareader as web\n",
    "import numpy as np\n",
    "from sklearn.preprocessing import MinMaxScaler\n",
    "from keras.models import Sequential\n",
    "from keras.layers import Dense, LSTM\n",
    "from keras.models import load_model\n",
    "import matplotlib.pyplot as plt\n",
    "plt.style.use('fivethirtyeight')\n",
    "import pickle\n",
    "import pandas as pd\n",
    "import time\n",
    "\n",
    "start_time = time.time()\n"
   ]
  },
  {
   "cell_type": "code",
   "execution_count": 2,
   "id": "3c6186b8",
   "metadata": {},
   "outputs": [],
   "source": [
    "#MACRO DEF\n",
    "\n",
    "STOCK = 'NECCLTD.BO'\n",
    "EPOCHS = 100\n",
    "open_model_path = \"machine learning model/\"+STOCK+\"_open_model.h5\"\n",
    "high_model_path = \"machine learning model/\"+STOCK+\"_high_model.h5\"\n",
    "low_model_path = \"machine learning model/\"+STOCK+\"_low_model.h5\"\n",
    "close_model_path = \"machine learning model/\"+STOCK+\"_close_model.h5\"\n",
    "volume_model_path = \"machine learning model/\"+STOCK+\"_volume_model.h5\"\n",
    "error_model_path = \"machine learning model/\"+STOCK+\"_error_model.h5\"\n",
    "error_data = \"machine learning model/\"+STOCK+\"_error_data.csv\"\n",
    "START_DATE = '2012-01-01'\n",
    "END_DATE = '2022-03-11'\n",
    "PREDICT_DATE = '2022-03-11'\n",
    "ERR_EPOCHS = 120"
   ]
  },
  {
   "cell_type": "code",
   "execution_count": 3,
   "id": "0baa4ed2",
   "metadata": {
    "id": "0baa4ed2",
    "outputId": "9b884812-40a4-4562-f722-55f12356c439"
   },
   "outputs": [
    {
     "data": {
      "text/html": [
       "<div>\n",
       "<style scoped>\n",
       "    .dataframe tbody tr th:only-of-type {\n",
       "        vertical-align: middle;\n",
       "    }\n",
       "\n",
       "    .dataframe tbody tr th {\n",
       "        vertical-align: top;\n",
       "    }\n",
       "\n",
       "    .dataframe thead th {\n",
       "        text-align: right;\n",
       "    }\n",
       "</style>\n",
       "<table border=\"1\" class=\"dataframe\">\n",
       "  <thead>\n",
       "    <tr style=\"text-align: right;\">\n",
       "      <th></th>\n",
       "      <th>High</th>\n",
       "      <th>Low</th>\n",
       "      <th>Open</th>\n",
       "      <th>Close</th>\n",
       "      <th>Volume</th>\n",
       "      <th>Adj Close</th>\n",
       "    </tr>\n",
       "    <tr>\n",
       "      <th>Date</th>\n",
       "      <th></th>\n",
       "      <th></th>\n",
       "      <th></th>\n",
       "      <th></th>\n",
       "      <th></th>\n",
       "      <th></th>\n",
       "    </tr>\n",
       "  </thead>\n",
       "  <tbody>\n",
       "    <tr>\n",
       "      <th>2012-08-10</th>\n",
       "      <td>14.500000</td>\n",
       "      <td>13.812500</td>\n",
       "      <td>13.812500</td>\n",
       "      <td>14.500000</td>\n",
       "      <td>17484.0</td>\n",
       "      <td>14.500000</td>\n",
       "    </tr>\n",
       "    <tr>\n",
       "      <th>2012-08-13</th>\n",
       "      <td>15.225000</td>\n",
       "      <td>15.225000</td>\n",
       "      <td>15.225000</td>\n",
       "      <td>15.225000</td>\n",
       "      <td>17148.0</td>\n",
       "      <td>15.225000</td>\n",
       "    </tr>\n",
       "    <tr>\n",
       "      <th>2012-08-14</th>\n",
       "      <td>15.975000</td>\n",
       "      <td>15.975000</td>\n",
       "      <td>15.975000</td>\n",
       "      <td>15.975000</td>\n",
       "      <td>8088.0</td>\n",
       "      <td>15.975000</td>\n",
       "    </tr>\n",
       "    <tr>\n",
       "      <th>2012-08-16</th>\n",
       "      <td>16.762501</td>\n",
       "      <td>16.762501</td>\n",
       "      <td>16.762501</td>\n",
       "      <td>16.762501</td>\n",
       "      <td>31348.0</td>\n",
       "      <td>16.762501</td>\n",
       "    </tr>\n",
       "    <tr>\n",
       "      <th>2012-08-17</th>\n",
       "      <td>17.600000</td>\n",
       "      <td>17.600000</td>\n",
       "      <td>17.600000</td>\n",
       "      <td>17.600000</td>\n",
       "      <td>29488.0</td>\n",
       "      <td>17.600000</td>\n",
       "    </tr>\n",
       "    <tr>\n",
       "      <th>...</th>\n",
       "      <td>...</td>\n",
       "      <td>...</td>\n",
       "      <td>...</td>\n",
       "      <td>...</td>\n",
       "      <td>...</td>\n",
       "      <td>...</td>\n",
       "    </tr>\n",
       "    <tr>\n",
       "      <th>2022-03-07</th>\n",
       "      <td>19.400000</td>\n",
       "      <td>18.350000</td>\n",
       "      <td>19.400000</td>\n",
       "      <td>18.900000</td>\n",
       "      <td>11649.0</td>\n",
       "      <td>18.900000</td>\n",
       "    </tr>\n",
       "    <tr>\n",
       "      <th>2022-03-08</th>\n",
       "      <td>19.500000</td>\n",
       "      <td>18.650000</td>\n",
       "      <td>18.650000</td>\n",
       "      <td>18.799999</td>\n",
       "      <td>5650.0</td>\n",
       "      <td>18.799999</td>\n",
       "    </tr>\n",
       "    <tr>\n",
       "      <th>2022-03-09</th>\n",
       "      <td>19.450001</td>\n",
       "      <td>18.700001</td>\n",
       "      <td>19.049999</td>\n",
       "      <td>19.200001</td>\n",
       "      <td>10121.0</td>\n",
       "      <td>19.200001</td>\n",
       "    </tr>\n",
       "    <tr>\n",
       "      <th>2022-03-10</th>\n",
       "      <td>20.500000</td>\n",
       "      <td>19.500000</td>\n",
       "      <td>19.600000</td>\n",
       "      <td>19.750000</td>\n",
       "      <td>71223.0</td>\n",
       "      <td>19.750000</td>\n",
       "    </tr>\n",
       "    <tr>\n",
       "      <th>2022-03-11</th>\n",
       "      <td>20.350000</td>\n",
       "      <td>19.600000</td>\n",
       "      <td>20.049999</td>\n",
       "      <td>19.850000</td>\n",
       "      <td>7128.0</td>\n",
       "      <td>19.850000</td>\n",
       "    </tr>\n",
       "  </tbody>\n",
       "</table>\n",
       "<p>2360 rows × 6 columns</p>\n",
       "</div>"
      ],
      "text/plain": [
       "                 High        Low       Open      Close   Volume  Adj Close\n",
       "Date                                                                      \n",
       "2012-08-10  14.500000  13.812500  13.812500  14.500000  17484.0  14.500000\n",
       "2012-08-13  15.225000  15.225000  15.225000  15.225000  17148.0  15.225000\n",
       "2012-08-14  15.975000  15.975000  15.975000  15.975000   8088.0  15.975000\n",
       "2012-08-16  16.762501  16.762501  16.762501  16.762501  31348.0  16.762501\n",
       "2012-08-17  17.600000  17.600000  17.600000  17.600000  29488.0  17.600000\n",
       "...               ...        ...        ...        ...      ...        ...\n",
       "2022-03-07  19.400000  18.350000  19.400000  18.900000  11649.0  18.900000\n",
       "2022-03-08  19.500000  18.650000  18.650000  18.799999   5650.0  18.799999\n",
       "2022-03-09  19.450001  18.700001  19.049999  19.200001  10121.0  19.200001\n",
       "2022-03-10  20.500000  19.500000  19.600000  19.750000  71223.0  19.750000\n",
       "2022-03-11  20.350000  19.600000  20.049999  19.850000   7128.0  19.850000\n",
       "\n",
       "[2360 rows x 6 columns]"
      ]
     },
     "execution_count": 3,
     "metadata": {},
     "output_type": "execute_result"
    }
   ],
   "source": [
    "#get the stock data\n",
    "df = web.DataReader(STOCK, data_source='yahoo' , start=START_DATE , end=END_DATE)\n",
    "\n",
    "#show the data\n",
    "df\n"
   ]
  },
  {
   "cell_type": "code",
   "execution_count": 4,
   "id": "8728e389",
   "metadata": {
    "id": "8728e389",
    "outputId": "e7a718db-fa12-4da6-edda-fb36457372bd"
   },
   "outputs": [
    {
     "data": {
      "text/plain": [
       "(2360, 6)"
      ]
     },
     "execution_count": 4,
     "metadata": {},
     "output_type": "execute_result"
    }
   ],
   "source": [
    "#get the number of rows and column in the data set\n",
    "df.shape"
   ]
  },
  {
   "cell_type": "code",
   "execution_count": 5,
   "id": "ede5a4f5",
   "metadata": {
    "id": "ede5a4f5",
    "outputId": "0b002ebf-5dfe-41fe-d4d0-3f53cbffafc7"
   },
   "outputs": [
    {
     "data": {
      "image/png": "[encoded data removed]",
      "text/plain": [
       "<Figure size 1152x576 with 1 Axes>"
      ]
     },
     "metadata": {},
     "output_type": "display_data"
    }
   ],
   "source": [
    "#Visualing the closing price history\n",
    "plt.figure(figsize=(16,8))\n",
    "plt.title('Close Price History')\n",
    "plt.plot(df['Close'])\n",
    "plt.xlabel('Date', fontsize=18)\n",
    "plt.ylabel('Closing Price USD($)', fontsize=18)\n",
    "plt.show()"
   ]
  },
  {
   "cell_type": "code",
   "execution_count": 6,
   "id": "860e4005",
   "metadata": {
    "id": "860e4005",
    "outputId": "3f34f0f3-065f-4c1b-c72a-8c1d7f2ed887"
   },
   "outputs": [
    {
     "data": {
      "text/plain": [
       "1888"
      ]
     },
     "execution_count": 6,
     "metadata": {},
     "output_type": "execute_result"
    }
   ],
   "source": [
    "#Create a new data\n",
    "data = df.filter(['Close'])\n",
    "#convert the dataframe to a numpy array\n",
    "dataset = data.values\n",
    "#get the number of rows to train the model on\n",
    "training_data_len = math.ceil(len(dataset)*.8)\n",
    "training_data_len"
   ]
  },
  {
   "cell_type": "code",
   "execution_count": 7,
   "id": "83ae7dd3",
   "metadata": {
    "id": "83ae7dd3",
    "outputId": "b2b3173d-5c6a-495e-a268-4051931aa6ac"
   },
   "outputs": [
    {
     "data": {
      "text/plain": [
       "array([[0.11009174],\n",
       "       [0.11709319],\n",
       "       [0.12433607],\n",
       "       ...,\n",
       "       [0.15548045],\n",
       "       [0.16079189],\n",
       "       [0.16175761]])"
      ]
     },
     "execution_count": 7,
     "metadata": {},
     "output_type": "execute_result"
    }
   ],
   "source": [
    "#Scale the data\n",
    "scaler = MinMaxScaler(feature_range=(0,1))\n",
    "scaled_data = scaler.fit_transform(dataset)\n",
    "\n",
    "scaled_data"
   ]
  },
  {
   "cell_type": "code",
   "execution_count": 8,
   "id": "22de3219",
   "metadata": {
    "id": "22de3219",
    "outputId": "b1fd5125-11fa-43c5-86bf-d71a87b0857a"
   },
   "outputs": [
    {
     "name": "stdout",
     "output_type": "stream",
     "text": [
      "[array([0.11009174, 0.11709319, 0.12433607, 0.1319411 , 0.14002897,\n",
      "       0.148479  , 0.15729117, 0.16658619, 0.17636407, 0.18662481,\n",
      "       0.20823274, 0.22561564, 0.25108643, 0.26424432, 0.2788508 ,\n",
      "       0.27933367, 0.26545147, 0.26617576, 0.28090294, 0.31265087,\n",
      "       0.31530661, 0.31156445, 0.31047803, 0.30975373, 0.30902944,\n",
      "       0.3167552 , 0.31711733, 0.33437951, 0.3524867 , 0.37155964,\n",
      "       0.39159827, 0.41260261, 0.41224044, 0.41091261, 0.41682762,\n",
      "       0.43915983, 0.46257846, 0.48720424, 0.47006278, 0.45352486,\n",
      "       0.47766779, 0.46100918, 0.46982134, 0.46837275, 0.46499275,\n",
      "       0.4809271 , 0.46390633, 0.46595845, 0.48225493, 0.48177208,\n",
      "       0.47006278, 0.47464992, 0.47778851, 0.47790923, 0.47706421,\n",
      "       0.50241429, 0.52269433, 0.51690004, 0.52366007, 0.51738289])]\n",
      "[0.5107435876811859]\n",
      "\n",
      "[array([0.11009174, 0.11709319, 0.12433607, 0.1319411 , 0.14002897,\n",
      "       0.148479  , 0.15729117, 0.16658619, 0.17636407, 0.18662481,\n",
      "       0.20823274, 0.22561564, 0.25108643, 0.26424432, 0.2788508 ,\n",
      "       0.27933367, 0.26545147, 0.26617576, 0.28090294, 0.31265087,\n",
      "       0.31530661, 0.31156445, 0.31047803, 0.30975373, 0.30902944,\n",
      "       0.3167552 , 0.31711733, 0.33437951, 0.3524867 , 0.37155964,\n",
      "       0.39159827, 0.41260261, 0.41224044, 0.41091261, 0.41682762,\n",
      "       0.43915983, 0.46257846, 0.48720424, 0.47006278, 0.45352486,\n",
      "       0.47766779, 0.46100918, 0.46982134, 0.46837275, 0.46499275,\n",
      "       0.4809271 , 0.46390633, 0.46595845, 0.48225493, 0.48177208,\n",
      "       0.47006278, 0.47464992, 0.47778851, 0.47790923, 0.47706421,\n",
      "       0.50241429, 0.52269433, 0.51690004, 0.52366007, 0.51738289]), array([0.11709319, 0.12433607, 0.1319411 , 0.14002897, 0.148479  ,\n",
      "       0.15729117, 0.16658619, 0.17636407, 0.18662481, 0.20823274,\n",
      "       0.22561564, 0.25108643, 0.26424432, 0.2788508 , 0.27933367,\n",
      "       0.26545147, 0.26617576, 0.28090294, 0.31265087, 0.31530661,\n",
      "       0.31156445, 0.31047803, 0.30975373, 0.30902944, 0.3167552 ,\n",
      "       0.31711733, 0.33437951, 0.3524867 , 0.37155964, 0.39159827,\n",
      "       0.41260261, 0.41224044, 0.41091261, 0.41682762, 0.43915983,\n",
      "       0.46257846, 0.48720424, 0.47006278, 0.45352486, 0.47766779,\n",
      "       0.46100918, 0.46982134, 0.46837275, 0.46499275, 0.4809271 ,\n",
      "       0.46390633, 0.46595845, 0.48225493, 0.48177208, 0.47006278,\n",
      "       0.47464992, 0.47778851, 0.47790923, 0.47706421, 0.50241429,\n",
      "       0.52269433, 0.51690004, 0.52366007, 0.51738289, 0.51074359])]\n",
      "[0.5107435876811859, 0.5432158154399023]\n",
      "\n"
     ]
    }
   ],
   "source": [
    "#creating the training data set\n",
    "#create the scaled training data set\n",
    "train_data = scaled_data[0:training_data_len,:]\n",
    "#split the data into x_train and y_train data sets\n",
    "x_train = []\n",
    "y_train = []\n",
    "for i in range(60, len(train_data)):\n",
    "    x_train.append(train_data[i-60:i,0])\n",
    "    y_train.append(train_data[i,0])\n",
    "    if i<=61:\n",
    "        print(x_train)\n",
    "        print(y_train)\n",
    "        print()"
   ]
  },
  {
   "cell_type": "code",
   "execution_count": 9,
   "id": "d58092dc",
   "metadata": {
    "id": "d58092dc"
   },
   "outputs": [],
   "source": [
    "#Convert the X_train and Y_train to numpy arrays\n",
    "x_train , y_train = np.array(x_train), np.array(y_train)"
   ]
  },
  {
   "cell_type": "code",
   "execution_count": 10,
   "id": "de162dec",
   "metadata": {
    "id": "de162dec",
    "outputId": "14201c32-f5ea-4645-ae7d-57a36706f4c6"
   },
   "outputs": [
    {
     "data": {
      "text/plain": [
       "(1828, 60, 1)"
      ]
     },
     "execution_count": 10,
     "metadata": {},
     "output_type": "execute_result"
    }
   ],
   "source": [
    "#Reshape the data\n",
    "x_train = np.reshape(x_train,(x_train.shape[0],x_train.shape[1],1))\n",
    "x_train.shape"
   ]
  },
  {
   "cell_type": "code",
   "execution_count": 11,
   "id": "eefcb209",
   "metadata": {
    "id": "eefcb209"
   },
   "outputs": [],
   "source": [
    "#Building the LSTM model\n",
    "close_model = Sequential()\n",
    "close_model.add(LSTM(50, return_sequences=True, input_shape =(x_train.shape[1],1)))\n",
    "close_model.add(LSTM(50, return_sequences=True))\n",
    "close_model.add(LSTM(50, return_sequences=True))\n",
    "close_model.add(LSTM(50, return_sequences=False))\n",
    "close_model.add(Dense(25))\n",
    "close_model.add(Dense(1))"
   ]
  },
  {
   "cell_type": "code",
   "execution_count": 12,
   "id": "eeab6098",
   "metadata": {
    "id": "eeab6098"
   },
   "outputs": [],
   "source": [
    "#compile the Model\n",
    "close_model.compile(optimizer='adam', loss='mean_squared_error')\n"
   ]
  },
  {
   "cell_type": "code",
   "execution_count": 13,
   "id": "8729081e",
   "metadata": {
    "id": "8729081e",
    "outputId": "95c61fc5-cbb8-42a5-a649-7ee43b055955"
   },
   "outputs": [
    {
     "name": "stdout",
     "output_type": "stream",
     "text": [
      "Epoch 1/100\n",
      "58/58 [==============================] - 13s 124ms/step - loss: 0.0186\n",
      "Epoch 2/100\n",
      "58/58 [==============================] - 9s 156ms/step - loss: 0.0032\n",
      "Epoch 3/100\n",
      "58/58 [==============================] - 9s 156ms/step - loss: 0.0029\n",
      "Epoch 4/100\n",
      "58/58 [==============================] - 9s 154ms/step - loss: 0.0034\n",
      "Epoch 5/100\n",
      "58/58 [==============================] - 9s 155ms/step - loss: 0.0027\n",
      "Epoch 6/100\n",
      "58/58 [==============================] - 9s 158ms/step - loss: 0.0023\n",
      "Epoch 7/100\n",
      "58/58 [==============================] - 9s 157ms/step - loss: 0.0021\n",
      "Epoch 8/100\n",
      "58/58 [==============================] - 9s 157ms/step - loss: 0.0016\n",
      "Epoch 9/100\n",
      "58/58 [==============================] - 9s 156ms/step - loss: 0.0015\n",
      "Epoch 10/100\n",
      "58/58 [==============================] - 9s 155ms/step - loss: 0.0013\n",
      "Epoch 11/100\n",
      "58/58 [==============================] - 9s 156ms/step - loss: 0.0010\n",
      "Epoch 12/100\n",
      "58/58 [==============================] - 9s 156ms/step - loss: 9.9391e-04\n",
      "Epoch 13/100\n",
      "58/58 [==============================] - 9s 157ms/step - loss: 0.0011\n",
      "Epoch 14/100\n",
      "58/58 [==============================] - 9s 156ms/step - loss: 0.0011\n",
      "Epoch 15/100\n",
      "58/58 [==============================] - 9s 157ms/step - loss: 6.9993e-04\n",
      "Epoch 16/100\n",
      "58/58 [==============================] - 9s 156ms/step - loss: 7.2190e-04\n",
      "Epoch 17/100\n",
      "58/58 [==============================] - 9s 155ms/step - loss: 7.1006e-04\n",
      "Epoch 18/100\n",
      "58/58 [==============================] - 9s 156ms/step - loss: 7.1025e-04\n",
      "Epoch 19/100\n",
      "58/58 [==============================] - 9s 158ms/step - loss: 6.8838e-04\n",
      "Epoch 20/100\n",
      "58/58 [==============================] - 9s 158ms/step - loss: 6.2380e-04\n",
      "Epoch 21/100\n",
      "58/58 [==============================] - 9s 157ms/step - loss: 7.5445e-04\n",
      "Epoch 22/100\n",
      "58/58 [==============================] - 9s 160ms/step - loss: 5.5246e-04\n",
      "Epoch 23/100\n",
      "58/58 [==============================] - 9s 156ms/step - loss: 5.0552e-04\n",
      "Epoch 24/100\n",
      "58/58 [==============================] - 9s 156ms/step - loss: 5.1722e-04\n",
      "Epoch 25/100\n",
      "58/58 [==============================] - 9s 156ms/step - loss: 4.5383e-04\n",
      "Epoch 26/100\n",
      "58/58 [==============================] - 9s 158ms/step - loss: 4.5950e-04\n",
      "Epoch 27/100\n",
      "58/58 [==============================] - 10s 164ms/step - loss: 5.6799e-04\n",
      "Epoch 28/100\n",
      "58/58 [==============================] - 9s 160ms/step - loss: 4.4480e-04\n",
      "Epoch 29/100\n",
      "58/58 [==============================] - 9s 157ms/step - loss: 4.1905e-04\n",
      "Epoch 30/100\n",
      "58/58 [==============================] - 9s 156ms/step - loss: 4.7154e-04\n",
      "Epoch 31/100\n",
      "58/58 [==============================] - 9s 156ms/step - loss: 3.7927e-04\n",
      "Epoch 32/100\n",
      "58/58 [==============================] - 9s 162ms/step - loss: 3.6731e-04\n",
      "Epoch 33/100\n",
      "58/58 [==============================] - 9s 159ms/step - loss: 4.2397e-04\n",
      "Epoch 34/100\n",
      "58/58 [==============================] - 9s 156ms/step - loss: 4.1555e-04\n",
      "Epoch 35/100\n",
      "58/58 [==============================] - 9s 162ms/step - loss: 4.0170e-04\n",
      "Epoch 36/100\n",
      "58/58 [==============================] - 9s 158ms/step - loss: 4.3970e-04\n",
      "Epoch 37/100\n",
      "58/58 [==============================] - 9s 161ms/step - loss: 3.4419e-04\n",
      "Epoch 38/100\n",
      "58/58 [==============================] - 9s 156ms/step - loss: 2.9693e-04\n",
      "Epoch 39/100\n",
      "58/58 [==============================] - 9s 157ms/step - loss: 3.0599e-04\n",
      "Epoch 40/100\n",
      "58/58 [==============================] - 9s 161ms/step - loss: 3.6107e-04\n",
      "Epoch 41/100\n",
      "58/58 [==============================] - 9s 162ms/step - loss: 3.2752e-04\n",
      "Epoch 42/100\n",
      "58/58 [==============================] - 9s 157ms/step - loss: 3.6942e-04\n",
      "Epoch 43/100\n",
      "58/58 [==============================] - 9s 156ms/step - loss: 3.6989e-04\n",
      "Epoch 44/100\n",
      "58/58 [==============================] - 9s 158ms/step - loss: 2.8696e-04\n",
      "Epoch 45/100\n",
      "58/58 [==============================] - 9s 156ms/step - loss: 2.9651e-04\n",
      "Epoch 46/100\n",
      "58/58 [==============================] - 9s 159ms/step - loss: 3.2699e-04\n",
      "Epoch 47/100\n",
      "58/58 [==============================] - 10s 167ms/step - loss: 3.0055e-04\n",
      "Epoch 48/100\n",
      "58/58 [==============================] - 9s 162ms/step - loss: 3.5336e-04\n",
      "Epoch 49/100\n",
      "58/58 [==============================] - 10s 164ms/step - loss: 3.5402e-04\n",
      "Epoch 50/100\n",
      "58/58 [==============================] - 10s 165ms/step - loss: 3.1091e-04\n",
      "Epoch 51/100\n",
      "58/58 [==============================] - 9s 163ms/step - loss: 3.8481e-04\n",
      "Epoch 52/100\n",
      "58/58 [==============================] - 10s 167ms/step - loss: 3.3660e-04\n",
      "Epoch 53/100\n",
      "58/58 [==============================] - 10s 166ms/step - loss: 4.1495e-04\n",
      "Epoch 54/100\n",
      "58/58 [==============================] - 11s 192ms/step - loss: 4.1169e-04\n",
      "Epoch 55/100\n",
      "58/58 [==============================] - 10s 166ms/step - loss: 3.3955e-04\n",
      "Epoch 56/100\n",
      "58/58 [==============================] - 9s 157ms/step - loss: 3.5112e-04\n",
      "Epoch 57/100\n",
      "58/58 [==============================] - 9s 156ms/step - loss: 3.6748e-04\n",
      "Epoch 58/100\n",
      "58/58 [==============================] - 9s 158ms/step - loss: 3.8106e-04\n",
      "Epoch 59/100\n",
      "58/58 [==============================] - 9s 157ms/step - loss: 3.6127e-04\n",
      "Epoch 60/100\n",
      "58/58 [==============================] - 9s 161ms/step - loss: 3.6362e-04\n",
      "Epoch 61/100\n",
      "58/58 [==============================] - 9s 156ms/step - loss: 3.1859e-04\n",
      "Epoch 62/100\n",
      "58/58 [==============================] - 9s 156ms/step - loss: 3.2774e-04\n",
      "Epoch 63/100\n",
      "58/58 [==============================] - 9s 156ms/step - loss: 3.9653e-04\n",
      "Epoch 64/100\n",
      "58/58 [==============================] - 9s 156ms/step - loss: 3.6219e-04\n",
      "Epoch 65/100\n",
      "58/58 [==============================] - 9s 158ms/step - loss: 3.1530e-04\n",
      "Epoch 66/100\n",
      "58/58 [==============================] - 9s 155ms/step - loss: 3.2322e-04\n",
      "Epoch 67/100\n",
      "58/58 [==============================] - 9s 156ms/step - loss: 2.8752e-04\n",
      "Epoch 68/100\n",
      "58/58 [==============================] - 9s 156ms/step - loss: 3.2284e-04\n",
      "Epoch 69/100\n",
      "58/58 [==============================] - 9s 156ms/step - loss: 2.8696e-04\n",
      "Epoch 70/100\n",
      "58/58 [==============================] - 9s 155ms/step - loss: 2.8327e-04\n",
      "Epoch 71/100\n",
      "58/58 [==============================] - 9s 158ms/step - loss: 3.5242e-04\n",
      "Epoch 72/100\n",
      "58/58 [==============================] - 9s 159ms/step - loss: 3.2621e-04\n",
      "Epoch 73/100\n",
      "58/58 [==============================] - 9s 164ms/step - loss: 3.8044e-04\n",
      "Epoch 74/100\n",
      "58/58 [==============================] - 9s 156ms/step - loss: 3.3914e-04\n",
      "Epoch 75/100\n",
      "58/58 [==============================] - 9s 156ms/step - loss: 6.7090e-04\n",
      "Epoch 76/100\n",
      "58/58 [==============================] - 9s 156ms/step - loss: 3.1378e-04\n",
      "Epoch 77/100\n",
      "58/58 [==============================] - 9s 156ms/step - loss: 2.9073e-04\n",
      "Epoch 78/100\n",
      "58/58 [==============================] - 9s 157ms/step - loss: 2.9894e-04\n",
      "Epoch 79/100\n",
      "58/58 [==============================] - 9s 157ms/step - loss: 2.9604e-04\n",
      "Epoch 80/100\n",
      "58/58 [==============================] - 9s 156ms/step - loss: 3.3865e-04\n",
      "Epoch 81/100\n",
      "58/58 [==============================] - 9s 156ms/step - loss: 3.2550e-04\n",
      "Epoch 82/100\n",
      "58/58 [==============================] - 9s 156ms/step - loss: 3.3397e-04\n",
      "Epoch 83/100\n",
      "58/58 [==============================] - 9s 156ms/step - loss: 2.9527e-04\n",
      "Epoch 84/100\n",
      "58/58 [==============================] - 9s 159ms/step - loss: 3.0206e-04\n",
      "Epoch 85/100\n",
      "58/58 [==============================] - 9s 158ms/step - loss: 3.1305e-04\n",
      "Epoch 86/100\n",
      "58/58 [==============================] - 9s 157ms/step - loss: 2.8980e-04\n",
      "Epoch 87/100\n",
      "58/58 [==============================] - 9s 157ms/step - loss: 2.7213e-04\n",
      "Epoch 88/100\n",
      "58/58 [==============================] - 9s 155ms/step - loss: 2.9381e-04\n",
      "Epoch 89/100\n",
      "58/58 [==============================] - 9s 156ms/step - loss: 3.4797e-04\n",
      "Epoch 90/100\n",
      "58/58 [==============================] - 9s 157ms/step - loss: 3.4575e-04\n",
      "Epoch 91/100\n",
      "58/58 [==============================] - 9s 157ms/step - loss: 2.9582e-04\n",
      "Epoch 92/100\n",
      "58/58 [==============================] - 9s 156ms/step - loss: 3.0662e-04\n",
      "Epoch 93/100\n",
      "58/58 [==============================] - 9s 157ms/step - loss: 2.8056e-04\n",
      "Epoch 94/100\n",
      "58/58 [==============================] - 9s 156ms/step - loss: 3.1603e-04\n",
      "Epoch 95/100\n"
     ]
    },
    {
     "name": "stdout",
     "output_type": "stream",
     "text": [
      "58/58 [==============================] - 9s 156ms/step - loss: 2.7660e-04\n",
      "Epoch 96/100\n",
      "58/58 [==============================] - 9s 156ms/step - loss: 3.4494e-04\n",
      "Epoch 97/100\n",
      "58/58 [==============================] - 9s 157ms/step - loss: 3.1362e-04\n",
      "Epoch 98/100\n",
      "58/58 [==============================] - 9s 157ms/step - loss: 3.2629e-04\n",
      "Epoch 99/100\n",
      "58/58 [==============================] - 9s 157ms/step - loss: 2.7704e-04\n",
      "Epoch 100/100\n",
      "58/58 [==============================] - 9s 158ms/step - loss: 2.6346e-04\n"
     ]
    },
    {
     "data": {
      "text/plain": [
       "<keras.callbacks.History at 0x25346bd0e88>"
      ]
     },
     "execution_count": 13,
     "metadata": {},
     "output_type": "execute_result"
    }
   ],
   "source": [
    "#train the model\n",
    "close_model.fit(x_train, y_train, batch_size=32, epochs=EPOCHS)"
   ]
  },
  {
   "cell_type": "code",
   "execution_count": 14,
   "id": "1ffb2cf5",
   "metadata": {
    "id": "1ffb2cf5"
   },
   "outputs": [],
   "source": [
    "#create the testing data set\n",
    "#create a new array containing scaled values from index 1543 to 2003\n",
    "test_data = scaled_data[training_data_len - 60: , :]\n",
    "#create the data sets x_test adn y_test\n",
    "x_test = []\n",
    "y_test = dataset[training_data_len:,:]\n",
    "for i in range(60, len(test_data)):\n",
    "    x_test.append(test_data[i-60:i,0])\n",
    "    \n",
    "    \n"
   ]
  },
  {
   "cell_type": "code",
   "execution_count": 15,
   "id": "e47d88b9",
   "metadata": {
    "id": "e47d88b9"
   },
   "outputs": [],
   "source": [
    "#convert the data to a numpy array\n",
    "x_test = np.array(x_test)"
   ]
  },
  {
   "cell_type": "code",
   "execution_count": 16,
   "id": "ab219d64",
   "metadata": {
    "id": "ab219d64"
   },
   "outputs": [],
   "source": [
    "#resahpe the data\n",
    "x_test = np.reshape(x_test,(x_test.shape[0],x_test.shape[1],1))"
   ]
  },
  {
   "cell_type": "code",
   "execution_count": 17,
   "id": "f0e9563d",
   "metadata": {
    "id": "f0e9563d"
   },
   "outputs": [],
   "source": [
    "#get the models predicted price values\n",
    "predictions = close_model.predict(x_test)\n",
    "predictions = scaler.inverse_transform(predictions)"
   ]
  },
  {
   "cell_type": "code",
   "execution_count": 18,
   "id": "c366802e",
   "metadata": {
    "id": "c366802e",
    "outputId": "f50b6f6e-e0a7-41fa-ac47-e5623cd84398"
   },
   "outputs": [
    {
     "data": {
      "text/plain": [
       "0.4632971983844951"
      ]
     },
     "execution_count": 18,
     "metadata": {},
     "output_type": "execute_result"
    }
   ],
   "source": [
    "#get the root mean squared error (RMSE)\n",
    "rmse =  np.sqrt(np.mean(predictions - y_test)**2)\n",
    "rmse"
   ]
  },
  {
   "cell_type": "code",
   "execution_count": 19,
   "id": "30fda6a3",
   "metadata": {
    "id": "30fda6a3",
    "outputId": "ea646a8d-4c11-4038-aa38-e998e92d3d07"
   },
   "outputs": [
    {
     "name": "stderr",
     "output_type": "stream",
     "text": [
      "C:\\Users\\Abhishek Rao\\AppData\\Local\\Packages\\PythonSoftwareFoundation.Python.3.7_qbz5n2kfra8p0\\LocalCache\\local-packages\\Python37\\site-packages\\ipykernel_launcher.py:4: SettingWithCopyWarning: \n",
      "A value is trying to be set on a copy of a slice from a DataFrame.\n",
      "Try using .loc[row_indexer,col_indexer] = value instead\n",
      "\n",
      "See the caveats in the documentation: https://pandas.pydata.org/pandas-docs/stable/user_guide/indexing.html#returning-a-view-versus-a-copy\n",
      "  after removing the cwd from sys.path.\n"
     ]
    },
    {
     "data": {
      "image/png": "[encoded data removed]",
      "text/plain": [
       "<Figure size 1152x576 with 1 Axes>"
      ]
     },
     "metadata": {},
     "output_type": "display_data"
    }
   ],
   "source": [
    "#plot the date\n",
    "train = data[:training_data_len]\n",
    "valid = data[training_data_len:]\n",
    "valid['Predictions'] = predictions\n",
    "#visualize the data\n",
    "plt.figure(figsize=(16,8))\n",
    "plt.title('Model')\n",
    "plt.xlabel('Date')\n",
    "plt.ylabel('Close Price USD ($)')\n",
    "plt.plot(train['Close'])\n",
    "plt.plot(valid[['Close', 'Predictions']])\n",
    "plt.legend(['Train', 'Val', 'Predictions'], loc='lower right')\n",
    "plt.show()"
   ]
  },
  {
   "cell_type": "code",
   "execution_count": 20,
   "id": "94010774",
   "metadata": {
    "id": "94010774",
    "outputId": "52e5e20d-08d8-4359-96a1-e9c494ef7704"
   },
   "outputs": [
    {
     "data": {
      "text/html": [
       "<div>\n",
       "<style scoped>\n",
       "    .dataframe tbody tr th:only-of-type {\n",
       "        vertical-align: middle;\n",
       "    }\n",
       "\n",
       "    .dataframe tbody tr th {\n",
       "        vertical-align: top;\n",
       "    }\n",
       "\n",
       "    .dataframe thead th {\n",
       "        text-align: right;\n",
       "    }\n",
       "</style>\n",
       "<table border=\"1\" class=\"dataframe\">\n",
       "  <thead>\n",
       "    <tr style=\"text-align: right;\">\n",
       "      <th></th>\n",
       "      <th>Close</th>\n",
       "      <th>Predictions</th>\n",
       "    </tr>\n",
       "    <tr>\n",
       "      <th>Date</th>\n",
       "      <th></th>\n",
       "      <th></th>\n",
       "    </tr>\n",
       "  </thead>\n",
       "  <tbody>\n",
       "    <tr>\n",
       "      <th>2020-04-23</th>\n",
       "      <td>5.500000</td>\n",
       "      <td>5.108882</td>\n",
       "    </tr>\n",
       "    <tr>\n",
       "      <th>2020-04-24</th>\n",
       "      <td>5.500000</td>\n",
       "      <td>5.128369</td>\n",
       "    </tr>\n",
       "    <tr>\n",
       "      <th>2020-04-27</th>\n",
       "      <td>5.700000</td>\n",
       "      <td>5.129386</td>\n",
       "    </tr>\n",
       "    <tr>\n",
       "      <th>2020-04-28</th>\n",
       "      <td>5.840000</td>\n",
       "      <td>5.153467</td>\n",
       "    </tr>\n",
       "    <tr>\n",
       "      <th>2020-04-29</th>\n",
       "      <td>5.700000</td>\n",
       "      <td>5.216429</td>\n",
       "    </tr>\n",
       "    <tr>\n",
       "      <th>...</th>\n",
       "      <td>...</td>\n",
       "      <td>...</td>\n",
       "    </tr>\n",
       "    <tr>\n",
       "      <th>2022-03-07</th>\n",
       "      <td>18.900000</td>\n",
       "      <td>19.176783</td>\n",
       "    </tr>\n",
       "    <tr>\n",
       "      <th>2022-03-08</th>\n",
       "      <td>18.799999</td>\n",
       "      <td>19.043694</td>\n",
       "    </tr>\n",
       "    <tr>\n",
       "      <th>2022-03-09</th>\n",
       "      <td>19.200001</td>\n",
       "      <td>18.839060</td>\n",
       "    </tr>\n",
       "    <tr>\n",
       "      <th>2022-03-10</th>\n",
       "      <td>19.750000</td>\n",
       "      <td>18.794483</td>\n",
       "    </tr>\n",
       "    <tr>\n",
       "      <th>2022-03-11</th>\n",
       "      <td>19.850000</td>\n",
       "      <td>18.992651</td>\n",
       "    </tr>\n",
       "  </tbody>\n",
       "</table>\n",
       "<p>472 rows × 2 columns</p>\n",
       "</div>"
      ],
      "text/plain": [
       "                Close  Predictions\n",
       "Date                              \n",
       "2020-04-23   5.500000     5.108882\n",
       "2020-04-24   5.500000     5.128369\n",
       "2020-04-27   5.700000     5.129386\n",
       "2020-04-28   5.840000     5.153467\n",
       "2020-04-29   5.700000     5.216429\n",
       "...               ...          ...\n",
       "2022-03-07  18.900000    19.176783\n",
       "2022-03-08  18.799999    19.043694\n",
       "2022-03-09  19.200001    18.839060\n",
       "2022-03-10  19.750000    18.794483\n",
       "2022-03-11  19.850000    18.992651\n",
       "\n",
       "[472 rows x 2 columns]"
      ]
     },
     "execution_count": 20,
     "metadata": {},
     "output_type": "execute_result"
    }
   ],
   "source": [
    "#show the valid and predicted prices\n",
    "valid"
   ]
  },
  {
   "cell_type": "code",
   "execution_count": 21,
   "id": "be8deaf4",
   "metadata": {
    "id": "be8deaf4",
    "outputId": "b9b9bea2-8f3f-4d3c-c9f8-88087470817f"
   },
   "outputs": [
    {
     "name": "stdout",
     "output_type": "stream",
     "text": [
      "[[19.511204]]\n"
     ]
    }
   ],
   "source": [
    "#get the Quote\n",
    "stock_quote = web.DataReader(STOCK, data_source = 'yahoo', start=START_DATE, end=END_DATE)\n",
    "#create new data frame\n",
    "new_df = stock_quote.filter(['Close'])\n",
    "#get the last 60 days closing price values and convert the dataframe to an array\n",
    "last_60_days = new_df[-60:].values\n",
    "#scale the data to be values between 0 and 1\n",
    "last_60_days_scaled = scaler.fit_transform(last_60_days)\n",
    "#create the empty list\n",
    "x_test = []\n",
    "#append the past 60 days\n",
    "x_test.append(last_60_days_scaled)\n",
    "#convert the x_test data set to a numpy array\n",
    "x_test = np.array(x_test)\n",
    "x_test = np.reshape(x_test,(x_test.shape[0],x_test.shape[1],1))\n",
    "#get the predicted scaled price\n",
    "close_pred_price = close_model.predict(x_test)\n",
    "#undo the scaling\n",
    "close_pred_price = scaler.inverse_transform(close_pred_price)\n",
    "print(close_pred_price)\n"
   ]
  },
  {
   "cell_type": "code",
   "execution_count": 22,
   "id": "c2efab6b",
   "metadata": {
    "id": "c2efab6b",
    "outputId": "598b1ec6-771b-46c3-c09e-ab3bad3f1d95"
   },
   "outputs": [
    {
     "name": "stdout",
     "output_type": "stream",
     "text": [
      "Date\n",
      "2012-08-10    14.500000\n",
      "2012-08-13    15.225000\n",
      "2012-08-14    15.975000\n",
      "2012-08-16    16.762501\n",
      "2012-08-17    17.600000\n",
      "                ...    \n",
      "2022-03-07    18.900000\n",
      "2022-03-08    18.799999\n",
      "2022-03-09    19.200001\n",
      "2022-03-10    19.750000\n",
      "2022-03-11    19.850000\n",
      "Name: Close, Length: 2360, dtype: float64\n"
     ]
    }
   ],
   "source": [
    "stock_quote2 = web.DataReader(STOCK, data_source = 'yahoo', start=START_DATE, end=PREDICT_DATE)\n",
    "print(stock_quote2['Close'])"
   ]
  },
  {
   "cell_type": "code",
   "execution_count": 23,
   "id": "bfd5c96d",
   "metadata": {
    "id": "bfd5c96d"
   },
   "outputs": [],
   "source": [
    "close_model.save(close_model_path)\n",
    "loaded_close_model = load_model(close_model_path)\n"
   ]
  },
  {
   "cell_type": "code",
   "execution_count": 24,
   "id": "7b7a7951",
   "metadata": {},
   "outputs": [
    {
     "name": "stdout",
     "output_type": "stream",
     "text": [
      "Date\n",
      "2012-08-10    14.500000\n",
      "2012-08-13    15.225000\n",
      "2012-08-14    15.975000\n",
      "2012-08-16    16.762501\n",
      "2012-08-17    17.600000\n",
      "                ...    \n",
      "2022-03-07    18.900000\n",
      "2022-03-08    18.799999\n",
      "2022-03-09    19.200001\n",
      "2022-03-10    19.750000\n",
      "2022-03-11    19.850000\n",
      "Name: Close, Length: 2360, dtype: float64\n"
     ]
    }
   ],
   "source": [
    "stock_quote2 = web.DataReader(STOCK, data_source = 'yahoo', start=START_DATE, end=PREDICT_DATE)\n",
    "print(stock_quote2['Close'])"
   ]
  },
  {
   "cell_type": "code",
   "execution_count": 25,
   "id": "2d66ed1a",
   "metadata": {},
   "outputs": [],
   "source": [
    "import winsound\n",
    "frequency = 2500  # Set Frequency To 2500 Hertz\n",
    "duration = 1000  # Set Duration To 1000 ms == 1 second\n",
    "winsound.Beep(frequency, duration)"
   ]
  },
  {
   "cell_type": "code",
   "execution_count": 26,
   "id": "c97e41ba",
   "metadata": {},
   "outputs": [
    {
     "data": {
      "image/png": "[encoded data removed]",
      "text/plain": [
       "<Figure size 1152x576 with 1 Axes>"
      ]
     },
     "metadata": {},
     "output_type": "display_data"
    }
   ],
   "source": [
    "#Visualing the closing price history\n",
    "plt.figure(figsize=(16,8))\n",
    "plt.title('Open Price History')\n",
    "plt.plot(df['Open'])\n",
    "plt.xlabel('Date', fontsize=18)\n",
    "plt.ylabel('Open Price USD($)', fontsize=18)\n",
    "plt.show()"
   ]
  },
  {
   "cell_type": "code",
   "execution_count": 27,
   "id": "2bace870",
   "metadata": {},
   "outputs": [
    {
     "data": {
      "text/plain": [
       "1888"
      ]
     },
     "execution_count": 27,
     "metadata": {},
     "output_type": "execute_result"
    }
   ],
   "source": [
    "#Create a new data\n",
    "data = df.filter(['Open'])\n",
    "#convert the dataframe to a numpy array\n",
    "dataset = data.values\n",
    "#get the number of rows to train the model on\n",
    "training_data_len = math.ceil(len(dataset)*.8)\n",
    "training_data_len"
   ]
  },
  {
   "cell_type": "code",
   "execution_count": 28,
   "id": "9418c0a7",
   "metadata": {},
   "outputs": [
    {
     "data": {
      "text/plain": [
       "array([[0.10133552],\n",
       "       [0.11457358],\n",
       "       [0.12160263],\n",
       "       ...,\n",
       "       [0.15042174],\n",
       "       [0.15557639],\n",
       "       [0.15979381]])"
      ]
     },
     "execution_count": 28,
     "metadata": {},
     "output_type": "execute_result"
    }
   ],
   "source": [
    "#Scale the data\n",
    "scaler = MinMaxScaler(feature_range=(0,1))\n",
    "scaled_data = scaler.fit_transform(dataset)\n",
    "\n",
    "scaled_data"
   ]
  },
  {
   "cell_type": "code",
   "execution_count": 29,
   "id": "e7d82de6",
   "metadata": {},
   "outputs": [
    {
     "name": "stdout",
     "output_type": "stream",
     "text": [
      "[array([0.10133552, 0.11457358, 0.12160263, 0.12898314, 0.13683225,\n",
      "       0.14503281, 0.15358483, 0.16260544, 0.17209466, 0.18205248,\n",
      "       0.2030225 , 0.22610122, 0.22024368, 0.25820056, 0.25808342,\n",
      "       0.28537958, 0.27202439, 0.25866918, 0.25796626, 0.30435801,\n",
      "       0.32087629, 0.30459232, 0.30459232, 0.3001406 , 0.30049204,\n",
      "       0.30459232, 0.30834117, 0.30880976, 0.3430178 , 0.35824742,\n",
      "       0.38097472, 0.40135897, 0.42279757, 0.41002813, 0.40065606,\n",
      "       0.42713217, 0.44985943, 0.4721181 , 0.49882849, 0.45688849,\n",
      "       0.4451734 , 0.44540771, 0.45513122, 0.44283038, 0.47961575,\n",
      "       0.43814434, 0.46391754, 0.45688849, 0.45454547, 0.46626056,\n",
      "       0.46860357, 0.45688849, 0.46391754, 0.46391754, 0.46473761,\n",
      "       0.4656748 , 0.49906281, 0.5107779 , 0.4978913 , 0.50374884])]\n",
      "[0.5107778965208102]\n",
      "\n",
      "[array([0.10133552, 0.11457358, 0.12160263, 0.12898314, 0.13683225,\n",
      "       0.14503281, 0.15358483, 0.16260544, 0.17209466, 0.18205248,\n",
      "       0.2030225 , 0.22610122, 0.22024368, 0.25820056, 0.25808342,\n",
      "       0.28537958, 0.27202439, 0.25866918, 0.25796626, 0.30435801,\n",
      "       0.32087629, 0.30459232, 0.30459232, 0.3001406 , 0.30049204,\n",
      "       0.30459232, 0.30834117, 0.30880976, 0.3430178 , 0.35824742,\n",
      "       0.38097472, 0.40135897, 0.42279757, 0.41002813, 0.40065606,\n",
      "       0.42713217, 0.44985943, 0.4721181 , 0.49882849, 0.45688849,\n",
      "       0.4451734 , 0.44540771, 0.45513122, 0.44283038, 0.47961575,\n",
      "       0.43814434, 0.46391754, 0.45688849, 0.45454547, 0.46626056,\n",
      "       0.46860357, 0.45688849, 0.46391754, 0.46391754, 0.46473761,\n",
      "       0.4656748 , 0.49906281, 0.5107779 , 0.4978913 , 0.50374884]), array([0.11457358, 0.12160263, 0.12898314, 0.13683225, 0.14503281,\n",
      "       0.15358483, 0.16260544, 0.17209466, 0.18205248, 0.2030225 ,\n",
      "       0.22610122, 0.22024368, 0.25820056, 0.25808342, 0.28537958,\n",
      "       0.27202439, 0.25866918, 0.25796626, 0.30435801, 0.32087629,\n",
      "       0.30459232, 0.30459232, 0.3001406 , 0.30049204, 0.30459232,\n",
      "       0.30834117, 0.30880976, 0.3430178 , 0.35824742, 0.38097472,\n",
      "       0.40135897, 0.42279757, 0.41002813, 0.40065606, 0.42713217,\n",
      "       0.44985943, 0.4721181 , 0.49882849, 0.45688849, 0.4451734 ,\n",
      "       0.44540771, 0.45513122, 0.44283038, 0.47961575, 0.43814434,\n",
      "       0.46391754, 0.45688849, 0.45454547, 0.46626056, 0.46860357,\n",
      "       0.45688849, 0.46391754, 0.46391754, 0.46473761, 0.4656748 ,\n",
      "       0.49906281, 0.5107779 , 0.4978913 , 0.50374884, 0.5107779 ])]\n",
      "[0.5107778965208102, 0.5281162144873841]\n",
      "\n"
     ]
    }
   ],
   "source": [
    "#creating the training data set\n",
    "#create the scaled training data set\n",
    "train_data = scaled_data[0:training_data_len,:]\n",
    "#split the data into x_train and y_train data sets\n",
    "x_train = []\n",
    "y_train = []\n",
    "for i in range(60, len(train_data)):\n",
    "    x_train.append(train_data[i-60:i,0])\n",
    "    y_train.append(train_data[i,0])\n",
    "    if i<=61:\n",
    "        print(x_train)\n",
    "        print(y_train)\n",
    "        print()"
   ]
  },
  {
   "cell_type": "code",
   "execution_count": 30,
   "id": "185a6181",
   "metadata": {},
   "outputs": [],
   "source": [
    "#Convert the X_train and Y_train to numpy arrays\n",
    "x_train , y_train = np.array(x_train), np.array(y_train)"
   ]
  },
  {
   "cell_type": "code",
   "execution_count": 31,
   "id": "5e140f5b",
   "metadata": {},
   "outputs": [
    {
     "data": {
      "text/plain": [
       "(1828, 60, 1)"
      ]
     },
     "execution_count": 31,
     "metadata": {},
     "output_type": "execute_result"
    }
   ],
   "source": [
    "#Reshape the data\n",
    "x_train = np.reshape(x_train,(x_train.shape[0],x_train.shape[1],1))\n",
    "x_train.shape"
   ]
  },
  {
   "cell_type": "code",
   "execution_count": 32,
   "id": "1b9701c7",
   "metadata": {},
   "outputs": [],
   "source": [
    "#Building the LSTM model\n",
    "open_model = Sequential()\n",
    "open_model.add(LSTM(50, return_sequences=True, input_shape =(x_train.shape[1],1)))\n",
    "open_model.add(LSTM(50, return_sequences=True))\n",
    "open_model.add(LSTM(50, return_sequences=True))\n",
    "open_model.add(LSTM(50, return_sequences=False))\n",
    "open_model.add(Dense(25))\n",
    "open_model.add(Dense(1))"
   ]
  },
  {
   "cell_type": "code",
   "execution_count": 33,
   "id": "5567866a",
   "metadata": {},
   "outputs": [],
   "source": [
    "#compile the Model\n",
    "open_model.compile(optimizer='adam', loss='mean_squared_error')"
   ]
  },
  {
   "cell_type": "code",
   "execution_count": 34,
   "id": "cdf519f5",
   "metadata": {},
   "outputs": [
    {
     "name": "stdout",
     "output_type": "stream",
     "text": [
      "Epoch 1/100\n",
      "58/58 [==============================] - 17s 154ms/step - loss: 0.0228\n",
      "Epoch 2/100\n",
      "58/58 [==============================] - 9s 152ms/step - loss: 0.0032\n",
      "Epoch 3/100\n",
      "58/58 [==============================] - 9s 151ms/step - loss: 0.0029\n",
      "Epoch 4/100\n",
      "58/58 [==============================] - 9s 152ms/step - loss: 0.0028\n",
      "Epoch 5/100\n",
      "58/58 [==============================] - 9s 152ms/step - loss: 0.0026\n",
      "Epoch 6/100\n",
      "58/58 [==============================] - 9s 151ms/step - loss: 0.0027\n",
      "Epoch 7/100\n",
      "58/58 [==============================] - 9s 151ms/step - loss: 0.0023\n",
      "Epoch 8/100\n",
      "58/58 [==============================] - 9s 151ms/step - loss: 0.0025\n",
      "Epoch 9/100\n",
      "58/58 [==============================] - 9s 153ms/step - loss: 0.0017\n",
      "Epoch 10/100\n",
      "58/58 [==============================] - 9s 151ms/step - loss: 0.0016\n",
      "Epoch 11/100\n",
      "58/58 [==============================] - 9s 153ms/step - loss: 0.0018\n",
      "Epoch 12/100\n",
      "58/58 [==============================] - 9s 153ms/step - loss: 0.0014\n",
      "Epoch 13/100\n",
      "58/58 [==============================] - 9s 151ms/step - loss: 0.0012\n",
      "Epoch 14/100\n",
      "58/58 [==============================] - 9s 151ms/step - loss: 0.0013\n",
      "Epoch 15/100\n",
      "58/58 [==============================] - 9s 152ms/step - loss: 0.0012\n",
      "Epoch 16/100\n",
      "58/58 [==============================] - 9s 156ms/step - loss: 0.0011\n",
      "Epoch 17/100\n",
      "58/58 [==============================] - 9s 151ms/step - loss: 9.5396e-04\n",
      "Epoch 18/100\n",
      "58/58 [==============================] - 9s 152ms/step - loss: 0.0011\n",
      "Epoch 19/100\n",
      "58/58 [==============================] - 9s 152ms/step - loss: 9.4372e-04\n",
      "Epoch 20/100\n",
      "58/58 [==============================] - 9s 152ms/step - loss: 7.9531e-04\n",
      "Epoch 21/100\n",
      "58/58 [==============================] - 9s 151ms/step - loss: 8.7653e-04\n",
      "Epoch 22/100\n",
      "58/58 [==============================] - 9s 153ms/step - loss: 9.2031e-04\n",
      "Epoch 23/100\n",
      "58/58 [==============================] - 9s 152ms/step - loss: 7.5349e-04\n",
      "Epoch 24/100\n",
      "58/58 [==============================] - 9s 151ms/step - loss: 6.6802e-04\n",
      "Epoch 25/100\n",
      "58/58 [==============================] - 9s 152ms/step - loss: 7.1429e-04\n",
      "Epoch 26/100\n",
      "58/58 [==============================] - 9s 153ms/step - loss: 7.6859e-04\n",
      "Epoch 27/100\n",
      "58/58 [==============================] - 9s 151ms/step - loss: 5.6500e-04\n",
      "Epoch 28/100\n",
      "58/58 [==============================] - 9s 151ms/step - loss: 7.1799e-04\n",
      "Epoch 29/100\n",
      "58/58 [==============================] - 9s 155ms/step - loss: 6.3207e-04\n",
      "Epoch 30/100\n",
      "58/58 [==============================] - 9s 151ms/step - loss: 7.0558e-04\n",
      "Epoch 31/100\n",
      "58/58 [==============================] - 9s 152ms/step - loss: 5.2662e-04\n",
      "Epoch 32/100\n",
      "58/58 [==============================] - 9s 152ms/step - loss: 5.9071e-04\n",
      "Epoch 33/100\n",
      "58/58 [==============================] - 9s 151ms/step - loss: 4.7807e-04\n",
      "Epoch 34/100\n",
      "58/58 [==============================] - 9s 151ms/step - loss: 6.6918e-04\n",
      "Epoch 35/100\n",
      "58/58 [==============================] - 9s 153ms/step - loss: 4.8970e-04\n",
      "Epoch 36/100\n",
      "58/58 [==============================] - 9s 154ms/step - loss: 4.9550e-04\n",
      "Epoch 37/100\n",
      "58/58 [==============================] - 9s 151ms/step - loss: 4.5422e-04\n",
      "Epoch 38/100\n",
      "58/58 [==============================] - 9s 151ms/step - loss: 4.6434e-04\n",
      "Epoch 39/100\n",
      "58/58 [==============================] - 9s 151ms/step - loss: 5.9615e-04\n",
      "Epoch 40/100\n",
      "58/58 [==============================] - 9s 153ms/step - loss: 4.8893e-04\n",
      "Epoch 41/100\n",
      "58/58 [==============================] - 9s 151ms/step - loss: 4.9705e-04\n",
      "Epoch 42/100\n",
      "58/58 [==============================] - 9s 152ms/step - loss: 5.3848e-04\n",
      "Epoch 43/100\n",
      "58/58 [==============================] - 9s 153ms/step - loss: 6.8470e-04\n",
      "Epoch 44/100\n",
      "58/58 [==============================] - 9s 151ms/step - loss: 4.3744e-04\n",
      "Epoch 45/100\n",
      "58/58 [==============================] - 9s 151ms/step - loss: 4.4034e-04\n",
      "Epoch 46/100\n",
      "58/58 [==============================] - 9s 150ms/step - loss: 4.4745e-04\n",
      "Epoch 47/100\n",
      "58/58 [==============================] - 9s 152ms/step - loss: 5.7653e-04\n",
      "Epoch 48/100\n",
      "58/58 [==============================] - 9s 151ms/step - loss: 7.0945e-04\n",
      "Epoch 49/100\n",
      "58/58 [==============================] - 9s 152ms/step - loss: 4.9393e-04\n",
      "Epoch 50/100\n",
      "58/58 [==============================] - 9s 156ms/step - loss: 5.0663e-04\n",
      "Epoch 51/100\n",
      "58/58 [==============================] - 9s 151ms/step - loss: 4.5859e-04\n",
      "Epoch 52/100\n",
      "58/58 [==============================] - 9s 152ms/step - loss: 5.9076e-04\n",
      "Epoch 53/100\n",
      "58/58 [==============================] - 9s 153ms/step - loss: 5.1452e-04\n",
      "Epoch 54/100\n",
      "58/58 [==============================] - 9s 151ms/step - loss: 6.4366e-04\n",
      "Epoch 55/100\n",
      "58/58 [==============================] - 9s 150ms/step - loss: 5.3253e-04\n",
      "Epoch 56/100\n",
      "58/58 [==============================] - 9s 151ms/step - loss: 4.5879e-04\n",
      "Epoch 57/100\n",
      "58/58 [==============================] - 9s 153ms/step - loss: 4.6878e-04\n",
      "Epoch 58/100\n",
      "58/58 [==============================] - 9s 151ms/step - loss: 5.0348e-04\n",
      "Epoch 59/100\n",
      "58/58 [==============================] - 9s 151ms/step - loss: 4.8366e-04\n",
      "Epoch 60/100\n",
      "58/58 [==============================] - 9s 151ms/step - loss: 5.1194e-04\n",
      "Epoch 61/100\n",
      "58/58 [==============================] - 9s 152ms/step - loss: 4.7496e-04\n",
      "Epoch 62/100\n",
      "58/58 [==============================] - 9s 151ms/step - loss: 5.0922e-04\n",
      "Epoch 63/100\n",
      "58/58 [==============================] - 9s 153ms/step - loss: 5.4844e-04\n",
      "Epoch 64/100\n",
      "58/58 [==============================] - 9s 152ms/step - loss: 5.2222e-04\n",
      "Epoch 65/100\n",
      "58/58 [==============================] - 9s 150ms/step - loss: 4.5834e-04\n",
      "Epoch 66/100\n",
      "58/58 [==============================] - 9s 155ms/step - loss: 4.7214e-04\n",
      "Epoch 67/100\n",
      "58/58 [==============================] - 9s 153ms/step - loss: 4.2952e-04\n",
      "Epoch 68/100\n",
      "58/58 [==============================] - 9s 154ms/step - loss: 4.1865e-04\n",
      "Epoch 69/100\n",
      "58/58 [==============================] - 9s 151ms/step - loss: 5.3255e-04\n",
      "Epoch 70/100\n",
      "58/58 [==============================] - 9s 152ms/step - loss: 5.3189e-04\n",
      "Epoch 71/100\n",
      "58/58 [==============================] - 9s 152ms/step - loss: 4.4889e-04\n",
      "Epoch 72/100\n",
      "58/58 [==============================] - 9s 151ms/step - loss: 4.3264e-04\n",
      "Epoch 73/100\n",
      "58/58 [==============================] - 9s 152ms/step - loss: 5.0862e-04\n",
      "Epoch 74/100\n",
      "58/58 [==============================] - 9s 151ms/step - loss: 4.1857e-04\n",
      "Epoch 75/100\n",
      "58/58 [==============================] - 9s 151ms/step - loss: 5.7348e-04\n",
      "Epoch 76/100\n",
      "58/58 [==============================] - 9s 160ms/step - loss: 5.1452e-04\n",
      "Epoch 77/100\n",
      "58/58 [==============================] - 10s 177ms/step - loss: 5.1540e-04\n",
      "Epoch 78/100\n",
      "58/58 [==============================] - 9s 153ms/step - loss: 5.0714e-04\n",
      "Epoch 79/100\n",
      "58/58 [==============================] - 9s 153ms/step - loss: 4.3518e-04\n",
      "Epoch 80/100\n",
      "58/58 [==============================] - 9s 152ms/step - loss: 4.3377e-04\n",
      "Epoch 81/100\n",
      "58/58 [==============================] - 9s 154ms/step - loss: 4.9169e-04\n",
      "Epoch 82/100\n",
      "58/58 [==============================] - 9s 152ms/step - loss: 4.3047e-04\n",
      "Epoch 83/100\n",
      "58/58 [==============================] - 9s 151ms/step - loss: 4.3845e-04\n",
      "Epoch 84/100\n",
      "58/58 [==============================] - 9s 154ms/step - loss: 4.6221e-04\n",
      "Epoch 85/100\n",
      "58/58 [==============================] - 9s 153ms/step - loss: 4.1715e-04\n",
      "Epoch 86/100\n",
      "58/58 [==============================] - 9s 151ms/step - loss: 5.0188e-04\n",
      "Epoch 87/100\n",
      "58/58 [==============================] - 9s 152ms/step - loss: 4.1462e-04\n",
      "Epoch 88/100\n",
      "58/58 [==============================] - 9s 151ms/step - loss: 4.3808e-04\n",
      "Epoch 89/100\n",
      "58/58 [==============================] - 9s 153ms/step - loss: 4.0463e-04\n",
      "Epoch 90/100\n",
      "58/58 [==============================] - 9s 153ms/step - loss: 6.3867e-04\n",
      "Epoch 91/100\n",
      "58/58 [==============================] - 9s 154ms/step - loss: 4.3614e-04\n",
      "Epoch 92/100\n",
      "58/58 [==============================] - 9s 153ms/step - loss: 4.6066e-04\n",
      "Epoch 93/100\n",
      "58/58 [==============================] - 9s 152ms/step - loss: 4.4623e-04\n",
      "Epoch 94/100\n",
      "58/58 [==============================] - 9s 151ms/step - loss: 4.6478e-04\n",
      "Epoch 95/100\n",
      "58/58 [==============================] - 9s 153ms/step - loss: 4.3228e-04\n",
      "Epoch 96/100\n"
     ]
    },
    {
     "name": "stdout",
     "output_type": "stream",
     "text": [
      "58/58 [==============================] - 9s 152ms/step - loss: 4.8253e-04\n",
      "Epoch 97/100\n",
      "58/58 [==============================] - 9s 151ms/step - loss: 6.1111e-04\n",
      "Epoch 98/100\n",
      "58/58 [==============================] - 9s 151ms/step - loss: 4.2106e-04\n",
      "Epoch 99/100\n",
      "58/58 [==============================] - 9s 152ms/step - loss: 4.2434e-04\n",
      "Epoch 100/100\n",
      "58/58 [==============================] - 9s 152ms/step - loss: 5.3107e-04\n"
     ]
    },
    {
     "data": {
      "text/plain": [
       "<keras.callbacks.History at 0x25356479088>"
      ]
     },
     "execution_count": 34,
     "metadata": {},
     "output_type": "execute_result"
    }
   ],
   "source": [
    "#train the model\n",
    "open_model.fit(x_train, y_train, batch_size=32, epochs=EPOCHS)"
   ]
  },
  {
   "cell_type": "code",
   "execution_count": 35,
   "id": "d29da702",
   "metadata": {},
   "outputs": [],
   "source": [
    "#create the testing data set\n",
    "#create a new array containing scaled values from index 1543 to 2003\n",
    "test_data = scaled_data[training_data_len - 60: , :]\n",
    "#create the data sets x_test adn y_test\n",
    "x_test = []\n",
    "y_test = dataset[training_data_len:,:]\n",
    "for i in range(60, len(test_data)):\n",
    "    x_test.append(test_data[i-60:i,0])\n",
    "    \n",
    "    \n"
   ]
  },
  {
   "cell_type": "code",
   "execution_count": 36,
   "id": "f58a96cf",
   "metadata": {},
   "outputs": [],
   "source": [
    "#convert the data to a numpy array\n",
    "x_test = np.array(x_test)"
   ]
  },
  {
   "cell_type": "code",
   "execution_count": 37,
   "id": "1ede7f02",
   "metadata": {},
   "outputs": [],
   "source": [
    "#resahpe the data\n",
    "x_test = np.reshape(x_test,(x_test.shape[0],x_test.shape[1],1))"
   ]
  },
  {
   "cell_type": "code",
   "execution_count": 38,
   "id": "95e9db7a",
   "metadata": {},
   "outputs": [],
   "source": [
    "#get the models predicted price values\n",
    "predictions = open_model.predict(x_test)\n",
    "predictions = scaler.inverse_transform(predictions)"
   ]
  },
  {
   "cell_type": "code",
   "execution_count": 39,
   "id": "198f2146",
   "metadata": {},
   "outputs": [
    {
     "data": {
      "text/plain": [
       "0.2779305193383815"
      ]
     },
     "execution_count": 39,
     "metadata": {},
     "output_type": "execute_result"
    }
   ],
   "source": [
    "#get the root mean squared error (RMSE)\n",
    "rmse =  np.sqrt(np.mean(predictions - y_test)**2)\n",
    "rmse"
   ]
  },
  {
   "cell_type": "code",
   "execution_count": 40,
   "id": "0a377d74",
   "metadata": {},
   "outputs": [
    {
     "name": "stderr",
     "output_type": "stream",
     "text": [
      "C:\\Users\\Abhishek Rao\\AppData\\Local\\Packages\\PythonSoftwareFoundation.Python.3.7_qbz5n2kfra8p0\\LocalCache\\local-packages\\Python37\\site-packages\\ipykernel_launcher.py:4: SettingWithCopyWarning: \n",
      "A value is trying to be set on a copy of a slice from a DataFrame.\n",
      "Try using .loc[row_indexer,col_indexer] = value instead\n",
      "\n",
      "See the caveats in the documentation: https://pandas.pydata.org/pandas-docs/stable/user_guide/indexing.html#returning-a-view-versus-a-copy\n",
      "  after removing the cwd from sys.path.\n"
     ]
    },
    {
     "data": {
      "image/png": "[encoded data removed]",
      "text/plain": [
       "<Figure size 1152x576 with 1 Axes>"
      ]
     },
     "metadata": {},
     "output_type": "display_data"
    }
   ],
   "source": [
    "#plot the date\n",
    "train = data[:training_data_len]\n",
    "valid = data[training_data_len:]\n",
    "valid['Predictions'] = predictions\n",
    "#visualize the data\n",
    "plt.figure(figsize=(16,8))\n",
    "plt.title('Model')\n",
    "plt.xlabel('Date')\n",
    "plt.ylabel('Open Price USD ($)')\n",
    "plt.plot(train['Open'])\n",
    "plt.plot(valid[['Open', 'Predictions']])\n",
    "plt.legend(['Train', 'Val', 'Predictions'], loc='lower right')\n",
    "plt.show()"
   ]
  },
  {
   "cell_type": "code",
   "execution_count": 41,
   "id": "276bf692",
   "metadata": {},
   "outputs": [
    {
     "data": {
      "text/html": [
       "<div>\n",
       "<style scoped>\n",
       "    .dataframe tbody tr th:only-of-type {\n",
       "        vertical-align: middle;\n",
       "    }\n",
       "\n",
       "    .dataframe tbody tr th {\n",
       "        vertical-align: top;\n",
       "    }\n",
       "\n",
       "    .dataframe thead th {\n",
       "        text-align: right;\n",
       "    }\n",
       "</style>\n",
       "<table border=\"1\" class=\"dataframe\">\n",
       "  <thead>\n",
       "    <tr style=\"text-align: right;\">\n",
       "      <th></th>\n",
       "      <th>Open</th>\n",
       "      <th>Predictions</th>\n",
       "    </tr>\n",
       "    <tr>\n",
       "      <th>Date</th>\n",
       "      <th></th>\n",
       "      <th></th>\n",
       "    </tr>\n",
       "  </thead>\n",
       "  <tbody>\n",
       "    <tr>\n",
       "      <th>2020-04-23</th>\n",
       "      <td>5.200000</td>\n",
       "      <td>5.590191</td>\n",
       "    </tr>\n",
       "    <tr>\n",
       "      <th>2020-04-24</th>\n",
       "      <td>5.500000</td>\n",
       "      <td>5.666247</td>\n",
       "    </tr>\n",
       "    <tr>\n",
       "      <th>2020-04-27</th>\n",
       "      <td>5.500000</td>\n",
       "      <td>5.696487</td>\n",
       "    </tr>\n",
       "    <tr>\n",
       "      <th>2020-04-28</th>\n",
       "      <td>5.400000</td>\n",
       "      <td>5.718592</td>\n",
       "    </tr>\n",
       "    <tr>\n",
       "      <th>2020-04-29</th>\n",
       "      <td>5.990000</td>\n",
       "      <td>5.737366</td>\n",
       "    </tr>\n",
       "    <tr>\n",
       "      <th>...</th>\n",
       "      <td>...</td>\n",
       "      <td>...</td>\n",
       "    </tr>\n",
       "    <tr>\n",
       "      <th>2022-03-07</th>\n",
       "      <td>19.400000</td>\n",
       "      <td>19.725588</td>\n",
       "    </tr>\n",
       "    <tr>\n",
       "      <th>2022-03-08</th>\n",
       "      <td>18.650000</td>\n",
       "      <td>19.846909</td>\n",
       "    </tr>\n",
       "    <tr>\n",
       "      <th>2022-03-09</th>\n",
       "      <td>19.049999</td>\n",
       "      <td>19.793499</td>\n",
       "    </tr>\n",
       "    <tr>\n",
       "      <th>2022-03-10</th>\n",
       "      <td>19.600000</td>\n",
       "      <td>19.701008</td>\n",
       "    </tr>\n",
       "    <tr>\n",
       "      <th>2022-03-11</th>\n",
       "      <td>20.049999</td>\n",
       "      <td>19.745031</td>\n",
       "    </tr>\n",
       "  </tbody>\n",
       "</table>\n",
       "<p>472 rows × 2 columns</p>\n",
       "</div>"
      ],
      "text/plain": [
       "                 Open  Predictions\n",
       "Date                              \n",
       "2020-04-23   5.200000     5.590191\n",
       "2020-04-24   5.500000     5.666247\n",
       "2020-04-27   5.500000     5.696487\n",
       "2020-04-28   5.400000     5.718592\n",
       "2020-04-29   5.990000     5.737366\n",
       "...               ...          ...\n",
       "2022-03-07  19.400000    19.725588\n",
       "2022-03-08  18.650000    19.846909\n",
       "2022-03-09  19.049999    19.793499\n",
       "2022-03-10  19.600000    19.701008\n",
       "2022-03-11  20.049999    19.745031\n",
       "\n",
       "[472 rows x 2 columns]"
      ]
     },
     "execution_count": 41,
     "metadata": {},
     "output_type": "execute_result"
    }
   ],
   "source": [
    "#show the valid and predicted prices\n",
    "valid"
   ]
  },
  {
   "cell_type": "code",
   "execution_count": 42,
   "id": "d9e8dc9b",
   "metadata": {},
   "outputs": [
    {
     "name": "stdout",
     "output_type": "stream",
     "text": [
      "[[19.457357]]\n"
     ]
    }
   ],
   "source": [
    "#get the Quote\n",
    "stock_quote = web.DataReader(STOCK, data_source = 'yahoo', start=START_DATE, end=END_DATE)\n",
    "#create new data frame\n",
    "new_df = stock_quote.filter(['Open'])\n",
    "#get the last 60 days closing price values and convert the dataframe to an array\n",
    "last_60_days = new_df[-60:].values\n",
    "#scale the data to be values between 0 and 1\n",
    "last_60_days_scaled = scaler.fit_transform(last_60_days)\n",
    "#create the empty list\n",
    "x_test = []\n",
    "#append the past 60 days\n",
    "x_test.append(last_60_days_scaled)\n",
    "#convert the x_test data set to a numpy array\n",
    "x_test = np.array(x_test)\n",
    "x_test = np.reshape(x_test,(x_test.shape[0],x_test.shape[1],1))\n",
    "#get the predicted scaled price\n",
    "pred_open_price = open_model.predict(x_test)\n",
    "#undo the scaling\n",
    "pred_open_price = scaler.inverse_transform(pred_open_price)\n",
    "print(pred_open_price)\n"
   ]
  },
  {
   "cell_type": "code",
   "execution_count": 43,
   "id": "5255799d",
   "metadata": {},
   "outputs": [
    {
     "name": "stdout",
     "output_type": "stream",
     "text": [
      "Date\n",
      "2012-08-10    13.812500\n",
      "2012-08-13    15.225000\n",
      "2012-08-14    15.975000\n",
      "2012-08-16    16.762501\n",
      "2012-08-17    17.600000\n",
      "                ...    \n",
      "2022-03-07    19.400000\n",
      "2022-03-08    18.650000\n",
      "2022-03-09    19.049999\n",
      "2022-03-10    19.600000\n",
      "2022-03-11    20.049999\n",
      "Name: Open, Length: 2360, dtype: float64\n"
     ]
    }
   ],
   "source": [
    "stock_quote2 = web.DataReader(STOCK, data_source = 'yahoo', start=START_DATE, end=PREDICT_DATE)\n",
    "print(stock_quote2['Open'])"
   ]
  },
  {
   "cell_type": "code",
   "execution_count": 44,
   "id": "18e18353",
   "metadata": {},
   "outputs": [],
   "source": [
    "open_model.save(open_model_path)\n",
    "loaded_open_model = load_model(open_model_path)\n"
   ]
  },
  {
   "cell_type": "code",
   "execution_count": 45,
   "id": "41ac4212",
   "metadata": {},
   "outputs": [],
   "source": [
    "import winsound\n",
    "frequency = 2500  # Set Frequency To 2500 Hertz\n",
    "duration = 1000  # Set Duration To 1000 ms == 1 second\n",
    "winsound.Beep(frequency, duration)"
   ]
  },
  {
   "cell_type": "code",
   "execution_count": 46,
   "id": "43ff06d9",
   "metadata": {},
   "outputs": [
    {
     "name": "stdout",
     "output_type": "stream",
     "text": [
      "Open price : 19.457357\n",
      "Close price : 19.511204\n",
      "0.05384636\n"
     ]
    }
   ],
   "source": [
    "print(\"Open price : \", end=\"\") \n",
    "print(pred_open_price[0][0])\n",
    "print(\"Close price : \", end=\"\") \n",
    "print(close_pred_price[0][0])\n",
    "\n",
    "print(close_pred_price[0][0]-pred_open_price[0][0]   )"
   ]
  },
  {
   "cell_type": "code",
   "execution_count": 47,
   "id": "73881f41",
   "metadata": {},
   "outputs": [
    {
     "data": {
      "image/png": "[encoded data removed]",
      "text/plain": [
       "<Figure size 1152x576 with 1 Axes>"
      ]
     },
     "metadata": {},
     "output_type": "display_data"
    }
   ],
   "source": [
    "#Visualing the High price history\n",
    "plt.figure(figsize=(16,8))\n",
    "plt.title('High Price History')\n",
    "plt.plot(df['High'])\n",
    "plt.xlabel('Date', fontsize=18)\n",
    "plt.ylabel('High Price USD($)', fontsize=18)\n",
    "plt.show()"
   ]
  },
  {
   "cell_type": "code",
   "execution_count": 48,
   "id": "d99e90ff",
   "metadata": {},
   "outputs": [
    {
     "data": {
      "text/plain": [
       "1888"
      ]
     },
     "execution_count": 48,
     "metadata": {},
     "output_type": "execute_result"
    }
   ],
   "source": [
    "#Create a new data\n",
    "data = df.filter(['High'])\n",
    "#convert the dataframe to a numpy array\n",
    "dataset = data.values\n",
    "#get the number of rows to train the model on\n",
    "training_data_len = math.ceil(len(dataset)*.8)\n",
    "training_data_len"
   ]
  },
  {
   "cell_type": "code",
   "execution_count": 49,
   "id": "ab2252e7",
   "metadata": {},
   "outputs": [
    {
     "data": {
      "text/plain": [
       "array([[0.10262352],\n",
       "       [0.10934458],\n",
       "       [0.11629739],\n",
       "       ...,\n",
       "       [0.1485121 ],\n",
       "       [0.15824603],\n",
       "       [0.15685547]])"
      ]
     },
     "execution_count": 49,
     "metadata": {},
     "output_type": "execute_result"
    }
   ],
   "source": [
    "#Scale the data\n",
    "scaler = MinMaxScaler(feature_range=(0,1))\n",
    "scaled_data = scaler.fit_transform(dataset)\n",
    "\n",
    "scaled_data"
   ]
  },
  {
   "cell_type": "code",
   "execution_count": 50,
   "id": "6645de98",
   "metadata": {},
   "outputs": [
    {
     "name": "stdout",
     "output_type": "stream",
     "text": [
      "[array([0.10262352, 0.10934458, 0.11629739, 0.12359785, 0.13136182,\n",
      "       0.13947344, 0.1479327 , 0.15685547, 0.16624176, 0.17609158,\n",
      "       0.19683415, 0.21966255, 0.23797163, 0.25141372, 0.26462408,\n",
      "       0.27934086, 0.26508761, 0.26022063, 0.26659404, 0.29707052,\n",
      "       0.31340964, 0.2973023 , 0.29741819, 0.2984611 , 0.29973579,\n",
      "       0.30402334, 0.3037916 , 0.31792897, 0.335311  , 0.35362009,\n",
      "       0.37285622, 0.39301937, 0.41422544, 0.4015945 , 0.40622971,\n",
      "       0.41851302, 0.44099378, 0.46463333, 0.4894317 , 0.44794659,\n",
      "       0.4554788 , 0.45721701, 0.45246591, 0.44771481, 0.47042735,\n",
      "       0.46706683, 0.4548994 , 0.45188651, 0.46405393, 0.47645313,\n",
      "       0.46162044, 0.4525818 , 0.45953461, 0.45744878, 0.4560582 ,\n",
      "       0.47923425, 0.5047279 , 0.5058867 , 0.50577081, 0.49951329])]\n",
      "[0.50125149195334]\n",
      "\n",
      "[array([0.10262352, 0.10934458, 0.11629739, 0.12359785, 0.13136182,\n",
      "       0.13947344, 0.1479327 , 0.15685547, 0.16624176, 0.17609158,\n",
      "       0.19683415, 0.21966255, 0.23797163, 0.25141372, 0.26462408,\n",
      "       0.27934086, 0.26508761, 0.26022063, 0.26659404, 0.29707052,\n",
      "       0.31340964, 0.2973023 , 0.29741819, 0.2984611 , 0.29973579,\n",
      "       0.30402334, 0.3037916 , 0.31792897, 0.335311  , 0.35362009,\n",
      "       0.37285622, 0.39301937, 0.41422544, 0.4015945 , 0.40622971,\n",
      "       0.41851302, 0.44099378, 0.46463333, 0.4894317 , 0.44794659,\n",
      "       0.4554788 , 0.45721701, 0.45246591, 0.44771481, 0.47042735,\n",
      "       0.46706683, 0.4548994 , 0.45188651, 0.46405393, 0.47645313,\n",
      "       0.46162044, 0.4525818 , 0.45953461, 0.45744878, 0.4560582 ,\n",
      "       0.47923425, 0.5047279 , 0.5058867 , 0.50577081, 0.49951329]), array([0.10934458, 0.11629739, 0.12359785, 0.13136182, 0.13947344,\n",
      "       0.1479327 , 0.15685547, 0.16624176, 0.17609158, 0.19683415,\n",
      "       0.21966255, 0.23797163, 0.25141372, 0.26462408, 0.27934086,\n",
      "       0.26508761, 0.26022063, 0.26659404, 0.29707052, 0.31340964,\n",
      "       0.2973023 , 0.29741819, 0.2984611 , 0.29973579, 0.30402334,\n",
      "       0.3037916 , 0.31792897, 0.335311  , 0.35362009, 0.37285622,\n",
      "       0.39301937, 0.41422544, 0.4015945 , 0.40622971, 0.41851302,\n",
      "       0.44099378, 0.46463333, 0.4894317 , 0.44794659, 0.4554788 ,\n",
      "       0.45721701, 0.45246591, 0.44771481, 0.47042735, 0.46706683,\n",
      "       0.4548994 , 0.45188651, 0.46405393, 0.47645313, 0.46162044,\n",
      "       0.4525818 , 0.45953461, 0.45744878, 0.4560582 , 0.47923425,\n",
      "       0.5047279 , 0.5058867 , 0.50577081, 0.49951329, 0.50125149])]\n",
      "[0.50125149195334, 0.518401750810553]\n",
      "\n"
     ]
    }
   ],
   "source": [
    "#creating the training data set\n",
    "#create the scaled training data set\n",
    "train_data = scaled_data[0:training_data_len,:]\n",
    "#split the data into x_train and y_train data sets\n",
    "x_train = []\n",
    "y_train = []\n",
    "for i in range(60, len(train_data)):\n",
    "    x_train.append(train_data[i-60:i,0])\n",
    "    y_train.append(train_data[i,0])\n",
    "    if i<=61:\n",
    "        print(x_train)\n",
    "        print(y_train)\n",
    "        print()"
   ]
  },
  {
   "cell_type": "code",
   "execution_count": 51,
   "id": "1b91b8a5",
   "metadata": {},
   "outputs": [],
   "source": [
    "#Convert the X_train and Y_train to numpy arrays\n",
    "x_train , y_train = np.array(x_train), np.array(y_train)"
   ]
  },
  {
   "cell_type": "code",
   "execution_count": 52,
   "id": "d352c9ae",
   "metadata": {},
   "outputs": [
    {
     "data": {
      "text/plain": [
       "(1828, 60, 1)"
      ]
     },
     "execution_count": 52,
     "metadata": {},
     "output_type": "execute_result"
    }
   ],
   "source": [
    "#Reshape the data\n",
    "x_train = np.reshape(x_train,(x_train.shape[0],x_train.shape[1],1))\n",
    "x_train.shape"
   ]
  },
  {
   "cell_type": "code",
   "execution_count": 53,
   "id": "ba730fef",
   "metadata": {},
   "outputs": [],
   "source": [
    "#Building the LSTM model\n",
    "high_model = Sequential()\n",
    "high_model.add(LSTM(50, return_sequences=True, input_shape =(x_train.shape[1],1)))\n",
    "high_model.add(LSTM(50, return_sequences=True))\n",
    "high_model.add(LSTM(50, return_sequences=True))\n",
    "high_model.add(LSTM(50, return_sequences=False))\n",
    "high_model.add(Dense(25))\n",
    "high_model.add(Dense(1))"
   ]
  },
  {
   "cell_type": "code",
   "execution_count": 54,
   "id": "9b85e4f0",
   "metadata": {},
   "outputs": [],
   "source": [
    "#compile the Model\n",
    "high_model.compile(optimizer='adam', loss='mean_squared_error')\n"
   ]
  },
  {
   "cell_type": "code",
   "execution_count": 55,
   "id": "331341d3",
   "metadata": {},
   "outputs": [
    {
     "name": "stdout",
     "output_type": "stream",
     "text": [
      "Epoch 1/100\n",
      "58/58 [==============================] - 16s 154ms/step - loss: 0.0188\n",
      "Epoch 2/100\n",
      "58/58 [==============================] - 9s 153ms/step - loss: 0.0030\n",
      "Epoch 3/100\n",
      "58/58 [==============================] - 9s 158ms/step - loss: 0.0029\n",
      "Epoch 4/100\n",
      "58/58 [==============================] - 9s 152ms/step - loss: 0.0026\n",
      "Epoch 5/100\n",
      "58/58 [==============================] - 9s 152ms/step - loss: 0.0027\n",
      "Epoch 6/100\n",
      "58/58 [==============================] - 9s 150ms/step - loss: 0.0023\n",
      "Epoch 7/100\n",
      "58/58 [==============================] - 9s 155ms/step - loss: 0.0019\n",
      "Epoch 8/100\n",
      "58/58 [==============================] - 9s 152ms/step - loss: 0.0021\n",
      "Epoch 9/100\n",
      "58/58 [==============================] - 9s 152ms/step - loss: 0.0014\n",
      "Epoch 10/100\n",
      "58/58 [==============================] - 9s 152ms/step - loss: 0.0015\n",
      "Epoch 11/100\n",
      "58/58 [==============================] - 9s 152ms/step - loss: 0.0011\n",
      "Epoch 12/100\n",
      "58/58 [==============================] - 9s 151ms/step - loss: 0.0010\n",
      "Epoch 13/100\n",
      "58/58 [==============================] - 9s 151ms/step - loss: 9.3629e-04\n",
      "Epoch 14/100\n",
      "58/58 [==============================] - 9s 151ms/step - loss: 9.1623e-04\n",
      "Epoch 15/100\n",
      "58/58 [==============================] - 9s 152ms/step - loss: 8.8902e-04\n",
      "Epoch 16/100\n",
      "58/58 [==============================] - 9s 156ms/step - loss: 8.5077e-04\n",
      "Epoch 17/100\n",
      "58/58 [==============================] - 9s 152ms/step - loss: 8.4853e-04\n",
      "Epoch 18/100\n",
      "58/58 [==============================] - 9s 153ms/step - loss: 8.8437e-04\n",
      "Epoch 19/100\n",
      "58/58 [==============================] - 9s 157ms/step - loss: 7.5566e-04\n",
      "Epoch 20/100\n",
      "58/58 [==============================] - 9s 152ms/step - loss: 7.5416e-04\n",
      "Epoch 21/100\n",
      "58/58 [==============================] - 9s 154ms/step - loss: 6.8809e-04\n",
      "Epoch 22/100\n",
      "58/58 [==============================] - 9s 152ms/step - loss: 6.4322e-04\n",
      "Epoch 23/100\n",
      "58/58 [==============================] - 9s 153ms/step - loss: 7.0911e-04\n",
      "Epoch 24/100\n",
      "58/58 [==============================] - 9s 152ms/step - loss: 5.7505e-04\n",
      "Epoch 25/100\n",
      "58/58 [==============================] - 9s 152ms/step - loss: 5.6782e-04\n",
      "Epoch 26/100\n",
      "58/58 [==============================] - 9s 153ms/step - loss: 5.4004e-04\n",
      "Epoch 27/100\n",
      "58/58 [==============================] - 9s 151ms/step - loss: 5.1822e-04\n",
      "Epoch 28/100\n",
      "58/58 [==============================] - 9s 151ms/step - loss: 4.9003e-04\n",
      "Epoch 29/100\n",
      "58/58 [==============================] - 9s 158ms/step - loss: 5.7908e-04\n",
      "Epoch 30/100\n",
      "58/58 [==============================] - 9s 151ms/step - loss: 5.2333e-04\n",
      "Epoch 31/100\n",
      "58/58 [==============================] - 9s 152ms/step - loss: 5.3046e-04\n",
      "Epoch 32/100\n",
      "58/58 [==============================] - 9s 151ms/step - loss: 4.6374e-04\n",
      "Epoch 33/100\n",
      "58/58 [==============================] - 9s 152ms/step - loss: 5.5305e-04\n",
      "Epoch 34/100\n",
      "58/58 [==============================] - 9s 151ms/step - loss: 4.3773e-04\n",
      "Epoch 35/100\n",
      "58/58 [==============================] - 9s 153ms/step - loss: 4.2779e-04\n",
      "Epoch 36/100\n",
      "58/58 [==============================] - 9s 153ms/step - loss: 4.1866e-04\n",
      "Epoch 37/100\n",
      "58/58 [==============================] - 9s 151ms/step - loss: 4.3053e-04\n",
      "Epoch 38/100\n",
      "58/58 [==============================] - 9s 152ms/step - loss: 4.6701e-04\n",
      "Epoch 39/100\n",
      "58/58 [==============================] - 9s 153ms/step - loss: 5.0242e-04\n",
      "Epoch 40/100\n",
      "58/58 [==============================] - 9s 152ms/step - loss: 4.0539e-04\n",
      "Epoch 41/100\n",
      "58/58 [==============================] - 9s 152ms/step - loss: 4.0645e-04\n",
      "Epoch 42/100\n",
      "58/58 [==============================] - 9s 151ms/step - loss: 5.4964e-04\n",
      "Epoch 43/100\n",
      "58/58 [==============================] - 9s 155ms/step - loss: 3.9535e-04\n",
      "Epoch 44/100\n",
      "58/58 [==============================] - 9s 152ms/step - loss: 3.9079e-04\n",
      "Epoch 45/100\n",
      "58/58 [==============================] - 9s 151ms/step - loss: 4.0405e-04\n",
      "Epoch 46/100\n",
      "58/58 [==============================] - 9s 151ms/step - loss: 4.0575e-04\n",
      "Epoch 47/100\n",
      "58/58 [==============================] - 9s 152ms/step - loss: 4.4550e-04\n",
      "Epoch 48/100\n",
      "58/58 [==============================] - 9s 152ms/step - loss: 4.6799e-04\n",
      "Epoch 49/100\n",
      "58/58 [==============================] - 9s 154ms/step - loss: 5.2825e-04\n",
      "Epoch 50/100\n",
      "58/58 [==============================] - 9s 155ms/step - loss: 4.8224e-04\n",
      "Epoch 51/100\n",
      "58/58 [==============================] - 9s 153ms/step - loss: 5.7076e-04\n",
      "Epoch 52/100\n",
      "58/58 [==============================] - 9s 156ms/step - loss: 5.0145e-04\n",
      "Epoch 53/100\n",
      "58/58 [==============================] - 9s 152ms/step - loss: 3.9366e-04\n",
      "Epoch 54/100\n",
      "58/58 [==============================] - 9s 152ms/step - loss: 4.0134e-04\n",
      "Epoch 55/100\n",
      "58/58 [==============================] - 9s 152ms/step - loss: 4.2136e-04\n",
      "Epoch 56/100\n",
      "58/58 [==============================] - 9s 155ms/step - loss: 4.3737e-04\n",
      "Epoch 57/100\n",
      "58/58 [==============================] - 9s 152ms/step - loss: 4.0489e-04\n",
      "Epoch 58/100\n",
      "58/58 [==============================] - 9s 152ms/step - loss: 4.8068e-04\n",
      "Epoch 59/100\n",
      "58/58 [==============================] - 9s 152ms/step - loss: 3.8753e-04\n",
      "Epoch 60/100\n",
      "58/58 [==============================] - 9s 151ms/step - loss: 5.1070e-04\n",
      "Epoch 61/100\n",
      "58/58 [==============================] - 9s 152ms/step - loss: 4.8429e-04\n",
      "Epoch 62/100\n",
      "58/58 [==============================] - 9s 153ms/step - loss: 4.6892e-04\n",
      "Epoch 63/100\n",
      "58/58 [==============================] - 9s 153ms/step - loss: 4.3109e-04\n",
      "Epoch 64/100\n",
      "58/58 [==============================] - 9s 153ms/step - loss: 3.7996e-04\n",
      "Epoch 65/100\n",
      "58/58 [==============================] - 9s 153ms/step - loss: 4.7947e-04\n",
      "Epoch 66/100\n",
      "58/58 [==============================] - 9s 151ms/step - loss: 4.2398e-04\n",
      "Epoch 67/100\n",
      "58/58 [==============================] - 9s 152ms/step - loss: 4.0282e-04\n",
      "Epoch 68/100\n",
      "58/58 [==============================] - 9s 153ms/step - loss: 4.4013e-04\n",
      "Epoch 69/100\n",
      "58/58 [==============================] - 9s 151ms/step - loss: 3.8764e-04\n",
      "Epoch 70/100\n",
      "58/58 [==============================] - 9s 153ms/step - loss: 4.1837e-04\n",
      "Epoch 71/100\n",
      "58/58 [==============================] - 9s 152ms/step - loss: 3.9826e-04\n",
      "Epoch 72/100\n",
      "58/58 [==============================] - 9s 151ms/step - loss: 3.5764e-04\n",
      "Epoch 73/100\n",
      "58/58 [==============================] - 9s 152ms/step - loss: 4.4802e-04\n",
      "Epoch 74/100\n",
      "58/58 [==============================] - 9s 152ms/step - loss: 3.9499e-04\n",
      "Epoch 75/100\n",
      "58/58 [==============================] - 9s 151ms/step - loss: 4.3172e-04\n",
      "Epoch 76/100\n",
      "58/58 [==============================] - 9s 154ms/step - loss: 3.6640e-04\n",
      "Epoch 77/100\n",
      "58/58 [==============================] - 9s 153ms/step - loss: 3.8112e-04\n",
      "Epoch 78/100\n",
      "58/58 [==============================] - 9s 152ms/step - loss: 3.9451e-04\n",
      "Epoch 79/100\n",
      "58/58 [==============================] - 9s 152ms/step - loss: 3.9982e-04\n",
      "Epoch 80/100\n",
      "58/58 [==============================] - 9s 151ms/step - loss: 4.0590e-04\n",
      "Epoch 81/100\n",
      "58/58 [==============================] - 9s 152ms/step - loss: 4.0561e-04\n",
      "Epoch 82/100\n",
      "58/58 [==============================] - 9s 152ms/step - loss: 5.2541e-04\n",
      "Epoch 83/100\n",
      "58/58 [==============================] - 9s 155ms/step - loss: 3.7481e-04\n",
      "Epoch 84/100\n",
      "58/58 [==============================] - 10s 174ms/step - loss: 3.7999e-04\n",
      "Epoch 85/100\n",
      "58/58 [==============================] - 9s 157ms/step - loss: 3.7523e-04\n",
      "Epoch 86/100\n",
      "58/58 [==============================] - 9s 153ms/step - loss: 3.7455e-04\n",
      "Epoch 87/100\n",
      "58/58 [==============================] - 9s 153ms/step - loss: 4.0640e-04\n",
      "Epoch 88/100\n",
      "58/58 [==============================] - 9s 153ms/step - loss: 3.6415e-04\n",
      "Epoch 89/100\n",
      "58/58 [==============================] - 9s 153ms/step - loss: 3.9108e-04\n",
      "Epoch 90/100\n",
      "58/58 [==============================] - 9s 155ms/step - loss: 4.4814e-04\n",
      "Epoch 91/100\n",
      "58/58 [==============================] - 9s 152ms/step - loss: 3.7394e-04\n",
      "Epoch 92/100\n",
      "58/58 [==============================] - 9s 152ms/step - loss: 3.6394e-04\n",
      "Epoch 93/100\n",
      "58/58 [==============================] - 9s 153ms/step - loss: 3.7955e-04\n",
      "Epoch 94/100\n",
      "58/58 [==============================] - 9s 152ms/step - loss: 3.5843e-04\n",
      "Epoch 95/100\n"
     ]
    },
    {
     "name": "stdout",
     "output_type": "stream",
     "text": [
      "58/58 [==============================] - 9s 153ms/step - loss: 3.8823e-04\n",
      "Epoch 96/100\n",
      "58/58 [==============================] - 9s 152ms/step - loss: 3.5910e-04\n",
      "Epoch 97/100\n",
      "58/58 [==============================] - 9s 154ms/step - loss: 4.3946e-04\n",
      "Epoch 98/100\n",
      "58/58 [==============================] - 9s 153ms/step - loss: 4.5871e-04\n",
      "Epoch 99/100\n",
      "58/58 [==============================] - 9s 152ms/step - loss: 4.7629e-04\n",
      "Epoch 100/100\n",
      "58/58 [==============================] - 9s 155ms/step - loss: 4.1413e-04\n"
     ]
    },
    {
     "data": {
      "text/plain": [
       "<keras.callbacks.History at 0x2535cde8248>"
      ]
     },
     "execution_count": 55,
     "metadata": {},
     "output_type": "execute_result"
    }
   ],
   "source": [
    "#train the model\n",
    "high_model.fit(x_train, y_train, batch_size=32, epochs=EPOCHS)"
   ]
  },
  {
   "cell_type": "code",
   "execution_count": 56,
   "id": "65513be1",
   "metadata": {},
   "outputs": [],
   "source": [
    "#create the testing data set\n",
    "#create a new array containing scaled values from index 1543 to 2003\n",
    "test_data = scaled_data[training_data_len - 60: , :]\n",
    "#create the data sets x_test adn y_test\n",
    "x_test = []\n",
    "y_test = dataset[training_data_len:,:]\n",
    "for i in range(60, len(test_data)):\n",
    "    x_test.append(test_data[i-60:i,0])\n",
    "    \n",
    "    \n"
   ]
  },
  {
   "cell_type": "code",
   "execution_count": 57,
   "id": "923bd5ff",
   "metadata": {},
   "outputs": [],
   "source": [
    "#convert the data to a numpy array\n",
    "x_test = np.array(x_test)"
   ]
  },
  {
   "cell_type": "code",
   "execution_count": 58,
   "id": "91b49ed6",
   "metadata": {},
   "outputs": [],
   "source": [
    "#resahpe the data\n",
    "x_test = np.reshape(x_test,(x_test.shape[0],x_test.shape[1],1))"
   ]
  },
  {
   "cell_type": "code",
   "execution_count": 59,
   "id": "092bd834",
   "metadata": {},
   "outputs": [],
   "source": [
    "#get the models predicted price values\n",
    "predictions = high_model.predict(x_test)\n",
    "predictions = scaler.inverse_transform(predictions)"
   ]
  },
  {
   "cell_type": "code",
   "execution_count": 60,
   "id": "234abe82",
   "metadata": {},
   "outputs": [
    {
     "data": {
      "text/plain": [
       "0.2995097051232548"
      ]
     },
     "execution_count": 60,
     "metadata": {},
     "output_type": "execute_result"
    }
   ],
   "source": [
    "#get the root mean squared error (RMSE)\n",
    "rmse =  np.sqrt(np.mean(predictions - y_test)**2)\n",
    "rmse"
   ]
  },
  {
   "cell_type": "code",
   "execution_count": 61,
   "id": "04aa9435",
   "metadata": {},
   "outputs": [
    {
     "name": "stderr",
     "output_type": "stream",
     "text": [
      "C:\\Users\\Abhishek Rao\\AppData\\Local\\Packages\\PythonSoftwareFoundation.Python.3.7_qbz5n2kfra8p0\\LocalCache\\local-packages\\Python37\\site-packages\\ipykernel_launcher.py:4: SettingWithCopyWarning: \n",
      "A value is trying to be set on a copy of a slice from a DataFrame.\n",
      "Try using .loc[row_indexer,col_indexer] = value instead\n",
      "\n",
      "See the caveats in the documentation: https://pandas.pydata.org/pandas-docs/stable/user_guide/indexing.html#returning-a-view-versus-a-copy\n",
      "  after removing the cwd from sys.path.\n"
     ]
    },
    {
     "data": {
      "image/png": "[encoded data removed]",
      "text/plain": [
       "<Figure size 1152x576 with 1 Axes>"
      ]
     },
     "metadata": {},
     "output_type": "display_data"
    }
   ],
   "source": [
    "#plot the date\n",
    "train = data[:training_data_len]\n",
    "valid = data[training_data_len:]\n",
    "valid['Predictions'] = predictions\n",
    "#visualize the data\n",
    "plt.figure(figsize=(16,8))\n",
    "plt.title('Model')\n",
    "plt.xlabel('Date')\n",
    "plt.ylabel('High Price USD ($)')\n",
    "plt.plot(train['High'])\n",
    "plt.plot(valid[['High', 'Predictions']])\n",
    "plt.legend(['Train', 'Val', 'Predictions'], loc='lower right')\n",
    "plt.show()"
   ]
  },
  {
   "cell_type": "code",
   "execution_count": 62,
   "id": "1c174818",
   "metadata": {},
   "outputs": [
    {
     "data": {
      "text/html": [
       "<div>\n",
       "<style scoped>\n",
       "    .dataframe tbody tr th:only-of-type {\n",
       "        vertical-align: middle;\n",
       "    }\n",
       "\n",
       "    .dataframe tbody tr th {\n",
       "        vertical-align: top;\n",
       "    }\n",
       "\n",
       "    .dataframe thead th {\n",
       "        text-align: right;\n",
       "    }\n",
       "</style>\n",
       "<table border=\"1\" class=\"dataframe\">\n",
       "  <thead>\n",
       "    <tr style=\"text-align: right;\">\n",
       "      <th></th>\n",
       "      <th>High</th>\n",
       "      <th>Predictions</th>\n",
       "    </tr>\n",
       "    <tr>\n",
       "      <th>Date</th>\n",
       "      <th></th>\n",
       "      <th></th>\n",
       "    </tr>\n",
       "  </thead>\n",
       "  <tbody>\n",
       "    <tr>\n",
       "      <th>2020-04-23</th>\n",
       "      <td>5.500000</td>\n",
       "      <td>5.245088</td>\n",
       "    </tr>\n",
       "    <tr>\n",
       "      <th>2020-04-24</th>\n",
       "      <td>5.500000</td>\n",
       "      <td>5.247082</td>\n",
       "    </tr>\n",
       "    <tr>\n",
       "      <th>2020-04-27</th>\n",
       "      <td>5.700000</td>\n",
       "      <td>5.214320</td>\n",
       "    </tr>\n",
       "    <tr>\n",
       "      <th>2020-04-28</th>\n",
       "      <td>5.850000</td>\n",
       "      <td>5.201865</td>\n",
       "    </tr>\n",
       "    <tr>\n",
       "      <th>2020-04-29</th>\n",
       "      <td>5.990000</td>\n",
       "      <td>5.235543</td>\n",
       "    </tr>\n",
       "    <tr>\n",
       "      <th>...</th>\n",
       "      <td>...</td>\n",
       "      <td>...</td>\n",
       "    </tr>\n",
       "    <tr>\n",
       "      <th>2022-03-07</th>\n",
       "      <td>19.400000</td>\n",
       "      <td>20.842379</td>\n",
       "    </tr>\n",
       "    <tr>\n",
       "      <th>2022-03-08</th>\n",
       "      <td>19.500000</td>\n",
       "      <td>20.475056</td>\n",
       "    </tr>\n",
       "    <tr>\n",
       "      <th>2022-03-09</th>\n",
       "      <td>19.450001</td>\n",
       "      <td>20.072060</td>\n",
       "    </tr>\n",
       "    <tr>\n",
       "      <th>2022-03-10</th>\n",
       "      <td>20.500000</td>\n",
       "      <td>19.796762</td>\n",
       "    </tr>\n",
       "    <tr>\n",
       "      <th>2022-03-11</th>\n",
       "      <td>20.350000</td>\n",
       "      <td>19.899004</td>\n",
       "    </tr>\n",
       "  </tbody>\n",
       "</table>\n",
       "<p>472 rows × 2 columns</p>\n",
       "</div>"
      ],
      "text/plain": [
       "                 High  Predictions\n",
       "Date                              \n",
       "2020-04-23   5.500000     5.245088\n",
       "2020-04-24   5.500000     5.247082\n",
       "2020-04-27   5.700000     5.214320\n",
       "2020-04-28   5.850000     5.201865\n",
       "2020-04-29   5.990000     5.235543\n",
       "...               ...          ...\n",
       "2022-03-07  19.400000    20.842379\n",
       "2022-03-08  19.500000    20.475056\n",
       "2022-03-09  19.450001    20.072060\n",
       "2022-03-10  20.500000    19.796762\n",
       "2022-03-11  20.350000    19.899004\n",
       "\n",
       "[472 rows x 2 columns]"
      ]
     },
     "execution_count": 62,
     "metadata": {},
     "output_type": "execute_result"
    }
   ],
   "source": [
    "#show the valid and predicted prices\n",
    "valid"
   ]
  },
  {
   "cell_type": "code",
   "execution_count": 63,
   "id": "47c7456f",
   "metadata": {},
   "outputs": [
    {
     "name": "stdout",
     "output_type": "stream",
     "text": [
      "[[19.985027]]\n"
     ]
    }
   ],
   "source": [
    "#get the Quote\n",
    "stock_quote = web.DataReader(STOCK, data_source = 'yahoo', start=START_DATE, end=END_DATE)\n",
    "#create new data frame\n",
    "new_df = stock_quote.filter(['High'])\n",
    "#get the last 60 days closing price values and convert the dataframe to an array\n",
    "last_60_days = new_df[-60:].values\n",
    "#scale the data to be values between 0 and 1\n",
    "last_60_days_scaled = scaler.fit_transform(last_60_days)\n",
    "#create the empty list\n",
    "x_test = []\n",
    "#append the past 60 days\n",
    "x_test.append(last_60_days_scaled)\n",
    "#convert the x_test data set to a numpy array\n",
    "x_test = np.array(x_test)\n",
    "x_test = np.reshape(x_test,(x_test.shape[0],x_test.shape[1],1))\n",
    "#get the predicted scaled price\n",
    "high_pred_price = high_model.predict(x_test)\n",
    "#undo the scaling\n",
    "high_pred_price = scaler.inverse_transform(high_pred_price)\n",
    "print(high_pred_price)\n"
   ]
  },
  {
   "cell_type": "code",
   "execution_count": 64,
   "id": "e59ebc11",
   "metadata": {},
   "outputs": [
    {
     "name": "stdout",
     "output_type": "stream",
     "text": [
      "Date\n",
      "2012-08-10    14.500000\n",
      "2012-08-13    15.225000\n",
      "2012-08-14    15.975000\n",
      "2012-08-16    16.762501\n",
      "2012-08-17    17.600000\n",
      "                ...    \n",
      "2022-03-07    19.400000\n",
      "2022-03-08    19.500000\n",
      "2022-03-09    19.450001\n",
      "2022-03-10    20.500000\n",
      "2022-03-11    20.350000\n",
      "Name: High, Length: 2360, dtype: float64\n"
     ]
    }
   ],
   "source": [
    "stock_quote2 = web.DataReader(STOCK, data_source = 'yahoo', start=START_DATE, end=PREDICT_DATE)\n",
    "print(stock_quote2['High'])"
   ]
  },
  {
   "cell_type": "code",
   "execution_count": 65,
   "id": "dcfc0012",
   "metadata": {},
   "outputs": [],
   "source": [
    "high_model.save(high_model_path)\n",
    "loaded_high_model = load_model(high_model_path)\n"
   ]
  },
  {
   "cell_type": "code",
   "execution_count": 66,
   "id": "cbdc5c74",
   "metadata": {},
   "outputs": [
    {
     "name": "stdout",
     "output_type": "stream",
     "text": [
      "Date\n",
      "2012-08-10    14.500000\n",
      "2012-08-13    15.225000\n",
      "2012-08-14    15.975000\n",
      "2012-08-16    16.762501\n",
      "2012-08-17    17.600000\n",
      "                ...    \n",
      "2022-03-07    19.400000\n",
      "2022-03-08    19.500000\n",
      "2022-03-09    19.450001\n",
      "2022-03-10    20.500000\n",
      "2022-03-11    20.350000\n",
      "Name: High, Length: 2360, dtype: float64\n"
     ]
    }
   ],
   "source": [
    "stock_quote2 = web.DataReader(STOCK, data_source = 'yahoo', start=START_DATE, end=PREDICT_DATE)\n",
    "print(stock_quote2['High'])"
   ]
  },
  {
   "cell_type": "code",
   "execution_count": 67,
   "id": "efb16e09",
   "metadata": {},
   "outputs": [],
   "source": [
    "import winsound\n",
    "frequency = 2500  # Set Frequency To 2500 Hertz\n",
    "duration = 1000  # Set Duration To 1000 ms == 1 second\n",
    "winsound.Beep(frequency, duration)"
   ]
  },
  {
   "cell_type": "code",
   "execution_count": 68,
   "id": "8fe8f664",
   "metadata": {},
   "outputs": [
    {
     "data": {
      "image/png": "[encoded data removed]",
      "text/plain": [
       "<Figure size 1152x576 with 1 Axes>"
      ]
     },
     "metadata": {},
     "output_type": "display_data"
    }
   ],
   "source": [
    "#Visualing the low price history\n",
    "plt.figure(figsize=(16,8))\n",
    "plt.title('Low Price History')\n",
    "plt.plot(df['Low'])\n",
    "plt.xlabel('Date', fontsize=18)\n",
    "plt.ylabel('Low Price USD($)', fontsize=18)\n",
    "plt.show()"
   ]
  },
  {
   "cell_type": "code",
   "execution_count": 69,
   "id": "430aeaef",
   "metadata": {},
   "outputs": [
    {
     "data": {
      "text/plain": [
       "1888"
      ]
     },
     "execution_count": 69,
     "metadata": {},
     "output_type": "execute_result"
    }
   ],
   "source": [
    "#Create a new data\n",
    "data = df.filter(['Low'])\n",
    "#convert the dataframe to a numpy array\n",
    "dataset = data.values\n",
    "#get the number of rows to train the model on\n",
    "training_data_len = math.ceil(len(dataset)*.8)\n",
    "training_data_len"
   ]
  },
  {
   "cell_type": "code",
   "execution_count": 70,
   "id": "259c8009",
   "metadata": {},
   "outputs": [
    {
     "data": {
      "text/plain": [
       "array([[0.10684289],\n",
       "       [0.1208004 ],\n",
       "       [0.12821147],\n",
       "       ...,\n",
       "       [0.15513835],\n",
       "       [0.16304348],\n",
       "       [0.16403163]])"
      ]
     },
     "execution_count": 70,
     "metadata": {},
     "output_type": "execute_result"
    }
   ],
   "source": [
    "#Scale the data\n",
    "scaler = MinMaxScaler(feature_range=(0,1))\n",
    "scaled_data = scaler.fit_transform(dataset)\n",
    "\n",
    "scaled_data"
   ]
  },
  {
   "cell_type": "code",
   "execution_count": 71,
   "id": "900063c9",
   "metadata": {},
   "outputs": [
    {
     "name": "stdout",
     "output_type": "stream",
     "text": [
      "[array([0.10684289, 0.1208004 , 0.12821147, 0.13599309, 0.14426878,\n",
      "       0.15192688, 0.16193183, 0.1714427 , 0.18144763, 0.18292985,\n",
      "       0.20503953, 0.19664032, 0.23221345, 0.26049901, 0.27173914,\n",
      "       0.27667985, 0.27161561, 0.26926878, 0.25951088, 0.30385376,\n",
      "       0.31274706, 0.31632907, 0.31756425, 0.31645259, 0.31682313,\n",
      "       0.32028162, 0.32485179, 0.32497531, 0.34609686, 0.36684784,\n",
      "       0.39525693, 0.42317196, 0.41020259, 0.41958995, 0.42045455,\n",
      "       0.45034587, 0.47183796, 0.46689725, 0.47863144, 0.45639824,\n",
      "       0.46566207, 0.4693676 , 0.47838439, 0.46195654, 0.46257412,\n",
      "       0.46195654, 0.47406126, 0.47554349, 0.47430831, 0.49160081,\n",
      "       0.47924903, 0.48023715, 0.48666009, 0.4888834 , 0.48913045,\n",
      "       0.49098322, 0.51852767, 0.52519766, 0.51679843, 0.52877967])]\n",
      "[0.5153162361511784]\n",
      "\n",
      "[array([0.10684289, 0.1208004 , 0.12821147, 0.13599309, 0.14426878,\n",
      "       0.15192688, 0.16193183, 0.1714427 , 0.18144763, 0.18292985,\n",
      "       0.20503953, 0.19664032, 0.23221345, 0.26049901, 0.27173914,\n",
      "       0.27667985, 0.27161561, 0.26926878, 0.25951088, 0.30385376,\n",
      "       0.31274706, 0.31632907, 0.31756425, 0.31645259, 0.31682313,\n",
      "       0.32028162, 0.32485179, 0.32497531, 0.34609686, 0.36684784,\n",
      "       0.39525693, 0.42317196, 0.41020259, 0.41958995, 0.42045455,\n",
      "       0.45034587, 0.47183796, 0.46689725, 0.47863144, 0.45639824,\n",
      "       0.46566207, 0.4693676 , 0.47838439, 0.46195654, 0.46257412,\n",
      "       0.46195654, 0.47406126, 0.47554349, 0.47430831, 0.49160081,\n",
      "       0.47924903, 0.48023715, 0.48666009, 0.4888834 , 0.48913045,\n",
      "       0.49098322, 0.51852767, 0.52519766, 0.51679843, 0.52877967]), array([0.1208004 , 0.12821147, 0.13599309, 0.14426878, 0.15192688,\n",
      "       0.16193183, 0.1714427 , 0.18144763, 0.18292985, 0.20503953,\n",
      "       0.19664032, 0.23221345, 0.26049901, 0.27173914, 0.27667985,\n",
      "       0.27161561, 0.26926878, 0.25951088, 0.30385376, 0.31274706,\n",
      "       0.31632907, 0.31756425, 0.31645259, 0.31682313, 0.32028162,\n",
      "       0.32485179, 0.32497531, 0.34609686, 0.36684784, 0.39525693,\n",
      "       0.42317196, 0.41020259, 0.41958995, 0.42045455, 0.45034587,\n",
      "       0.47183796, 0.46689725, 0.47863144, 0.45639824, 0.46566207,\n",
      "       0.4693676 , 0.47838439, 0.46195654, 0.46257412, 0.46195654,\n",
      "       0.47406126, 0.47554349, 0.47430831, 0.49160081, 0.47924903,\n",
      "       0.48023715, 0.48666009, 0.4888834 , 0.48913045, 0.49098322,\n",
      "       0.51852767, 0.52519766, 0.51679843, 0.52877967, 0.51531624])]\n",
      "[0.5153162361511784, 0.5533597004814208]\n",
      "\n"
     ]
    }
   ],
   "source": [
    "#creating the training data set\n",
    "#create the scaled training data set\n",
    "train_data = scaled_data[0:training_data_len,:]\n",
    "#split the data into x_train and y_train data sets\n",
    "x_train = []\n",
    "y_train = []\n",
    "for i in range(60, len(train_data)):\n",
    "    x_train.append(train_data[i-60:i,0])\n",
    "    y_train.append(train_data[i,0])\n",
    "    if i<=61:\n",
    "        print(x_train)\n",
    "        print(y_train)\n",
    "        print()"
   ]
  },
  {
   "cell_type": "code",
   "execution_count": 72,
   "id": "25b6e36b",
   "metadata": {},
   "outputs": [],
   "source": [
    "#Convert the X_train and Y_train to numpy arrays\n",
    "x_train , y_train = np.array(x_train), np.array(y_train)"
   ]
  },
  {
   "cell_type": "code",
   "execution_count": 73,
   "id": "cf8adf2a",
   "metadata": {},
   "outputs": [
    {
     "data": {
      "text/plain": [
       "(1828, 60, 1)"
      ]
     },
     "execution_count": 73,
     "metadata": {},
     "output_type": "execute_result"
    }
   ],
   "source": [
    "#Reshape the data\n",
    "x_train = np.reshape(x_train,(x_train.shape[0],x_train.shape[1],1))\n",
    "x_train.shape"
   ]
  },
  {
   "cell_type": "code",
   "execution_count": 74,
   "id": "de1bc0cf",
   "metadata": {},
   "outputs": [],
   "source": [
    "#Building the LSTM model\n",
    "low_model = Sequential()\n",
    "low_model.add(LSTM(50, return_sequences=True, input_shape =(x_train.shape[1],1)))\n",
    "low_model.add(LSTM(50, return_sequences=True))\n",
    "low_model.add(LSTM(50, return_sequences=True))\n",
    "low_model.add(LSTM(50, return_sequences=False))\n",
    "low_model.add(Dense(25))\n",
    "low_model.add(Dense(1))"
   ]
  },
  {
   "cell_type": "code",
   "execution_count": 75,
   "id": "f06c22e4",
   "metadata": {},
   "outputs": [],
   "source": [
    "#compile the Model\n",
    "low_model.compile(optimizer='adam', loss='mean_squared_error')"
   ]
  },
  {
   "cell_type": "code",
   "execution_count": 76,
   "id": "55574e3b",
   "metadata": {},
   "outputs": [
    {
     "name": "stdout",
     "output_type": "stream",
     "text": [
      "Epoch 1/100\n",
      "58/58 [==============================] - 17s 152ms/step - loss: 0.0186\n",
      "Epoch 2/100\n",
      "58/58 [==============================] - 9s 153ms/step - loss: 0.0033\n",
      "Epoch 3/100\n",
      "58/58 [==============================] - 9s 152ms/step - loss: 0.0031\n",
      "Epoch 4/100\n",
      "58/58 [==============================] - 9s 151ms/step - loss: 0.0027\n",
      "Epoch 5/100\n",
      "58/58 [==============================] - 9s 151ms/step - loss: 0.0027\n",
      "Epoch 6/100\n",
      "58/58 [==============================] - 9s 151ms/step - loss: 0.0027\n",
      "Epoch 7/100\n",
      "58/58 [==============================] - 9s 151ms/step - loss: 0.0021\n",
      "Epoch 8/100\n",
      "58/58 [==============================] - 9s 154ms/step - loss: 0.0018\n",
      "Epoch 9/100\n",
      "58/58 [==============================] - 9s 151ms/step - loss: 0.0015\n",
      "Epoch 10/100\n",
      "58/58 [==============================] - 9s 161ms/step - loss: 0.0014\n",
      "Epoch 11/100\n",
      "58/58 [==============================] - 9s 151ms/step - loss: 0.0012\n",
      "Epoch 12/100\n",
      "58/58 [==============================] - 9s 160ms/step - loss: 0.0016\n",
      "Epoch 13/100\n",
      "58/58 [==============================] - 9s 162ms/step - loss: 0.0010\n",
      "Epoch 14/100\n",
      "58/58 [==============================] - 9s 152ms/step - loss: 0.0010\n",
      "Epoch 15/100\n",
      "58/58 [==============================] - 9s 155ms/step - loss: 0.0011\n",
      "Epoch 16/100\n",
      "58/58 [==============================] - 9s 155ms/step - loss: 9.0560e-04\n",
      "Epoch 17/100\n",
      "58/58 [==============================] - 9s 153ms/step - loss: 8.2862e-04\n",
      "Epoch 18/100\n",
      "58/58 [==============================] - 9s 158ms/step - loss: 7.4568e-04\n",
      "Epoch 19/100\n",
      "58/58 [==============================] - 9s 152ms/step - loss: 7.4842e-04\n",
      "Epoch 20/100\n",
      "58/58 [==============================] - 9s 154ms/step - loss: 8.7563e-04\n",
      "Epoch 21/100\n",
      "58/58 [==============================] - 9s 153ms/step - loss: 6.9405e-04\n",
      "Epoch 22/100\n",
      "58/58 [==============================] - 9s 154ms/step - loss: 7.2167e-04\n",
      "Epoch 23/100\n",
      "58/58 [==============================] - 9s 154ms/step - loss: 7.0256e-04\n",
      "Epoch 24/100\n",
      "58/58 [==============================] - 9s 153ms/step - loss: 6.2600e-04\n",
      "Epoch 25/100\n",
      "58/58 [==============================] - 9s 151ms/step - loss: 5.7268e-04\n",
      "Epoch 26/100\n",
      "58/58 [==============================] - 9s 151ms/step - loss: 7.9846e-04\n",
      "Epoch 27/100\n",
      "58/58 [==============================] - 9s 152ms/step - loss: 5.9379e-04\n",
      "Epoch 28/100\n",
      "58/58 [==============================] - 9s 152ms/step - loss: 8.0195e-04\n",
      "Epoch 29/100\n",
      "58/58 [==============================] - 9s 153ms/step - loss: 6.8296e-04\n",
      "Epoch 30/100\n",
      "58/58 [==============================] - 9s 153ms/step - loss: 5.1184e-04\n",
      "Epoch 31/100\n",
      "58/58 [==============================] - 9s 157ms/step - loss: 6.3749e-04\n",
      "Epoch 32/100\n",
      "58/58 [==============================] - 9s 152ms/step - loss: 5.8858e-04\n",
      "Epoch 33/100\n",
      "58/58 [==============================] - 9s 151ms/step - loss: 4.6717e-04\n",
      "Epoch 34/100\n",
      "58/58 [==============================] - 9s 152ms/step - loss: 4.7798e-04\n",
      "Epoch 35/100\n",
      "58/58 [==============================] - 9s 154ms/step - loss: 4.7109e-04\n",
      "Epoch 36/100\n",
      "58/58 [==============================] - 9s 151ms/step - loss: 4.8631e-04\n",
      "Epoch 37/100\n",
      "58/58 [==============================] - 9s 151ms/step - loss: 4.6040e-04\n",
      "Epoch 38/100\n",
      "58/58 [==============================] - 9s 152ms/step - loss: 5.8280e-04\n",
      "Epoch 39/100\n",
      "58/58 [==============================] - 9s 152ms/step - loss: 5.7831e-04\n",
      "Epoch 40/100\n",
      "58/58 [==============================] - 9s 152ms/step - loss: 4.5518e-04\n",
      "Epoch 41/100\n",
      "58/58 [==============================] - 9s 152ms/step - loss: 4.5127e-04\n",
      "Epoch 42/100\n",
      "58/58 [==============================] - 9s 153ms/step - loss: 4.3463e-04\n",
      "Epoch 43/100\n",
      "58/58 [==============================] - 9s 153ms/step - loss: 5.2861e-04\n",
      "Epoch 44/100\n",
      "58/58 [==============================] - 9s 152ms/step - loss: 4.5594e-04\n",
      "Epoch 45/100\n",
      "58/58 [==============================] - 9s 153ms/step - loss: 4.4920e-04\n",
      "Epoch 46/100\n",
      "58/58 [==============================] - 9s 152ms/step - loss: 4.8533e-04\n",
      "Epoch 47/100\n",
      "58/58 [==============================] - 9s 153ms/step - loss: 4.4747e-04\n",
      "Epoch 48/100\n",
      "58/58 [==============================] - 9s 153ms/step - loss: 4.8806e-04\n",
      "Epoch 49/100\n",
      "58/58 [==============================] - 9s 155ms/step - loss: 4.6158e-04\n",
      "Epoch 50/100\n",
      "58/58 [==============================] - 9s 153ms/step - loss: 4.3081e-04\n",
      "Epoch 51/100\n",
      "58/58 [==============================] - 9s 153ms/step - loss: 4.4878e-04\n",
      "Epoch 52/100\n",
      "58/58 [==============================] - 9s 156ms/step - loss: 4.2027e-04\n",
      "Epoch 53/100\n",
      "58/58 [==============================] - 9s 151ms/step - loss: 4.8636e-04\n",
      "Epoch 54/100\n",
      "58/58 [==============================] - 9s 152ms/step - loss: 5.0378e-04\n",
      "Epoch 55/100\n",
      "58/58 [==============================] - 9s 153ms/step - loss: 4.6314e-04\n",
      "Epoch 56/100\n",
      "58/58 [==============================] - 9s 153ms/step - loss: 4.4542e-04\n",
      "Epoch 57/100\n",
      "58/58 [==============================] - 9s 154ms/step - loss: 4.1115e-04\n",
      "Epoch 58/100\n",
      "58/58 [==============================] - 9s 151ms/step - loss: 4.1770e-04\n",
      "Epoch 59/100\n",
      "58/58 [==============================] - 9s 158ms/step - loss: 4.7782e-04\n",
      "Epoch 60/100\n",
      "58/58 [==============================] - 9s 150ms/step - loss: 4.3204e-04\n",
      "Epoch 61/100\n",
      "58/58 [==============================] - 9s 151ms/step - loss: 3.9489e-04\n",
      "Epoch 62/100\n",
      "58/58 [==============================] - 9s 154ms/step - loss: 4.3690e-04\n",
      "Epoch 63/100\n",
      "58/58 [==============================] - 9s 155ms/step - loss: 4.3027e-04\n",
      "Epoch 64/100\n",
      "58/58 [==============================] - 9s 151ms/step - loss: 4.2342e-04\n",
      "Epoch 65/100\n",
      "58/58 [==============================] - 9s 151ms/step - loss: 4.8142e-04\n",
      "Epoch 66/100\n",
      "58/58 [==============================] - 9s 151ms/step - loss: 4.3246e-04\n",
      "Epoch 67/100\n",
      "58/58 [==============================] - 9s 150ms/step - loss: 4.3324e-04\n",
      "Epoch 68/100\n",
      "58/58 [==============================] - 9s 150ms/step - loss: 3.9451e-04\n",
      "Epoch 69/100\n",
      "58/58 [==============================] - 9s 152ms/step - loss: 7.5398e-04\n",
      "Epoch 70/100\n",
      "58/58 [==============================] - 9s 151ms/step - loss: 5.0002e-04\n",
      "Epoch 71/100\n",
      "58/58 [==============================] - 9s 153ms/step - loss: 3.9424e-04\n",
      "Epoch 72/100\n",
      "58/58 [==============================] - 9s 151ms/step - loss: 4.1655e-04\n",
      "Epoch 73/100\n",
      "58/58 [==============================] - 9s 151ms/step - loss: 5.9879e-04\n",
      "Epoch 74/100\n",
      "58/58 [==============================] - 9s 151ms/step - loss: 5.5058e-04\n",
      "Epoch 75/100\n",
      "58/58 [==============================] - 9s 151ms/step - loss: 4.3783e-04\n",
      "Epoch 76/100\n",
      "58/58 [==============================] - 9s 155ms/step - loss: 4.0050e-04\n",
      "Epoch 77/100\n",
      "58/58 [==============================] - 9s 150ms/step - loss: 4.1419e-04\n",
      "Epoch 78/100\n",
      "58/58 [==============================] - 9s 151ms/step - loss: 4.0963e-04\n",
      "Epoch 79/100\n",
      "58/58 [==============================] - 9s 151ms/step - loss: 4.0194e-04\n",
      "Epoch 80/100\n",
      "58/58 [==============================] - 9s 154ms/step - loss: 4.2753e-04\n",
      "Epoch 81/100\n",
      "58/58 [==============================] - 9s 151ms/step - loss: 4.3480e-04\n",
      "Epoch 82/100\n",
      "58/58 [==============================] - 9s 151ms/step - loss: 4.2094e-04\n",
      "Epoch 83/100\n",
      "58/58 [==============================] - 9s 157ms/step - loss: 4.2627e-04\n",
      "Epoch 84/100\n",
      "58/58 [==============================] - 9s 152ms/step - loss: 5.4886e-04\n",
      "Epoch 85/100\n",
      "58/58 [==============================] - 9s 156ms/step - loss: 4.6030e-04\n",
      "Epoch 86/100\n",
      "58/58 [==============================] - 9s 157ms/step - loss: 4.4385e-04\n",
      "Epoch 87/100\n",
      "58/58 [==============================] - 9s 150ms/step - loss: 4.7721e-04\n",
      "Epoch 88/100\n",
      "58/58 [==============================] - 9s 151ms/step - loss: 4.4106e-04\n",
      "Epoch 89/100\n",
      "58/58 [==============================] - 9s 154ms/step - loss: 4.0088e-04\n",
      "Epoch 90/100\n",
      "58/58 [==============================] - 9s 152ms/step - loss: 4.7360e-04\n",
      "Epoch 91/100\n",
      "58/58 [==============================] - 9s 151ms/step - loss: 4.1445e-04\n",
      "Epoch 92/100\n",
      "58/58 [==============================] - 9s 151ms/step - loss: 4.2455e-04\n",
      "Epoch 93/100\n",
      "58/58 [==============================] - 9s 151ms/step - loss: 5.1299e-04\n",
      "Epoch 94/100\n",
      "58/58 [==============================] - 9s 152ms/step - loss: 4.1501e-04\n",
      "Epoch 95/100\n",
      "58/58 [==============================] - 9s 152ms/step - loss: 3.8545e-04\n"
     ]
    },
    {
     "name": "stdout",
     "output_type": "stream",
     "text": [
      "Epoch 96/100\n",
      "58/58 [==============================] - 9s 153ms/step - loss: 3.7987e-04\n",
      "Epoch 97/100\n",
      "58/58 [==============================] - 9s 152ms/step - loss: 3.8805e-04\n",
      "Epoch 98/100\n",
      "58/58 [==============================] - 9s 152ms/step - loss: 4.5255e-04\n",
      "Epoch 99/100\n",
      "58/58 [==============================] - 9s 153ms/step - loss: 4.2070e-04\n",
      "Epoch 100/100\n",
      "58/58 [==============================] - 9s 152ms/step - loss: 4.2967e-04\n"
     ]
    },
    {
     "data": {
      "text/plain": [
       "<keras.callbacks.History at 0x25362206bc8>"
      ]
     },
     "execution_count": 76,
     "metadata": {},
     "output_type": "execute_result"
    }
   ],
   "source": [
    "#train the model\n",
    "low_model.fit(x_train, y_train, batch_size=32, epochs=EPOCHS)"
   ]
  },
  {
   "cell_type": "code",
   "execution_count": 77,
   "id": "342e764d",
   "metadata": {},
   "outputs": [],
   "source": [
    "#create the testing data set\n",
    "#create a new array containing scaled values from index 1543 to 2003\n",
    "test_data = scaled_data[training_data_len - 60: , :]\n",
    "#create the data sets x_test adn y_test\n",
    "x_test = []\n",
    "y_test = dataset[training_data_len:,:]\n",
    "for i in range(60, len(test_data)):\n",
    "    x_test.append(test_data[i-60:i,0])\n",
    "    \n",
    "    \n"
   ]
  },
  {
   "cell_type": "code",
   "execution_count": 78,
   "id": "4cb0c323",
   "metadata": {},
   "outputs": [],
   "source": [
    "#convert the data to a numpy array\n",
    "x_test = np.array(x_test)"
   ]
  },
  {
   "cell_type": "code",
   "execution_count": 79,
   "id": "dccc6a4d",
   "metadata": {},
   "outputs": [],
   "source": [
    "#resahpe the data\n",
    "x_test = np.reshape(x_test,(x_test.shape[0],x_test.shape[1],1))"
   ]
  },
  {
   "cell_type": "code",
   "execution_count": 80,
   "id": "4262e03a",
   "metadata": {},
   "outputs": [],
   "source": [
    "#get the models predicted price values\n",
    "predictions = open_model.predict(x_test)\n",
    "predictions = scaler.inverse_transform(predictions)"
   ]
  },
  {
   "cell_type": "code",
   "execution_count": 81,
   "id": "1ccfe0e8",
   "metadata": {},
   "outputs": [
    {
     "data": {
      "text/plain": [
       "0.2608788255917824"
      ]
     },
     "execution_count": 81,
     "metadata": {},
     "output_type": "execute_result"
    }
   ],
   "source": [
    "#get the root mean squared error (RMSE)\n",
    "rmse =  np.sqrt(np.mean(predictions - y_test)**2)\n",
    "rmse"
   ]
  },
  {
   "cell_type": "code",
   "execution_count": 82,
   "id": "e9106bb6",
   "metadata": {},
   "outputs": [
    {
     "name": "stderr",
     "output_type": "stream",
     "text": [
      "C:\\Users\\Abhishek Rao\\AppData\\Local\\Packages\\PythonSoftwareFoundation.Python.3.7_qbz5n2kfra8p0\\LocalCache\\local-packages\\Python37\\site-packages\\ipykernel_launcher.py:4: SettingWithCopyWarning: \n",
      "A value is trying to be set on a copy of a slice from a DataFrame.\n",
      "Try using .loc[row_indexer,col_indexer] = value instead\n",
      "\n",
      "See the caveats in the documentation: https://pandas.pydata.org/pandas-docs/stable/user_guide/indexing.html#returning-a-view-versus-a-copy\n",
      "  after removing the cwd from sys.path.\n"
     ]
    },
    {
     "data": {
      "image/png": "[encoded data removed]",
      "text/plain": [
       "<Figure size 1152x576 with 1 Axes>"
      ]
     },
     "metadata": {},
     "output_type": "display_data"
    }
   ],
   "source": [
    "#plot the date\n",
    "train = data[:training_data_len]\n",
    "valid = data[training_data_len:]\n",
    "valid['Predictions'] = predictions\n",
    "#visualize the data\n",
    "plt.figure(figsize=(16,8))\n",
    "plt.title('Model')\n",
    "plt.xlabel('Date')\n",
    "plt.ylabel('Low Price USD ($)')\n",
    "plt.plot(train['Low'])\n",
    "plt.plot(valid[['Low', 'Predictions']])\n",
    "plt.legend(['Train', 'Val', 'Predictions'], loc='lower right')\n",
    "plt.show()"
   ]
  },
  {
   "cell_type": "code",
   "execution_count": 83,
   "id": "4d12932d",
   "metadata": {},
   "outputs": [
    {
     "data": {
      "text/html": [
       "<div>\n",
       "<style scoped>\n",
       "    .dataframe tbody tr th:only-of-type {\n",
       "        vertical-align: middle;\n",
       "    }\n",
       "\n",
       "    .dataframe tbody tr th {\n",
       "        vertical-align: top;\n",
       "    }\n",
       "\n",
       "    .dataframe thead th {\n",
       "        text-align: right;\n",
       "    }\n",
       "</style>\n",
       "<table border=\"1\" class=\"dataframe\">\n",
       "  <thead>\n",
       "    <tr style=\"text-align: right;\">\n",
       "      <th></th>\n",
       "      <th>Low</th>\n",
       "      <th>Predictions</th>\n",
       "    </tr>\n",
       "    <tr>\n",
       "      <th>Date</th>\n",
       "      <th></th>\n",
       "      <th></th>\n",
       "    </tr>\n",
       "  </thead>\n",
       "  <tbody>\n",
       "    <tr>\n",
       "      <th>2020-04-23</th>\n",
       "      <td>5.200000</td>\n",
       "      <td>5.425401</td>\n",
       "    </tr>\n",
       "    <tr>\n",
       "      <th>2020-04-24</th>\n",
       "      <td>5.500000</td>\n",
       "      <td>5.515337</td>\n",
       "    </tr>\n",
       "    <tr>\n",
       "      <th>2020-04-27</th>\n",
       "      <td>5.500000</td>\n",
       "      <td>5.569737</td>\n",
       "    </tr>\n",
       "    <tr>\n",
       "      <th>2020-04-28</th>\n",
       "      <td>5.250000</td>\n",
       "      <td>5.617374</td>\n",
       "    </tr>\n",
       "    <tr>\n",
       "      <th>2020-04-29</th>\n",
       "      <td>5.400000</td>\n",
       "      <td>5.644252</td>\n",
       "    </tr>\n",
       "    <tr>\n",
       "      <th>...</th>\n",
       "      <td>...</td>\n",
       "      <td>...</td>\n",
       "    </tr>\n",
       "    <tr>\n",
       "      <th>2022-03-07</th>\n",
       "      <td>18.350000</td>\n",
       "      <td>19.153685</td>\n",
       "    </tr>\n",
       "    <tr>\n",
       "      <th>2022-03-08</th>\n",
       "      <td>18.650000</td>\n",
       "      <td>19.118549</td>\n",
       "    </tr>\n",
       "    <tr>\n",
       "      <th>2022-03-09</th>\n",
       "      <td>18.700001</td>\n",
       "      <td>19.075573</td>\n",
       "    </tr>\n",
       "    <tr>\n",
       "      <th>2022-03-10</th>\n",
       "      <td>19.500000</td>\n",
       "      <td>19.067902</td>\n",
       "    </tr>\n",
       "    <tr>\n",
       "      <th>2022-03-11</th>\n",
       "      <td>19.600000</td>\n",
       "      <td>19.243341</td>\n",
       "    </tr>\n",
       "  </tbody>\n",
       "</table>\n",
       "<p>472 rows × 2 columns</p>\n",
       "</div>"
      ],
      "text/plain": [
       "                  Low  Predictions\n",
       "Date                              \n",
       "2020-04-23   5.200000     5.425401\n",
       "2020-04-24   5.500000     5.515337\n",
       "2020-04-27   5.500000     5.569737\n",
       "2020-04-28   5.250000     5.617374\n",
       "2020-04-29   5.400000     5.644252\n",
       "...               ...          ...\n",
       "2022-03-07  18.350000    19.153685\n",
       "2022-03-08  18.650000    19.118549\n",
       "2022-03-09  18.700001    19.075573\n",
       "2022-03-10  19.500000    19.067902\n",
       "2022-03-11  19.600000    19.243341\n",
       "\n",
       "[472 rows x 2 columns]"
      ]
     },
     "execution_count": 83,
     "metadata": {},
     "output_type": "execute_result"
    }
   ],
   "source": [
    "#show the valid and predicted prices\n",
    "valid"
   ]
  },
  {
   "cell_type": "code",
   "execution_count": 84,
   "id": "1dee5715",
   "metadata": {},
   "outputs": [
    {
     "name": "stdout",
     "output_type": "stream",
     "text": [
      "[[19.22954]]\n"
     ]
    }
   ],
   "source": [
    "#get the Quote\n",
    "stock_quote = web.DataReader(STOCK, data_source = 'yahoo', start=START_DATE, end=END_DATE)\n",
    "#create new data frame\n",
    "new_df = stock_quote.filter(['Low'])\n",
    "#get the last 60 days closing price values and convert the dataframe to an array\n",
    "last_60_days = new_df[-60:].values\n",
    "#scale the data to be values between 0 and 1\n",
    "last_60_days_scaled = scaler.fit_transform(last_60_days)\n",
    "#create the empty list\n",
    "x_test = []\n",
    "#append the past 60 days\n",
    "x_test.append(last_60_days_scaled)\n",
    "#convert the x_test data set to a numpy array\n",
    "x_test = np.array(x_test)\n",
    "x_test = np.reshape(x_test,(x_test.shape[0],x_test.shape[1],1))\n",
    "#get the predicted scaled price\n",
    "low_pred_price = low_model.predict(x_test)\n",
    "#undo the scaling\n",
    "low_pred_price = scaler.inverse_transform(low_pred_price)\n",
    "print(low_pred_price)\n"
   ]
  },
  {
   "cell_type": "code",
   "execution_count": 85,
   "id": "448151a7",
   "metadata": {},
   "outputs": [
    {
     "name": "stdout",
     "output_type": "stream",
     "text": [
      "Date\n",
      "2012-08-10    13.812500\n",
      "2012-08-13    15.225000\n",
      "2012-08-14    15.975000\n",
      "2012-08-16    16.762501\n",
      "2012-08-17    17.600000\n",
      "                ...    \n",
      "2022-03-07    18.350000\n",
      "2022-03-08    18.650000\n",
      "2022-03-09    18.700001\n",
      "2022-03-10    19.500000\n",
      "2022-03-11    19.600000\n",
      "Name: Low, Length: 2360, dtype: float64\n"
     ]
    }
   ],
   "source": [
    "stock_quote2 = web.DataReader(STOCK, data_source = 'yahoo', start=START_DATE, end=PREDICT_DATE)\n",
    "print(stock_quote2['Low'])"
   ]
  },
  {
   "cell_type": "code",
   "execution_count": 86,
   "id": "67b06140",
   "metadata": {},
   "outputs": [],
   "source": [
    "low_model.save(low_model_path)\n",
    "loaded_low_model = load_model(low_model_path)\n"
   ]
  },
  {
   "cell_type": "code",
   "execution_count": 87,
   "id": "7b9cc069",
   "metadata": {},
   "outputs": [],
   "source": [
    "import winsound\n",
    "frequency = 2500  # Set Frequency To 2500 Hertz\n",
    "duration = 1000  # Set Duration To 1000 ms == 1 second\n",
    "winsound.Beep(frequency, duration)"
   ]
  },
  {
   "cell_type": "code",
   "execution_count": 88,
   "id": "04bd7362",
   "metadata": {},
   "outputs": [
    {
     "name": "stdout",
     "output_type": "stream",
     "text": [
      "Open price : 19.457357\n",
      "Close price : 19.511204\n",
      "High price : 19.985027\n",
      "Low price : 19.22954\n",
      "Open to Close: 0.05384636\n"
     ]
    }
   ],
   "source": [
    "print(\"Open price : \", end=\"\") \n",
    "print(pred_open_price[0][0])\n",
    "print(\"Close price : \", end=\"\") \n",
    "print(close_pred_price[0][0])\n",
    "print(\"High price : \", end=\"\") \n",
    "print(high_pred_price[0][0])\n",
    "print(\"Low price : \", end=\"\") \n",
    "print(low_pred_price[0][0])\n",
    "\n",
    "print(\"Open to Close: \", end=\"\")\n",
    "print(close_pred_price[0][0]-pred_open_price[0][0]   )"
   ]
  },
  {
   "cell_type": "code",
   "execution_count": 89,
   "id": "fb85a56b",
   "metadata": {},
   "outputs": [
    {
     "data": {
      "image/png": "[encoded data removed]",
      "text/plain": [
       "<Figure size 1152x576 with 1 Axes>"
      ]
     },
     "metadata": {},
     "output_type": "display_data"
    }
   ],
   "source": [
    "#Visualing the Volume history\n",
    "plt.figure(figsize=(16,8))\n",
    "plt.title('Volume Price History')\n",
    "plt.plot(df['Volume'])\n",
    "plt.xlabel('Date', fontsize=18)\n",
    "plt.ylabel('Volume count', fontsize=18)\n",
    "plt.show()"
   ]
  },
  {
   "cell_type": "code",
   "execution_count": 90,
   "id": "44d02a26",
   "metadata": {},
   "outputs": [
    {
     "data": {
      "text/plain": [
       "1888"
      ]
     },
     "execution_count": 90,
     "metadata": {},
     "output_type": "execute_result"
    }
   ],
   "source": [
    "#Create a new data\n",
    "data = df.filter(['Volume'])\n",
    "#convert the dataframe to a numpy array\n",
    "dataset = data.values\n",
    "#get the number of rows to train the model on\n",
    "training_data_len = math.ceil(len(dataset)*.8)\n",
    "training_data_len"
   ]
  },
  {
   "cell_type": "code",
   "execution_count": 91,
   "id": "a5e32af5",
   "metadata": {},
   "outputs": [
    {
     "data": {
      "text/plain": [
       "array([[0.00468522],\n",
       "       [0.00459518],\n",
       "       [0.00216735],\n",
       "       ...,\n",
       "       [0.00271214],\n",
       "       [0.01908575],\n",
       "       [0.0019101 ]])"
      ]
     },
     "execution_count": 91,
     "metadata": {},
     "output_type": "execute_result"
    }
   ],
   "source": [
    "#Scale the data\n",
    "scaler = MinMaxScaler(feature_range=(0,1))\n",
    "scaled_data = scaler.fit_transform(dataset)\n",
    "\n",
    "scaled_data"
   ]
  },
  {
   "cell_type": "code",
   "execution_count": 92,
   "id": "51524980",
   "metadata": {},
   "outputs": [
    {
     "name": "stdout",
     "output_type": "stream",
     "text": [
      "[array([0.00468522, 0.00459518, 0.00216735, 0.00840038, 0.00790195,\n",
      "       0.02305521, 0.00125947, 0.00162498, 0.00195726, 0.02548196,\n",
      "       0.02057594, 0.08699325, 0.01509752, 0.01349827, 0.00696833,\n",
      "       0.03783009, 0.01080462, 0.00563169, 0.00833713, 0.01356687,\n",
      "       0.03732952, 0.02196832, 0.01236636, 0.0205695 , 0.01611689,\n",
      "       0.01920285, 0.01015184, 0.01006716, 0.01980846, 0.00954729,\n",
      "       0.00840681, 0.00576246, 0.01703978, 0.02046339, 0.0192468 ,\n",
      "       0.00034944, 0.00738959, 0.00938865, 0.02134448, 0.00850113,\n",
      "       0.0174396 , 0.00704337, 0.00199157, 0.00507002, 0.00377197,\n",
      "       0.0086169 , 0.00425432, 0.00836822, 0.00448049, 0.00556845,\n",
      "       0.0107671 , 0.00336572, 0.00634878, 0.00320173, 0.00352651,\n",
      "       0.01958015, 0.00598541, 0.00604973, 0.00288766, 0.00283728])]\n",
      "[0.004262893054121163]\n",
      "\n",
      "[array([0.00468522, 0.00459518, 0.00216735, 0.00840038, 0.00790195,\n",
      "       0.02305521, 0.00125947, 0.00162498, 0.00195726, 0.02548196,\n",
      "       0.02057594, 0.08699325, 0.01509752, 0.01349827, 0.00696833,\n",
      "       0.03783009, 0.01080462, 0.00563169, 0.00833713, 0.01356687,\n",
      "       0.03732952, 0.02196832, 0.01236636, 0.0205695 , 0.01611689,\n",
      "       0.01920285, 0.01015184, 0.01006716, 0.01980846, 0.00954729,\n",
      "       0.00840681, 0.00576246, 0.01703978, 0.02046339, 0.0192468 ,\n",
      "       0.00034944, 0.00738959, 0.00938865, 0.02134448, 0.00850113,\n",
      "       0.0174396 , 0.00704337, 0.00199157, 0.00507002, 0.00377197,\n",
      "       0.0086169 , 0.00425432, 0.00836822, 0.00448049, 0.00556845,\n",
      "       0.0107671 , 0.00336572, 0.00634878, 0.00320173, 0.00352651,\n",
      "       0.01958015, 0.00598541, 0.00604973, 0.00288766, 0.00283728]), array([0.00459518, 0.00216735, 0.00840038, 0.00790195, 0.02305521,\n",
      "       0.00125947, 0.00162498, 0.00195726, 0.02548196, 0.02057594,\n",
      "       0.08699325, 0.01509752, 0.01349827, 0.00696833, 0.03783009,\n",
      "       0.01080462, 0.00563169, 0.00833713, 0.01356687, 0.03732952,\n",
      "       0.02196832, 0.01236636, 0.0205695 , 0.01611689, 0.01920285,\n",
      "       0.01015184, 0.01006716, 0.01980846, 0.00954729, 0.00840681,\n",
      "       0.00576246, 0.01703978, 0.02046339, 0.0192468 , 0.00034944,\n",
      "       0.00738959, 0.00938865, 0.02134448, 0.00850113, 0.0174396 ,\n",
      "       0.00704337, 0.00199157, 0.00507002, 0.00377197, 0.0086169 ,\n",
      "       0.00425432, 0.00836822, 0.00448049, 0.00556845, 0.0107671 ,\n",
      "       0.00336572, 0.00634878, 0.00320173, 0.00352651, 0.01958015,\n",
      "       0.00598541, 0.00604973, 0.00288766, 0.00283728, 0.00426289])]\n",
      "[0.004262893054121163, 0.0010349065234483235]\n",
      "\n"
     ]
    }
   ],
   "source": [
    "#creating the training data set\n",
    "#create the scaled training data set\n",
    "train_data = scaled_data[0:training_data_len,:]\n",
    "#split the data into x_train and y_train data sets\n",
    "x_train = []\n",
    "y_train = []\n",
    "for i in range(60, len(train_data)):\n",
    "    x_train.append(train_data[i-60:i,0])\n",
    "    y_train.append(train_data[i,0])\n",
    "    if i<=61:\n",
    "        print(x_train)\n",
    "        print(y_train)\n",
    "        print()"
   ]
  },
  {
   "cell_type": "code",
   "execution_count": 93,
   "id": "145b2978",
   "metadata": {},
   "outputs": [],
   "source": [
    "#Convert the X_train and Y_train to numpy arrays\n",
    "x_train , y_train = np.array(x_train), np.array(y_train)"
   ]
  },
  {
   "cell_type": "code",
   "execution_count": 94,
   "id": "60407981",
   "metadata": {},
   "outputs": [
    {
     "data": {
      "text/plain": [
       "(1828, 60, 1)"
      ]
     },
     "execution_count": 94,
     "metadata": {},
     "output_type": "execute_result"
    }
   ],
   "source": [
    "#Reshape the data\n",
    "x_train = np.reshape(x_train,(x_train.shape[0],x_train.shape[1],1))\n",
    "x_train.shape"
   ]
  },
  {
   "cell_type": "code",
   "execution_count": 95,
   "id": "f5b69cfb",
   "metadata": {},
   "outputs": [],
   "source": [
    "#Building the LSTM model\n",
    "volume_model = Sequential()\n",
    "volume_model.add(LSTM(50, return_sequences=True, input_shape =(x_train.shape[1],1)))\n",
    "volume_model.add(LSTM(50, return_sequences=True))\n",
    "volume_model.add(LSTM(50, return_sequences=True))\n",
    "volume_model.add(LSTM(50, return_sequences=False))\n",
    "volume_model.add(Dense(25))\n",
    "volume_model.add(Dense(1))"
   ]
  },
  {
   "cell_type": "code",
   "execution_count": 96,
   "id": "3f69e705",
   "metadata": {},
   "outputs": [],
   "source": [
    "#compile the Model\n",
    "volume_model.compile(optimizer='adam', loss='mean_squared_error')\n"
   ]
  },
  {
   "cell_type": "code",
   "execution_count": 97,
   "id": "f040989f",
   "metadata": {},
   "outputs": [
    {
     "name": "stdout",
     "output_type": "stream",
     "text": [
      "Epoch 1/100\n",
      "58/58 [==============================] - 14s 148ms/step - loss: 0.0011\n",
      "Epoch 2/100\n",
      "58/58 [==============================] - 9s 153ms/step - loss: 0.0011\n",
      "Epoch 3/100\n",
      "58/58 [==============================] - 9s 153ms/step - loss: 0.0010\n",
      "Epoch 4/100\n",
      "58/58 [==============================] - 9s 160ms/step - loss: 0.0010\n",
      "Epoch 5/100\n",
      "58/58 [==============================] - 9s 161ms/step - loss: 0.0010\n",
      "Epoch 6/100\n",
      "58/58 [==============================] - 9s 154ms/step - loss: 0.0010\n",
      "Epoch 7/100\n",
      "58/58 [==============================] - 9s 154ms/step - loss: 9.9251e-04\n",
      "Epoch 8/100\n",
      "58/58 [==============================] - 9s 155ms/step - loss: 0.0010\n",
      "Epoch 9/100\n",
      "58/58 [==============================] - 9s 154ms/step - loss: 9.9912e-04\n",
      "Epoch 10/100\n",
      "58/58 [==============================] - 9s 154ms/step - loss: 9.9949e-04\n",
      "Epoch 11/100\n",
      "58/58 [==============================] - 9s 157ms/step - loss: 9.9389e-04\n",
      "Epoch 12/100\n",
      "58/58 [==============================] - 9s 154ms/step - loss: 9.7805e-04\n",
      "Epoch 13/100\n",
      "58/58 [==============================] - 9s 155ms/step - loss: 9.9726e-04\n",
      "Epoch 14/100\n",
      "58/58 [==============================] - 9s 156ms/step - loss: 9.5953e-04\n",
      "Epoch 15/100\n",
      "58/58 [==============================] - 9s 158ms/step - loss: 9.6460e-04\n",
      "Epoch 16/100\n",
      "58/58 [==============================] - 9s 155ms/step - loss: 9.6207e-04\n",
      "Epoch 17/100\n",
      "58/58 [==============================] - 9s 154ms/step - loss: 9.4877e-04\n",
      "Epoch 18/100\n",
      "58/58 [==============================] - 9s 154ms/step - loss: 9.6155e-04\n",
      "Epoch 19/100\n",
      "58/58 [==============================] - 9s 154ms/step - loss: 9.4435e-04\n",
      "Epoch 20/100\n",
      "58/58 [==============================] - 9s 157ms/step - loss: 9.3154e-04\n",
      "Epoch 21/100\n",
      "58/58 [==============================] - 9s 155ms/step - loss: 9.7284e-04\n",
      "Epoch 22/100\n",
      "58/58 [==============================] - 9s 155ms/step - loss: 9.4582e-04\n",
      "Epoch 23/100\n",
      "58/58 [==============================] - 9s 156ms/step - loss: 9.4911e-04\n",
      "Epoch 24/100\n",
      "58/58 [==============================] - 9s 154ms/step - loss: 9.4084e-04\n",
      "Epoch 25/100\n",
      "58/58 [==============================] - 9s 155ms/step - loss: 9.2073e-04\n",
      "Epoch 26/100\n",
      "58/58 [==============================] - 9s 155ms/step - loss: 9.3961e-04\n",
      "Epoch 27/100\n",
      "58/58 [==============================] - 9s 155ms/step - loss: 9.3196e-04\n",
      "Epoch 28/100\n",
      "58/58 [==============================] - 9s 157ms/step - loss: 9.2711e-04\n",
      "Epoch 29/100\n",
      "58/58 [==============================] - 9s 155ms/step - loss: 9.2147e-04\n",
      "Epoch 30/100\n",
      "58/58 [==============================] - 9s 155ms/step - loss: 9.4820e-04\n",
      "Epoch 31/100\n",
      "58/58 [==============================] - 9s 156ms/step - loss: 9.3265e-04\n",
      "Epoch 32/100\n",
      "58/58 [==============================] - 9s 158ms/step - loss: 9.1395e-04\n",
      "Epoch 33/100\n",
      "58/58 [==============================] - 9s 155ms/step - loss: 9.3970e-04\n",
      "Epoch 34/100\n",
      "58/58 [==============================] - 9s 155ms/step - loss: 9.2049e-04\n",
      "Epoch 35/100\n",
      "58/58 [==============================] - 9s 154ms/step - loss: 9.0542e-04\n",
      "Epoch 36/100\n",
      "58/58 [==============================] - 9s 155ms/step - loss: 9.1459e-04\n",
      "Epoch 37/100\n",
      "58/58 [==============================] - 9s 154ms/step - loss: 9.0973e-04\n",
      "Epoch 38/100\n",
      "58/58 [==============================] - 9s 157ms/step - loss: 8.9787e-04\n",
      "Epoch 39/100\n",
      "58/58 [==============================] - 9s 155ms/step - loss: 9.1498e-04\n",
      "Epoch 40/100\n",
      "58/58 [==============================] - 9s 156ms/step - loss: 9.3223e-04\n",
      "Epoch 41/100\n",
      "58/58 [==============================] - 9s 157ms/step - loss: 9.0830e-04\n",
      "Epoch 42/100\n",
      "58/58 [==============================] - 9s 155ms/step - loss: 9.0118e-04\n",
      "Epoch 43/100\n",
      "58/58 [==============================] - 9s 154ms/step - loss: 9.0678e-04\n",
      "Epoch 44/100\n",
      "58/58 [==============================] - 9s 154ms/step - loss: 8.9584e-04\n",
      "Epoch 45/100\n",
      "58/58 [==============================] - 9s 154ms/step - loss: 8.8877e-04\n",
      "Epoch 46/100\n",
      "58/58 [==============================] - 9s 155ms/step - loss: 9.1184e-04\n",
      "Epoch 47/100\n",
      "58/58 [==============================] - 9s 154ms/step - loss: 8.9167e-04\n",
      "Epoch 48/100\n",
      "58/58 [==============================] - 9s 158ms/step - loss: 8.8314e-04\n",
      "Epoch 49/100\n",
      "58/58 [==============================] - 9s 155ms/step - loss: 8.8425e-04\n",
      "Epoch 50/100\n",
      "58/58 [==============================] - 9s 155ms/step - loss: 9.0222e-04\n",
      "Epoch 51/100\n",
      "58/58 [==============================] - 9s 154ms/step - loss: 8.8082e-04\n",
      "Epoch 52/100\n",
      "58/58 [==============================] - 9s 160ms/step - loss: 8.7127e-04\n",
      "Epoch 53/100\n",
      "58/58 [==============================] - 9s 154ms/step - loss: 8.9758e-04\n",
      "Epoch 54/100\n",
      "58/58 [==============================] - 9s 153ms/step - loss: 8.6934e-04\n",
      "Epoch 55/100\n",
      "58/58 [==============================] - 9s 155ms/step - loss: 8.7128e-04\n",
      "Epoch 56/100\n",
      "58/58 [==============================] - 9s 155ms/step - loss: 8.9326e-04\n",
      "Epoch 57/100\n",
      "58/58 [==============================] - 9s 154ms/step - loss: 8.6447e-04\n",
      "Epoch 58/100\n",
      "58/58 [==============================] - 9s 154ms/step - loss: 8.8313e-04\n",
      "Epoch 59/100\n",
      "58/58 [==============================] - 9s 153ms/step - loss: 8.8277e-04\n",
      "Epoch 60/100\n",
      "58/58 [==============================] - 9s 154ms/step - loss: 8.6429e-04\n",
      "Epoch 61/100\n",
      "58/58 [==============================] - 9s 154ms/step - loss: 8.7215e-04\n",
      "Epoch 62/100\n",
      "58/58 [==============================] - 9s 156ms/step - loss: 8.6296e-04\n",
      "Epoch 63/100\n",
      "58/58 [==============================] - 9s 156ms/step - loss: 8.6239e-04\n",
      "Epoch 64/100\n",
      "58/58 [==============================] - 9s 155ms/step - loss: 8.6699e-04\n",
      "Epoch 65/100\n",
      "58/58 [==============================] - 9s 155ms/step - loss: 8.6307e-04\n",
      "Epoch 66/100\n",
      "58/58 [==============================] - 9s 154ms/step - loss: 8.7409e-04\n",
      "Epoch 67/100\n",
      "58/58 [==============================] - 9s 154ms/step - loss: 8.5528e-04\n",
      "Epoch 68/100\n",
      "58/58 [==============================] - 9s 156ms/step - loss: 8.6516e-04\n",
      "Epoch 69/100\n",
      "58/58 [==============================] - 9s 154ms/step - loss: 8.5858e-04\n",
      "Epoch 70/100\n",
      "58/58 [==============================] - 9s 161ms/step - loss: 8.6022e-04\n",
      "Epoch 71/100\n",
      "58/58 [==============================] - 9s 154ms/step - loss: 8.6182e-04\n",
      "Epoch 72/100\n",
      "58/58 [==============================] - 9s 153ms/step - loss: 8.6882e-04\n",
      "Epoch 73/100\n",
      "58/58 [==============================] - 9s 153ms/step - loss: 8.5947e-04\n",
      "Epoch 74/100\n",
      "58/58 [==============================] - 9s 154ms/step - loss: 8.6333e-04\n",
      "Epoch 75/100\n",
      "58/58 [==============================] - 9s 154ms/step - loss: 8.7297e-04\n",
      "Epoch 76/100\n",
      "58/58 [==============================] - 9s 155ms/step - loss: 8.5851e-04\n",
      "Epoch 77/100\n",
      "58/58 [==============================] - 9s 154ms/step - loss: 8.6569e-04\n",
      "Epoch 78/100\n",
      "58/58 [==============================] - 9s 153ms/step - loss: 8.5558e-04\n",
      "Epoch 79/100\n",
      "58/58 [==============================] - 9s 156ms/step - loss: 8.5348e-04\n",
      "Epoch 80/100\n",
      "58/58 [==============================] - 9s 154ms/step - loss: 8.3828e-04\n",
      "Epoch 81/100\n",
      "58/58 [==============================] - 9s 159ms/step - loss: 8.5039e-04\n",
      "Epoch 82/100\n",
      "58/58 [==============================] - 9s 154ms/step - loss: 8.4928e-04\n",
      "Epoch 83/100\n",
      "58/58 [==============================] - 9s 158ms/step - loss: 8.4769e-04\n",
      "Epoch 84/100\n",
      "58/58 [==============================] - 9s 160ms/step - loss: 8.4320e-04\n",
      "Epoch 85/100\n",
      "58/58 [==============================] - 9s 154ms/step - loss: 8.4303e-04\n",
      "Epoch 86/100\n",
      "58/58 [==============================] - 9s 154ms/step - loss: 8.3800e-04\n",
      "Epoch 87/100\n",
      "58/58 [==============================] - 9s 155ms/step - loss: 8.5459e-04\n",
      "Epoch 88/100\n",
      "58/58 [==============================] - 9s 154ms/step - loss: 8.5323e-04\n",
      "Epoch 89/100\n",
      "58/58 [==============================] - 9s 153ms/step - loss: 8.3334e-04\n",
      "Epoch 90/100\n",
      "58/58 [==============================] - 9s 153ms/step - loss: 8.4305e-04\n",
      "Epoch 91/100\n",
      "58/58 [==============================] - 9s 155ms/step - loss: 8.5859e-04\n",
      "Epoch 92/100\n",
      "58/58 [==============================] - 9s 153ms/step - loss: 8.3705e-04\n",
      "Epoch 93/100\n",
      "58/58 [==============================] - 9s 158ms/step - loss: 8.4028e-04\n",
      "Epoch 94/100\n",
      "58/58 [==============================] - 9s 155ms/step - loss: 8.2760e-04\n",
      "Epoch 95/100\n"
     ]
    },
    {
     "name": "stdout",
     "output_type": "stream",
     "text": [
      "58/58 [==============================] - 9s 155ms/step - loss: 8.3054e-04\n",
      "Epoch 96/100\n",
      "58/58 [==============================] - 9s 153ms/step - loss: 8.4692e-04\n",
      "Epoch 97/100\n",
      "58/58 [==============================] - 9s 153ms/step - loss: 8.2951e-04\n",
      "Epoch 98/100\n",
      "58/58 [==============================] - 9s 155ms/step - loss: 8.2591e-04\n",
      "Epoch 99/100\n",
      "58/58 [==============================] - 9s 154ms/step - loss: 8.1646e-04\n",
      "Epoch 100/100\n",
      "58/58 [==============================] - 9s 154ms/step - loss: 8.1920e-04\n"
     ]
    },
    {
     "data": {
      "text/plain": [
       "<keras.callbacks.History at 0x25379b4ff88>"
      ]
     },
     "execution_count": 97,
     "metadata": {},
     "output_type": "execute_result"
    }
   ],
   "source": [
    "#train the model\n",
    "volume_model.fit(x_train, y_train, batch_size=32, epochs=EPOCHS)"
   ]
  },
  {
   "cell_type": "code",
   "execution_count": 98,
   "id": "2c268ec8",
   "metadata": {},
   "outputs": [],
   "source": [
    "#create the testing data set\n",
    "#create a new array containing scaled values from index 1543 to 2003\n",
    "test_data = scaled_data[training_data_len - 60: , :]\n",
    "#create the data sets x_test adn y_test\n",
    "x_test = []\n",
    "y_test = dataset[training_data_len:,:]\n",
    "for i in range(60, len(test_data)):\n",
    "    x_test.append(test_data[i-60:i,0])\n",
    "    \n",
    "    \n"
   ]
  },
  {
   "cell_type": "code",
   "execution_count": 99,
   "id": "c030680c",
   "metadata": {},
   "outputs": [],
   "source": [
    "#convert the data to a numpy array\n",
    "x_test = np.array(x_test)"
   ]
  },
  {
   "cell_type": "code",
   "execution_count": 100,
   "id": "2af3f595",
   "metadata": {},
   "outputs": [],
   "source": [
    "#resahpe the data\n",
    "x_test = np.reshape(x_test,(x_test.shape[0],x_test.shape[1],1))"
   ]
  },
  {
   "cell_type": "code",
   "execution_count": 101,
   "id": "cc5d41b3",
   "metadata": {},
   "outputs": [],
   "source": [
    "#get the models predicted price values\n",
    "predictions = volume_model.predict(x_test)\n",
    "predictions = scaler.inverse_transform(predictions)"
   ]
  },
  {
   "cell_type": "code",
   "execution_count": 102,
   "id": "db5003cd",
   "metadata": {},
   "outputs": [
    {
     "data": {
      "text/plain": [
       "3510.393957032996"
      ]
     },
     "execution_count": 102,
     "metadata": {},
     "output_type": "execute_result"
    }
   ],
   "source": [
    "#get the root mean squared error (RMSE)\n",
    "rmse =  np.sqrt(np.mean(predictions - y_test)**2)\n",
    "rmse"
   ]
  },
  {
   "cell_type": "code",
   "execution_count": 103,
   "id": "cb47ea60",
   "metadata": {},
   "outputs": [
    {
     "name": "stderr",
     "output_type": "stream",
     "text": [
      "C:\\Users\\Abhishek Rao\\AppData\\Local\\Packages\\PythonSoftwareFoundation.Python.3.7_qbz5n2kfra8p0\\LocalCache\\local-packages\\Python37\\site-packages\\ipykernel_launcher.py:4: SettingWithCopyWarning: \n",
      "A value is trying to be set on a copy of a slice from a DataFrame.\n",
      "Try using .loc[row_indexer,col_indexer] = value instead\n",
      "\n",
      "See the caveats in the documentation: https://pandas.pydata.org/pandas-docs/stable/user_guide/indexing.html#returning-a-view-versus-a-copy\n",
      "  after removing the cwd from sys.path.\n"
     ]
    },
    {
     "data": {
      "image/png": "[encoded data removed]",
      "text/plain": [
       "<Figure size 1152x576 with 1 Axes>"
      ]
     },
     "metadata": {},
     "output_type": "display_data"
    }
   ],
   "source": [
    "#plot the date\n",
    "train = data[:training_data_len]\n",
    "valid = data[training_data_len:]\n",
    "valid['Predictions'] = predictions\n",
    "#visualize the data\n",
    "plt.figure(figsize=(16,8))\n",
    "plt.title('Model')\n",
    "plt.xlabel('Date')\n",
    "plt.ylabel('Volume Count')\n",
    "plt.plot(train['Volume'])\n",
    "plt.plot(valid[['Volume', 'Predictions']])\n",
    "plt.legend(['Train', 'Val', 'Predictions'], loc='lower right')\n",
    "plt.show()"
   ]
  },
  {
   "cell_type": "code",
   "execution_count": 104,
   "id": "f94b16a5",
   "metadata": {},
   "outputs": [
    {
     "data": {
      "text/html": [
       "<div>\n",
       "<style scoped>\n",
       "    .dataframe tbody tr th:only-of-type {\n",
       "        vertical-align: middle;\n",
       "    }\n",
       "\n",
       "    .dataframe tbody tr th {\n",
       "        vertical-align: top;\n",
       "    }\n",
       "\n",
       "    .dataframe thead th {\n",
       "        text-align: right;\n",
       "    }\n",
       "</style>\n",
       "<table border=\"1\" class=\"dataframe\">\n",
       "  <thead>\n",
       "    <tr style=\"text-align: right;\">\n",
       "      <th></th>\n",
       "      <th>Volume</th>\n",
       "      <th>Predictions</th>\n",
       "    </tr>\n",
       "    <tr>\n",
       "      <th>Date</th>\n",
       "      <th></th>\n",
       "      <th></th>\n",
       "    </tr>\n",
       "  </thead>\n",
       "  <tbody>\n",
       "    <tr>\n",
       "      <th>2020-04-23</th>\n",
       "      <td>361.0</td>\n",
       "      <td>3858.064453</td>\n",
       "    </tr>\n",
       "    <tr>\n",
       "      <th>2020-04-24</th>\n",
       "      <td>0.0</td>\n",
       "      <td>6770.086426</td>\n",
       "    </tr>\n",
       "    <tr>\n",
       "      <th>2020-04-27</th>\n",
       "      <td>110.0</td>\n",
       "      <td>-851.214600</td>\n",
       "    </tr>\n",
       "    <tr>\n",
       "      <th>2020-04-28</th>\n",
       "      <td>10301.0</td>\n",
       "      <td>-8602.824219</td>\n",
       "    </tr>\n",
       "    <tr>\n",
       "      <th>2020-04-29</th>\n",
       "      <td>3941.0</td>\n",
       "      <td>-3601.867920</td>\n",
       "    </tr>\n",
       "    <tr>\n",
       "      <th>...</th>\n",
       "      <td>...</td>\n",
       "      <td>...</td>\n",
       "    </tr>\n",
       "    <tr>\n",
       "      <th>2022-03-07</th>\n",
       "      <td>11649.0</td>\n",
       "      <td>29676.515625</td>\n",
       "    </tr>\n",
       "    <tr>\n",
       "      <th>2022-03-08</th>\n",
       "      <td>5650.0</td>\n",
       "      <td>18702.605469</td>\n",
       "    </tr>\n",
       "    <tr>\n",
       "      <th>2022-03-09</th>\n",
       "      <td>10121.0</td>\n",
       "      <td>1576.899414</td>\n",
       "    </tr>\n",
       "    <tr>\n",
       "      <th>2022-03-10</th>\n",
       "      <td>71223.0</td>\n",
       "      <td>2166.593262</td>\n",
       "    </tr>\n",
       "    <tr>\n",
       "      <th>2022-03-11</th>\n",
       "      <td>7128.0</td>\n",
       "      <td>39800.542969</td>\n",
       "    </tr>\n",
       "  </tbody>\n",
       "</table>\n",
       "<p>472 rows × 2 columns</p>\n",
       "</div>"
      ],
      "text/plain": [
       "             Volume   Predictions\n",
       "Date                             \n",
       "2020-04-23    361.0   3858.064453\n",
       "2020-04-24      0.0   6770.086426\n",
       "2020-04-27    110.0   -851.214600\n",
       "2020-04-28  10301.0  -8602.824219\n",
       "2020-04-29   3941.0  -3601.867920\n",
       "...             ...           ...\n",
       "2022-03-07  11649.0  29676.515625\n",
       "2022-03-08   5650.0  18702.605469\n",
       "2022-03-09  10121.0   1576.899414\n",
       "2022-03-10  71223.0   2166.593262\n",
       "2022-03-11   7128.0  39800.542969\n",
       "\n",
       "[472 rows x 2 columns]"
      ]
     },
     "execution_count": 104,
     "metadata": {},
     "output_type": "execute_result"
    }
   ],
   "source": [
    "#show the valid and predicted prices\n",
    "valid"
   ]
  },
  {
   "cell_type": "code",
   "execution_count": 105,
   "id": "00279864",
   "metadata": {},
   "outputs": [
    {
     "name": "stdout",
     "output_type": "stream",
     "text": [
      "[[43647.89]]\n"
     ]
    }
   ],
   "source": [
    "#get the Quote\n",
    "stock_quote = web.DataReader(STOCK, data_source = 'yahoo', start=START_DATE, end=END_DATE)\n",
    "#create new data frame\n",
    "new_df = stock_quote.filter(['Volume'])\n",
    "#get the last 60 days closing price values and convert the dataframe to an array\n",
    "last_60_days = new_df[-60:].values\n",
    "#scale the data to be values between 0 and 1\n",
    "last_60_days_scaled = scaler.fit_transform(last_60_days)\n",
    "#create the empty list\n",
    "x_test = []\n",
    "#append the past 60 days\n",
    "x_test.append(last_60_days_scaled)\n",
    "#convert the x_test data set to a numpy array\n",
    "x_test = np.array(x_test)\n",
    "x_test = np.reshape(x_test,(x_test.shape[0],x_test.shape[1],1))\n",
    "#get the predicted scaled price\n",
    "volume_pred_price = volume_model.predict(x_test)\n",
    "#undo the scaling\n",
    "volume_pred_price = scaler.inverse_transform(volume_pred_price)\n",
    "print(volume_pred_price)\n"
   ]
  },
  {
   "cell_type": "code",
   "execution_count": 106,
   "id": "2ea88ce3",
   "metadata": {},
   "outputs": [
    {
     "name": "stdout",
     "output_type": "stream",
     "text": [
      "Date\n",
      "2012-08-10    17484.0\n",
      "2012-08-13    17148.0\n",
      "2012-08-14     8088.0\n",
      "2012-08-16    31348.0\n",
      "2012-08-17    29488.0\n",
      "               ...   \n",
      "2022-03-07    11649.0\n",
      "2022-03-08     5650.0\n",
      "2022-03-09    10121.0\n",
      "2022-03-10    71223.0\n",
      "2022-03-11     7128.0\n",
      "Name: Volume, Length: 2360, dtype: float64\n"
     ]
    }
   ],
   "source": [
    "stock_quote2 = web.DataReader(STOCK, data_source = 'yahoo', start=START_DATE, end=PREDICT_DATE)\n",
    "print(stock_quote2['Volume'])"
   ]
  },
  {
   "cell_type": "code",
   "execution_count": 107,
   "id": "81fce5ab",
   "metadata": {},
   "outputs": [],
   "source": [
    "volume_model.save(volume_model_path)\n",
    "loaded_volume_model = load_model(volume_model_path)\n"
   ]
  },
  {
   "cell_type": "code",
   "execution_count": 108,
   "id": "cf3eb296",
   "metadata": {},
   "outputs": [
    {
     "name": "stdout",
     "output_type": "stream",
     "text": [
      "Date\n",
      "2012-08-10    17484.0\n",
      "2012-08-13    17148.0\n",
      "2012-08-14     8088.0\n",
      "2012-08-16    31348.0\n",
      "2012-08-17    29488.0\n",
      "               ...   \n",
      "2022-03-07    11649.0\n",
      "2022-03-08     5650.0\n",
      "2022-03-09    10121.0\n",
      "2022-03-10    71223.0\n",
      "2022-03-11     7128.0\n",
      "Name: Volume, Length: 2360, dtype: float64\n"
     ]
    }
   ],
   "source": [
    "stock_quote2 = web.DataReader(STOCK, data_source = 'yahoo', start=START_DATE, end=PREDICT_DATE)\n",
    "print(stock_quote2['Volume'])"
   ]
  },
  {
   "cell_type": "code",
   "execution_count": 109,
   "id": "fe8fd121",
   "metadata": {},
   "outputs": [],
   "source": [
    "import winsound\n",
    "frequency = 2500  # Set Frequency To 2500 Hertz\n",
    "duration = 1000  # Set Duration To 1000 ms == 1 second\n",
    "winsound.Beep(frequency, duration)"
   ]
  },
  {
   "cell_type": "code",
   "execution_count": 110,
   "id": "ee3ca608",
   "metadata": {},
   "outputs": [
    {
     "name": "stdout",
     "output_type": "stream",
     "text": [
      "Time taken is :75.98862271308899\n"
     ]
    }
   ],
   "source": [
    "exe_time = time.time() - start_time\n",
    "print(\"Time taken is :\", end=\"\")\n",
    "print(exe_time/60)"
   ]
  }
 ],
 "metadata": {
  "colab": {
   "name": "apple stock forecast-checkpoint.ipynb",
   "provenance": []
  },
  "kernelspec": {
   "display_name": "Python 3 (ipykernel)",
   "language": "python",
   "name": "python3"
  },
  "language_info": {
   "codemirror_mode": {
    "name": "ipython",
    "version": 3
   },
   "file_extension": ".py",
   "mimetype": "text/x-python",
   "name": "python",
   "nbconvert_exporter": "python",
   "pygments_lexer": "ipython3",
   "version": "3.7.9"
  }
 },
 "nbformat": 4,
 "nbformat_minor": 5
}
