{
 "cells": [
  {
   "cell_type": "code",
   "execution_count": 1,
   "id": "119ef146",
   "metadata": {
    "id": "119ef146"
   },
   "outputs": [],
   "source": [
    "#import the libraries\n",
    "import math\n",
    "import pandas_datareader as web\n",
    "import numpy as np\n",
    "from sklearn.preprocessing import MinMaxScaler\n",
    "from keras.models import Sequential\n",
    "from keras.layers import Dense, LSTM\n",
    "from keras.models import load_model\n",
    "import matplotlib.pyplot as plt\n",
    "plt.style.use('fivethirtyeight')\n",
    "import pickle\n",
    "import pandas as pd"
   ]
  },
  {
   "cell_type": "code",
   "execution_count": 2,
   "id": "f6a35eb3",
   "metadata": {},
   "outputs": [],
   "source": [
    "#MACRO DEF\n",
    "\n",
    "STOCK = 'GOOG'\n",
    "EPOCHS = 100\n",
    "model_path = \"machine learning model/\"+STOCK+\"_OPEN_model.h5\"\n",
    "error_model_path = \"machine learning model/\"+STOCK+\"_OPEN_error_model.h5\"\n",
    "error_data = \"machine learning model/\"+STOCK+\"_OPEN_error_data.csv\"\n",
    "START_DATE = '2012-01-01'\n",
    "END_DATE = '2022-03-05'\n",
    "PREDICT_DATE = '2022-03-07'\n",
    "ERR_EPOCHS = 120"
   ]
  },
  {
   "cell_type": "code",
   "execution_count": 3,
   "id": "0baa4ed2",
   "metadata": {
    "id": "0baa4ed2",
    "outputId": "9b884812-40a4-4562-f722-55f12356c439"
   },
   "outputs": [
    {
     "data": {
      "text/html": [
       "<div>\n",
       "<style scoped>\n",
       "    .dataframe tbody tr th:only-of-type {\n",
       "        vertical-align: middle;\n",
       "    }\n",
       "\n",
       "    .dataframe tbody tr th {\n",
       "        vertical-align: top;\n",
       "    }\n",
       "\n",
       "    .dataframe thead th {\n",
       "        text-align: right;\n",
       "    }\n",
       "</style>\n",
       "<table border=\"1\" class=\"dataframe\">\n",
       "  <thead>\n",
       "    <tr style=\"text-align: right;\">\n",
       "      <th></th>\n",
       "      <th>High</th>\n",
       "      <th>Low</th>\n",
       "      <th>Open</th>\n",
       "      <th>Close</th>\n",
       "      <th>Volume</th>\n",
       "      <th>Adj Close</th>\n",
       "    </tr>\n",
       "    <tr>\n",
       "      <th>Date</th>\n",
       "      <th></th>\n",
       "      <th></th>\n",
       "      <th></th>\n",
       "      <th></th>\n",
       "      <th></th>\n",
       "      <th></th>\n",
       "    </tr>\n",
       "  </thead>\n",
       "  <tbody>\n",
       "    <tr>\n",
       "      <th>2012-01-03</th>\n",
       "      <td>332.827484</td>\n",
       "      <td>324.966949</td>\n",
       "      <td>325.250885</td>\n",
       "      <td>331.462585</td>\n",
       "      <td>7380561.0</td>\n",
       "      <td>331.462585</td>\n",
       "    </tr>\n",
       "    <tr>\n",
       "      <th>2012-01-04</th>\n",
       "      <td>333.873566</td>\n",
       "      <td>329.076538</td>\n",
       "      <td>331.273315</td>\n",
       "      <td>332.892242</td>\n",
       "      <td>5749470.0</td>\n",
       "      <td>332.892242</td>\n",
       "    </tr>\n",
       "    <tr>\n",
       "      <th>2012-01-05</th>\n",
       "      <td>330.745270</td>\n",
       "      <td>326.889740</td>\n",
       "      <td>329.828735</td>\n",
       "      <td>328.274536</td>\n",
       "      <td>6590410.0</td>\n",
       "      <td>328.274536</td>\n",
       "    </tr>\n",
       "    <tr>\n",
       "      <th>2012-01-06</th>\n",
       "      <td>328.767700</td>\n",
       "      <td>323.681763</td>\n",
       "      <td>328.344299</td>\n",
       "      <td>323.796326</td>\n",
       "      <td>5405987.0</td>\n",
       "      <td>323.796326</td>\n",
       "    </tr>\n",
       "    <tr>\n",
       "      <th>2012-01-09</th>\n",
       "      <td>322.291962</td>\n",
       "      <td>309.455078</td>\n",
       "      <td>322.042908</td>\n",
       "      <td>310.067780</td>\n",
       "      <td>11688849.0</td>\n",
       "      <td>310.067780</td>\n",
       "    </tr>\n",
       "    <tr>\n",
       "      <th>...</th>\n",
       "      <td>...</td>\n",
       "      <td>...</td>\n",
       "      <td>...</td>\n",
       "      <td>...</td>\n",
       "      <td>...</td>\n",
       "      <td>...</td>\n",
       "    </tr>\n",
       "    <tr>\n",
       "      <th>2022-02-28</th>\n",
       "      <td>2712.810059</td>\n",
       "      <td>2656.504883</td>\n",
       "      <td>2665.689941</td>\n",
       "      <td>2697.820068</td>\n",
       "      <td>1483800.0</td>\n",
       "      <td>2697.820068</td>\n",
       "    </tr>\n",
       "    <tr>\n",
       "      <th>2022-03-01</th>\n",
       "      <td>2722.219971</td>\n",
       "      <td>2667.570068</td>\n",
       "      <td>2689.600098</td>\n",
       "      <td>2683.360107</td>\n",
       "      <td>1232000.0</td>\n",
       "      <td>2683.360107</td>\n",
       "    </tr>\n",
       "    <tr>\n",
       "      <th>2022-03-02</th>\n",
       "      <td>2712.310059</td>\n",
       "      <td>2668.649902</td>\n",
       "      <td>2692.165039</td>\n",
       "      <td>2695.030029</td>\n",
       "      <td>1198300.0</td>\n",
       "      <td>2695.030029</td>\n",
       "    </tr>\n",
       "    <tr>\n",
       "      <th>2022-03-03</th>\n",
       "      <td>2734.275879</td>\n",
       "      <td>2668.620117</td>\n",
       "      <td>2719.570068</td>\n",
       "      <td>2686.159912</td>\n",
       "      <td>989000.0</td>\n",
       "      <td>2686.159912</td>\n",
       "    </tr>\n",
       "    <tr>\n",
       "      <th>2022-03-04</th>\n",
       "      <td>2683.979980</td>\n",
       "      <td>2608.169922</td>\n",
       "      <td>2667.649902</td>\n",
       "      <td>2642.439941</td>\n",
       "      <td>1222300.0</td>\n",
       "      <td>2642.439941</td>\n",
       "    </tr>\n",
       "  </tbody>\n",
       "</table>\n",
       "<p>2560 rows × 6 columns</p>\n",
       "</div>"
      ],
      "text/plain": [
       "                   High          Low         Open        Close      Volume  \\\n",
       "Date                                                                         \n",
       "2012-01-03   332.827484   324.966949   325.250885   331.462585   7380561.0   \n",
       "2012-01-04   333.873566   329.076538   331.273315   332.892242   5749470.0   \n",
       "2012-01-05   330.745270   326.889740   329.828735   328.274536   6590410.0   \n",
       "2012-01-06   328.767700   323.681763   328.344299   323.796326   5405987.0   \n",
       "2012-01-09   322.291962   309.455078   322.042908   310.067780  11688849.0   \n",
       "...                 ...          ...          ...          ...         ...   \n",
       "2022-02-28  2712.810059  2656.504883  2665.689941  2697.820068   1483800.0   \n",
       "2022-03-01  2722.219971  2667.570068  2689.600098  2683.360107   1232000.0   \n",
       "2022-03-02  2712.310059  2668.649902  2692.165039  2695.030029   1198300.0   \n",
       "2022-03-03  2734.275879  2668.620117  2719.570068  2686.159912    989000.0   \n",
       "2022-03-04  2683.979980  2608.169922  2667.649902  2642.439941   1222300.0   \n",
       "\n",
       "              Adj Close  \n",
       "Date                     \n",
       "2012-01-03   331.462585  \n",
       "2012-01-04   332.892242  \n",
       "2012-01-05   328.274536  \n",
       "2012-01-06   323.796326  \n",
       "2012-01-09   310.067780  \n",
       "...                 ...  \n",
       "2022-02-28  2697.820068  \n",
       "2022-03-01  2683.360107  \n",
       "2022-03-02  2695.030029  \n",
       "2022-03-03  2686.159912  \n",
       "2022-03-04  2642.439941  \n",
       "\n",
       "[2560 rows x 6 columns]"
      ]
     },
     "execution_count": 3,
     "metadata": {},
     "output_type": "execute_result"
    }
   ],
   "source": [
    "#get the stock data\n",
    "df = web.DataReader(STOCK, data_source='yahoo' , start=START_DATE , end=END_DATE)\n",
    "\n",
    "#show the data\n",
    "df\n"
   ]
  },
  {
   "cell_type": "code",
   "execution_count": 4,
   "id": "8728e389",
   "metadata": {
    "id": "8728e389",
    "outputId": "e7a718db-fa12-4da6-edda-fb36457372bd"
   },
   "outputs": [
    {
     "data": {
      "text/plain": [
       "(2560, 6)"
      ]
     },
     "execution_count": 4,
     "metadata": {},
     "output_type": "execute_result"
    }
   ],
   "source": [
    "#get the number of rows and column in the data set\n",
    "df.shape"
   ]
  },
  {
   "cell_type": "code",
   "execution_count": 5,
   "id": "ede5a4f5",
   "metadata": {
    "id": "ede5a4f5",
    "outputId": "0b002ebf-5dfe-41fe-d4d0-3f53cbffafc7"
   },
   "outputs": [
    {
     "data": {
      "image/png": "[encoded data removed]",
      "text/plain": [
       "<Figure size 1152x576 with 1 Axes>"
      ]
     },
     "metadata": {},
     "output_type": "display_data"
    }
   ],
   "source": [
    "#Visualing the closing price history\n",
    "plt.figure(figsize=(16,8))\n",
    "plt.title('OPEN Price History')\n",
    "plt.plot(df['Open'])\n",
    "plt.xlabel('Date', fontsize=18)\n",
    "plt.ylabel('Opening Price USD($)', fontsize=18)\n",
    "plt.show()"
   ]
  },
  {
   "cell_type": "code",
   "execution_count": 6,
   "id": "860e4005",
   "metadata": {
    "id": "860e4005",
    "outputId": "3f34f0f3-065f-4c1b-c72a-8c1d7f2ed887"
   },
   "outputs": [
    {
     "data": {
      "text/plain": [
       "2048"
      ]
     },
     "execution_count": 6,
     "metadata": {},
     "output_type": "execute_result"
    }
   ],
   "source": [
    "#Create a new data\n",
    "data = df.filter(['Open'])\n",
    "#convert the dataframe to a numpy array\n",
    "dataset = data.values\n",
    "#get the number of rows to train the model on\n",
    "training_data_len = math.ceil(len(dataset)*.8)\n",
    "training_data_len"
   ]
  },
  {
   "cell_type": "code",
   "execution_count": 7,
   "id": "83ae7dd3",
   "metadata": {
    "id": "83ae7dd3",
    "outputId": "b2b3173d-5c6a-495e-a268-4051931aa6ac"
   },
   "outputs": [
    {
     "data": {
      "text/plain": [
       "array([[0.01672395],\n",
       "       [0.01890746],\n",
       "       [0.01838371],\n",
       "       ...,\n",
       "       [0.87487793],\n",
       "       [0.88481396],\n",
       "       [0.86598966]])"
      ]
     },
     "execution_count": 7,
     "metadata": {},
     "output_type": "execute_result"
    }
   ],
   "source": [
    "#Scale the data\n",
    "scaler = MinMaxScaler(feature_range=(0,1))\n",
    "scaled_data = scaler.fit_transform(dataset)\n",
    "\n",
    "scaled_data"
   ]
  },
  {
   "cell_type": "code",
   "execution_count": 8,
   "id": "22de3219",
   "metadata": {
    "id": "22de3219",
    "outputId": "b1fd5125-11fa-43c5-86bf-d71a87b0857a"
   },
   "outputs": [
    {
     "name": "stdout",
     "output_type": "stream",
     "text": [
      "[array([0.01672395, 0.01890746, 0.01838371, 0.01784551, 0.01556086,\n",
      "       0.01253574, 0.01140696, 0.01280122, 0.01190543, 0.01293849,\n",
      "       0.01197225, 0.01456573, 0.00545244, 0.0046343 , 0.0046921 ,\n",
      "       0.00310098, 0.00210223, 0.00188551, 0.0031985 , 0.00409249,\n",
      "       0.00444286, 0.00443022, 0.00547592, 0.00626155, 0.00845408,\n",
      "       0.00872318, 0.00933362, 0.00858593, 0.0090591 , 0.00924693,\n",
      "       0.00949798, 0.00767206, 0.00806036, 0.0078617 , 0.00932279,\n",
      "       0.008427  , 0.00849021, 0.00835294, 0.0089688 , 0.010522  ,\n",
      "       0.01118302, 0.01113606, 0.01085251, 0.00861663, 0.00879723,\n",
      "       0.00897603, 0.00859856, 0.00716276, 0.00874304, 0.00987182,\n",
      "       0.0101608 , 0.01093559, 0.01133833, 0.01274704, 0.01341348,\n",
      "       0.01411602, 0.01557892, 0.01528996, 0.01565658, 0.0165596 ])]\n",
      "[0.016814249727392233]\n",
      "\n",
      "[array([0.01672395, 0.01890746, 0.01838371, 0.01784551, 0.01556086,\n",
      "       0.01253574, 0.01140696, 0.01280122, 0.01190543, 0.01293849,\n",
      "       0.01197225, 0.01456573, 0.00545244, 0.0046343 , 0.0046921 ,\n",
      "       0.00310098, 0.00210223, 0.00188551, 0.0031985 , 0.00409249,\n",
      "       0.00444286, 0.00443022, 0.00547592, 0.00626155, 0.00845408,\n",
      "       0.00872318, 0.00933362, 0.00858593, 0.0090591 , 0.00924693,\n",
      "       0.00949798, 0.00767206, 0.00806036, 0.0078617 , 0.00932279,\n",
      "       0.008427  , 0.00849021, 0.00835294, 0.0089688 , 0.010522  ,\n",
      "       0.01118302, 0.01113606, 0.01085251, 0.00861663, 0.00879723,\n",
      "       0.00897603, 0.00859856, 0.00716276, 0.00874304, 0.00987182,\n",
      "       0.0101608 , 0.01093559, 0.01133833, 0.01274704, 0.01341348,\n",
      "       0.01411602, 0.01557892, 0.01528996, 0.01565658, 0.0165596 ]), array([0.01890746, 0.01838371, 0.01784551, 0.01556086, 0.01253574,\n",
      "       0.01140696, 0.01280122, 0.01190543, 0.01293849, 0.01197225,\n",
      "       0.01456573, 0.00545244, 0.0046343 , 0.0046921 , 0.00310098,\n",
      "       0.00210223, 0.00188551, 0.0031985 , 0.00409249, 0.00444286,\n",
      "       0.00443022, 0.00547592, 0.00626155, 0.00845408, 0.00872318,\n",
      "       0.00933362, 0.00858593, 0.0090591 , 0.00924693, 0.00949798,\n",
      "       0.00767206, 0.00806036, 0.0078617 , 0.00932279, 0.008427  ,\n",
      "       0.00849021, 0.00835294, 0.0089688 , 0.010522  , 0.01118302,\n",
      "       0.01113606, 0.01085251, 0.00861663, 0.00879723, 0.00897603,\n",
      "       0.00859856, 0.00716276, 0.00874304, 0.00987182, 0.0101608 ,\n",
      "       0.01093559, 0.01133833, 0.01274704, 0.01341348, 0.01411602,\n",
      "       0.01557892, 0.01528996, 0.01565658, 0.0165596 , 0.01681425])]\n",
      "[0.016814249727392233, 0.016509034804304393]\n",
      "\n"
     ]
    }
   ],
   "source": [
    "#creating the training data set\n",
    "#create the scaled training data set\n",
    "train_data = scaled_data[0:training_data_len,:]\n",
    "#split the data into x_train and y_train data sets\n",
    "x_train = []\n",
    "y_train = []\n",
    "for i in range(60, len(train_data)):\n",
    "    x_train.append(train_data[i-60:i,0])\n",
    "    y_train.append(train_data[i,0])\n",
    "    if i<=61:\n",
    "        print(x_train)\n",
    "        print(y_train)\n",
    "        print()"
   ]
  },
  {
   "cell_type": "code",
   "execution_count": 9,
   "id": "d58092dc",
   "metadata": {
    "id": "d58092dc"
   },
   "outputs": [],
   "source": [
    "#Convert the X_train and Y_train to numpy arrays\n",
    "x_train , y_train = np.array(x_train), np.array(y_train)"
   ]
  },
  {
   "cell_type": "code",
   "execution_count": 10,
   "id": "de162dec",
   "metadata": {
    "id": "de162dec",
    "outputId": "14201c32-f5ea-4645-ae7d-57a36706f4c6"
   },
   "outputs": [
    {
     "data": {
      "text/plain": [
       "(1988, 60, 1)"
      ]
     },
     "execution_count": 10,
     "metadata": {},
     "output_type": "execute_result"
    }
   ],
   "source": [
    "#Reshape the data\n",
    "x_train = np.reshape(x_train,(x_train.shape[0],x_train.shape[1],1))\n",
    "x_train.shape"
   ]
  },
  {
   "cell_type": "code",
   "execution_count": 11,
   "id": "eefcb209",
   "metadata": {
    "id": "eefcb209"
   },
   "outputs": [],
   "source": [
    "#Building the LSTM model\n",
    "model = Sequential()\n",
    "model.add(LSTM(50, return_sequences=True, input_shape =(x_train.shape[1],1)))\n",
    "model.add(LSTM(50, return_sequences=True))\n",
    "model.add(LSTM(50, return_sequences=True))\n",
    "model.add(LSTM(50, return_sequences=False))\n",
    "model.add(Dense(25))\n",
    "model.add(Dense(1))"
   ]
  },
  {
   "cell_type": "code",
   "execution_count": 12,
   "id": "eeab6098",
   "metadata": {
    "id": "eeab6098"
   },
   "outputs": [],
   "source": [
    "#compile the Model\n",
    "model.compile(optimizer='adam', loss='mean_squared_error')\n"
   ]
  },
  {
   "cell_type": "code",
   "execution_count": 13,
   "id": "8729081e",
   "metadata": {
    "id": "8729081e",
    "outputId": "95c61fc5-cbb8-42a5-a649-7ee43b055955",
    "scrolled": true
   },
   "outputs": [
    {
     "name": "stdout",
     "output_type": "stream",
     "text": [
      "Epoch 1/100\n",
      "63/63 [==============================] - 20s 162ms/step - loss: 0.0030\n",
      "Epoch 2/100\n",
      "63/63 [==============================] - 10s 159ms/step - loss: 1.7041e-04\n",
      "Epoch 3/100\n",
      "63/63 [==============================] - 10s 156ms/step - loss: 1.5393e-04\n",
      "Epoch 4/100\n",
      "63/63 [==============================] - 10s 158ms/step - loss: 1.5449e-04\n",
      "Epoch 5/100\n",
      "63/63 [==============================] - 10s 153ms/step - loss: 1.8032e-04\n",
      "Epoch 6/100\n",
      "63/63 [==============================] - 10s 156ms/step - loss: 1.4858e-04\n",
      "Epoch 7/100\n",
      "63/63 [==============================] - 10s 157ms/step - loss: 1.3849e-04\n",
      "Epoch 8/100\n",
      "63/63 [==============================] - 10s 154ms/step - loss: 1.4462e-04\n",
      "Epoch 9/100\n",
      "63/63 [==============================] - 10s 156ms/step - loss: 1.3407e-04\n",
      "Epoch 10/100\n",
      "63/63 [==============================] - 6s 95ms/step - loss: 1.4883e-04\n",
      "Epoch 11/100\n",
      "63/63 [==============================] - 7s 112ms/step - loss: 1.2755e-04\n",
      "Epoch 12/100\n",
      "63/63 [==============================] - 11s 173ms/step - loss: 1.1936e-04\n",
      "Epoch 13/100\n",
      "63/63 [==============================] - 10s 159ms/step - loss: 1.1087e-04\n",
      "Epoch 14/100\n",
      "63/63 [==============================] - 10s 165ms/step - loss: 1.5249e-04\n",
      "Epoch 15/100\n",
      "63/63 [==============================] - 10s 157ms/step - loss: 1.5463e-04\n",
      "Epoch 16/100\n",
      "63/63 [==============================] - 10s 157ms/step - loss: 1.1603e-04\n",
      "Epoch 17/100\n",
      "63/63 [==============================] - 10s 156ms/step - loss: 1.0567e-04\n",
      "Epoch 18/100\n",
      "63/63 [==============================] - 10s 160ms/step - loss: 1.2354e-04\n",
      "Epoch 19/100\n",
      "63/63 [==============================] - 10s 157ms/step - loss: 1.0939e-04\n",
      "Epoch 20/100\n",
      "63/63 [==============================] - 10s 154ms/step - loss: 1.0735e-04\n",
      "Epoch 21/100\n",
      "63/63 [==============================] - 10s 155ms/step - loss: 1.0837e-04\n",
      "Epoch 22/100\n",
      "63/63 [==============================] - 10s 157ms/step - loss: 9.9173e-05\n",
      "Epoch 23/100\n",
      "63/63 [==============================] - 10s 158ms/step - loss: 1.0637e-04\n",
      "Epoch 24/100\n",
      "63/63 [==============================] - 10s 159ms/step - loss: 8.8906e-05\n",
      "Epoch 25/100\n",
      "63/63 [==============================] - 10s 167ms/step - loss: 8.8770e-05\n",
      "Epoch 26/100\n",
      "63/63 [==============================] - 10s 160ms/step - loss: 8.4744e-05\n",
      "Epoch 27/100\n",
      "63/63 [==============================] - 11s 171ms/step - loss: 8.2242e-05\n",
      "Epoch 28/100\n",
      "63/63 [==============================] - 11s 172ms/step - loss: 8.6452e-05\n",
      "Epoch 29/100\n",
      "63/63 [==============================] - 10s 163ms/step - loss: 7.2222e-05\n",
      "Epoch 30/100\n",
      "63/63 [==============================] - 10s 163ms/step - loss: 9.1522e-05\n",
      "Epoch 31/100\n",
      "63/63 [==============================] - 10s 163ms/step - loss: 7.7284e-05\n",
      "Epoch 32/100\n",
      "63/63 [==============================] - 10s 158ms/step - loss: 6.2597e-05\n",
      "Epoch 33/100\n",
      "63/63 [==============================] - 10s 160ms/step - loss: 6.4025e-05\n",
      "Epoch 34/100\n",
      "63/63 [==============================] - 10s 165ms/step - loss: 5.9550e-05\n",
      "Epoch 35/100\n",
      "63/63 [==============================] - 10s 157ms/step - loss: 5.5134e-05\n",
      "Epoch 36/100\n",
      "63/63 [==============================] - 10s 159ms/step - loss: 6.4819e-05\n",
      "Epoch 37/100\n",
      "63/63 [==============================] - 10s 154ms/step - loss: 5.5667e-05\n",
      "Epoch 38/100\n",
      "63/63 [==============================] - 10s 160ms/step - loss: 5.2919e-05\n",
      "Epoch 39/100\n",
      "63/63 [==============================] - 10s 158ms/step - loss: 5.2315e-05\n",
      "Epoch 40/100\n",
      "63/63 [==============================] - 10s 152ms/step - loss: 4.9821e-05\n",
      "Epoch 41/100\n",
      "63/63 [==============================] - 10s 159ms/step - loss: 5.1365e-05\n",
      "Epoch 42/100\n",
      "63/63 [==============================] - 10s 154ms/step - loss: 4.3874e-05\n",
      "Epoch 43/100\n",
      "63/63 [==============================] - 10s 153ms/step - loss: 4.8452e-05\n",
      "Epoch 44/100\n",
      "63/63 [==============================] - 10s 153ms/step - loss: 4.1270e-05\n",
      "Epoch 45/100\n",
      "63/63 [==============================] - 10s 153ms/step - loss: 5.7106e-05\n",
      "Epoch 46/100\n",
      "63/63 [==============================] - 10s 153ms/step - loss: 7.5382e-05\n",
      "Epoch 47/100\n",
      "63/63 [==============================] - 10s 153ms/step - loss: 5.1854e-05\n",
      "Epoch 48/100\n",
      "63/63 [==============================] - 10s 153ms/step - loss: 3.8161e-05\n",
      "Epoch 49/100\n",
      "63/63 [==============================] - 10s 153ms/step - loss: 3.7340e-05\n",
      "Epoch 50/100\n",
      "63/63 [==============================] - 10s 155ms/step - loss: 3.5908e-05\n",
      "Epoch 51/100\n",
      "63/63 [==============================] - 10s 160ms/step - loss: 3.5515e-05\n",
      "Epoch 52/100\n",
      "63/63 [==============================] - 10s 160ms/step - loss: 4.4052e-05\n",
      "Epoch 53/100\n",
      "63/63 [==============================] - 10s 156ms/step - loss: 4.2371e-05\n",
      "Epoch 54/100\n",
      "63/63 [==============================] - 10s 159ms/step - loss: 3.9416e-05\n",
      "Epoch 55/100\n",
      "63/63 [==============================] - 10s 154ms/step - loss: 3.1841e-05\n",
      "Epoch 56/100\n",
      "63/63 [==============================] - 10s 152ms/step - loss: 3.4403e-05\n",
      "Epoch 57/100\n",
      "63/63 [==============================] - 10s 152ms/step - loss: 3.1524e-05\n",
      "Epoch 58/100\n",
      "63/63 [==============================] - 10s 153ms/step - loss: 3.6836e-05\n",
      "Epoch 59/100\n",
      "63/63 [==============================] - 10s 152ms/step - loss: 3.0753e-05\n",
      "Epoch 60/100\n",
      "63/63 [==============================] - 10s 153ms/step - loss: 3.1780e-05\n",
      "Epoch 61/100\n",
      "63/63 [==============================] - 10s 152ms/step - loss: 2.6972e-05\n",
      "Epoch 62/100\n",
      "63/63 [==============================] - 10s 153ms/step - loss: 3.2329e-05\n",
      "Epoch 63/100\n",
      "63/63 [==============================] - 10s 158ms/step - loss: 2.7964e-05\n",
      "Epoch 64/100\n",
      "63/63 [==============================] - 10s 155ms/step - loss: 3.2112e-05\n",
      "Epoch 65/100\n",
      "63/63 [==============================] - 10s 155ms/step - loss: 2.8172e-05\n",
      "Epoch 66/100\n",
      "63/63 [==============================] - 10s 154ms/step - loss: 2.8904e-05\n",
      "Epoch 67/100\n",
      "63/63 [==============================] - 10s 153ms/step - loss: 3.4098e-05\n",
      "Epoch 68/100\n",
      "63/63 [==============================] - 10s 152ms/step - loss: 3.4642e-05\n",
      "Epoch 69/100\n",
      "63/63 [==============================] - 6s 99ms/step - loss: 2.7447e-05\n",
      "Epoch 70/100\n",
      "63/63 [==============================] - 6s 90ms/step - loss: 2.3839e-05\n",
      "Epoch 71/100\n",
      "63/63 [==============================] - 10s 164ms/step - loss: 2.6982e-05\n",
      "Epoch 72/100\n",
      "63/63 [==============================] - 10s 165ms/step - loss: 4.9306e-05\n",
      "Epoch 73/100\n",
      "63/63 [==============================] - 10s 163ms/step - loss: 2.8296e-05\n",
      "Epoch 74/100\n",
      "63/63 [==============================] - 10s 165ms/step - loss: 2.8284e-05\n",
      "Epoch 75/100\n",
      "63/63 [==============================] - 10s 164ms/step - loss: 3.2691e-05\n",
      "Epoch 76/100\n",
      "63/63 [==============================] - 10s 162ms/step - loss: 3.1928e-05\n",
      "Epoch 77/100\n",
      "63/63 [==============================] - 10s 160ms/step - loss: 2.8719e-05\n",
      "Epoch 78/100\n",
      "63/63 [==============================] - 10s 162ms/step - loss: 3.0902e-05\n",
      "Epoch 79/100\n",
      "63/63 [==============================] - 10s 166ms/step - loss: 3.1713e-05\n",
      "Epoch 80/100\n",
      "63/63 [==============================] - 10s 163ms/step - loss: 2.8139e-05\n",
      "Epoch 81/100\n",
      "63/63 [==============================] - 10s 165ms/step - loss: 2.5291e-05\n",
      "Epoch 82/100\n",
      "63/63 [==============================] - 10s 165ms/step - loss: 2.9708e-05\n",
      "Epoch 83/100\n",
      "63/63 [==============================] - 10s 164ms/step - loss: 3.0940e-05\n",
      "Epoch 84/100\n",
      "63/63 [==============================] - 9s 135ms/step - loss: 2.3956e-05\n",
      "Epoch 85/100\n",
      "63/63 [==============================] - 5s 84ms/step - loss: 2.6147e-05\n",
      "Epoch 86/100\n",
      "63/63 [==============================] - 9s 146ms/step - loss: 2.9086e-05\n",
      "Epoch 87/100\n",
      "63/63 [==============================] - 10s 161ms/step - loss: 6.1557e-05\n",
      "Epoch 88/100\n",
      "63/63 [==============================] - 10s 165ms/step - loss: 2.9012e-05\n",
      "Epoch 89/100\n",
      "63/63 [==============================] - 10s 158ms/step - loss: 2.4881e-05\n",
      "Epoch 90/100\n",
      "63/63 [==============================] - 10s 163ms/step - loss: 2.7855e-05\n",
      "Epoch 91/100\n",
      "63/63 [==============================] - 10s 161ms/step - loss: 2.5515e-05\n",
      "Epoch 92/100\n",
      "63/63 [==============================] - 10s 161ms/step - loss: 4.2495e-05\n",
      "Epoch 93/100\n",
      "63/63 [==============================] - 10s 163ms/step - loss: 3.5871e-05\n",
      "Epoch 94/100\n"
     ]
    },
    {
     "name": "stdout",
     "output_type": "stream",
     "text": [
      "63/63 [==============================] - 10s 162ms/step - loss: 2.5719e-05\n",
      "Epoch 95/100\n",
      "63/63 [==============================] - 8s 128ms/step - loss: 2.9996e-05\n",
      "Epoch 96/100\n",
      "63/63 [==============================] - 5s 86ms/step - loss: 3.7425e-05\n",
      "Epoch 97/100\n",
      "63/63 [==============================] - 6s 103ms/step - loss: 3.2095e-05\n",
      "Epoch 98/100\n",
      "63/63 [==============================] - 10s 164ms/step - loss: 3.0207e-05\n",
      "Epoch 99/100\n",
      "63/63 [==============================] - 10s 163ms/step - loss: 3.9003e-05\n",
      "Epoch 100/100\n",
      "63/63 [==============================] - 10s 160ms/step - loss: 2.6324e-05\n"
     ]
    },
    {
     "data": {
      "text/plain": [
       "<keras.callbacks.History at 0x21414b8a108>"
      ]
     },
     "execution_count": 13,
     "metadata": {},
     "output_type": "execute_result"
    }
   ],
   "source": [
    "#train the model\n",
    "model.fit(x_train, y_train, batch_size=32, epochs=EPOCHS)"
   ]
  },
  {
   "cell_type": "code",
   "execution_count": 14,
   "id": "1ffb2cf5",
   "metadata": {
    "id": "1ffb2cf5"
   },
   "outputs": [],
   "source": [
    "#create the testing data set\n",
    "#create a new array containing scaled values from index 1543 to 2003\n",
    "test_data = scaled_data[training_data_len - 60: , :]\n",
    "#create the data sets x_test adn y_test\n",
    "x_test = []\n",
    "y_test = dataset[training_data_len:,:]\n",
    "for i in range(60, len(test_data)):\n",
    "    x_test.append(test_data[i-60:i,0])\n",
    "    \n",
    "    \n"
   ]
  },
  {
   "cell_type": "code",
   "execution_count": 15,
   "id": "e47d88b9",
   "metadata": {
    "id": "e47d88b9"
   },
   "outputs": [],
   "source": [
    "#convert the data to a numpy array\n",
    "x_test = np.array(x_test)"
   ]
  },
  {
   "cell_type": "code",
   "execution_count": 16,
   "id": "ab219d64",
   "metadata": {
    "id": "ab219d64"
   },
   "outputs": [],
   "source": [
    "#resahpe the data\n",
    "x_test = np.reshape(x_test,(x_test.shape[0],x_test.shape[1],1))"
   ]
  },
  {
   "cell_type": "code",
   "execution_count": 17,
   "id": "f0e9563d",
   "metadata": {
    "id": "f0e9563d"
   },
   "outputs": [],
   "source": [
    "#get the models predicted price values\n",
    "predictions = model.predict(x_test)\n",
    "predictions = scaler.inverse_transform(predictions)"
   ]
  },
  {
   "cell_type": "code",
   "execution_count": 18,
   "id": "c366802e",
   "metadata": {
    "id": "c366802e",
    "outputId": "f50b6f6e-e0a7-41fa-ac47-e5623cd84398"
   },
   "outputs": [
    {
     "data": {
      "text/plain": [
       "23.29186487197876"
      ]
     },
     "execution_count": 18,
     "metadata": {},
     "output_type": "execute_result"
    }
   ],
   "source": [
    "#get the root mean squared error (RMSE)\n",
    "rmse =  np.sqrt(np.mean(predictions - y_test)**2)\n",
    "rmse"
   ]
  },
  {
   "cell_type": "code",
   "execution_count": 19,
   "id": "30fda6a3",
   "metadata": {
    "id": "30fda6a3",
    "outputId": "ea646a8d-4c11-4038-aa38-e998e92d3d07"
   },
   "outputs": [
    {
     "name": "stderr",
     "output_type": "stream",
     "text": [
      "C:\\Users\\Abhishek Rao\\AppData\\Local\\Packages\\PythonSoftwareFoundation.Python.3.7_qbz5n2kfra8p0\\LocalCache\\local-packages\\Python37\\site-packages\\ipykernel_launcher.py:4: SettingWithCopyWarning: \n",
      "A value is trying to be set on a copy of a slice from a DataFrame.\n",
      "Try using .loc[row_indexer,col_indexer] = value instead\n",
      "\n",
      "See the caveats in the documentation: https://pandas.pydata.org/pandas-docs/stable/user_guide/indexing.html#returning-a-view-versus-a-copy\n",
      "  after removing the cwd from sys.path.\n"
     ]
    },
    {
     "ename": "KeyError",
     "evalue": "'Close'",
     "output_type": "error",
     "traceback": [
      "\u001b[1;31m---------------------------------------------------------------------------\u001b[0m",
      "\u001b[1;31mKeyError\u001b[0m                                  Traceback (most recent call last)",
      "\u001b[1;32m~\\AppData\\Local\\Packages\\PythonSoftwareFoundation.Python.3.7_qbz5n2kfra8p0\\LocalCache\\local-packages\\Python37\\site-packages\\pandas\\core\\indexes\\base.py\u001b[0m in \u001b[0;36mget_loc\u001b[1;34m(self, key, method, tolerance)\u001b[0m\n\u001b[0;32m   3360\u001b[0m             \u001b[1;32mtry\u001b[0m\u001b[1;33m:\u001b[0m\u001b[1;33m\u001b[0m\u001b[1;33m\u001b[0m\u001b[0m\n\u001b[1;32m-> 3361\u001b[1;33m                 \u001b[1;32mreturn\u001b[0m \u001b[0mself\u001b[0m\u001b[1;33m.\u001b[0m\u001b[0m_engine\u001b[0m\u001b[1;33m.\u001b[0m\u001b[0mget_loc\u001b[0m\u001b[1;33m(\u001b[0m\u001b[0mcasted_key\u001b[0m\u001b[1;33m)\u001b[0m\u001b[1;33m\u001b[0m\u001b[1;33m\u001b[0m\u001b[0m\n\u001b[0m\u001b[0;32m   3362\u001b[0m             \u001b[1;32mexcept\u001b[0m \u001b[0mKeyError\u001b[0m \u001b[1;32mas\u001b[0m \u001b[0merr\u001b[0m\u001b[1;33m:\u001b[0m\u001b[1;33m\u001b[0m\u001b[1;33m\u001b[0m\u001b[0m\n",
      "\u001b[1;32m~\\AppData\\Local\\Packages\\PythonSoftwareFoundation.Python.3.7_qbz5n2kfra8p0\\LocalCache\\local-packages\\Python37\\site-packages\\pandas\\_libs\\index.pyx\u001b[0m in \u001b[0;36mpandas._libs.index.IndexEngine.get_loc\u001b[1;34m()\u001b[0m\n",
      "\u001b[1;32m~\\AppData\\Local\\Packages\\PythonSoftwareFoundation.Python.3.7_qbz5n2kfra8p0\\LocalCache\\local-packages\\Python37\\site-packages\\pandas\\_libs\\index.pyx\u001b[0m in \u001b[0;36mpandas._libs.index.IndexEngine.get_loc\u001b[1;34m()\u001b[0m\n",
      "\u001b[1;32mpandas\\_libs\\hashtable_class_helper.pxi\u001b[0m in \u001b[0;36mpandas._libs.hashtable.PyObjectHashTable.get_item\u001b[1;34m()\u001b[0m\n",
      "\u001b[1;32mpandas\\_libs\\hashtable_class_helper.pxi\u001b[0m in \u001b[0;36mpandas._libs.hashtable.PyObjectHashTable.get_item\u001b[1;34m()\u001b[0m\n",
      "\u001b[1;31mKeyError\u001b[0m: 'Close'",
      "\nThe above exception was the direct cause of the following exception:\n",
      "\u001b[1;31mKeyError\u001b[0m                                  Traceback (most recent call last)",
      "\u001b[1;32m~\\AppData\\Local\\Temp\\ipykernel_13056\\1072636310.py\u001b[0m in \u001b[0;36m<module>\u001b[1;34m\u001b[0m\n\u001b[0;32m      8\u001b[0m \u001b[0mplt\u001b[0m\u001b[1;33m.\u001b[0m\u001b[0mxlabel\u001b[0m\u001b[1;33m(\u001b[0m\u001b[1;34m'Date'\u001b[0m\u001b[1;33m)\u001b[0m\u001b[1;33m\u001b[0m\u001b[1;33m\u001b[0m\u001b[0m\n\u001b[0;32m      9\u001b[0m \u001b[0mplt\u001b[0m\u001b[1;33m.\u001b[0m\u001b[0mylabel\u001b[0m\u001b[1;33m(\u001b[0m\u001b[1;34m'Close Price USD ($)'\u001b[0m\u001b[1;33m)\u001b[0m\u001b[1;33m\u001b[0m\u001b[1;33m\u001b[0m\u001b[0m\n\u001b[1;32m---> 10\u001b[1;33m \u001b[0mplt\u001b[0m\u001b[1;33m.\u001b[0m\u001b[0mplot\u001b[0m\u001b[1;33m(\u001b[0m\u001b[0mtrain\u001b[0m\u001b[1;33m[\u001b[0m\u001b[1;34m'Close'\u001b[0m\u001b[1;33m]\u001b[0m\u001b[1;33m)\u001b[0m\u001b[1;33m\u001b[0m\u001b[1;33m\u001b[0m\u001b[0m\n\u001b[0m\u001b[0;32m     11\u001b[0m \u001b[0mplt\u001b[0m\u001b[1;33m.\u001b[0m\u001b[0mplot\u001b[0m\u001b[1;33m(\u001b[0m\u001b[0mvalid\u001b[0m\u001b[1;33m[\u001b[0m\u001b[1;33m[\u001b[0m\u001b[1;34m'Close'\u001b[0m\u001b[1;33m,\u001b[0m \u001b[1;34m'Predictions'\u001b[0m\u001b[1;33m]\u001b[0m\u001b[1;33m]\u001b[0m\u001b[1;33m)\u001b[0m\u001b[1;33m\u001b[0m\u001b[1;33m\u001b[0m\u001b[0m\n\u001b[0;32m     12\u001b[0m \u001b[0mplt\u001b[0m\u001b[1;33m.\u001b[0m\u001b[0mlegend\u001b[0m\u001b[1;33m(\u001b[0m\u001b[1;33m[\u001b[0m\u001b[1;34m'Train'\u001b[0m\u001b[1;33m,\u001b[0m \u001b[1;34m'Val'\u001b[0m\u001b[1;33m,\u001b[0m \u001b[1;34m'Predictions'\u001b[0m\u001b[1;33m]\u001b[0m\u001b[1;33m,\u001b[0m \u001b[0mloc\u001b[0m\u001b[1;33m=\u001b[0m\u001b[1;34m'lower right'\u001b[0m\u001b[1;33m)\u001b[0m\u001b[1;33m\u001b[0m\u001b[1;33m\u001b[0m\u001b[0m\n",
      "\u001b[1;32m~\\AppData\\Local\\Packages\\PythonSoftwareFoundation.Python.3.7_qbz5n2kfra8p0\\LocalCache\\local-packages\\Python37\\site-packages\\pandas\\core\\frame.py\u001b[0m in \u001b[0;36m__getitem__\u001b[1;34m(self, key)\u001b[0m\n\u001b[0;32m   3456\u001b[0m             \u001b[1;32mif\u001b[0m \u001b[0mself\u001b[0m\u001b[1;33m.\u001b[0m\u001b[0mcolumns\u001b[0m\u001b[1;33m.\u001b[0m\u001b[0mnlevels\u001b[0m \u001b[1;33m>\u001b[0m \u001b[1;36m1\u001b[0m\u001b[1;33m:\u001b[0m\u001b[1;33m\u001b[0m\u001b[1;33m\u001b[0m\u001b[0m\n\u001b[0;32m   3457\u001b[0m                 \u001b[1;32mreturn\u001b[0m \u001b[0mself\u001b[0m\u001b[1;33m.\u001b[0m\u001b[0m_getitem_multilevel\u001b[0m\u001b[1;33m(\u001b[0m\u001b[0mkey\u001b[0m\u001b[1;33m)\u001b[0m\u001b[1;33m\u001b[0m\u001b[1;33m\u001b[0m\u001b[0m\n\u001b[1;32m-> 3458\u001b[1;33m             \u001b[0mindexer\u001b[0m \u001b[1;33m=\u001b[0m \u001b[0mself\u001b[0m\u001b[1;33m.\u001b[0m\u001b[0mcolumns\u001b[0m\u001b[1;33m.\u001b[0m\u001b[0mget_loc\u001b[0m\u001b[1;33m(\u001b[0m\u001b[0mkey\u001b[0m\u001b[1;33m)\u001b[0m\u001b[1;33m\u001b[0m\u001b[1;33m\u001b[0m\u001b[0m\n\u001b[0m\u001b[0;32m   3459\u001b[0m             \u001b[1;32mif\u001b[0m \u001b[0mis_integer\u001b[0m\u001b[1;33m(\u001b[0m\u001b[0mindexer\u001b[0m\u001b[1;33m)\u001b[0m\u001b[1;33m:\u001b[0m\u001b[1;33m\u001b[0m\u001b[1;33m\u001b[0m\u001b[0m\n\u001b[0;32m   3460\u001b[0m                 \u001b[0mindexer\u001b[0m \u001b[1;33m=\u001b[0m \u001b[1;33m[\u001b[0m\u001b[0mindexer\u001b[0m\u001b[1;33m]\u001b[0m\u001b[1;33m\u001b[0m\u001b[1;33m\u001b[0m\u001b[0m\n",
      "\u001b[1;32m~\\AppData\\Local\\Packages\\PythonSoftwareFoundation.Python.3.7_qbz5n2kfra8p0\\LocalCache\\local-packages\\Python37\\site-packages\\pandas\\core\\indexes\\base.py\u001b[0m in \u001b[0;36mget_loc\u001b[1;34m(self, key, method, tolerance)\u001b[0m\n\u001b[0;32m   3361\u001b[0m                 \u001b[1;32mreturn\u001b[0m \u001b[0mself\u001b[0m\u001b[1;33m.\u001b[0m\u001b[0m_engine\u001b[0m\u001b[1;33m.\u001b[0m\u001b[0mget_loc\u001b[0m\u001b[1;33m(\u001b[0m\u001b[0mcasted_key\u001b[0m\u001b[1;33m)\u001b[0m\u001b[1;33m\u001b[0m\u001b[1;33m\u001b[0m\u001b[0m\n\u001b[0;32m   3362\u001b[0m             \u001b[1;32mexcept\u001b[0m \u001b[0mKeyError\u001b[0m \u001b[1;32mas\u001b[0m \u001b[0merr\u001b[0m\u001b[1;33m:\u001b[0m\u001b[1;33m\u001b[0m\u001b[1;33m\u001b[0m\u001b[0m\n\u001b[1;32m-> 3363\u001b[1;33m                 \u001b[1;32mraise\u001b[0m \u001b[0mKeyError\u001b[0m\u001b[1;33m(\u001b[0m\u001b[0mkey\u001b[0m\u001b[1;33m)\u001b[0m \u001b[1;32mfrom\u001b[0m \u001b[0merr\u001b[0m\u001b[1;33m\u001b[0m\u001b[1;33m\u001b[0m\u001b[0m\n\u001b[0m\u001b[0;32m   3364\u001b[0m \u001b[1;33m\u001b[0m\u001b[0m\n\u001b[0;32m   3365\u001b[0m         \u001b[1;32mif\u001b[0m \u001b[0mis_scalar\u001b[0m\u001b[1;33m(\u001b[0m\u001b[0mkey\u001b[0m\u001b[1;33m)\u001b[0m \u001b[1;32mand\u001b[0m \u001b[0misna\u001b[0m\u001b[1;33m(\u001b[0m\u001b[0mkey\u001b[0m\u001b[1;33m)\u001b[0m \u001b[1;32mand\u001b[0m \u001b[1;32mnot\u001b[0m \u001b[0mself\u001b[0m\u001b[1;33m.\u001b[0m\u001b[0mhasnans\u001b[0m\u001b[1;33m:\u001b[0m\u001b[1;33m\u001b[0m\u001b[1;33m\u001b[0m\u001b[0m\n",
      "\u001b[1;31mKeyError\u001b[0m: 'Close'"
     ]
    },
    {
     "data": {
      "image/png": "[encoded data removed]",
      "text/plain": [
       "<Figure size 1152x576 with 1 Axes>"
      ]
     },
     "metadata": {},
     "output_type": "display_data"
    }
   ],
   "source": [
    "#plot the date\n",
    "train = data[:training_data_len]\n",
    "valid = data[training_data_len:]\n",
    "valid['Predictions'] = predictions\n",
    "#visualize the data\n",
    "plt.figure(figsize=(16,8))\n",
    "plt.title('Model')\n",
    "plt.xlabel('Date')\n",
    "plt.ylabel('Close Price USD ($)')\n",
    "plt.plot(train['Close'])\n",
    "plt.plot(valid[['Close', 'Predictions']])\n",
    "plt.legend(['Train', 'Val', 'Predictions'], loc='lower right')\n",
    "plt.show()"
   ]
  },
  {
   "cell_type": "code",
   "execution_count": null,
   "id": "94010774",
   "metadata": {
    "id": "94010774",
    "outputId": "52e5e20d-08d8-4359-96a1-e9c494ef7704"
   },
   "outputs": [],
   "source": [
    "#show the valid and predicted prices\n",
    "valid"
   ]
  },
  {
   "cell_type": "code",
   "execution_count": null,
   "id": "be8deaf4",
   "metadata": {
    "id": "be8deaf4",
    "outputId": "b9b9bea2-8f3f-4d3c-c9f8-88087470817f"
   },
   "outputs": [],
   "source": [
    "#get the Quote\n",
    "stock_quote = web.DataReader(STOCK, data_source = 'yahoo', start=START_DATE, end=END_DATE)\n",
    "#create new data frame\n",
    "new_df = stock_quote.filter(['Open'])\n",
    "#get the last 60 days closing price values and convert the dataframe to an array\n",
    "last_60_days = new_df[-60:].values\n",
    "#scale the data to be values between 0 and 1\n",
    "last_60_days_scaled = scaler.fit_transform(last_60_days)\n",
    "#create the empty list\n",
    "x_test = []\n",
    "#append the past 60 days\n",
    "x_test.append(last_60_days_scaled)\n",
    "#convert the x_test data set to a numpy array\n",
    "x_test = np.array(x_test)\n",
    "x_test = np.reshape(x_test,(x_test.shape[0],x_test.shape[1],1))\n",
    "#get the predicted scaled price\n",
    "pred_price = model.predict(x_test)\n",
    "#undo the scaling\n",
    "pred_price = scaler.inverse_transform(pred_price)\n",
    "print(pred_price)\n"
   ]
  },
  {
   "cell_type": "code",
   "execution_count": null,
   "id": "c2efab6b",
   "metadata": {
    "id": "c2efab6b",
    "outputId": "598b1ec6-771b-46c3-c09e-ab3bad3f1d95"
   },
   "outputs": [],
   "source": [
    "stock_quote2 = web.DataReader(STOCK, data_source = 'yahoo', start=START_DATE, end=PREDICT_DATE)\n",
    "print(stock_quote2['Open'])"
   ]
  },
  {
   "cell_type": "code",
   "execution_count": null,
   "id": "bfd5c96d",
   "metadata": {
    "id": "bfd5c96d"
   },
   "outputs": [],
   "source": [
    "model.save(model_path)\n",
    "loaded_model = load_model(model_path)\n",
    "\n"
   ]
  },
  {
   "cell_type": "code",
   "execution_count": null,
   "id": "d600d6ef",
   "metadata": {},
   "outputs": [],
   "source": [
    "#The Error model\n",
    "nperr = np.array(predictions - y_test)\n",
    "nperr.shape\n",
    "#np.savetxt(error_data,nperr,delimiter=\",\")\n",
    "scaled_error = scaler.fit_transform(nperr)\n",
    "plt.figure(figsize=(25,10))\n",
    "plt.plot(nperr, linewidth=3)\n",
    "x = np.linspace(0, 600, 600)\n",
    "y = np.linspace(0, 0, 600)\n",
    "plt.plot(x,y)\n",
    "plt.title(\"1D error\")\n",
    "plt.show()"
   ]
  },
  {
   "cell_type": "code",
   "execution_count": null,
   "id": "46ecd322",
   "metadata": {},
   "outputs": [],
   "source": [
    "\n",
    "nperr.shape\n",
    "print(type(nperr))\n",
    "training_errdata_len = math.ceil(len(nperr)*0.8)\n",
    "training_errdata_len"
   ]
  },
  {
   "cell_type": "code",
   "execution_count": null,
   "id": "1c224393",
   "metadata": {},
   "outputs": [],
   "source": [
    "#Scale the error data\n",
    "errscaler = MinMaxScaler(feature_range=(0,1))\n",
    "scaled_errdata = errscaler.fit_transform(nperr)\n"
   ]
  },
  {
   "cell_type": "code",
   "execution_count": null,
   "id": "2475fff7",
   "metadata": {},
   "outputs": [],
   "source": [
    "#creating the error training data set\n",
    "#create the scaled error training data set\n",
    "train_errdata = scaled_errdata[0:training_errdata_len,:]\n",
    "#split the data into x_errtrain and y_errtrain data sets\n",
    "x_errtrain = []\n",
    "y_errtrain = []\n",
    "for i in range(60, len(train_errdata)):\n",
    "    x_errtrain.append(train_errdata[i-60:i,0])\n",
    "    y_errtrain.append(train_errdata[i,0])\n",
    "    if i<=61:\n",
    "        print(x_errtrain)\n",
    "        print(y_errtrain)\n",
    "        print()"
   ]
  },
  {
   "cell_type": "code",
   "execution_count": null,
   "id": "b8da2e2d",
   "metadata": {},
   "outputs": [],
   "source": [
    "#Convert the X_errtrain and Y_errtrain to numpy arrays\n",
    "x_errtrain , y_errtrain = np.array(x_errtrain), np.array(y_errtrain)"
   ]
  },
  {
   "cell_type": "code",
   "execution_count": null,
   "id": "7851e3c6",
   "metadata": {},
   "outputs": [],
   "source": [
    "#Reshape the error data\n",
    "x_errtrain = np.reshape(x_errtrain,(x_errtrain.shape[0],x_errtrain.shape[1],1))\n",
    "x_errtrain.shape"
   ]
  },
  {
   "cell_type": "code",
   "execution_count": null,
   "id": "49a7145e",
   "metadata": {},
   "outputs": [],
   "source": [
    "#Building the LSTM error model\n",
    "errmodel = Sequential()\n",
    "errmodel.add(LSTM(50, return_sequences=True, input_shape =(x_errtrain.shape[1],1)))\n",
    "\n",
    "#adding a fourth fifth layer and some Dropout regularistion\n",
    "errmodel.add(LSTM(units = 50, return_sequences = False))\n",
    "\n",
    "errmodel.add(Dense(25))\n",
    "errmodel.add(Dense(1))"
   ]
  },
  {
   "cell_type": "code",
   "execution_count": null,
   "id": "6711f84b",
   "metadata": {},
   "outputs": [],
   "source": [
    "#compile the error Model\n",
    "errmodel.compile(optimizer='adam', loss='mean_squared_error')\n"
   ]
  },
  {
   "cell_type": "code",
   "execution_count": null,
   "id": "30cd8df8",
   "metadata": {},
   "outputs": [],
   "source": [
    "#train the error model\n",
    "errmodel.fit(x_errtrain, y_errtrain, batch_size=32, epochs=ERR_EPOCHS)"
   ]
  },
  {
   "cell_type": "code",
   "execution_count": null,
   "id": "4f9bbdc9",
   "metadata": {},
   "outputs": [],
   "source": [
    "#create the testing error data set\n",
    "#create a new array containing scaled values \n",
    "test_errdata = scaled_errdata[training_errdata_len - 60: , :]\n",
    "#create the data sets x_errtest adn y_errtest\n",
    "x_errtest = []\n",
    "y_errtest = nperr[training_errdata_len:,:]\n",
    "for i in range(60, len(test_errdata)):\n",
    "    x_errtest.append(test_errdata[i-60:i,0])\n"
   ]
  },
  {
   "cell_type": "code",
   "execution_count": null,
   "id": "ede88693",
   "metadata": {},
   "outputs": [],
   "source": [
    "#convert the error data to a numpy array\n",
    "x_errtest = np.array(x_errtest)\n",
    "\n"
   ]
  },
  {
   "cell_type": "code",
   "execution_count": null,
   "id": "fc23830c",
   "metadata": {},
   "outputs": [],
   "source": [
    "#resahpe the error data\n",
    "x_errtest = np.reshape(x_errtest,(x_errtest.shape[0],x_errtest.shape[1],1))\n"
   ]
  },
  {
   "cell_type": "code",
   "execution_count": null,
   "id": "52bd4f69",
   "metadata": {},
   "outputs": [],
   "source": [
    "#get the models predicted error values\n",
    "errpredictions = errmodel.predict(x_errtest)\n",
    "errpredictions = errscaler.inverse_transform(errpredictions)"
   ]
  },
  {
   "cell_type": "code",
   "execution_count": null,
   "id": "a4a0aae7",
   "metadata": {},
   "outputs": [],
   "source": [
    "#get the root mean squared error (RMSE)\n",
    "error2d = []\n",
    "print(errpredictions.shape)\n",
    "error2d.append(errpredictions - y_errtest)\n",
    "nperr2d = np.array(errpredictions - y_errtest)\n",
    "scaled_error2d = errscaler.fit_transform(nperr2d)\n",
    "#print(nperr)\n",
    "plt.figure(figsize=(25,10))\n",
    "plt.plot(scaled_error2d)\n",
    "plt.title('scaled 2D Error')\n",
    "plt.show()\n",
    "rmse2d =  np.sqrt(np.mean(errpredictions - y_errtest)**2)\n",
    "print(rmse2d)\n",
    "#print(errpredictions)"
   ]
  },
  {
   "cell_type": "code",
   "execution_count": null,
   "id": "bf89a420",
   "metadata": {},
   "outputs": [],
   "source": [
    "#plot the error data\n",
    "print(nperr.shape)\n",
    "dfnperr = pd.DataFrame(nperr, columns = ['Error'])\n",
    "dfnperr.to_csv(error_data)\n",
    "errtrain = dfnperr[:training_errdata_len]\n",
    "errvalid = dfnperr[training_errdata_len:]\n",
    "errvalid['Error Predictions'] = errpredictions\n",
    "errvalid['Error2d'] = nperr2d\n",
    "print(errvalid)\n",
    "#visualize the data\n",
    "plt.figure(figsize=(16,8))\n",
    "plt.title('Error Model')\n",
    "plt.xlabel('Date')\n",
    "plt.ylabel('Error Close Price USD ($)')\n",
    "plt.plot(errtrain['Error'])\n",
    "plt.plot(errvalid[['Error', 'Error Predictions']])\n",
    "plt.legend(['Error Train', 'Error Val', ' Error Predictions'], loc='lower right')\n",
    "plt.show()"
   ]
  },
  {
   "cell_type": "code",
   "execution_count": null,
   "id": "e4e298b0",
   "metadata": {},
   "outputs": [],
   "source": [
    "#predict the error\n",
    "last_60_days_error = dfnperr[-60:].values\n",
    "print(last_60_days_error)\n",
    "\n",
    "#scale the data to be values between 0 and 1\n",
    "last_60_days_scaled_error = errscaler.transform(last_60_days_error)\n",
    "\n",
    "\n",
    "#create the empty list\n",
    "x_errtest=[]\n",
    "\n",
    "#append the past 60 days \n",
    "x_errtest.append(last_60_days_scaled_error)\n",
    "\n",
    "#convert the x_test data set to a numpy array\n",
    "x_errtest = np.array(x_errtest)\n",
    "x_errtest = np.reshape(x_errtest,(x_errtest.shape[0],x_errtest.shape[1],1))\n",
    "\n",
    "pred_error = model.predict(x_errtest)\n",
    "\n",
    "#undo the scaling\n",
    "pred_error = errscaler.inverse_transform(pred_error)\n",
    "\n",
    "print(pred_error)\n",
    "\n",
    "dfnperr.tail()"
   ]
  },
  {
   "cell_type": "code",
   "execution_count": null,
   "id": "5006fdb1",
   "metadata": {},
   "outputs": [],
   "source": [
    "print(\"the predicted value with 1D error correction \")\n",
    "print(pred_price[0][0]-pred_error[0][0])"
   ]
  },
  {
   "cell_type": "code",
   "execution_count": null,
   "id": "b666a83a",
   "metadata": {},
   "outputs": [],
   "source": [
    "model.save(error_model_path)\n",
    "loaded_model = load_model(error_model_path)\n"
   ]
  },
  {
   "cell_type": "code",
   "execution_count": null,
   "id": "4851644f",
   "metadata": {
    "scrolled": true
   },
   "outputs": [],
   "source": [
    "stock_quote2 = web.DataReader(STOCK, data_source = 'yahoo', start=START_DATE, end=PREDICT_DATE)\n",
    "print(stock_quote2['Close'])"
   ]
  },
  {
   "cell_type": "code",
   "execution_count": null,
   "id": "f6b07344",
   "metadata": {},
   "outputs": [],
   "source": []
  }
 ],
 "metadata": {
  "colab": {
   "name": "apple stock forecast-checkpoint.ipynb",
   "provenance": []
  },
  "kernelspec": {
   "display_name": "Python 3 (ipykernel)",
   "language": "python",
   "name": "python3"
  },
  "language_info": {
   "codemirror_mode": {
    "name": "ipython",
    "version": 3
   },
   "file_extension": ".py",
   "mimetype": "text/x-python",
   "name": "python",
   "nbconvert_exporter": "python",
   "pygments_lexer": "ipython3",
   "version": "3.7.9"
  }
 },
 "nbformat": 4,
 "nbformat_minor": 5
}
