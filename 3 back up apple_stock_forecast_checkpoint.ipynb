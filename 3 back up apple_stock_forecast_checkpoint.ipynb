{
 "cells": [
  {
   "cell_type": "code",
   "execution_count": 1,
   "id": "119ef146",
   "metadata": {
    "id": "119ef146"
   },
   "outputs": [],
   "source": [
    "#import the libraries\n",
    "import math\n",
    "import pandas_datareader as web\n",
    "import numpy as np\n",
    "from sklearn.preprocessing import MinMaxScaler\n",
    "from keras.models import Sequential\n",
    "from keras.layers import Dense, LSTM\n",
    "import matplotlib.pyplot as plt\n",
    "plt.style.use('fivethirtyeight')"
   ]
  },
  {
   "cell_type": "code",
   "execution_count": 2,
   "id": "021145ee",
   "metadata": {},
   "outputs": [],
   "source": [
    "#MACRO DEF\n",
    "\n",
    "STOCK = 'MSFT'\n",
    "EPOCHS = 50\n",
    "model_path = 'machine learning model/'+STOCK+'_model.pkl'\n",
    "START_DATE = '2012-01-01'\n",
    "END_DATE = '2022-02-24'\n",
    "PREDICT_DATE = '2022-02-24'\n",
    "ERR_EPOCHS = 120"
   ]
  },
  {
   "cell_type": "code",
   "execution_count": 3,
   "id": "0baa4ed2",
   "metadata": {
    "id": "0baa4ed2",
    "outputId": "9b884812-40a4-4562-f722-55f12356c439"
   },
   "outputs": [
    {
     "data": {
      "text/html": [
       "<div>\n",
       "<style scoped>\n",
       "    .dataframe tbody tr th:only-of-type {\n",
       "        vertical-align: middle;\n",
       "    }\n",
       "\n",
       "    .dataframe tbody tr th {\n",
       "        vertical-align: top;\n",
       "    }\n",
       "\n",
       "    .dataframe thead th {\n",
       "        text-align: right;\n",
       "    }\n",
       "</style>\n",
       "<table border=\"1\" class=\"dataframe\">\n",
       "  <thead>\n",
       "    <tr style=\"text-align: right;\">\n",
       "      <th></th>\n",
       "      <th>High</th>\n",
       "      <th>Low</th>\n",
       "      <th>Open</th>\n",
       "      <th>Close</th>\n",
       "      <th>Volume</th>\n",
       "      <th>Adj Close</th>\n",
       "    </tr>\n",
       "    <tr>\n",
       "      <th>Date</th>\n",
       "      <th></th>\n",
       "      <th></th>\n",
       "      <th></th>\n",
       "      <th></th>\n",
       "      <th></th>\n",
       "      <th></th>\n",
       "    </tr>\n",
       "  </thead>\n",
       "  <tbody>\n",
       "    <tr>\n",
       "      <th>2012-01-03</th>\n",
       "      <td>26.959999</td>\n",
       "      <td>26.389999</td>\n",
       "      <td>26.549999</td>\n",
       "      <td>26.770000</td>\n",
       "      <td>64731500.0</td>\n",
       "      <td>21.623131</td>\n",
       "    </tr>\n",
       "    <tr>\n",
       "      <th>2012-01-04</th>\n",
       "      <td>27.469999</td>\n",
       "      <td>26.780001</td>\n",
       "      <td>26.820000</td>\n",
       "      <td>27.400000</td>\n",
       "      <td>80516100.0</td>\n",
       "      <td>22.132013</td>\n",
       "    </tr>\n",
       "    <tr>\n",
       "      <th>2012-01-05</th>\n",
       "      <td>27.730000</td>\n",
       "      <td>27.290001</td>\n",
       "      <td>27.379999</td>\n",
       "      <td>27.680000</td>\n",
       "      <td>56081400.0</td>\n",
       "      <td>22.358173</td>\n",
       "    </tr>\n",
       "    <tr>\n",
       "      <th>2012-01-06</th>\n",
       "      <td>28.190001</td>\n",
       "      <td>27.530001</td>\n",
       "      <td>27.530001</td>\n",
       "      <td>28.110001</td>\n",
       "      <td>99455500.0</td>\n",
       "      <td>22.705502</td>\n",
       "    </tr>\n",
       "    <tr>\n",
       "      <th>2012-01-09</th>\n",
       "      <td>28.100000</td>\n",
       "      <td>27.719999</td>\n",
       "      <td>28.049999</td>\n",
       "      <td>27.740000</td>\n",
       "      <td>59706800.0</td>\n",
       "      <td>22.406637</td>\n",
       "    </tr>\n",
       "    <tr>\n",
       "      <th>...</th>\n",
       "      <td>...</td>\n",
       "      <td>...</td>\n",
       "      <td>...</td>\n",
       "      <td>...</td>\n",
       "      <td>...</td>\n",
       "      <td>...</td>\n",
       "    </tr>\n",
       "    <tr>\n",
       "      <th>2022-02-17</th>\n",
       "      <td>296.799988</td>\n",
       "      <td>290.000000</td>\n",
       "      <td>296.359985</td>\n",
       "      <td>290.730011</td>\n",
       "      <td>32461600.0</td>\n",
       "      <td>290.730011</td>\n",
       "    </tr>\n",
       "    <tr>\n",
       "      <th>2022-02-18</th>\n",
       "      <td>293.859985</td>\n",
       "      <td>286.309998</td>\n",
       "      <td>293.049988</td>\n",
       "      <td>287.929993</td>\n",
       "      <td>34264000.0</td>\n",
       "      <td>287.929993</td>\n",
       "    </tr>\n",
       "    <tr>\n",
       "      <th>2022-02-22</th>\n",
       "      <td>291.540009</td>\n",
       "      <td>284.500000</td>\n",
       "      <td>285.000000</td>\n",
       "      <td>287.720001</td>\n",
       "      <td>41736100.0</td>\n",
       "      <td>287.720001</td>\n",
       "    </tr>\n",
       "    <tr>\n",
       "      <th>2022-02-23</th>\n",
       "      <td>291.700012</td>\n",
       "      <td>280.100006</td>\n",
       "      <td>290.179993</td>\n",
       "      <td>280.269989</td>\n",
       "      <td>37811200.0</td>\n",
       "      <td>280.269989</td>\n",
       "    </tr>\n",
       "    <tr>\n",
       "      <th>2022-02-24</th>\n",
       "      <td>295.160004</td>\n",
       "      <td>271.519989</td>\n",
       "      <td>272.510010</td>\n",
       "      <td>294.589996</td>\n",
       "      <td>56989700.0</td>\n",
       "      <td>294.589996</td>\n",
       "    </tr>\n",
       "  </tbody>\n",
       "</table>\n",
       "<p>2554 rows × 6 columns</p>\n",
       "</div>"
      ],
      "text/plain": [
       "                  High         Low        Open       Close      Volume  \\\n",
       "Date                                                                     \n",
       "2012-01-03   26.959999   26.389999   26.549999   26.770000  64731500.0   \n",
       "2012-01-04   27.469999   26.780001   26.820000   27.400000  80516100.0   \n",
       "2012-01-05   27.730000   27.290001   27.379999   27.680000  56081400.0   \n",
       "2012-01-06   28.190001   27.530001   27.530001   28.110001  99455500.0   \n",
       "2012-01-09   28.100000   27.719999   28.049999   27.740000  59706800.0   \n",
       "...                ...         ...         ...         ...         ...   \n",
       "2022-02-17  296.799988  290.000000  296.359985  290.730011  32461600.0   \n",
       "2022-02-18  293.859985  286.309998  293.049988  287.929993  34264000.0   \n",
       "2022-02-22  291.540009  284.500000  285.000000  287.720001  41736100.0   \n",
       "2022-02-23  291.700012  280.100006  290.179993  280.269989  37811200.0   \n",
       "2022-02-24  295.160004  271.519989  272.510010  294.589996  56989700.0   \n",
       "\n",
       "             Adj Close  \n",
       "Date                    \n",
       "2012-01-03   21.623131  \n",
       "2012-01-04   22.132013  \n",
       "2012-01-05   22.358173  \n",
       "2012-01-06   22.705502  \n",
       "2012-01-09   22.406637  \n",
       "...                ...  \n",
       "2022-02-17  290.730011  \n",
       "2022-02-18  287.929993  \n",
       "2022-02-22  287.720001  \n",
       "2022-02-23  280.269989  \n",
       "2022-02-24  294.589996  \n",
       "\n",
       "[2554 rows x 6 columns]"
      ]
     },
     "execution_count": 3,
     "metadata": {},
     "output_type": "execute_result"
    }
   ],
   "source": [
    "#get the stock data\n",
    "df = web.DataReader(STOCK, data_source='yahoo' , start=START_DATE , end=END_DATE)\n",
    "\n",
    "#show the data\n",
    "df\n"
   ]
  },
  {
   "cell_type": "code",
   "execution_count": 4,
   "id": "8728e389",
   "metadata": {
    "id": "8728e389",
    "outputId": "e7a718db-fa12-4da6-edda-fb36457372bd"
   },
   "outputs": [
    {
     "data": {
      "text/plain": [
       "(2554, 6)"
      ]
     },
     "execution_count": 4,
     "metadata": {},
     "output_type": "execute_result"
    }
   ],
   "source": [
    "#get the number of rows and column in the data set\n",
    "df.shape"
   ]
  },
  {
   "cell_type": "code",
   "execution_count": 5,
   "id": "ede5a4f5",
   "metadata": {
    "id": "ede5a4f5",
    "outputId": "0b002ebf-5dfe-41fe-d4d0-3f53cbffafc7"
   },
   "outputs": [
    {
     "data": {
      "image/png": "[encoded data removed]",
      "text/plain": [
       "<Figure size 1152x576 with 1 Axes>"
      ]
     },
     "metadata": {},
     "output_type": "display_data"
    }
   ],
   "source": [
    "#Visualing the closing price history\n",
    "plt.figure(figsize=(16,8))\n",
    "plt.title('Close Price History')\n",
    "plt.plot(df['Close'])\n",
    "plt.xlabel('Date', fontsize=18)\n",
    "plt.ylabel('Closing Price USD($)', fontsize=18)\n",
    "plt.show()"
   ]
  },
  {
   "cell_type": "code",
   "execution_count": 6,
   "id": "860e4005",
   "metadata": {
    "id": "860e4005",
    "outputId": "3f34f0f3-065f-4c1b-c72a-8c1d7f2ed887"
   },
   "outputs": [
    {
     "data": {
      "text/plain": [
       "2044"
      ]
     },
     "execution_count": 6,
     "metadata": {},
     "output_type": "execute_result"
    }
   ],
   "source": [
    "#Create a new data\n",
    "data = df.filter(['Close'])\n",
    "#convert the dataframe to a numpy array\n",
    "dataset = data.values\n",
    "#get the number of rows to train the model on\n",
    "training_data_len = math.ceil(len(dataset)*.8)\n",
    "training_data_len"
   ]
  },
  {
   "cell_type": "code",
   "execution_count": 7,
   "id": "83ae7dd3",
   "metadata": {
    "id": "83ae7dd3",
    "outputId": "b2b3173d-5c6a-495e-a268-4051931aa6ac"
   },
   "outputs": [
    {
     "data": {
      "text/plain": [
       "array([[0.00126286],\n",
       "       [0.00325187],\n",
       "       [0.00413588],\n",
       "       ...,\n",
       "       [0.82512475],\n",
       "       [0.80160384],\n",
       "       [0.84681445]])"
      ]
     },
     "execution_count": 7,
     "metadata": {},
     "output_type": "execute_result"
    }
   ],
   "source": [
    "#Scale the data\n",
    "scaler = MinMaxScaler(feature_range=(0,1))\n",
    "scaled_data = scaler.fit_transform(dataset)\n",
    "\n",
    "scaled_data"
   ]
  },
  {
   "cell_type": "code",
   "execution_count": 8,
   "id": "22de3219",
   "metadata": {
    "id": "22de3219",
    "outputId": "b1fd5125-11fa-43c5-86bf-d71a87b0857a"
   },
   "outputs": [
    {
     "name": "stdout",
     "output_type": "stream",
     "text": [
      "[array([0.00126286, 0.00325187, 0.00413588, 0.00549346, 0.00432531,\n",
      "       0.00464103, 0.00426217, 0.00514617, 0.00593547, 0.00596704,\n",
      "       0.00587232, 0.00552504, 0.01054492, 0.01060807, 0.00937677,\n",
      "       0.01007135, 0.00988192, 0.00902948, 0.01022921, 0.00997664,\n",
      "       0.01111321, 0.01130265, 0.01221822, 0.01209194, 0.01256551,\n",
      "       0.01354423, 0.01389152, 0.01303908, 0.01329166, 0.01224979,\n",
      "       0.01161836, 0.01553325, 0.01540696, 0.01600682, 0.0154701 ,\n",
      "       0.01578582, 0.0161331 , 0.01572267, 0.0173644 , 0.01695397,\n",
      "       0.01869041, 0.01802741, 0.01714339, 0.01638568, 0.01726968,\n",
      "       0.0178064 , 0.01774326, 0.01790112, 0.01989012, 0.02020585,\n",
      "       0.02045841, 0.01966912, 0.01840626, 0.01774326, 0.01749068,\n",
      "       0.01777483, 0.0178064 , 0.01963756, 0.01941656, 0.01837469])]\n",
      "[0.018153685590104426]\n",
      "\n",
      "[array([0.00126286, 0.00325187, 0.00413588, 0.00549346, 0.00432531,\n",
      "       0.00464103, 0.00426217, 0.00514617, 0.00593547, 0.00596704,\n",
      "       0.00587232, 0.00552504, 0.01054492, 0.01060807, 0.00937677,\n",
      "       0.01007135, 0.00988192, 0.00902948, 0.01022921, 0.00997664,\n",
      "       0.01111321, 0.01130265, 0.01221822, 0.01209194, 0.01256551,\n",
      "       0.01354423, 0.01389152, 0.01303908, 0.01329166, 0.01224979,\n",
      "       0.01161836, 0.01553325, 0.01540696, 0.01600682, 0.0154701 ,\n",
      "       0.01578582, 0.0161331 , 0.01572267, 0.0173644 , 0.01695397,\n",
      "       0.01869041, 0.01802741, 0.01714339, 0.01638568, 0.01726968,\n",
      "       0.0178064 , 0.01774326, 0.01790112, 0.01989012, 0.02020585,\n",
      "       0.02045841, 0.01966912, 0.01840626, 0.01774326, 0.01749068,\n",
      "       0.01777483, 0.0178064 , 0.01963756, 0.01941656, 0.01837469]), array([0.00325187, 0.00413588, 0.00549346, 0.00432531, 0.00464103,\n",
      "       0.00426217, 0.00514617, 0.00593547, 0.00596704, 0.00587232,\n",
      "       0.00552504, 0.01054492, 0.01060807, 0.00937677, 0.01007135,\n",
      "       0.00988192, 0.00902948, 0.01022921, 0.00997664, 0.01111321,\n",
      "       0.01130265, 0.01221822, 0.01209194, 0.01256551, 0.01354423,\n",
      "       0.01389152, 0.01303908, 0.01329166, 0.01224979, 0.01161836,\n",
      "       0.01553325, 0.01540696, 0.01600682, 0.0154701 , 0.01578582,\n",
      "       0.0161331 , 0.01572267, 0.0173644 , 0.01695397, 0.01869041,\n",
      "       0.01802741, 0.01714339, 0.01638568, 0.01726968, 0.0178064 ,\n",
      "       0.01774326, 0.01790112, 0.01989012, 0.02020585, 0.02045841,\n",
      "       0.01966912, 0.01840626, 0.01774326, 0.01749068, 0.01777483,\n",
      "       0.0178064 , 0.01963756, 0.01941656, 0.01837469, 0.01815369])]\n",
      "[0.018153685590104426, 0.01859568658932778]\n",
      "\n"
     ]
    }
   ],
   "source": [
    "#creating the training data set\n",
    "#create the scaled training data set\n",
    "train_data = scaled_data[0:training_data_len,:]\n",
    "#split the data into x_train and y_train data sets\n",
    "x_train = []\n",
    "y_train = []\n",
    "for i in range(60, len(train_data)):\n",
    "    x_train.append(train_data[i-60:i,0])\n",
    "    y_train.append(train_data[i,0])\n",
    "    if i<=61:\n",
    "        print(x_train)\n",
    "        print(y_train)\n",
    "        print()"
   ]
  },
  {
   "cell_type": "code",
   "execution_count": 9,
   "id": "d58092dc",
   "metadata": {
    "id": "d58092dc"
   },
   "outputs": [],
   "source": [
    "#Convert the X_train and Y_train to numpy arrays\n",
    "x_train , y_train = np.array(x_train), np.array(y_train)"
   ]
  },
  {
   "cell_type": "code",
   "execution_count": 10,
   "id": "de162dec",
   "metadata": {
    "id": "de162dec",
    "outputId": "14201c32-f5ea-4645-ae7d-57a36706f4c6"
   },
   "outputs": [
    {
     "data": {
      "text/plain": [
       "(1984, 60, 1)"
      ]
     },
     "execution_count": 10,
     "metadata": {},
     "output_type": "execute_result"
    }
   ],
   "source": [
    "#Reshape the data\n",
    "x_train = np.reshape(x_train,(x_train.shape[0],x_train.shape[1],1))\n",
    "x_train.shape"
   ]
  },
  {
   "cell_type": "code",
   "execution_count": 11,
   "id": "eefcb209",
   "metadata": {
    "id": "eefcb209"
   },
   "outputs": [],
   "source": [
    "#Building the LSTM model\n",
    "model = Sequential()\n",
    "model.add(LSTM(50, return_sequences=True, input_shape =(x_train.shape[1],1)))\n",
    "model.add(LSTM(50, return_sequences=False))\n",
    "model.add(Dense(25))\n",
    "model.add(Dense(1))"
   ]
  },
  {
   "cell_type": "code",
   "execution_count": 12,
   "id": "eeab6098",
   "metadata": {
    "id": "eeab6098"
   },
   "outputs": [],
   "source": [
    "#compile the Model\n",
    "model.compile(optimizer='adam', loss='mean_squared_error')\n"
   ]
  },
  {
   "cell_type": "code",
   "execution_count": 13,
   "id": "8729081e",
   "metadata": {
    "id": "8729081e",
    "outputId": "95c61fc5-cbb8-42a5-a649-7ee43b055955",
    "scrolled": true
   },
   "outputs": [
    {
     "name": "stdout",
     "output_type": "stream",
     "text": [
      "Epoch 1/50\n",
      "62/62 [==============================] - 5s 32ms/step - loss: 0.0023\n",
      "Epoch 2/50\n",
      "62/62 [==============================] - 2s 36ms/step - loss: 3.9822e-05\n",
      "Epoch 3/50\n",
      "62/62 [==============================] - 4s 62ms/step - loss: 3.9009e-05\n",
      "Epoch 4/50\n",
      "62/62 [==============================] - 4s 62ms/step - loss: 3.7707e-05\n",
      "Epoch 5/50\n",
      "62/62 [==============================] - 4s 63ms/step - loss: 4.2435e-05\n",
      "Epoch 6/50\n",
      "62/62 [==============================] - 2s 35ms/step - loss: 3.8475e-05\n",
      "Epoch 7/50\n",
      "62/62 [==============================] - 2s 30ms/step - loss: 3.9679e-05\n",
      "Epoch 8/50\n",
      "62/62 [==============================] - 2s 30ms/step - loss: 4.0010e-05\n",
      "Epoch 9/50\n",
      "62/62 [==============================] - 2s 32ms/step - loss: 4.0213e-05\n",
      "Epoch 10/50\n",
      "62/62 [==============================] - 4s 62ms/step - loss: 4.0135e-05\n",
      "Epoch 11/50\n",
      "62/62 [==============================] - 4s 62ms/step - loss: 4.1885e-05\n",
      "Epoch 12/50\n",
      "62/62 [==============================] - 4s 63ms/step - loss: 3.7931e-05\n",
      "Epoch 13/50\n",
      "62/62 [==============================] - 4s 63ms/step - loss: 3.8458e-05\n",
      "Epoch 14/50\n",
      "62/62 [==============================] - 4s 63ms/step - loss: 3.7811e-05\n",
      "Epoch 15/50\n",
      "62/62 [==============================] - 4s 64ms/step - loss: 3.7527e-05\n",
      "Epoch 16/50\n",
      "62/62 [==============================] - 2s 36ms/step - loss: 3.9808e-05\n",
      "Epoch 17/50\n",
      "62/62 [==============================] - 2s 30ms/step - loss: 4.1424e-05\n",
      "Epoch 18/50\n",
      "62/62 [==============================] - 2s 35ms/step - loss: 4.2292e-05\n",
      "Epoch 19/50\n",
      "62/62 [==============================] - 4s 60ms/step - loss: 3.3152e-05\n",
      "Epoch 20/50\n",
      "62/62 [==============================] - 4s 60ms/step - loss: 4.1179e-05\n",
      "Epoch 21/50\n",
      "62/62 [==============================] - 4s 60ms/step - loss: 3.6401e-05\n",
      "Epoch 22/50\n",
      "62/62 [==============================] - 4s 63ms/step - loss: 3.2410e-05\n",
      "Epoch 23/50\n",
      "62/62 [==============================] - 3s 52ms/step - loss: 3.0938e-05\n",
      "Epoch 24/50\n",
      "62/62 [==============================] - 2s 30ms/step - loss: 4.3652e-05\n",
      "Epoch 25/50\n",
      "62/62 [==============================] - 2s 30ms/step - loss: 3.5003e-05\n",
      "Epoch 26/50\n",
      "62/62 [==============================] - 2s 34ms/step - loss: 3.5194e-05\n",
      "Epoch 27/50\n",
      "62/62 [==============================] - 4s 63ms/step - loss: 3.5566e-05\n",
      "Epoch 28/50\n",
      "62/62 [==============================] - 4s 62ms/step - loss: 3.2259e-05\n",
      "Epoch 29/50\n",
      "62/62 [==============================] - 4s 61ms/step - loss: 3.7120e-05\n",
      "Epoch 30/50\n",
      "62/62 [==============================] - 4s 62ms/step - loss: 3.0941e-05\n",
      "Epoch 31/50\n",
      "62/62 [==============================] - 4s 61ms/step - loss: 3.0221e-05\n",
      "Epoch 32/50\n",
      "62/62 [==============================] - 3s 43ms/step - loss: 3.5043e-05\n",
      "Epoch 33/50\n",
      "62/62 [==============================] - 2s 30ms/step - loss: 2.6343e-05\n",
      "Epoch 34/50\n",
      "62/62 [==============================] - 2s 31ms/step - loss: 2.8854e-05\n",
      "Epoch 35/50\n",
      "62/62 [==============================] - 3s 42ms/step - loss: 2.6493e-05\n",
      "Epoch 36/50\n",
      "62/62 [==============================] - 4s 61ms/step - loss: 3.2417e-05\n",
      "Epoch 37/50\n",
      "62/62 [==============================] - 4s 61ms/step - loss: 3.4323e-05\n",
      "Epoch 38/50\n",
      "62/62 [==============================] - 4s 61ms/step - loss: 4.9693e-05\n",
      "Epoch 39/50\n",
      "62/62 [==============================] - 4s 61ms/step - loss: 2.8226e-05\n",
      "Epoch 40/50\n",
      "62/62 [==============================] - 4s 61ms/step - loss: 2.8026e-05\n",
      "Epoch 41/50\n",
      "62/62 [==============================] - 2s 36ms/step - loss: 2.5256e-05\n",
      "Epoch 42/50\n",
      "62/62 [==============================] - 2s 33ms/step - loss: 2.9762e-05\n",
      "Epoch 43/50\n",
      "62/62 [==============================] - 2s 34ms/step - loss: 3.5490e-05\n",
      "Epoch 44/50\n",
      "62/62 [==============================] - 2s 34ms/step - loss: 3.0698e-05\n",
      "Epoch 45/50\n",
      "62/62 [==============================] - 3s 44ms/step - loss: 2.5457e-05\n",
      "Epoch 46/50\n",
      "62/62 [==============================] - 4s 61ms/step - loss: 3.0183e-05\n",
      "Epoch 47/50\n",
      "62/62 [==============================] - 4s 61ms/step - loss: 2.3354e-05\n",
      "Epoch 48/50\n",
      "62/62 [==============================] - 4s 61ms/step - loss: 2.5643e-05\n",
      "Epoch 49/50\n",
      "62/62 [==============================] - 4s 61ms/step - loss: 3.6949e-05\n",
      "Epoch 50/50\n",
      "62/62 [==============================] - 4s 61ms/step - loss: 2.7478e-05\n"
     ]
    },
    {
     "data": {
      "text/plain": [
       "<keras.callbacks.History at 0x236539a4d88>"
      ]
     },
     "execution_count": 13,
     "metadata": {},
     "output_type": "execute_result"
    }
   ],
   "source": [
    "#train the model\n",
    "model.fit(x_train, y_train, batch_size=32, epochs=EPOCHS)"
   ]
  },
  {
   "cell_type": "code",
   "execution_count": 14,
   "id": "1ffb2cf5",
   "metadata": {
    "id": "1ffb2cf5"
   },
   "outputs": [],
   "source": [
    "#create the testing data set\n",
    "#create a new array containing scaled values from index 1543 to 2003\n",
    "test_data = scaled_data[training_data_len - 60: , :]\n",
    "#create the data sets x_test adn y_test\n",
    "x_test = []\n",
    "y_test = dataset[training_data_len:,:]\n",
    "for i in range(60, len(test_data)):\n",
    "    x_test.append(test_data[i-60:i,0])\n",
    "    \n",
    "    \n"
   ]
  },
  {
   "cell_type": "code",
   "execution_count": 15,
   "id": "e47d88b9",
   "metadata": {
    "id": "e47d88b9"
   },
   "outputs": [],
   "source": [
    "#convert the data to a numpy array\n",
    "x_test = np.array(x_test)"
   ]
  },
  {
   "cell_type": "code",
   "execution_count": 16,
   "id": "ab219d64",
   "metadata": {
    "id": "ab219d64"
   },
   "outputs": [],
   "source": [
    "#resahpe the data\n",
    "x_test = np.reshape(x_test,(x_test.shape[0],x_test.shape[1],1))"
   ]
  },
  {
   "cell_type": "code",
   "execution_count": 17,
   "id": "f0e9563d",
   "metadata": {
    "id": "f0e9563d"
   },
   "outputs": [],
   "source": [
    "#get the models predicted price values\n",
    "predictions = model.predict(x_test)\n",
    "predictions = scaler.inverse_transform(predictions)"
   ]
  },
  {
   "cell_type": "code",
   "execution_count": 18,
   "id": "c366802e",
   "metadata": {
    "id": "c366802e",
    "outputId": "f50b6f6e-e0a7-41fa-ac47-e5623cd84398"
   },
   "outputs": [
    {
     "data": {
      "text/plain": [
       "0.9400206921147365"
      ]
     },
     "execution_count": 18,
     "metadata": {},
     "output_type": "execute_result"
    }
   ],
   "source": [
    "#get the root mean squared error (RMSE)\n",
    "rmse =  np.sqrt(np.mean(predictions - y_test)**2)\n",
    "\n",
    "\n",
    "rmse"
   ]
  },
  {
   "cell_type": "code",
   "execution_count": 19,
   "id": "30fda6a3",
   "metadata": {
    "id": "30fda6a3",
    "outputId": "ea646a8d-4c11-4038-aa38-e998e92d3d07"
   },
   "outputs": [
    {
     "name": "stderr",
     "output_type": "stream",
     "text": [
      "C:\\Users\\Abhishek Rao\\AppData\\Local\\Packages\\PythonSoftwareFoundation.Python.3.7_qbz5n2kfra8p0\\LocalCache\\local-packages\\Python37\\site-packages\\ipykernel_launcher.py:4: SettingWithCopyWarning: \n",
      "A value is trying to be set on a copy of a slice from a DataFrame.\n",
      "Try using .loc[row_indexer,col_indexer] = value instead\n",
      "\n",
      "See the caveats in the documentation: https://pandas.pydata.org/pandas-docs/stable/user_guide/indexing.html#returning-a-view-versus-a-copy\n",
      "  after removing the cwd from sys.path.\n"
     ]
    },
    {
     "data": {
      "image/png": "[encoded data removed]",
      "text/plain": [
       "<Figure size 1152x576 with 1 Axes>"
      ]
     },
     "metadata": {},
     "output_type": "display_data"
    }
   ],
   "source": [
    "#plot the date\n",
    "train = data[:training_data_len]\n",
    "valid = data[training_data_len:]\n",
    "valid['Predictions'] = predictions\n",
    "#visualize the data\n",
    "plt.figure(figsize=(16,8))\n",
    "plt.title('Model')\n",
    "plt.xlabel('Date')\n",
    "plt.ylabel('Close Price USD ($)')\n",
    "plt.plot(train['Close'])\n",
    "plt.plot(valid[['Close', 'Predictions']])\n",
    "plt.legend(['Train', 'Val', 'Predictions'], loc='lower right')\n",
    "plt.show()"
   ]
  },
  {
   "cell_type": "code",
   "execution_count": 20,
   "id": "94010774",
   "metadata": {
    "id": "94010774",
    "outputId": "52e5e20d-08d8-4359-96a1-e9c494ef7704"
   },
   "outputs": [
    {
     "data": {
      "text/html": [
       "<div>\n",
       "<style scoped>\n",
       "    .dataframe tbody tr th:only-of-type {\n",
       "        vertical-align: middle;\n",
       "    }\n",
       "\n",
       "    .dataframe tbody tr th {\n",
       "        vertical-align: top;\n",
       "    }\n",
       "\n",
       "    .dataframe thead th {\n",
       "        text-align: right;\n",
       "    }\n",
       "</style>\n",
       "<table border=\"1\" class=\"dataframe\">\n",
       "  <thead>\n",
       "    <tr style=\"text-align: right;\">\n",
       "      <th></th>\n",
       "      <th>Close</th>\n",
       "      <th>Predictions</th>\n",
       "    </tr>\n",
       "    <tr>\n",
       "      <th>Date</th>\n",
       "      <th></th>\n",
       "      <th></th>\n",
       "    </tr>\n",
       "  </thead>\n",
       "  <tbody>\n",
       "    <tr>\n",
       "      <th>2020-02-19</th>\n",
       "      <td>187.279999</td>\n",
       "      <td>185.328384</td>\n",
       "    </tr>\n",
       "    <tr>\n",
       "      <th>2020-02-20</th>\n",
       "      <td>184.419998</td>\n",
       "      <td>185.866577</td>\n",
       "    </tr>\n",
       "    <tr>\n",
       "      <th>2020-02-21</th>\n",
       "      <td>178.589996</td>\n",
       "      <td>185.696671</td>\n",
       "    </tr>\n",
       "    <tr>\n",
       "      <th>2020-02-24</th>\n",
       "      <td>170.889999</td>\n",
       "      <td>184.015533</td>\n",
       "    </tr>\n",
       "    <tr>\n",
       "      <th>2020-02-25</th>\n",
       "      <td>168.070007</td>\n",
       "      <td>180.440613</td>\n",
       "    </tr>\n",
       "    <tr>\n",
       "      <th>...</th>\n",
       "      <td>...</td>\n",
       "      <td>...</td>\n",
       "    </tr>\n",
       "    <tr>\n",
       "      <th>2022-02-17</th>\n",
       "      <td>290.730011</td>\n",
       "      <td>301.472504</td>\n",
       "    </tr>\n",
       "    <tr>\n",
       "      <th>2022-02-18</th>\n",
       "      <td>287.929993</td>\n",
       "      <td>299.377899</td>\n",
       "    </tr>\n",
       "    <tr>\n",
       "      <th>2022-02-22</th>\n",
       "      <td>287.720001</td>\n",
       "      <td>296.500244</td>\n",
       "    </tr>\n",
       "    <tr>\n",
       "      <th>2022-02-23</th>\n",
       "      <td>280.269989</td>\n",
       "      <td>293.987091</td>\n",
       "    </tr>\n",
       "    <tr>\n",
       "      <th>2022-02-24</th>\n",
       "      <td>294.589996</td>\n",
       "      <td>290.351349</td>\n",
       "    </tr>\n",
       "  </tbody>\n",
       "</table>\n",
       "<p>510 rows × 2 columns</p>\n",
       "</div>"
      ],
      "text/plain": [
       "                 Close  Predictions\n",
       "Date                               \n",
       "2020-02-19  187.279999   185.328384\n",
       "2020-02-20  184.419998   185.866577\n",
       "2020-02-21  178.589996   185.696671\n",
       "2020-02-24  170.889999   184.015533\n",
       "2020-02-25  168.070007   180.440613\n",
       "...                ...          ...\n",
       "2022-02-17  290.730011   301.472504\n",
       "2022-02-18  287.929993   299.377899\n",
       "2022-02-22  287.720001   296.500244\n",
       "2022-02-23  280.269989   293.987091\n",
       "2022-02-24  294.589996   290.351349\n",
       "\n",
       "[510 rows x 2 columns]"
      ]
     },
     "execution_count": 20,
     "metadata": {},
     "output_type": "execute_result"
    }
   ],
   "source": [
    "#show the valid and predicted prices\n",
    "valid"
   ]
  },
  {
   "cell_type": "code",
   "execution_count": 21,
   "id": "be8deaf4",
   "metadata": {
    "id": "be8deaf4",
    "outputId": "b9b9bea2-8f3f-4d3c-c9f8-88087470817f"
   },
   "outputs": [
    {
     "name": "stdout",
     "output_type": "stream",
     "text": [
      "[[290.8072]]\n"
     ]
    }
   ],
   "source": [
    "#get the Quote\n",
    "stock_quote = web.DataReader(STOCK, data_source = 'yahoo', start=START_DATE, end=END_DATE)\n",
    "#create new data frame\n",
    "new_df = stock_quote.filter(['Close'])\n",
    "#get the last 60 days closing price values and convert the dataframe to an array\n",
    "last_60_days = new_df[-60:].values\n",
    "#scale the data to be values between 0 and 1\n",
    "last_60_days_scaled = scaler.transform(last_60_days)\n",
    "#create the empty list\n",
    "x_test = []\n",
    "#append the past 60 days\n",
    "x_test.append(last_60_days_scaled)\n",
    "#convert the x_test data set to a numpy array\n",
    "x_test = np.array(x_test)\n",
    "x_test = np.reshape(x_test,(x_test.shape[0],x_test.shape[1],1))\n",
    "#get the predicted scaled price\n",
    "pred_price = model.predict(x_test)\n",
    "#undo the scaling\n",
    "pred_price = scaler.inverse_transform(pred_price)\n",
    "print(pred_price)\n"
   ]
  },
  {
   "cell_type": "code",
   "execution_count": 22,
   "id": "c2efab6b",
   "metadata": {
    "id": "c2efab6b",
    "outputId": "598b1ec6-771b-46c3-c09e-ab3bad3f1d95"
   },
   "outputs": [
    {
     "name": "stdout",
     "output_type": "stream",
     "text": [
      "Date\n",
      "2022-02-23    160.070007\n",
      "2022-02-24    162.740005\n",
      "Name: Close, dtype: float64\n"
     ]
    }
   ],
   "source": [
    "apple_quote2 = web.DataReader(STOCK, data_source = 'yahoo', start=PREDICT_DATE, end=PREDICT_DATE)\n",
    "print(apple_quote2['Close'])"
   ]
  },
  {
   "cell_type": "code",
   "execution_count": 23,
   "id": "bfd5c96d",
   "metadata": {
    "id": "bfd5c96d"
   },
   "outputs": [
    {
     "name": "stderr",
     "output_type": "stream",
     "text": [
      "WARNING:absl:Found untraced functions such as lstm_cell_layer_call_fn, lstm_cell_layer_call_and_return_conditional_losses, lstm_cell_1_layer_call_fn, lstm_cell_1_layer_call_and_return_conditional_losses while saving (showing 4 of 4). These functions will not be directly callable after loading.\n"
     ]
    },
    {
     "name": "stdout",
     "output_type": "stream",
     "text": [
      "INFO:tensorflow:Assets written to: ram://b80a7e66-e226-43f8-a272-e14d56691fb3/assets\n"
     ]
    },
    {
     "name": "stderr",
     "output_type": "stream",
     "text": [
      "INFO:tensorflow:Assets written to: ram://b80a7e66-e226-43f8-a272-e14d56691fb3/assets\n",
      "WARNING:absl:<keras.layers.recurrent.LSTMCell object at 0x000002365388C208> has the same name 'LSTMCell' as a built-in Keras object. Consider renaming <class 'keras.layers.recurrent.LSTMCell'> to avoid naming conflicts when loading with `tf.keras.models.load_model`. If renaming is not possible, pass the object in the `custom_objects` parameter of the load function.\n",
      "WARNING:absl:<keras.layers.recurrent.LSTMCell object at 0x0000023653431C48> has the same name 'LSTMCell' as a built-in Keras object. Consider renaming <class 'keras.layers.recurrent.LSTMCell'> to avoid naming conflicts when loading with `tf.keras.models.load_model`. If renaming is not possible, pass the object in the `custom_objects` parameter of the load function.\n"
     ]
    },
    {
     "data": {
      "text/plain": [
       "['machine learning model/MSFT_model.pkl']"
      ]
     },
     "execution_count": 23,
     "metadata": {},
     "output_type": "execute_result"
    }
   ],
   "source": [
    "import joblib\n",
    "\n",
    "joblib.dump(model,model_path)\n",
    "    \n"
   ]
  }
 ],
 "metadata": {
  "colab": {
   "name": "apple stock forecast-checkpoint.ipynb",
   "provenance": []
  },
  "kernelspec": {
   "display_name": "Python 3 (ipykernel)",
   "language": "python",
   "name": "python3"
  },
  "language_info": {
   "codemirror_mode": {
    "name": "ipython",
    "version": 3
   },
   "file_extension": ".py",
   "mimetype": "text/x-python",
   "name": "python",
   "nbconvert_exporter": "python",
   "pygments_lexer": "ipython3",
   "version": "3.7.9"
  }
 },
 "nbformat": 4,
 "nbformat_minor": 5
}
