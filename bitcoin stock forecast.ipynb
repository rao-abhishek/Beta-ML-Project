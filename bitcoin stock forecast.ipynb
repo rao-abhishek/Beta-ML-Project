{
 "cells": [
  {
   "cell_type": "code",
   "execution_count": 1,
   "id": "119ef146",
   "metadata": {},
   "outputs": [],
   "source": [
    "#import the libraries\n",
    "import math\n",
    "import pandas_datareader as web\n",
    "import numpy as np\n",
    "from sklearn.preprocessing import MinMaxScaler\n",
    "from keras.models import Sequential\n",
    "from keras.layers import Dense, LSTM ,Dropout\n",
    "import matplotlib.pyplot as plt\n",
    "plt.style.use('fivethirtyeight')"
   ]
  },
  {
   "cell_type": "code",
   "execution_count": 2,
   "id": "0baa4ed2",
   "metadata": {},
   "outputs": [
    {
     "data": {
      "text/html": [
       "<div>\n",
       "<style scoped>\n",
       "    .dataframe tbody tr th:only-of-type {\n",
       "        vertical-align: middle;\n",
       "    }\n",
       "\n",
       "    .dataframe tbody tr th {\n",
       "        vertical-align: top;\n",
       "    }\n",
       "\n",
       "    .dataframe thead th {\n",
       "        text-align: right;\n",
       "    }\n",
       "</style>\n",
       "<table border=\"1\" class=\"dataframe\">\n",
       "  <thead>\n",
       "    <tr style=\"text-align: right;\">\n",
       "      <th></th>\n",
       "      <th>High</th>\n",
       "      <th>Low</th>\n",
       "      <th>Open</th>\n",
       "      <th>Close</th>\n",
       "      <th>Volume</th>\n",
       "      <th>Adj Close</th>\n",
       "    </tr>\n",
       "    <tr>\n",
       "      <th>Date</th>\n",
       "      <th></th>\n",
       "      <th></th>\n",
       "      <th></th>\n",
       "      <th></th>\n",
       "      <th></th>\n",
       "      <th></th>\n",
       "    </tr>\n",
       "  </thead>\n",
       "  <tbody>\n",
       "    <tr>\n",
       "      <th>2014-09-17</th>\n",
       "      <td>468.174011</td>\n",
       "      <td>452.421997</td>\n",
       "      <td>465.864014</td>\n",
       "      <td>457.334015</td>\n",
       "      <td>21056800</td>\n",
       "      <td>457.334015</td>\n",
       "    </tr>\n",
       "    <tr>\n",
       "      <th>2014-09-18</th>\n",
       "      <td>456.859985</td>\n",
       "      <td>413.104004</td>\n",
       "      <td>456.859985</td>\n",
       "      <td>424.440002</td>\n",
       "      <td>34483200</td>\n",
       "      <td>424.440002</td>\n",
       "    </tr>\n",
       "    <tr>\n",
       "      <th>2014-09-19</th>\n",
       "      <td>427.834991</td>\n",
       "      <td>384.532013</td>\n",
       "      <td>424.102997</td>\n",
       "      <td>394.795990</td>\n",
       "      <td>37919700</td>\n",
       "      <td>394.795990</td>\n",
       "    </tr>\n",
       "    <tr>\n",
       "      <th>2014-09-20</th>\n",
       "      <td>423.295990</td>\n",
       "      <td>389.882996</td>\n",
       "      <td>394.673004</td>\n",
       "      <td>408.903992</td>\n",
       "      <td>36863600</td>\n",
       "      <td>408.903992</td>\n",
       "    </tr>\n",
       "    <tr>\n",
       "      <th>2014-09-21</th>\n",
       "      <td>412.425995</td>\n",
       "      <td>393.181000</td>\n",
       "      <td>408.084991</td>\n",
       "      <td>398.821014</td>\n",
       "      <td>26580100</td>\n",
       "      <td>398.821014</td>\n",
       "    </tr>\n",
       "    <tr>\n",
       "      <th>...</th>\n",
       "      <td>...</td>\n",
       "      <td>...</td>\n",
       "      <td>...</td>\n",
       "      <td>...</td>\n",
       "      <td>...</td>\n",
       "      <td>...</td>\n",
       "    </tr>\n",
       "    <tr>\n",
       "      <th>2022-02-25</th>\n",
       "      <td>39630.324219</td>\n",
       "      <td>38111.343750</td>\n",
       "      <td>38333.746094</td>\n",
       "      <td>39214.218750</td>\n",
       "      <td>26545599159</td>\n",
       "      <td>39214.218750</td>\n",
       "    </tr>\n",
       "    <tr>\n",
       "      <th>2022-02-26</th>\n",
       "      <td>40005.347656</td>\n",
       "      <td>38702.535156</td>\n",
       "      <td>39213.082031</td>\n",
       "      <td>39105.148438</td>\n",
       "      <td>17467554129</td>\n",
       "      <td>39105.148438</td>\n",
       "    </tr>\n",
       "    <tr>\n",
       "      <th>2022-02-27</th>\n",
       "      <td>39778.941406</td>\n",
       "      <td>37268.976562</td>\n",
       "      <td>39098.699219</td>\n",
       "      <td>37709.785156</td>\n",
       "      <td>23450127612</td>\n",
       "      <td>37709.785156</td>\n",
       "    </tr>\n",
       "    <tr>\n",
       "      <th>2022-02-28</th>\n",
       "      <td>43760.457031</td>\n",
       "      <td>37518.214844</td>\n",
       "      <td>37706.000000</td>\n",
       "      <td>43193.234375</td>\n",
       "      <td>35690014104</td>\n",
       "      <td>43193.234375</td>\n",
       "    </tr>\n",
       "    <tr>\n",
       "      <th>2022-03-01</th>\n",
       "      <td>44793.601562</td>\n",
       "      <td>42952.585938</td>\n",
       "      <td>43194.503906</td>\n",
       "      <td>44354.636719</td>\n",
       "      <td>32479047645</td>\n",
       "      <td>44354.636719</td>\n",
       "    </tr>\n",
       "  </tbody>\n",
       "</table>\n",
       "<p>2723 rows × 6 columns</p>\n",
       "</div>"
      ],
      "text/plain": [
       "                    High           Low          Open         Close  \\\n",
       "Date                                                                 \n",
       "2014-09-17    468.174011    452.421997    465.864014    457.334015   \n",
       "2014-09-18    456.859985    413.104004    456.859985    424.440002   \n",
       "2014-09-19    427.834991    384.532013    424.102997    394.795990   \n",
       "2014-09-20    423.295990    389.882996    394.673004    408.903992   \n",
       "2014-09-21    412.425995    393.181000    408.084991    398.821014   \n",
       "...                  ...           ...           ...           ...   \n",
       "2022-02-25  39630.324219  38111.343750  38333.746094  39214.218750   \n",
       "2022-02-26  40005.347656  38702.535156  39213.082031  39105.148438   \n",
       "2022-02-27  39778.941406  37268.976562  39098.699219  37709.785156   \n",
       "2022-02-28  43760.457031  37518.214844  37706.000000  43193.234375   \n",
       "2022-03-01  44793.601562  42952.585938  43194.503906  44354.636719   \n",
       "\n",
       "                 Volume     Adj Close  \n",
       "Date                                   \n",
       "2014-09-17     21056800    457.334015  \n",
       "2014-09-18     34483200    424.440002  \n",
       "2014-09-19     37919700    394.795990  \n",
       "2014-09-20     36863600    408.903992  \n",
       "2014-09-21     26580100    398.821014  \n",
       "...                 ...           ...  \n",
       "2022-02-25  26545599159  39214.218750  \n",
       "2022-02-26  17467554129  39105.148438  \n",
       "2022-02-27  23450127612  37709.785156  \n",
       "2022-02-28  35690014104  43193.234375  \n",
       "2022-03-01  32479047645  44354.636719  \n",
       "\n",
       "[2723 rows x 6 columns]"
      ]
     },
     "execution_count": 2,
     "metadata": {},
     "output_type": "execute_result"
    }
   ],
   "source": [
    "#get the stock data\n",
    "df = web.DataReader('BTC-USD', data_source='yahoo' , start='2012-01-01' , end='2022-03-01')\n",
    "\n",
    "#show the data\n",
    "df\n"
   ]
  },
  {
   "cell_type": "code",
   "execution_count": 3,
   "id": "8728e389",
   "metadata": {},
   "outputs": [
    {
     "data": {
      "text/plain": [
       "(2723, 6)"
      ]
     },
     "execution_count": 3,
     "metadata": {},
     "output_type": "execute_result"
    }
   ],
   "source": [
    "#get the number of rows and column in the data set\n",
    "df.shape"
   ]
  },
  {
   "cell_type": "code",
   "execution_count": 4,
   "id": "ede5a4f5",
   "metadata": {},
   "outputs": [
    {
     "data": {
      "image/png": "[encoded data removed]",
      "text/plain": [
       "<Figure size 1152x576 with 1 Axes>"
      ]
     },
     "metadata": {},
     "output_type": "display_data"
    }
   ],
   "source": [
    "#Visualing the closing price history\n",
    "plt.figure(figsize=(16,8))\n",
    "plt.title('Close Price History')\n",
    "plt.plot(df['Close'])\n",
    "plt.xlabel('Date', fontsize=18)\n",
    "plt.ylabel('Closing Price USD($)', fontsize=18)\n",
    "plt.show()"
   ]
  },
  {
   "cell_type": "code",
   "execution_count": 5,
   "id": "860e4005",
   "metadata": {},
   "outputs": [
    {
     "data": {
      "text/plain": [
       "2179"
      ]
     },
     "execution_count": 5,
     "metadata": {},
     "output_type": "execute_result"
    }
   ],
   "source": [
    "#Create a new data\n",
    "data = df.filter(['Close'])\n",
    "#convert the dataframe to a numpy array\n",
    "dataset = data.values\n",
    "#get the number of rows to train the model on\n",
    "training_data_len = math.ceil(len(dataset)*.8)\n",
    "training_data_len"
   ]
  },
  {
   "cell_type": "code",
   "execution_count": 6,
   "id": "83ae7dd3",
   "metadata": {},
   "outputs": [
    {
     "data": {
      "text/plain": [
       "array([[0.00414359],\n",
       "       [0.00365546],\n",
       "       [0.00321557],\n",
       "       ...,\n",
       "       [0.55694305],\n",
       "       [0.63831348],\n",
       "       [0.65554785]])"
      ]
     },
     "execution_count": 6,
     "metadata": {},
     "output_type": "execute_result"
    }
   ],
   "source": [
    "#Scale the data\n",
    "scaler = MinMaxScaler(feature_range=(0,1))\n",
    "scaled_data = scaler.fit_transform(dataset)\n",
    "\n",
    "scaled_data"
   ]
  },
  {
   "cell_type": "code",
   "execution_count": 7,
   "id": "22de3219",
   "metadata": {},
   "outputs": [
    {
     "name": "stdout",
     "output_type": "stream",
     "text": [
      "[array([0.00414359, 0.00365546, 0.00321557, 0.00342492, 0.0032753 ,\n",
      "       0.00332473, 0.0038239 , 0.00363714, 0.00346454, 0.00335845,\n",
      "       0.00328567, 0.00295417, 0.00292874, 0.00309905, 0.00304965,\n",
      "       0.00292288, 0.00269198, 0.00223721, 0.00211322, 0.00225521,\n",
      "       0.00234585, 0.00259445, 0.0027738 , 0.0027224 , 0.00273334,\n",
      "       0.00297447, 0.00315054, 0.0033057 , 0.00321523, 0.00303393,\n",
      "       0.00305177, 0.0031658 , 0.00313766, 0.00303822, 0.00309209,\n",
      "       0.00304287, 0.00267573, 0.00267466, 0.00251033, 0.00262063,\n",
      "       0.00259518, 0.00266387, 0.00233701, 0.00248116, 0.00237752,\n",
      "       0.00219096, 0.00219308, 0.00221774, 0.00226134, 0.00239481,\n",
      "       0.00254029, 0.00243827, 0.00248387, 0.00274766, 0.00280197,\n",
      "       0.00281341, 0.00364242, 0.00360048, 0.00326041, 0.00293862])]\n",
      "[0.0031129686946921404]\n",
      "\n",
      "[array([0.00414359, 0.00365546, 0.00321557, 0.00342492, 0.0032753 ,\n",
      "       0.00332473, 0.0038239 , 0.00363714, 0.00346454, 0.00335845,\n",
      "       0.00328567, 0.00295417, 0.00292874, 0.00309905, 0.00304965,\n",
      "       0.00292288, 0.00269198, 0.00223721, 0.00211322, 0.00225521,\n",
      "       0.00234585, 0.00259445, 0.0027738 , 0.0027224 , 0.00273334,\n",
      "       0.00297447, 0.00315054, 0.0033057 , 0.00321523, 0.00303393,\n",
      "       0.00305177, 0.0031658 , 0.00313766, 0.00303822, 0.00309209,\n",
      "       0.00304287, 0.00267573, 0.00267466, 0.00251033, 0.00262063,\n",
      "       0.00259518, 0.00266387, 0.00233701, 0.00248116, 0.00237752,\n",
      "       0.00219096, 0.00219308, 0.00221774, 0.00226134, 0.00239481,\n",
      "       0.00254029, 0.00243827, 0.00248387, 0.00274766, 0.00280197,\n",
      "       0.00281341, 0.00364242, 0.00360048, 0.00326041, 0.00293862]), array([0.00365546, 0.00321557, 0.00342492, 0.0032753 , 0.00332473,\n",
      "       0.0038239 , 0.00363714, 0.00346454, 0.00335845, 0.00328567,\n",
      "       0.00295417, 0.00292874, 0.00309905, 0.00304965, 0.00292288,\n",
      "       0.00269198, 0.00223721, 0.00211322, 0.00225521, 0.00234585,\n",
      "       0.00259445, 0.0027738 , 0.0027224 , 0.00273334, 0.00297447,\n",
      "       0.00315054, 0.0033057 , 0.00321523, 0.00303393, 0.00305177,\n",
      "       0.0031658 , 0.00313766, 0.00303822, 0.00309209, 0.00304287,\n",
      "       0.00267573, 0.00267466, 0.00251033, 0.00262063, 0.00259518,\n",
      "       0.00266387, 0.00233701, 0.00248116, 0.00237752, 0.00219096,\n",
      "       0.00219308, 0.00221774, 0.00226134, 0.00239481, 0.00254029,\n",
      "       0.00243827, 0.00248387, 0.00274766, 0.00280197, 0.00281341,\n",
      "       0.00364242, 0.00360048, 0.00326041, 0.00293862, 0.00311297])]\n",
      "[0.0031129686946921404, 0.0031059348915962078]\n",
      "\n"
     ]
    }
   ],
   "source": [
    "#creating the training data set\n",
    "#create the scaled training data set\n",
    "train_data = scaled_data[0:training_data_len,:]\n",
    "#split the data into x_train and y_train data sets\n",
    "x_train = []\n",
    "y_train = []\n",
    "for i in range(60, len(train_data)):\n",
    "    x_train.append(train_data[i-60:i,0])\n",
    "    y_train.append(train_data[i,0])\n",
    "    if i<=61:\n",
    "        print(x_train)\n",
    "        print(y_train)\n",
    "        print()"
   ]
  },
  {
   "cell_type": "code",
   "execution_count": 8,
   "id": "d58092dc",
   "metadata": {},
   "outputs": [],
   "source": [
    "#Convert the X_train and Y_train to numpy arrays\n",
    "x_train , y_train = np.array(x_train), np.array(y_train)"
   ]
  },
  {
   "cell_type": "code",
   "execution_count": 9,
   "id": "de162dec",
   "metadata": {},
   "outputs": [
    {
     "data": {
      "text/plain": [
       "(2119, 60, 1)"
      ]
     },
     "execution_count": 9,
     "metadata": {},
     "output_type": "execute_result"
    }
   ],
   "source": [
    "#Reshape the data\n",
    "x_train = np.reshape(x_train,(x_train.shape[0],x_train.shape[1],1))\n",
    "x_train.shape"
   ]
  },
  {
   "cell_type": "code",
   "execution_count": 10,
   "id": "eefcb209",
   "metadata": {},
   "outputs": [],
   "source": [
    "#Building the LSTM model\n",
    "model = Sequential()\n",
    "model.add(LSTM(50, return_sequences=True, input_shape =(x_train.shape[1],1)))\n",
    "\n",
    "#adding a fourth fifth layer and some Dropout regularistion\n",
    "model.add(LSTM(units = 50, return_sequences = False))\n",
    "\n",
    "model.add(Dense(25))\n",
    "model.add(Dense(1))"
   ]
  },
  {
   "cell_type": "code",
   "execution_count": 11,
   "id": "eeab6098",
   "metadata": {},
   "outputs": [],
   "source": [
    "#compile the Model\n",
    "model.compile(optimizer='adam', loss='mean_squared_error')\n"
   ]
  },
  {
   "cell_type": "code",
   "execution_count": 12,
   "id": "febd0e6e",
   "metadata": {},
   "outputs": [
    {
     "data": {
      "text/plain": [
       "\"for i in range(10):\\n    model.fit(x_train, y_train, batch_size=32, epochs=i)\\n    #create the testing data set\\n    #create a new array containing scaled values from index 1543 to 2003\\n    test_data = scaled_data[training_data_len - 60: , :]\\n    #create the data sets x_test adn y_test\\n    x_test = []\\n    y_test = dataset[training_data_len:,:]\\n    for i in range(60, len(test_data)):\\n        x_test.append(test_data[i-60:i,0])\\n    #convert the data to a numpy array\\n    x_test = np.array(x_test)\\n    #resahpe the data\\n    x_test = np.reshape(x_test,(x_test.shape[0],x_test.shape[1],1))\\n    #get the models predicted price values\\n    predictions = model.predict(x_test)\\n    predictions = scaler.inverse_transform(predictions)\\n    #get the root mean squared error (RMSE)\\n    rmse =  np.sqrt(np.mean(predictions - y_test)**2)\\n    print(rmse)\\n    #plot the date\\n    train = data[:training_data_len]\\n    valid = data[training_data_len:]\\n    valid['Predictions'] = predictions\\n    #visualize the data\\n    plt.figure(figsize=(16,8))\\n    plt.title('Model')\\n    plt.xlabel('Date')\\n    plt.ylabel('Close Price USD ($)')\\n    plt.plot(train['Close'])\\n    plt.plot(valid[['Close', 'Predictions']])\\n    plt.legend(['Train', 'Val', 'Predictions'], loc='lower right')\\n    plt.show()\\n    print(valid)\""
      ]
     },
     "execution_count": 12,
     "metadata": {},
     "output_type": "execute_result"
    }
   ],
   "source": [
    "'''for i in range(10):\n",
    "    model.fit(x_train, y_train, batch_size=32, epochs=i)\n",
    "    #create the testing data set\n",
    "    #create a new array containing scaled values from index 1543 to 2003\n",
    "    test_data = scaled_data[training_data_len - 60: , :]\n",
    "    #create the data sets x_test adn y_test\n",
    "    x_test = []\n",
    "    y_test = dataset[training_data_len:,:]\n",
    "    for i in range(60, len(test_data)):\n",
    "        x_test.append(test_data[i-60:i,0])\n",
    "    #convert the data to a numpy array\n",
    "    x_test = np.array(x_test)\n",
    "    #resahpe the data\n",
    "    x_test = np.reshape(x_test,(x_test.shape[0],x_test.shape[1],1))\n",
    "    #get the models predicted price values\n",
    "    predictions = model.predict(x_test)\n",
    "    predictions = scaler.inverse_transform(predictions)\n",
    "    #get the root mean squared error (RMSE)\n",
    "    rmse =  np.sqrt(np.mean(predictions - y_test)**2)\n",
    "    print(rmse)\n",
    "    #plot the date\n",
    "    train = data[:training_data_len]\n",
    "    valid = data[training_data_len:]\n",
    "    valid['Predictions'] = predictions\n",
    "    #visualize the data\n",
    "    plt.figure(figsize=(16,8))\n",
    "    plt.title('Model')\n",
    "    plt.xlabel('Date')\n",
    "    plt.ylabel('Close Price USD ($)')\n",
    "    plt.plot(train['Close'])\n",
    "    plt.plot(valid[['Close', 'Predictions']])\n",
    "    plt.legend(['Train', 'Val', 'Predictions'], loc='lower right')\n",
    "    plt.show()\n",
    "    print(valid)'''\n",
    "    \n",
    "    \n",
    "    \n",
    "\n",
    "    "
   ]
  },
  {
   "cell_type": "code",
   "execution_count": 13,
   "id": "d81f2c4a",
   "metadata": {},
   "outputs": [
    {
     "data": {
      "text/plain": [
       "'rmse=10\\nwhile(rmse>0.1):\\n    #train the model\\n    model.fit(x_train, y_train, batch_size=32, epochs=1)\\n    #create the testing data set\\n    #create a new array containing scaled values from index 1543 to 2003\\n    test_data = scaled_data[training_data_len - 60: , :]\\n    #create the data sets x_test adn y_test\\n    x_test = []\\n    y_test = dataset[training_data_len:,:]\\n    for i in range(60, len(test_data)):\\n        x_test.append(test_data[i-60:i,0])\\n    #convert the data to a numpy array\\n    x_test = np.array(x_test)\\n    #resahpe the data\\n    x_test = np.reshape(x_test,(x_test.shape[0],x_test.shape[1],1))\\n    #get the models predicted price values\\n    predictions = model.predict(x_test)\\n    predictions = scaler.inverse_transform(predictions)\\n    #get the root mean squared error (RMSE)\\n    rmse =  np.sqrt(np.mean(predictions - y_test)**2)\\n    print(rmse)'"
      ]
     },
     "execution_count": 13,
     "metadata": {},
     "output_type": "execute_result"
    }
   ],
   "source": [
    "'''rmse=10\n",
    "while(rmse>0.1):\n",
    "    #train the model\n",
    "    model.fit(x_train, y_train, batch_size=32, epochs=1)\n",
    "    #create the testing data set\n",
    "    #create a new array containing scaled values from index 1543 to 2003\n",
    "    test_data = scaled_data[training_data_len - 60: , :]\n",
    "    #create the data sets x_test adn y_test\n",
    "    x_test = []\n",
    "    y_test = dataset[training_data_len:,:]\n",
    "    for i in range(60, len(test_data)):\n",
    "        x_test.append(test_data[i-60:i,0])\n",
    "    #convert the data to a numpy array\n",
    "    x_test = np.array(x_test)\n",
    "    #resahpe the data\n",
    "    x_test = np.reshape(x_test,(x_test.shape[0],x_test.shape[1],1))\n",
    "    #get the models predicted price values\n",
    "    predictions = model.predict(x_test)\n",
    "    predictions = scaler.inverse_transform(predictions)\n",
    "    #get the root mean squared error (RMSE)\n",
    "    rmse =  np.sqrt(np.mean(predictions - y_test)**2)\n",
    "    print(rmse)'''\n",
    "    \n",
    "    \n"
   ]
  },
  {
   "cell_type": "code",
   "execution_count": 14,
   "id": "8729081e",
   "metadata": {
    "scrolled": true
   },
   "outputs": [
    {
     "name": "stdout",
     "output_type": "stream",
     "text": [
      "Epoch 1/11\n",
      "67/67 [==============================] - 7s 42ms/step - loss: 5.5904e-04\n",
      "Epoch 2/11\n",
      "67/67 [==============================] - 3s 42ms/step - loss: 9.9072e-05\n",
      "Epoch 3/11\n",
      "67/67 [==============================] - 5s 80ms/step - loss: 8.9307e-05\n",
      "Epoch 4/11\n",
      "67/67 [==============================] - 5s 77ms/step - loss: 7.5260e-05\n",
      "Epoch 5/11\n",
      "67/67 [==============================] - 5s 79ms/step - loss: 7.1099e-05\n",
      "Epoch 6/11\n",
      "67/67 [==============================] - 5s 78ms/step - loss: 7.1383e-05\n",
      "Epoch 7/11\n",
      "67/67 [==============================] - 5s 77ms/step - loss: 7.3280e-05\n",
      "Epoch 8/11\n",
      "67/67 [==============================] - 5s 77ms/step - loss: 5.5723e-05\n",
      "Epoch 9/11\n",
      "67/67 [==============================] - 5s 77ms/step - loss: 5.4006e-05\n",
      "Epoch 10/11\n",
      "67/67 [==============================] - 5s 80ms/step - loss: 5.9085e-05\n",
      "Epoch 11/11\n",
      "67/67 [==============================] - 5s 77ms/step - loss: 5.2969e-05\n"
     ]
    },
    {
     "data": {
      "text/plain": [
       "<keras.callbacks.History at 0x13e1b6fd288>"
      ]
     },
     "execution_count": 14,
     "metadata": {},
     "output_type": "execute_result"
    }
   ],
   "source": [
    "#train the model\n",
    "model.fit(x_train, y_train, batch_size=32, epochs=11)"
   ]
  },
  {
   "cell_type": "code",
   "execution_count": 15,
   "id": "1ffb2cf5",
   "metadata": {},
   "outputs": [],
   "source": [
    "#create the testing data set\n",
    "#create a new array containing scaled values from index 1543 to 2003\n",
    "test_data = scaled_data[training_data_len - 60: , :]\n",
    "#create the data sets x_test adn y_test\n",
    "x_test = []\n",
    "y_test = dataset[training_data_len:,:]\n",
    "for i in range(60, len(test_data)):\n",
    "    x_test.append(test_data[i-60:i,0])\n",
    "\n",
    "    \n",
    "    \n"
   ]
  },
  {
   "cell_type": "code",
   "execution_count": 16,
   "id": "e47d88b9",
   "metadata": {},
   "outputs": [],
   "source": [
    "#convert the data to a numpy array\n",
    "x_test = np.array(x_test)"
   ]
  },
  {
   "cell_type": "code",
   "execution_count": 17,
   "id": "ab219d64",
   "metadata": {},
   "outputs": [],
   "source": [
    "#resahpe the data\n",
    "x_test = np.reshape(x_test,(x_test.shape[0],x_test.shape[1],1))"
   ]
  },
  {
   "cell_type": "code",
   "execution_count": 18,
   "id": "f0e9563d",
   "metadata": {},
   "outputs": [],
   "source": [
    "#get the models predicted price values\n",
    "predictions = model.predict(x_test)\n",
    "predictions = scaler.inverse_transform(predictions)"
   ]
  },
  {
   "cell_type": "code",
   "execution_count": 19,
   "id": "c366802e",
   "metadata": {},
   "outputs": [
    {
     "data": {
      "text/plain": [
       "5124.769597670611"
      ]
     },
     "execution_count": 19,
     "metadata": {},
     "output_type": "execute_result"
    }
   ],
   "source": [
    "#get the root mean squared error (RMSE)\n",
    "rmse =  np.sqrt(np.mean(predictions - y_test)**2)\n",
    "rmse"
   ]
  },
  {
   "cell_type": "code",
   "execution_count": 20,
   "id": "30fda6a3",
   "metadata": {},
   "outputs": [
    {
     "name": "stderr",
     "output_type": "stream",
     "text": [
      "C:\\Users\\Abhishek Rao\\AppData\\Local\\Packages\\PythonSoftwareFoundation.Python.3.7_qbz5n2kfra8p0\\LocalCache\\local-packages\\Python37\\site-packages\\ipykernel_launcher.py:4: SettingWithCopyWarning: \n",
      "A value is trying to be set on a copy of a slice from a DataFrame.\n",
      "Try using .loc[row_indexer,col_indexer] = value instead\n",
      "\n",
      "See the caveats in the documentation: https://pandas.pydata.org/pandas-docs/stable/user_guide/indexing.html#returning-a-view-versus-a-copy\n",
      "  after removing the cwd from sys.path.\n"
     ]
    },
    {
     "data": {
      "image/png": "[encoded data removed]",
      "text/plain": [
       "<Figure size 1152x576 with 1 Axes>"
      ]
     },
     "metadata": {},
     "output_type": "display_data"
    }
   ],
   "source": [
    "#plot the date\n",
    "train = data[:training_data_len]\n",
    "valid = data[training_data_len:]\n",
    "valid['Predictions'] = predictions\n",
    "#visualize the data\n",
    "plt.figure(figsize=(16,8))\n",
    "plt.title('Model')\n",
    "plt.xlabel('Date')\n",
    "plt.ylabel('Close Price USD ($)')\n",
    "plt.plot(train['Close'])\n",
    "plt.plot(valid[['Close', 'Predictions']])\n",
    "plt.legend(['Train', 'Val', 'Predictions'], loc='lower right')\n",
    "plt.show()\n"
   ]
  },
  {
   "cell_type": "code",
   "execution_count": 21,
   "id": "94010774",
   "metadata": {},
   "outputs": [
    {
     "data": {
      "text/html": [
       "<div>\n",
       "<style scoped>\n",
       "    .dataframe tbody tr th:only-of-type {\n",
       "        vertical-align: middle;\n",
       "    }\n",
       "\n",
       "    .dataframe tbody tr th {\n",
       "        vertical-align: top;\n",
       "    }\n",
       "\n",
       "    .dataframe thead th {\n",
       "        text-align: right;\n",
       "    }\n",
       "</style>\n",
       "<table border=\"1\" class=\"dataframe\">\n",
       "  <thead>\n",
       "    <tr style=\"text-align: right;\">\n",
       "      <th></th>\n",
       "      <th>Close</th>\n",
       "      <th>Predictions</th>\n",
       "    </tr>\n",
       "    <tr>\n",
       "      <th>Date</th>\n",
       "      <th></th>\n",
       "      <th></th>\n",
       "    </tr>\n",
       "  </thead>\n",
       "  <tbody>\n",
       "    <tr>\n",
       "      <th>2020-09-04</th>\n",
       "      <td>10511.813477</td>\n",
       "      <td>11173.356445</td>\n",
       "    </tr>\n",
       "    <tr>\n",
       "      <th>2020-09-05</th>\n",
       "      <td>10169.567383</td>\n",
       "      <td>10905.559570</td>\n",
       "    </tr>\n",
       "    <tr>\n",
       "      <th>2020-09-06</th>\n",
       "      <td>10280.351562</td>\n",
       "      <td>10595.632812</td>\n",
       "    </tr>\n",
       "    <tr>\n",
       "      <th>2020-09-07</th>\n",
       "      <td>10369.563477</td>\n",
       "      <td>10330.845703</td>\n",
       "    </tr>\n",
       "    <tr>\n",
       "      <th>2020-09-08</th>\n",
       "      <td>10131.516602</td>\n",
       "      <td>10146.846680</td>\n",
       "    </tr>\n",
       "    <tr>\n",
       "      <th>...</th>\n",
       "      <td>...</td>\n",
       "      <td>...</td>\n",
       "    </tr>\n",
       "    <tr>\n",
       "      <th>2022-02-25</th>\n",
       "      <td>39214.218750</td>\n",
       "      <td>32669.404297</td>\n",
       "    </tr>\n",
       "    <tr>\n",
       "      <th>2022-02-26</th>\n",
       "      <td>39105.148438</td>\n",
       "      <td>32900.152344</td>\n",
       "    </tr>\n",
       "    <tr>\n",
       "      <th>2022-02-27</th>\n",
       "      <td>37709.785156</td>\n",
       "      <td>33309.867188</td>\n",
       "    </tr>\n",
       "    <tr>\n",
       "      <th>2022-02-28</th>\n",
       "      <td>43193.234375</td>\n",
       "      <td>33517.960938</td>\n",
       "    </tr>\n",
       "    <tr>\n",
       "      <th>2022-03-01</th>\n",
       "      <td>44354.636719</td>\n",
       "      <td>34611.019531</td>\n",
       "    </tr>\n",
       "  </tbody>\n",
       "</table>\n",
       "<p>544 rows × 2 columns</p>\n",
       "</div>"
      ],
      "text/plain": [
       "                   Close   Predictions\n",
       "Date                                  \n",
       "2020-09-04  10511.813477  11173.356445\n",
       "2020-09-05  10169.567383  10905.559570\n",
       "2020-09-06  10280.351562  10595.632812\n",
       "2020-09-07  10369.563477  10330.845703\n",
       "2020-09-08  10131.516602  10146.846680\n",
       "...                  ...           ...\n",
       "2022-02-25  39214.218750  32669.404297\n",
       "2022-02-26  39105.148438  32900.152344\n",
       "2022-02-27  37709.785156  33309.867188\n",
       "2022-02-28  43193.234375  33517.960938\n",
       "2022-03-01  44354.636719  34611.019531\n",
       "\n",
       "[544 rows x 2 columns]"
      ]
     },
     "execution_count": 21,
     "metadata": {},
     "output_type": "execute_result"
    }
   ],
   "source": [
    "#show the valid and predicted prices\n",
    "valid"
   ]
  },
  {
   "cell_type": "code",
   "execution_count": 34,
   "id": "be8deaf4",
   "metadata": {},
   "outputs": [
    {
     "name": "stdout",
     "output_type": "stream",
     "text": [
      "[[38460.49]]\n"
     ]
    }
   ],
   "source": [
    "#get the Quote\n",
    "apple_quote = web.DataReader('BTC-USD', data_source = 'yahoo', start='2012-01-01', end='2022-03-03')\n",
    "#create new data frame\n",
    "new_df = apple_quote.filter(['Close'])\n",
    "#get the last 60 days closing price values and convert the dataframe to an array\n",
    "last_60_days = new_df[-60:].values\n",
    "#scale the data to be values between 0 and 1\n",
    "last_60_days_scaled = scaler.transform(last_60_days)\n",
    "#create the empty list\n",
    "x_test = []\n",
    "#append the past 60 days\n",
    "x_test.append(last_60_days_scaled)\n",
    "#convert the x_test data set to a numpy array\n",
    "x_test = np.array(x_test)\n",
    "x_test = np.reshape(x_test,(x_test.shape[0],x_test.shape[1],1))\n",
    "#get the predicted scaled price\n",
    "pred_price = model.predict(x_test)\n",
    "#undo the scaling\n",
    "pred_price = scaler.inverse_transform(pred_price)\n",
    "print(pred_price)\n"
   ]
  },
  {
   "cell_type": "code",
   "execution_count": 35,
   "id": "b4ebf954",
   "metadata": {},
   "outputs": [
    {
     "data": {
      "text/plain": [
       "array([[43585.258]], dtype=float32)"
      ]
     },
     "execution_count": 35,
     "metadata": {},
     "output_type": "execute_result"
    }
   ],
   "source": [
    "pred_price + rmse*1.2770"
   ]
  },
  {
   "cell_type": "code",
   "execution_count": 37,
   "id": "c2efab6b",
   "metadata": {},
   "outputs": [
    {
     "name": "stdout",
     "output_type": "stream",
     "text": [
      "Date\n",
      "2022-03-02    43924.117188\n",
      "2022-03-03    42451.789062\n",
      "Name: Close, dtype: float64\n"
     ]
    }
   ],
   "source": [
    "apple_quote2 = web.DataReader('BTC-USD', data_source = 'yahoo', start='2022-03-03', end='2022-03-04')\n",
    "print(apple_quote2['Close'])"
   ]
  },
  {
   "cell_type": "code",
   "execution_count": 24,
   "id": "bfd5c96d",
   "metadata": {},
   "outputs": [
    {
     "name": "stderr",
     "output_type": "stream",
     "text": [
      "WARNING:absl:Found untraced functions such as lstm_cell_layer_call_fn, lstm_cell_layer_call_and_return_conditional_losses, lstm_cell_1_layer_call_fn, lstm_cell_1_layer_call_and_return_conditional_losses while saving (showing 4 of 4). These functions will not be directly callable after loading.\n"
     ]
    },
    {
     "name": "stdout",
     "output_type": "stream",
     "text": [
      "INFO:tensorflow:Assets written to: ram://93505d59-5649-42cd-9695-5111baf05c3d/assets\n"
     ]
    },
    {
     "name": "stderr",
     "output_type": "stream",
     "text": [
      "INFO:tensorflow:Assets written to: ram://93505d59-5649-42cd-9695-5111baf05c3d/assets\n",
      "WARNING:absl:<keras.layers.recurrent.LSTMCell object at 0x0000013E1B64A048> has the same name 'LSTMCell' as a built-in Keras object. Consider renaming <class 'keras.layers.recurrent.LSTMCell'> to avoid naming conflicts when loading with `tf.keras.models.load_model`. If renaming is not possible, pass the object in the `custom_objects` parameter of the load function.\n",
      "WARNING:absl:<keras.layers.recurrent.LSTMCell object at 0x0000013E1B721988> has the same name 'LSTMCell' as a built-in Keras object. Consider renaming <class 'keras.layers.recurrent.LSTMCell'> to avoid naming conflicts when loading with `tf.keras.models.load_model`. If renaming is not possible, pass the object in the `custom_objects` parameter of the load function.\n"
     ]
    },
    {
     "data": {
      "text/plain": [
       "['machine learning model/BTC-USD_model.pkl']"
      ]
     },
     "execution_count": 24,
     "metadata": {},
     "output_type": "execute_result"
    }
   ],
   "source": [
    "import joblib\n",
    "\n",
    "joblib.dump(model,'machine learning model/BTC-USD_model.pkl')\n",
    "    \n"
   ]
  },
  {
   "cell_type": "code",
   "execution_count": 25,
   "id": "d61f3ac3",
   "metadata": {},
   "outputs": [],
   "source": [
    "import winsound\n",
    "frequency = 2500  # Set Frequency To 2500 Hertz\n",
    "duration = 1000  # Set Duration To 1000 ms == 1 second\n",
    "winsound.Beep(frequency, duration)"
   ]
  },
  {
   "cell_type": "code",
   "execution_count": null,
   "id": "c0c6008f",
   "metadata": {},
   "outputs": [],
   "source": []
  }
 ],
 "metadata": {
  "kernelspec": {
   "display_name": "Python 3 (ipykernel)",
   "language": "python",
   "name": "python3"
  },
  "language_info": {
   "codemirror_mode": {
    "name": "ipython",
    "version": 3
   },
   "file_extension": ".py",
   "mimetype": "text/x-python",
   "name": "python",
   "nbconvert_exporter": "python",
   "pygments_lexer": "ipython3",
   "version": "3.7.9"
  }
 },
 "nbformat": 4,
 "nbformat_minor": 5
}
